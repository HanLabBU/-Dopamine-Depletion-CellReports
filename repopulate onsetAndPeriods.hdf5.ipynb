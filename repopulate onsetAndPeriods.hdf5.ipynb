{
 "cells": [
  {
   "cell_type": "code",
   "execution_count": 1,
   "metadata": {},
   "outputs": [],
   "source": [
    "#since noteboke doesn't work in jupiterlabs    %matplotlib notebook \n",
    "%matplotlib notebook\n",
    "%load_ext autoreload\n",
    "%autoreload 2"
   ]
  },
  {
   "cell_type": "code",
   "execution_count": 1,
   "metadata": {},
   "outputs": [],
   "source": [
    "import os\n",
    "os.chdir('/home/dana_z/ssd_2TB/6OHDA')\n",
    "#import mpld3\n",
    "#mpld3.enable_notebook()\n",
    "import numpy as np\n",
    "import scipy as sci\n",
    "from scipy import signal\n",
    "from matplotlib import pyplot as plt\n",
    "from matplotlib import gridspec\n",
    "import matplotlib.colors as Mcolors\n",
    "import matplotlib.cm as cmx\n",
    "import sys\n",
    "import h5py\n",
    "from IO import *\n",
    "from utils import *\n",
    "from plotUtils import *\n",
    "from ColorSchems import colorPallet as CP\n",
    "import pptx\n",
    "from pptx import Presentation \n",
    "from pptx.util import Inches\n",
    "from io import BytesIO\n",
    "import re\n",
    "import warnings\n",
    "import pandas as pd\n",
    "import sqlalchemy as db\n",
    "import gc\n",
    "from tqdm import tqdm\n",
    "import seaborn as sns\n",
    "import pywt # wavelet package"
   ]
  },
  {
   "cell_type": "code",
   "execution_count": 2,
   "metadata": {},
   "outputs": [],
   "source": [
    "Files = ['FinalData_6OHDA.h5','FinalData_6OHDA_H.h5','FinalData_6OHDA_H_skip.h5','FinalData_6OHDA_skip.h5']"
   ]
  },
  {
   "cell_type": "code",
   "execution_count": 3,
   "metadata": {},
   "outputs": [],
   "source": [
    "miceList = getMiceList(Files[0])"
   ]
  },
  {
   "cell_type": "code",
   "execution_count": 5,
   "metadata": {},
   "outputs": [
    {
     "name": "stdout",
     "output_type": "stream",
     "text": [
      "cleaning up speed data\n",
      "0761  hi:  9.093602196045618\n",
      "cleaning up speed data\n",
      "1208  hi:  8.771471533672353\n",
      "cleaning up speed data\n",
      "1222  hi:  5.156689209415026\n",
      "cleaning up speed data\n",
      "1231  hi:  11.618820172401003\n",
      "cleaning up speed data\n",
      "1236  hi:  4.7582281732347065\n",
      "cleaning up speed data\n",
      "1253  hi:  6.589833466357713\n",
      "cleaning up speed data\n",
      "1793  hi:  6.682175945902453\n",
      "cleaning up speed data\n",
      "2976  hi:  3.31284333461864\n",
      "cleaning up speed data\n",
      "2980  hi:  2.454958217734436\n",
      "cleaning up speed data\n",
      "2981  hi:  6.1404716594406485\n",
      "cleaning up speed data\n",
      "4539  hi:  20.02124398644328\n",
      "cleaning up speed data\n",
      "7584  hi:  20.05099337143352\n",
      "cleaning up speed data\n",
      "7909  hi:  19.047091800698265\n",
      "cleaning up speed data\n",
      "8430  hi:  9.830010517302346\n",
      "cleaning up speed data\n",
      "8803  hi:  4.064502492829341\n",
      "cleaning up speed data\n",
      "8815  hi:  5.469190903653327\n"
     ]
    }
   ],
   "source": [
    "speedOnsetPars = {}\n",
    "for m in miceList:\n",
    "    data = getData(Files[0],['speed'],period ='Pre',mice=m, day = lambda x: x==0)\n",
    "    maxSpeed = [];\n",
    "    for sess in data:\n",
    "        speed = smooth(data[sess]['speed']['speed'],20)\n",
    "        maxSpeed.append(np.max(speed))\n",
    "    hi = np.mean(maxSpeed)/4\n",
    "    print(m,' hi: ',hi)\n",
    "    speedOnsetPars[m] = hi"
   ]
  },
  {
   "cell_type": "code",
   "execution_count": 6,
   "metadata": {},
   "outputs": [
    {
     "name": "stdout",
     "output_type": "stream",
     "text": [
      "cleaning up speed data\n",
      "cleaning up speed data\n",
      "I deleted session: 0761_day1\n",
      "I deleted session: 0761_day10\n",
      "I deleted session: 0761_day12\n",
      "I deleted session: 0761_day2\n",
      "I deleted session: 0761_day4\n",
      "I deleted session: 0761_day6\n",
      "I deleted session: 0761_day8\n",
      "cleaning up speed data\n",
      "cleaning up speed data\n",
      "I deleted session: 1208_day10\n",
      "I deleted session: 1208_day12\n",
      "I deleted session: 1208_day14\n",
      "I deleted session: 1208_day2\n",
      "I deleted session: 1208_day4\n",
      "I deleted session: 1208_day6\n",
      "I deleted session: 1208_day8\n",
      "cleaning up speed data\n",
      "cleaning up speed data\n",
      "I deleted session: 1222_day11\n",
      "I deleted session: 1222_day13\n",
      "I deleted session: 1222_day2\n",
      "I deleted session: 1222_day3\n",
      "I deleted session: 1222_day5\n",
      "I deleted session: 1222_day7\n",
      "I deleted session: 1222_day9\n",
      "cleaning up speed data\n",
      "cleaning up speed data\n",
      "cleaning up speed data\n",
      "cleaning up speed data\n",
      "I deleted session: 1236_day1\n",
      "I deleted session: 1236_day11\n",
      "I deleted session: 1236_day13\n",
      "I deleted session: 1236_day3\n",
      "I deleted session: 1236_day5\n",
      "I deleted session: 1236_day7\n",
      "I deleted session: 1236_day9\n",
      "cleaning up speed data\n",
      "cleaning up speed data\n",
      "cleaning up speed data\n",
      "cleaning up speed data\n",
      "I deleted session: 1793_day10\n",
      "I deleted session: 1793_day12\n",
      "I deleted session: 1793_day14\n",
      "I deleted session: 1793_day2\n",
      "I deleted session: 1793_day4\n",
      "I deleted session: 1793_day6\n",
      "I deleted session: 1793_day8\n",
      "cleaning up speed data\n",
      "cleaning up speed data\n",
      "I deleted session: 2976_day10\n",
      "I deleted session: 2976_day12\n",
      "I deleted session: 2976_day14\n",
      "I deleted session: 2976_day2\n",
      "I deleted session: 2976_day4\n",
      "I deleted session: 2976_day6\n",
      "I deleted session: 2976_day8\n",
      "cleaning up speed data\n",
      "cleaning up speed data\n",
      "I deleted session: 2980_day10\n",
      "I deleted session: 2980_day12\n",
      "I deleted session: 2980_day14\n",
      "I deleted session: 2980_day2\n",
      "I deleted session: 2980_day4\n",
      "I deleted session: 2980_day6\n",
      "I deleted session: 2980_day8\n",
      "cleaning up speed data\n",
      "cleaning up speed data\n",
      "I deleted session: 2981_day10\n",
      "I deleted session: 2981_day12\n",
      "I deleted session: 2981_day14\n",
      "I deleted session: 2981_day2\n",
      "I deleted session: 2981_day4\n",
      "I deleted session: 2981_day6\n",
      "I deleted session: 2981_day8\n",
      "cleaning up speed data\n",
      "cleaning up speed data\n",
      "I deleted session: 4539_day0\n",
      "I deleted session: 4539_day1\n",
      "I deleted session: 4539_day10\n",
      "I deleted session: 4539_day11\n",
      "I deleted session: 4539_day12\n",
      "I deleted session: 4539_day13\n",
      "I deleted session: 4539_day14\n",
      "I deleted session: 4539_day2\n",
      "I deleted session: 4539_day3\n",
      "I deleted session: 4539_day4\n",
      "I deleted session: 4539_day5\n",
      "I deleted session: 4539_day6\n",
      "I deleted session: 4539_day7\n",
      "I deleted session: 4539_day8\n",
      "I deleted session: 4539_day9\n",
      "cleaning up speed data\n",
      "cleaning up speed data\n",
      "I deleted session: 7584_Baseline0\n",
      "I deleted session: 7584_day0\n",
      "I deleted session: 7584_day1\n",
      "I deleted session: 7584_day10\n",
      "I deleted session: 7584_day11\n",
      "I deleted session: 7584_day12\n",
      "I deleted session: 7584_day15\n",
      "I deleted session: 7584_day2\n",
      "I deleted session: 7584_day3\n",
      "I deleted session: 7584_day4\n",
      "I deleted session: 7584_day5\n",
      "I deleted session: 7584_day6\n",
      "I deleted session: 7584_day7\n",
      "I deleted session: 7584_day8\n",
      "I deleted session: 7584_day9\n",
      "cleaning up speed data\n",
      "cleaning up speed data\n",
      "I deleted session: 7909_day0\n",
      "I deleted session: 7909_day1\n",
      "I deleted session: 7909_day10\n",
      "I deleted session: 7909_day11\n",
      "I deleted session: 7909_day12\n",
      "I deleted session: 7909_day13\n",
      "I deleted session: 7909_day14\n",
      "I deleted session: 7909_day2\n",
      "I deleted session: 7909_day3\n",
      "I deleted session: 7909_day4\n",
      "I deleted session: 7909_day5\n",
      "I deleted session: 7909_day6\n",
      "I deleted session: 7909_day7\n",
      "I deleted session: 7909_day8\n",
      "I deleted session: 7909_day9\n",
      "cleaning up speed data\n",
      "cleaning up speed data\n",
      "I deleted session: 8430_day1\n",
      "I deleted session: 8430_day11\n",
      "I deleted session: 8430_day3\n",
      "I deleted session: 8430_day5\n",
      "I deleted session: 8430_day7\n",
      "I deleted session: 8430_day9\n",
      "cleaning up speed data\n",
      "cleaning up speed data\n",
      "I deleted session: 8803_day10\n",
      "I deleted session: 8803_day12\n",
      "I deleted session: 8803_day14\n",
      "I deleted session: 8803_day2\n",
      "I deleted session: 8803_day4\n",
      "I deleted session: 8803_day5\n",
      "I deleted session: 8803_day6\n",
      "I deleted session: 8803_day8\n",
      "cleaning up speed data\n",
      "cleaning up speed data\n",
      "I deleted session: 8815_day10\n",
      "I deleted session: 8815_day12\n",
      "I deleted session: 8815_day14\n",
      "I deleted session: 8815_day2\n",
      "I deleted session: 8815_day4\n",
      "I deleted session: 8815_day6\n",
      "I deleted session: 8815_day8\n"
     ]
    }
   ],
   "source": [
    "# create hdf5 file with all the mice and mvmt Onset\n",
    "f = h5py.File('OnsetsAndPeriods.hdf5','a')\n",
    "\n",
    "hiWin=20 \n",
    "thWin=40\n",
    "th_strong = 1\n",
    "shift=2\n",
    "\n",
    "miceList = speedOnsetPars.keys()\n",
    "for m in miceList:\n",
    "    grp = f.create_group(m)\n",
    "    sgrp = grp.create_group('mvmtOnset_params')\n",
    "    sgrp.attrs['hi'] = speedOnsetPars[m]\n",
    "    sgrp.attrs['th_weak'] = np.min([3.3, speedOnsetPars[m]/2.5])\n",
    "    sgrp.attrs['hiWin'] = hiWin\n",
    "    sgrp.attrs['thWin'] = thWin\n",
    "    sgrp.attrs['th_strong'] = th_strong\n",
    "    sgrp.attrs['shift'] = shift\n",
    "    data_pre = getData(Files[0],['speed'],period ='Pre', mice=m)\n",
    "    data_post = getData(Files[0],['speed'],period ='Post', mice=m)\n",
    "    days = np.zeros(len(data_pre))\n",
    "    ind = 0\n",
    "    # sort by session for my own OCD\n",
    "    for sess in data_pre:\n",
    "        if sess[5] == 'B':\n",
    "            day = 0\n",
    "        else:\n",
    "            day = int(re.findall(r'\\d+',sess[5:])[0])\n",
    "        days[ind] = day\n",
    "        ind= ind+1\n",
    "    a = np.argsort(days)\n",
    "    dKeys = list(data_pre.keys())\n",
    "    # calculte high speed period, do 3 sessions per plot, and stor in ppt\n",
    "    ind = 0;\n",
    "    hi = sgrp.attrs['hi']\n",
    "    th_weak = sgrp.attrs['th_weak']\n",
    "    for aa in range(0,len(data_pre)):\n",
    "        sess = dKeys[a[aa]]\n",
    "        speed = data_pre[sess]['speed']['speed']\n",
    "        speed = speed.T\n",
    "        sOnset = FindMvmtOnset2(speed, th_weak,th_strong ,hi,hiWin,thWin,shift)\n",
    "        subgrp = grp.create_group(sess)\n",
    "        ssubgrp = subgrp.create_group('Pre')\n",
    "        ssubgrp['mvmtOnset'] = sOnset\n",
    "        if sess in data_post.keys():\n",
    "            speed = data_post[sess]['speed']['speed']\n",
    "            speed = speed.T\n",
    "            sOnset = FindMvmtOnset2(speed, th_weak,th_strong ,hi,hiWin,thWin,shift)\n",
    "            spsubgrp = subgrp.create_group('Post')\n",
    "            spsubgrp['mvmtOnset'] = sOnset\n",
    "        \n",
    "f.close()   "
   ]
  },
  {
   "cell_type": "code",
   "execution_count": 7,
   "metadata": {},
   "outputs": [
    {
     "name": "stdout",
     "output_type": "stream",
     "text": [
      "cleaning up speed data\n",
      "0761  hth:  7.2748817568364945  lth:  3.6374408784182473\n",
      "cleaning up speed data\n",
      "1208  hth:  7.017177226937882  lth:  3.508588613468941\n",
      "cleaning up speed data\n",
      "1222  hth:  4.125351367532021  lth:  2.0626756837660105\n",
      "cleaning up speed data\n",
      "1231  hth:  9.295056137920803  lth:  4.647528068960401\n",
      "cleaning up speed data\n",
      "1236  hth:  3.806582538587765  lth:  1.9032912692938826\n",
      "cleaning up speed data\n",
      "1253  hth:  5.27186677308617  lth:  2.635933386543085\n",
      "cleaning up speed data\n",
      "1793  hth:  5.345740756721963  lth:  2.6728703783609813\n",
      "cleaning up speed data\n",
      "2976  hth:  2.650274667694912  lth:  1.325137333847456\n",
      "cleaning up speed data\n",
      "2980  hth:  1.9639665741875487  lth:  0.9819832870937744\n",
      "cleaning up speed data\n",
      "2981  hth:  4.912377327552519  lth:  2.4561886637762593\n",
      "cleaning up speed data\n",
      "4539  hth:  16.016995189154624  lth:  8.008497594577312\n",
      "cleaning up speed data\n",
      "7584  hth:  16.040794697146815  lth:  8.020397348573407\n",
      "cleaning up speed data\n",
      "7909  hth:  15.237673440558613  lth:  7.618836720279306\n",
      "cleaning up speed data\n",
      "8430  hth:  7.864008413841877  lth:  3.9320042069209387\n",
      "cleaning up speed data\n",
      "8803  hth:  3.251601994263473  lth:  1.6258009971317364\n",
      "cleaning up speed data\n",
      "8815  hth:  4.375352722922662  lth:  2.187676361461331\n"
     ]
    }
   ],
   "source": [
    "highSpeedPeriodsPars = {}\n",
    "for m in miceList:\n",
    "    data = getData(Files[0],['speed'],period ='Pre',mice=m, day = lambda x: x==0)\n",
    "    maxSpeed = [];\n",
    "    for sess in data:\n",
    "        speed = smooth(data[sess]['speed']['speed'],20)\n",
    "        maxSpeed.append(np.max(speed))\n",
    "    hth = np.mean(maxSpeed)/5\n",
    "    lth = np.mean(maxSpeed)/10\n",
    "    print(m,' hth: ',hth,' lth: ',lth)\n",
    "    highSpeedPeriodsPars[m] = {'hth':hth,'lth':lth}"
   ]
  },
  {
   "cell_type": "code",
   "execution_count": 8,
   "metadata": {},
   "outputs": [
    {
     "data": {
      "application/javascript": [
       "/* Put everything inside the global mpl namespace */\n",
       "window.mpl = {};\n",
       "\n",
       "\n",
       "mpl.get_websocket_type = function() {\n",
       "    if (typeof(WebSocket) !== 'undefined') {\n",
       "        return WebSocket;\n",
       "    } else if (typeof(MozWebSocket) !== 'undefined') {\n",
       "        return MozWebSocket;\n",
       "    } else {\n",
       "        alert('Your browser does not have WebSocket support.' +\n",
       "              'Please try Chrome, Safari or Firefox ≥ 6. ' +\n",
       "              'Firefox 4 and 5 are also supported but you ' +\n",
       "              'have to enable WebSockets in about:config.');\n",
       "    };\n",
       "}\n",
       "\n",
       "mpl.figure = function(figure_id, websocket, ondownload, parent_element) {\n",
       "    this.id = figure_id;\n",
       "\n",
       "    this.ws = websocket;\n",
       "\n",
       "    this.supports_binary = (this.ws.binaryType != undefined);\n",
       "\n",
       "    if (!this.supports_binary) {\n",
       "        var warnings = document.getElementById(\"mpl-warnings\");\n",
       "        if (warnings) {\n",
       "            warnings.style.display = 'block';\n",
       "            warnings.textContent = (\n",
       "                \"This browser does not support binary websocket messages. \" +\n",
       "                    \"Performance may be slow.\");\n",
       "        }\n",
       "    }\n",
       "\n",
       "    this.imageObj = new Image();\n",
       "\n",
       "    this.context = undefined;\n",
       "    this.message = undefined;\n",
       "    this.canvas = undefined;\n",
       "    this.rubberband_canvas = undefined;\n",
       "    this.rubberband_context = undefined;\n",
       "    this.format_dropdown = undefined;\n",
       "\n",
       "    this.image_mode = 'full';\n",
       "\n",
       "    this.root = $('<div/>');\n",
       "    this._root_extra_style(this.root)\n",
       "    this.root.attr('style', 'display: inline-block');\n",
       "\n",
       "    $(parent_element).append(this.root);\n",
       "\n",
       "    this._init_header(this);\n",
       "    this._init_canvas(this);\n",
       "    this._init_toolbar(this);\n",
       "\n",
       "    var fig = this;\n",
       "\n",
       "    this.waiting = false;\n",
       "\n",
       "    this.ws.onopen =  function () {\n",
       "            fig.send_message(\"supports_binary\", {value: fig.supports_binary});\n",
       "            fig.send_message(\"send_image_mode\", {});\n",
       "            if (mpl.ratio != 1) {\n",
       "                fig.send_message(\"set_dpi_ratio\", {'dpi_ratio': mpl.ratio});\n",
       "            }\n",
       "            fig.send_message(\"refresh\", {});\n",
       "        }\n",
       "\n",
       "    this.imageObj.onload = function() {\n",
       "            if (fig.image_mode == 'full') {\n",
       "                // Full images could contain transparency (where diff images\n",
       "                // almost always do), so we need to clear the canvas so that\n",
       "                // there is no ghosting.\n",
       "                fig.context.clearRect(0, 0, fig.canvas.width, fig.canvas.height);\n",
       "            }\n",
       "            fig.context.drawImage(fig.imageObj, 0, 0);\n",
       "        };\n",
       "\n",
       "    this.imageObj.onunload = function() {\n",
       "        fig.ws.close();\n",
       "    }\n",
       "\n",
       "    this.ws.onmessage = this._make_on_message_function(this);\n",
       "\n",
       "    this.ondownload = ondownload;\n",
       "}\n",
       "\n",
       "mpl.figure.prototype._init_header = function() {\n",
       "    var titlebar = $(\n",
       "        '<div class=\"ui-dialog-titlebar ui-widget-header ui-corner-all ' +\n",
       "        'ui-helper-clearfix\"/>');\n",
       "    var titletext = $(\n",
       "        '<div class=\"ui-dialog-title\" style=\"width: 100%; ' +\n",
       "        'text-align: center; padding: 3px;\"/>');\n",
       "    titlebar.append(titletext)\n",
       "    this.root.append(titlebar);\n",
       "    this.header = titletext[0];\n",
       "}\n",
       "\n",
       "\n",
       "\n",
       "mpl.figure.prototype._canvas_extra_style = function(canvas_div) {\n",
       "\n",
       "}\n",
       "\n",
       "\n",
       "mpl.figure.prototype._root_extra_style = function(canvas_div) {\n",
       "\n",
       "}\n",
       "\n",
       "mpl.figure.prototype._init_canvas = function() {\n",
       "    var fig = this;\n",
       "\n",
       "    var canvas_div = $('<div/>');\n",
       "\n",
       "    canvas_div.attr('style', 'position: relative; clear: both; outline: 0');\n",
       "\n",
       "    function canvas_keyboard_event(event) {\n",
       "        return fig.key_event(event, event['data']);\n",
       "    }\n",
       "\n",
       "    canvas_div.keydown('key_press', canvas_keyboard_event);\n",
       "    canvas_div.keyup('key_release', canvas_keyboard_event);\n",
       "    this.canvas_div = canvas_div\n",
       "    this._canvas_extra_style(canvas_div)\n",
       "    this.root.append(canvas_div);\n",
       "\n",
       "    var canvas = $('<canvas/>');\n",
       "    canvas.addClass('mpl-canvas');\n",
       "    canvas.attr('style', \"left: 0; top: 0; z-index: 0; outline: 0\")\n",
       "\n",
       "    this.canvas = canvas[0];\n",
       "    this.context = canvas[0].getContext(\"2d\");\n",
       "\n",
       "    var backingStore = this.context.backingStorePixelRatio ||\n",
       "\tthis.context.webkitBackingStorePixelRatio ||\n",
       "\tthis.context.mozBackingStorePixelRatio ||\n",
       "\tthis.context.msBackingStorePixelRatio ||\n",
       "\tthis.context.oBackingStorePixelRatio ||\n",
       "\tthis.context.backingStorePixelRatio || 1;\n",
       "\n",
       "    mpl.ratio = (window.devicePixelRatio || 1) / backingStore;\n",
       "\n",
       "    var rubberband = $('<canvas/>');\n",
       "    rubberband.attr('style', \"position: absolute; left: 0; top: 0; z-index: 1;\")\n",
       "\n",
       "    var pass_mouse_events = true;\n",
       "\n",
       "    canvas_div.resizable({\n",
       "        start: function(event, ui) {\n",
       "            pass_mouse_events = false;\n",
       "        },\n",
       "        resize: function(event, ui) {\n",
       "            fig.request_resize(ui.size.width, ui.size.height);\n",
       "        },\n",
       "        stop: function(event, ui) {\n",
       "            pass_mouse_events = true;\n",
       "            fig.request_resize(ui.size.width, ui.size.height);\n",
       "        },\n",
       "    });\n",
       "\n",
       "    function mouse_event_fn(event) {\n",
       "        if (pass_mouse_events)\n",
       "            return fig.mouse_event(event, event['data']);\n",
       "    }\n",
       "\n",
       "    rubberband.mousedown('button_press', mouse_event_fn);\n",
       "    rubberband.mouseup('button_release', mouse_event_fn);\n",
       "    // Throttle sequential mouse events to 1 every 20ms.\n",
       "    rubberband.mousemove('motion_notify', mouse_event_fn);\n",
       "\n",
       "    rubberband.mouseenter('figure_enter', mouse_event_fn);\n",
       "    rubberband.mouseleave('figure_leave', mouse_event_fn);\n",
       "\n",
       "    canvas_div.on(\"wheel\", function (event) {\n",
       "        event = event.originalEvent;\n",
       "        event['data'] = 'scroll'\n",
       "        if (event.deltaY < 0) {\n",
       "            event.step = 1;\n",
       "        } else {\n",
       "            event.step = -1;\n",
       "        }\n",
       "        mouse_event_fn(event);\n",
       "    });\n",
       "\n",
       "    canvas_div.append(canvas);\n",
       "    canvas_div.append(rubberband);\n",
       "\n",
       "    this.rubberband = rubberband;\n",
       "    this.rubberband_canvas = rubberband[0];\n",
       "    this.rubberband_context = rubberband[0].getContext(\"2d\");\n",
       "    this.rubberband_context.strokeStyle = \"#000000\";\n",
       "\n",
       "    this._resize_canvas = function(width, height) {\n",
       "        // Keep the size of the canvas, canvas container, and rubber band\n",
       "        // canvas in synch.\n",
       "        canvas_div.css('width', width)\n",
       "        canvas_div.css('height', height)\n",
       "\n",
       "        canvas.attr('width', width * mpl.ratio);\n",
       "        canvas.attr('height', height * mpl.ratio);\n",
       "        canvas.attr('style', 'width: ' + width + 'px; height: ' + height + 'px;');\n",
       "\n",
       "        rubberband.attr('width', width);\n",
       "        rubberband.attr('height', height);\n",
       "    }\n",
       "\n",
       "    // Set the figure to an initial 600x600px, this will subsequently be updated\n",
       "    // upon first draw.\n",
       "    this._resize_canvas(600, 600);\n",
       "\n",
       "    // Disable right mouse context menu.\n",
       "    $(this.rubberband_canvas).bind(\"contextmenu\",function(e){\n",
       "        return false;\n",
       "    });\n",
       "\n",
       "    function set_focus () {\n",
       "        canvas.focus();\n",
       "        canvas_div.focus();\n",
       "    }\n",
       "\n",
       "    window.setTimeout(set_focus, 100);\n",
       "}\n",
       "\n",
       "mpl.figure.prototype._init_toolbar = function() {\n",
       "    var fig = this;\n",
       "\n",
       "    var nav_element = $('<div/>')\n",
       "    nav_element.attr('style', 'width: 100%');\n",
       "    this.root.append(nav_element);\n",
       "\n",
       "    // Define a callback function for later on.\n",
       "    function toolbar_event(event) {\n",
       "        return fig.toolbar_button_onclick(event['data']);\n",
       "    }\n",
       "    function toolbar_mouse_event(event) {\n",
       "        return fig.toolbar_button_onmouseover(event['data']);\n",
       "    }\n",
       "\n",
       "    for(var toolbar_ind in mpl.toolbar_items) {\n",
       "        var name = mpl.toolbar_items[toolbar_ind][0];\n",
       "        var tooltip = mpl.toolbar_items[toolbar_ind][1];\n",
       "        var image = mpl.toolbar_items[toolbar_ind][2];\n",
       "        var method_name = mpl.toolbar_items[toolbar_ind][3];\n",
       "\n",
       "        if (!name) {\n",
       "            // put a spacer in here.\n",
       "            continue;\n",
       "        }\n",
       "        var button = $('<button/>');\n",
       "        button.addClass('ui-button ui-widget ui-state-default ui-corner-all ' +\n",
       "                        'ui-button-icon-only');\n",
       "        button.attr('role', 'button');\n",
       "        button.attr('aria-disabled', 'false');\n",
       "        button.click(method_name, toolbar_event);\n",
       "        button.mouseover(tooltip, toolbar_mouse_event);\n",
       "\n",
       "        var icon_img = $('<span/>');\n",
       "        icon_img.addClass('ui-button-icon-primary ui-icon');\n",
       "        icon_img.addClass(image);\n",
       "        icon_img.addClass('ui-corner-all');\n",
       "\n",
       "        var tooltip_span = $('<span/>');\n",
       "        tooltip_span.addClass('ui-button-text');\n",
       "        tooltip_span.html(tooltip);\n",
       "\n",
       "        button.append(icon_img);\n",
       "        button.append(tooltip_span);\n",
       "\n",
       "        nav_element.append(button);\n",
       "    }\n",
       "\n",
       "    var fmt_picker_span = $('<span/>');\n",
       "\n",
       "    var fmt_picker = $('<select/>');\n",
       "    fmt_picker.addClass('mpl-toolbar-option ui-widget ui-widget-content');\n",
       "    fmt_picker_span.append(fmt_picker);\n",
       "    nav_element.append(fmt_picker_span);\n",
       "    this.format_dropdown = fmt_picker[0];\n",
       "\n",
       "    for (var ind in mpl.extensions) {\n",
       "        var fmt = mpl.extensions[ind];\n",
       "        var option = $(\n",
       "            '<option/>', {selected: fmt === mpl.default_extension}).html(fmt);\n",
       "        fmt_picker.append(option)\n",
       "    }\n",
       "\n",
       "    // Add hover states to the ui-buttons\n",
       "    $( \".ui-button\" ).hover(\n",
       "        function() { $(this).addClass(\"ui-state-hover\");},\n",
       "        function() { $(this).removeClass(\"ui-state-hover\");}\n",
       "    );\n",
       "\n",
       "    var status_bar = $('<span class=\"mpl-message\"/>');\n",
       "    nav_element.append(status_bar);\n",
       "    this.message = status_bar[0];\n",
       "}\n",
       "\n",
       "mpl.figure.prototype.request_resize = function(x_pixels, y_pixels) {\n",
       "    // Request matplotlib to resize the figure. Matplotlib will then trigger a resize in the client,\n",
       "    // which will in turn request a refresh of the image.\n",
       "    this.send_message('resize', {'width': x_pixels, 'height': y_pixels});\n",
       "}\n",
       "\n",
       "mpl.figure.prototype.send_message = function(type, properties) {\n",
       "    properties['type'] = type;\n",
       "    properties['figure_id'] = this.id;\n",
       "    this.ws.send(JSON.stringify(properties));\n",
       "}\n",
       "\n",
       "mpl.figure.prototype.send_draw_message = function() {\n",
       "    if (!this.waiting) {\n",
       "        this.waiting = true;\n",
       "        this.ws.send(JSON.stringify({type: \"draw\", figure_id: this.id}));\n",
       "    }\n",
       "}\n",
       "\n",
       "\n",
       "mpl.figure.prototype.handle_save = function(fig, msg) {\n",
       "    var format_dropdown = fig.format_dropdown;\n",
       "    var format = format_dropdown.options[format_dropdown.selectedIndex].value;\n",
       "    fig.ondownload(fig, format);\n",
       "}\n",
       "\n",
       "\n",
       "mpl.figure.prototype.handle_resize = function(fig, msg) {\n",
       "    var size = msg['size'];\n",
       "    if (size[0] != fig.canvas.width || size[1] != fig.canvas.height) {\n",
       "        fig._resize_canvas(size[0], size[1]);\n",
       "        fig.send_message(\"refresh\", {});\n",
       "    };\n",
       "}\n",
       "\n",
       "mpl.figure.prototype.handle_rubberband = function(fig, msg) {\n",
       "    var x0 = msg['x0'] / mpl.ratio;\n",
       "    var y0 = (fig.canvas.height - msg['y0']) / mpl.ratio;\n",
       "    var x1 = msg['x1'] / mpl.ratio;\n",
       "    var y1 = (fig.canvas.height - msg['y1']) / mpl.ratio;\n",
       "    x0 = Math.floor(x0) + 0.5;\n",
       "    y0 = Math.floor(y0) + 0.5;\n",
       "    x1 = Math.floor(x1) + 0.5;\n",
       "    y1 = Math.floor(y1) + 0.5;\n",
       "    var min_x = Math.min(x0, x1);\n",
       "    var min_y = Math.min(y0, y1);\n",
       "    var width = Math.abs(x1 - x0);\n",
       "    var height = Math.abs(y1 - y0);\n",
       "\n",
       "    fig.rubberband_context.clearRect(\n",
       "        0, 0, fig.canvas.width, fig.canvas.height);\n",
       "\n",
       "    fig.rubberband_context.strokeRect(min_x, min_y, width, height);\n",
       "}\n",
       "\n",
       "mpl.figure.prototype.handle_figure_label = function(fig, msg) {\n",
       "    // Updates the figure title.\n",
       "    fig.header.textContent = msg['label'];\n",
       "}\n",
       "\n",
       "mpl.figure.prototype.handle_cursor = function(fig, msg) {\n",
       "    var cursor = msg['cursor'];\n",
       "    switch(cursor)\n",
       "    {\n",
       "    case 0:\n",
       "        cursor = 'pointer';\n",
       "        break;\n",
       "    case 1:\n",
       "        cursor = 'default';\n",
       "        break;\n",
       "    case 2:\n",
       "        cursor = 'crosshair';\n",
       "        break;\n",
       "    case 3:\n",
       "        cursor = 'move';\n",
       "        break;\n",
       "    }\n",
       "    fig.rubberband_canvas.style.cursor = cursor;\n",
       "}\n",
       "\n",
       "mpl.figure.prototype.handle_message = function(fig, msg) {\n",
       "    fig.message.textContent = msg['message'];\n",
       "}\n",
       "\n",
       "mpl.figure.prototype.handle_draw = function(fig, msg) {\n",
       "    // Request the server to send over a new figure.\n",
       "    fig.send_draw_message();\n",
       "}\n",
       "\n",
       "mpl.figure.prototype.handle_image_mode = function(fig, msg) {\n",
       "    fig.image_mode = msg['mode'];\n",
       "}\n",
       "\n",
       "mpl.figure.prototype.updated_canvas_event = function() {\n",
       "    // Called whenever the canvas gets updated.\n",
       "    this.send_message(\"ack\", {});\n",
       "}\n",
       "\n",
       "// A function to construct a web socket function for onmessage handling.\n",
       "// Called in the figure constructor.\n",
       "mpl.figure.prototype._make_on_message_function = function(fig) {\n",
       "    return function socket_on_message(evt) {\n",
       "        if (evt.data instanceof Blob) {\n",
       "            /* FIXME: We get \"Resource interpreted as Image but\n",
       "             * transferred with MIME type text/plain:\" errors on\n",
       "             * Chrome.  But how to set the MIME type?  It doesn't seem\n",
       "             * to be part of the websocket stream */\n",
       "            evt.data.type = \"image/png\";\n",
       "\n",
       "            /* Free the memory for the previous frames */\n",
       "            if (fig.imageObj.src) {\n",
       "                (window.URL || window.webkitURL).revokeObjectURL(\n",
       "                    fig.imageObj.src);\n",
       "            }\n",
       "\n",
       "            fig.imageObj.src = (window.URL || window.webkitURL).createObjectURL(\n",
       "                evt.data);\n",
       "            fig.updated_canvas_event();\n",
       "            fig.waiting = false;\n",
       "            return;\n",
       "        }\n",
       "        else if (typeof evt.data === 'string' && evt.data.slice(0, 21) == \"data:image/png;base64\") {\n",
       "            fig.imageObj.src = evt.data;\n",
       "            fig.updated_canvas_event();\n",
       "            fig.waiting = false;\n",
       "            return;\n",
       "        }\n",
       "\n",
       "        var msg = JSON.parse(evt.data);\n",
       "        var msg_type = msg['type'];\n",
       "\n",
       "        // Call the  \"handle_{type}\" callback, which takes\n",
       "        // the figure and JSON message as its only arguments.\n",
       "        try {\n",
       "            var callback = fig[\"handle_\" + msg_type];\n",
       "        } catch (e) {\n",
       "            console.log(\"No handler for the '\" + msg_type + \"' message type: \", msg);\n",
       "            return;\n",
       "        }\n",
       "\n",
       "        if (callback) {\n",
       "            try {\n",
       "                // console.log(\"Handling '\" + msg_type + \"' message: \", msg);\n",
       "                callback(fig, msg);\n",
       "            } catch (e) {\n",
       "                console.log(\"Exception inside the 'handler_\" + msg_type + \"' callback:\", e, e.stack, msg);\n",
       "            }\n",
       "        }\n",
       "    };\n",
       "}\n",
       "\n",
       "// from http://stackoverflow.com/questions/1114465/getting-mouse-location-in-canvas\n",
       "mpl.findpos = function(e) {\n",
       "    //this section is from http://www.quirksmode.org/js/events_properties.html\n",
       "    var targ;\n",
       "    if (!e)\n",
       "        e = window.event;\n",
       "    if (e.target)\n",
       "        targ = e.target;\n",
       "    else if (e.srcElement)\n",
       "        targ = e.srcElement;\n",
       "    if (targ.nodeType == 3) // defeat Safari bug\n",
       "        targ = targ.parentNode;\n",
       "\n",
       "    // jQuery normalizes the pageX and pageY\n",
       "    // pageX,Y are the mouse positions relative to the document\n",
       "    // offset() returns the position of the element relative to the document\n",
       "    var x = e.pageX - $(targ).offset().left;\n",
       "    var y = e.pageY - $(targ).offset().top;\n",
       "\n",
       "    return {\"x\": x, \"y\": y};\n",
       "};\n",
       "\n",
       "/*\n",
       " * return a copy of an object with only non-object keys\n",
       " * we need this to avoid circular references\n",
       " * http://stackoverflow.com/a/24161582/3208463\n",
       " */\n",
       "function simpleKeys (original) {\n",
       "  return Object.keys(original).reduce(function (obj, key) {\n",
       "    if (typeof original[key] !== 'object')\n",
       "        obj[key] = original[key]\n",
       "    return obj;\n",
       "  }, {});\n",
       "}\n",
       "\n",
       "mpl.figure.prototype.mouse_event = function(event, name) {\n",
       "    var canvas_pos = mpl.findpos(event)\n",
       "\n",
       "    if (name === 'button_press')\n",
       "    {\n",
       "        this.canvas.focus();\n",
       "        this.canvas_div.focus();\n",
       "    }\n",
       "\n",
       "    var x = canvas_pos.x * mpl.ratio;\n",
       "    var y = canvas_pos.y * mpl.ratio;\n",
       "\n",
       "    this.send_message(name, {x: x, y: y, button: event.button,\n",
       "                             step: event.step,\n",
       "                             guiEvent: simpleKeys(event)});\n",
       "\n",
       "    /* This prevents the web browser from automatically changing to\n",
       "     * the text insertion cursor when the button is pressed.  We want\n",
       "     * to control all of the cursor setting manually through the\n",
       "     * 'cursor' event from matplotlib */\n",
       "    event.preventDefault();\n",
       "    return false;\n",
       "}\n",
       "\n",
       "mpl.figure.prototype._key_event_extra = function(event, name) {\n",
       "    // Handle any extra behaviour associated with a key event\n",
       "}\n",
       "\n",
       "mpl.figure.prototype.key_event = function(event, name) {\n",
       "\n",
       "    // Prevent repeat events\n",
       "    if (name == 'key_press')\n",
       "    {\n",
       "        if (event.which === this._key)\n",
       "            return;\n",
       "        else\n",
       "            this._key = event.which;\n",
       "    }\n",
       "    if (name == 'key_release')\n",
       "        this._key = null;\n",
       "\n",
       "    var value = '';\n",
       "    if (event.ctrlKey && event.which != 17)\n",
       "        value += \"ctrl+\";\n",
       "    if (event.altKey && event.which != 18)\n",
       "        value += \"alt+\";\n",
       "    if (event.shiftKey && event.which != 16)\n",
       "        value += \"shift+\";\n",
       "\n",
       "    value += 'k';\n",
       "    value += event.which.toString();\n",
       "\n",
       "    this._key_event_extra(event, name);\n",
       "\n",
       "    this.send_message(name, {key: value,\n",
       "                             guiEvent: simpleKeys(event)});\n",
       "    return false;\n",
       "}\n",
       "\n",
       "mpl.figure.prototype.toolbar_button_onclick = function(name) {\n",
       "    if (name == 'download') {\n",
       "        this.handle_save(this, null);\n",
       "    } else {\n",
       "        this.send_message(\"toolbar_button\", {name: name});\n",
       "    }\n",
       "};\n",
       "\n",
       "mpl.figure.prototype.toolbar_button_onmouseover = function(tooltip) {\n",
       "    this.message.textContent = tooltip;\n",
       "};\n",
       "mpl.toolbar_items = [[\"Home\", \"Reset original view\", \"fa fa-home icon-home\", \"home\"], [\"Back\", \"Back to  previous view\", \"fa fa-arrow-left icon-arrow-left\", \"back\"], [\"Forward\", \"Forward to next view\", \"fa fa-arrow-right icon-arrow-right\", \"forward\"], [\"\", \"\", \"\", \"\"], [\"Pan\", \"Pan axes with left mouse, zoom with right\", \"fa fa-arrows icon-move\", \"pan\"], [\"Zoom\", \"Zoom to rectangle\", \"fa fa-square-o icon-check-empty\", \"zoom\"], [\"\", \"\", \"\", \"\"], [\"Download\", \"Download plot\", \"fa fa-floppy-o icon-save\", \"download\"]];\n",
       "\n",
       "mpl.extensions = [\"eps\", \"jpeg\", \"pdf\", \"png\", \"ps\", \"raw\", \"svg\", \"tif\"];\n",
       "\n",
       "mpl.default_extension = \"png\";var comm_websocket_adapter = function(comm) {\n",
       "    // Create a \"websocket\"-like object which calls the given IPython comm\n",
       "    // object with the appropriate methods. Currently this is a non binary\n",
       "    // socket, so there is still some room for performance tuning.\n",
       "    var ws = {};\n",
       "\n",
       "    ws.close = function() {\n",
       "        comm.close()\n",
       "    };\n",
       "    ws.send = function(m) {\n",
       "        //console.log('sending', m);\n",
       "        comm.send(m);\n",
       "    };\n",
       "    // Register the callback with on_msg.\n",
       "    comm.on_msg(function(msg) {\n",
       "        //console.log('receiving', msg['content']['data'], msg);\n",
       "        // Pass the mpl event to the overridden (by mpl) onmessage function.\n",
       "        ws.onmessage(msg['content']['data'])\n",
       "    });\n",
       "    return ws;\n",
       "}\n",
       "\n",
       "mpl.mpl_figure_comm = function(comm, msg) {\n",
       "    // This is the function which gets called when the mpl process\n",
       "    // starts-up an IPython Comm through the \"matplotlib\" channel.\n",
       "\n",
       "    var id = msg.content.data.id;\n",
       "    // Get hold of the div created by the display call when the Comm\n",
       "    // socket was opened in Python.\n",
       "    var element = $(\"#\" + id);\n",
       "    var ws_proxy = comm_websocket_adapter(comm)\n",
       "\n",
       "    function ondownload(figure, format) {\n",
       "        window.open(figure.imageObj.src);\n",
       "    }\n",
       "\n",
       "    var fig = new mpl.figure(id, ws_proxy,\n",
       "                           ondownload,\n",
       "                           element.get(0));\n",
       "\n",
       "    // Call onopen now - mpl needs it, as it is assuming we've passed it a real\n",
       "    // web socket which is closed, not our websocket->open comm proxy.\n",
       "    ws_proxy.onopen();\n",
       "\n",
       "    fig.parent_element = element.get(0);\n",
       "    fig.cell_info = mpl.find_output_cell(\"<div id='\" + id + \"'></div>\");\n",
       "    if (!fig.cell_info) {\n",
       "        console.error(\"Failed to find cell for figure\", id, fig);\n",
       "        return;\n",
       "    }\n",
       "\n",
       "    var output_index = fig.cell_info[2]\n",
       "    var cell = fig.cell_info[0];\n",
       "\n",
       "};\n",
       "\n",
       "mpl.figure.prototype.handle_close = function(fig, msg) {\n",
       "    var width = fig.canvas.width/mpl.ratio\n",
       "    fig.root.unbind('remove')\n",
       "\n",
       "    // Update the output cell to use the data from the current canvas.\n",
       "    fig.push_to_output();\n",
       "    var dataURL = fig.canvas.toDataURL();\n",
       "    // Re-enable the keyboard manager in IPython - without this line, in FF,\n",
       "    // the notebook keyboard shortcuts fail.\n",
       "    IPython.keyboard_manager.enable()\n",
       "    $(fig.parent_element).html('<img src=\"' + dataURL + '\" width=\"' + width + '\">');\n",
       "    fig.close_ws(fig, msg);\n",
       "}\n",
       "\n",
       "mpl.figure.prototype.close_ws = function(fig, msg){\n",
       "    fig.send_message('closing', msg);\n",
       "    // fig.ws.close()\n",
       "}\n",
       "\n",
       "mpl.figure.prototype.push_to_output = function(remove_interactive) {\n",
       "    // Turn the data on the canvas into data in the output cell.\n",
       "    var width = this.canvas.width/mpl.ratio\n",
       "    var dataURL = this.canvas.toDataURL();\n",
       "    this.cell_info[1]['text/html'] = '<img src=\"' + dataURL + '\" width=\"' + width + '\">';\n",
       "}\n",
       "\n",
       "mpl.figure.prototype.updated_canvas_event = function() {\n",
       "    // Tell IPython that the notebook contents must change.\n",
       "    IPython.notebook.set_dirty(true);\n",
       "    this.send_message(\"ack\", {});\n",
       "    var fig = this;\n",
       "    // Wait a second, then push the new image to the DOM so\n",
       "    // that it is saved nicely (might be nice to debounce this).\n",
       "    setTimeout(function () { fig.push_to_output() }, 1000);\n",
       "}\n",
       "\n",
       "mpl.figure.prototype._init_toolbar = function() {\n",
       "    var fig = this;\n",
       "\n",
       "    var nav_element = $('<div/>')\n",
       "    nav_element.attr('style', 'width: 100%');\n",
       "    this.root.append(nav_element);\n",
       "\n",
       "    // Define a callback function for later on.\n",
       "    function toolbar_event(event) {\n",
       "        return fig.toolbar_button_onclick(event['data']);\n",
       "    }\n",
       "    function toolbar_mouse_event(event) {\n",
       "        return fig.toolbar_button_onmouseover(event['data']);\n",
       "    }\n",
       "\n",
       "    for(var toolbar_ind in mpl.toolbar_items){\n",
       "        var name = mpl.toolbar_items[toolbar_ind][0];\n",
       "        var tooltip = mpl.toolbar_items[toolbar_ind][1];\n",
       "        var image = mpl.toolbar_items[toolbar_ind][2];\n",
       "        var method_name = mpl.toolbar_items[toolbar_ind][3];\n",
       "\n",
       "        if (!name) { continue; };\n",
       "\n",
       "        var button = $('<button class=\"btn btn-default\" href=\"#\" title=\"' + name + '\"><i class=\"fa ' + image + ' fa-lg\"></i></button>');\n",
       "        button.click(method_name, toolbar_event);\n",
       "        button.mouseover(tooltip, toolbar_mouse_event);\n",
       "        nav_element.append(button);\n",
       "    }\n",
       "\n",
       "    // Add the status bar.\n",
       "    var status_bar = $('<span class=\"mpl-message\" style=\"text-align:right; float: right;\"/>');\n",
       "    nav_element.append(status_bar);\n",
       "    this.message = status_bar[0];\n",
       "\n",
       "    // Add the close button to the window.\n",
       "    var buttongrp = $('<div class=\"btn-group inline pull-right\"></div>');\n",
       "    var button = $('<button class=\"btn btn-mini btn-primary\" href=\"#\" title=\"Stop Interaction\"><i class=\"fa fa-power-off icon-remove icon-large\"></i></button>');\n",
       "    button.click(function (evt) { fig.handle_close(fig, {}); } );\n",
       "    button.mouseover('Stop Interaction', toolbar_mouse_event);\n",
       "    buttongrp.append(button);\n",
       "    var titlebar = this.root.find($('.ui-dialog-titlebar'));\n",
       "    titlebar.prepend(buttongrp);\n",
       "}\n",
       "\n",
       "mpl.figure.prototype._root_extra_style = function(el){\n",
       "    var fig = this\n",
       "    el.on(\"remove\", function(){\n",
       "\tfig.close_ws(fig, {});\n",
       "    });\n",
       "}\n",
       "\n",
       "mpl.figure.prototype._canvas_extra_style = function(el){\n",
       "    // this is important to make the div 'focusable\n",
       "    el.attr('tabindex', 0)\n",
       "    // reach out to IPython and tell the keyboard manager to turn it's self\n",
       "    // off when our div gets focus\n",
       "\n",
       "    // location in version 3\n",
       "    if (IPython.notebook.keyboard_manager) {\n",
       "        IPython.notebook.keyboard_manager.register_events(el);\n",
       "    }\n",
       "    else {\n",
       "        // location in version 2\n",
       "        IPython.keyboard_manager.register_events(el);\n",
       "    }\n",
       "\n",
       "}\n",
       "\n",
       "mpl.figure.prototype._key_event_extra = function(event, name) {\n",
       "    var manager = IPython.notebook.keyboard_manager;\n",
       "    if (!manager)\n",
       "        manager = IPython.keyboard_manager;\n",
       "\n",
       "    // Check for shift+enter\n",
       "    if (event.shiftKey && event.which == 13) {\n",
       "        this.canvas_div.blur();\n",
       "        event.shiftKey = false;\n",
       "        // Send a \"J\" for go to next cell\n",
       "        event.which = 74;\n",
       "        event.keyCode = 74;\n",
       "        manager.command_mode();\n",
       "        manager.handle_keydown(event);\n",
       "    }\n",
       "}\n",
       "\n",
       "mpl.figure.prototype.handle_save = function(fig, msg) {\n",
       "    fig.ondownload(fig, null);\n",
       "}\n",
       "\n",
       "\n",
       "mpl.find_output_cell = function(html_output) {\n",
       "    // Return the cell and output element which can be found *uniquely* in the notebook.\n",
       "    // Note - this is a bit hacky, but it is done because the \"notebook_saving.Notebook\"\n",
       "    // IPython event is triggered only after the cells have been serialised, which for\n",
       "    // our purposes (turning an active figure into a static one), is too late.\n",
       "    var cells = IPython.notebook.get_cells();\n",
       "    var ncells = cells.length;\n",
       "    for (var i=0; i<ncells; i++) {\n",
       "        var cell = cells[i];\n",
       "        if (cell.cell_type === 'code'){\n",
       "            for (var j=0; j<cell.output_area.outputs.length; j++) {\n",
       "                var data = cell.output_area.outputs[j];\n",
       "                if (data.data) {\n",
       "                    // IPython >= 3 moved mimebundle to data attribute of output\n",
       "                    data = data.data;\n",
       "                }\n",
       "                if (data['text/html'] == html_output) {\n",
       "                    return [cell, data, j];\n",
       "                }\n",
       "            }\n",
       "        }\n",
       "    }\n",
       "}\n",
       "\n",
       "// Register the function which deals with the matplotlib target/channel.\n",
       "// The kernel may be null if the page has been refreshed.\n",
       "if (IPython.notebook.kernel != null) {\n",
       "    IPython.notebook.kernel.comm_manager.register_target('matplotlib', mpl.mpl_figure_comm);\n",
       "}\n"
      ],
      "text/plain": [
       "<IPython.core.display.Javascript object>"
      ]
     },
     "metadata": {},
     "output_type": "display_data"
    },
    {
     "data": {
      "text/html": [
       "<img src=\"data:image/png;base64,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\" width=\"640\">"
      ],
      "text/plain": [
       "<IPython.core.display.HTML object>"
      ]
     },
     "metadata": {},
     "output_type": "display_data"
    },
    {
     "name": "stdout",
     "output_type": "stream",
     "text": [
      "cleaning up speed data\n",
      "cleaning up speed data\n",
      "I deleted session: 0761_day1\n",
      "I deleted session: 0761_day10\n",
      "I deleted session: 0761_day12\n",
      "I deleted session: 0761_day2\n",
      "I deleted session: 0761_day4\n",
      "I deleted session: 0761_day6\n",
      "I deleted session: 0761_day8\n",
      "cleaning up speed data\n",
      "cleaning up speed data\n",
      "I deleted session: 1208_day10\n",
      "I deleted session: 1208_day12\n",
      "I deleted session: 1208_day14\n",
      "I deleted session: 1208_day2\n",
      "I deleted session: 1208_day4\n",
      "I deleted session: 1208_day6\n",
      "I deleted session: 1208_day8\n",
      "cleaning up speed data\n",
      "cleaning up speed data\n",
      "I deleted session: 1222_day11\n",
      "I deleted session: 1222_day13\n",
      "I deleted session: 1222_day2\n",
      "I deleted session: 1222_day3\n",
      "I deleted session: 1222_day5\n",
      "I deleted session: 1222_day7\n",
      "I deleted session: 1222_day9\n",
      "cleaning up speed data\n",
      "cleaning up speed data\n",
      "cleaning up speed data\n",
      "cleaning up speed data\n",
      "I deleted session: 1236_day1\n",
      "I deleted session: 1236_day11\n",
      "I deleted session: 1236_day13\n",
      "I deleted session: 1236_day3\n",
      "I deleted session: 1236_day5\n",
      "I deleted session: 1236_day7\n",
      "I deleted session: 1236_day9\n",
      "cleaning up speed data\n",
      "cleaning up speed data\n",
      "cleaning up speed data\n",
      "cleaning up speed data\n",
      "I deleted session: 1793_day10\n",
      "I deleted session: 1793_day12\n",
      "I deleted session: 1793_day14\n",
      "I deleted session: 1793_day2\n",
      "I deleted session: 1793_day4\n",
      "I deleted session: 1793_day6\n",
      "I deleted session: 1793_day8\n",
      "cleaning up speed data\n",
      "cleaning up speed data\n",
      "I deleted session: 2976_day10\n",
      "I deleted session: 2976_day12\n",
      "I deleted session: 2976_day14\n",
      "I deleted session: 2976_day2\n",
      "I deleted session: 2976_day4\n",
      "I deleted session: 2976_day6\n",
      "I deleted session: 2976_day8\n",
      "cleaning up speed data\n",
      "cleaning up speed data\n",
      "I deleted session: 2980_day10\n",
      "I deleted session: 2980_day12\n",
      "I deleted session: 2980_day14\n",
      "I deleted session: 2980_day2\n",
      "I deleted session: 2980_day4\n",
      "I deleted session: 2980_day6\n",
      "I deleted session: 2980_day8\n",
      "cleaning up speed data\n",
      "cleaning up speed data\n",
      "I deleted session: 2981_day10\n",
      "I deleted session: 2981_day12\n",
      "I deleted session: 2981_day14\n",
      "I deleted session: 2981_day2\n",
      "I deleted session: 2981_day4\n",
      "I deleted session: 2981_day6\n",
      "I deleted session: 2981_day8\n",
      "cleaning up speed data\n",
      "cleaning up speed data\n",
      "I deleted session: 4539_day0\n",
      "I deleted session: 4539_day1\n",
      "I deleted session: 4539_day10\n",
      "I deleted session: 4539_day11\n",
      "I deleted session: 4539_day12\n",
      "I deleted session: 4539_day13\n",
      "I deleted session: 4539_day14\n",
      "I deleted session: 4539_day2\n",
      "I deleted session: 4539_day3\n",
      "I deleted session: 4539_day4\n",
      "I deleted session: 4539_day5\n",
      "I deleted session: 4539_day6\n",
      "I deleted session: 4539_day7\n",
      "I deleted session: 4539_day8\n",
      "I deleted session: 4539_day9\n",
      "cleaning up speed data\n",
      "cleaning up speed data\n",
      "I deleted session: 7584_Baseline0\n",
      "I deleted session: 7584_day0\n",
      "I deleted session: 7584_day1\n",
      "I deleted session: 7584_day10\n",
      "I deleted session: 7584_day11\n",
      "I deleted session: 7584_day12\n",
      "I deleted session: 7584_day15\n",
      "I deleted session: 7584_day2\n",
      "I deleted session: 7584_day3\n",
      "I deleted session: 7584_day4\n",
      "I deleted session: 7584_day5\n",
      "I deleted session: 7584_day6\n",
      "I deleted session: 7584_day7\n",
      "I deleted session: 7584_day8\n",
      "I deleted session: 7584_day9\n",
      "cleaning up speed data\n",
      "cleaning up speed data\n",
      "I deleted session: 7909_day0\n",
      "I deleted session: 7909_day1\n",
      "I deleted session: 7909_day10\n",
      "I deleted session: 7909_day11\n",
      "I deleted session: 7909_day12\n",
      "I deleted session: 7909_day13\n",
      "I deleted session: 7909_day14\n",
      "I deleted session: 7909_day2\n",
      "I deleted session: 7909_day3\n",
      "I deleted session: 7909_day4\n",
      "I deleted session: 7909_day5\n",
      "I deleted session: 7909_day6\n",
      "I deleted session: 7909_day7\n",
      "I deleted session: 7909_day8\n",
      "I deleted session: 7909_day9\n",
      "cleaning up speed data\n",
      "cleaning up speed data\n",
      "I deleted session: 8430_day1\n",
      "I deleted session: 8430_day11\n",
      "I deleted session: 8430_day3\n",
      "I deleted session: 8430_day5\n",
      "I deleted session: 8430_day7\n",
      "I deleted session: 8430_day9\n",
      "cleaning up speed data\n",
      "cleaning up speed data\n",
      "I deleted session: 8803_day10\n",
      "I deleted session: 8803_day12\n",
      "I deleted session: 8803_day14\n",
      "I deleted session: 8803_day2\n",
      "I deleted session: 8803_day4\n",
      "I deleted session: 8803_day5\n",
      "I deleted session: 8803_day6\n",
      "I deleted session: 8803_day8\n",
      "cleaning up speed data\n",
      "cleaning up speed data\n",
      "I deleted session: 8815_day10\n",
      "I deleted session: 8815_day12\n",
      "I deleted session: 8815_day14\n",
      "I deleted session: 8815_day2\n",
      "I deleted session: 8815_day4\n",
      "I deleted session: 8815_day6\n",
      "I deleted session: 8815_day8\n"
     ]
    }
   ],
   "source": [
    "f = h5py.File('OnsetsAndPeriods.hdf5','a')\n",
    "Colors = CP('highLowSpeed')\n",
    "\n",
    "fig, ax = plt.subplots(1,1)\n",
    "\n",
    "Tseconds = 1\n",
    "\n",
    "miceList = getMiceList(Files[0])\n",
    "for m in miceList:\n",
    "    grp = f[m]\n",
    "    sgrp = grp.create_group('highLowSpeedPeriods_params')\n",
    "    sgrp.attrs['th_high'] = highSpeedPeriodsPars[m]['hth']\n",
    "    sgrp.attrs['th_low'] = highSpeedPeriodsPars[m]['lth']\n",
    "    \n",
    "    data_pre = getData(Files[0],['speed'],period ='Pre', mice=m)\n",
    "    data_post = getData(Files[0],['speed'],period ='Post', mice=m)\n",
    "    days = np.zeros(len(data_pre))\n",
    "    ind = 0\n",
    "    # sort by session for my own OCD\n",
    "    for sess in data_pre:\n",
    "        if sess[5] == 'B':\n",
    "            day = 0\n",
    "        else:\n",
    "            day = int(re.findall(r'\\d+',sess[5:])[0])\n",
    "        days[ind] = day\n",
    "        ind= ind+1\n",
    "    a = np.argsort(days)\n",
    "    dKeys = list(data_pre.keys())\n",
    "    # calculte high speed period, do 3 sessions per plot, and stor in ppt\n",
    "    ind = 0;\n",
    "    th_hi = sgrp.attrs['th_high']\n",
    "    th_low = sgrp.attrs['th_low']\n",
    "    for aa in range(0,len(data_pre)):\n",
    "        sess = dKeys[a[aa]]\n",
    "        speed = data_pre[sess]['speed']['speed']\n",
    "        speed = speed.T\n",
    "        dt  = 1/data_pre[sess]['speed']['Fs']\n",
    "        dataPoints = int(np.ceil(Tseconds/dt))\n",
    "        \n",
    "        \n",
    "        HPeriods = HighSpeedPeriods(ax,speed,dt,th_hi, dataPoints,Colors['high'])\n",
    "        LPeriods = LowSpeedPeriods(ax,speed,dt,th_low, dataPoints,Colors['low'])\n",
    "        \n",
    "        subgrp = grp[sess]\n",
    "        ssubgrp =subgrp['Pre']\n",
    "        ssubgrp['HighMvmtPeriods_StartSegments'] = HPeriods['highSpeed']['start']\n",
    "        ssubgrp['HighMvmtPeriods_EndSegments'] = HPeriods['highSpeed']['end']\n",
    "        highP = np.full(speed.shape, False)\n",
    "        for l in range(0, len(HPeriods['highSpeed']['start'])):\n",
    "            highP[HPeriods['highSpeed']['start'][l]:HPeriods['highSpeed']['end'][l]] = True\n",
    "        ssubgrp['HighMvmtPeriods_vector'] = highP\n",
    "        \n",
    "        ssubgrp['LowMvmtPeriods_StartSegments'] = LPeriods['lowSpeed']['start']\n",
    "        ssubgrp['LowMvmtPeriods_EndSegments'] = LPeriods['lowSpeed']['end']\n",
    "        lowP = np.full(speed.shape, False)\n",
    "        for l in range(0, len(LPeriods['lowSpeed']['start'])):\n",
    "            lowP[LPeriods['lowSpeed']['start'][l]:LPeriods['lowSpeed']['end'][l]] = True\n",
    "        ssubgrp['LowMvmtPeriods_vector'] = lowP\n",
    "        \n",
    "        if sess in data_post.keys():\n",
    "            speed = data_post[sess]['speed']['speed']\n",
    "            speed = speed.T\n",
    "           \n",
    "            \n",
    "            HPeriods = HighSpeedPeriods(ax,speed,dt,th_hi, dataPoints,Colors['high'])\n",
    "            LPeriods = LowSpeedPeriods(ax,speed,dt,th_low, dataPoints,Colors['low'])\n",
    "\n",
    "            spsubgrp = subgrp['Post']\n",
    "            spsubgrp['HighMvmtPeriods_StartSegments'] = HPeriods['highSpeed']['start']\n",
    "            spsubgrp['HighMvmtPeriods_EndSegments'] = HPeriods['highSpeed']['end']\n",
    "            highP = np.full(speed.shape, False)\n",
    "            for l in range(0, len(HPeriods['highSpeed']['start'])):\n",
    "                highP[HPeriods['highSpeed']['start'][l]:HPeriods['highSpeed']['end'][l]] = True\n",
    "            spsubgrp['HighMvmtPeriods_vector'] = highP\n",
    "\n",
    "            spsubgrp['LowMvmtPeriods_StartSegments'] = LPeriods['lowSpeed']['start']\n",
    "            spsubgrp['LowMvmtPeriods_EndSegments'] = LPeriods['lowSpeed']['end']\n",
    "            lowP = np.full(speed.shape, False)\n",
    "            for l in range(0, len(LPeriods['lowSpeed']['start'])):\n",
    "                lowP[LPeriods['lowSpeed']['start'][l]:LPeriods['lowSpeed']['end'][l]] = True\n",
    "            spsubgrp['LowMvmtPeriods_vector'] = lowP\n",
    "        \n",
    "f.close()  "
   ]
  },
  {
   "cell_type": "code",
   "execution_count": 9,
   "metadata": {},
   "outputs": [
    {
     "name": "stderr",
     "output_type": "stream",
     "text": [
      "\r",
      "  0%|          | 0/14 [00:00<?, ?it/s]"
     ]
    },
    {
     "name": "stdout",
     "output_type": "stream",
     "text": [
      "cleaning up trace data\n",
      "0761_BaselineA\n"
     ]
    },
    {
     "name": "stderr",
     "output_type": "stream",
     "text": [
      "/home/dana_z/anaconda3/lib/python3.7/site-packages/mkl_fft/_numpy_fft.py:331: FutureWarning: Using a non-tuple sequence for multidimensional indexing is deprecated; use `arr[tuple(seq)]` instead of `arr[seq]`. In the future this will be interpreted as an array index, `arr[np.array(seq)]`, which will result either in an error or a different result.\n",
      "  output = mkl_fft.rfft_numpy(a, n=n, axis=axis)\n",
      "/home/dana_z/anaconda3/lib/python3.7/site-packages/scipy/fftpack/basic.py:160: FutureWarning: Using a non-tuple sequence for multidimensional indexing is deprecated; use `arr[tuple(seq)]` instead of `arr[seq]`. In the future this will be interpreted as an array index, `arr[np.array(seq)]`, which will result either in an error or a different result.\n",
      "  z[index] = x\n",
      "  7%|▋         | 1/14 [01:38<21:26, 98.94s/it]"
     ]
    },
    {
     "name": "stdout",
     "output_type": "stream",
     "text": [
      "0761_BaselineL\n"
     ]
    },
    {
     "name": "stderr",
     "output_type": "stream",
     "text": [
      "\r",
      " 14%|█▍        | 2/14 [03:34<20:47, 103.95s/it]"
     ]
    },
    {
     "name": "stdout",
     "output_type": "stream",
     "text": [
      "0761_BaselineS\n"
     ]
    },
    {
     "name": "stderr",
     "output_type": "stream",
     "text": [
      "\r",
      " 21%|██▏       | 3/14 [05:31<19:45, 107.81s/it]"
     ]
    },
    {
     "name": "stdout",
     "output_type": "stream",
     "text": [
      "0761_day1\n"
     ]
    },
    {
     "name": "stderr",
     "output_type": "stream",
     "text": [
      "\r",
      " 29%|██▊       | 4/14 [05:41<13:04, 78.48s/it] "
     ]
    },
    {
     "name": "stdout",
     "output_type": "stream",
     "text": [
      "0761_day10\n"
     ]
    },
    {
     "name": "stderr",
     "output_type": "stream",
     "text": [
      "\r",
      " 36%|███▌      | 5/14 [07:13<12:23, 82.57s/it]"
     ]
    },
    {
     "name": "stdout",
     "output_type": "stream",
     "text": [
      "0761_day12\n"
     ]
    },
    {
     "name": "stderr",
     "output_type": "stream",
     "text": [
      "\r",
      " 43%|████▎     | 6/14 [07:56<09:25, 70.75s/it]"
     ]
    },
    {
     "name": "stdout",
     "output_type": "stream",
     "text": [
      "0761_day14A\n"
     ]
    },
    {
     "name": "stderr",
     "output_type": "stream",
     "text": [
      "\r",
      " 50%|█████     | 7/14 [08:06<06:07, 52.54s/it]"
     ]
    },
    {
     "name": "stdout",
     "output_type": "stream",
     "text": [
      "0761_day19L\n"
     ]
    },
    {
     "name": "stderr",
     "output_type": "stream",
     "text": [
      "\r",
      " 57%|█████▋    | 8/14 [09:27<06:06, 61.07s/it]"
     ]
    },
    {
     "name": "stdout",
     "output_type": "stream",
     "text": [
      "0761_day2\n"
     ]
    },
    {
     "name": "stderr",
     "output_type": "stream",
     "text": [
      "\r",
      " 64%|██████▍   | 9/14 [10:43<05:26, 65.34s/it]"
     ]
    },
    {
     "name": "stdout",
     "output_type": "stream",
     "text": [
      "0761_day31A\n"
     ]
    },
    {
     "name": "stderr",
     "output_type": "stream",
     "text": [
      "\r",
      " 71%|███████▏  | 10/14 [12:02<04:38, 69.67s/it]"
     ]
    },
    {
     "name": "stdout",
     "output_type": "stream",
     "text": [
      "0761_day35L\n"
     ]
    },
    {
     "name": "stderr",
     "output_type": "stream",
     "text": [
      "\r",
      " 79%|███████▊  | 11/14 [13:07<03:24, 68.16s/it]"
     ]
    },
    {
     "name": "stdout",
     "output_type": "stream",
     "text": [
      "0761_day4\n"
     ]
    },
    {
     "name": "stderr",
     "output_type": "stream",
     "text": [
      "\r",
      " 86%|████████▌ | 12/14 [14:00<02:07, 63.75s/it]"
     ]
    },
    {
     "name": "stdout",
     "output_type": "stream",
     "text": [
      "0761_day6\n"
     ]
    },
    {
     "name": "stderr",
     "output_type": "stream",
     "text": [
      "\r",
      " 93%|█████████▎| 13/14 [14:58<01:01, 61.90s/it]"
     ]
    },
    {
     "name": "stdout",
     "output_type": "stream",
     "text": [
      "0761_day8\n"
     ]
    },
    {
     "name": "stderr",
     "output_type": "stream",
     "text": [
      "100%|██████████| 14/14 [16:24<00:00, 69.16s/it]\n",
      "  0%|          | 0/14 [00:00<?, ?it/s]"
     ]
    },
    {
     "name": "stdout",
     "output_type": "stream",
     "text": [
      "cleaning up trace data\n",
      "1208_BaselineA\n"
     ]
    },
    {
     "name": "stderr",
     "output_type": "stream",
     "text": [
      "\r",
      "  7%|▋         | 1/14 [16:32<3:35:04, 992.63s/it]"
     ]
    },
    {
     "name": "stdout",
     "output_type": "stream",
     "text": [
      "1208_BaselineL\n"
     ]
    },
    {
     "name": "stderr",
     "output_type": "stream",
     "text": [
      "\r",
      " 14%|█▍        | 2/14 [36:23<3:30:25, 1052.10s/it]"
     ]
    },
    {
     "name": "stdout",
     "output_type": "stream",
     "text": [
      "1208_BaselineS\n"
     ]
    },
    {
     "name": "stderr",
     "output_type": "stream",
     "text": [
      "\r",
      " 21%|██▏       | 3/14 [47:40<2:52:15, 939.58s/it] "
     ]
    },
    {
     "name": "stdout",
     "output_type": "stream",
     "text": [
      "1208_day10\n"
     ]
    },
    {
     "name": "stderr",
     "output_type": "stream",
     "text": [
      "\r",
      " 29%|██▊       | 4/14 [57:25<2:18:51, 833.13s/it]"
     ]
    },
    {
     "name": "stdout",
     "output_type": "stream",
     "text": [
      "1208_day12\n"
     ]
    },
    {
     "name": "stderr",
     "output_type": "stream",
     "text": [
      "\r",
      " 36%|███▌      | 5/14 [1:14:02<2:12:21, 882.40s/it]"
     ]
    },
    {
     "name": "stdout",
     "output_type": "stream",
     "text": [
      "1208_day14\n"
     ]
    },
    {
     "name": "stderr",
     "output_type": "stream",
     "text": [
      "\r",
      " 43%|████▎     | 6/14 [1:27:49<1:55:26, 865.86s/it]"
     ]
    },
    {
     "name": "stdout",
     "output_type": "stream",
     "text": [
      "1208_day15A\n"
     ]
    },
    {
     "name": "stderr",
     "output_type": "stream",
     "text": [
      "\r",
      " 50%|█████     | 7/14 [1:36:40<1:29:17, 765.30s/it]"
     ]
    },
    {
     "name": "stdout",
     "output_type": "stream",
     "text": [
      "1208_day19L\n"
     ]
    },
    {
     "name": "stderr",
     "output_type": "stream",
     "text": [
      "\r",
      " 57%|█████▋    | 8/14 [1:43:03<1:05:02, 650.48s/it]"
     ]
    },
    {
     "name": "stdout",
     "output_type": "stream",
     "text": [
      "1208_day2\n"
     ]
    },
    {
     "name": "stderr",
     "output_type": "stream",
     "text": [
      "\r",
      " 64%|██████▍   | 9/14 [1:55:25<56:30, 678.10s/it]  "
     ]
    },
    {
     "name": "stdout",
     "output_type": "stream",
     "text": [
      "1208_day30A\n"
     ]
    },
    {
     "name": "stderr",
     "output_type": "stream",
     "text": [
      "\r",
      " 71%|███████▏  | 10/14 [2:04:31<42:34, 638.54s/it]"
     ]
    },
    {
     "name": "stdout",
     "output_type": "stream",
     "text": [
      "1208_day34L\n"
     ]
    },
    {
     "name": "stderr",
     "output_type": "stream",
     "text": [
      "\r",
      " 79%|███████▊  | 11/14 [2:14:40<31:28, 629.58s/it]"
     ]
    },
    {
     "name": "stdout",
     "output_type": "stream",
     "text": [
      "1208_day4\n"
     ]
    },
    {
     "name": "stderr",
     "output_type": "stream",
     "text": [
      "\r",
      " 86%|████████▌ | 12/14 [2:27:06<22:08, 664.36s/it]"
     ]
    },
    {
     "name": "stdout",
     "output_type": "stream",
     "text": [
      "1208_day6\n"
     ]
    },
    {
     "name": "stderr",
     "output_type": "stream",
     "text": [
      "\r",
      " 93%|█████████▎| 13/14 [2:41:17<12:00, 720.50s/it]"
     ]
    },
    {
     "name": "stdout",
     "output_type": "stream",
     "text": [
      "1208_day8\n"
     ]
    },
    {
     "name": "stderr",
     "output_type": "stream",
     "text": [
      "100%|██████████| 14/14 [2:50:29<00:00, 669.89s/it]\n",
      "  0%|          | 0/14 [00:00<?, ?it/s]"
     ]
    },
    {
     "name": "stdout",
     "output_type": "stream",
     "text": [
      "cleaning up trace data\n",
      "1222_BaselineA\n"
     ]
    },
    {
     "name": "stderr",
     "output_type": "stream",
     "text": [
      "\r",
      "  7%|▋         | 1/14 [03:02<39:26, 182.06s/it]"
     ]
    },
    {
     "name": "stdout",
     "output_type": "stream",
     "text": [
      "1222_BaselineL\n"
     ]
    },
    {
     "name": "stderr",
     "output_type": "stream",
     "text": [
      "\r",
      " 14%|█▍        | 2/14 [09:58<50:27, 252.30s/it]"
     ]
    },
    {
     "name": "stdout",
     "output_type": "stream",
     "text": [
      "1222_BaselineS\n"
     ]
    },
    {
     "name": "stderr",
     "output_type": "stream",
     "text": [
      "\r",
      " 21%|██▏       | 3/14 [17:31<57:18, 312.57s/it]"
     ]
    },
    {
     "name": "stdout",
     "output_type": "stream",
     "text": [
      "1222_day11\n"
     ]
    },
    {
     "name": "stderr",
     "output_type": "stream",
     "text": [
      "\r",
      " 29%|██▊       | 4/14 [18:40<39:56, 239.64s/it]"
     ]
    },
    {
     "name": "stdout",
     "output_type": "stream",
     "text": [
      "1222_day13\n"
     ]
    },
    {
     "name": "stderr",
     "output_type": "stream",
     "text": [
      "\r",
      " 36%|███▌      | 5/14 [20:49<30:57, 206.36s/it]"
     ]
    },
    {
     "name": "stdout",
     "output_type": "stream",
     "text": [
      "1222_day15A\n"
     ]
    },
    {
     "name": "stderr",
     "output_type": "stream",
     "text": [
      "\r",
      " 43%|████▎     | 6/14 [23:17<25:10, 188.86s/it]"
     ]
    },
    {
     "name": "stdout",
     "output_type": "stream",
     "text": [
      "1222_day2\n"
     ]
    },
    {
     "name": "stderr",
     "output_type": "stream",
     "text": [
      "\r",
      " 50%|█████     | 7/14 [23:21<15:34, 133.49s/it]"
     ]
    },
    {
     "name": "stdout",
     "output_type": "stream",
     "text": [
      "1222_day20L\n"
     ]
    },
    {
     "name": "stderr",
     "output_type": "stream",
     "text": [
      "\r",
      " 57%|█████▋    | 8/14 [27:31<16:49, 168.20s/it]"
     ]
    },
    {
     "name": "stdout",
     "output_type": "stream",
     "text": [
      "1222_day3\n"
     ]
    },
    {
     "name": "stderr",
     "output_type": "stream",
     "text": [
      "\r",
      " 64%|██████▍   | 9/14 [29:47<13:12, 158.56s/it]"
     ]
    },
    {
     "name": "stdout",
     "output_type": "stream",
     "text": [
      "1222_day32A\n"
     ]
    },
    {
     "name": "stderr",
     "output_type": "stream",
     "text": [
      "\r",
      " 71%|███████▏  | 10/14 [30:06<07:47, 116.77s/it]"
     ]
    },
    {
     "name": "stdout",
     "output_type": "stream",
     "text": [
      "1222_day36L\n"
     ]
    },
    {
     "name": "stderr",
     "output_type": "stream",
     "text": [
      "\r",
      " 79%|███████▊  | 11/14 [32:24<06:09, 123.00s/it]"
     ]
    },
    {
     "name": "stdout",
     "output_type": "stream",
     "text": [
      "1222_day5\n"
     ]
    },
    {
     "name": "stderr",
     "output_type": "stream",
     "text": [
      "\r",
      " 86%|████████▌ | 12/14 [32:41<03:02, 91.32s/it] "
     ]
    },
    {
     "name": "stdout",
     "output_type": "stream",
     "text": [
      "1222_day7\n"
     ]
    },
    {
     "name": "stderr",
     "output_type": "stream",
     "text": [
      "\r",
      " 93%|█████████▎| 13/14 [33:33<01:19, 79.60s/it]"
     ]
    },
    {
     "name": "stdout",
     "output_type": "stream",
     "text": [
      "1222_day9\n"
     ]
    },
    {
     "name": "stderr",
     "output_type": "stream",
     "text": [
      "100%|██████████| 14/14 [34:51<00:00, 79.13s/it]\n",
      "  0%|          | 0/3 [00:00<?, ?it/s]"
     ]
    },
    {
     "name": "stdout",
     "output_type": "stream",
     "text": [
      "cleaning up trace data\n",
      "1231_BaselineA\n"
     ]
    },
    {
     "name": "stderr",
     "output_type": "stream",
     "text": [
      "\r",
      " 33%|███▎      | 1/3 [11:43<23:26, 703.33s/it]"
     ]
    },
    {
     "name": "stdout",
     "output_type": "stream",
     "text": [
      "1231_BaselineL\n"
     ]
    },
    {
     "name": "stderr",
     "output_type": "stream",
     "text": [
      "\r",
      " 67%|██████▋   | 2/3 [26:04<12:30, 750.60s/it]"
     ]
    },
    {
     "name": "stdout",
     "output_type": "stream",
     "text": [
      "1231_BaselineS\n"
     ]
    },
    {
     "name": "stderr",
     "output_type": "stream",
     "text": [
      "100%|██████████| 3/3 [37:07<00:00, 724.39s/it]\n",
      "  0%|          | 0/14 [00:00<?, ?it/s]"
     ]
    },
    {
     "name": "stdout",
     "output_type": "stream",
     "text": [
      "cleaning up trace data\n",
      "1236_BaselineA\n"
     ]
    },
    {
     "name": "stderr",
     "output_type": "stream",
     "text": [
      "\r",
      "  7%|▋         | 1/14 [08:00<1:44:11, 480.92s/it]"
     ]
    },
    {
     "name": "stdout",
     "output_type": "stream",
     "text": [
      "1236_BaselineL\n"
     ]
    },
    {
     "name": "stderr",
     "output_type": "stream",
     "text": [
      "\r",
      " 14%|█▍        | 2/14 [14:51<1:31:56, 459.71s/it]"
     ]
    },
    {
     "name": "stdout",
     "output_type": "stream",
     "text": [
      "1236_BaselineS\n"
     ]
    },
    {
     "name": "stderr",
     "output_type": "stream",
     "text": [
      "\r",
      " 21%|██▏       | 3/14 [25:24<1:33:51, 511.91s/it]"
     ]
    },
    {
     "name": "stdout",
     "output_type": "stream",
     "text": [
      "1236_day1\n"
     ]
    },
    {
     "name": "stderr",
     "output_type": "stream",
     "text": [
      "\r",
      " 29%|██▊       | 4/14 [33:39<1:24:25, 506.60s/it]"
     ]
    },
    {
     "name": "stdout",
     "output_type": "stream",
     "text": [
      "1236_day11\n"
     ]
    },
    {
     "name": "stderr",
     "output_type": "stream",
     "text": [
      "\r",
      " 36%|███▌      | 5/14 [40:13<1:10:57, 473.07s/it]"
     ]
    },
    {
     "name": "stdout",
     "output_type": "stream",
     "text": [
      "1236_day13\n"
     ]
    },
    {
     "name": "stderr",
     "output_type": "stream",
     "text": [
      "\r",
      " 43%|████▎     | 6/14 [50:58<1:09:56, 524.55s/it]"
     ]
    },
    {
     "name": "stdout",
     "output_type": "stream",
     "text": [
      "1236_day15A\n"
     ]
    },
    {
     "name": "stderr",
     "output_type": "stream",
     "text": [
      "\r",
      " 50%|█████     | 7/14 [55:42<52:45, 452.24s/it]  "
     ]
    },
    {
     "name": "stdout",
     "output_type": "stream",
     "text": [
      "1236_day19L\n"
     ]
    },
    {
     "name": "stderr",
     "output_type": "stream",
     "text": [
      "\r",
      " 57%|█████▋    | 8/14 [1:00:58<41:08, 411.48s/it]"
     ]
    },
    {
     "name": "stdout",
     "output_type": "stream",
     "text": [
      "1236_day3\n"
     ]
    },
    {
     "name": "stderr",
     "output_type": "stream",
     "text": [
      "\r",
      " 64%|██████▍   | 9/14 [1:06:12<31:51, 382.25s/it]"
     ]
    },
    {
     "name": "stdout",
     "output_type": "stream",
     "text": [
      "1236_day30A\n"
     ]
    },
    {
     "name": "stderr",
     "output_type": "stream",
     "text": [
      "\r",
      " 71%|███████▏  | 10/14 [1:18:14<32:16, 484.16s/it]"
     ]
    },
    {
     "name": "stdout",
     "output_type": "stream",
     "text": [
      "1236_day35L\n"
     ]
    },
    {
     "name": "stderr",
     "output_type": "stream",
     "text": [
      "\r",
      " 79%|███████▊  | 11/14 [1:31:00<28:26, 568.83s/it]"
     ]
    },
    {
     "name": "stdout",
     "output_type": "stream",
     "text": [
      "1236_day5\n"
     ]
    },
    {
     "name": "stderr",
     "output_type": "stream",
     "text": [
      "\r",
      " 86%|████████▌ | 12/14 [1:37:35<17:12, 516.50s/it]"
     ]
    },
    {
     "name": "stdout",
     "output_type": "stream",
     "text": [
      "1236_day7\n"
     ]
    },
    {
     "name": "stderr",
     "output_type": "stream",
     "text": [
      "\r",
      " 93%|█████████▎| 13/14 [1:42:28<07:29, 449.67s/it]"
     ]
    },
    {
     "name": "stdout",
     "output_type": "stream",
     "text": [
      "1236_day9\n"
     ]
    },
    {
     "name": "stderr",
     "output_type": "stream",
     "text": [
      "100%|██████████| 14/14 [1:51:04<00:00, 469.38s/it]\n",
      "  0%|          | 0/3 [00:00<?, ?it/s]"
     ]
    },
    {
     "name": "stdout",
     "output_type": "stream",
     "text": [
      "cleaning up trace data\n",
      "1253_BaselineA\n"
     ]
    },
    {
     "name": "stderr",
     "output_type": "stream",
     "text": [
      "\r",
      " 33%|███▎      | 1/3 [13:48<27:37, 828.64s/it]"
     ]
    },
    {
     "name": "stdout",
     "output_type": "stream",
     "text": [
      "1253_BaselineL\n"
     ]
    },
    {
     "name": "stderr",
     "output_type": "stream",
     "text": [
      "\r",
      " 67%|██████▋   | 2/3 [31:32<14:59, 899.08s/it]"
     ]
    },
    {
     "name": "stdout",
     "output_type": "stream",
     "text": [
      "1253_BaselineS\n"
     ]
    },
    {
     "name": "stderr",
     "output_type": "stream",
     "text": [
      "100%|██████████| 3/3 [1:01:47<00:00, 1174.06s/it]\n",
      "  0%|          | 0/14 [00:00<?, ?it/s]"
     ]
    },
    {
     "name": "stdout",
     "output_type": "stream",
     "text": [
      "cleaning up trace data\n",
      "1793_BaselineA\n"
     ]
    },
    {
     "name": "stderr",
     "output_type": "stream",
     "text": [
      "\r",
      "  7%|▋         | 1/14 [08:49<1:54:45, 529.68s/it]"
     ]
    },
    {
     "name": "stdout",
     "output_type": "stream",
     "text": [
      "1793_BaselineL\n"
     ]
    },
    {
     "name": "stderr",
     "output_type": "stream",
     "text": [
      "\r",
      " 14%|█▍        | 2/14 [1:00:04<4:18:39, 1293.28s/it]"
     ]
    },
    {
     "name": "stdout",
     "output_type": "stream",
     "text": [
      "1793_BaselineS\n"
     ]
    },
    {
     "name": "stderr",
     "output_type": "stream",
     "text": [
      "\r",
      " 21%|██▏       | 3/14 [1:36:29<4:46:07, 1560.68s/it]"
     ]
    },
    {
     "name": "stdout",
     "output_type": "stream",
     "text": [
      "1793_day10\n"
     ]
    },
    {
     "name": "stderr",
     "output_type": "stream",
     "text": [
      "\r",
      " 29%|██▊       | 4/14 [1:44:38<3:26:33, 1239.36s/it]"
     ]
    },
    {
     "name": "stdout",
     "output_type": "stream",
     "text": [
      "1793_day12\n"
     ]
    },
    {
     "name": "stderr",
     "output_type": "stream",
     "text": [
      "\r",
      " 36%|███▌      | 5/14 [1:53:16<2:33:25, 1022.88s/it]"
     ]
    },
    {
     "name": "stdout",
     "output_type": "stream",
     "text": [
      "1793_day14\n"
     ]
    },
    {
     "name": "stderr",
     "output_type": "stream",
     "text": [
      "\r",
      " 43%|████▎     | 6/14 [2:04:08<2:01:31, 911.42s/it] "
     ]
    },
    {
     "name": "stdout",
     "output_type": "stream",
     "text": [
      "1793_day15A\n"
     ]
    },
    {
     "name": "stderr",
     "output_type": "stream",
     "text": [
      "\r",
      " 50%|█████     | 7/14 [2:11:32<1:29:58, 771.25s/it]"
     ]
    },
    {
     "name": "stdout",
     "output_type": "stream",
     "text": [
      "1793_day19L\n"
     ]
    },
    {
     "name": "stderr",
     "output_type": "stream",
     "text": [
      "\r",
      " 57%|█████▋    | 8/14 [2:20:45<1:10:35, 706.00s/it]"
     ]
    },
    {
     "name": "stdout",
     "output_type": "stream",
     "text": [
      "1793_day2\n"
     ]
    },
    {
     "name": "stderr",
     "output_type": "stream",
     "text": [
      "\r",
      " 64%|██████▍   | 9/14 [2:24:35<46:54, 562.95s/it]  "
     ]
    },
    {
     "name": "stdout",
     "output_type": "stream",
     "text": [
      "1793_day30A\n"
     ]
    },
    {
     "name": "stderr",
     "output_type": "stream",
     "text": [
      "\r",
      " 71%|███████▏  | 10/14 [2:36:03<40:01, 600.44s/it]"
     ]
    },
    {
     "name": "stdout",
     "output_type": "stream",
     "text": [
      "1793_day34L\n"
     ]
    },
    {
     "name": "stderr",
     "output_type": "stream",
     "text": [
      "\r",
      " 79%|███████▊  | 11/14 [2:42:49<27:06, 542.32s/it]"
     ]
    },
    {
     "name": "stdout",
     "output_type": "stream",
     "text": [
      "1793_day4\n"
     ]
    },
    {
     "name": "stderr",
     "output_type": "stream",
     "text": [
      "\r",
      " 86%|████████▌ | 12/14 [2:48:08<15:50, 475.28s/it]"
     ]
    },
    {
     "name": "stdout",
     "output_type": "stream",
     "text": [
      "1793_day6\n"
     ]
    },
    {
     "name": "stderr",
     "output_type": "stream",
     "text": [
      "\r",
      " 93%|█████████▎| 13/14 [2:54:03<07:19, 439.21s/it]"
     ]
    },
    {
     "name": "stdout",
     "output_type": "stream",
     "text": [
      "1793_day8\n"
     ]
    },
    {
     "name": "stderr",
     "output_type": "stream",
     "text": [
      "100%|██████████| 14/14 [3:00:54<00:00, 430.60s/it]\n",
      "  0%|          | 0/14 [00:00<?, ?it/s]"
     ]
    },
    {
     "name": "stdout",
     "output_type": "stream",
     "text": [
      "cleaning up trace data\n",
      "2976_BaselineA\n"
     ]
    },
    {
     "name": "stderr",
     "output_type": "stream",
     "text": [
      "\r",
      "  7%|▋         | 1/14 [07:20<1:35:27, 440.56s/it]"
     ]
    },
    {
     "name": "stdout",
     "output_type": "stream",
     "text": [
      "2976_BaselineL\n"
     ]
    },
    {
     "name": "stderr",
     "output_type": "stream",
     "text": [
      "\r",
      " 14%|█▍        | 2/14 [14:57<1:29:04, 445.35s/it]"
     ]
    },
    {
     "name": "stdout",
     "output_type": "stream",
     "text": [
      "2976_BaselineS\n"
     ]
    },
    {
     "name": "stderr",
     "output_type": "stream",
     "text": [
      "\r",
      " 21%|██▏       | 3/14 [26:53<1:36:33, 526.70s/it]"
     ]
    },
    {
     "name": "stdout",
     "output_type": "stream",
     "text": [
      "2976_day10\n"
     ]
    },
    {
     "name": "stderr",
     "output_type": "stream",
     "text": [
      "\r",
      " 29%|██▊       | 4/14 [43:30<1:51:18, 667.87s/it]"
     ]
    },
    {
     "name": "stdout",
     "output_type": "stream",
     "text": [
      "2976_day12\n"
     ]
    },
    {
     "name": "stderr",
     "output_type": "stream",
     "text": [
      "\r",
      " 36%|███▌      | 5/14 [1:02:37<2:01:44, 811.56s/it]"
     ]
    },
    {
     "name": "stdout",
     "output_type": "stream",
     "text": [
      "2976_day14\n"
     ]
    },
    {
     "name": "stderr",
     "output_type": "stream",
     "text": [
      "\r",
      " 43%|████▎     | 6/14 [1:25:44<2:11:12, 984.10s/it]"
     ]
    },
    {
     "name": "stdout",
     "output_type": "stream",
     "text": [
      "2976_day15A\n"
     ]
    },
    {
     "name": "stderr",
     "output_type": "stream",
     "text": [
      "\r",
      " 50%|█████     | 7/14 [1:39:36<1:49:29, 938.47s/it]"
     ]
    },
    {
     "name": "stdout",
     "output_type": "stream",
     "text": [
      "2976_day19L\n"
     ]
    },
    {
     "name": "stderr",
     "output_type": "stream",
     "text": [
      "\r",
      " 57%|█████▋    | 8/14 [1:47:17<1:19:32, 795.35s/it]"
     ]
    },
    {
     "name": "stdout",
     "output_type": "stream",
     "text": [
      "2976_day2\n"
     ]
    },
    {
     "name": "stderr",
     "output_type": "stream",
     "text": [
      "\r",
      " 64%|██████▍   | 9/14 [2:02:09<1:08:41, 824.24s/it]"
     ]
    },
    {
     "name": "stdout",
     "output_type": "stream",
     "text": [
      "2976_day30A\n"
     ]
    },
    {
     "name": "stderr",
     "output_type": "stream",
     "text": [
      "\r",
      " 71%|███████▏  | 10/14 [2:07:35<44:58, 674.66s/it] "
     ]
    },
    {
     "name": "stdout",
     "output_type": "stream",
     "text": [
      "2976_day35L\n"
     ]
    },
    {
     "name": "stderr",
     "output_type": "stream",
     "text": [
      "\r",
      " 79%|███████▊  | 11/14 [2:14:01<29:24, 588.15s/it]"
     ]
    },
    {
     "name": "stdout",
     "output_type": "stream",
     "text": [
      "2976_day4\n"
     ]
    },
    {
     "name": "stderr",
     "output_type": "stream",
     "text": [
      "\r",
      " 86%|████████▌ | 12/14 [2:24:31<20:01, 600.64s/it]"
     ]
    },
    {
     "name": "stdout",
     "output_type": "stream",
     "text": [
      "2976_day6\n"
     ]
    },
    {
     "name": "stderr",
     "output_type": "stream",
     "text": [
      "\r",
      " 93%|█████████▎| 13/14 [2:37:32<10:54, 654.80s/it]"
     ]
    },
    {
     "name": "stdout",
     "output_type": "stream",
     "text": [
      "2976_day8\n"
     ]
    },
    {
     "name": "stderr",
     "output_type": "stream",
     "text": [
      "100%|██████████| 14/14 [2:50:21<00:00, 689.01s/it]\n",
      "  0%|          | 0/14 [00:00<?, ?it/s]"
     ]
    },
    {
     "name": "stdout",
     "output_type": "stream",
     "text": [
      "cleaning up trace data\n",
      "2980_BaselineA\n"
     ]
    },
    {
     "name": "stderr",
     "output_type": "stream",
     "text": [
      "\r",
      "  7%|▋         | 1/14 [06:22<1:22:49, 382.26s/it]"
     ]
    },
    {
     "name": "stdout",
     "output_type": "stream",
     "text": [
      "2980_BaselineL\n"
     ]
    },
    {
     "name": "stderr",
     "output_type": "stream",
     "text": [
      "\r",
      " 14%|█▍        | 2/14 [14:51<1:24:04, 420.34s/it]"
     ]
    },
    {
     "name": "stdout",
     "output_type": "stream",
     "text": [
      "2980_BaselineS\n"
     ]
    },
    {
     "name": "stderr",
     "output_type": "stream",
     "text": [
      "\r",
      " 21%|██▏       | 3/14 [24:10<1:24:40, 461.85s/it]"
     ]
    },
    {
     "name": "stdout",
     "output_type": "stream",
     "text": [
      "2980_day10\n"
     ]
    },
    {
     "name": "stderr",
     "output_type": "stream",
     "text": [
      "\r",
      " 29%|██▊       | 4/14 [28:34<1:07:05, 402.53s/it]"
     ]
    },
    {
     "name": "stdout",
     "output_type": "stream",
     "text": [
      "2980_day12\n"
     ]
    },
    {
     "name": "stderr",
     "output_type": "stream",
     "text": [
      "\r",
      " 36%|███▌      | 5/14 [31:18<49:38, 330.95s/it]  "
     ]
    },
    {
     "name": "stdout",
     "output_type": "stream",
     "text": [
      "2980_day14\n"
     ]
    },
    {
     "name": "stderr",
     "output_type": "stream",
     "text": [
      "\r",
      " 43%|████▎     | 6/14 [38:33<48:17, 362.23s/it]"
     ]
    },
    {
     "name": "stdout",
     "output_type": "stream",
     "text": [
      "2980_day15A\n"
     ]
    },
    {
     "name": "stderr",
     "output_type": "stream",
     "text": [
      "\r",
      " 50%|█████     | 7/14 [47:26<48:14, 413.49s/it]"
     ]
    },
    {
     "name": "stdout",
     "output_type": "stream",
     "text": [
      "2980_day19L\n"
     ]
    },
    {
     "name": "stderr",
     "output_type": "stream",
     "text": [
      "\r",
      " 57%|█████▋    | 8/14 [57:00<46:09, 461.50s/it]"
     ]
    },
    {
     "name": "stdout",
     "output_type": "stream",
     "text": [
      "2980_day2\n"
     ]
    },
    {
     "name": "stderr",
     "output_type": "stream",
     "text": [
      "\r",
      " 64%|██████▍   | 9/14 [59:51<31:11, 374.39s/it]"
     ]
    },
    {
     "name": "stdout",
     "output_type": "stream",
     "text": [
      "2980_day30A\n"
     ]
    },
    {
     "name": "stderr",
     "output_type": "stream",
     "text": [
      "\r",
      " 71%|███████▏  | 10/14 [1:07:04<26:08, 392.08s/it]"
     ]
    },
    {
     "name": "stdout",
     "output_type": "stream",
     "text": [
      "2980_day35L\n"
     ]
    },
    {
     "name": "stderr",
     "output_type": "stream",
     "text": [
      "\r",
      " 79%|███████▊  | 11/14 [1:22:05<27:14, 544.71s/it]"
     ]
    },
    {
     "name": "stdout",
     "output_type": "stream",
     "text": [
      "2980_day4\n"
     ]
    },
    {
     "name": "stderr",
     "output_type": "stream",
     "text": [
      "\r",
      " 86%|████████▌ | 12/14 [1:24:00<13:51, 415.73s/it]"
     ]
    },
    {
     "name": "stdout",
     "output_type": "stream",
     "text": [
      "2980_day6\n"
     ]
    },
    {
     "name": "stderr",
     "output_type": "stream",
     "text": [
      "\r",
      " 93%|█████████▎| 13/14 [1:26:24<05:34, 334.37s/it]"
     ]
    },
    {
     "name": "stdout",
     "output_type": "stream",
     "text": [
      "2980_day8\n"
     ]
    },
    {
     "name": "stderr",
     "output_type": "stream",
     "text": [
      "100%|██████████| 14/14 [1:28:48<00:00, 277.29s/it]\n",
      "  0%|          | 0/14 [00:00<?, ?it/s]"
     ]
    },
    {
     "name": "stdout",
     "output_type": "stream",
     "text": [
      "cleaning up trace data\n",
      "2981_BaselineA\n"
     ]
    },
    {
     "name": "stderr",
     "output_type": "stream",
     "text": [
      "\r",
      "  7%|▋         | 1/14 [06:25<1:23:28, 385.27s/it]"
     ]
    },
    {
     "name": "stdout",
     "output_type": "stream",
     "text": [
      "2981_BaselineL\n"
     ]
    },
    {
     "name": "stderr",
     "output_type": "stream",
     "text": [
      "\r",
      " 14%|█▍        | 2/14 [16:23<1:29:50, 449.25s/it]"
     ]
    },
    {
     "name": "stdout",
     "output_type": "stream",
     "text": [
      "2981_BaselineS\n"
     ]
    },
    {
     "name": "stderr",
     "output_type": "stream",
     "text": [
      "\r",
      " 21%|██▏       | 3/14 [30:00<1:42:33, 559.45s/it]"
     ]
    },
    {
     "name": "stdout",
     "output_type": "stream",
     "text": [
      "2981_day10\n"
     ]
    },
    {
     "name": "stderr",
     "output_type": "stream",
     "text": [
      "\r",
      " 29%|██▊       | 4/14 [38:30<1:30:47, 544.76s/it]"
     ]
    },
    {
     "name": "stdout",
     "output_type": "stream",
     "text": [
      "2981_day12\n"
     ]
    },
    {
     "name": "stderr",
     "output_type": "stream",
     "text": [
      "\r",
      " 36%|███▌      | 5/14 [48:28<1:24:06, 560.71s/it]"
     ]
    },
    {
     "name": "stdout",
     "output_type": "stream",
     "text": [
      "2981_day14\n"
     ]
    },
    {
     "name": "stderr",
     "output_type": "stream",
     "text": [
      "\r",
      " 43%|████▎     | 6/14 [59:35<1:19:00, 592.54s/it]"
     ]
    },
    {
     "name": "stdout",
     "output_type": "stream",
     "text": [
      "2981_day15A\n"
     ]
    },
    {
     "name": "stderr",
     "output_type": "stream",
     "text": [
      "\r",
      " 50%|█████     | 7/14 [1:14:32<1:19:47, 683.97s/it]"
     ]
    },
    {
     "name": "stdout",
     "output_type": "stream",
     "text": [
      "2981_day19L\n"
     ]
    },
    {
     "name": "stderr",
     "output_type": "stream",
     "text": [
      "\r",
      " 57%|█████▋    | 8/14 [1:33:23<1:21:48, 818.10s/it]"
     ]
    },
    {
     "name": "stdout",
     "output_type": "stream",
     "text": [
      "2981_day2\n"
     ]
    },
    {
     "name": "stderr",
     "output_type": "stream",
     "text": [
      "\r",
      " 64%|██████▍   | 9/14 [1:40:06<57:47, 693.54s/it]  "
     ]
    },
    {
     "name": "stdout",
     "output_type": "stream",
     "text": [
      "2981_day30A\n"
     ]
    },
    {
     "name": "stderr",
     "output_type": "stream",
     "text": [
      "\r",
      " 71%|███████▏  | 10/14 [1:58:03<53:53, 808.49s/it]"
     ]
    },
    {
     "name": "stdout",
     "output_type": "stream",
     "text": [
      "2981_day35L\n"
     ]
    },
    {
     "name": "stderr",
     "output_type": "stream",
     "text": [
      "\r",
      " 79%|███████▊  | 11/14 [2:20:15<48:16, 965.63s/it]"
     ]
    },
    {
     "name": "stdout",
     "output_type": "stream",
     "text": [
      "2981_day4\n"
     ]
    },
    {
     "name": "stderr",
     "output_type": "stream",
     "text": [
      "\r",
      " 86%|████████▌ | 12/14 [2:25:25<25:37, 768.78s/it]"
     ]
    },
    {
     "name": "stdout",
     "output_type": "stream",
     "text": [
      "2981_day6\n"
     ]
    },
    {
     "name": "stderr",
     "output_type": "stream",
     "text": [
      "\r",
      " 93%|█████████▎| 13/14 [2:33:44<11:27, 687.82s/it]"
     ]
    },
    {
     "name": "stdout",
     "output_type": "stream",
     "text": [
      "2981_day8\n"
     ]
    },
    {
     "name": "stderr",
     "output_type": "stream",
     "text": [
      "100%|██████████| 14/14 [2:40:56<00:00, 611.12s/it]\n",
      "  0%|          | 0/19 [00:00<?, ?it/s]"
     ]
    },
    {
     "name": "stdout",
     "output_type": "stream",
     "text": [
      "cleaning up trace data\n",
      "4539_Baseline2A\n"
     ]
    },
    {
     "name": "stderr",
     "output_type": "stream",
     "text": [
      "\r",
      "  5%|▌         | 1/19 [15:50<4:45:11, 950.63s/it]"
     ]
    },
    {
     "name": "stdout",
     "output_type": "stream",
     "text": [
      "4539_BaselineA\n"
     ]
    },
    {
     "name": "stderr",
     "output_type": "stream",
     "text": [
      "\r",
      " 11%|█         | 2/19 [44:28<5:34:34, 1180.86s/it]"
     ]
    },
    {
     "name": "stdout",
     "output_type": "stream",
     "text": [
      "4539_day0\n"
     ]
    },
    {
     "name": "stderr",
     "output_type": "stream",
     "text": [
      "\r",
      " 16%|█▌        | 3/19 [59:33<4:52:48, 1098.03s/it]"
     ]
    },
    {
     "name": "stdout",
     "output_type": "stream",
     "text": [
      "4539_day1\n"
     ]
    },
    {
     "name": "stderr",
     "output_type": "stream",
     "text": [
      "\r",
      " 21%|██        | 4/19 [1:08:53<3:54:11, 936.74s/it]"
     ]
    },
    {
     "name": "stdout",
     "output_type": "stream",
     "text": [
      "4539_day10\n"
     ]
    },
    {
     "name": "stderr",
     "output_type": "stream",
     "text": [
      "\r",
      " 26%|██▋       | 5/19 [1:16:57<3:06:50, 800.77s/it]"
     ]
    },
    {
     "name": "stdout",
     "output_type": "stream",
     "text": [
      "4539_day11\n"
     ]
    },
    {
     "name": "stderr",
     "output_type": "stream",
     "text": [
      "\r",
      " 32%|███▏      | 6/19 [1:25:45<2:35:47, 719.05s/it]"
     ]
    },
    {
     "name": "stdout",
     "output_type": "stream",
     "text": [
      "4539_day12\n"
     ]
    },
    {
     "name": "stderr",
     "output_type": "stream",
     "text": [
      "\r",
      " 37%|███▋      | 7/19 [1:34:20<2:11:34, 657.89s/it]"
     ]
    },
    {
     "name": "stdout",
     "output_type": "stream",
     "text": [
      "4539_day13\n"
     ]
    },
    {
     "name": "stderr",
     "output_type": "stream",
     "text": [
      "\r",
      " 42%|████▏     | 8/19 [1:39:42<1:42:05, 556.91s/it]"
     ]
    },
    {
     "name": "stdout",
     "output_type": "stream",
     "text": [
      "4539_day14\n"
     ]
    },
    {
     "name": "stderr",
     "output_type": "stream",
     "text": [
      "\r",
      " 47%|████▋     | 9/19 [1:48:02<1:29:57, 539.79s/it]"
     ]
    },
    {
     "name": "stdout",
     "output_type": "stream",
     "text": [
      "4539_day15A\n"
     ]
    },
    {
     "name": "stderr",
     "output_type": "stream",
     "text": [
      "\r",
      " 53%|█████▎    | 10/19 [1:53:30<1:11:26, 476.26s/it]"
     ]
    },
    {
     "name": "stdout",
     "output_type": "stream",
     "text": [
      "4539_day2\n"
     ]
    },
    {
     "name": "stderr",
     "output_type": "stream",
     "text": [
      "\r",
      " 58%|█████▊    | 11/19 [2:00:33<1:01:24, 460.51s/it]"
     ]
    },
    {
     "name": "stdout",
     "output_type": "stream",
     "text": [
      "4539_day3\n"
     ]
    },
    {
     "name": "stderr",
     "output_type": "stream",
     "text": [
      "\r",
      " 63%|██████▎   | 12/19 [2:02:22<41:24, 354.96s/it]  "
     ]
    },
    {
     "name": "stdout",
     "output_type": "stream",
     "text": [
      "4539_day30A\n"
     ]
    },
    {
     "name": "stderr",
     "output_type": "stream",
     "text": [
      "\r",
      " 68%|██████▊   | 13/19 [2:02:57<25:53, 258.92s/it]"
     ]
    },
    {
     "name": "stdout",
     "output_type": "stream",
     "text": [
      "4539_day4\n"
     ]
    },
    {
     "name": "stderr",
     "output_type": "stream",
     "text": [
      "\r",
      " 74%|███████▎  | 14/19 [2:07:42<22:14, 266.95s/it]"
     ]
    },
    {
     "name": "stdout",
     "output_type": "stream",
     "text": [
      "4539_day5\n"
     ]
    },
    {
     "name": "stderr",
     "output_type": "stream",
     "text": [
      "\r",
      " 79%|███████▉  | 15/19 [2:08:56<13:55, 208.84s/it]"
     ]
    },
    {
     "name": "stdout",
     "output_type": "stream",
     "text": [
      "4539_day6\n"
     ]
    },
    {
     "name": "stderr",
     "output_type": "stream",
     "text": [
      "\r",
      " 84%|████████▍ | 16/19 [2:15:22<13:06, 262.07s/it]"
     ]
    },
    {
     "name": "stdout",
     "output_type": "stream",
     "text": [
      "4539_day7\n"
     ]
    },
    {
     "name": "stderr",
     "output_type": "stream",
     "text": [
      "\r",
      " 89%|████████▉ | 17/19 [2:18:20<07:53, 236.70s/it]"
     ]
    },
    {
     "name": "stdout",
     "output_type": "stream",
     "text": [
      "4539_day8\n"
     ]
    },
    {
     "name": "stderr",
     "output_type": "stream",
     "text": [
      "\r",
      " 95%|█████████▍| 18/19 [2:26:53<05:19, 319.76s/it]"
     ]
    },
    {
     "name": "stdout",
     "output_type": "stream",
     "text": [
      "4539_day9\n"
     ]
    },
    {
     "name": "stderr",
     "output_type": "stream",
     "text": [
      "100%|██████████| 19/19 [2:34:08<00:00, 354.33s/it]\n",
      "  0%|          | 0/17 [00:00<?, ?it/s]"
     ]
    },
    {
     "name": "stdout",
     "output_type": "stream",
     "text": [
      "cleaning up trace data\n",
      "7584_Baseline0\n"
     ]
    },
    {
     "name": "stderr",
     "output_type": "stream",
     "text": [
      "\r",
      "  6%|▌         | 1/17 [15:09<4:02:38, 909.93s/it]"
     ]
    },
    {
     "name": "stdout",
     "output_type": "stream",
     "text": [
      "7584_BaselineA\n"
     ]
    },
    {
     "name": "stderr",
     "output_type": "stream",
     "text": [
      "\r",
      " 12%|█▏        | 2/17 [17:18<2:48:54, 675.64s/it]"
     ]
    },
    {
     "name": "stdout",
     "output_type": "stream",
     "text": [
      "7584_day0\n"
     ]
    },
    {
     "name": "stderr",
     "output_type": "stream",
     "text": [
      "\r",
      " 18%|█▊        | 3/17 [20:59<2:05:49, 539.28s/it]"
     ]
    },
    {
     "name": "stdout",
     "output_type": "stream",
     "text": [
      "7584_day1\n"
     ]
    },
    {
     "name": "stderr",
     "output_type": "stream",
     "text": [
      "\r",
      " 24%|██▎       | 4/17 [36:29<2:22:11, 656.29s/it]"
     ]
    },
    {
     "name": "stdout",
     "output_type": "stream",
     "text": [
      "7584_day10\n"
     ]
    },
    {
     "name": "stderr",
     "output_type": "stream",
     "text": [
      "\r",
      " 29%|██▉       | 5/17 [1:10:16<3:33:31, 1067.61s/it]"
     ]
    },
    {
     "name": "stdout",
     "output_type": "stream",
     "text": [
      "7584_day11\n"
     ]
    },
    {
     "name": "stderr",
     "output_type": "stream",
     "text": [
      "\r",
      " 35%|███▌      | 6/17 [1:49:25<4:26:10, 1451.84s/it]"
     ]
    },
    {
     "name": "stdout",
     "output_type": "stream",
     "text": [
      "7584_day12\n"
     ]
    },
    {
     "name": "stderr",
     "output_type": "stream",
     "text": [
      "\r",
      " 41%|████      | 7/17 [2:22:34<4:28:51, 1613.11s/it]"
     ]
    },
    {
     "name": "stdout",
     "output_type": "stream",
     "text": [
      "7584_day15\n"
     ]
    },
    {
     "name": "stderr",
     "output_type": "stream",
     "text": [
      "\r",
      " 47%|████▋     | 8/17 [3:06:37<4:48:18, 1922.00s/it]"
     ]
    },
    {
     "name": "stdout",
     "output_type": "stream",
     "text": [
      "7584_day2\n"
     ]
    },
    {
     "name": "stderr",
     "output_type": "stream",
     "text": [
      "\r",
      " 53%|█████▎    | 9/17 [3:27:59<3:50:40, 1730.04s/it]"
     ]
    },
    {
     "name": "stdout",
     "output_type": "stream",
     "text": [
      "7584_day3\n"
     ]
    },
    {
     "name": "stderr",
     "output_type": "stream",
     "text": [
      "\r",
      " 59%|█████▉    | 10/17 [3:51:32<3:10:45, 1635.12s/it]"
     ]
    },
    {
     "name": "stdout",
     "output_type": "stream",
     "text": [
      "7584_day30A\n"
     ]
    },
    {
     "name": "stderr",
     "output_type": "stream",
     "text": [
      "\r",
      " 65%|██████▍   | 11/17 [4:25:16<2:55:09, 1751.51s/it]"
     ]
    },
    {
     "name": "stdout",
     "output_type": "stream",
     "text": [
      "7584_day4\n"
     ]
    },
    {
     "name": "stderr",
     "output_type": "stream",
     "text": [
      "\r",
      " 71%|███████   | 12/17 [4:50:18<2:19:44, 1676.84s/it]"
     ]
    },
    {
     "name": "stdout",
     "output_type": "stream",
     "text": [
      "7584_day5\n"
     ]
    },
    {
     "name": "stderr",
     "output_type": "stream",
     "text": [
      "\r",
      " 76%|███████▋  | 13/17 [5:21:06<1:55:12, 1728.24s/it]"
     ]
    },
    {
     "name": "stdout",
     "output_type": "stream",
     "text": [
      "7584_day6\n"
     ]
    },
    {
     "name": "stderr",
     "output_type": "stream",
     "text": [
      "\r",
      " 82%|████████▏ | 14/17 [5:56:22<1:32:13, 1844.37s/it]"
     ]
    },
    {
     "name": "stdout",
     "output_type": "stream",
     "text": [
      "7584_day7\n"
     ]
    },
    {
     "name": "stderr",
     "output_type": "stream",
     "text": [
      "\r",
      " 88%|████████▊ | 15/17 [6:28:46<1:02:28, 1874.40s/it]"
     ]
    },
    {
     "name": "stdout",
     "output_type": "stream",
     "text": [
      "7584_day8\n"
     ]
    },
    {
     "name": "stderr",
     "output_type": "stream",
     "text": [
      "\r",
      " 94%|█████████▍| 16/17 [6:54:16<29:31, 1771.10s/it]  "
     ]
    },
    {
     "name": "stdout",
     "output_type": "stream",
     "text": [
      "7584_day9\n"
     ]
    },
    {
     "name": "stderr",
     "output_type": "stream",
     "text": [
      "100%|██████████| 17/17 [7:30:20<00:00, 1888.83s/it]\n",
      "  0%|          | 0/19 [00:00<?, ?it/s]"
     ]
    },
    {
     "name": "stdout",
     "output_type": "stream",
     "text": [
      "cleaning up trace data\n",
      "7909_Baseline2A\n"
     ]
    },
    {
     "name": "stderr",
     "output_type": "stream",
     "text": [
      "\r",
      "  5%|▌         | 1/19 [32:34<9:46:24, 1954.71s/it]"
     ]
    },
    {
     "name": "stdout",
     "output_type": "stream",
     "text": [
      "7909_BaselineA\n"
     ]
    },
    {
     "name": "stderr",
     "output_type": "stream",
     "text": [
      "\r",
      " 11%|█         | 2/19 [44:31<7:28:34, 1583.19s/it]"
     ]
    },
    {
     "name": "stdout",
     "output_type": "stream",
     "text": [
      "7909_day0\n"
     ]
    },
    {
     "name": "stderr",
     "output_type": "stream",
     "text": [
      "\r",
      " 16%|█▌        | 3/19 [51:53<5:30:56, 1241.02s/it]"
     ]
    },
    {
     "name": "stdout",
     "output_type": "stream",
     "text": [
      "7909_day1\n"
     ]
    },
    {
     "name": "stderr",
     "output_type": "stream",
     "text": [
      "\r",
      " 21%|██        | 4/19 [56:58<4:00:01, 960.12s/it] "
     ]
    },
    {
     "name": "stdout",
     "output_type": "stream",
     "text": [
      "7909_day10\n"
     ]
    },
    {
     "name": "stderr",
     "output_type": "stream",
     "text": [
      "\r",
      " 26%|██▋       | 5/19 [1:02:52<3:01:37, 778.42s/it]"
     ]
    },
    {
     "name": "stdout",
     "output_type": "stream",
     "text": [
      "7909_day11\n"
     ]
    },
    {
     "name": "stderr",
     "output_type": "stream",
     "text": [
      "\r",
      " 32%|███▏      | 6/19 [1:06:35<2:12:33, 611.78s/it]"
     ]
    },
    {
     "name": "stdout",
     "output_type": "stream",
     "text": [
      "7909_day12\n"
     ]
    },
    {
     "name": "stderr",
     "output_type": "stream",
     "text": [
      "\r",
      " 37%|███▋      | 7/19 [1:15:53<1:59:05, 595.50s/it]"
     ]
    },
    {
     "name": "stdout",
     "output_type": "stream",
     "text": [
      "7909_day13\n"
     ]
    },
    {
     "name": "stderr",
     "output_type": "stream",
     "text": [
      "\r",
      " 42%|████▏     | 8/19 [1:26:36<1:51:46, 609.70s/it]"
     ]
    },
    {
     "name": "stdout",
     "output_type": "stream",
     "text": [
      "7909_day14\n"
     ]
    },
    {
     "name": "stderr",
     "output_type": "stream",
     "text": [
      "\r",
      " 47%|████▋     | 9/19 [1:39:45<1:50:36, 663.61s/it]"
     ]
    },
    {
     "name": "stdout",
     "output_type": "stream",
     "text": [
      "7909_day15A\n"
     ]
    },
    {
     "name": "stderr",
     "output_type": "stream",
     "text": [
      "\r",
      " 53%|█████▎    | 10/19 [2:01:42<2:08:57, 859.73s/it]"
     ]
    },
    {
     "name": "stdout",
     "output_type": "stream",
     "text": [
      "7909_day2\n"
     ]
    },
    {
     "name": "stderr",
     "output_type": "stream",
     "text": [
      "\r",
      " 58%|█████▊    | 11/19 [2:16:16<1:55:11, 863.88s/it]"
     ]
    },
    {
     "name": "stdout",
     "output_type": "stream",
     "text": [
      "7909_day3\n"
     ]
    },
    {
     "name": "stderr",
     "output_type": "stream",
     "text": [
      "\r",
      " 63%|██████▎   | 12/19 [2:30:44<1:40:56, 865.28s/it]"
     ]
    },
    {
     "name": "stdout",
     "output_type": "stream",
     "text": [
      "7909_day30A\n"
     ]
    },
    {
     "name": "stderr",
     "output_type": "stream",
     "text": [
      "\r",
      " 68%|██████▊   | 13/19 [2:32:47<1:04:14, 642.43s/it]"
     ]
    },
    {
     "name": "stdout",
     "output_type": "stream",
     "text": [
      "7909_day4\n"
     ]
    },
    {
     "name": "stderr",
     "output_type": "stream",
     "text": [
      "\r",
      " 74%|███████▎  | 14/19 [2:52:23<1:06:52, 802.55s/it]"
     ]
    },
    {
     "name": "stdout",
     "output_type": "stream",
     "text": [
      "7909_day5\n"
     ]
    },
    {
     "name": "stderr",
     "output_type": "stream",
     "text": [
      "\r",
      " 79%|███████▉  | 15/19 [3:02:39<49:46, 746.53s/it]  "
     ]
    },
    {
     "name": "stdout",
     "output_type": "stream",
     "text": [
      "7909_day6\n"
     ]
    },
    {
     "name": "stderr",
     "output_type": "stream",
     "text": [
      "\r",
      " 84%|████████▍ | 16/19 [3:12:43<35:11, 703.90s/it]"
     ]
    },
    {
     "name": "stdout",
     "output_type": "stream",
     "text": [
      "7909_day7\n"
     ]
    },
    {
     "name": "stderr",
     "output_type": "stream",
     "text": [
      "\r",
      " 89%|████████▉ | 17/19 [3:20:22<21:00, 630.31s/it]"
     ]
    },
    {
     "name": "stdout",
     "output_type": "stream",
     "text": [
      "7909_day8\n"
     ]
    },
    {
     "name": "stderr",
     "output_type": "stream",
     "text": [
      "\r",
      " 95%|█████████▍| 18/19 [3:29:23<10:03, 603.49s/it]"
     ]
    },
    {
     "name": "stdout",
     "output_type": "stream",
     "text": [
      "7909_day9\n"
     ]
    },
    {
     "name": "stderr",
     "output_type": "stream",
     "text": [
      "100%|██████████| 19/19 [3:38:53<00:00, 593.64s/it]\n",
      "  0%|          | 0/13 [00:00<?, ?it/s]"
     ]
    },
    {
     "name": "stdout",
     "output_type": "stream",
     "text": [
      "cleaning up trace data\n",
      "8430_BaselineA\n"
     ]
    },
    {
     "name": "stderr",
     "output_type": "stream",
     "text": [
      "\r",
      "  8%|▊         | 1/13 [12:18<2:27:38, 738.21s/it]"
     ]
    },
    {
     "name": "stdout",
     "output_type": "stream",
     "text": [
      "8430_BaselineL\n"
     ]
    },
    {
     "name": "stderr",
     "output_type": "stream",
     "text": [
      "\r",
      " 15%|█▌        | 2/13 [18:09<1:54:02, 622.09s/it]"
     ]
    },
    {
     "name": "stdout",
     "output_type": "stream",
     "text": [
      "8430_BaselineS\n"
     ]
    },
    {
     "name": "stderr",
     "output_type": "stream",
     "text": [
      "\r",
      " 23%|██▎       | 3/13 [24:41<1:32:11, 553.18s/it]"
     ]
    },
    {
     "name": "stdout",
     "output_type": "stream",
     "text": [
      "8430_day1\n"
     ]
    },
    {
     "name": "stderr",
     "output_type": "stream",
     "text": [
      "\r",
      " 31%|███       | 4/13 [24:55<58:41, 391.23s/it]  "
     ]
    },
    {
     "name": "stdout",
     "output_type": "stream",
     "text": [
      "8430_day11\n"
     ]
    },
    {
     "name": "stderr",
     "output_type": "stream",
     "text": [
      "\r",
      " 38%|███▊      | 5/13 [45:33<1:26:03, 645.40s/it]"
     ]
    },
    {
     "name": "stdout",
     "output_type": "stream",
     "text": [
      "8430_day15A\n"
     ]
    },
    {
     "name": "stderr",
     "output_type": "stream",
     "text": [
      "\r",
      " 46%|████▌     | 6/13 [52:07<1:06:29, 569.87s/it]"
     ]
    },
    {
     "name": "stdout",
     "output_type": "stream",
     "text": [
      "8430_day19L\n"
     ]
    },
    {
     "name": "stderr",
     "output_type": "stream",
     "text": [
      "\r",
      " 54%|█████▍    | 7/13 [1:02:29<58:33, 585.60s/it]"
     ]
    },
    {
     "name": "stdout",
     "output_type": "stream",
     "text": [
      "8430_day3\n"
     ]
    },
    {
     "name": "stderr",
     "output_type": "stream",
     "text": [
      "\r",
      " 62%|██████▏   | 8/13 [1:06:41<40:26, 485.40s/it]"
     ]
    },
    {
     "name": "stdout",
     "output_type": "stream",
     "text": [
      "8430_day30A\n"
     ]
    },
    {
     "name": "stderr",
     "output_type": "stream",
     "text": [
      "\r",
      " 69%|██████▉   | 9/13 [1:18:27<36:46, 551.72s/it]"
     ]
    },
    {
     "name": "stdout",
     "output_type": "stream",
     "text": [
      "8430_day35L\n"
     ]
    },
    {
     "name": "stderr",
     "output_type": "stream",
     "text": [
      "\r",
      " 77%|███████▋  | 10/13 [1:25:26<25:35, 511.78s/it]"
     ]
    },
    {
     "name": "stdout",
     "output_type": "stream",
     "text": [
      "8430_day5\n"
     ]
    },
    {
     "name": "stderr",
     "output_type": "stream",
     "text": [
      "\r",
      " 85%|████████▍ | 11/13 [1:41:18<21:27, 643.88s/it]"
     ]
    },
    {
     "name": "stdout",
     "output_type": "stream",
     "text": [
      "8430_day7\n"
     ]
    },
    {
     "name": "stderr",
     "output_type": "stream",
     "text": [
      "\r",
      " 92%|█████████▏| 12/13 [1:56:36<12:06, 726.20s/it]"
     ]
    },
    {
     "name": "stdout",
     "output_type": "stream",
     "text": [
      "8430_day9\n"
     ]
    },
    {
     "name": "stderr",
     "output_type": "stream",
     "text": [
      "100%|██████████| 13/13 [2:01:24<00:00, 594.87s/it]\n",
      "  0%|          | 0/14 [00:00<?, ?it/s]"
     ]
    },
    {
     "name": "stdout",
     "output_type": "stream",
     "text": [
      "cleaning up trace data\n",
      "8803_BaselineA\n"
     ]
    },
    {
     "name": "stderr",
     "output_type": "stream",
     "text": [
      "\r",
      "  7%|▋         | 1/14 [09:14<2:00:11, 554.70s/it]"
     ]
    },
    {
     "name": "stdout",
     "output_type": "stream",
     "text": [
      "8803_BaselineL\n"
     ]
    },
    {
     "name": "stderr",
     "output_type": "stream",
     "text": [
      "\r",
      " 14%|█▍        | 2/14 [19:58<1:56:16, 581.41s/it]"
     ]
    },
    {
     "name": "stdout",
     "output_type": "stream",
     "text": [
      "8803_BaselineS\n"
     ]
    },
    {
     "name": "stderr",
     "output_type": "stream",
     "text": [
      "\r",
      " 21%|██▏       | 3/14 [30:17<1:48:40, 592.81s/it]"
     ]
    },
    {
     "name": "stdout",
     "output_type": "stream",
     "text": [
      "8803_day10\n"
     ]
    },
    {
     "name": "stderr",
     "output_type": "stream",
     "text": [
      "\r",
      " 29%|██▊       | 4/14 [34:28<1:21:41, 490.19s/it]"
     ]
    },
    {
     "name": "stdout",
     "output_type": "stream",
     "text": [
      "8803_day12\n"
     ]
    },
    {
     "name": "stderr",
     "output_type": "stream",
     "text": [
      "\r",
      " 36%|███▌      | 5/14 [39:56<1:06:12, 441.36s/it]"
     ]
    },
    {
     "name": "stdout",
     "output_type": "stream",
     "text": [
      "8803_day14\n"
     ]
    },
    {
     "name": "stderr",
     "output_type": "stream",
     "text": [
      "\r",
      " 43%|████▎     | 6/14 [50:25<1:06:23, 497.88s/it]"
     ]
    },
    {
     "name": "stdout",
     "output_type": "stream",
     "text": [
      "8803_day19L\n"
     ]
    },
    {
     "name": "stderr",
     "output_type": "stream",
     "text": [
      "\r",
      " 50%|█████     | 7/14 [57:15<55:00, 471.47s/it]  "
     ]
    },
    {
     "name": "stdout",
     "output_type": "stream",
     "text": [
      "8803_day2\n"
     ]
    },
    {
     "name": "stderr",
     "output_type": "stream",
     "text": [
      "\r",
      " 57%|█████▋    | 8/14 [1:03:07<43:34, 435.69s/it]"
     ]
    },
    {
     "name": "stdout",
     "output_type": "stream",
     "text": [
      "8803_day30A\n"
     ]
    },
    {
     "name": "stderr",
     "output_type": "stream",
     "text": [
      "\r",
      " 64%|██████▍   | 9/14 [1:06:52<31:02, 372.40s/it]"
     ]
    },
    {
     "name": "stdout",
     "output_type": "stream",
     "text": [
      "8803_day34L\n"
     ]
    },
    {
     "name": "stderr",
     "output_type": "stream",
     "text": [
      "\r",
      " 71%|███████▏  | 10/14 [1:13:08<24:53, 373.43s/it]"
     ]
    },
    {
     "name": "stdout",
     "output_type": "stream",
     "text": [
      "8803_day4\n"
     ]
    },
    {
     "name": "stderr",
     "output_type": "stream",
     "text": [
      "\r",
      " 79%|███████▊  | 11/14 [1:19:54<19:09, 383.21s/it]"
     ]
    },
    {
     "name": "stdout",
     "output_type": "stream",
     "text": [
      "8803_day5\n"
     ]
    },
    {
     "name": "stderr",
     "output_type": "stream",
     "text": [
      "\r",
      " 86%|████████▌ | 12/14 [1:25:41<12:24, 372.23s/it]"
     ]
    },
    {
     "name": "stdout",
     "output_type": "stream",
     "text": [
      "8803_day6\n"
     ]
    },
    {
     "name": "stderr",
     "output_type": "stream",
     "text": [
      "\r",
      " 93%|█████████▎| 13/14 [1:29:49<05:35, 335.19s/it]"
     ]
    },
    {
     "name": "stdout",
     "output_type": "stream",
     "text": [
      "8803_day8\n"
     ]
    },
    {
     "name": "stderr",
     "output_type": "stream",
     "text": [
      "100%|██████████| 14/14 [1:37:33<00:00, 373.85s/it]\n",
      "  0%|          | 0/14 [00:00<?, ?it/s]"
     ]
    },
    {
     "name": "stdout",
     "output_type": "stream",
     "text": [
      "cleaning up trace data\n",
      "8815_BaselineA\n"
     ]
    },
    {
     "name": "stderr",
     "output_type": "stream",
     "text": [
      "\r",
      "  7%|▋         | 1/14 [05:13<1:08:01, 313.97s/it]"
     ]
    },
    {
     "name": "stdout",
     "output_type": "stream",
     "text": [
      "8815_BaselineL\n"
     ]
    },
    {
     "name": "stderr",
     "output_type": "stream",
     "text": [
      "\r",
      " 14%|█▍        | 2/14 [08:45<56:37, 283.14s/it]  "
     ]
    },
    {
     "name": "stdout",
     "output_type": "stream",
     "text": [
      "8815_BaselineS\n"
     ]
    },
    {
     "name": "stderr",
     "output_type": "stream",
     "text": [
      "\r",
      " 21%|██▏       | 3/14 [12:04<47:18, 258.08s/it]"
     ]
    },
    {
     "name": "stdout",
     "output_type": "stream",
     "text": [
      "8815_day10\n"
     ]
    },
    {
     "name": "stderr",
     "output_type": "stream",
     "text": [
      "\r",
      " 29%|██▊       | 4/14 [22:54<1:02:34, 375.50s/it]"
     ]
    },
    {
     "name": "stdout",
     "output_type": "stream",
     "text": [
      "8815_day12\n"
     ]
    },
    {
     "name": "stderr",
     "output_type": "stream",
     "text": [
      "\r",
      " 36%|███▌      | 5/14 [31:44<1:03:18, 422.02s/it]"
     ]
    },
    {
     "name": "stdout",
     "output_type": "stream",
     "text": [
      "8815_day14\n"
     ]
    },
    {
     "name": "stderr",
     "output_type": "stream",
     "text": [
      "\r",
      " 43%|████▎     | 6/14 [40:38<1:00:44, 455.60s/it]"
     ]
    },
    {
     "name": "stdout",
     "output_type": "stream",
     "text": [
      "8815_day15A\n"
     ]
    },
    {
     "name": "stderr",
     "output_type": "stream",
     "text": [
      "\r",
      " 50%|█████     | 7/14 [43:27<43:05, 369.39s/it]  "
     ]
    },
    {
     "name": "stdout",
     "output_type": "stream",
     "text": [
      "8815_day19L\n"
     ]
    },
    {
     "name": "stderr",
     "output_type": "stream",
     "text": [
      "\r",
      " 57%|█████▋    | 8/14 [45:43<29:56, 299.45s/it]"
     ]
    },
    {
     "name": "stdout",
     "output_type": "stream",
     "text": [
      "8815_day2\n"
     ]
    },
    {
     "name": "stderr",
     "output_type": "stream",
     "text": [
      "\r",
      " 64%|██████▍   | 9/14 [46:58<19:21, 232.32s/it]"
     ]
    },
    {
     "name": "stdout",
     "output_type": "stream",
     "text": [
      "8815_day30A\n"
     ]
    },
    {
     "name": "stderr",
     "output_type": "stream",
     "text": [
      "\r",
      " 71%|███████▏  | 10/14 [53:04<18:08, 272.17s/it]"
     ]
    },
    {
     "name": "stdout",
     "output_type": "stream",
     "text": [
      "8815_day34L\n"
     ]
    },
    {
     "name": "stderr",
     "output_type": "stream",
     "text": [
      "\r",
      " 79%|███████▊  | 11/14 [57:56<13:54, 278.12s/it]"
     ]
    },
    {
     "name": "stdout",
     "output_type": "stream",
     "text": [
      "8815_day4\n"
     ]
    },
    {
     "name": "stderr",
     "output_type": "stream",
     "text": [
      "\r",
      " 86%|████████▌ | 12/14 [1:03:54<10:04, 302.12s/it]"
     ]
    },
    {
     "name": "stdout",
     "output_type": "stream",
     "text": [
      "8815_day6\n"
     ]
    },
    {
     "name": "stderr",
     "output_type": "stream",
     "text": [
      "\r",
      " 93%|█████████▎| 13/14 [1:07:42<04:39, 279.82s/it]"
     ]
    },
    {
     "name": "stdout",
     "output_type": "stream",
     "text": [
      "8815_day8\n"
     ]
    },
    {
     "name": "stderr",
     "output_type": "stream",
     "text": [
      "100%|██████████| 14/14 [1:18:47<00:00, 395.38s/it]\n"
     ]
    }
   ],
   "source": [
    "f = h5py.File('OnsetsAndPeriods.hdf5','a')\n",
    "for m in miceList:\n",
    "    data = getData(Files[1],['trace'],period ='Pre', mice=m)\n",
    "    grp = f[m]\n",
    "    try:\n",
    "        del grp['caOnset_params']\n",
    "    except:\n",
    "        # do nothing\n",
    "        b=1\n",
    "    sgrp = grp.create_group('caOnset_params')\n",
    "    sgrp.attrs['tapers'] = [2,3]\n",
    "    sgrp.attrs['std_threshold'] = 7\n",
    "    sgrp.attrs['window_size'] = 1\n",
    "    sgrp.attrs['pre_window'] = 20\n",
    "    sgrp.attrs['max_fall'] = 4\n",
    "    for sess in tqdm(data):\n",
    "        print(sess)\n",
    "        # get traces:\n",
    "        dff = data[sess]['trace']['dff']\n",
    "        Fs = data[sess]['trace']['FS'][0]\n",
    "        caOnset,caFall = caSpikeFinder(dff,Fs)\n",
    "        caOnset[np.isnan(caOnset)] = 0\n",
    "        caFall[np.isnan(caFall)] = 0\n",
    "        subgrp = grp[sess]\n",
    "        ssubgrp =subgrp['Pre']\n",
    "        try: \n",
    "            del ssubgrp['caOnset_Hf']\n",
    "            del ssubgrp['eventStart_Hf']\n",
    "        except: \n",
    "            # do nothing...\n",
    "            b=1\n",
    "        ssubgrp['caOnset_Hf'] = caOnset\n",
    "        ssubgrp['caFall_Hf'] = caFall\n",
    "# f.close()"
   ]
  },
  {
   "cell_type": "code",
   "execution_count": 12,
   "metadata": {
    "scrolled": true
   },
   "outputs": [
    {
     "name": "stderr",
     "output_type": "stream",
     "text": [
      "\n",
      "  0%|          | 0/3 [00:00<?, ?it/s]\u001b[A"
     ]
    },
    {
     "name": "stdout",
     "output_type": "stream",
     "text": [
      "cleaning up trace data\n",
      "0761_day14A\n"
     ]
    },
    {
     "name": "stderr",
     "output_type": "stream",
     "text": [
      "\n",
      " 67%|██████▋   | 2/3 [01:03<00:31, 31.57s/it]\u001b[A"
     ]
    },
    {
     "name": "stdout",
     "output_type": "stream",
     "text": [
      "0761_day31A\n"
     ]
    },
    {
     "name": "stderr",
     "output_type": "stream",
     "text": [
      "\n",
      "100%|██████████| 3/3 [08:44<00:00, 174.74s/it]\u001b[A\n",
      "\n",
      "  0%|          | 0/3 [00:00<?, ?it/s]\u001b[A"
     ]
    },
    {
     "name": "stdout",
     "output_type": "stream",
     "text": [
      "cleaning up trace data\n",
      "1208_BaselineA\n"
     ]
    },
    {
     "name": "stderr",
     "output_type": "stream",
     "text": [
      "\n",
      " 33%|███▎      | 1/3 [2:25:06<4:50:13, 8706.90s/it]\u001b[A"
     ]
    },
    {
     "name": "stdout",
     "output_type": "stream",
     "text": [
      "1208_day15A\n"
     ]
    },
    {
     "name": "stderr",
     "output_type": "stream",
     "text": [
      "\n",
      " 67%|██████▋   | 2/3 [3:26:04<1:59:52, 7192.02s/it]\u001b[A"
     ]
    },
    {
     "name": "stdout",
     "output_type": "stream",
     "text": [
      "1208_day30A\n"
     ]
    },
    {
     "name": "stderr",
     "output_type": "stream",
     "text": [
      "\n",
      "100%|██████████| 3/3 [4:38:08<00:00, 5562.88s/it]  \u001b[A\n",
      "\n",
      "  0%|          | 0/3 [00:00<?, ?it/s]\u001b[A"
     ]
    },
    {
     "name": "stdout",
     "output_type": "stream",
     "text": [
      "cleaning up trace data\n",
      "1222_BaselineA\n"
     ]
    },
    {
     "name": "stderr",
     "output_type": "stream",
     "text": [
      "\n",
      " 33%|███▎      | 1/3 [22:52<45:45, 1372.93s/it]\u001b[A"
     ]
    },
    {
     "name": "stdout",
     "output_type": "stream",
     "text": [
      "1222_day15A\n",
      "skipped iteration\n",
      "skipped iteration\n",
      "skipped iteration\n",
      "skipped iteration\n",
      "skipped iteration\n",
      "skipped iteration\n",
      "skipped iteration\n",
      "skipped iteration\n",
      "skipped iteration\n",
      "skipped iteration\n",
      "skipped iteration\n",
      "skipped iteration\n",
      "skipped iteration\n",
      "skipped iteration\n",
      "skipped iteration\n",
      "skipped iteration\n",
      "skipped iteration\n",
      "skipped iteration\n",
      "skipped iteration\n",
      "skipped iteration\n",
      "skipped iteration\n",
      "skipped iteration\n",
      "skipped iteration\n",
      "skipped iteration\n",
      "skipped iteration\n",
      "skipped iteration\n",
      "skipped iteration\n",
      "skipped iteration\n",
      "skipped iteration\n"
     ]
    },
    {
     "name": "stderr",
     "output_type": "stream",
     "text": [
      "\n",
      " 67%|██████▋   | 2/3 [30:48<18:23, 1103.61s/it]\u001b[A"
     ]
    },
    {
     "name": "stdout",
     "output_type": "stream",
     "text": [
      "skipped iteration\n",
      "1222_day32A\n"
     ]
    },
    {
     "name": "stderr",
     "output_type": "stream",
     "text": [
      "\n",
      "100%|██████████| 3/3 [33:00<00:00, 660.12s/it] \u001b[A\n",
      "\n",
      "  0%|          | 0/1 [00:00<?, ?it/s]\u001b[A"
     ]
    },
    {
     "name": "stdout",
     "output_type": "stream",
     "text": [
      "cleaning up trace data\n",
      "1231_BaselineA\n"
     ]
    },
    {
     "name": "stderr",
     "output_type": "stream",
     "text": [
      "\n",
      "100%|██████████| 1/1 [1:39:49<00:00, 5989.38s/it]\u001b[A\n",
      "\n",
      "  0%|          | 0/3 [00:00<?, ?it/s]\u001b[A"
     ]
    },
    {
     "name": "stdout",
     "output_type": "stream",
     "text": [
      "cleaning up trace data\n",
      "1236_BaselineA\n"
     ]
    },
    {
     "name": "stderr",
     "output_type": "stream",
     "text": [
      "\n",
      " 33%|███▎      | 1/3 [1:12:51<2:25:42, 4371.21s/it]\u001b[A"
     ]
    },
    {
     "name": "stdout",
     "output_type": "stream",
     "text": [
      "1236_day15A\n"
     ]
    },
    {
     "name": "stderr",
     "output_type": "stream",
     "text": [
      "\n",
      " 67%|██████▋   | 2/3 [1:44:16<1:00:25, 3625.36s/it]\u001b[A"
     ]
    },
    {
     "name": "stdout",
     "output_type": "stream",
     "text": [
      "1236_day30A\n"
     ]
    },
    {
     "name": "stderr",
     "output_type": "stream",
     "text": [
      "\n",
      "100%|██████████| 3/3 [3:10:11<00:00, 3803.73s/it]  \u001b[A\n",
      "\n",
      "  0%|          | 0/1 [00:00<?, ?it/s]\u001b[A"
     ]
    },
    {
     "name": "stdout",
     "output_type": "stream",
     "text": [
      "cleaning up trace data\n",
      "1253_BaselineA\n"
     ]
    },
    {
     "name": "stderr",
     "output_type": "stream",
     "text": [
      "\n",
      "100%|██████████| 1/1 [1:16:08<00:00, 4568.33s/it]\u001b[A\n",
      "\n",
      "  0%|          | 0/3 [00:00<?, ?it/s]\u001b[A"
     ]
    },
    {
     "name": "stdout",
     "output_type": "stream",
     "text": [
      "cleaning up trace data\n",
      "1793_BaselineA\n"
     ]
    },
    {
     "name": "stderr",
     "output_type": "stream",
     "text": [
      "\n",
      " 33%|███▎      | 1/3 [1:08:05<2:16:10, 4085.02s/it]\u001b[A"
     ]
    },
    {
     "name": "stdout",
     "output_type": "stream",
     "text": [
      "1793_day15A\n"
     ]
    },
    {
     "name": "stderr",
     "output_type": "stream",
     "text": [
      "\n",
      " 67%|██████▋   | 2/3 [2:12:40<1:07:02, 4022.03s/it]\u001b[A"
     ]
    },
    {
     "name": "stdout",
     "output_type": "stream",
     "text": [
      "1793_day30A\n"
     ]
    },
    {
     "name": "stderr",
     "output_type": "stream",
     "text": [
      "\n",
      "100%|██████████| 3/3 [3:52:14<00:00, 4644.68s/it]  \u001b[A\n",
      "\n",
      "  0%|          | 0/3 [00:00<?, ?it/s]\u001b[A"
     ]
    },
    {
     "name": "stdout",
     "output_type": "stream",
     "text": [
      "cleaning up trace data\n",
      "2976_BaselineA\n"
     ]
    },
    {
     "name": "stderr",
     "output_type": "stream",
     "text": [
      "\n",
      " 33%|███▎      | 1/3 [48:00<1:36:00, 2880.21s/it]\u001b[A"
     ]
    },
    {
     "name": "stdout",
     "output_type": "stream",
     "text": [
      "2976_day15A\n"
     ]
    },
    {
     "name": "stderr",
     "output_type": "stream",
     "text": [
      "\n",
      " 67%|██████▋   | 2/3 [2:32:25<1:04:55, 3895.86s/it]\u001b[A"
     ]
    },
    {
     "name": "stdout",
     "output_type": "stream",
     "text": [
      "2976_day30A\n"
     ]
    },
    {
     "name": "stderr",
     "output_type": "stream",
     "text": [
      "\n",
      "100%|██████████| 3/3 [3:12:45<00:00, 3855.01s/it]  \u001b[A\n",
      "\n",
      "  0%|          | 0/3 [00:00<?, ?it/s]\u001b[A"
     ]
    },
    {
     "name": "stdout",
     "output_type": "stream",
     "text": [
      "cleaning up trace data\n",
      "2980_BaselineA\n"
     ]
    },
    {
     "name": "stderr",
     "output_type": "stream",
     "text": [
      "\n",
      " 33%|███▎      | 1/3 [56:28<1:52:57, 3388.74s/it]\u001b[A"
     ]
    },
    {
     "name": "stdout",
     "output_type": "stream",
     "text": [
      "2980_day15A\n"
     ]
    },
    {
     "name": "stderr",
     "output_type": "stream",
     "text": [
      "\n",
      " 67%|██████▋   | 2/3 [2:06:50<1:00:38, 3638.63s/it]\u001b[A"
     ]
    },
    {
     "name": "stdout",
     "output_type": "stream",
     "text": [
      "2980_day30A\n"
     ]
    },
    {
     "name": "stderr",
     "output_type": "stream",
     "text": [
      "\n",
      "100%|██████████| 3/3 [3:00:58<00:00, 3619.43s/it]  \u001b[A\n",
      "\n",
      "  0%|          | 0/3 [00:00<?, ?it/s]\u001b[A"
     ]
    },
    {
     "name": "stdout",
     "output_type": "stream",
     "text": [
      "cleaning up trace data\n",
      "2981_BaselineA\n"
     ]
    },
    {
     "name": "stderr",
     "output_type": "stream",
     "text": [
      "\n",
      " 33%|███▎      | 1/3 [56:36<1:53:13, 3396.57s/it]\u001b[A"
     ]
    },
    {
     "name": "stdout",
     "output_type": "stream",
     "text": [
      "2981_day15A\n"
     ]
    },
    {
     "name": "stderr",
     "output_type": "stream",
     "text": [
      "\n",
      " 67%|██████▋   | 2/3 [3:32:26<1:26:22, 5182.59s/it]\u001b[A"
     ]
    },
    {
     "name": "stdout",
     "output_type": "stream",
     "text": [
      "2981_day30A\n"
     ]
    },
    {
     "name": "stderr",
     "output_type": "stream",
     "text": [
      "\n",
      "100%|██████████| 3/3 [6:32:18<00:00, 7846.19s/it]  \u001b[A\n",
      "\n",
      "  0%|          | 0/4 [00:00<?, ?it/s]\u001b[A"
     ]
    },
    {
     "name": "stdout",
     "output_type": "stream",
     "text": [
      "cleaning up trace data\n",
      "4539_Baseline2A\n"
     ]
    },
    {
     "name": "stderr",
     "output_type": "stream",
     "text": [
      "\n",
      " 25%|██▌       | 1/4 [19:17<57:51, 1157.09s/it]\u001b[A"
     ]
    },
    {
     "name": "stdout",
     "output_type": "stream",
     "text": [
      "4539_BaselineA\n"
     ]
    },
    {
     "name": "stderr",
     "output_type": "stream",
     "text": [
      "\n",
      " 50%|█████     | 2/4 [4:18:24<2:50:28, 5114.27s/it]\u001b[A"
     ]
    },
    {
     "name": "stdout",
     "output_type": "stream",
     "text": [
      "4539_day15A\n"
     ]
    },
    {
     "name": "stderr",
     "output_type": "stream",
     "text": [
      "\n",
      " 75%|███████▌  | 3/4 [5:04:24<1:13:27, 4407.87s/it]\u001b[A"
     ]
    },
    {
     "name": "stdout",
     "output_type": "stream",
     "text": [
      "4539_day30A\n"
     ]
    },
    {
     "name": "stderr",
     "output_type": "stream",
     "text": [
      "\n",
      "100%|██████████| 4/4 [5:10:50<00:00, 4662.53s/it]  \u001b[A\n",
      "\n",
      "  0%|          | 0/2 [00:00<?, ?it/s]\u001b[A"
     ]
    },
    {
     "name": "stdout",
     "output_type": "stream",
     "text": [
      "cleaning up trace data\n",
      "7584_BaselineA\n"
     ]
    },
    {
     "name": "stderr",
     "output_type": "stream",
     "text": [
      "\n",
      " 50%|█████     | 1/2 [02:46<02:46, 166.17s/it]\u001b[A"
     ]
    },
    {
     "name": "stdout",
     "output_type": "stream",
     "text": [
      "7584_day30A\n"
     ]
    },
    {
     "name": "stderr",
     "output_type": "stream",
     "text": [
      "\n",
      "100%|██████████| 2/2 [5:07:08<00:00, 9214.29s/it]\u001b[A\n",
      "\n",
      "  0%|          | 0/4 [00:00<?, ?it/s]\u001b[A"
     ]
    },
    {
     "name": "stdout",
     "output_type": "stream",
     "text": [
      "cleaning up trace data\n",
      "7909_Baseline2A\n"
     ]
    },
    {
     "name": "stderr",
     "output_type": "stream",
     "text": [
      "\n",
      " 25%|██▌       | 1/4 [4:15:49<12:47:28, 15349.65s/it]\u001b[A"
     ]
    },
    {
     "name": "stdout",
     "output_type": "stream",
     "text": [
      "7909_BaselineA\n"
     ]
    },
    {
     "name": "stderr",
     "output_type": "stream",
     "text": [
      "\n",
      " 50%|█████     | 2/4 [4:31:42<6:07:41, 11030.60s/it] \u001b[A"
     ]
    },
    {
     "name": "stdout",
     "output_type": "stream",
     "text": [
      "7909_day15A\n"
     ]
    },
    {
     "name": "stderr",
     "output_type": "stream",
     "text": [
      "\n",
      " 75%|███████▌  | 3/4 [6:16:27<2:40:06, 9606.95s/it] \u001b[A"
     ]
    },
    {
     "name": "stdout",
     "output_type": "stream",
     "text": [
      "7909_day30A\n"
     ]
    },
    {
     "name": "stderr",
     "output_type": "stream",
     "text": [
      "\n",
      "100%|██████████| 4/4 [6:30:54<00:00, 5863.65s/it]  \u001b[A\n",
      "\n",
      "  0%|          | 0/3 [00:00<?, ?it/s]\u001b[A"
     ]
    },
    {
     "name": "stdout",
     "output_type": "stream",
     "text": [
      "cleaning up trace data\n",
      "8430_BaselineA\n"
     ]
    },
    {
     "name": "stderr",
     "output_type": "stream",
     "text": [
      "\n",
      " 33%|███▎      | 1/3 [1:15:43<2:31:26, 4543.15s/it]\u001b[A"
     ]
    },
    {
     "name": "stdout",
     "output_type": "stream",
     "text": [
      "8430_day15A\n"
     ]
    },
    {
     "name": "stderr",
     "output_type": "stream",
     "text": [
      "\n",
      " 67%|██████▋   | 2/3 [2:18:46<1:11:55, 4315.34s/it]\u001b[A"
     ]
    },
    {
     "name": "stdout",
     "output_type": "stream",
     "text": [
      "8430_day30A\n"
     ]
    },
    {
     "name": "stderr",
     "output_type": "stream",
     "text": [
      "\n",
      "100%|██████████| 3/3 [4:04:32<00:00, 4890.97s/it]  \u001b[A\n",
      "\n",
      "  0%|          | 0/2 [00:00<?, ?it/s]\u001b[A"
     ]
    },
    {
     "name": "stdout",
     "output_type": "stream",
     "text": [
      "cleaning up trace data\n",
      "8803_BaselineA\n"
     ]
    },
    {
     "name": "stderr",
     "output_type": "stream",
     "text": [
      "\n",
      " 50%|█████     | 1/2 [1:22:36<1:22:36, 4956.93s/it]\u001b[A"
     ]
    },
    {
     "name": "stdout",
     "output_type": "stream",
     "text": [
      "8803_day30A\n"
     ]
    },
    {
     "name": "stderr",
     "output_type": "stream",
     "text": [
      "\n",
      "100%|██████████| 2/2 [1:53:42<00:00, 3411.18s/it]  \u001b[A\n",
      "\n",
      "  0%|          | 0/3 [00:00<?, ?it/s]\u001b[A"
     ]
    },
    {
     "name": "stdout",
     "output_type": "stream",
     "text": [
      "cleaning up trace data\n",
      "8815_BaselineA\n"
     ]
    },
    {
     "name": "stderr",
     "output_type": "stream",
     "text": [
      "\n",
      " 33%|███▎      | 1/3 [39:43<1:19:27, 2383.50s/it]\u001b[A"
     ]
    },
    {
     "name": "stdout",
     "output_type": "stream",
     "text": [
      "8815_day15A\n"
     ]
    },
    {
     "name": "stderr",
     "output_type": "stream",
     "text": [
      "\n",
      " 67%|██████▋   | 2/3 [1:05:49<35:38, 2138.20s/it]\u001b[A"
     ]
    },
    {
     "name": "stdout",
     "output_type": "stream",
     "text": [
      "8815_day30A\n"
     ]
    },
    {
     "name": "stderr",
     "output_type": "stream",
     "text": [
      "\n",
      "100%|██████████| 3/3 [1:57:31<00:00, 2350.55s/it]\u001b[A\n"
     ]
    }
   ],
   "source": [
    "# calculate Ca honset for post Amphetamine sessions\n",
    "\n",
    "f = h5py.File('OnsetsAndPeriods.hdf5','a')\n",
    "for m in miceList:\n",
    "    data = getData(Files[1],['trace'],period ='Post', mice=m,drug=b'Amphetamin')\n",
    "    grp = f[m]\n",
    "#    sgrp = grp['caOnset_params']\n",
    "#    sgrp.attrs['tapers'] = [2,3]\n",
    "#    sgrp.attrs['std_threshold'] = 7\n",
    "#    sgrp.attrs['window_size'] = 1\n",
    "#    sgrp.attrs['pre_window'] = 20\n",
    "#    sgrp.attrs['max_fall'] = 4\n",
    "    for sess in tqdm(data):\n",
    "        if sess == '0761_BaselineA':\n",
    "            continue\n",
    "        print(sess)\n",
    "        # get traces:\n",
    "        dff = data[sess]['trace']['dff']\n",
    "        Fs = data[sess]['trace']['FS'][0]\n",
    "        caOnset,caFall = caSpikeFinder(dff,Fs)\n",
    "        caOnset[np.isnan(caOnset)] = 0\n",
    "        caFall[np.isnan(caFall)] = 0\n",
    "        subgrp = grp[sess]\n",
    "        ssubgrp =subgrp['Post']\n",
    "        try: \n",
    "            del ssubgrp['caOnset_Hf']\n",
    "           # del ssubgrp['eventStart_Hf']\n",
    "            del ssubgrp['caFall_Hf']\n",
    "        except: \n",
    "            # do nothing...\n",
    "            b=1\n",
    "        ssubgrp['caOnset_Hf'] = caOnset\n",
    "        ssubgrp['caFall_Hf'] = caFall\n",
    "f.close()"
   ]
  },
  {
   "cell_type": "code",
   "execution_count": 6,
   "metadata": {
    "scrolled": true
   },
   "outputs": [
    {
     "name": "stderr",
     "output_type": "stream",
     "text": [
      "/home/dana_z/ssd_2TB/6OHDA/IO.py:282: H5pyDeprecationWarning: dataset.value has been deprecated. Use dataset[()] instead.\n",
      "  dff = hf[m][s]['traces']['dff'].value\n",
      "\r",
      "  0%|          | 0/1 [00:00<?, ?it/s]"
     ]
    },
    {
     "name": "stdout",
     "output_type": "stream",
     "text": [
      "cleaning up trace data\n",
      "0761_BaselineS\n"
     ]
    },
    {
     "name": "stderr",
     "output_type": "stream",
     "text": [
      "100%|██████████| 1/1 [11:59<00:00, 719.61s/it]\n",
      "  0%|          | 0/1 [00:00<?, ?it/s]"
     ]
    },
    {
     "name": "stdout",
     "output_type": "stream",
     "text": [
      "cleaning up trace data\n",
      "1208_BaselineS\n"
     ]
    },
    {
     "name": "stderr",
     "output_type": "stream",
     "text": [
      "100%|██████████| 1/1 [2:06:39<00:00, 7599.10s/it]\n",
      "  0%|          | 0/1 [00:00<?, ?it/s]"
     ]
    },
    {
     "name": "stdout",
     "output_type": "stream",
     "text": [
      "cleaning up trace data\n",
      "1222_BaselineS\n"
     ]
    },
    {
     "name": "stderr",
     "output_type": "stream",
     "text": [
      "100%|██████████| 1/1 [1:19:16<00:00, 4756.86s/it]\n",
      "  0%|          | 0/1 [00:00<?, ?it/s]"
     ]
    },
    {
     "name": "stdout",
     "output_type": "stream",
     "text": [
      "cleaning up trace data\n",
      "1231_BaselineS\n"
     ]
    },
    {
     "name": "stderr",
     "output_type": "stream",
     "text": [
      "100%|██████████| 1/1 [1:44:55<00:00, 6295.90s/it]\n",
      "  0%|          | 0/1 [00:00<?, ?it/s]"
     ]
    },
    {
     "name": "stdout",
     "output_type": "stream",
     "text": [
      "cleaning up trace data\n",
      "1236_BaselineS\n"
     ]
    },
    {
     "name": "stderr",
     "output_type": "stream",
     "text": [
      "100%|██████████| 1/1 [1:00:18<00:00, 3618.08s/it]\n",
      "  0%|          | 0/1 [00:00<?, ?it/s]"
     ]
    },
    {
     "name": "stdout",
     "output_type": "stream",
     "text": [
      "cleaning up trace data\n",
      "1253_BaselineS\n"
     ]
    },
    {
     "name": "stderr",
     "output_type": "stream",
     "text": [
      "100%|██████████| 1/1 [3:09:45<00:00, 11385.02s/it]\n",
      "  0%|          | 0/1 [00:00<?, ?it/s]"
     ]
    },
    {
     "name": "stdout",
     "output_type": "stream",
     "text": [
      "cleaning up trace data\n",
      "1793_BaselineS\n"
     ]
    },
    {
     "name": "stderr",
     "output_type": "stream",
     "text": [
      "100%|██████████| 1/1 [6:25:56<00:00, 23156.57s/it]\n",
      "  0%|          | 0/1 [00:00<?, ?it/s]"
     ]
    },
    {
     "name": "stdout",
     "output_type": "stream",
     "text": [
      "cleaning up trace data\n",
      "2976_BaselineS\n"
     ]
    },
    {
     "name": "stderr",
     "output_type": "stream",
     "text": [
      "100%|██████████| 1/1 [1:30:37<00:00, 5438.00s/it]\n",
      "  0%|          | 0/1 [00:00<?, ?it/s]"
     ]
    },
    {
     "name": "stdout",
     "output_type": "stream",
     "text": [
      "cleaning up trace data\n",
      "2980_BaselineS\n"
     ]
    },
    {
     "name": "stderr",
     "output_type": "stream",
     "text": [
      "100%|██████████| 1/1 [1:51:42<00:00, 6702.54s/it]\n",
      "  0%|          | 0/1 [00:00<?, ?it/s]"
     ]
    },
    {
     "name": "stdout",
     "output_type": "stream",
     "text": [
      "cleaning up trace data\n",
      "2981_BaselineS\n"
     ]
    },
    {
     "name": "stderr",
     "output_type": "stream",
     "text": [
      "100%|██████████| 1/1 [1:53:38<00:00, 6818.35s/it]\n",
      "0it [00:00, ?it/s]\n",
      "0it [00:00, ?it/s]\n",
      "0it [00:00, ?it/s]\n",
      "  0%|          | 0/1 [00:00<?, ?it/s]"
     ]
    },
    {
     "name": "stdout",
     "output_type": "stream",
     "text": [
      "cleaning up trace data\n",
      "cleaning up trace data\n",
      "cleaning up trace data\n",
      "cleaning up trace data\n",
      "8430_BaselineS\n"
     ]
    },
    {
     "name": "stderr",
     "output_type": "stream",
     "text": [
      "100%|██████████| 1/1 [37:17<00:00, 2237.07s/it]\n",
      "  0%|          | 0/1 [00:00<?, ?it/s]"
     ]
    },
    {
     "name": "stdout",
     "output_type": "stream",
     "text": [
      "cleaning up trace data\n",
      "8803_BaselineS\n"
     ]
    },
    {
     "name": "stderr",
     "output_type": "stream",
     "text": [
      "100%|██████████| 1/1 [1:33:27<00:00, 5607.03s/it]\n",
      "  0%|          | 0/1 [00:00<?, ?it/s]"
     ]
    },
    {
     "name": "stdout",
     "output_type": "stream",
     "text": [
      "cleaning up trace data\n",
      "8815_BaselineS\n"
     ]
    },
    {
     "name": "stderr",
     "output_type": "stream",
     "text": [
      "100%|██████████| 1/1 [28:44<00:00, 1724.03s/it]\n"
     ]
    }
   ],
   "source": [
    "# calculate Ca honset for post Amphetamine sessions\n",
    "\n",
    "f = h5py.File('OnsetsAndPeriods.hdf5','a')\n",
    "for m in miceList:\n",
    "    data = getData(Files[1],['trace'],period ='Post', mice=m,drug=b'Saline')\n",
    "    grp = f[m]\n",
    "#    sgrp = grp['caOnset_params']\n",
    "#    sgrp.attrs['tapers'] = [2,3]\n",
    "#    sgrp.attrs['std_threshold'] = 7\n",
    "#    sgrp.attrs['window_size'] = 1\n",
    "#    sgrp.attrs['pre_window'] = 20\n",
    "#    sgrp.attrs['max_fall'] = 4\n",
    "    for sess in tqdm(data):\n",
    "        print(sess)\n",
    "        # get traces:\n",
    "        dff = data[sess]['trace']['dff']\n",
    "        Fs = data[sess]['trace']['FS'][0]\n",
    "        caOnset,caFall = caSpikeFinder(dff,Fs)\n",
    "        caOnset[np.isnan(caOnset)] = 0\n",
    "        caFall[np.isnan(caFall)] = 0\n",
    "        subgrp = grp[sess]\n",
    "        ssubgrp =subgrp['Post']\n",
    "        try: \n",
    "            del ssubgrp['caOnset_Hf']\n",
    "           # del ssubgrp['eventStart_Hf']\n",
    "            del ssubgrp['caFall_Hf']\n",
    "        except: \n",
    "            # do nothing...\n",
    "            b=1\n",
    "        ssubgrp['caOnset_Hf'] = caOnset\n",
    "        ssubgrp['caFall_Hf'] = caFall\n",
    "f.close()"
   ]
  },
  {
   "cell_type": "code",
   "execution_count": 7,
   "metadata": {
    "scrolled": true
   },
   "outputs": [
    {
     "name": "stderr",
     "output_type": "stream",
     "text": [
      "\r",
      "  0%|          | 0/3 [00:00<?, ?it/s]"
     ]
    },
    {
     "name": "stdout",
     "output_type": "stream",
     "text": [
      "cleaning up trace data\n",
      "0761_BaselineL\n"
     ]
    },
    {
     "name": "stderr",
     "output_type": "stream",
     "text": [
      "\r",
      " 33%|███▎      | 1/3 [10:29<20:58, 629.11s/it]"
     ]
    },
    {
     "name": "stdout",
     "output_type": "stream",
     "text": [
      "0761_day19L\n"
     ]
    },
    {
     "name": "stderr",
     "output_type": "stream",
     "text": [
      "\r",
      " 67%|██████▋   | 2/3 [20:50<10:26, 626.65s/it]"
     ]
    },
    {
     "name": "stdout",
     "output_type": "stream",
     "text": [
      "0761_day35L\n"
     ]
    },
    {
     "name": "stderr",
     "output_type": "stream",
     "text": [
      "100%|██████████| 3/3 [27:39<00:00, 553.17s/it]\n",
      "  0%|          | 0/3 [00:00<?, ?it/s]"
     ]
    },
    {
     "name": "stdout",
     "output_type": "stream",
     "text": [
      "cleaning up trace data\n",
      "1208_BaselineL\n"
     ]
    },
    {
     "name": "stderr",
     "output_type": "stream",
     "text": [
      "\r",
      " 33%|███▎      | 1/3 [3:09:06<6:18:13, 11346.86s/it]"
     ]
    },
    {
     "name": "stdout",
     "output_type": "stream",
     "text": [
      "1208_day19L\n"
     ]
    },
    {
     "name": "stderr",
     "output_type": "stream",
     "text": [
      "\r",
      " 67%|██████▋   | 2/3 [4:04:36<2:29:01, 8941.56s/it] "
     ]
    },
    {
     "name": "stdout",
     "output_type": "stream",
     "text": [
      "1208_day34L\n"
     ]
    },
    {
     "name": "stderr",
     "output_type": "stream",
     "text": [
      "100%|██████████| 3/3 [5:29:33<00:00, 6591.01s/it]  \n",
      "  0%|          | 0/3 [00:00<?, ?it/s]"
     ]
    },
    {
     "name": "stdout",
     "output_type": "stream",
     "text": [
      "cleaning up trace data\n",
      "1222_BaselineL\n"
     ]
    },
    {
     "name": "stderr",
     "output_type": "stream",
     "text": [
      "\r",
      " 33%|███▎      | 1/3 [1:14:35<2:29:11, 4475.95s/it]"
     ]
    },
    {
     "name": "stdout",
     "output_type": "stream",
     "text": [
      "1222_day20L\n"
     ]
    },
    {
     "name": "stderr",
     "output_type": "stream",
     "text": [
      "\r",
      " 67%|██████▋   | 2/3 [1:44:23<1:01:09, 3669.35s/it]"
     ]
    },
    {
     "name": "stdout",
     "output_type": "stream",
     "text": [
      "1222_day36L\n"
     ]
    },
    {
     "name": "stderr",
     "output_type": "stream",
     "text": [
      "100%|██████████| 3/3 [2:02:41<00:00, 2453.84s/it]  \n",
      "  0%|          | 0/1 [00:00<?, ?it/s]"
     ]
    },
    {
     "name": "stdout",
     "output_type": "stream",
     "text": [
      "cleaning up trace data\n",
      "1231_BaselineL\n"
     ]
    },
    {
     "name": "stderr",
     "output_type": "stream",
     "text": [
      "100%|██████████| 1/1 [2:06:21<00:00, 7581.91s/it]\n",
      "  0%|          | 0/3 [00:00<?, ?it/s]"
     ]
    },
    {
     "name": "stdout",
     "output_type": "stream",
     "text": [
      "cleaning up trace data\n",
      "1236_BaselineL\n"
     ]
    },
    {
     "name": "stderr",
     "output_type": "stream",
     "text": [
      "\r",
      " 33%|███▎      | 1/3 [1:01:18<2:02:37, 3678.88s/it]"
     ]
    },
    {
     "name": "stdout",
     "output_type": "stream",
     "text": [
      "1236_day19L\n"
     ]
    },
    {
     "name": "stderr",
     "output_type": "stream",
     "text": [
      "\r",
      " 67%|██████▋   | 2/3 [1:49:52<57:29, 3449.21s/it]  "
     ]
    },
    {
     "name": "stdout",
     "output_type": "stream",
     "text": [
      "1236_day35L\n"
     ]
    },
    {
     "name": "stderr",
     "output_type": "stream",
     "text": [
      "100%|██████████| 3/3 [3:27:01<00:00, 4140.40s/it]\n",
      "  0%|          | 0/1 [00:00<?, ?it/s]"
     ]
    },
    {
     "name": "stdout",
     "output_type": "stream",
     "text": [
      "cleaning up trace data\n",
      "1253_BaselineL\n"
     ]
    },
    {
     "name": "stderr",
     "output_type": "stream",
     "text": [
      "100%|██████████| 1/1 [2:43:31<00:00, 9811.56s/it]\n",
      "  0%|          | 0/3 [00:00<?, ?it/s]"
     ]
    },
    {
     "name": "stdout",
     "output_type": "stream",
     "text": [
      "cleaning up trace data\n",
      "1793_BaselineL\n"
     ]
    },
    {
     "name": "stderr",
     "output_type": "stream",
     "text": [
      "\r",
      " 33%|███▎      | 1/3 [7:32:18<15:04:36, 27138.07s/it]"
     ]
    },
    {
     "name": "stdout",
     "output_type": "stream",
     "text": [
      "1793_day19L\n"
     ]
    },
    {
     "name": "stderr",
     "output_type": "stream",
     "text": [
      "\r",
      " 67%|██████▋   | 2/3 [9:00:23<5:43:02, 20582.38s/it] "
     ]
    },
    {
     "name": "stdout",
     "output_type": "stream",
     "text": [
      "1793_day34L\n"
     ]
    },
    {
     "name": "stderr",
     "output_type": "stream",
     "text": [
      "100%|██████████| 3/3 [9:55:38<00:00, 11912.88s/it]  \n",
      "  0%|          | 0/3 [00:00<?, ?it/s]"
     ]
    },
    {
     "name": "stdout",
     "output_type": "stream",
     "text": [
      "cleaning up trace data\n",
      "2976_BaselineL\n"
     ]
    },
    {
     "name": "stderr",
     "output_type": "stream",
     "text": [
      "\r",
      " 33%|███▎      | 1/3 [58:50<1:57:40, 3530.38s/it]"
     ]
    },
    {
     "name": "stdout",
     "output_type": "stream",
     "text": [
      "2976_day19L\n"
     ]
    },
    {
     "name": "stderr",
     "output_type": "stream",
     "text": [
      "\r",
      " 67%|██████▋   | 2/3 [1:57:25<58:45, 3525.84s/it]"
     ]
    },
    {
     "name": "stdout",
     "output_type": "stream",
     "text": [
      "2976_day35L\n"
     ]
    },
    {
     "name": "stderr",
     "output_type": "stream",
     "text": [
      "100%|██████████| 3/3 [2:42:16<00:00, 3245.44s/it]\n",
      "  0%|          | 0/3 [00:00<?, ?it/s]"
     ]
    },
    {
     "name": "stdout",
     "output_type": "stream",
     "text": [
      "cleaning up trace data\n",
      "2980_BaselineL\n"
     ]
    },
    {
     "name": "stderr",
     "output_type": "stream",
     "text": [
      "\r",
      " 33%|███▎      | 1/3 [1:07:00<2:14:01, 4020.77s/it]"
     ]
    },
    {
     "name": "stdout",
     "output_type": "stream",
     "text": [
      "2980_day19L\n"
     ]
    },
    {
     "name": "stderr",
     "output_type": "stream",
     "text": [
      "\r",
      " 67%|██████▋   | 2/3 [2:43:56<1:15:59, 4559.16s/it]"
     ]
    },
    {
     "name": "stdout",
     "output_type": "stream",
     "text": [
      "2980_day35L\n"
     ]
    },
    {
     "name": "stderr",
     "output_type": "stream",
     "text": [
      "100%|██████████| 3/3 [4:28:33<00:00, 5371.32s/it]  \n",
      "  0%|          | 0/3 [00:00<?, ?it/s]"
     ]
    },
    {
     "name": "stdout",
     "output_type": "stream",
     "text": [
      "cleaning up trace data\n",
      "2981_BaselineL\n"
     ]
    },
    {
     "name": "stderr",
     "output_type": "stream",
     "text": [
      "\r",
      " 33%|███▎      | 1/3 [1:26:41<2:53:22, 5201.29s/it]"
     ]
    },
    {
     "name": "stdout",
     "output_type": "stream",
     "text": [
      "2981_day19L\n"
     ]
    },
    {
     "name": "stderr",
     "output_type": "stream",
     "text": [
      "\r",
      " 67%|██████▋   | 2/3 [4:22:58<1:53:34, 6814.16s/it]"
     ]
    },
    {
     "name": "stdout",
     "output_type": "stream",
     "text": [
      "2981_day35L\n"
     ]
    },
    {
     "name": "stderr",
     "output_type": "stream",
     "text": [
      "100%|██████████| 3/3 [7:52:28<00:00, 9449.48s/it]  \n",
      "0it [00:00, ?it/s]\n",
      "0it [00:00, ?it/s]\n",
      "0it [00:00, ?it/s]\n",
      "  0%|          | 0/3 [00:00<?, ?it/s]"
     ]
    },
    {
     "name": "stdout",
     "output_type": "stream",
     "text": [
      "cleaning up trace data\n",
      "cleaning up trace data\n",
      "cleaning up trace data\n",
      "cleaning up trace data\n",
      "8430_BaselineL\n"
     ]
    },
    {
     "name": "stderr",
     "output_type": "stream",
     "text": [
      "\r",
      " 33%|███▎      | 1/3 [35:59<1:11:59, 2159.85s/it]"
     ]
    },
    {
     "name": "stdout",
     "output_type": "stream",
     "text": [
      "8430_day19L\n"
     ]
    },
    {
     "name": "stderr",
     "output_type": "stream",
     "text": [
      "\r",
      " 67%|██████▋   | 2/3 [2:30:25<59:31, 3571.64s/it]"
     ]
    },
    {
     "name": "stdout",
     "output_type": "stream",
     "text": [
      "8430_day35L\n"
     ]
    },
    {
     "name": "stderr",
     "output_type": "stream",
     "text": [
      "100%|██████████| 3/3 [3:30:16<00:00, 4205.56s/it]\n",
      "  0%|          | 0/3 [00:00<?, ?it/s]"
     ]
    },
    {
     "name": "stdout",
     "output_type": "stream",
     "text": [
      "cleaning up trace data\n",
      "8803_BaselineL\n"
     ]
    },
    {
     "name": "stderr",
     "output_type": "stream",
     "text": [
      "\r",
      " 33%|███▎      | 1/3 [1:30:14<3:00:28, 5414.12s/it]"
     ]
    },
    {
     "name": "stdout",
     "output_type": "stream",
     "text": [
      "8803_day19L\n"
     ]
    },
    {
     "name": "stderr",
     "output_type": "stream",
     "text": [
      "\r",
      " 67%|██████▋   | 2/3 [2:38:41<1:23:42, 5022.11s/it]"
     ]
    },
    {
     "name": "stdout",
     "output_type": "stream",
     "text": [
      "8803_day34L\n"
     ]
    },
    {
     "name": "stderr",
     "output_type": "stream",
     "text": [
      "100%|██████████| 3/3 [3:25:39<00:00, 4113.24s/it]  \n",
      "  0%|          | 0/3 [00:00<?, ?it/s]"
     ]
    },
    {
     "name": "stdout",
     "output_type": "stream",
     "text": [
      "cleaning up trace data\n",
      "8815_BaselineL\n"
     ]
    },
    {
     "name": "stderr",
     "output_type": "stream",
     "text": [
      "\r",
      " 33%|███▎      | 1/3 [30:47<1:01:35, 1847.58s/it]"
     ]
    },
    {
     "name": "stdout",
     "output_type": "stream",
     "text": [
      "8815_day19L\n"
     ]
    },
    {
     "name": "stderr",
     "output_type": "stream",
     "text": [
      "\r",
      " 67%|██████▋   | 2/3 [53:10<28:16, 1696.24s/it]  "
     ]
    },
    {
     "name": "stdout",
     "output_type": "stream",
     "text": [
      "8815_day34L\n"
     ]
    },
    {
     "name": "stderr",
     "output_type": "stream",
     "text": [
      "100%|██████████| 3/3 [1:39:30<00:00, 1990.22s/it]\n"
     ]
    }
   ],
   "source": [
    "# calculate Ca honset for post Amphetamine sessions\n",
    "\n",
    "f = h5py.File('OnsetsAndPeriods.hdf5','a')\n",
    "for m in miceList:\n",
    "    data = getData(Files[1],['trace'],period ='Post', mice=m,drug=b'L-Dopa')\n",
    "    grp = f[m]\n",
    "#    sgrp = grp['caOnset_params']\n",
    "#    sgrp.attrs['tapers'] = [2,3]\n",
    "#    sgrp.attrs['std_threshold'] = 7\n",
    "#    sgrp.attrs['window_size'] = 1\n",
    "#    sgrp.attrs['pre_window'] = 20\n",
    "#    sgrp.attrs['max_fall'] = 4\n",
    "    for sess in tqdm(data):\n",
    "        if sess == '0761_BaselineA':\n",
    "            continue\n",
    "        print(sess)\n",
    "        # get traces:\n",
    "        dff = data[sess]['trace']['dff']\n",
    "        Fs = data[sess]['trace']['FS'][0]\n",
    "        caOnset,caFall = caSpikeFinder(dff,Fs)\n",
    "        caOnset[np.isnan(caOnset)] = 0\n",
    "        caFall[np.isnan(caFall)] = 0\n",
    "        subgrp = grp[sess]\n",
    "        ssubgrp =subgrp['Post']\n",
    "        try: \n",
    "            del ssubgrp['caOnset_Hf']\n",
    "           # del ssubgrp['eventStart_Hf']\n",
    "            del ssubgrp['caFall_Hf']\n",
    "        except: \n",
    "            # do nothing...\n",
    "            b=1\n",
    "        ssubgrp['caOnset_Hf'] = caOnset\n",
    "        ssubgrp['caFall_Hf'] = caFall\n",
    "f.close()"
   ]
  },
  {
   "cell_type": "markdown",
   "metadata": {},
   "source": [
    "membership analysis fields:"
   ]
  },
  {
   "cell_type": "code",
   "execution_count": 16,
   "metadata": {},
   "outputs": [],
   "source": [
    "def circShiftRoll(shifts,data):\n",
    "    return  np.array([np.roll(row, x) for row,x in zip(data, shifts)])\n",
    "\n",
    "def perNeuronPerEvent(aDff,dff,onset,niter,PostS=40,preS=40):\n",
    "    if np.min(dff.shape) ==1:\n",
    "        aDff = np.reshape(aDff,(aDff.shape[0],1,aDff.shape[1]))\n",
    "    if np.sum(onset) ==1:\n",
    "        aDff = np.reshape(aDff,(aDff.shape[0],aDff.shape[1],1))\n",
    "        \n",
    "    nT,nN,nE = aDff.shape\n",
    "    # if no event in session -> move on...\n",
    "    if nE == 0:\n",
    "        return None,None,None\n",
    "    if onset.ndim ==1:\n",
    "        onset = np.reshape(onset,(1,onset.shape[0]))\n",
    "    \n",
    "        \n",
    "    Th = np.empty((nN,niter*nE))\n",
    "#    print(nE, Th.shape,dff.shape,np.sum(onset))\n",
    "#    print(nE, nN,nT)\n",
    "    # calculate thersholds:\n",
    "    for itr in range(0,niter):\n",
    "        shifts = np.random.randint(size=1,low=0,high=onset.shape[1])\n",
    "        Ons = circShiftRoll(shifts,onset)\n",
    "        sdff = alignToOnset(dff.T, Ons, winPost=PostS,winPre=preS)\n",
    "        while sdff.size ==0:\n",
    "            shifts = np.random.randint(size=1,low=0,high=onset.shape[1])\n",
    "            Ons = circShiftRoll(shifts,onset)\n",
    "            sdff = alignToOnset(dff.T, Ons, winPost=PostS,winPre=preS)            \n",
    "        if nN ==1:\n",
    "            sdff = np.reshape(sdff,(sdff.shape[0],1,sdff.shape[1]))\n",
    "        if nE ==1: \n",
    "            sdff = np.reshape(sdff,(sdff.shape[0],sdff.shape[1],1))\n",
    "\n",
    "            \n",
    "        # when 1 or movement events -> could end up with no event 2 secounds in -> empty sdff\n",
    "        while sdff.ndim <3:\n",
    "            shifts = np.random.randint(size=1,low=0,high=onset.shape[1])\n",
    "            Ons = circShiftRoll(shifts,onset)\n",
    "            sdff = alignToOnset(dff.T, Ons, winPost=PostS,winPre=preS)\n",
    "            if sdff.size ==0:\n",
    "                sdff = 0    \n",
    "                continue\n",
    "            if nN ==1:\n",
    "                sdff = np.reshape(sdff,(sdff.shape[0],1,sdff.shape[1]))\n",
    "            if nE ==1: \n",
    "                sdff = np.reshape(sdff,(sdff.shape[0],sdff.shape[1],1))\n",
    "\n",
    "\n",
    "\n",
    "        # if sdff contain negative value, shift entire session up\n",
    "        mins = np.min(sdff,axis=0)\n",
    "        sdff[:,mins<0] =sdff[:,mins<0]+np.abs(mins[mins<0])\n",
    "        # calculate the means\n",
    "#        print(sdff.shape)\n",
    "        muPre = np.mean(sdff[:int(nT/2),:,:],axis=0)\n",
    "        muPost = np.mean(sdff[int(nT/2):,:,:],axis=0)\n",
    "        ra = muPost/muPre\n",
    "        while ra.shape[1]<nE: # incase lose event cause too close to begining of time axis\n",
    "             ra = np.concatenate((ra,np.mean(ra,axis=1,keepdims=True)),axis=1)    \n",
    "        if ra.shape[1]>nE:\n",
    "            ra = ra[:,:nE]\n",
    "        Th[:,itr*nE:(itr+1)*nE] = ra\n",
    "\n",
    "    Th = np.percentile(Th,95,axis=1)\n",
    "\n",
    "    Th = (matlib.repmat(Th,nE,1).T)\n",
    "\n",
    "    mins = np.min(aDff,axis=0)\n",
    "    aDff[:,mins<0] =aDff[:,mins<0]+np.abs(mins[mins<0])\n",
    "\n",
    "    prePoints = aDff[:int(nT/2),:,:]\n",
    "    postPoints = aDff[int(nT/2):,:,:]\n",
    "\n",
    "    muPre = np.mean(prePoints,axis=0)\n",
    "    muPost = np.mean(postPoints,axis=0)\n",
    "    results = muPost/muPre    \n",
    " #   print(nE,nN,Th.shape,results.shape)\n",
    "    return (results>Th),results,Th[:,0]"
   ]
  },
  {
   "cell_type": "code",
   "execution_count": 17,
   "metadata": {
    "scrolled": true
   },
   "outputs": [
    {
     "name": "stderr",
     "output_type": "stream",
     "text": [
      "\r",
      "  0%|          | 0/14 [00:00<?, ?it/s]"
     ]
    },
    {
     "name": "stdout",
     "output_type": "stream",
     "text": [
      "cleaning up trace data\n"
     ]
    },
    {
     "name": "stderr",
     "output_type": "stream",
     "text": [
      "100%|██████████| 14/14 [00:11<00:00,  1.24it/s]\n",
      "  0%|          | 0/14 [00:00<?, ?it/s]"
     ]
    },
    {
     "name": "stdout",
     "output_type": "stream",
     "text": [
      "cleaning up trace data\n"
     ]
    },
    {
     "name": "stderr",
     "output_type": "stream",
     "text": [
      "100%|██████████| 14/14 [00:34<00:00,  2.50s/it]\n",
      "  0%|          | 0/14 [00:00<?, ?it/s]"
     ]
    },
    {
     "name": "stdout",
     "output_type": "stream",
     "text": [
      "cleaning up trace data\n"
     ]
    },
    {
     "name": "stderr",
     "output_type": "stream",
     "text": [
      "100%|██████████| 14/14 [00:12<00:00,  1.12it/s]\n",
      "  0%|          | 0/3 [00:00<?, ?it/s]"
     ]
    },
    {
     "name": "stdout",
     "output_type": "stream",
     "text": [
      "cleaning up trace data\n"
     ]
    },
    {
     "name": "stderr",
     "output_type": "stream",
     "text": [
      "100%|██████████| 3/3 [00:06<00:00,  2.23s/it]\n",
      "  0%|          | 0/14 [00:00<?, ?it/s]"
     ]
    },
    {
     "name": "stdout",
     "output_type": "stream",
     "text": [
      "cleaning up trace data\n"
     ]
    },
    {
     "name": "stderr",
     "output_type": "stream",
     "text": [
      "100%|██████████| 14/14 [00:30<00:00,  2.18s/it]\n",
      "  0%|          | 0/3 [00:00<?, ?it/s]"
     ]
    },
    {
     "name": "stdout",
     "output_type": "stream",
     "text": [
      "cleaning up trace data\n"
     ]
    },
    {
     "name": "stderr",
     "output_type": "stream",
     "text": [
      "100%|██████████| 3/3 [00:05<00:00,  1.88s/it]\n",
      "  0%|          | 0/14 [00:00<?, ?it/s]"
     ]
    },
    {
     "name": "stdout",
     "output_type": "stream",
     "text": [
      "cleaning up trace data\n"
     ]
    },
    {
     "name": "stderr",
     "output_type": "stream",
     "text": [
      "100%|██████████| 14/14 [00:34<00:00,  2.50s/it]\n",
      "  0%|          | 0/14 [00:00<?, ?it/s]"
     ]
    },
    {
     "name": "stdout",
     "output_type": "stream",
     "text": [
      "cleaning up trace data\n"
     ]
    },
    {
     "name": "stderr",
     "output_type": "stream",
     "text": [
      "100%|██████████| 14/14 [00:22<00:00,  1.60s/it]\n",
      "  0%|          | 0/14 [00:00<?, ?it/s]"
     ]
    },
    {
     "name": "stdout",
     "output_type": "stream",
     "text": [
      "cleaning up trace data\n"
     ]
    },
    {
     "name": "stderr",
     "output_type": "stream",
     "text": [
      "100%|██████████| 14/14 [00:15<00:00,  1.14s/it]\n",
      "  0%|          | 0/14 [00:00<?, ?it/s]"
     ]
    },
    {
     "name": "stdout",
     "output_type": "stream",
     "text": [
      "cleaning up trace data\n"
     ]
    },
    {
     "name": "stderr",
     "output_type": "stream",
     "text": [
      "100%|██████████| 14/14 [00:26<00:00,  1.93s/it]\n",
      "  0%|          | 0/19 [00:00<?, ?it/s]"
     ]
    },
    {
     "name": "stdout",
     "output_type": "stream",
     "text": [
      "cleaning up trace data\n"
     ]
    },
    {
     "name": "stderr",
     "output_type": "stream",
     "text": [
      "100%|██████████| 19/19 [00:20<00:00,  1.07s/it]\n",
      "  0%|          | 0/17 [00:00<?, ?it/s]"
     ]
    },
    {
     "name": "stdout",
     "output_type": "stream",
     "text": [
      "cleaning up trace data\n"
     ]
    },
    {
     "name": "stderr",
     "output_type": "stream",
     "text": [
      "100%|██████████| 17/17 [00:59<00:00,  3.53s/it]\n",
      "  0%|          | 0/19 [00:00<?, ?it/s]"
     ]
    },
    {
     "name": "stdout",
     "output_type": "stream",
     "text": [
      "cleaning up trace data\n"
     ]
    },
    {
     "name": "stderr",
     "output_type": "stream",
     "text": [
      "100%|██████████| 19/19 [00:35<00:00,  1.86s/it]\n",
      "  0%|          | 0/13 [00:00<?, ?it/s]"
     ]
    },
    {
     "name": "stdout",
     "output_type": "stream",
     "text": [
      "cleaning up trace data\n"
     ]
    },
    {
     "name": "stderr",
     "output_type": "stream",
     "text": [
      "100%|██████████| 13/13 [00:11<00:00,  1.13it/s]\n",
      "  0%|          | 0/14 [00:00<?, ?it/s]"
     ]
    },
    {
     "name": "stdout",
     "output_type": "stream",
     "text": [
      "cleaning up trace data\n"
     ]
    },
    {
     "name": "stderr",
     "output_type": "stream",
     "text": [
      "100%|██████████| 14/14 [00:21<00:00,  1.51s/it]\n",
      "  0%|          | 0/14 [00:00<?, ?it/s]"
     ]
    },
    {
     "name": "stdout",
     "output_type": "stream",
     "text": [
      "cleaning up trace data\n"
     ]
    },
    {
     "name": "stderr",
     "output_type": "stream",
     "text": [
      "100%|██████████| 14/14 [00:15<00:00,  1.10s/it]\n"
     ]
    }
   ],
   "source": [
    "from numpy import matlib\n",
    "niter = 1000\n",
    "PostS=40\n",
    "preS = 40\n",
    "f = h5py.File('membership.hdf5','a')\n",
    "miceList = getMiceList(Files[0])\n",
    "faild = []\n",
    "for m in miceList:\n",
    "    data = getData(Files[1],['trace'],period ='Pre', mice=m)\n",
    "    try:\n",
    "        grp = f.create_group(m)\n",
    "    except: \n",
    "        grp = f[m]\n",
    "    \n",
    "    for sess in tqdm(data.keys()):\n",
    "        try: \n",
    "            try: \n",
    "                sgrp = grp[sess]\n",
    "            except: \n",
    "                sgrp = grp.create_group(sess)\n",
    "            try: \n",
    "                subgroup = sgrp.create_group('mvmtOnset')\n",
    "            except:\n",
    "                subgroup = sgrp['mvmtOnset']\n",
    "\n",
    "            dff = data[sess]['trace']['dff']\n",
    "            mvmtOnset = getOnsetOrPeriod(m,sess,'Pre','mvmtOnset')\n",
    "        #    print(mvmtOnset.shape)\n",
    "            aDff = alignToOnset(dff.T, mvmtOnset, winPost=PostS,winPre=preS)\n",
    "            onset = np.reshape(mvmtOnset,(1,np.max(mvmtOnset.shape)))\n",
    "        #    print(aDff.shape,onset.shape,mvmtOnset.shape)\n",
    "\n",
    "            result,rawResults,Th = perNeuronPerEvent(aDff,dff,onset,niter)\n",
    "            subgroup['result'] = result\n",
    "            subgroup['rawResults'] = rawResults\n",
    "            subgroup['Th'] = Th\n",
    "        except: \n",
    "            faild.append(sess)\n",
    "#    print(result.shape)\n",
    "f.close()"
   ]
  },
  {
   "cell_type": "code",
   "execution_count": 22,
   "metadata": {},
   "outputs": [],
   "source": [
    "def circShiftRoll(shifts,data):\n",
    "    return  np.array([np.roll(row, x) for row,x in zip(data, shifts)])\n",
    "\n",
    "def membershipMike(dff,onset,preS = 40,PostS=40):\n",
    "    if np.sum(onset)==0:\n",
    "        return None\n",
    "    aDff = alignToOnset(dff.T, mvmtOnset, winPost=PostS,winPre=preS)\n",
    "    if np.min(dff.shape) ==1:\n",
    "        aDff = np.reshape(aDff,(aDff.shape[0],1,aDff.shape[1]))\n",
    "    if np.sum(onset) ==1:\n",
    "        aDff = np.reshape(aDff,(aDff.shape[0],aDff.shape[1],1))\n",
    "    \n",
    "    nT,nN,nE = aDff.shape\n",
    "    mins = np.min(aDff,axis=0)\n",
    "    aDff[:,mins<0] =aDff[:,mins<0]+np.abs(mins[mins<0])\n",
    "\n",
    "    prePoints = np.mean(aDff[:int(nT/2),:,:],axis=2)\n",
    "    postPoints = np.mean(aDff[int(nT/2):,:,:],axis=2)\n",
    "#    print(aDff.shape,prePoints.shape,postPoints.shape)\n",
    "\n",
    "    care = np.zeros((nN,1))\n",
    "    for n in range(0,nN):\n",
    "        _, pVal = sci.stats.mannwhitneyu(prePoints[:,n], postPoints[:,n])\n",
    "        if pVal<.05:\n",
    "            care[n]=True\n",
    "    return care"
   ]
  },
  {
   "cell_type": "code",
   "execution_count": null,
   "metadata": {},
   "outputs": [],
   "source": []
  },
  {
   "cell_type": "code",
   "execution_count": 24,
   "metadata": {},
   "outputs": [
    {
     "name": "stderr",
     "output_type": "stream",
     "text": [
      "100%|██████████| 14/14 [00:00<00:00, 183.06it/s]"
     ]
    },
    {
     "name": "stdout",
     "output_type": "stream",
     "text": [
      "cleaning up trace data\n"
     ]
    },
    {
     "name": "stderr",
     "output_type": "stream",
     "text": [
      "\n",
      " 14%|█▍        | 2/14 [00:00<00:00, 16.06it/s]"
     ]
    },
    {
     "name": "stdout",
     "output_type": "stream",
     "text": [
      "cleaning up trace data\n"
     ]
    },
    {
     "name": "stderr",
     "output_type": "stream",
     "text": [
      "100%|██████████| 14/14 [00:00<00:00, 25.20it/s]\n",
      "100%|██████████| 14/14 [00:00<00:00, 103.47it/s]\n",
      "  0%|          | 0/3 [00:00<?, ?it/s]"
     ]
    },
    {
     "name": "stdout",
     "output_type": "stream",
     "text": [
      "cleaning up trace data\n",
      "cleaning up trace data\n"
     ]
    },
    {
     "name": "stderr",
     "output_type": "stream",
     "text": [
      "100%|██████████| 3/3 [00:00<00:00, 24.20it/s]\n",
      " 29%|██▊       | 4/14 [00:00<00:00, 32.57it/s]"
     ]
    },
    {
     "name": "stdout",
     "output_type": "stream",
     "text": [
      "cleaning up trace data\n"
     ]
    },
    {
     "name": "stderr",
     "output_type": "stream",
     "text": [
      "100%|██████████| 14/14 [00:00<00:00, 34.22it/s]\n",
      "100%|██████████| 3/3 [00:00<00:00, 17.50it/s]\n"
     ]
    },
    {
     "name": "stdout",
     "output_type": "stream",
     "text": [
      "cleaning up trace data\n"
     ]
    },
    {
     "name": "stderr",
     "output_type": "stream",
     "text": [
      " 14%|█▍        | 2/14 [00:00<00:01, 11.98it/s]"
     ]
    },
    {
     "name": "stdout",
     "output_type": "stream",
     "text": [
      "cleaning up trace data\n"
     ]
    },
    {
     "name": "stderr",
     "output_type": "stream",
     "text": [
      "100%|██████████| 14/14 [00:00<00:00, 24.93it/s]\n",
      " 29%|██▊       | 4/14 [00:00<00:00, 26.42it/s]"
     ]
    },
    {
     "name": "stdout",
     "output_type": "stream",
     "text": [
      "cleaning up trace data\n"
     ]
    },
    {
     "name": "stderr",
     "output_type": "stream",
     "text": [
      "100%|██████████| 14/14 [00:00<00:00, 24.32it/s]\n",
      " 21%|██▏       | 3/14 [00:00<00:00, 29.00it/s]"
     ]
    },
    {
     "name": "stdout",
     "output_type": "stream",
     "text": [
      "cleaning up trace data\n"
     ]
    },
    {
     "name": "stderr",
     "output_type": "stream",
     "text": [
      "100%|██████████| 14/14 [00:00<00:00, 41.85it/s]\n",
      " 21%|██▏       | 3/14 [00:00<00:00, 25.24it/s]"
     ]
    },
    {
     "name": "stdout",
     "output_type": "stream",
     "text": [
      "cleaning up trace data\n"
     ]
    },
    {
     "name": "stderr",
     "output_type": "stream",
     "text": [
      "100%|██████████| 14/14 [00:00<00:00, 22.88it/s]\n",
      " 11%|█         | 2/19 [00:00<00:01, 14.59it/s]"
     ]
    },
    {
     "name": "stdout",
     "output_type": "stream",
     "text": [
      "cleaning up trace data\n"
     ]
    },
    {
     "name": "stderr",
     "output_type": "stream",
     "text": [
      "100%|██████████| 19/19 [00:00<00:00, 37.13it/s]\n",
      " 24%|██▎       | 4/17 [00:00<00:00, 36.78it/s]"
     ]
    },
    {
     "name": "stdout",
     "output_type": "stream",
     "text": [
      "cleaning up trace data\n"
     ]
    },
    {
     "name": "stderr",
     "output_type": "stream",
     "text": [
      "100%|██████████| 17/17 [00:01<00:00, 14.20it/s]\n",
      " 11%|█         | 2/19 [00:00<00:01, 14.92it/s]"
     ]
    },
    {
     "name": "stdout",
     "output_type": "stream",
     "text": [
      "cleaning up trace data\n"
     ]
    },
    {
     "name": "stderr",
     "output_type": "stream",
     "text": [
      "100%|██████████| 19/19 [00:00<00:00, 28.64it/s]\n",
      " 38%|███▊      | 5/13 [00:00<00:00, 48.03it/s]"
     ]
    },
    {
     "name": "stdout",
     "output_type": "stream",
     "text": [
      "cleaning up trace data\n"
     ]
    },
    {
     "name": "stderr",
     "output_type": "stream",
     "text": [
      "100%|██████████| 13/13 [00:00<00:00, 41.84it/s]\n",
      " 21%|██▏       | 3/14 [00:00<00:00, 29.51it/s]"
     ]
    },
    {
     "name": "stdout",
     "output_type": "stream",
     "text": [
      "cleaning up trace data\n"
     ]
    },
    {
     "name": "stderr",
     "output_type": "stream",
     "text": [
      "100%|██████████| 14/14 [00:00<00:00, 44.35it/s]\n",
      " 36%|███▌      | 5/14 [00:00<00:00, 43.78it/s]"
     ]
    },
    {
     "name": "stdout",
     "output_type": "stream",
     "text": [
      "cleaning up trace data\n"
     ]
    },
    {
     "name": "stderr",
     "output_type": "stream",
     "text": [
      "100%|██████████| 14/14 [00:00<00:00, 46.08it/s]\n"
     ]
    }
   ],
   "source": [
    "from numpy import matlib\n",
    "niter = 1000\n",
    "PostS=40\n",
    "preS = 40\n",
    "f = h5py.File('membershipMike.hdf5','a')\n",
    "miceList = getMiceList(Files[0])\n",
    "faild = []\n",
    "for m in miceList:\n",
    "    data = getData(Files[1],['trace'],period ='Pre', mice=m)\n",
    "    try:\n",
    "        grp = f.create_group(m)\n",
    "    except: \n",
    "        grp = f[m]\n",
    "    \n",
    "    for sess in tqdm(data.keys()):\n",
    "        try: \n",
    "            try: \n",
    "                sgrp = grp[sess]\n",
    "            except: \n",
    "                sgrp = grp.create_group(sess)\n",
    "            try: \n",
    "                subgroup = sgrp.create_group('mvmtOnset')\n",
    "            except:\n",
    "                subgroup = sgrp['mvmtOnset']\n",
    "\n",
    "            dff = data[sess]['trace']['dff']\n",
    "            mvmtOnset = getOnsetOrPeriod(m,sess,'Pre','mvmtOnset')\n",
    "        #    print(mvmtOnset.shape)\n",
    "            onset = np.reshape(mvmtOnset,(1,np.max(mvmtOnset.shape)))\n",
    "        #    print(aDff.shape,onset.shape,mvmtOnset.shape)\n",
    "\n",
    "            care = membershipMike(dff,onset,preS,PostS)\n",
    "            subgroup['result'] = care\n",
    "        except: \n",
    "            faild.append(sess)\n",
    "#    print(result.shape)\n",
    "f.close()"
   ]
  },
  {
   "cell_type": "code",
   "execution_count": 32,
   "metadata": {},
   "outputs": [
    {
     "name": "stderr",
     "output_type": "stream",
     "text": [
      "\n",
      "\n",
      "\n",
      "  0%|          | 0/7 [00:00<?, ?it/s]\u001b[A\u001b[A\u001b[A"
     ]
    },
    {
     "name": "stdout",
     "output_type": "stream",
     "text": [
      "cleaning up trace data\n",
      "I deleted session: 0761_day1\n",
      "I deleted session: 0761_day10\n",
      "I deleted session: 0761_day12\n",
      "I deleted session: 0761_day2\n",
      "I deleted session: 0761_day4\n",
      "I deleted session: 0761_day6\n",
      "I deleted session: 0761_day8\n",
      "cleaning up lfp data\n"
     ]
    },
    {
     "name": "stderr",
     "output_type": "stream",
     "text": [
      "/home/dana_z/anaconda3/lib/python3.6/site-packages/ipykernel_launcher.py:48: H5pyDeprecationWarning: dataset.value has been deprecated. Use dataset[()] instead.\n",
      "\n",
      "\n",
      "\n",
      " 14%|█▍        | 1/7 [00:10<01:04, 10.79s/it]\u001b[A\u001b[A\u001b[A\n",
      "\n",
      "\n",
      " 29%|██▊       | 2/7 [00:30<01:07, 13.51s/it]\u001b[A\u001b[A\u001b[A/home/dana_z/anaconda3/lib/python3.6/site-packages/ipykernel_launcher.py:117: RuntimeWarning: Mean of empty slice\n",
      "\n",
      "\n",
      "\n",
      " 43%|████▎     | 3/7 [00:52<01:04, 16.14s/it]\u001b[A\u001b[A\u001b[A\n",
      "\n",
      "\n",
      " 57%|█████▋    | 4/7 [01:12<00:51, 17.04s/it]\u001b[A\u001b[A\u001b[A\n",
      "\n",
      "\n",
      " 71%|███████▏  | 5/7 [01:37<00:39, 19.69s/it]\u001b[A\u001b[A\u001b[A\n",
      "\n",
      "\n",
      " 86%|████████▌ | 6/7 [01:58<00:19, 19.88s/it]\u001b[A\u001b[A\u001b[A\n",
      "\n",
      "\n",
      "100%|██████████| 7/7 [02:20<00:00, 20.08s/it]\u001b[A\u001b[A\u001b[A\n",
      "\n",
      "\n",
      "\n",
      "  0%|          | 0/7 [00:00<?, ?it/s]\u001b[A\u001b[A\u001b[A"
     ]
    },
    {
     "name": "stdout",
     "output_type": "stream",
     "text": [
      "cleaning up trace data\n",
      "I deleted session: 1208_day10\n",
      "I deleted session: 1208_day12\n",
      "I deleted session: 1208_day14\n",
      "I deleted session: 1208_day2\n",
      "I deleted session: 1208_day4\n",
      "I deleted session: 1208_day6\n",
      "I deleted session: 1208_day8\n",
      "cleaning up lfp data\n"
     ]
    },
    {
     "name": "stderr",
     "output_type": "stream",
     "text": [
      "\n",
      "\n",
      "\n",
      " 14%|█▍        | 1/7 [03:17<19:44, 197.46s/it]\u001b[A\u001b[A\u001b[A\n",
      "\n",
      "\n",
      " 29%|██▊       | 2/7 [10:43<22:39, 271.93s/it]\u001b[A\u001b[A\u001b[A\n",
      "\n",
      "\n",
      " 43%|████▎     | 3/7 [13:11<15:39, 234.95s/it]\u001b[A\u001b[A\u001b[A\n",
      "\n",
      "\n",
      " 57%|█████▋    | 4/7 [13:58<08:55, 178.60s/it]\u001b[A\u001b[A\u001b[A"
     ]
    },
    {
     "name": "stdout",
     "output_type": "stream",
     "text": [
      "found  3.0  outlier points\n"
     ]
    },
    {
     "name": "stderr",
     "output_type": "stream",
     "text": [
      "\n",
      "\n",
      "\n",
      " 71%|███████▏  | 5/7 [16:00<05:22, 161.43s/it]\u001b[A\u001b[A\u001b[A\n",
      "\n",
      "\n",
      " 86%|████████▌ | 6/7 [17:00<02:10, 130.96s/it]\u001b[A\u001b[A\u001b[A"
     ]
    },
    {
     "name": "stdout",
     "output_type": "stream",
     "text": [
      "found  2.0  outlier points\n"
     ]
    },
    {
     "name": "stderr",
     "output_type": "stream",
     "text": [
      "\n",
      "\n",
      "\n",
      "100%|██████████| 7/7 [18:24<00:00, 157.85s/it]\u001b[A\u001b[A\u001b[A\n",
      "\n",
      "\n",
      "\n",
      "  0%|          | 0/7 [00:00<?, ?it/s]\u001b[A\u001b[A\u001b[A"
     ]
    },
    {
     "name": "stdout",
     "output_type": "stream",
     "text": [
      "cleaning up trace data\n",
      "I deleted session: 1222_day11\n",
      "I deleted session: 1222_day13\n",
      "I deleted session: 1222_day2\n",
      "I deleted session: 1222_day3\n",
      "I deleted session: 1222_day5\n",
      "I deleted session: 1222_day7\n",
      "I deleted session: 1222_day9\n",
      "cleaning up lfp data\n"
     ]
    },
    {
     "name": "stderr",
     "output_type": "stream",
     "text": [
      "\n",
      "\n",
      "\n",
      " 14%|█▍        | 1/7 [00:33<03:20, 33.46s/it]\u001b[A\u001b[A\u001b[A\n",
      "\n",
      "\n",
      " 29%|██▊       | 2/7 [02:17<04:32, 54.56s/it]\u001b[A\u001b[A\u001b[A\n",
      "\n",
      "\n",
      " 43%|████▎     | 3/7 [04:19<04:59, 74.76s/it]\u001b[A\u001b[A\u001b[A\n",
      "\n",
      "\n",
      " 57%|█████▋    | 4/7 [04:48<03:02, 60.99s/it]\u001b[A\u001b[A\u001b[A\n",
      "\n",
      "\n",
      " 71%|███████▏  | 5/7 [05:21<01:45, 52.73s/it]\u001b[A\u001b[A\u001b[A\n",
      "\n",
      "\n",
      " 86%|████████▌ | 6/7 [05:41<00:42, 42.97s/it]\u001b[A\u001b[A\u001b[A\n",
      "\n",
      "\n",
      "100%|██████████| 7/7 [06:12<00:00, 53.21s/it]\u001b[A\u001b[A\u001b[A\n",
      "\n",
      "\n",
      "\n",
      "  0%|          | 0/3 [00:00<?, ?it/s]\u001b[A\u001b[A\u001b[A"
     ]
    },
    {
     "name": "stdout",
     "output_type": "stream",
     "text": [
      "cleaning up trace data\n",
      "cleaning up lfp data\n"
     ]
    },
    {
     "name": "stderr",
     "output_type": "stream",
     "text": [
      "\n",
      "\n",
      "\n",
      " 33%|███▎      | 1/3 [02:21<04:42, 141.18s/it]\u001b[A\u001b[A\u001b[A/home/dana_z/anaconda3/lib/python3.6/site-packages/ipykernel_launcher.py:86: RuntimeWarning: Mean of empty slice\n",
      "\n",
      "\n",
      "\n",
      " 67%|██████▋   | 2/3 [05:05<02:28, 148.12s/it]\u001b[A\u001b[A\u001b[A\n",
      "\n",
      "\n",
      "100%|██████████| 3/3 [07:46<00:00, 155.49s/it]\u001b[A\u001b[A\u001b[A\n",
      "\n",
      "\n",
      "\n",
      "  0%|          | 0/7 [00:00<?, ?it/s]\u001b[A\u001b[A\u001b[A"
     ]
    },
    {
     "name": "stdout",
     "output_type": "stream",
     "text": [
      "cleaning up trace data\n",
      "I deleted session: 1236_day1\n",
      "I deleted session: 1236_day11\n",
      "I deleted session: 1236_day13\n",
      "I deleted session: 1236_day3\n",
      "I deleted session: 1236_day5\n",
      "I deleted session: 1236_day7\n",
      "I deleted session: 1236_day9\n",
      "cleaning up lfp data\n",
      "found  34.0  outlier points\n"
     ]
    },
    {
     "name": "stderr",
     "output_type": "stream",
     "text": [
      "\n",
      "\n",
      "\n",
      " 14%|█▍        | 1/7 [01:08<06:51, 68.58s/it]\u001b[A\u001b[A\u001b[A\n",
      "\n",
      "\n",
      " 29%|██▊       | 2/7 [02:08<05:30, 66.05s/it]\u001b[A\u001b[A\u001b[A\n",
      "\n",
      "\n",
      " 43%|████▎     | 3/7 [03:06<04:14, 63.62s/it]\u001b[A\u001b[A\u001b[A\n",
      "\n",
      "\n",
      " 57%|█████▋    | 4/7 [03:44<02:47, 55.80s/it]\u001b[A\u001b[A\u001b[A\n",
      "\n",
      "\n",
      " 71%|███████▏  | 5/7 [04:38<01:50, 55.48s/it]\u001b[A\u001b[A\u001b[A"
     ]
    },
    {
     "name": "stdout",
     "output_type": "stream",
     "text": [
      "found  927582.0  outlier points\n"
     ]
    },
    {
     "name": "stderr",
     "output_type": "stream",
     "text": [
      "\n",
      "\n",
      "\n",
      " 86%|████████▌ | 6/7 [06:02<01:03, 63.99s/it]\u001b[A\u001b[A\u001b[A"
     ]
    },
    {
     "name": "stdout",
     "output_type": "stream",
     "text": [
      "found  447664.0  outlier points\n"
     ]
    },
    {
     "name": "stderr",
     "output_type": "stream",
     "text": [
      "\n",
      "\n",
      "\n",
      "100%|██████████| 7/7 [07:50<00:00, 67.19s/it]\u001b[A\u001b[A\u001b[A\n",
      "\n",
      "\n",
      "\n",
      "  0%|          | 0/3 [00:00<?, ?it/s]\u001b[A\u001b[A\u001b[A"
     ]
    },
    {
     "name": "stdout",
     "output_type": "stream",
     "text": [
      "cleaning up trace data\n",
      "cleaning up lfp data\n"
     ]
    },
    {
     "name": "stderr",
     "output_type": "stream",
     "text": [
      "\n",
      "\n",
      "\n",
      " 33%|███▎      | 1/3 [00:55<01:50, 55.23s/it]\u001b[A\u001b[A\u001b[A\n",
      "\n",
      "\n",
      " 67%|██████▋   | 2/3 [04:42<01:46, 106.87s/it]\u001b[A\u001b[A\u001b[A\n",
      "\n",
      "\n",
      "100%|██████████| 3/3 [08:06<00:00, 162.13s/it]\u001b[A\u001b[A\u001b[A\n",
      "\n",
      "\n",
      "\n",
      "  0%|          | 0/7 [00:00<?, ?it/s]\u001b[A\u001b[A\u001b[A"
     ]
    },
    {
     "name": "stdout",
     "output_type": "stream",
     "text": [
      "cleaning up trace data\n",
      "I deleted session: 1793_day10\n",
      "I deleted session: 1793_day12\n",
      "I deleted session: 1793_day14\n",
      "I deleted session: 1793_day2\n",
      "I deleted session: 1793_day4\n",
      "I deleted session: 1793_day6\n",
      "I deleted session: 1793_day8\n",
      "cleaning up lfp data\n"
     ]
    },
    {
     "name": "stderr",
     "output_type": "stream",
     "text": [
      "\n",
      "\n",
      "\n",
      " 14%|█▍        | 1/7 [01:01<06:11, 61.87s/it]\u001b[A\u001b[A\u001b[A\n",
      "\n",
      "\n",
      " 29%|██▊       | 2/7 [19:07<30:45, 369.11s/it]\u001b[A\u001b[A\u001b[A\n",
      "\n",
      "\n",
      " 43%|████▎     | 3/7 [28:14<28:09, 422.46s/it]\u001b[A\u001b[A\u001b[A\n",
      "\n",
      "\n",
      " 57%|█████▋    | 4/7 [29:02<15:29, 309.93s/it]\u001b[A\u001b[A\u001b[A\n",
      "\n",
      "\n",
      " 71%|███████▏  | 5/7 [31:21<08:37, 258.69s/it]\u001b[A\u001b[A\u001b[A\n",
      "\n",
      "\n",
      " 86%|████████▌ | 6/7 [32:57<03:29, 209.83s/it]\u001b[A\u001b[A\u001b[A\n",
      "\n",
      "\n",
      "100%|██████████| 7/7 [33:57<00:00, 291.06s/it]\u001b[A\u001b[A\u001b[A\n",
      "\n",
      "\n",
      "\n",
      "  0%|          | 0/7 [00:00<?, ?it/s]\u001b[A\u001b[A\u001b[A"
     ]
    },
    {
     "name": "stdout",
     "output_type": "stream",
     "text": [
      "cleaning up trace data\n",
      "I deleted session: 2976_day10\n",
      "I deleted session: 2976_day12\n",
      "I deleted session: 2976_day14\n",
      "I deleted session: 2976_day2\n",
      "I deleted session: 2976_day4\n",
      "I deleted session: 2976_day6\n",
      "I deleted session: 2976_day8\n",
      "cleaning up lfp data\n"
     ]
    },
    {
     "name": "stderr",
     "output_type": "stream",
     "text": [
      "\n",
      "\n",
      "\n",
      " 14%|█▍        | 1/7 [00:27<02:45, 27.62s/it]\u001b[A\u001b[A\u001b[A\n",
      "\n",
      "\n",
      " 29%|██▊       | 2/7 [01:04<02:32, 30.50s/it]\u001b[A\u001b[A\u001b[A\n",
      "\n",
      "\n",
      " 43%|████▎     | 3/7 [01:53<02:23, 35.91s/it]\u001b[A\u001b[A\u001b[A\n",
      "\n",
      "\n",
      " 57%|█████▋    | 4/7 [03:04<02:19, 46.38s/it]\u001b[A\u001b[A\u001b[A\n",
      "\n",
      "\n",
      " 71%|███████▏  | 5/7 [03:43<01:28, 44.31s/it]\u001b[A\u001b[A\u001b[A\n",
      "\n",
      "\n",
      " 86%|████████▌ | 6/7 [04:25<00:43, 43.47s/it]\u001b[A\u001b[A\u001b[A\n",
      "\n",
      "\n",
      "100%|██████████| 7/7 [05:00<00:00, 42.86s/it]\u001b[A\u001b[A\u001b[A\n",
      "\n",
      "\n",
      "\n",
      "  0%|          | 0/7 [00:00<?, ?it/s]\u001b[A\u001b[A\u001b[A"
     ]
    },
    {
     "name": "stdout",
     "output_type": "stream",
     "text": [
      "cleaning up trace data\n",
      "I deleted session: 2980_day10\n",
      "I deleted session: 2980_day12\n",
      "I deleted session: 2980_day14\n",
      "I deleted session: 2980_day2\n",
      "I deleted session: 2980_day4\n",
      "I deleted session: 2980_day6\n",
      "I deleted session: 2980_day8\n",
      "cleaning up lfp data\n"
     ]
    },
    {
     "name": "stderr",
     "output_type": "stream",
     "text": [
      "\n",
      "\n",
      "\n",
      " 14%|█▍        | 1/7 [00:35<03:33, 35.55s/it]\u001b[A\u001b[A\u001b[A\n",
      "\n",
      "\n",
      " 29%|██▊       | 2/7 [01:39<03:40, 44.08s/it]\u001b[A\u001b[A\u001b[A\n",
      "\n",
      "\n",
      " 43%|████▎     | 3/7 [03:40<04:28, 67.04s/it]\u001b[A\u001b[A\u001b[A"
     ]
    },
    {
     "name": "stdout",
     "output_type": "stream",
     "text": [
      "found  144.0  outlier points\n"
     ]
    },
    {
     "name": "stderr",
     "output_type": "stream",
     "text": [
      "\n",
      "\n",
      "\n",
      " 57%|█████▋    | 4/7 [04:31<03:06, 62.21s/it]\u001b[A\u001b[A\u001b[A\n",
      "\n",
      "\n",
      " 71%|███████▏  | 5/7 [05:42<02:09, 64.98s/it]\u001b[A\u001b[A\u001b[A\n",
      "\n",
      "\n",
      " 86%|████████▌ | 6/7 [06:08<00:53, 53.35s/it]\u001b[A\u001b[A\u001b[A\n",
      "\n",
      "\n",
      "100%|██████████| 7/7 [07:09<00:00, 61.36s/it]\u001b[A\u001b[A\u001b[A\n",
      "\n",
      "\n",
      "\n",
      "  0%|          | 0/7 [00:00<?, ?it/s]\u001b[A\u001b[A\u001b[A"
     ]
    },
    {
     "name": "stdout",
     "output_type": "stream",
     "text": [
      "cleaning up trace data\n",
      "I deleted session: 2981_day10\n",
      "I deleted session: 2981_day12\n",
      "I deleted session: 2981_day14\n",
      "I deleted session: 2981_day2\n",
      "I deleted session: 2981_day4\n",
      "I deleted session: 2981_day6\n",
      "I deleted session: 2981_day8\n",
      "cleaning up lfp data\n"
     ]
    },
    {
     "name": "stderr",
     "output_type": "stream",
     "text": [
      "\n",
      "\n",
      "\n",
      " 14%|█▍        | 1/7 [00:44<04:26, 44.42s/it]\u001b[A\u001b[A\u001b[A\n",
      "\n",
      "\n",
      " 29%|██▊       | 2/7 [01:44<04:05, 49.01s/it]\u001b[A\u001b[A\u001b[A\n",
      "\n",
      "\n",
      " 43%|████▎     | 3/7 [03:21<04:14, 63.65s/it]\u001b[A\u001b[A\u001b[A"
     ]
    },
    {
     "name": "stdout",
     "output_type": "stream",
     "text": [
      "found  105.0  outlier points\n"
     ]
    },
    {
     "name": "stderr",
     "output_type": "stream",
     "text": [
      "\n",
      "\n",
      "\n",
      " 57%|█████▋    | 4/7 [05:05<03:46, 75.60s/it]\u001b[A\u001b[A\u001b[A\n",
      "\n",
      "\n",
      " 71%|███████▏  | 5/7 [07:10<03:01, 90.55s/it]\u001b[A\u001b[A\u001b[A\n",
      "\n",
      "\n",
      " 86%|████████▌ | 6/7 [11:53<02:28, 148.09s/it]\u001b[A\u001b[A\u001b[A\n",
      "\n",
      "\n",
      "100%|██████████| 7/7 [15:14<00:00, 130.62s/it]\u001b[A\u001b[A\u001b[A\n",
      "\n",
      "\n",
      "\n",
      "  0%|          | 0/4 [00:00<?, ?it/s]\u001b[A\u001b[A\u001b[A"
     ]
    },
    {
     "name": "stdout",
     "output_type": "stream",
     "text": [
      "cleaning up trace data\n",
      "I deleted session: 4539_day0\n",
      "I deleted session: 4539_day1\n",
      "I deleted session: 4539_day10\n",
      "I deleted session: 4539_day11\n",
      "I deleted session: 4539_day12\n",
      "I deleted session: 4539_day13\n",
      "I deleted session: 4539_day14\n",
      "I deleted session: 4539_day2\n",
      "I deleted session: 4539_day3\n",
      "I deleted session: 4539_day4\n",
      "I deleted session: 4539_day5\n",
      "I deleted session: 4539_day6\n",
      "I deleted session: 4539_day7\n",
      "I deleted session: 4539_day8\n",
      "I deleted session: 4539_day9\n",
      "cleaning up lfp data\n"
     ]
    },
    {
     "name": "stderr",
     "output_type": "stream",
     "text": [
      "\n",
      "\n",
      "\n",
      " 25%|██▌       | 1/4 [01:04<03:13, 64.63s/it]\u001b[A\u001b[A\u001b[A\n",
      "\n",
      "\n",
      " 50%|█████     | 2/4 [05:42<04:17, 128.75s/it]\u001b[A\u001b[A\u001b[A"
     ]
    },
    {
     "name": "stdout",
     "output_type": "stream",
     "text": [
      "found  17.0  outlier points\n"
     ]
    },
    {
     "name": "stderr",
     "output_type": "stream",
     "text": [
      "\n",
      "\n",
      "\n",
      " 75%|███████▌  | 3/4 [06:34<01:45, 105.51s/it]\u001b[A\u001b[A\u001b[A\n",
      "\n",
      "\n",
      "100%|██████████| 4/4 [06:53<00:00, 103.50s/it]\u001b[A\u001b[A\u001b[A\n",
      "\n",
      "\n",
      "\n",
      "  0%|          | 0/2 [00:00<?, ?it/s]\u001b[A\u001b[A\u001b[A"
     ]
    },
    {
     "name": "stdout",
     "output_type": "stream",
     "text": [
      "cleaning up trace data\n",
      "I deleted session: 7584_Baseline0\n",
      "I deleted session: 7584_day0\n",
      "I deleted session: 7584_day1\n",
      "I deleted session: 7584_day10\n",
      "I deleted session: 7584_day11\n",
      "I deleted session: 7584_day12\n",
      "I deleted session: 7584_day15\n",
      "I deleted session: 7584_day2\n",
      "I deleted session: 7584_day3\n",
      "I deleted session: 7584_day4\n",
      "I deleted session: 7584_day5\n",
      "I deleted session: 7584_day6\n",
      "I deleted session: 7584_day7\n",
      "I deleted session: 7584_day8\n",
      "I deleted session: 7584_day9\n",
      "cleaning up lfp data\n"
     ]
    },
    {
     "name": "stderr",
     "output_type": "stream",
     "text": [
      "\n",
      "\n",
      "\n",
      " 50%|█████     | 1/2 [00:13<00:13, 13.59s/it]\u001b[A\u001b[A\u001b[A\n",
      "\n",
      "\n",
      "100%|██████████| 2/2 [11:25<00:00, 342.65s/it]\u001b[A\u001b[A\u001b[A\n",
      "\n",
      "\n",
      "\n",
      "  0%|          | 0/4 [00:00<?, ?it/s]\u001b[A\u001b[A\u001b[A"
     ]
    },
    {
     "name": "stdout",
     "output_type": "stream",
     "text": [
      "cleaning up trace data\n",
      "I deleted session: 7909_day0\n",
      "I deleted session: 7909_day1\n",
      "I deleted session: 7909_day10\n",
      "I deleted session: 7909_day11\n",
      "I deleted session: 7909_day12\n",
      "I deleted session: 7909_day13\n",
      "I deleted session: 7909_day14\n",
      "I deleted session: 7909_day2\n",
      "I deleted session: 7909_day3\n",
      "I deleted session: 7909_day4\n",
      "I deleted session: 7909_day5\n",
      "I deleted session: 7909_day6\n",
      "I deleted session: 7909_day7\n",
      "I deleted session: 7909_day8\n",
      "I deleted session: 7909_day9\n",
      "cleaning up lfp data\n",
      "found  10.0  outlier points\n"
     ]
    },
    {
     "name": "stderr",
     "output_type": "stream",
     "text": [
      "\n",
      "\n",
      "\n",
      " 25%|██▌       | 1/4 [09:00<27:01, 540.39s/it]\u001b[A\u001b[A\u001b[A\n",
      "\n",
      "\n",
      " 50%|█████     | 2/4 [09:54<13:09, 394.61s/it]\u001b[A\u001b[A\u001b[A\n",
      "\n",
      "\n",
      " 75%|███████▌  | 3/4 [10:25<04:45, 285.56s/it]\u001b[A\u001b[A\u001b[A\n",
      "\n",
      "\n",
      "100%|██████████| 4/4 [10:47<00:00, 161.85s/it]\u001b[A\u001b[A\u001b[A\n",
      "\n",
      "\n",
      "\n",
      "  0%|          | 0/7 [00:00<?, ?it/s]\u001b[A\u001b[A\u001b[A"
     ]
    },
    {
     "name": "stdout",
     "output_type": "stream",
     "text": [
      "cleaning up trace data\n",
      "I deleted session: 8430_day1\n",
      "I deleted session: 8430_day11\n",
      "I deleted session: 8430_day3\n",
      "I deleted session: 8430_day5\n",
      "I deleted session: 8430_day7\n",
      "I deleted session: 8430_day9\n",
      "cleaning up lfp data\n"
     ]
    },
    {
     "name": "stderr",
     "output_type": "stream",
     "text": [
      "\n",
      "\n",
      "\n",
      " 14%|█▍        | 1/7 [00:42<04:13, 42.27s/it]\u001b[A\u001b[A\u001b[A\n",
      "\n",
      "\n",
      " 29%|██▊       | 2/7 [01:17<03:20, 40.17s/it]\u001b[A\u001b[A\u001b[A\n",
      "\n",
      "\n",
      " 43%|████▎     | 3/7 [01:58<02:42, 40.55s/it]\u001b[A\u001b[A\u001b[A\n",
      "\n",
      "\n",
      " 57%|█████▋    | 4/7 [03:26<02:44, 54.75s/it]\u001b[A\u001b[A\u001b[A\n",
      "\n",
      "\n",
      " 71%|███████▏  | 5/7 [06:37<03:11, 95.61s/it]\u001b[A\u001b[A\u001b[A\n",
      "\n",
      "\n",
      " 86%|████████▌ | 6/7 [09:09<01:52, 112.32s/it]\u001b[A\u001b[A\u001b[A\n",
      "\n",
      "\n",
      "100%|██████████| 7/7 [11:09<00:00, 95.62s/it] \u001b[A\u001b[A\u001b[A\n",
      "\n",
      "\n",
      "\n",
      "  0%|          | 0/6 [00:00<?, ?it/s]\u001b[A\u001b[A\u001b[A"
     ]
    },
    {
     "name": "stdout",
     "output_type": "stream",
     "text": [
      "cleaning up trace data\n",
      "I deleted session: 8803_day10\n",
      "I deleted session: 8803_day12\n",
      "I deleted session: 8803_day14\n",
      "I deleted session: 8803_day2\n",
      "I deleted session: 8803_day4\n",
      "I deleted session: 8803_day5\n",
      "I deleted session: 8803_day6\n",
      "I deleted session: 8803_day8\n",
      "cleaning up lfp data\n"
     ]
    },
    {
     "name": "stderr",
     "output_type": "stream",
     "text": [
      "\n",
      "\n",
      "\n",
      " 17%|█▋        | 1/6 [01:51<09:17, 111.43s/it]\u001b[A\u001b[A\u001b[A\n",
      "\n",
      "\n",
      " 33%|███▎      | 2/6 [03:28<07:08, 107.18s/it]\u001b[A\u001b[A\u001b[A\n",
      "\n",
      "\n",
      " 50%|█████     | 3/6 [05:54<05:56, 118.78s/it]\u001b[A\u001b[A\u001b[A\n",
      "\n",
      "\n",
      " 67%|██████▋   | 4/6 [08:08<04:06, 123.37s/it]\u001b[A\u001b[A\u001b[A\n",
      "\n",
      "\n",
      " 83%|████████▎ | 5/6 [09:03<01:42, 102.74s/it]\u001b[A\u001b[A\u001b[A\n",
      "\n",
      "\n",
      "100%|██████████| 6/6 [09:56<00:00, 99.38s/it] \u001b[A\u001b[A\u001b[A\n",
      "\n",
      "\n",
      "\n",
      "  0%|          | 0/7 [00:00<?, ?it/s]\u001b[A\u001b[A\u001b[A"
     ]
    },
    {
     "name": "stdout",
     "output_type": "stream",
     "text": [
      "cleaning up trace data\n",
      "I deleted session: 8815_day10\n",
      "I deleted session: 8815_day12\n",
      "I deleted session: 8815_day14\n",
      "I deleted session: 8815_day2\n",
      "I deleted session: 8815_day4\n",
      "I deleted session: 8815_day6\n",
      "I deleted session: 8815_day8\n",
      "cleaning up lfp data\n"
     ]
    },
    {
     "name": "stderr",
     "output_type": "stream",
     "text": [
      "\n",
      "\n",
      "\n",
      " 14%|█▍        | 1/7 [00:45<04:35, 45.92s/it]\u001b[A\u001b[A\u001b[A\n",
      "\n",
      "\n",
      " 29%|██▊       | 2/7 [01:30<03:48, 45.63s/it]\u001b[A\u001b[A\u001b[A\n",
      "\n",
      "\n",
      " 43%|████▎     | 3/7 [02:11<02:56, 44.16s/it]\u001b[A\u001b[A\u001b[A\n",
      "\n",
      "\n",
      " 57%|█████▋    | 4/7 [02:44<02:02, 40.73s/it]\u001b[A\u001b[A\u001b[A\n",
      "\n",
      "\n",
      " 71%|███████▏  | 5/7 [03:22<01:20, 40.07s/it]\u001b[A\u001b[A\u001b[A\n",
      "\n",
      "\n",
      " 86%|████████▌ | 6/7 [04:04<00:40, 40.52s/it]\u001b[A\u001b[A\u001b[A\n",
      "\n",
      "\n",
      "100%|██████████| 7/7 [05:05<00:00, 43.63s/it]\u001b[A\u001b[A\u001b[A\n"
     ]
    },
    {
     "ename": "TypeError",
     "evalue": "\"delimiter\" must be a 1-character string",
     "output_type": "error",
     "traceback": [
      "\u001b[0;31m---------------------------------------------------------------------------\u001b[0m",
      "\u001b[0;31mTypeError\u001b[0m                                 Traceback (most recent call last)",
      "\u001b[0;32m<ipython-input-32-155bfd665700>\u001b[0m in \u001b[0;36m<module>\u001b[0;34m\u001b[0m\n\u001b[1;32m    126\u001b[0m             \u001b[0;32mdel\u001b[0m \u001b[0maligned\u001b[0m\u001b[0;34m\u001b[0m\u001b[0;34m\u001b[0m\u001b[0m\n\u001b[1;32m    127\u001b[0m \u001b[0;34m\u001b[0m\u001b[0m\n\u001b[0;32m--> 128\u001b[0;31m \u001b[0mdf\u001b[0m\u001b[0;34m.\u001b[0m\u001b[0mto_csv\u001b[0m\u001b[0;34m(\u001b[0m\u001b[0msavePath\u001b[0m\u001b[0;34m+\u001b[0m\u001b[0;34m'sessions'\u001b[0m\u001b[0;34m,\u001b[0m\u001b[0;34m'df'\u001b[0m\u001b[0;34m)\u001b[0m\u001b[0;34m\u001b[0m\u001b[0;34m\u001b[0m\u001b[0m\n\u001b[0m",
      "\u001b[0;32m~/anaconda3/lib/python3.6/site-packages/pandas/core/generic.py\u001b[0m in \u001b[0;36mto_csv\u001b[0;34m(self, path_or_buf, sep, na_rep, float_format, columns, header, index, index_label, mode, encoding, compression, quoting, quotechar, line_terminator, chunksize, date_format, doublequote, escapechar, decimal)\u001b[0m\n\u001b[1;32m   3202\u001b[0m             \u001b[0mdecimal\u001b[0m\u001b[0;34m=\u001b[0m\u001b[0mdecimal\u001b[0m\u001b[0;34m,\u001b[0m\u001b[0;34m\u001b[0m\u001b[0;34m\u001b[0m\u001b[0m\n\u001b[1;32m   3203\u001b[0m         )\n\u001b[0;32m-> 3204\u001b[0;31m         \u001b[0mformatter\u001b[0m\u001b[0;34m.\u001b[0m\u001b[0msave\u001b[0m\u001b[0;34m(\u001b[0m\u001b[0;34m)\u001b[0m\u001b[0;34m\u001b[0m\u001b[0;34m\u001b[0m\u001b[0m\n\u001b[0m\u001b[1;32m   3205\u001b[0m \u001b[0;34m\u001b[0m\u001b[0m\n\u001b[1;32m   3206\u001b[0m         \u001b[0;32mif\u001b[0m \u001b[0mpath_or_buf\u001b[0m \u001b[0;32mis\u001b[0m \u001b[0;32mNone\u001b[0m\u001b[0;34m:\u001b[0m\u001b[0;34m\u001b[0m\u001b[0;34m\u001b[0m\u001b[0m\n",
      "\u001b[0;32m~/anaconda3/lib/python3.6/site-packages/pandas/io/formats/csvs.py\u001b[0m in \u001b[0;36msave\u001b[0;34m(self)\u001b[0m\n\u001b[1;32m    199\u001b[0m                 \u001b[0mdoublequote\u001b[0m\u001b[0;34m=\u001b[0m\u001b[0mself\u001b[0m\u001b[0;34m.\u001b[0m\u001b[0mdoublequote\u001b[0m\u001b[0;34m,\u001b[0m\u001b[0;34m\u001b[0m\u001b[0;34m\u001b[0m\u001b[0m\n\u001b[1;32m    200\u001b[0m                 \u001b[0mescapechar\u001b[0m\u001b[0;34m=\u001b[0m\u001b[0mself\u001b[0m\u001b[0;34m.\u001b[0m\u001b[0mescapechar\u001b[0m\u001b[0;34m,\u001b[0m\u001b[0;34m\u001b[0m\u001b[0;34m\u001b[0m\u001b[0m\n\u001b[0;32m--> 201\u001b[0;31m                 \u001b[0mquotechar\u001b[0m\u001b[0;34m=\u001b[0m\u001b[0mself\u001b[0m\u001b[0;34m.\u001b[0m\u001b[0mquotechar\u001b[0m\u001b[0;34m,\u001b[0m\u001b[0;34m\u001b[0m\u001b[0;34m\u001b[0m\u001b[0m\n\u001b[0m\u001b[1;32m    202\u001b[0m             )\n\u001b[1;32m    203\u001b[0m \u001b[0;34m\u001b[0m\u001b[0m\n",
      "\u001b[0;31mTypeError\u001b[0m: \"delimiter\" must be a 1-character string"
     ]
    }
   ],
   "source": [
    "def periodCalc(day):\n",
    "    if day== 0:\n",
    "        return 'Healthy'\n",
    "    elif day<5:\n",
    "        return 'Day 1-4'\n",
    "    elif day<13:\n",
    "        return 'Day 5-12'\n",
    "    elif day<21:\n",
    "        return 'Day 13-20'\n",
    "    else:\n",
    "        return 'One Month'\n",
    "\n",
    "\n",
    "# align spectogram to spike onset -> for each mouse and in total,seperate by CRE:\n",
    "Files = ['FinalData_6OHDA.h5','FinalData_6OHDA_H.h5','FinalData_6OHDA_H_skip.h5','FinalData_6OHDA_skip.h5']\n",
    "miceList = getMiceList(Files[0]) \n",
    "\n",
    "# open all necassary files \n",
    "f = h5py.File('Spectograms.hdf5','r') #LFP coeffs\n",
    "savePath = '/home/dana_z/HD1/lfpAligned2Ca/Post/'\n",
    "df = pd.DataFrame(columns=['mouse','sess','day','period','cre','numred'])\n",
    "# constents for analysis:\n",
    "WinPre = 2 #s\n",
    "WinPost = 2 #s\n",
    "\n",
    "# for each mouse: \n",
    "for m in miceList:\n",
    "    data =  getData(Files[0],['lfp','trace'],period ='Post', mice=m)\n",
    "    cre = getCreType(Files[1],m)\n",
    "    for sess in tqdm(data.keys()): \n",
    "        if sess[5] == 'B':\n",
    "            day = 0\n",
    "        else:\n",
    "            day = int(re.findall(r'\\d+',sess[5:])[0])\n",
    "\n",
    "        numRed = int(data[sess]['trace']['numred'])\n",
    "\n",
    "\n",
    "        if os.path.exists(savePath+'MSN/'+sess):\n",
    "            df.append({'mouse':m,'sess':sess,'day':day,'period': periodCalc(day),'cre':cre,'numred':numRed},ignore_index=True)\n",
    "            continue\n",
    "\n",
    "         # get data\n",
    "        Ca = getOnsetOrPeriod(m,sess,'Post','caOnset_Hf')\n",
    "        dCa = np.append(Ca[:,1:]-Ca[:,:-1],np.zeros((Ca.shape[0],1)),axis=1)\n",
    "        dCa[dCa==-1] = 0\n",
    "        \n",
    "        coeff = np.abs(f[m][sess]['Post']['coeff'].value)\n",
    "        lfpOutliers = removeLFPOutliers(data[sess]['lfp']['lfp'], sess)\n",
    "        try:\n",
    "            coeff[:,(lfpOutliers[:,0]==1)] = np.nan\n",
    "            coeff = coeff.T/np.nansum(coeff,axis=1) # So that axis[0] is the time axis + normalize power in frequency per sesion\n",
    "        except:\n",
    "            print(sess)\n",
    "            continue\n",
    "        \n",
    "        # add session to df, so can be retrived\n",
    "        df= df.append({'mouse':m,'sess':sess,'day':day,'period': periodCalc(day),'cre':cre,'numred':numRed,'numMsn':Ca.shape[0]},ignore_index=True)\n",
    "\n",
    "        dtS = float(1/data[sess]['trace']['FS'])\n",
    "        dtL = float(1/data[sess]['lfp']['FS'])\n",
    "        ts = np.arange(0, np.max(data[sess]['trace']['dff'].shape)) * dtS \n",
    "        tl = np.arange(0, np.max(data[sess]['lfp']['lfp'].shape)) * dtL\n",
    "\n",
    "        tPlot = np.linspace(-WinPre,WinPost,int((WinPre+WinPost)/dtL))     \n",
    "        \n",
    "\n",
    "        # for every Cre neuron:\n",
    "        dca = dCa[0:numRed,:]\n",
    "        dca = dca[np.sum(dca,axis=1)!=0,:]\n",
    "        \n",
    "        for creN in range(0,np.min(dca.shape)):\n",
    "            onsetL = np.full_like(tl,False)\n",
    "            cN = dca[creN,:]\n",
    "            for si in ts[cN.astype(bool)]:\n",
    "                ti = np.argmin(np.abs(tl-si))\n",
    "                onsetL[ti] = True\n",
    "            al = alignToOnset(coeff,(onsetL==1), winPost =WinPre/dtL, winPre = WinPost/dtL)\n",
    "\n",
    "            if al.ndim <3:\n",
    "                try:\n",
    "                    al = np.reshape(al,(al.shape[0],al.shape[1],1))\n",
    "                except:\n",
    "                    print('no onset, when there should be. CRE#',creN,' in sess= ',sess)\n",
    "                    continue\n",
    "            al = np.nanmean(al,axis=2,keepdims=True)\n",
    "            al = np.nan_to_num(al,nan=-9999)\n",
    "            \n",
    "            if 'aligned' in locals():\n",
    "                aligned = np.concatenate((aligned,al), axis = 2)\n",
    "            else:\n",
    "                aligned = al\n",
    "        \n",
    "        if np.min(dca.shape)>0:\n",
    "            pickle.dump( aligned, open( savePath+\"CRE/\"+sess, \"wb\" ), protocol=4 )\n",
    "            del aligned\n",
    "        \n",
    "        # for every MSN neuron:\n",
    "        dca = dCa[numRed:,:]\n",
    "        dca = dca[np.sum(dca,axis=1)!=0,:]\n",
    "        \n",
    "        for msnN in range(0,np.min(dca.shape)):\n",
    "            onsetL = np.full_like(tl,False)\n",
    "            mN = dca[msnN,:]\n",
    "            for si in ts[mN.astype(bool)]:\n",
    "                ti = np.argmin(np.abs(tl-si))\n",
    "                onsetL[ti] = True\n",
    "            al = alignToOnset(coeff,(onsetL==1), winPost =WinPre/dtL, winPre = WinPost/dtL)\n",
    "\n",
    "            if al.ndim <3:\n",
    "                try:\n",
    "                    al = np.reshape(al,(al.shape[0],al.shape[1],1))\n",
    "                except:\n",
    "                    print('no onset, when there should be. MSN#',msnN,' in sess= ',sess)\n",
    "                    continue\n",
    "            \n",
    "            al = np.nanmean(al,axis=2,keepdims=True)\n",
    "            al = np.nan_to_num(al,nan=-9999)\n",
    "            if 'aligned' in locals():\n",
    "                aligned = np.concatenate((aligned,al), axis = 2)\n",
    "            else:\n",
    "                aligned = al\n",
    "        \n",
    "        if np.min(dca.shape)>0:\n",
    "            pickle.dump( aligned, open( savePath+\"MSN/\"+sess, \"wb\" ) , protocol=4)\n",
    "            del aligned\n",
    "\n",
    "df.to_csv(savePath+'sessions')\n"
   ]
  },
  {
   "cell_type": "code",
   "execution_count": 18,
   "metadata": {
    "scrolled": true
   },
   "outputs": [
    {
     "name": "stdout",
     "output_type": "stream",
     "text": [
      "cleaning up rot data\n",
      "0761  hi:  0.8340228911209652\n",
      "cleaning up rot data\n",
      "1208  hi:  0.5919533491987403\n",
      "cleaning up rot data\n",
      "1222  hi:  0.9441784577359301\n",
      "cleaning up rot data\n",
      "1231  hi:  1.0035028235730021\n",
      "cleaning up rot data\n",
      "1236  hi:  0.9845414153619751\n",
      "cleaning up rot data\n",
      "1253  hi:  0.9392539845596599\n",
      "cleaning up rot data\n",
      "1793  hi:  0.9614021246621881\n",
      "cleaning up rot data\n",
      "2976  hi:  0.44589047259020215\n",
      "cleaning up rot data\n",
      "2980  hi:  0.3521684563159388\n",
      "cleaning up rot data\n",
      "2981  hi:  0.6208395407210525\n",
      "cleaning up rot data\n",
      "4539  hi:  1.3620982525711527\n",
      "cleaning up rot data\n",
      "7584  hi:  1.3673638147844482\n",
      "cleaning up rot data\n",
      "7909  hi:  1.198525622339386\n",
      "cleaning up rot data\n",
      "8430  hi:  0.9545949720347249\n",
      "cleaning up rot data\n",
      "8803  hi:  0.9611865593527847\n",
      "cleaning up rot data\n",
      "8815  hi:  0.7169322936480412\n"
     ]
    }
   ],
   "source": [
    "# try exact same logic as rot onset\n",
    "rotOnsetPars = {}\n",
    "for m in miceList:\n",
    "    data = getData(Files[1],['rot'],period ='Pre',mice=m, day = lambda x: x==0)\n",
    "    maxRot = [];\n",
    "    for sess in data:\n",
    "        rot = smooth(data[sess]['rot']['rot'],20)\n",
    "        maxRot.append(np.max(rot))\n",
    "    hi = np.mean(maxRot)/4\n",
    "    print(m,' hi: ',hi)\n",
    "    rotOnsetPars[m] = hi"
   ]
  },
  {
   "cell_type": "code",
   "execution_count": null,
   "metadata": {
    "scrolled": false
   },
   "outputs": [],
   "source": [
    "# create hdf5 file with all the mice and mvmt Onset\n",
    "f = h5py.File('OnsetsAndPeriods.hdf5','a')\n",
    "hiWin=20 \n",
    "thWin=40\n",
    "shift=2\n",
    "miceList = rotOnsetPars.keys()\n",
    "for m in miceList:\n",
    "    grp = f[m]\n",
    "    try:\n",
    "        sgrp = grp.create_group('rotOnset_params')\n",
    "    except:\n",
    "        sgrp = grp['rotOnset_params']\n",
    "    sgrp.attrs['hi'] = rotOnsetPars[m]\n",
    "    sgrp.attrs['th_weak'] = np.min([1, rotOnsetPars[m]/5])\n",
    "    sgrp.attrs['hiWin'] = hiWin\n",
    "    sgrp.attrs['thWin'] = thWin\n",
    "    sgrp.attrs['th_strong'] =np.min([1, rotOnsetPars[m]/5])/2\n",
    "    sgrp.attrs['shift'] = shift\n",
    "    data_pre = getData(Files[0],['rot'],period ='Pre', mice=m)\n",
    "    data_post = getData(Files[0],['rot'],period ='Post', mice=m)\n",
    "    days = np.zeros(len(data_pre))\n",
    "    ind = 0\n",
    "    # sort by session for my own OCD\n",
    "    for sess in data_pre:\n",
    "        if sess[5] == 'B':\n",
    "            day = 0\n",
    "        else:\n",
    "            day = int(re.findall(r'\\d+',sess[5:])[0])\n",
    "        days[ind] = day\n",
    "        ind= ind+1\n",
    "    a = np.argsort(days)\n",
    "    dKeys = list(data_pre.keys())\n",
    "    # calculte high rot period, do 3 sessions per plot, and stor in ppt\n",
    "    ind = 0;\n",
    "    hi = sgrp.attrs['hi']\n",
    "    th_weak = sgrp.attrs['th_weak']\n",
    "    th_strong = sgrp.attrs['th_strong']\n",
    "    for aa in range(0,len(data_pre)):\n",
    "        sess = dKeys[a[aa]]\n",
    "        rot = data_pre[sess]['rot']['rot']\n",
    "        rot = rot.T\n",
    "        sOnset = FindMvmtOnset2(np.abs(rot), th_weak,th_weak/2 ,hi,hiWin,thWin,shift)\n",
    "        sClockwise = np.zeros_like(sOnset,dtype=bool)\n",
    "        sAnticlockkwise = np.zeros_like(sOnset,dtype=bool)\n",
    "        for T in np.argwhere(sOnset):\n",
    "            if np.mean(rot[int(T):int(T)+20])>0:\n",
    "                sAnticlockkwise[int(T)] = True\n",
    "            else:     \n",
    "                sClockwise[int(T)] = True\n",
    "        subgrp = grp[sess]\n",
    "        ssubgrp = subgrp['Pre']\n",
    "        ssubgrp['rotOnset'] = sOnset\n",
    "        ssubgrp['clockWiseOnset'] = sClockwise\n",
    "        ssubgrp['antiClockWiseOnset'] = sAnticlockkwise\n",
    "        if sess in data_post.keys():\n",
    "            rot = data_post[sess]['rot']['rot']\n",
    "            rot = rot.T\n",
    "            sOnset = FindMvmtOnset2(np.abs(rot), th_weak,th_weak/2 ,hi,hiWin,thWin,shift)\n",
    "            sClockwise = np.zeros_like(sOnset,dtype=bool)\n",
    "            sAnticlockkwise = np.zeros_like(sOnset,dtype=bool)\n",
    "            for T in np.argwhere(sOnset):\n",
    "                if np.mean(rot[int(T):int(T)+20])>0:\n",
    "                    sAnticlockkwise[int(T)] = True\n",
    "                else:     \n",
    "                    sClockwise[int(T)] = True\n",
    "            spsubgrp = subgrp['Post']\n",
    "            spsubgrp['rotOnset'] = sOnset\n",
    "            spsubgrp['clockWiseOnset'] = sClockwise\n",
    "            spsubgrp['antiClockWiseOnset'] = sAnticlockkwise\n",
    "            \n",
    "f.close()   "
   ]
  },
  {
   "cell_type": "code",
   "execution_count": 4,
   "metadata": {
    "scrolled": true
   },
   "outputs": [
    {
     "name": "stdout",
     "output_type": "stream",
     "text": [
      "cleaning up rot data\n",
      "0761  hth:  0.7256688934963723  lth:  0.36283444674818616\n",
      "cleaning up rot data\n",
      "1208  hth:  0.630622616863014  lth:  0.315311308431507\n",
      "cleaning up rot data\n",
      "1222  hth:  0.7553427661887441  lth:  0.37767138309437204\n",
      "cleaning up rot data\n",
      "1231  hth:  0.8046609874461639  lth:  0.40233049372308194\n",
      "cleaning up rot data\n",
      "1236  hth:  0.7876331322895801  lth:  0.39381656614479005\n",
      "cleaning up rot data\n",
      "1253  hth:  0.7681794763503315  lth:  0.38408973817516573\n",
      "cleaning up rot data\n",
      "1793  hth:  0.7782652164289983  lth:  0.38913260821449913\n",
      "cleaning up rot data\n",
      "2976  hth:  0.4386175559152178  lth:  0.2193087779576089\n",
      "cleaning up rot data\n",
      "2980  hth:  0.33424295083949657  lth:  0.16712147541974828\n",
      "cleaning up rot data\n",
      "2981  hth:  0.496671632576842  lth:  0.248335816288421\n",
      "cleaning up rot data\n",
      "4539  hth:  1.0896786020569222  lth:  0.5448393010284611\n",
      "cleaning up rot data\n",
      "7584  hth:  1.1527647066351863  lth:  0.5763823533175931\n",
      "cleaning up rot data\n",
      "7909  hth:  1.087940425435282  lth:  0.543970212717641\n",
      "cleaning up rot data\n",
      "8430  hth:  0.76367597762778  lth:  0.38183798881389\n",
      "cleaning up rot data\n",
      "8803  hth:  0.7689492474822278  lth:  0.3844746237411139\n",
      "cleaning up rot data\n",
      "8815  hth:  0.6592710345434933  lth:  0.32963551727174667\n"
     ]
    },
    {
     "name": "stderr",
     "output_type": "stream",
     "text": [
      "/home/dana_z/ssd_2TB/6OHDA/IO.py:245: H5pyDeprecationWarning: dataset.value has been deprecated. Use dataset[()] instead.\n",
      "  rot = hf[m][s]['mvmt']['rotation'].value\n"
     ]
    }
   ],
   "source": [
    "highRotPeriodsPars = {}\n",
    "for m in miceList:\n",
    "    data = getData(Files[1],['rot'],period ='Pre',mice=m, day = lambda x: x==0)\n",
    "    maxRot = [];\n",
    "    for sess in data:\n",
    "        rot = smooth(np.abs(data[sess]['rot']['rot']),20)\n",
    "        maxRot.append(np.max(rot))\n",
    "    hth = np.mean(maxRot)/5\n",
    "    lth = np.mean(maxRot)/10\n",
    "    print(m,' hth: ',hth,' lth: ',lth)\n",
    "    highRotPeriodsPars[m] = {'hth':hth,'lth':lth}"
   ]
  },
  {
   "cell_type": "code",
   "execution_count": 5,
   "metadata": {
    "scrolled": true
   },
   "outputs": [
    {
     "name": "stdout",
     "output_type": "stream",
     "text": [
      "cleaning up rot data\n",
      "cleaning up rot data\n",
      "I deleted session: 0761_day1\n",
      "I deleted session: 0761_day10\n",
      "I deleted session: 0761_day12\n",
      "I deleted session: 0761_day2\n",
      "I deleted session: 0761_day4\n",
      "I deleted session: 0761_day6\n",
      "I deleted session: 0761_day8\n"
     ]
    },
    {
     "name": "stderr",
     "output_type": "stream",
     "text": [
      "/home/dana_z/ssd_2TB/6OHDA/IO.py:245: H5pyDeprecationWarning: dataset.value has been deprecated. Use dataset[()] instead.\n",
      "  rot = hf[m][s]['mvmt']['rotation'].value\n"
     ]
    },
    {
     "name": "stdout",
     "output_type": "stream",
     "text": [
      "cleaning up rot data\n",
      "cleaning up rot data\n",
      "I deleted session: 1208_day10\n",
      "I deleted session: 1208_day12\n",
      "I deleted session: 1208_day14\n",
      "I deleted session: 1208_day2\n",
      "I deleted session: 1208_day4\n",
      "I deleted session: 1208_day6\n",
      "I deleted session: 1208_day8\n"
     ]
    },
    {
     "name": "stderr",
     "output_type": "stream",
     "text": [
      "/home/dana_z/ssd_2TB/6OHDA/IO.py:245: H5pyDeprecationWarning: dataset.value has been deprecated. Use dataset[()] instead.\n",
      "  rot = hf[m][s]['mvmt']['rotation'].value\n"
     ]
    },
    {
     "name": "stdout",
     "output_type": "stream",
     "text": [
      "cleaning up rot data\n",
      "cleaning up rot data\n",
      "I deleted session: 1222_day11\n",
      "I deleted session: 1222_day13\n",
      "I deleted session: 1222_day2\n",
      "I deleted session: 1222_day3\n",
      "I deleted session: 1222_day5\n",
      "I deleted session: 1222_day7\n",
      "I deleted session: 1222_day9\n"
     ]
    },
    {
     "name": "stderr",
     "output_type": "stream",
     "text": [
      "/home/dana_z/ssd_2TB/6OHDA/IO.py:245: H5pyDeprecationWarning: dataset.value has been deprecated. Use dataset[()] instead.\n",
      "  rot = hf[m][s]['mvmt']['rotation'].value\n"
     ]
    },
    {
     "name": "stdout",
     "output_type": "stream",
     "text": [
      "cleaning up rot data\n",
      "cleaning up rot data\n"
     ]
    },
    {
     "name": "stderr",
     "output_type": "stream",
     "text": [
      "/home/dana_z/ssd_2TB/6OHDA/IO.py:245: H5pyDeprecationWarning: dataset.value has been deprecated. Use dataset[()] instead.\n",
      "  rot = hf[m][s]['mvmt']['rotation'].value\n"
     ]
    },
    {
     "name": "stdout",
     "output_type": "stream",
     "text": [
      "cleaning up rot data\n",
      "cleaning up rot data\n",
      "I deleted session: 1236_day1\n",
      "I deleted session: 1236_day11\n",
      "I deleted session: 1236_day13\n",
      "I deleted session: 1236_day3\n",
      "I deleted session: 1236_day5\n",
      "I deleted session: 1236_day7\n",
      "I deleted session: 1236_day9\n"
     ]
    },
    {
     "name": "stderr",
     "output_type": "stream",
     "text": [
      "/home/dana_z/ssd_2TB/6OHDA/IO.py:245: H5pyDeprecationWarning: dataset.value has been deprecated. Use dataset[()] instead.\n",
      "  rot = hf[m][s]['mvmt']['rotation'].value\n"
     ]
    },
    {
     "name": "stdout",
     "output_type": "stream",
     "text": [
      "cleaning up rot data\n",
      "cleaning up rot data\n"
     ]
    },
    {
     "name": "stderr",
     "output_type": "stream",
     "text": [
      "/home/dana_z/ssd_2TB/6OHDA/IO.py:245: H5pyDeprecationWarning: dataset.value has been deprecated. Use dataset[()] instead.\n",
      "  rot = hf[m][s]['mvmt']['rotation'].value\n"
     ]
    },
    {
     "name": "stdout",
     "output_type": "stream",
     "text": [
      "cleaning up rot data\n",
      "cleaning up rot data\n",
      "I deleted session: 1793_day10\n",
      "I deleted session: 1793_day12\n",
      "I deleted session: 1793_day14\n",
      "I deleted session: 1793_day2\n",
      "I deleted session: 1793_day4\n",
      "I deleted session: 1793_day6\n",
      "I deleted session: 1793_day8\n"
     ]
    },
    {
     "name": "stderr",
     "output_type": "stream",
     "text": [
      "/home/dana_z/ssd_2TB/6OHDA/IO.py:245: H5pyDeprecationWarning: dataset.value has been deprecated. Use dataset[()] instead.\n",
      "  rot = hf[m][s]['mvmt']['rotation'].value\n"
     ]
    },
    {
     "name": "stdout",
     "output_type": "stream",
     "text": [
      "cleaning up rot data\n",
      "cleaning up rot data\n",
      "I deleted session: 2976_day10\n",
      "I deleted session: 2976_day12\n",
      "I deleted session: 2976_day14\n",
      "I deleted session: 2976_day2\n",
      "I deleted session: 2976_day4\n",
      "I deleted session: 2976_day6\n",
      "I deleted session: 2976_day8\n"
     ]
    },
    {
     "name": "stderr",
     "output_type": "stream",
     "text": [
      "/home/dana_z/ssd_2TB/6OHDA/IO.py:245: H5pyDeprecationWarning: dataset.value has been deprecated. Use dataset[()] instead.\n",
      "  rot = hf[m][s]['mvmt']['rotation'].value\n"
     ]
    },
    {
     "name": "stdout",
     "output_type": "stream",
     "text": [
      "cleaning up rot data\n",
      "cleaning up rot data\n",
      "I deleted session: 2980_day10\n",
      "I deleted session: 2980_day12\n",
      "I deleted session: 2980_day14\n",
      "I deleted session: 2980_day2\n",
      "I deleted session: 2980_day4\n",
      "I deleted session: 2980_day6\n",
      "I deleted session: 2980_day8\n"
     ]
    },
    {
     "name": "stderr",
     "output_type": "stream",
     "text": [
      "/home/dana_z/ssd_2TB/6OHDA/IO.py:245: H5pyDeprecationWarning: dataset.value has been deprecated. Use dataset[()] instead.\n",
      "  rot = hf[m][s]['mvmt']['rotation'].value\n"
     ]
    },
    {
     "name": "stdout",
     "output_type": "stream",
     "text": [
      "cleaning up rot data\n",
      "cleaning up rot data\n",
      "I deleted session: 2981_day10\n",
      "I deleted session: 2981_day12\n",
      "I deleted session: 2981_day14\n",
      "I deleted session: 2981_day2\n",
      "I deleted session: 2981_day4\n",
      "I deleted session: 2981_day6\n",
      "I deleted session: 2981_day8\n"
     ]
    },
    {
     "name": "stderr",
     "output_type": "stream",
     "text": [
      "/home/dana_z/ssd_2TB/6OHDA/IO.py:245: H5pyDeprecationWarning: dataset.value has been deprecated. Use dataset[()] instead.\n",
      "  rot = hf[m][s]['mvmt']['rotation'].value\n"
     ]
    },
    {
     "name": "stdout",
     "output_type": "stream",
     "text": [
      "cleaning up rot data\n",
      "cleaning up rot data\n",
      "I deleted session: 4539_day0\n",
      "I deleted session: 4539_day1\n",
      "I deleted session: 4539_day10\n",
      "I deleted session: 4539_day11\n",
      "I deleted session: 4539_day12\n",
      "I deleted session: 4539_day13\n",
      "I deleted session: 4539_day14\n",
      "I deleted session: 4539_day2\n",
      "I deleted session: 4539_day3\n",
      "I deleted session: 4539_day4\n",
      "I deleted session: 4539_day5\n",
      "I deleted session: 4539_day6\n",
      "I deleted session: 4539_day7\n",
      "I deleted session: 4539_day8\n",
      "I deleted session: 4539_day9\n"
     ]
    },
    {
     "name": "stderr",
     "output_type": "stream",
     "text": [
      "/home/dana_z/ssd_2TB/6OHDA/IO.py:245: H5pyDeprecationWarning: dataset.value has been deprecated. Use dataset[()] instead.\n",
      "  rot = hf[m][s]['mvmt']['rotation'].value\n"
     ]
    },
    {
     "name": "stdout",
     "output_type": "stream",
     "text": [
      "cleaning up rot data\n",
      "cleaning up rot data\n",
      "I deleted session: 7584_Baseline0\n",
      "I deleted session: 7584_day0\n",
      "I deleted session: 7584_day1\n",
      "I deleted session: 7584_day10\n",
      "I deleted session: 7584_day11\n",
      "I deleted session: 7584_day12\n",
      "I deleted session: 7584_day15\n",
      "I deleted session: 7584_day2\n",
      "I deleted session: 7584_day3\n",
      "I deleted session: 7584_day4\n",
      "I deleted session: 7584_day5\n",
      "I deleted session: 7584_day6\n",
      "I deleted session: 7584_day7\n",
      "I deleted session: 7584_day8\n",
      "I deleted session: 7584_day9\n"
     ]
    },
    {
     "name": "stderr",
     "output_type": "stream",
     "text": [
      "/home/dana_z/ssd_2TB/6OHDA/IO.py:245: H5pyDeprecationWarning: dataset.value has been deprecated. Use dataset[()] instead.\n",
      "  rot = hf[m][s]['mvmt']['rotation'].value\n"
     ]
    },
    {
     "name": "stdout",
     "output_type": "stream",
     "text": [
      "cleaning up rot data\n",
      "cleaning up rot data\n",
      "I deleted session: 7909_day0\n",
      "I deleted session: 7909_day1\n",
      "I deleted session: 7909_day10\n",
      "I deleted session: 7909_day11\n",
      "I deleted session: 7909_day12\n",
      "I deleted session: 7909_day13\n",
      "I deleted session: 7909_day14\n",
      "I deleted session: 7909_day2\n",
      "I deleted session: 7909_day3\n",
      "I deleted session: 7909_day4\n",
      "I deleted session: 7909_day5\n",
      "I deleted session: 7909_day6\n",
      "I deleted session: 7909_day7\n",
      "I deleted session: 7909_day8\n",
      "I deleted session: 7909_day9\n"
     ]
    },
    {
     "name": "stderr",
     "output_type": "stream",
     "text": [
      "/home/dana_z/ssd_2TB/6OHDA/IO.py:245: H5pyDeprecationWarning: dataset.value has been deprecated. Use dataset[()] instead.\n",
      "  rot = hf[m][s]['mvmt']['rotation'].value\n"
     ]
    },
    {
     "name": "stdout",
     "output_type": "stream",
     "text": [
      "cleaning up rot data\n",
      "cleaning up rot data\n",
      "I deleted session: 8430_day1\n",
      "I deleted session: 8430_day11\n",
      "I deleted session: 8430_day3\n",
      "I deleted session: 8430_day5\n",
      "I deleted session: 8430_day7\n",
      "I deleted session: 8430_day9\n"
     ]
    },
    {
     "name": "stderr",
     "output_type": "stream",
     "text": [
      "/home/dana_z/ssd_2TB/6OHDA/IO.py:245: H5pyDeprecationWarning: dataset.value has been deprecated. Use dataset[()] instead.\n",
      "  rot = hf[m][s]['mvmt']['rotation'].value\n"
     ]
    },
    {
     "name": "stdout",
     "output_type": "stream",
     "text": [
      "cleaning up rot data\n",
      "cleaning up rot data\n",
      "I deleted session: 8803_day10\n",
      "I deleted session: 8803_day12\n",
      "I deleted session: 8803_day14\n",
      "I deleted session: 8803_day2\n",
      "I deleted session: 8803_day4\n",
      "I deleted session: 8803_day5\n",
      "I deleted session: 8803_day6\n",
      "I deleted session: 8803_day8\n"
     ]
    },
    {
     "name": "stderr",
     "output_type": "stream",
     "text": [
      "/home/dana_z/ssd_2TB/6OHDA/IO.py:245: H5pyDeprecationWarning: dataset.value has been deprecated. Use dataset[()] instead.\n",
      "  rot = hf[m][s]['mvmt']['rotation'].value\n"
     ]
    },
    {
     "name": "stdout",
     "output_type": "stream",
     "text": [
      "cleaning up rot data\n",
      "cleaning up rot data\n",
      "I deleted session: 8815_day10\n",
      "I deleted session: 8815_day12\n",
      "I deleted session: 8815_day14\n",
      "I deleted session: 8815_day2\n",
      "I deleted session: 8815_day4\n",
      "I deleted session: 8815_day6\n",
      "I deleted session: 8815_day8\n"
     ]
    },
    {
     "data": {
      "image/png": "[encoded data removed]",
      "text/plain": [
       "<Figure size 432x288 with 1 Axes>"
      ]
     },
     "metadata": {
      "needs_background": "light"
     },
     "output_type": "display_data"
    }
   ],
   "source": [
    "f = h5py.File('OnsetsAndPeriods.hdf5','a')\n",
    "#Colors = CP('highLowRot')\n",
    "\n",
    "fig, ax = plt.subplots(1,1)\n",
    "\n",
    "Tseconds = 1\n",
    "\n",
    "miceList = getMiceList(Files[1])\n",
    "for m in miceList:\n",
    "    grp = f[m]\n",
    "    try:\n",
    "        sgrp = grp.create_group('highLowRotPeriods_params')\n",
    "    except:\n",
    "        sgrp = grp['highLowRotPeriods_params']    \n",
    "    sgrp.attrs['th_high'] = highRotPeriodsPars[m]['hth']\n",
    "    sgrp.attrs['th_low'] = highRotPeriodsPars[m]['lth']\n",
    "    \n",
    "    data_pre = getData(Files[1],['rot'],period ='Pre', mice=m)\n",
    "    data_post = getData(Files[1],['rot'],period ='Post', mice=m)\n",
    "    days = np.zeros(len(data_pre))\n",
    "    ind = 0\n",
    "    # sort by session for my own OCD\n",
    "    for sess in data_pre:\n",
    "        if sess[5] == 'B':\n",
    "            day = 0\n",
    "        else:\n",
    "            day = int(re.findall(r'\\d+',sess[5:])[0])\n",
    "        days[ind] = day\n",
    "        ind= ind+1\n",
    "    a = np.argsort(days)\n",
    "    dKeys = list(data_pre.keys())\n",
    "    # calculte high rot period, do 3 sessions per plot, and stor in ppt\n",
    "    ind = 0;\n",
    "    th_hi = highRotPeriodsPars[m]['hth']#sgrp.attrs['th_high']\n",
    "    th_low = highRotPeriodsPars[m]['lth']# sgrp.attrs['th_low']\n",
    "    for aa in range(0,len(data_pre)):\n",
    "        sess = dKeys[a[aa]]\n",
    "        rot = data_pre[sess]['rot']['rot']\n",
    "        rot = rot.T\n",
    "        dt  = 1/data_pre[sess]['rot']['Fs']\n",
    "        dataPoints = int(np.ceil(Tseconds/dt))\n",
    "        \n",
    "        rPeriods = getRotPeriods(ax,rot,dt,th_hi,th_low,dataPoints)\n",
    "        subgrp = grp[sess]\n",
    "        ssubgrp =subgrp['Pre']\n",
    "        for cond in rPeriods.keys():\n",
    "            try:\n",
    "                ssubgrp[cond+'RotPeriods_StartSegments'] = rPeriods[cond]['start']\n",
    "                ssubgrp[cond+'Periods_EndSegments'] = rPeriods[cond]['end']\n",
    "            except:\n",
    "                del ssubgrp[cond+'RotPeriods_StartSegments'] \n",
    "                del ssubgrp[cond+'Periods_EndSegments']\n",
    "                ssubgrp[cond+'RotPeriods_StartSegments'] = rPeriods[cond]['start']\n",
    "                ssubgrp[cond+'Periods_EndSegments'] = rPeriods[cond]['end']\n",
    "        \n",
    "            highP = np.full(rot.shape, False)\n",
    "            for l in range(0, len(rPeriods[cond]['start'])):\n",
    "                highP[rPeriods[cond]['start'][l]:rPeriods[cond]['end'][l]] = True\n",
    "            ssubgrp[cond+'RotPeriods_vector'] = highP\n",
    "        \n",
    "        if sess in data_post.keys():\n",
    "            rot = data_post[sess]['rot']['rot']\n",
    "            rot = rot.T\n",
    "           \n",
    "            rPeriods = getRotPeriods(ax,rot,dt,th_hi,th_low,dataPoints)\n",
    "            spsubgrp = subgrp['Post']\n",
    "            for cond in rPeriods.keys():\n",
    "                spsubgrp[cond+'RotPeriods_StartSegments'] = rPeriods[cond]['start']\n",
    "                spsubgrp[cond+'Periods_EndSegments'] = rPeriods[cond]['end']\n",
    "\n",
    "                highP = np.full(rot.shape, False)\n",
    "                for l in range(0, len(rPeriods[cond]['start'])):\n",
    "                    highP[rPeriods[cond]['start'][l]:rPeriods[cond]['end'][l]] = True\n",
    "                spsubgrp[cond+'RotPeriods_vector'] = highP\n",
    "\n",
    "        \n",
    "f.close()  "
   ]
  }
 ],
 "metadata": {
  "kernelspec": {
   "display_name": "Python 3",
   "language": "python",
   "name": "python3"
  },
  "language_info": {
   "codemirror_mode": {
    "name": "ipython",
    "version": 3
   },
   "file_extension": ".py",
   "mimetype": "text/x-python",
   "name": "python",
   "nbconvert_exporter": "python",
   "pygments_lexer": "ipython3",
   "version": "3.6.7"
  }
 },
 "nbformat": 4,
 "nbformat_minor": 2
}
