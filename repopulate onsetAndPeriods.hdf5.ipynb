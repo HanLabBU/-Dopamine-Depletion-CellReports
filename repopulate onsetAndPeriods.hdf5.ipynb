{
 "cells": [
  {
   "cell_type": "code",
   "execution_count": 2,
   "metadata": {},
   "outputs": [],
   "source": [
    "#since noteboke doesn't work in jupiterlabs    %matplotlib notebook \n",
    "%matplotlib notebook\n",
    "%load_ext autoreload\n",
    "%autoreload 2"
   ]
  },
  {
   "cell_type": "code",
   "execution_count": 3,
   "metadata": {},
   "outputs": [],
   "source": [
    "import os\n",
    "os.chdir('D:\\\\6OHDA\\\\')\n",
    "#import mpld3\n",
    "#mpld3.enable_notebook()\n",
    "import numpy as np\n",
    "import scipy as sci\n",
    "from scipy import signal\n",
    "from matplotlib import pyplot as plt\n",
    "from matplotlib import gridspec\n",
    "import matplotlib.colors as Mcolors\n",
    "import matplotlib.cm as cmx\n",
    "import sys\n",
    "import h5py\n",
    "from IO import *\n",
    "from utils import *\n",
    "from plotUtils import *\n",
    "from ColorSchems import colorPallet as CP\n",
    "import pptx\n",
    "from pptx import Presentation \n",
    "from pptx.util import Inches\n",
    "from io import BytesIO\n",
    "import re\n",
    "import warnings\n",
    "import pandas as pd\n",
    "import sqlalchemy as db\n",
    "import gc\n",
    "from tqdm import tqdm\n",
    "import seaborn as sns\n",
    "import pywt # wavelet package"
   ]
  },
  {
   "cell_type": "code",
   "execution_count": 4,
   "metadata": {},
   "outputs": [],
   "source": [
    "Files = ['FinalData_6OHDA.h5','FinalData_6OHDA_H.h5']"
   ]
  },
  {
   "cell_type": "code",
   "execution_count": 5,
   "metadata": {},
   "outputs": [],
   "source": [
    "miceList = getMiceList(Files[0])"
   ]
  },
  {
   "cell_type": "code",
   "execution_count": null,
   "metadata": {},
   "outputs": [],
   "source": [
    "# save all full spectograms in hdf5 file:\n",
    "# create hdf5 file with all the mice and mvmt Onset\n",
    "f = h5py.File('Spectograms.hdf5','a')\n",
    "\n",
    "fr = np.empty((408,1))\n",
    "for j in range(12,420):\n",
    "    fr[j-12]=pywt.scale2frequency('morl', j)*3051.7578125\n",
    "[intF,inds] = np.unique(np.floor(fr),return_index=True)\n",
    "\n",
    "waveletName = 'morl' #must be from waveletsOptions\n",
    "scales = inds+12\n",
    "\n",
    "for m in miceList:\n",
    "    grp = f.create_group(m)\n",
    "    data_pre = getData(Files[0],['lfp'],period ='Pre', mice=m)\n",
    "    data_post = getData(Files[0],['lfp'],period ='Post', mice=m)\n",
    "    days = np.zeros(len(data_pre))\n",
    "    ind = 0\n",
    "    # sort by session for my own OCD\n",
    "    for sess in data_pre:\n",
    "        if sess[5] == 'B':\n",
    "            day = 0\n",
    "        else:\n",
    "            day = int(re.findall(r'\\d+',sess[5:])[0])\n",
    "        days[ind] = day\n",
    "        ind= ind+1\n",
    "    a = np.argsort(days)\n",
    "    dKeys = list(data_pre.keys())\n",
    "    # calculte high speed period, do 3 sessions per plot, and stor in ppt\n",
    "    ind = 0;\n",
    "    for aa in tqdm(range(0,len(data_pre))):\n",
    "        sess = dKeys[a[aa]]\n",
    "        lfp = data_pre[sess]['lfp']['lfp']\n",
    "        FS = data_pre[sess]['lfp']['FS']\n",
    "        dt = 1/FS\n",
    "        [coefficients, frequencies] = pywt.cwt(lfp[:,0], scales, waveletName, dt)\n",
    "        \n",
    "        subgrp = grp.create_group(sess)\n",
    "        ssubgrp = subgrp.create_group('Pre')\n",
    "        ssubgrp['freq'] = frequencies\n",
    "        ssubgrp['coeff'] = coefficients\n",
    "        del frequencies\n",
    "        del coefficients\n",
    "        if sess in data_post.keys():\n",
    "            lfp = data_post[sess]['lfp']['lfp']\n",
    "            FS = data_post[sess]['lfp']['FS']\n",
    "            [coefficients, frequencies] = pywt.cwt(lfp[:,0], scales, waveletName, dt)\n",
    "            spsubgrp = subgrp.create_group('Post')\n",
    "            spsubgrp['freq'] = frequencies\n",
    "            spsubgrp['coeff'] = coefficients\n",
    "            del frequencies\n",
    "            del coefficients\n",
    "        \n",
    "f.close()   "
   ]
  },
  {
   "cell_type": "code",
   "execution_count": 10,
   "metadata": {
    "scrolled": true
   },
   "outputs": [
    {
     "name": "stdout",
     "output_type": "stream",
     "text": [
      "cleaning up speed data\n",
      "0761  hi:  9.093602196045618\n",
      "cleaning up speed data\n",
      "1208  hi:  8.771471533672353\n",
      "cleaning up speed data\n",
      "1222  hi:  5.156689209415026\n",
      "cleaning up speed data\n",
      "1231  hi:  11.618820172401003\n",
      "cleaning up speed data\n",
      "1236  hi:  4.7582281732347065\n",
      "cleaning up speed data\n",
      "1253  hi:  6.589833466357713\n",
      "cleaning up speed data\n",
      "1793  hi:  6.682175945902453\n",
      "cleaning up speed data\n",
      "2976  hi:  3.31284333461864\n",
      "cleaning up speed data\n",
      "2980  hi:  2.454958217734436\n",
      "cleaning up speed data\n",
      "2981  hi:  6.1404716594406485\n",
      "cleaning up speed data\n",
      "4539  hi:  20.02124398644328\n",
      "cleaning up speed data\n",
      "7584  hi:  20.05099337143352\n",
      "cleaning up speed data\n",
      "7909  hi:  19.047091800698265\n",
      "cleaning up speed data\n",
      "8430  hi:  9.830010517302346\n",
      "cleaning up speed data\n",
      "8803  hi:  4.064502492829341\n",
      "cleaning up speed data\n",
      "8815  hi:  5.469190903653327\n"
     ]
    },
    {
     "name": "stderr",
     "output_type": "stream",
     "text": [
      "D:\\6OHDA\\IO.py:152: H5pyDeprecationWarning: dataset.value has been deprecated. Use dataset[()] instead.\n",
      "  speed = hf[m][s]['mvmt']['speed'].value\n"
     ]
    }
   ],
   "source": [
    "speedOnsetPars = {}\n",
    "for m in miceList:\n",
    "    data = getData(Files[0],['speed'],period ='Pre',mice=m, day = lambda x: x==0)\n",
    "    maxSpeed = [];\n",
    "    for sess in data:\n",
    "        speed = smooth(data[sess]['speed']['speed'],20)\n",
    "        maxSpeed.append(np.max(speed))\n",
    "    hi = np.mean(maxSpeed)/4\n",
    "    print(m,' hi: ',hi)\n",
    "    speedOnsetPars[m] = hi"
   ]
  },
  {
   "cell_type": "code",
   "execution_count": 11,
   "metadata": {},
   "outputs": [
    {
     "name": "stdout",
     "output_type": "stream",
     "text": [
      "cleaning up speed data\n",
      "cleaning up speed data\n",
      "I deleted session: 0761_day1\n",
      "I deleted session: 0761_day10\n",
      "I deleted session: 0761_day12\n",
      "I deleted session: 0761_day2\n",
      "I deleted session: 0761_day4\n",
      "I deleted session: 0761_day6\n",
      "I deleted session: 0761_day8\n",
      "cleaning up speed data\n",
      "cleaning up speed data\n",
      "I deleted session: 1208_day10\n",
      "I deleted session: 1208_day12\n",
      "I deleted session: 1208_day14\n",
      "I deleted session: 1208_day2\n",
      "I deleted session: 1208_day4\n",
      "I deleted session: 1208_day6\n",
      "I deleted session: 1208_day8\n",
      "cleaning up speed data\n",
      "cleaning up speed data\n",
      "I deleted session: 1222_day11\n",
      "I deleted session: 1222_day13\n",
      "I deleted session: 1222_day2\n",
      "I deleted session: 1222_day3\n",
      "I deleted session: 1222_day5\n",
      "I deleted session: 1222_day7\n",
      "I deleted session: 1222_day9\n",
      "cleaning up speed data\n",
      "cleaning up speed data\n",
      "cleaning up speed data\n",
      "cleaning up speed data\n",
      "I deleted session: 1236_day1\n",
      "I deleted session: 1236_day11\n",
      "I deleted session: 1236_day13\n",
      "I deleted session: 1236_day3\n",
      "I deleted session: 1236_day5\n",
      "I deleted session: 1236_day7\n",
      "I deleted session: 1236_day9\n",
      "cleaning up speed data\n",
      "cleaning up speed data\n",
      "cleaning up speed data\n",
      "cleaning up speed data\n",
      "I deleted session: 1793_day10\n",
      "I deleted session: 1793_day12\n",
      "I deleted session: 1793_day14\n",
      "I deleted session: 1793_day2\n",
      "I deleted session: 1793_day4\n",
      "I deleted session: 1793_day6\n",
      "I deleted session: 1793_day8\n",
      "cleaning up speed data\n",
      "cleaning up speed data\n",
      "I deleted session: 2976_day10\n",
      "I deleted session: 2976_day12\n",
      "I deleted session: 2976_day14\n",
      "I deleted session: 2976_day2\n",
      "I deleted session: 2976_day4\n",
      "I deleted session: 2976_day6\n",
      "I deleted session: 2976_day8\n",
      "cleaning up speed data\n",
      "cleaning up speed data\n",
      "I deleted session: 2980_day10\n",
      "I deleted session: 2980_day12\n",
      "I deleted session: 2980_day14\n",
      "I deleted session: 2980_day2\n",
      "I deleted session: 2980_day4\n",
      "I deleted session: 2980_day6\n",
      "I deleted session: 2980_day8\n",
      "cleaning up speed data\n",
      "cleaning up speed data\n",
      "I deleted session: 2981_day10\n",
      "I deleted session: 2981_day12\n",
      "I deleted session: 2981_day14\n",
      "I deleted session: 2981_day2\n",
      "I deleted session: 2981_day4\n",
      "I deleted session: 2981_day6\n",
      "I deleted session: 2981_day8\n",
      "cleaning up speed data\n",
      "cleaning up speed data\n",
      "I deleted session: 4539_day0\n",
      "I deleted session: 4539_day1\n",
      "I deleted session: 4539_day10\n",
      "I deleted session: 4539_day11\n",
      "I deleted session: 4539_day12\n",
      "I deleted session: 4539_day13\n",
      "I deleted session: 4539_day14\n",
      "I deleted session: 4539_day2\n",
      "I deleted session: 4539_day3\n",
      "I deleted session: 4539_day4\n",
      "I deleted session: 4539_day5\n",
      "I deleted session: 4539_day6\n",
      "I deleted session: 4539_day7\n",
      "I deleted session: 4539_day8\n",
      "I deleted session: 4539_day9\n",
      "cleaning up speed data\n",
      "cleaning up speed data\n",
      "I deleted session: 7584_Baseline0\n",
      "I deleted session: 7584_day0\n",
      "I deleted session: 7584_day1\n",
      "I deleted session: 7584_day10\n",
      "I deleted session: 7584_day11\n",
      "I deleted session: 7584_day12\n",
      "I deleted session: 7584_day15\n",
      "I deleted session: 7584_day2\n",
      "I deleted session: 7584_day3\n",
      "I deleted session: 7584_day4\n",
      "I deleted session: 7584_day5\n",
      "I deleted session: 7584_day6\n",
      "I deleted session: 7584_day7\n",
      "I deleted session: 7584_day8\n",
      "I deleted session: 7584_day9\n",
      "cleaning up speed data\n",
      "cleaning up speed data\n",
      "I deleted session: 7909_day0\n",
      "I deleted session: 7909_day1\n",
      "I deleted session: 7909_day10\n",
      "I deleted session: 7909_day11\n",
      "I deleted session: 7909_day12\n",
      "I deleted session: 7909_day13\n",
      "I deleted session: 7909_day14\n",
      "I deleted session: 7909_day2\n",
      "I deleted session: 7909_day3\n",
      "I deleted session: 7909_day4\n",
      "I deleted session: 7909_day5\n",
      "I deleted session: 7909_day6\n",
      "I deleted session: 7909_day7\n",
      "I deleted session: 7909_day8\n",
      "I deleted session: 7909_day9\n",
      "cleaning up speed data\n",
      "cleaning up speed data\n",
      "I deleted session: 8430_day1\n",
      "I deleted session: 8430_day11\n",
      "I deleted session: 8430_day3\n",
      "I deleted session: 8430_day5\n",
      "I deleted session: 8430_day7\n",
      "I deleted session: 8430_day9\n",
      "cleaning up speed data\n",
      "cleaning up speed data\n",
      "I deleted session: 8803_day10\n",
      "I deleted session: 8803_day12\n",
      "I deleted session: 8803_day14\n",
      "I deleted session: 8803_day2\n",
      "I deleted session: 8803_day4\n",
      "I deleted session: 8803_day5\n",
      "I deleted session: 8803_day6\n",
      "I deleted session: 8803_day8\n",
      "cleaning up speed data\n",
      "cleaning up speed data\n",
      "I deleted session: 8815_day10\n",
      "I deleted session: 8815_day12\n",
      "I deleted session: 8815_day14\n",
      "I deleted session: 8815_day2\n",
      "I deleted session: 8815_day4\n",
      "I deleted session: 8815_day6\n",
      "I deleted session: 8815_day8\n"
     ]
    }
   ],
   "source": [
    "# create hdf5 file with all the mice and mvmt Onset\n",
    "f = h5py.File('OnsetsAndPeriods.hdf5','a')\n",
    "\n",
    "hiWin=20 \n",
    "thWin=40\n",
    "th_strong = 1\n",
    "shift=2\n",
    "\n",
    "miceList = speedOnsetPars.keys()\n",
    "for m in miceList:\n",
    "    grp = f.create_group(m)\n",
    "    sgrp = grp.create_group('mvmtOnset_params')\n",
    "    sgrp.attrs['hi'] = speedOnsetPars[m]\n",
    "    sgrp.attrs['th_weak'] = np.min([3.3, speedOnsetPars[m]/2.5])\n",
    "    sgrp.attrs['hiWin'] = hiWin\n",
    "    sgrp.attrs['thWin'] = thWin\n",
    "    sgrp.attrs['th_strong'] = th_strong\n",
    "    sgrp.attrs['shift'] = shift\n",
    "    data_pre = getData(Files[0],['speed'],period ='Pre', mice=m)\n",
    "    data_post = getData(Files[0],['speed'],period ='Post', mice=m)\n",
    "    days = np.zeros(len(data_pre))\n",
    "    ind = 0\n",
    "    # sort by session for my own OCD\n",
    "    for sess in data_pre:\n",
    "        if sess[5] == 'B':\n",
    "            day = 0\n",
    "        else:\n",
    "            day = int(re.findall(r'\\d+',sess[5:])[0])\n",
    "        days[ind] = day\n",
    "        ind= ind+1\n",
    "    a = np.argsort(days)\n",
    "    dKeys = list(data_pre.keys())\n",
    "    # calculte high speed period, do 3 sessions per plot, and stor in ppt\n",
    "    ind = 0;\n",
    "    hi = sgrp.attrs['hi']\n",
    "    th_weak = sgrp.attrs['th_weak']\n",
    "    for aa in range(0,len(data_pre)):\n",
    "        sess = dKeys[a[aa]]\n",
    "        speed = data_pre[sess]['speed']['speed']\n",
    "        speed = speed.T\n",
    "        sOnset = FindMvmtOnset2(speed, th_weak,th_strong ,hi,hiWin,thWin,shift)\n",
    "        subgrp = grp.create_group(sess)\n",
    "        ssubgrp = subgrp.create_group('Pre')\n",
    "        ssubgrp['mvmtOnset'] = sOnset\n",
    "        if sess in data_post.keys():\n",
    "            speed = data_post[sess]['speed']['speed']\n",
    "            speed = speed.T\n",
    "            sOnset = FindMvmtOnset2(speed, th_weak,th_strong ,hi,hiWin,thWin,shift)\n",
    "            spsubgrp = subgrp.create_group('Post')\n",
    "            spsubgrp['mvmtOnset'] = sOnset\n",
    "        \n",
    "f.close()   "
   ]
  },
  {
   "cell_type": "code",
   "execution_count": 17,
   "metadata": {
    "scrolled": true
   },
   "outputs": [
    {
     "name": "stdout",
     "output_type": "stream",
     "text": [
      "cleaning up speed data\n",
      "cleaning up speed data\n",
      "I deleted session: 0761_day1\n",
      "I deleted session: 0761_day10\n",
      "I deleted session: 0761_day12\n",
      "I deleted session: 0761_day2\n",
      "I deleted session: 0761_day4\n",
      "I deleted session: 0761_day6\n",
      "I deleted session: 0761_day8\n",
      "cleaning up speed data\n",
      "cleaning up speed data\n",
      "I deleted session: 1208_day10\n",
      "I deleted session: 1208_day12\n",
      "I deleted session: 1208_day14\n",
      "I deleted session: 1208_day2\n",
      "I deleted session: 1208_day4\n",
      "I deleted session: 1208_day6\n",
      "I deleted session: 1208_day8\n",
      "cleaning up speed data\n",
      "cleaning up speed data\n",
      "I deleted session: 1222_day11\n",
      "I deleted session: 1222_day13\n",
      "I deleted session: 1222_day2\n",
      "I deleted session: 1222_day3\n",
      "I deleted session: 1222_day5\n",
      "I deleted session: 1222_day7\n",
      "I deleted session: 1222_day9\n",
      "cleaning up speed data\n",
      "cleaning up speed data\n",
      "cleaning up speed data\n",
      "cleaning up speed data\n",
      "I deleted session: 1236_day1\n",
      "I deleted session: 1236_day11\n",
      "I deleted session: 1236_day13\n",
      "I deleted session: 1236_day3\n",
      "I deleted session: 1236_day5\n",
      "I deleted session: 1236_day7\n",
      "I deleted session: 1236_day9\n",
      "cleaning up speed data\n",
      "cleaning up speed data\n",
      "cleaning up speed data\n",
      "cleaning up speed data\n",
      "I deleted session: 1793_day10\n",
      "I deleted session: 1793_day12\n",
      "I deleted session: 1793_day14\n",
      "I deleted session: 1793_day2\n",
      "I deleted session: 1793_day4\n",
      "I deleted session: 1793_day6\n",
      "I deleted session: 1793_day8\n",
      "cleaning up speed data\n",
      "cleaning up speed data\n",
      "I deleted session: 2976_day10\n",
      "I deleted session: 2976_day12\n",
      "I deleted session: 2976_day14\n",
      "I deleted session: 2976_day2\n",
      "I deleted session: 2976_day4\n",
      "I deleted session: 2976_day6\n",
      "I deleted session: 2976_day8\n",
      "cleaning up speed data\n",
      "cleaning up speed data\n",
      "I deleted session: 2980_day10\n",
      "I deleted session: 2980_day12\n",
      "I deleted session: 2980_day14\n",
      "I deleted session: 2980_day2\n",
      "I deleted session: 2980_day4\n",
      "I deleted session: 2980_day6\n",
      "I deleted session: 2980_day8\n",
      "cleaning up speed data\n",
      "cleaning up speed data\n",
      "I deleted session: 2981_day10\n",
      "I deleted session: 2981_day12\n",
      "I deleted session: 2981_day14\n",
      "I deleted session: 2981_day2\n",
      "I deleted session: 2981_day4\n",
      "I deleted session: 2981_day6\n",
      "I deleted session: 2981_day8\n",
      "cleaning up speed data\n",
      "cleaning up speed data\n",
      "I deleted session: 4539_day0\n",
      "I deleted session: 4539_day1\n",
      "I deleted session: 4539_day10\n",
      "I deleted session: 4539_day11\n",
      "I deleted session: 4539_day12\n",
      "I deleted session: 4539_day13\n",
      "I deleted session: 4539_day14\n",
      "I deleted session: 4539_day2\n",
      "I deleted session: 4539_day3\n",
      "I deleted session: 4539_day4\n",
      "I deleted session: 4539_day5\n",
      "I deleted session: 4539_day6\n",
      "I deleted session: 4539_day7\n",
      "I deleted session: 4539_day8\n",
      "I deleted session: 4539_day9\n",
      "cleaning up speed data\n",
      "cleaning up speed data\n",
      "I deleted session: 7584_Baseline0\n",
      "I deleted session: 7584_day0\n",
      "I deleted session: 7584_day1\n",
      "I deleted session: 7584_day10\n",
      "I deleted session: 7584_day11\n",
      "I deleted session: 7584_day12\n",
      "I deleted session: 7584_day15\n",
      "I deleted session: 7584_day2\n",
      "I deleted session: 7584_day3\n",
      "I deleted session: 7584_day4\n",
      "I deleted session: 7584_day5\n",
      "I deleted session: 7584_day6\n",
      "I deleted session: 7584_day7\n",
      "I deleted session: 7584_day8\n",
      "I deleted session: 7584_day9\n",
      "cleaning up speed data\n",
      "cleaning up speed data\n",
      "I deleted session: 7909_day0\n",
      "I deleted session: 7909_day1\n",
      "I deleted session: 7909_day10\n",
      "I deleted session: 7909_day11\n",
      "I deleted session: 7909_day12\n",
      "I deleted session: 7909_day13\n",
      "I deleted session: 7909_day14\n",
      "I deleted session: 7909_day2\n",
      "I deleted session: 7909_day3\n",
      "I deleted session: 7909_day4\n",
      "I deleted session: 7909_day5\n",
      "I deleted session: 7909_day6\n",
      "I deleted session: 7909_day7\n",
      "I deleted session: 7909_day8\n",
      "I deleted session: 7909_day9\n",
      "cleaning up speed data\n",
      "cleaning up speed data\n",
      "I deleted session: 8430_day1\n",
      "I deleted session: 8430_day11\n",
      "I deleted session: 8430_day3\n",
      "I deleted session: 8430_day5\n",
      "I deleted session: 8430_day7\n",
      "I deleted session: 8430_day9\n",
      "cleaning up speed data\n",
      "cleaning up speed data\n",
      "I deleted session: 8803_day10\n",
      "I deleted session: 8803_day12\n",
      "I deleted session: 8803_day14\n",
      "I deleted session: 8803_day2\n",
      "I deleted session: 8803_day4\n",
      "I deleted session: 8803_day5\n",
      "I deleted session: 8803_day6\n",
      "I deleted session: 8803_day8\n",
      "cleaning up speed data\n",
      "cleaning up speed data\n",
      "I deleted session: 8815_day10\n",
      "I deleted session: 8815_day12\n",
      "I deleted session: 8815_day14\n",
      "I deleted session: 8815_day2\n",
      "I deleted session: 8815_day4\n",
      "I deleted session: 8815_day6\n",
      "I deleted session: 8815_day8\n"
     ]
    }
   ],
   "source": [
    "# create hdf5 file with all the mice and mvmt Onset\n",
    "f = h5py.File('OnsetsAndPeriods.hdf5','a')\n",
    "\n",
    "hiWin=20 \n",
    "thWin=40\n",
    "th_strong = 1\n",
    "shift=-6\n",
    "\n",
    "miceList = speedOnsetPars.keys()\n",
    "for m in miceList:\n",
    "    grp = f[m]\n",
    "#     del grp['mvmtOnset2_params']\n",
    "    try:\n",
    "        sgrp = grp.create_group('mvmtOnset2_params')\n",
    "    except:\n",
    "        sgrp = grp['mvmtOnset2_params']\n",
    "    sgrp.attrs['hi'] = speedOnsetPars[m]\n",
    "    sgrp.attrs['th_weak'] = np.min([3.3, speedOnsetPars[m]/2.5])\n",
    "    sgrp.attrs['hiWin'] = hiWin\n",
    "    sgrp.attrs['thWin'] = thWin\n",
    "    sgrp.attrs['th_strong'] = th_strong\n",
    "    sgrp.attrs['shift'] = shift\n",
    "    data_pre = getData(Files[0],['speed'],period ='Pre', mice=m)\n",
    "    data_post = getData(Files[0],['speed'],period ='Post', mice=m)\n",
    "    days = np.zeros(len(data_pre))\n",
    "    ind = 0\n",
    "    # sort by session for my own OCD\n",
    "    for sess in data_pre:\n",
    "        if sess[5] == 'B':\n",
    "            day = 0\n",
    "        else:\n",
    "            day = int(re.findall(r'\\d+',sess[5:])[0])\n",
    "        days[ind] = day\n",
    "        ind= ind+1\n",
    "    a = np.argsort(days)\n",
    "    dKeys = list(data_pre.keys())\n",
    "    # calculte high speed period, do 3 sessions per plot, and stor in ppt\n",
    "    ind = 0;\n",
    "    hi = sgrp.attrs['hi']\n",
    "    th_weak = sgrp.attrs['th_weak']\n",
    "    for aa in range(0,len(data_pre)):\n",
    "        sess = dKeys[a[aa]]\n",
    "        speed = data_pre[sess]['speed']['speed']\n",
    "        speed = speed.T\n",
    "        sOnset = FindMvmtOnset2(speed, th_weak,th_strong ,hi,hiWin,thWin,shift)\n",
    "        subgrp = grp[sess]\n",
    "        ssubgrp = subgrp['Pre']\n",
    "#         del ssubgrp['mvmtOnset2']\n",
    "        try:\n",
    "            ssubgrp['mvmtOnset2'] = sOnset\n",
    "        except:\n",
    "            del ssubgrp['mvmtOnset2']\n",
    "            ssubgrp['mvmtOnset2'] = sOnset\n",
    "        if sess in data_post.keys():\n",
    "            speed = data_post[sess]['speed']['speed']\n",
    "            speed = speed.T\n",
    "            sOnset = FindMvmtOnset2(speed, th_weak,th_strong ,hi,hiWin,thWin,shift)\n",
    "            spsubgrp = subgrp['Post']\n",
    "#             del spsubgrp['mvmtOnset2'] \n",
    "            try:\n",
    "                spsubgrp['mvmtOnset2'] = sOnset\n",
    "            except:\n",
    "                del spsubgrp['mvmtOnset2']\n",
    "                spsubgrp['mvmtOnset2'] = sOnset\n",
    "        \n",
    "f.close()   "
   ]
  },
  {
   "cell_type": "code",
   "execution_count": 18,
   "metadata": {},
   "outputs": [
    {
     "name": "stdout",
     "output_type": "stream",
     "text": [
      "cleaning up speed data\n",
      "0761  hth:  7.2748817568364945  lth:  3.6374408784182473\n",
      "cleaning up speed data\n",
      "1208  hth:  7.017177226937882  lth:  3.508588613468941\n",
      "cleaning up speed data\n",
      "1222  hth:  4.125351367532021  lth:  2.0626756837660105\n",
      "cleaning up speed data\n",
      "1231  hth:  9.295056137920803  lth:  4.647528068960401\n",
      "cleaning up speed data\n",
      "1236  hth:  3.806582538587765  lth:  1.9032912692938826\n",
      "cleaning up speed data\n",
      "1253  hth:  5.27186677308617  lth:  2.635933386543085\n",
      "cleaning up speed data\n",
      "1793  hth:  5.345740756721963  lth:  2.6728703783609813\n",
      "cleaning up speed data\n",
      "2976  hth:  2.650274667694912  lth:  1.325137333847456\n",
      "cleaning up speed data\n",
      "2980  hth:  1.9639665741875487  lth:  0.9819832870937744\n",
      "cleaning up speed data\n",
      "2981  hth:  4.912377327552519  lth:  2.4561886637762593\n",
      "cleaning up speed data\n",
      "4539  hth:  16.016995189154624  lth:  8.008497594577312\n",
      "cleaning up speed data\n",
      "7584  hth:  16.040794697146815  lth:  8.020397348573407\n",
      "cleaning up speed data\n",
      "7909  hth:  15.237673440558613  lth:  7.618836720279306\n",
      "cleaning up speed data\n",
      "8430  hth:  7.864008413841877  lth:  3.9320042069209387\n",
      "cleaning up speed data\n",
      "8803  hth:  3.251601994263473  lth:  1.6258009971317364\n",
      "cleaning up speed data\n",
      "8815  hth:  4.375352722922662  lth:  2.187676361461331\n"
     ]
    }
   ],
   "source": [
    "highSpeedPeriodsPars = {}\n",
    "for m in miceList:\n",
    "    data = getData(Files[0],['speed'],period ='Pre',mice=m, day = lambda x: x==0)\n",
    "    maxSpeed = [];\n",
    "    for sess in data:\n",
    "        speed = smooth(data[sess]['speed']['speed'],20)\n",
    "        maxSpeed.append(np.max(speed))\n",
    "    hth = np.mean(maxSpeed)/5\n",
    "    lth = np.mean(maxSpeed)/10\n",
    "    print(m,' hth: ',hth,' lth: ',lth)\n",
    "    highSpeedPeriodsPars[m] = {'hth':hth,'lth':lth}"
   ]
  },
  {
   "cell_type": "code",
   "execution_count": 19,
   "metadata": {},
   "outputs": [
    {
     "data": {
      "application/javascript": [
       "/* Put everything inside the global mpl namespace */\n",
       "window.mpl = {};\n",
       "\n",
       "\n",
       "mpl.get_websocket_type = function() {\n",
       "    if (typeof(WebSocket) !== 'undefined') {\n",
       "        return WebSocket;\n",
       "    } else if (typeof(MozWebSocket) !== 'undefined') {\n",
       "        return MozWebSocket;\n",
       "    } else {\n",
       "        alert('Your browser does not have WebSocket support. ' +\n",
       "              'Please try Chrome, Safari or Firefox ≥ 6. ' +\n",
       "              'Firefox 4 and 5 are also supported but you ' +\n",
       "              'have to enable WebSockets in about:config.');\n",
       "    };\n",
       "}\n",
       "\n",
       "mpl.figure = function(figure_id, websocket, ondownload, parent_element) {\n",
       "    this.id = figure_id;\n",
       "\n",
       "    this.ws = websocket;\n",
       "\n",
       "    this.supports_binary = (this.ws.binaryType != undefined);\n",
       "\n",
       "    if (!this.supports_binary) {\n",
       "        var warnings = document.getElementById(\"mpl-warnings\");\n",
       "        if (warnings) {\n",
       "            warnings.style.display = 'block';\n",
       "            warnings.textContent = (\n",
       "                \"This browser does not support binary websocket messages. \" +\n",
       "                    \"Performance may be slow.\");\n",
       "        }\n",
       "    }\n",
       "\n",
       "    this.imageObj = new Image();\n",
       "\n",
       "    this.context = undefined;\n",
       "    this.message = undefined;\n",
       "    this.canvas = undefined;\n",
       "    this.rubberband_canvas = undefined;\n",
       "    this.rubberband_context = undefined;\n",
       "    this.format_dropdown = undefined;\n",
       "\n",
       "    this.image_mode = 'full';\n",
       "\n",
       "    this.root = $('<div/>');\n",
       "    this._root_extra_style(this.root)\n",
       "    this.root.attr('style', 'display: inline-block');\n",
       "\n",
       "    $(parent_element).append(this.root);\n",
       "\n",
       "    this._init_header(this);\n",
       "    this._init_canvas(this);\n",
       "    this._init_toolbar(this);\n",
       "\n",
       "    var fig = this;\n",
       "\n",
       "    this.waiting = false;\n",
       "\n",
       "    this.ws.onopen =  function () {\n",
       "            fig.send_message(\"supports_binary\", {value: fig.supports_binary});\n",
       "            fig.send_message(\"send_image_mode\", {});\n",
       "            if (mpl.ratio != 1) {\n",
       "                fig.send_message(\"set_dpi_ratio\", {'dpi_ratio': mpl.ratio});\n",
       "            }\n",
       "            fig.send_message(\"refresh\", {});\n",
       "        }\n",
       "\n",
       "    this.imageObj.onload = function() {\n",
       "            if (fig.image_mode == 'full') {\n",
       "                // Full images could contain transparency (where diff images\n",
       "                // almost always do), so we need to clear the canvas so that\n",
       "                // there is no ghosting.\n",
       "                fig.context.clearRect(0, 0, fig.canvas.width, fig.canvas.height);\n",
       "            }\n",
       "            fig.context.drawImage(fig.imageObj, 0, 0);\n",
       "        };\n",
       "\n",
       "    this.imageObj.onunload = function() {\n",
       "        fig.ws.close();\n",
       "    }\n",
       "\n",
       "    this.ws.onmessage = this._make_on_message_function(this);\n",
       "\n",
       "    this.ondownload = ondownload;\n",
       "}\n",
       "\n",
       "mpl.figure.prototype._init_header = function() {\n",
       "    var titlebar = $(\n",
       "        '<div class=\"ui-dialog-titlebar ui-widget-header ui-corner-all ' +\n",
       "        'ui-helper-clearfix\"/>');\n",
       "    var titletext = $(\n",
       "        '<div class=\"ui-dialog-title\" style=\"width: 100%; ' +\n",
       "        'text-align: center; padding: 3px;\"/>');\n",
       "    titlebar.append(titletext)\n",
       "    this.root.append(titlebar);\n",
       "    this.header = titletext[0];\n",
       "}\n",
       "\n",
       "\n",
       "\n",
       "mpl.figure.prototype._canvas_extra_style = function(canvas_div) {\n",
       "\n",
       "}\n",
       "\n",
       "\n",
       "mpl.figure.prototype._root_extra_style = function(canvas_div) {\n",
       "\n",
       "}\n",
       "\n",
       "mpl.figure.prototype._init_canvas = function() {\n",
       "    var fig = this;\n",
       "\n",
       "    var canvas_div = $('<div/>');\n",
       "\n",
       "    canvas_div.attr('style', 'position: relative; clear: both; outline: 0');\n",
       "\n",
       "    function canvas_keyboard_event(event) {\n",
       "        return fig.key_event(event, event['data']);\n",
       "    }\n",
       "\n",
       "    canvas_div.keydown('key_press', canvas_keyboard_event);\n",
       "    canvas_div.keyup('key_release', canvas_keyboard_event);\n",
       "    this.canvas_div = canvas_div\n",
       "    this._canvas_extra_style(canvas_div)\n",
       "    this.root.append(canvas_div);\n",
       "\n",
       "    var canvas = $('<canvas/>');\n",
       "    canvas.addClass('mpl-canvas');\n",
       "    canvas.attr('style', \"left: 0; top: 0; z-index: 0; outline: 0\")\n",
       "\n",
       "    this.canvas = canvas[0];\n",
       "    this.context = canvas[0].getContext(\"2d\");\n",
       "\n",
       "    var backingStore = this.context.backingStorePixelRatio ||\n",
       "\tthis.context.webkitBackingStorePixelRatio ||\n",
       "\tthis.context.mozBackingStorePixelRatio ||\n",
       "\tthis.context.msBackingStorePixelRatio ||\n",
       "\tthis.context.oBackingStorePixelRatio ||\n",
       "\tthis.context.backingStorePixelRatio || 1;\n",
       "\n",
       "    mpl.ratio = (window.devicePixelRatio || 1) / backingStore;\n",
       "\n",
       "    var rubberband = $('<canvas/>');\n",
       "    rubberband.attr('style', \"position: absolute; left: 0; top: 0; z-index: 1;\")\n",
       "\n",
       "    var pass_mouse_events = true;\n",
       "\n",
       "    canvas_div.resizable({\n",
       "        start: function(event, ui) {\n",
       "            pass_mouse_events = false;\n",
       "        },\n",
       "        resize: function(event, ui) {\n",
       "            fig.request_resize(ui.size.width, ui.size.height);\n",
       "        },\n",
       "        stop: function(event, ui) {\n",
       "            pass_mouse_events = true;\n",
       "            fig.request_resize(ui.size.width, ui.size.height);\n",
       "        },\n",
       "    });\n",
       "\n",
       "    function mouse_event_fn(event) {\n",
       "        if (pass_mouse_events)\n",
       "            return fig.mouse_event(event, event['data']);\n",
       "    }\n",
       "\n",
       "    rubberband.mousedown('button_press', mouse_event_fn);\n",
       "    rubberband.mouseup('button_release', mouse_event_fn);\n",
       "    // Throttle sequential mouse events to 1 every 20ms.\n",
       "    rubberband.mousemove('motion_notify', mouse_event_fn);\n",
       "\n",
       "    rubberband.mouseenter('figure_enter', mouse_event_fn);\n",
       "    rubberband.mouseleave('figure_leave', mouse_event_fn);\n",
       "\n",
       "    canvas_div.on(\"wheel\", function (event) {\n",
       "        event = event.originalEvent;\n",
       "        event['data'] = 'scroll'\n",
       "        if (event.deltaY < 0) {\n",
       "            event.step = 1;\n",
       "        } else {\n",
       "            event.step = -1;\n",
       "        }\n",
       "        mouse_event_fn(event);\n",
       "    });\n",
       "\n",
       "    canvas_div.append(canvas);\n",
       "    canvas_div.append(rubberband);\n",
       "\n",
       "    this.rubberband = rubberband;\n",
       "    this.rubberband_canvas = rubberband[0];\n",
       "    this.rubberband_context = rubberband[0].getContext(\"2d\");\n",
       "    this.rubberband_context.strokeStyle = \"#000000\";\n",
       "\n",
       "    this._resize_canvas = function(width, height) {\n",
       "        // Keep the size of the canvas, canvas container, and rubber band\n",
       "        // canvas in synch.\n",
       "        canvas_div.css('width', width)\n",
       "        canvas_div.css('height', height)\n",
       "\n",
       "        canvas.attr('width', width * mpl.ratio);\n",
       "        canvas.attr('height', height * mpl.ratio);\n",
       "        canvas.attr('style', 'width: ' + width + 'px; height: ' + height + 'px;');\n",
       "\n",
       "        rubberband.attr('width', width);\n",
       "        rubberband.attr('height', height);\n",
       "    }\n",
       "\n",
       "    // Set the figure to an initial 600x600px, this will subsequently be updated\n",
       "    // upon first draw.\n",
       "    this._resize_canvas(600, 600);\n",
       "\n",
       "    // Disable right mouse context menu.\n",
       "    $(this.rubberband_canvas).bind(\"contextmenu\",function(e){\n",
       "        return false;\n",
       "    });\n",
       "\n",
       "    function set_focus () {\n",
       "        canvas.focus();\n",
       "        canvas_div.focus();\n",
       "    }\n",
       "\n",
       "    window.setTimeout(set_focus, 100);\n",
       "}\n",
       "\n",
       "mpl.figure.prototype._init_toolbar = function() {\n",
       "    var fig = this;\n",
       "\n",
       "    var nav_element = $('<div/>');\n",
       "    nav_element.attr('style', 'width: 100%');\n",
       "    this.root.append(nav_element);\n",
       "\n",
       "    // Define a callback function for later on.\n",
       "    function toolbar_event(event) {\n",
       "        return fig.toolbar_button_onclick(event['data']);\n",
       "    }\n",
       "    function toolbar_mouse_event(event) {\n",
       "        return fig.toolbar_button_onmouseover(event['data']);\n",
       "    }\n",
       "\n",
       "    for(var toolbar_ind in mpl.toolbar_items) {\n",
       "        var name = mpl.toolbar_items[toolbar_ind][0];\n",
       "        var tooltip = mpl.toolbar_items[toolbar_ind][1];\n",
       "        var image = mpl.toolbar_items[toolbar_ind][2];\n",
       "        var method_name = mpl.toolbar_items[toolbar_ind][3];\n",
       "\n",
       "        if (!name) {\n",
       "            // put a spacer in here.\n",
       "            continue;\n",
       "        }\n",
       "        var button = $('<button/>');\n",
       "        button.addClass('ui-button ui-widget ui-state-default ui-corner-all ' +\n",
       "                        'ui-button-icon-only');\n",
       "        button.attr('role', 'button');\n",
       "        button.attr('aria-disabled', 'false');\n",
       "        button.click(method_name, toolbar_event);\n",
       "        button.mouseover(tooltip, toolbar_mouse_event);\n",
       "\n",
       "        var icon_img = $('<span/>');\n",
       "        icon_img.addClass('ui-button-icon-primary ui-icon');\n",
       "        icon_img.addClass(image);\n",
       "        icon_img.addClass('ui-corner-all');\n",
       "\n",
       "        var tooltip_span = $('<span/>');\n",
       "        tooltip_span.addClass('ui-button-text');\n",
       "        tooltip_span.html(tooltip);\n",
       "\n",
       "        button.append(icon_img);\n",
       "        button.append(tooltip_span);\n",
       "\n",
       "        nav_element.append(button);\n",
       "    }\n",
       "\n",
       "    var fmt_picker_span = $('<span/>');\n",
       "\n",
       "    var fmt_picker = $('<select/>');\n",
       "    fmt_picker.addClass('mpl-toolbar-option ui-widget ui-widget-content');\n",
       "    fmt_picker_span.append(fmt_picker);\n",
       "    nav_element.append(fmt_picker_span);\n",
       "    this.format_dropdown = fmt_picker[0];\n",
       "\n",
       "    for (var ind in mpl.extensions) {\n",
       "        var fmt = mpl.extensions[ind];\n",
       "        var option = $(\n",
       "            '<option/>', {selected: fmt === mpl.default_extension}).html(fmt);\n",
       "        fmt_picker.append(option);\n",
       "    }\n",
       "\n",
       "    // Add hover states to the ui-buttons\n",
       "    $( \".ui-button\" ).hover(\n",
       "        function() { $(this).addClass(\"ui-state-hover\");},\n",
       "        function() { $(this).removeClass(\"ui-state-hover\");}\n",
       "    );\n",
       "\n",
       "    var status_bar = $('<span class=\"mpl-message\"/>');\n",
       "    nav_element.append(status_bar);\n",
       "    this.message = status_bar[0];\n",
       "}\n",
       "\n",
       "mpl.figure.prototype.request_resize = function(x_pixels, y_pixels) {\n",
       "    // Request matplotlib to resize the figure. Matplotlib will then trigger a resize in the client,\n",
       "    // which will in turn request a refresh of the image.\n",
       "    this.send_message('resize', {'width': x_pixels, 'height': y_pixels});\n",
       "}\n",
       "\n",
       "mpl.figure.prototype.send_message = function(type, properties) {\n",
       "    properties['type'] = type;\n",
       "    properties['figure_id'] = this.id;\n",
       "    this.ws.send(JSON.stringify(properties));\n",
       "}\n",
       "\n",
       "mpl.figure.prototype.send_draw_message = function() {\n",
       "    if (!this.waiting) {\n",
       "        this.waiting = true;\n",
       "        this.ws.send(JSON.stringify({type: \"draw\", figure_id: this.id}));\n",
       "    }\n",
       "}\n",
       "\n",
       "\n",
       "mpl.figure.prototype.handle_save = function(fig, msg) {\n",
       "    var format_dropdown = fig.format_dropdown;\n",
       "    var format = format_dropdown.options[format_dropdown.selectedIndex].value;\n",
       "    fig.ondownload(fig, format);\n",
       "}\n",
       "\n",
       "\n",
       "mpl.figure.prototype.handle_resize = function(fig, msg) {\n",
       "    var size = msg['size'];\n",
       "    if (size[0] != fig.canvas.width || size[1] != fig.canvas.height) {\n",
       "        fig._resize_canvas(size[0], size[1]);\n",
       "        fig.send_message(\"refresh\", {});\n",
       "    };\n",
       "}\n",
       "\n",
       "mpl.figure.prototype.handle_rubberband = function(fig, msg) {\n",
       "    var x0 = msg['x0'] / mpl.ratio;\n",
       "    var y0 = (fig.canvas.height - msg['y0']) / mpl.ratio;\n",
       "    var x1 = msg['x1'] / mpl.ratio;\n",
       "    var y1 = (fig.canvas.height - msg['y1']) / mpl.ratio;\n",
       "    x0 = Math.floor(x0) + 0.5;\n",
       "    y0 = Math.floor(y0) + 0.5;\n",
       "    x1 = Math.floor(x1) + 0.5;\n",
       "    y1 = Math.floor(y1) + 0.5;\n",
       "    var min_x = Math.min(x0, x1);\n",
       "    var min_y = Math.min(y0, y1);\n",
       "    var width = Math.abs(x1 - x0);\n",
       "    var height = Math.abs(y1 - y0);\n",
       "\n",
       "    fig.rubberband_context.clearRect(\n",
       "        0, 0, fig.canvas.width / mpl.ratio, fig.canvas.height / mpl.ratio);\n",
       "\n",
       "    fig.rubberband_context.strokeRect(min_x, min_y, width, height);\n",
       "}\n",
       "\n",
       "mpl.figure.prototype.handle_figure_label = function(fig, msg) {\n",
       "    // Updates the figure title.\n",
       "    fig.header.textContent = msg['label'];\n",
       "}\n",
       "\n",
       "mpl.figure.prototype.handle_cursor = function(fig, msg) {\n",
       "    var cursor = msg['cursor'];\n",
       "    switch(cursor)\n",
       "    {\n",
       "    case 0:\n",
       "        cursor = 'pointer';\n",
       "        break;\n",
       "    case 1:\n",
       "        cursor = 'default';\n",
       "        break;\n",
       "    case 2:\n",
       "        cursor = 'crosshair';\n",
       "        break;\n",
       "    case 3:\n",
       "        cursor = 'move';\n",
       "        break;\n",
       "    }\n",
       "    fig.rubberband_canvas.style.cursor = cursor;\n",
       "}\n",
       "\n",
       "mpl.figure.prototype.handle_message = function(fig, msg) {\n",
       "    fig.message.textContent = msg['message'];\n",
       "}\n",
       "\n",
       "mpl.figure.prototype.handle_draw = function(fig, msg) {\n",
       "    // Request the server to send over a new figure.\n",
       "    fig.send_draw_message();\n",
       "}\n",
       "\n",
       "mpl.figure.prototype.handle_image_mode = function(fig, msg) {\n",
       "    fig.image_mode = msg['mode'];\n",
       "}\n",
       "\n",
       "mpl.figure.prototype.updated_canvas_event = function() {\n",
       "    // Called whenever the canvas gets updated.\n",
       "    this.send_message(\"ack\", {});\n",
       "}\n",
       "\n",
       "// A function to construct a web socket function for onmessage handling.\n",
       "// Called in the figure constructor.\n",
       "mpl.figure.prototype._make_on_message_function = function(fig) {\n",
       "    return function socket_on_message(evt) {\n",
       "        if (evt.data instanceof Blob) {\n",
       "            /* FIXME: We get \"Resource interpreted as Image but\n",
       "             * transferred with MIME type text/plain:\" errors on\n",
       "             * Chrome.  But how to set the MIME type?  It doesn't seem\n",
       "             * to be part of the websocket stream */\n",
       "            evt.data.type = \"image/png\";\n",
       "\n",
       "            /* Free the memory for the previous frames */\n",
       "            if (fig.imageObj.src) {\n",
       "                (window.URL || window.webkitURL).revokeObjectURL(\n",
       "                    fig.imageObj.src);\n",
       "            }\n",
       "\n",
       "            fig.imageObj.src = (window.URL || window.webkitURL).createObjectURL(\n",
       "                evt.data);\n",
       "            fig.updated_canvas_event();\n",
       "            fig.waiting = false;\n",
       "            return;\n",
       "        }\n",
       "        else if (typeof evt.data === 'string' && evt.data.slice(0, 21) == \"data:image/png;base64\") {\n",
       "            fig.imageObj.src = evt.data;\n",
       "            fig.updated_canvas_event();\n",
       "            fig.waiting = false;\n",
       "            return;\n",
       "        }\n",
       "\n",
       "        var msg = JSON.parse(evt.data);\n",
       "        var msg_type = msg['type'];\n",
       "\n",
       "        // Call the  \"handle_{type}\" callback, which takes\n",
       "        // the figure and JSON message as its only arguments.\n",
       "        try {\n",
       "            var callback = fig[\"handle_\" + msg_type];\n",
       "        } catch (e) {\n",
       "            console.log(\"No handler for the '\" + msg_type + \"' message type: \", msg);\n",
       "            return;\n",
       "        }\n",
       "\n",
       "        if (callback) {\n",
       "            try {\n",
       "                // console.log(\"Handling '\" + msg_type + \"' message: \", msg);\n",
       "                callback(fig, msg);\n",
       "            } catch (e) {\n",
       "                console.log(\"Exception inside the 'handler_\" + msg_type + \"' callback:\", e, e.stack, msg);\n",
       "            }\n",
       "        }\n",
       "    };\n",
       "}\n",
       "\n",
       "// from http://stackoverflow.com/questions/1114465/getting-mouse-location-in-canvas\n",
       "mpl.findpos = function(e) {\n",
       "    //this section is from http://www.quirksmode.org/js/events_properties.html\n",
       "    var targ;\n",
       "    if (!e)\n",
       "        e = window.event;\n",
       "    if (e.target)\n",
       "        targ = e.target;\n",
       "    else if (e.srcElement)\n",
       "        targ = e.srcElement;\n",
       "    if (targ.nodeType == 3) // defeat Safari bug\n",
       "        targ = targ.parentNode;\n",
       "\n",
       "    // jQuery normalizes the pageX and pageY\n",
       "    // pageX,Y are the mouse positions relative to the document\n",
       "    // offset() returns the position of the element relative to the document\n",
       "    var x = e.pageX - $(targ).offset().left;\n",
       "    var y = e.pageY - $(targ).offset().top;\n",
       "\n",
       "    return {\"x\": x, \"y\": y};\n",
       "};\n",
       "\n",
       "/*\n",
       " * return a copy of an object with only non-object keys\n",
       " * we need this to avoid circular references\n",
       " * http://stackoverflow.com/a/24161582/3208463\n",
       " */\n",
       "function simpleKeys (original) {\n",
       "  return Object.keys(original).reduce(function (obj, key) {\n",
       "    if (typeof original[key] !== 'object')\n",
       "        obj[key] = original[key]\n",
       "    return obj;\n",
       "  }, {});\n",
       "}\n",
       "\n",
       "mpl.figure.prototype.mouse_event = function(event, name) {\n",
       "    var canvas_pos = mpl.findpos(event)\n",
       "\n",
       "    if (name === 'button_press')\n",
       "    {\n",
       "        this.canvas.focus();\n",
       "        this.canvas_div.focus();\n",
       "    }\n",
       "\n",
       "    var x = canvas_pos.x * mpl.ratio;\n",
       "    var y = canvas_pos.y * mpl.ratio;\n",
       "\n",
       "    this.send_message(name, {x: x, y: y, button: event.button,\n",
       "                             step: event.step,\n",
       "                             guiEvent: simpleKeys(event)});\n",
       "\n",
       "    /* This prevents the web browser from automatically changing to\n",
       "     * the text insertion cursor when the button is pressed.  We want\n",
       "     * to control all of the cursor setting manually through the\n",
       "     * 'cursor' event from matplotlib */\n",
       "    event.preventDefault();\n",
       "    return false;\n",
       "}\n",
       "\n",
       "mpl.figure.prototype._key_event_extra = function(event, name) {\n",
       "    // Handle any extra behaviour associated with a key event\n",
       "}\n",
       "\n",
       "mpl.figure.prototype.key_event = function(event, name) {\n",
       "\n",
       "    // Prevent repeat events\n",
       "    if (name == 'key_press')\n",
       "    {\n",
       "        if (event.which === this._key)\n",
       "            return;\n",
       "        else\n",
       "            this._key = event.which;\n",
       "    }\n",
       "    if (name == 'key_release')\n",
       "        this._key = null;\n",
       "\n",
       "    var value = '';\n",
       "    if (event.ctrlKey && event.which != 17)\n",
       "        value += \"ctrl+\";\n",
       "    if (event.altKey && event.which != 18)\n",
       "        value += \"alt+\";\n",
       "    if (event.shiftKey && event.which != 16)\n",
       "        value += \"shift+\";\n",
       "\n",
       "    value += 'k';\n",
       "    value += event.which.toString();\n",
       "\n",
       "    this._key_event_extra(event, name);\n",
       "\n",
       "    this.send_message(name, {key: value,\n",
       "                             guiEvent: simpleKeys(event)});\n",
       "    return false;\n",
       "}\n",
       "\n",
       "mpl.figure.prototype.toolbar_button_onclick = function(name) {\n",
       "    if (name == 'download') {\n",
       "        this.handle_save(this, null);\n",
       "    } else {\n",
       "        this.send_message(\"toolbar_button\", {name: name});\n",
       "    }\n",
       "};\n",
       "\n",
       "mpl.figure.prototype.toolbar_button_onmouseover = function(tooltip) {\n",
       "    this.message.textContent = tooltip;\n",
       "};\n",
       "mpl.toolbar_items = [[\"Home\", \"Reset original view\", \"fa fa-home icon-home\", \"home\"], [\"Back\", \"Back to previous view\", \"fa fa-arrow-left icon-arrow-left\", \"back\"], [\"Forward\", \"Forward to next view\", \"fa fa-arrow-right icon-arrow-right\", \"forward\"], [\"\", \"\", \"\", \"\"], [\"Pan\", \"Pan axes with left mouse, zoom with right\", \"fa fa-arrows icon-move\", \"pan\"], [\"Zoom\", \"Zoom to rectangle\", \"fa fa-square-o icon-check-empty\", \"zoom\"], [\"\", \"\", \"\", \"\"], [\"Download\", \"Download plot\", \"fa fa-floppy-o icon-save\", \"download\"]];\n",
       "\n",
       "mpl.extensions = [\"eps\", \"jpeg\", \"pdf\", \"png\", \"ps\", \"raw\", \"svg\", \"tif\"];\n",
       "\n",
       "mpl.default_extension = \"png\";var comm_websocket_adapter = function(comm) {\n",
       "    // Create a \"websocket\"-like object which calls the given IPython comm\n",
       "    // object with the appropriate methods. Currently this is a non binary\n",
       "    // socket, so there is still some room for performance tuning.\n",
       "    var ws = {};\n",
       "\n",
       "    ws.close = function() {\n",
       "        comm.close()\n",
       "    };\n",
       "    ws.send = function(m) {\n",
       "        //console.log('sending', m);\n",
       "        comm.send(m);\n",
       "    };\n",
       "    // Register the callback with on_msg.\n",
       "    comm.on_msg(function(msg) {\n",
       "        //console.log('receiving', msg['content']['data'], msg);\n",
       "        // Pass the mpl event to the overridden (by mpl) onmessage function.\n",
       "        ws.onmessage(msg['content']['data'])\n",
       "    });\n",
       "    return ws;\n",
       "}\n",
       "\n",
       "mpl.mpl_figure_comm = function(comm, msg) {\n",
       "    // This is the function which gets called when the mpl process\n",
       "    // starts-up an IPython Comm through the \"matplotlib\" channel.\n",
       "\n",
       "    var id = msg.content.data.id;\n",
       "    // Get hold of the div created by the display call when the Comm\n",
       "    // socket was opened in Python.\n",
       "    var element = $(\"#\" + id);\n",
       "    var ws_proxy = comm_websocket_adapter(comm)\n",
       "\n",
       "    function ondownload(figure, format) {\n",
       "        window.open(figure.imageObj.src);\n",
       "    }\n",
       "\n",
       "    var fig = new mpl.figure(id, ws_proxy,\n",
       "                           ondownload,\n",
       "                           element.get(0));\n",
       "\n",
       "    // Call onopen now - mpl needs it, as it is assuming we've passed it a real\n",
       "    // web socket which is closed, not our websocket->open comm proxy.\n",
       "    ws_proxy.onopen();\n",
       "\n",
       "    fig.parent_element = element.get(0);\n",
       "    fig.cell_info = mpl.find_output_cell(\"<div id='\" + id + \"'></div>\");\n",
       "    if (!fig.cell_info) {\n",
       "        console.error(\"Failed to find cell for figure\", id, fig);\n",
       "        return;\n",
       "    }\n",
       "\n",
       "    var output_index = fig.cell_info[2]\n",
       "    var cell = fig.cell_info[0];\n",
       "\n",
       "};\n",
       "\n",
       "mpl.figure.prototype.handle_close = function(fig, msg) {\n",
       "    var width = fig.canvas.width/mpl.ratio\n",
       "    fig.root.unbind('remove')\n",
       "\n",
       "    // Update the output cell to use the data from the current canvas.\n",
       "    fig.push_to_output();\n",
       "    var dataURL = fig.canvas.toDataURL();\n",
       "    // Re-enable the keyboard manager in IPython - without this line, in FF,\n",
       "    // the notebook keyboard shortcuts fail.\n",
       "    IPython.keyboard_manager.enable()\n",
       "    $(fig.parent_element).html('<img src=\"' + dataURL + '\" width=\"' + width + '\">');\n",
       "    fig.close_ws(fig, msg);\n",
       "}\n",
       "\n",
       "mpl.figure.prototype.close_ws = function(fig, msg){\n",
       "    fig.send_message('closing', msg);\n",
       "    // fig.ws.close()\n",
       "}\n",
       "\n",
       "mpl.figure.prototype.push_to_output = function(remove_interactive) {\n",
       "    // Turn the data on the canvas into data in the output cell.\n",
       "    var width = this.canvas.width/mpl.ratio\n",
       "    var dataURL = this.canvas.toDataURL();\n",
       "    this.cell_info[1]['text/html'] = '<img src=\"' + dataURL + '\" width=\"' + width + '\">';\n",
       "}\n",
       "\n",
       "mpl.figure.prototype.updated_canvas_event = function() {\n",
       "    // Tell IPython that the notebook contents must change.\n",
       "    IPython.notebook.set_dirty(true);\n",
       "    this.send_message(\"ack\", {});\n",
       "    var fig = this;\n",
       "    // Wait a second, then push the new image to the DOM so\n",
       "    // that it is saved nicely (might be nice to debounce this).\n",
       "    setTimeout(function () { fig.push_to_output() }, 1000);\n",
       "}\n",
       "\n",
       "mpl.figure.prototype._init_toolbar = function() {\n",
       "    var fig = this;\n",
       "\n",
       "    var nav_element = $('<div/>');\n",
       "    nav_element.attr('style', 'width: 100%');\n",
       "    this.root.append(nav_element);\n",
       "\n",
       "    // Define a callback function for later on.\n",
       "    function toolbar_event(event) {\n",
       "        return fig.toolbar_button_onclick(event['data']);\n",
       "    }\n",
       "    function toolbar_mouse_event(event) {\n",
       "        return fig.toolbar_button_onmouseover(event['data']);\n",
       "    }\n",
       "\n",
       "    for(var toolbar_ind in mpl.toolbar_items){\n",
       "        var name = mpl.toolbar_items[toolbar_ind][0];\n",
       "        var tooltip = mpl.toolbar_items[toolbar_ind][1];\n",
       "        var image = mpl.toolbar_items[toolbar_ind][2];\n",
       "        var method_name = mpl.toolbar_items[toolbar_ind][3];\n",
       "\n",
       "        if (!name) { continue; };\n",
       "\n",
       "        var button = $('<button class=\"btn btn-default\" href=\"#\" title=\"' + name + '\"><i class=\"fa ' + image + ' fa-lg\"></i></button>');\n",
       "        button.click(method_name, toolbar_event);\n",
       "        button.mouseover(tooltip, toolbar_mouse_event);\n",
       "        nav_element.append(button);\n",
       "    }\n",
       "\n",
       "    // Add the status bar.\n",
       "    var status_bar = $('<span class=\"mpl-message\" style=\"text-align:right; float: right;\"/>');\n",
       "    nav_element.append(status_bar);\n",
       "    this.message = status_bar[0];\n",
       "\n",
       "    // Add the close button to the window.\n",
       "    var buttongrp = $('<div class=\"btn-group inline pull-right\"></div>');\n",
       "    var button = $('<button class=\"btn btn-mini btn-primary\" href=\"#\" title=\"Stop Interaction\"><i class=\"fa fa-power-off icon-remove icon-large\"></i></button>');\n",
       "    button.click(function (evt) { fig.handle_close(fig, {}); } );\n",
       "    button.mouseover('Stop Interaction', toolbar_mouse_event);\n",
       "    buttongrp.append(button);\n",
       "    var titlebar = this.root.find($('.ui-dialog-titlebar'));\n",
       "    titlebar.prepend(buttongrp);\n",
       "}\n",
       "\n",
       "mpl.figure.prototype._root_extra_style = function(el){\n",
       "    var fig = this\n",
       "    el.on(\"remove\", function(){\n",
       "\tfig.close_ws(fig, {});\n",
       "    });\n",
       "}\n",
       "\n",
       "mpl.figure.prototype._canvas_extra_style = function(el){\n",
       "    // this is important to make the div 'focusable\n",
       "    el.attr('tabindex', 0)\n",
       "    // reach out to IPython and tell the keyboard manager to turn it's self\n",
       "    // off when our div gets focus\n",
       "\n",
       "    // location in version 3\n",
       "    if (IPython.notebook.keyboard_manager) {\n",
       "        IPython.notebook.keyboard_manager.register_events(el);\n",
       "    }\n",
       "    else {\n",
       "        // location in version 2\n",
       "        IPython.keyboard_manager.register_events(el);\n",
       "    }\n",
       "\n",
       "}\n",
       "\n",
       "mpl.figure.prototype._key_event_extra = function(event, name) {\n",
       "    var manager = IPython.notebook.keyboard_manager;\n",
       "    if (!manager)\n",
       "        manager = IPython.keyboard_manager;\n",
       "\n",
       "    // Check for shift+enter\n",
       "    if (event.shiftKey && event.which == 13) {\n",
       "        this.canvas_div.blur();\n",
       "        // select the cell after this one\n",
       "        var index = IPython.notebook.find_cell_index(this.cell_info[0]);\n",
       "        IPython.notebook.select(index + 1);\n",
       "    }\n",
       "}\n",
       "\n",
       "mpl.figure.prototype.handle_save = function(fig, msg) {\n",
       "    fig.ondownload(fig, null);\n",
       "}\n",
       "\n",
       "\n",
       "mpl.find_output_cell = function(html_output) {\n",
       "    // Return the cell and output element which can be found *uniquely* in the notebook.\n",
       "    // Note - this is a bit hacky, but it is done because the \"notebook_saving.Notebook\"\n",
       "    // IPython event is triggered only after the cells have been serialised, which for\n",
       "    // our purposes (turning an active figure into a static one), is too late.\n",
       "    var cells = IPython.notebook.get_cells();\n",
       "    var ncells = cells.length;\n",
       "    for (var i=0; i<ncells; i++) {\n",
       "        var cell = cells[i];\n",
       "        if (cell.cell_type === 'code'){\n",
       "            for (var j=0; j<cell.output_area.outputs.length; j++) {\n",
       "                var data = cell.output_area.outputs[j];\n",
       "                if (data.data) {\n",
       "                    // IPython >= 3 moved mimebundle to data attribute of output\n",
       "                    data = data.data;\n",
       "                }\n",
       "                if (data['text/html'] == html_output) {\n",
       "                    return [cell, data, j];\n",
       "                }\n",
       "            }\n",
       "        }\n",
       "    }\n",
       "}\n",
       "\n",
       "// Register the function which deals with the matplotlib target/channel.\n",
       "// The kernel may be null if the page has been refreshed.\n",
       "if (IPython.notebook.kernel != null) {\n",
       "    IPython.notebook.kernel.comm_manager.register_target('matplotlib', mpl.mpl_figure_comm);\n",
       "}\n"
      ],
      "text/plain": [
       "<IPython.core.display.Javascript object>"
      ]
     },
     "metadata": {},
     "output_type": "display_data"
    },
    {
     "data": {
      "text/html": [
       "<img src=\"data:image/png;base64,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\" width=\"640\">"
      ],
      "text/plain": [
       "<IPython.core.display.HTML object>"
      ]
     },
     "metadata": {},
     "output_type": "display_data"
    },
    {
     "name": "stdout",
     "output_type": "stream",
     "text": [
      "cleaning up speed data\n",
      "cleaning up speed data\n",
      "I deleted session: 0761_day1\n",
      "I deleted session: 0761_day10\n",
      "I deleted session: 0761_day12\n",
      "I deleted session: 0761_day2\n",
      "I deleted session: 0761_day4\n",
      "I deleted session: 0761_day6\n",
      "I deleted session: 0761_day8\n"
     ]
    },
    {
     "name": "stderr",
     "output_type": "stream",
     "text": [
      "C:\\Users\\dzemel\\Miniconda3\\lib\\site-packages\\numpy\\core\\_asarray.py:83: VisibleDeprecationWarning: Creating an ndarray from ragged nested sequences (which is a list-or-tuple of lists-or-tuples-or ndarrays with different lengths or shapes) is deprecated. If you meant to do this, you must specify 'dtype=object' when creating the ndarray\n",
      "  return array(a, dtype, copy=False, order=order)\n",
      "C:\\Users\\dzemel\\Miniconda3\\lib\\site-packages\\numpy\\core\\_asarray.py:83: VisibleDeprecationWarning: Creating an ndarray from ragged nested sequences (which is a list-or-tuple of lists-or-tuples-or ndarrays with different lengths or shapes) is deprecated. If you meant to do this, you must specify 'dtype=object' when creating the ndarray\n",
      "  return array(a, dtype, copy=False, order=order)\n",
      "C:\\Users\\dzemel\\Miniconda3\\lib\\site-packages\\numpy\\core\\_asarray.py:83: VisibleDeprecationWarning: Creating an ndarray from ragged nested sequences (which is a list-or-tuple of lists-or-tuples-or ndarrays with different lengths or shapes) is deprecated. If you meant to do this, you must specify 'dtype=object' when creating the ndarray\n",
      "  return array(a, dtype, copy=False, order=order)\n",
      "C:\\Users\\dzemel\\Miniconda3\\lib\\site-packages\\numpy\\core\\_asarray.py:83: VisibleDeprecationWarning: Creating an ndarray from ragged nested sequences (which is a list-or-tuple of lists-or-tuples-or ndarrays with different lengths or shapes) is deprecated. If you meant to do this, you must specify 'dtype=object' when creating the ndarray\n",
      "  return array(a, dtype, copy=False, order=order)\n",
      "C:\\Users\\dzemel\\Miniconda3\\lib\\site-packages\\numpy\\core\\_asarray.py:83: VisibleDeprecationWarning: Creating an ndarray from ragged nested sequences (which is a list-or-tuple of lists-or-tuples-or ndarrays with different lengths or shapes) is deprecated. If you meant to do this, you must specify 'dtype=object' when creating the ndarray\n",
      "  return array(a, dtype, copy=False, order=order)\n",
      "C:\\Users\\dzemel\\Miniconda3\\lib\\site-packages\\numpy\\core\\_asarray.py:83: VisibleDeprecationWarning: Creating an ndarray from ragged nested sequences (which is a list-or-tuple of lists-or-tuples-or ndarrays with different lengths or shapes) is deprecated. If you meant to do this, you must specify 'dtype=object' when creating the ndarray\n",
      "  return array(a, dtype, copy=False, order=order)\n",
      "C:\\Users\\dzemel\\Miniconda3\\lib\\site-packages\\numpy\\core\\_asarray.py:83: VisibleDeprecationWarning: Creating an ndarray from ragged nested sequences (which is a list-or-tuple of lists-or-tuples-or ndarrays with different lengths or shapes) is deprecated. If you meant to do this, you must specify 'dtype=object' when creating the ndarray\n",
      "  return array(a, dtype, copy=False, order=order)\n",
      "C:\\Users\\dzemel\\Miniconda3\\lib\\site-packages\\numpy\\core\\_asarray.py:83: VisibleDeprecationWarning: Creating an ndarray from ragged nested sequences (which is a list-or-tuple of lists-or-tuples-or ndarrays with different lengths or shapes) is deprecated. If you meant to do this, you must specify 'dtype=object' when creating the ndarray\n",
      "  return array(a, dtype, copy=False, order=order)\n",
      "C:\\Users\\dzemel\\Miniconda3\\lib\\site-packages\\numpy\\core\\_asarray.py:83: VisibleDeprecationWarning: Creating an ndarray from ragged nested sequences (which is a list-or-tuple of lists-or-tuples-or ndarrays with different lengths or shapes) is deprecated. If you meant to do this, you must specify 'dtype=object' when creating the ndarray\n",
      "  return array(a, dtype, copy=False, order=order)\n",
      "C:\\Users\\dzemel\\Miniconda3\\lib\\site-packages\\numpy\\core\\_asarray.py:83: VisibleDeprecationWarning: Creating an ndarray from ragged nested sequences (which is a list-or-tuple of lists-or-tuples-or ndarrays with different lengths or shapes) is deprecated. If you meant to do this, you must specify 'dtype=object' when creating the ndarray\n",
      "  return array(a, dtype, copy=False, order=order)\n",
      "C:\\Users\\dzemel\\Miniconda3\\lib\\site-packages\\numpy\\core\\_asarray.py:83: VisibleDeprecationWarning: Creating an ndarray from ragged nested sequences (which is a list-or-tuple of lists-or-tuples-or ndarrays with different lengths or shapes) is deprecated. If you meant to do this, you must specify 'dtype=object' when creating the ndarray\n",
      "  return array(a, dtype, copy=False, order=order)\n",
      "C:\\Users\\dzemel\\Miniconda3\\lib\\site-packages\\numpy\\core\\_asarray.py:83: VisibleDeprecationWarning: Creating an ndarray from ragged nested sequences (which is a list-or-tuple of lists-or-tuples-or ndarrays with different lengths or shapes) is deprecated. If you meant to do this, you must specify 'dtype=object' when creating the ndarray\n",
      "  return array(a, dtype, copy=False, order=order)\n",
      "C:\\Users\\dzemel\\Miniconda3\\lib\\site-packages\\numpy\\core\\_asarray.py:83: VisibleDeprecationWarning: Creating an ndarray from ragged nested sequences (which is a list-or-tuple of lists-or-tuples-or ndarrays with different lengths or shapes) is deprecated. If you meant to do this, you must specify 'dtype=object' when creating the ndarray\n",
      "  return array(a, dtype, copy=False, order=order)\n",
      "C:\\Users\\dzemel\\Miniconda3\\lib\\site-packages\\numpy\\core\\_asarray.py:83: VisibleDeprecationWarning: Creating an ndarray from ragged nested sequences (which is a list-or-tuple of lists-or-tuples-or ndarrays with different lengths or shapes) is deprecated. If you meant to do this, you must specify 'dtype=object' when creating the ndarray\n",
      "  return array(a, dtype, copy=False, order=order)\n",
      "C:\\Users\\dzemel\\Miniconda3\\lib\\site-packages\\numpy\\core\\_asarray.py:83: VisibleDeprecationWarning: Creating an ndarray from ragged nested sequences (which is a list-or-tuple of lists-or-tuples-or ndarrays with different lengths or shapes) is deprecated. If you meant to do this, you must specify 'dtype=object' when creating the ndarray\n",
      "  return array(a, dtype, copy=False, order=order)\n",
      "C:\\Users\\dzemel\\Miniconda3\\lib\\site-packages\\numpy\\core\\_asarray.py:83: VisibleDeprecationWarning: Creating an ndarray from ragged nested sequences (which is a list-or-tuple of lists-or-tuples-or ndarrays with different lengths or shapes) is deprecated. If you meant to do this, you must specify 'dtype=object' when creating the ndarray\n",
      "  return array(a, dtype, copy=False, order=order)\n",
      "C:\\Users\\dzemel\\Miniconda3\\lib\\site-packages\\numpy\\core\\_asarray.py:83: VisibleDeprecationWarning: Creating an ndarray from ragged nested sequences (which is a list-or-tuple of lists-or-tuples-or ndarrays with different lengths or shapes) is deprecated. If you meant to do this, you must specify 'dtype=object' when creating the ndarray\n",
      "  return array(a, dtype, copy=False, order=order)\n",
      "C:\\Users\\dzemel\\Miniconda3\\lib\\site-packages\\numpy\\core\\_asarray.py:83: VisibleDeprecationWarning: Creating an ndarray from ragged nested sequences (which is a list-or-tuple of lists-or-tuples-or ndarrays with different lengths or shapes) is deprecated. If you meant to do this, you must specify 'dtype=object' when creating the ndarray\n",
      "  return array(a, dtype, copy=False, order=order)\n",
      "C:\\Users\\dzemel\\Miniconda3\\lib\\site-packages\\numpy\\core\\_asarray.py:83: VisibleDeprecationWarning: Creating an ndarray from ragged nested sequences (which is a list-or-tuple of lists-or-tuples-or ndarrays with different lengths or shapes) is deprecated. If you meant to do this, you must specify 'dtype=object' when creating the ndarray\n",
      "  return array(a, dtype, copy=False, order=order)\n",
      "C:\\Users\\dzemel\\Miniconda3\\lib\\site-packages\\numpy\\core\\_asarray.py:83: VisibleDeprecationWarning: Creating an ndarray from ragged nested sequences (which is a list-or-tuple of lists-or-tuples-or ndarrays with different lengths or shapes) is deprecated. If you meant to do this, you must specify 'dtype=object' when creating the ndarray\n",
      "  return array(a, dtype, copy=False, order=order)\n",
      "C:\\Users\\dzemel\\Miniconda3\\lib\\site-packages\\numpy\\core\\_asarray.py:83: VisibleDeprecationWarning: Creating an ndarray from ragged nested sequences (which is a list-or-tuple of lists-or-tuples-or ndarrays with different lengths or shapes) is deprecated. If you meant to do this, you must specify 'dtype=object' when creating the ndarray\n",
      "  return array(a, dtype, copy=False, order=order)\n",
      "C:\\Users\\dzemel\\Miniconda3\\lib\\site-packages\\numpy\\core\\_asarray.py:83: VisibleDeprecationWarning: Creating an ndarray from ragged nested sequences (which is a list-or-tuple of lists-or-tuples-or ndarrays with different lengths or shapes) is deprecated. If you meant to do this, you must specify 'dtype=object' when creating the ndarray\n",
      "  return array(a, dtype, copy=False, order=order)\n",
      "C:\\Users\\dzemel\\Miniconda3\\lib\\site-packages\\numpy\\core\\_asarray.py:83: VisibleDeprecationWarning: Creating an ndarray from ragged nested sequences (which is a list-or-tuple of lists-or-tuples-or ndarrays with different lengths or shapes) is deprecated. If you meant to do this, you must specify 'dtype=object' when creating the ndarray\n",
      "  return array(a, dtype, copy=False, order=order)\n",
      "C:\\Users\\dzemel\\Miniconda3\\lib\\site-packages\\numpy\\core\\_asarray.py:83: VisibleDeprecationWarning: Creating an ndarray from ragged nested sequences (which is a list-or-tuple of lists-or-tuples-or ndarrays with different lengths or shapes) is deprecated. If you meant to do this, you must specify 'dtype=object' when creating the ndarray\n",
      "  return array(a, dtype, copy=False, order=order)\n",
      "C:\\Users\\dzemel\\Miniconda3\\lib\\site-packages\\numpy\\core\\_asarray.py:83: VisibleDeprecationWarning: Creating an ndarray from ragged nested sequences (which is a list-or-tuple of lists-or-tuples-or ndarrays with different lengths or shapes) is deprecated. If you meant to do this, you must specify 'dtype=object' when creating the ndarray\n",
      "  return array(a, dtype, copy=False, order=order)\n",
      "C:\\Users\\dzemel\\Miniconda3\\lib\\site-packages\\numpy\\core\\_asarray.py:83: VisibleDeprecationWarning: Creating an ndarray from ragged nested sequences (which is a list-or-tuple of lists-or-tuples-or ndarrays with different lengths or shapes) is deprecated. If you meant to do this, you must specify 'dtype=object' when creating the ndarray\n",
      "  return array(a, dtype, copy=False, order=order)\n"
     ]
    },
    {
     "name": "stderr",
     "output_type": "stream",
     "text": [
      "C:\\Users\\dzemel\\Miniconda3\\lib\\site-packages\\numpy\\core\\_asarray.py:83: VisibleDeprecationWarning: Creating an ndarray from ragged nested sequences (which is a list-or-tuple of lists-or-tuples-or ndarrays with different lengths or shapes) is deprecated. If you meant to do this, you must specify 'dtype=object' when creating the ndarray\n",
      "  return array(a, dtype, copy=False, order=order)\n",
      "C:\\Users\\dzemel\\Miniconda3\\lib\\site-packages\\numpy\\core\\_asarray.py:83: VisibleDeprecationWarning: Creating an ndarray from ragged nested sequences (which is a list-or-tuple of lists-or-tuples-or ndarrays with different lengths or shapes) is deprecated. If you meant to do this, you must specify 'dtype=object' when creating the ndarray\n",
      "  return array(a, dtype, copy=False, order=order)\n",
      "C:\\Users\\dzemel\\Miniconda3\\lib\\site-packages\\numpy\\core\\_asarray.py:83: VisibleDeprecationWarning: Creating an ndarray from ragged nested sequences (which is a list-or-tuple of lists-or-tuples-or ndarrays with different lengths or shapes) is deprecated. If you meant to do this, you must specify 'dtype=object' when creating the ndarray\n",
      "  return array(a, dtype, copy=False, order=order)\n",
      "C:\\Users\\dzemel\\Miniconda3\\lib\\site-packages\\numpy\\core\\_asarray.py:83: VisibleDeprecationWarning: Creating an ndarray from ragged nested sequences (which is a list-or-tuple of lists-or-tuples-or ndarrays with different lengths or shapes) is deprecated. If you meant to do this, you must specify 'dtype=object' when creating the ndarray\n",
      "  return array(a, dtype, copy=False, order=order)\n",
      "C:\\Users\\dzemel\\Miniconda3\\lib\\site-packages\\numpy\\core\\_asarray.py:83: VisibleDeprecationWarning: Creating an ndarray from ragged nested sequences (which is a list-or-tuple of lists-or-tuples-or ndarrays with different lengths or shapes) is deprecated. If you meant to do this, you must specify 'dtype=object' when creating the ndarray\n",
      "  return array(a, dtype, copy=False, order=order)\n",
      "C:\\Users\\dzemel\\Miniconda3\\lib\\site-packages\\numpy\\core\\_asarray.py:83: VisibleDeprecationWarning: Creating an ndarray from ragged nested sequences (which is a list-or-tuple of lists-or-tuples-or ndarrays with different lengths or shapes) is deprecated. If you meant to do this, you must specify 'dtype=object' when creating the ndarray\n",
      "  return array(a, dtype, copy=False, order=order)\n",
      "C:\\Users\\dzemel\\Miniconda3\\lib\\site-packages\\numpy\\core\\_asarray.py:83: VisibleDeprecationWarning: Creating an ndarray from ragged nested sequences (which is a list-or-tuple of lists-or-tuples-or ndarrays with different lengths or shapes) is deprecated. If you meant to do this, you must specify 'dtype=object' when creating the ndarray\n",
      "  return array(a, dtype, copy=False, order=order)\n",
      "C:\\Users\\dzemel\\Miniconda3\\lib\\site-packages\\numpy\\core\\_asarray.py:83: VisibleDeprecationWarning: Creating an ndarray from ragged nested sequences (which is a list-or-tuple of lists-or-tuples-or ndarrays with different lengths or shapes) is deprecated. If you meant to do this, you must specify 'dtype=object' when creating the ndarray\n",
      "  return array(a, dtype, copy=False, order=order)\n",
      "C:\\Users\\dzemel\\Miniconda3\\lib\\site-packages\\numpy\\core\\_asarray.py:83: VisibleDeprecationWarning: Creating an ndarray from ragged nested sequences (which is a list-or-tuple of lists-or-tuples-or ndarrays with different lengths or shapes) is deprecated. If you meant to do this, you must specify 'dtype=object' when creating the ndarray\n",
      "  return array(a, dtype, copy=False, order=order)\n",
      "C:\\Users\\dzemel\\Miniconda3\\lib\\site-packages\\numpy\\core\\_asarray.py:83: VisibleDeprecationWarning: Creating an ndarray from ragged nested sequences (which is a list-or-tuple of lists-or-tuples-or ndarrays with different lengths or shapes) is deprecated. If you meant to do this, you must specify 'dtype=object' when creating the ndarray\n",
      "  return array(a, dtype, copy=False, order=order)\n",
      "C:\\Users\\dzemel\\Miniconda3\\lib\\site-packages\\numpy\\core\\_asarray.py:83: VisibleDeprecationWarning: Creating an ndarray from ragged nested sequences (which is a list-or-tuple of lists-or-tuples-or ndarrays with different lengths or shapes) is deprecated. If you meant to do this, you must specify 'dtype=object' when creating the ndarray\n",
      "  return array(a, dtype, copy=False, order=order)\n",
      "C:\\Users\\dzemel\\Miniconda3\\lib\\site-packages\\numpy\\core\\_asarray.py:83: VisibleDeprecationWarning: Creating an ndarray from ragged nested sequences (which is a list-or-tuple of lists-or-tuples-or ndarrays with different lengths or shapes) is deprecated. If you meant to do this, you must specify 'dtype=object' when creating the ndarray\n",
      "  return array(a, dtype, copy=False, order=order)\n",
      "C:\\Users\\dzemel\\Miniconda3\\lib\\site-packages\\numpy\\core\\_asarray.py:83: VisibleDeprecationWarning: Creating an ndarray from ragged nested sequences (which is a list-or-tuple of lists-or-tuples-or ndarrays with different lengths or shapes) is deprecated. If you meant to do this, you must specify 'dtype=object' when creating the ndarray\n",
      "  return array(a, dtype, copy=False, order=order)\n",
      "C:\\Users\\dzemel\\Miniconda3\\lib\\site-packages\\numpy\\core\\_asarray.py:83: VisibleDeprecationWarning: Creating an ndarray from ragged nested sequences (which is a list-or-tuple of lists-or-tuples-or ndarrays with different lengths or shapes) is deprecated. If you meant to do this, you must specify 'dtype=object' when creating the ndarray\n",
      "  return array(a, dtype, copy=False, order=order)\n",
      "C:\\Users\\dzemel\\Miniconda3\\lib\\site-packages\\numpy\\core\\_asarray.py:83: VisibleDeprecationWarning: Creating an ndarray from ragged nested sequences (which is a list-or-tuple of lists-or-tuples-or ndarrays with different lengths or shapes) is deprecated. If you meant to do this, you must specify 'dtype=object' when creating the ndarray\n",
      "  return array(a, dtype, copy=False, order=order)\n",
      "D:\\6OHDA\\IO.py:152: H5pyDeprecationWarning: dataset.value has been deprecated. Use dataset[()] instead.\n",
      "  speed = hf[m][s]['mvmt']['speed'].value\n",
      "C:\\Users\\dzemel\\Miniconda3\\lib\\site-packages\\numpy\\core\\_asarray.py:83: VisibleDeprecationWarning: Creating an ndarray from ragged nested sequences (which is a list-or-tuple of lists-or-tuples-or ndarrays with different lengths or shapes) is deprecated. If you meant to do this, you must specify 'dtype=object' when creating the ndarray\n",
      "  return array(a, dtype, copy=False, order=order)\n",
      "C:\\Users\\dzemel\\Miniconda3\\lib\\site-packages\\numpy\\core\\_asarray.py:83: VisibleDeprecationWarning: Creating an ndarray from ragged nested sequences (which is a list-or-tuple of lists-or-tuples-or ndarrays with different lengths or shapes) is deprecated. If you meant to do this, you must specify 'dtype=object' when creating the ndarray\n",
      "  return array(a, dtype, copy=False, order=order)\n",
      "C:\\Users\\dzemel\\Miniconda3\\lib\\site-packages\\numpy\\core\\_asarray.py:83: VisibleDeprecationWarning: Creating an ndarray from ragged nested sequences (which is a list-or-tuple of lists-or-tuples-or ndarrays with different lengths or shapes) is deprecated. If you meant to do this, you must specify 'dtype=object' when creating the ndarray\n",
      "  return array(a, dtype, copy=False, order=order)\n"
     ]
    },
    {
     "name": "stdout",
     "output_type": "stream",
     "text": [
      "cleaning up speed data\n",
      "cleaning up speed data\n",
      "I deleted session: 1208_day10\n",
      "I deleted session: 1208_day12\n",
      "I deleted session: 1208_day14\n",
      "I deleted session: 1208_day2\n",
      "I deleted session: 1208_day4\n",
      "I deleted session: 1208_day6\n",
      "I deleted session: 1208_day8\n"
     ]
    },
    {
     "name": "stderr",
     "output_type": "stream",
     "text": [
      "C:\\Users\\dzemel\\Miniconda3\\lib\\site-packages\\numpy\\core\\_asarray.py:83: VisibleDeprecationWarning: Creating an ndarray from ragged nested sequences (which is a list-or-tuple of lists-or-tuples-or ndarrays with different lengths or shapes) is deprecated. If you meant to do this, you must specify 'dtype=object' when creating the ndarray\n",
      "  return array(a, dtype, copy=False, order=order)\n",
      "C:\\Users\\dzemel\\Miniconda3\\lib\\site-packages\\numpy\\core\\_asarray.py:83: VisibleDeprecationWarning: Creating an ndarray from ragged nested sequences (which is a list-or-tuple of lists-or-tuples-or ndarrays with different lengths or shapes) is deprecated. If you meant to do this, you must specify 'dtype=object' when creating the ndarray\n",
      "  return array(a, dtype, copy=False, order=order)\n",
      "C:\\Users\\dzemel\\Miniconda3\\lib\\site-packages\\numpy\\core\\_asarray.py:83: VisibleDeprecationWarning: Creating an ndarray from ragged nested sequences (which is a list-or-tuple of lists-or-tuples-or ndarrays with different lengths or shapes) is deprecated. If you meant to do this, you must specify 'dtype=object' when creating the ndarray\n",
      "  return array(a, dtype, copy=False, order=order)\n",
      "C:\\Users\\dzemel\\Miniconda3\\lib\\site-packages\\numpy\\core\\_asarray.py:83: VisibleDeprecationWarning: Creating an ndarray from ragged nested sequences (which is a list-or-tuple of lists-or-tuples-or ndarrays with different lengths or shapes) is deprecated. If you meant to do this, you must specify 'dtype=object' when creating the ndarray\n",
      "  return array(a, dtype, copy=False, order=order)\n",
      "C:\\Users\\dzemel\\Miniconda3\\lib\\site-packages\\numpy\\core\\_asarray.py:83: VisibleDeprecationWarning: Creating an ndarray from ragged nested sequences (which is a list-or-tuple of lists-or-tuples-or ndarrays with different lengths or shapes) is deprecated. If you meant to do this, you must specify 'dtype=object' when creating the ndarray\n",
      "  return array(a, dtype, copy=False, order=order)\n",
      "C:\\Users\\dzemel\\Miniconda3\\lib\\site-packages\\numpy\\core\\_asarray.py:83: VisibleDeprecationWarning: Creating an ndarray from ragged nested sequences (which is a list-or-tuple of lists-or-tuples-or ndarrays with different lengths or shapes) is deprecated. If you meant to do this, you must specify 'dtype=object' when creating the ndarray\n",
      "  return array(a, dtype, copy=False, order=order)\n",
      "C:\\Users\\dzemel\\Miniconda3\\lib\\site-packages\\numpy\\core\\_asarray.py:83: VisibleDeprecationWarning: Creating an ndarray from ragged nested sequences (which is a list-or-tuple of lists-or-tuples-or ndarrays with different lengths or shapes) is deprecated. If you meant to do this, you must specify 'dtype=object' when creating the ndarray\n",
      "  return array(a, dtype, copy=False, order=order)\n",
      "C:\\Users\\dzemel\\Miniconda3\\lib\\site-packages\\numpy\\core\\_asarray.py:83: VisibleDeprecationWarning: Creating an ndarray from ragged nested sequences (which is a list-or-tuple of lists-or-tuples-or ndarrays with different lengths or shapes) is deprecated. If you meant to do this, you must specify 'dtype=object' when creating the ndarray\n",
      "  return array(a, dtype, copy=False, order=order)\n",
      "C:\\Users\\dzemel\\Miniconda3\\lib\\site-packages\\numpy\\core\\_asarray.py:83: VisibleDeprecationWarning: Creating an ndarray from ragged nested sequences (which is a list-or-tuple of lists-or-tuples-or ndarrays with different lengths or shapes) is deprecated. If you meant to do this, you must specify 'dtype=object' when creating the ndarray\n",
      "  return array(a, dtype, copy=False, order=order)\n",
      "C:\\Users\\dzemel\\Miniconda3\\lib\\site-packages\\numpy\\core\\_asarray.py:83: VisibleDeprecationWarning: Creating an ndarray from ragged nested sequences (which is a list-or-tuple of lists-or-tuples-or ndarrays with different lengths or shapes) is deprecated. If you meant to do this, you must specify 'dtype=object' when creating the ndarray\n",
      "  return array(a, dtype, copy=False, order=order)\n",
      "C:\\Users\\dzemel\\Miniconda3\\lib\\site-packages\\numpy\\core\\_asarray.py:83: VisibleDeprecationWarning: Creating an ndarray from ragged nested sequences (which is a list-or-tuple of lists-or-tuples-or ndarrays with different lengths or shapes) is deprecated. If you meant to do this, you must specify 'dtype=object' when creating the ndarray\n",
      "  return array(a, dtype, copy=False, order=order)\n",
      "C:\\Users\\dzemel\\Miniconda3\\lib\\site-packages\\numpy\\core\\_asarray.py:83: VisibleDeprecationWarning: Creating an ndarray from ragged nested sequences (which is a list-or-tuple of lists-or-tuples-or ndarrays with different lengths or shapes) is deprecated. If you meant to do this, you must specify 'dtype=object' when creating the ndarray\n",
      "  return array(a, dtype, copy=False, order=order)\n",
      "C:\\Users\\dzemel\\Miniconda3\\lib\\site-packages\\numpy\\core\\_asarray.py:83: VisibleDeprecationWarning: Creating an ndarray from ragged nested sequences (which is a list-or-tuple of lists-or-tuples-or ndarrays with different lengths or shapes) is deprecated. If you meant to do this, you must specify 'dtype=object' when creating the ndarray\n",
      "  return array(a, dtype, copy=False, order=order)\n",
      "C:\\Users\\dzemel\\Miniconda3\\lib\\site-packages\\numpy\\core\\_asarray.py:83: VisibleDeprecationWarning: Creating an ndarray from ragged nested sequences (which is a list-or-tuple of lists-or-tuples-or ndarrays with different lengths or shapes) is deprecated. If you meant to do this, you must specify 'dtype=object' when creating the ndarray\n",
      "  return array(a, dtype, copy=False, order=order)\n",
      "C:\\Users\\dzemel\\Miniconda3\\lib\\site-packages\\numpy\\core\\_asarray.py:83: VisibleDeprecationWarning: Creating an ndarray from ragged nested sequences (which is a list-or-tuple of lists-or-tuples-or ndarrays with different lengths or shapes) is deprecated. If you meant to do this, you must specify 'dtype=object' when creating the ndarray\n",
      "  return array(a, dtype, copy=False, order=order)\n",
      "C:\\Users\\dzemel\\Miniconda3\\lib\\site-packages\\numpy\\core\\_asarray.py:83: VisibleDeprecationWarning: Creating an ndarray from ragged nested sequences (which is a list-or-tuple of lists-or-tuples-or ndarrays with different lengths or shapes) is deprecated. If you meant to do this, you must specify 'dtype=object' when creating the ndarray\n",
      "  return array(a, dtype, copy=False, order=order)\n",
      "C:\\Users\\dzemel\\Miniconda3\\lib\\site-packages\\numpy\\core\\_asarray.py:83: VisibleDeprecationWarning: Creating an ndarray from ragged nested sequences (which is a list-or-tuple of lists-or-tuples-or ndarrays with different lengths or shapes) is deprecated. If you meant to do this, you must specify 'dtype=object' when creating the ndarray\n",
      "  return array(a, dtype, copy=False, order=order)\n",
      "C:\\Users\\dzemel\\Miniconda3\\lib\\site-packages\\numpy\\core\\_asarray.py:83: VisibleDeprecationWarning: Creating an ndarray from ragged nested sequences (which is a list-or-tuple of lists-or-tuples-or ndarrays with different lengths or shapes) is deprecated. If you meant to do this, you must specify 'dtype=object' when creating the ndarray\n",
      "  return array(a, dtype, copy=False, order=order)\n",
      "C:\\Users\\dzemel\\Miniconda3\\lib\\site-packages\\numpy\\core\\_asarray.py:83: VisibleDeprecationWarning: Creating an ndarray from ragged nested sequences (which is a list-or-tuple of lists-or-tuples-or ndarrays with different lengths or shapes) is deprecated. If you meant to do this, you must specify 'dtype=object' when creating the ndarray\n",
      "  return array(a, dtype, copy=False, order=order)\n",
      "C:\\Users\\dzemel\\Miniconda3\\lib\\site-packages\\numpy\\core\\_asarray.py:83: VisibleDeprecationWarning: Creating an ndarray from ragged nested sequences (which is a list-or-tuple of lists-or-tuples-or ndarrays with different lengths or shapes) is deprecated. If you meant to do this, you must specify 'dtype=object' when creating the ndarray\n",
      "  return array(a, dtype, copy=False, order=order)\n",
      "C:\\Users\\dzemel\\Miniconda3\\lib\\site-packages\\numpy\\core\\_asarray.py:83: VisibleDeprecationWarning: Creating an ndarray from ragged nested sequences (which is a list-or-tuple of lists-or-tuples-or ndarrays with different lengths or shapes) is deprecated. If you meant to do this, you must specify 'dtype=object' when creating the ndarray\n",
      "  return array(a, dtype, copy=False, order=order)\n",
      "C:\\Users\\dzemel\\Miniconda3\\lib\\site-packages\\numpy\\core\\_asarray.py:83: VisibleDeprecationWarning: Creating an ndarray from ragged nested sequences (which is a list-or-tuple of lists-or-tuples-or ndarrays with different lengths or shapes) is deprecated. If you meant to do this, you must specify 'dtype=object' when creating the ndarray\n",
      "  return array(a, dtype, copy=False, order=order)\n",
      "C:\\Users\\dzemel\\Miniconda3\\lib\\site-packages\\numpy\\core\\_asarray.py:83: VisibleDeprecationWarning: Creating an ndarray from ragged nested sequences (which is a list-or-tuple of lists-or-tuples-or ndarrays with different lengths or shapes) is deprecated. If you meant to do this, you must specify 'dtype=object' when creating the ndarray\n",
      "  return array(a, dtype, copy=False, order=order)\n"
     ]
    },
    {
     "name": "stderr",
     "output_type": "stream",
     "text": [
      "C:\\Users\\dzemel\\Miniconda3\\lib\\site-packages\\numpy\\core\\_asarray.py:83: VisibleDeprecationWarning: Creating an ndarray from ragged nested sequences (which is a list-or-tuple of lists-or-tuples-or ndarrays with different lengths or shapes) is deprecated. If you meant to do this, you must specify 'dtype=object' when creating the ndarray\n",
      "  return array(a, dtype, copy=False, order=order)\n",
      "C:\\Users\\dzemel\\Miniconda3\\lib\\site-packages\\numpy\\core\\_asarray.py:83: VisibleDeprecationWarning: Creating an ndarray from ragged nested sequences (which is a list-or-tuple of lists-or-tuples-or ndarrays with different lengths or shapes) is deprecated. If you meant to do this, you must specify 'dtype=object' when creating the ndarray\n",
      "  return array(a, dtype, copy=False, order=order)\n",
      "C:\\Users\\dzemel\\Miniconda3\\lib\\site-packages\\numpy\\core\\_asarray.py:83: VisibleDeprecationWarning: Creating an ndarray from ragged nested sequences (which is a list-or-tuple of lists-or-tuples-or ndarrays with different lengths or shapes) is deprecated. If you meant to do this, you must specify 'dtype=object' when creating the ndarray\n",
      "  return array(a, dtype, copy=False, order=order)\n",
      "C:\\Users\\dzemel\\Miniconda3\\lib\\site-packages\\numpy\\core\\_asarray.py:83: VisibleDeprecationWarning: Creating an ndarray from ragged nested sequences (which is a list-or-tuple of lists-or-tuples-or ndarrays with different lengths or shapes) is deprecated. If you meant to do this, you must specify 'dtype=object' when creating the ndarray\n",
      "  return array(a, dtype, copy=False, order=order)\n",
      "C:\\Users\\dzemel\\Miniconda3\\lib\\site-packages\\numpy\\core\\_asarray.py:83: VisibleDeprecationWarning: Creating an ndarray from ragged nested sequences (which is a list-or-tuple of lists-or-tuples-or ndarrays with different lengths or shapes) is deprecated. If you meant to do this, you must specify 'dtype=object' when creating the ndarray\n",
      "  return array(a, dtype, copy=False, order=order)\n",
      "C:\\Users\\dzemel\\Miniconda3\\lib\\site-packages\\numpy\\core\\_asarray.py:83: VisibleDeprecationWarning: Creating an ndarray from ragged nested sequences (which is a list-or-tuple of lists-or-tuples-or ndarrays with different lengths or shapes) is deprecated. If you meant to do this, you must specify 'dtype=object' when creating the ndarray\n",
      "  return array(a, dtype, copy=False, order=order)\n",
      "C:\\Users\\dzemel\\Miniconda3\\lib\\site-packages\\numpy\\core\\_asarray.py:83: VisibleDeprecationWarning: Creating an ndarray from ragged nested sequences (which is a list-or-tuple of lists-or-tuples-or ndarrays with different lengths or shapes) is deprecated. If you meant to do this, you must specify 'dtype=object' when creating the ndarray\n",
      "  return array(a, dtype, copy=False, order=order)\n",
      "C:\\Users\\dzemel\\Miniconda3\\lib\\site-packages\\numpy\\core\\_asarray.py:83: VisibleDeprecationWarning: Creating an ndarray from ragged nested sequences (which is a list-or-tuple of lists-or-tuples-or ndarrays with different lengths or shapes) is deprecated. If you meant to do this, you must specify 'dtype=object' when creating the ndarray\n",
      "  return array(a, dtype, copy=False, order=order)\n",
      "C:\\Users\\dzemel\\Miniconda3\\lib\\site-packages\\numpy\\core\\_asarray.py:83: VisibleDeprecationWarning: Creating an ndarray from ragged nested sequences (which is a list-or-tuple of lists-or-tuples-or ndarrays with different lengths or shapes) is deprecated. If you meant to do this, you must specify 'dtype=object' when creating the ndarray\n",
      "  return array(a, dtype, copy=False, order=order)\n",
      "C:\\Users\\dzemel\\Miniconda3\\lib\\site-packages\\numpy\\core\\_asarray.py:83: VisibleDeprecationWarning: Creating an ndarray from ragged nested sequences (which is a list-or-tuple of lists-or-tuples-or ndarrays with different lengths or shapes) is deprecated. If you meant to do this, you must specify 'dtype=object' when creating the ndarray\n",
      "  return array(a, dtype, copy=False, order=order)\n",
      "C:\\Users\\dzemel\\Miniconda3\\lib\\site-packages\\numpy\\core\\_asarray.py:83: VisibleDeprecationWarning: Creating an ndarray from ragged nested sequences (which is a list-or-tuple of lists-or-tuples-or ndarrays with different lengths or shapes) is deprecated. If you meant to do this, you must specify 'dtype=object' when creating the ndarray\n",
      "  return array(a, dtype, copy=False, order=order)\n",
      "C:\\Users\\dzemel\\Miniconda3\\lib\\site-packages\\numpy\\core\\_asarray.py:83: VisibleDeprecationWarning: Creating an ndarray from ragged nested sequences (which is a list-or-tuple of lists-or-tuples-or ndarrays with different lengths or shapes) is deprecated. If you meant to do this, you must specify 'dtype=object' when creating the ndarray\n",
      "  return array(a, dtype, copy=False, order=order)\n",
      "C:\\Users\\dzemel\\Miniconda3\\lib\\site-packages\\numpy\\core\\_asarray.py:83: VisibleDeprecationWarning: Creating an ndarray from ragged nested sequences (which is a list-or-tuple of lists-or-tuples-or ndarrays with different lengths or shapes) is deprecated. If you meant to do this, you must specify 'dtype=object' when creating the ndarray\n",
      "  return array(a, dtype, copy=False, order=order)\n",
      "C:\\Users\\dzemel\\Miniconda3\\lib\\site-packages\\numpy\\core\\_asarray.py:83: VisibleDeprecationWarning: Creating an ndarray from ragged nested sequences (which is a list-or-tuple of lists-or-tuples-or ndarrays with different lengths or shapes) is deprecated. If you meant to do this, you must specify 'dtype=object' when creating the ndarray\n",
      "  return array(a, dtype, copy=False, order=order)\n",
      "C:\\Users\\dzemel\\Miniconda3\\lib\\site-packages\\numpy\\core\\_asarray.py:83: VisibleDeprecationWarning: Creating an ndarray from ragged nested sequences (which is a list-or-tuple of lists-or-tuples-or ndarrays with different lengths or shapes) is deprecated. If you meant to do this, you must specify 'dtype=object' when creating the ndarray\n",
      "  return array(a, dtype, copy=False, order=order)\n",
      "C:\\Users\\dzemel\\Miniconda3\\lib\\site-packages\\numpy\\core\\_asarray.py:83: VisibleDeprecationWarning: Creating an ndarray from ragged nested sequences (which is a list-or-tuple of lists-or-tuples-or ndarrays with different lengths or shapes) is deprecated. If you meant to do this, you must specify 'dtype=object' when creating the ndarray\n",
      "  return array(a, dtype, copy=False, order=order)\n",
      "D:\\6OHDA\\IO.py:152: H5pyDeprecationWarning: dataset.value has been deprecated. Use dataset[()] instead.\n",
      "  speed = hf[m][s]['mvmt']['speed'].value\n",
      "C:\\Users\\dzemel\\Miniconda3\\lib\\site-packages\\numpy\\core\\_asarray.py:83: VisibleDeprecationWarning: Creating an ndarray from ragged nested sequences (which is a list-or-tuple of lists-or-tuples-or ndarrays with different lengths or shapes) is deprecated. If you meant to do this, you must specify 'dtype=object' when creating the ndarray\n",
      "  return array(a, dtype, copy=False, order=order)\n",
      "C:\\Users\\dzemel\\Miniconda3\\lib\\site-packages\\numpy\\core\\_asarray.py:83: VisibleDeprecationWarning: Creating an ndarray from ragged nested sequences (which is a list-or-tuple of lists-or-tuples-or ndarrays with different lengths or shapes) is deprecated. If you meant to do this, you must specify 'dtype=object' when creating the ndarray\n",
      "  return array(a, dtype, copy=False, order=order)\n"
     ]
    },
    {
     "name": "stdout",
     "output_type": "stream",
     "text": [
      "cleaning up speed data\n",
      "cleaning up speed data\n",
      "I deleted session: 1222_day11\n",
      "I deleted session: 1222_day13\n",
      "I deleted session: 1222_day2\n",
      "I deleted session: 1222_day3\n",
      "I deleted session: 1222_day5\n",
      "I deleted session: 1222_day7\n",
      "I deleted session: 1222_day9\n"
     ]
    },
    {
     "name": "stderr",
     "output_type": "stream",
     "text": [
      "C:\\Users\\dzemel\\Miniconda3\\lib\\site-packages\\numpy\\core\\_asarray.py:83: VisibleDeprecationWarning: Creating an ndarray from ragged nested sequences (which is a list-or-tuple of lists-or-tuples-or ndarrays with different lengths or shapes) is deprecated. If you meant to do this, you must specify 'dtype=object' when creating the ndarray\n",
      "  return array(a, dtype, copy=False, order=order)\n",
      "C:\\Users\\dzemel\\Miniconda3\\lib\\site-packages\\numpy\\core\\_asarray.py:83: VisibleDeprecationWarning: Creating an ndarray from ragged nested sequences (which is a list-or-tuple of lists-or-tuples-or ndarrays with different lengths or shapes) is deprecated. If you meant to do this, you must specify 'dtype=object' when creating the ndarray\n",
      "  return array(a, dtype, copy=False, order=order)\n",
      "C:\\Users\\dzemel\\Miniconda3\\lib\\site-packages\\numpy\\core\\_asarray.py:83: VisibleDeprecationWarning: Creating an ndarray from ragged nested sequences (which is a list-or-tuple of lists-or-tuples-or ndarrays with different lengths or shapes) is deprecated. If you meant to do this, you must specify 'dtype=object' when creating the ndarray\n",
      "  return array(a, dtype, copy=False, order=order)\n",
      "C:\\Users\\dzemel\\Miniconda3\\lib\\site-packages\\numpy\\core\\_asarray.py:83: VisibleDeprecationWarning: Creating an ndarray from ragged nested sequences (which is a list-or-tuple of lists-or-tuples-or ndarrays with different lengths or shapes) is deprecated. If you meant to do this, you must specify 'dtype=object' when creating the ndarray\n",
      "  return array(a, dtype, copy=False, order=order)\n",
      "C:\\Users\\dzemel\\Miniconda3\\lib\\site-packages\\numpy\\core\\_asarray.py:83: VisibleDeprecationWarning: Creating an ndarray from ragged nested sequences (which is a list-or-tuple of lists-or-tuples-or ndarrays with different lengths or shapes) is deprecated. If you meant to do this, you must specify 'dtype=object' when creating the ndarray\n",
      "  return array(a, dtype, copy=False, order=order)\n",
      "C:\\Users\\dzemel\\Miniconda3\\lib\\site-packages\\numpy\\core\\_asarray.py:83: VisibleDeprecationWarning: Creating an ndarray from ragged nested sequences (which is a list-or-tuple of lists-or-tuples-or ndarrays with different lengths or shapes) is deprecated. If you meant to do this, you must specify 'dtype=object' when creating the ndarray\n",
      "  return array(a, dtype, copy=False, order=order)\n",
      "C:\\Users\\dzemel\\Miniconda3\\lib\\site-packages\\numpy\\core\\_asarray.py:83: VisibleDeprecationWarning: Creating an ndarray from ragged nested sequences (which is a list-or-tuple of lists-or-tuples-or ndarrays with different lengths or shapes) is deprecated. If you meant to do this, you must specify 'dtype=object' when creating the ndarray\n",
      "  return array(a, dtype, copy=False, order=order)\n",
      "C:\\Users\\dzemel\\Miniconda3\\lib\\site-packages\\numpy\\core\\_asarray.py:83: VisibleDeprecationWarning: Creating an ndarray from ragged nested sequences (which is a list-or-tuple of lists-or-tuples-or ndarrays with different lengths or shapes) is deprecated. If you meant to do this, you must specify 'dtype=object' when creating the ndarray\n",
      "  return array(a, dtype, copy=False, order=order)\n",
      "C:\\Users\\dzemel\\Miniconda3\\lib\\site-packages\\numpy\\core\\_asarray.py:83: VisibleDeprecationWarning: Creating an ndarray from ragged nested sequences (which is a list-or-tuple of lists-or-tuples-or ndarrays with different lengths or shapes) is deprecated. If you meant to do this, you must specify 'dtype=object' when creating the ndarray\n",
      "  return array(a, dtype, copy=False, order=order)\n",
      "C:\\Users\\dzemel\\Miniconda3\\lib\\site-packages\\numpy\\core\\_asarray.py:83: VisibleDeprecationWarning: Creating an ndarray from ragged nested sequences (which is a list-or-tuple of lists-or-tuples-or ndarrays with different lengths or shapes) is deprecated. If you meant to do this, you must specify 'dtype=object' when creating the ndarray\n",
      "  return array(a, dtype, copy=False, order=order)\n",
      "C:\\Users\\dzemel\\Miniconda3\\lib\\site-packages\\numpy\\core\\_asarray.py:83: VisibleDeprecationWarning: Creating an ndarray from ragged nested sequences (which is a list-or-tuple of lists-or-tuples-or ndarrays with different lengths or shapes) is deprecated. If you meant to do this, you must specify 'dtype=object' when creating the ndarray\n",
      "  return array(a, dtype, copy=False, order=order)\n",
      "C:\\Users\\dzemel\\Miniconda3\\lib\\site-packages\\numpy\\core\\_asarray.py:83: VisibleDeprecationWarning: Creating an ndarray from ragged nested sequences (which is a list-or-tuple of lists-or-tuples-or ndarrays with different lengths or shapes) is deprecated. If you meant to do this, you must specify 'dtype=object' when creating the ndarray\n",
      "  return array(a, dtype, copy=False, order=order)\n",
      "C:\\Users\\dzemel\\Miniconda3\\lib\\site-packages\\numpy\\core\\_asarray.py:83: VisibleDeprecationWarning: Creating an ndarray from ragged nested sequences (which is a list-or-tuple of lists-or-tuples-or ndarrays with different lengths or shapes) is deprecated. If you meant to do this, you must specify 'dtype=object' when creating the ndarray\n",
      "  return array(a, dtype, copy=False, order=order)\n",
      "C:\\Users\\dzemel\\Miniconda3\\lib\\site-packages\\numpy\\core\\_asarray.py:83: VisibleDeprecationWarning: Creating an ndarray from ragged nested sequences (which is a list-or-tuple of lists-or-tuples-or ndarrays with different lengths or shapes) is deprecated. If you meant to do this, you must specify 'dtype=object' when creating the ndarray\n",
      "  return array(a, dtype, copy=False, order=order)\n",
      "C:\\Users\\dzemel\\Miniconda3\\lib\\site-packages\\numpy\\core\\_asarray.py:83: VisibleDeprecationWarning: Creating an ndarray from ragged nested sequences (which is a list-or-tuple of lists-or-tuples-or ndarrays with different lengths or shapes) is deprecated. If you meant to do this, you must specify 'dtype=object' when creating the ndarray\n",
      "  return array(a, dtype, copy=False, order=order)\n",
      "C:\\Users\\dzemel\\Miniconda3\\lib\\site-packages\\numpy\\core\\_asarray.py:83: VisibleDeprecationWarning: Creating an ndarray from ragged nested sequences (which is a list-or-tuple of lists-or-tuples-or ndarrays with different lengths or shapes) is deprecated. If you meant to do this, you must specify 'dtype=object' when creating the ndarray\n",
      "  return array(a, dtype, copy=False, order=order)\n",
      "C:\\Users\\dzemel\\Miniconda3\\lib\\site-packages\\numpy\\core\\_asarray.py:83: VisibleDeprecationWarning: Creating an ndarray from ragged nested sequences (which is a list-or-tuple of lists-or-tuples-or ndarrays with different lengths or shapes) is deprecated. If you meant to do this, you must specify 'dtype=object' when creating the ndarray\n",
      "  return array(a, dtype, copy=False, order=order)\n",
      "C:\\Users\\dzemel\\Miniconda3\\lib\\site-packages\\numpy\\core\\_asarray.py:83: VisibleDeprecationWarning: Creating an ndarray from ragged nested sequences (which is a list-or-tuple of lists-or-tuples-or ndarrays with different lengths or shapes) is deprecated. If you meant to do this, you must specify 'dtype=object' when creating the ndarray\n",
      "  return array(a, dtype, copy=False, order=order)\n",
      "C:\\Users\\dzemel\\Miniconda3\\lib\\site-packages\\numpy\\core\\_asarray.py:83: VisibleDeprecationWarning: Creating an ndarray from ragged nested sequences (which is a list-or-tuple of lists-or-tuples-or ndarrays with different lengths or shapes) is deprecated. If you meant to do this, you must specify 'dtype=object' when creating the ndarray\n",
      "  return array(a, dtype, copy=False, order=order)\n",
      "C:\\Users\\dzemel\\Miniconda3\\lib\\site-packages\\numpy\\core\\_asarray.py:83: VisibleDeprecationWarning: Creating an ndarray from ragged nested sequences (which is a list-or-tuple of lists-or-tuples-or ndarrays with different lengths or shapes) is deprecated. If you meant to do this, you must specify 'dtype=object' when creating the ndarray\n",
      "  return array(a, dtype, copy=False, order=order)\n",
      "C:\\Users\\dzemel\\Miniconda3\\lib\\site-packages\\numpy\\core\\_asarray.py:83: VisibleDeprecationWarning: Creating an ndarray from ragged nested sequences (which is a list-or-tuple of lists-or-tuples-or ndarrays with different lengths or shapes) is deprecated. If you meant to do this, you must specify 'dtype=object' when creating the ndarray\n",
      "  return array(a, dtype, copy=False, order=order)\n",
      "C:\\Users\\dzemel\\Miniconda3\\lib\\site-packages\\numpy\\core\\_asarray.py:83: VisibleDeprecationWarning: Creating an ndarray from ragged nested sequences (which is a list-or-tuple of lists-or-tuples-or ndarrays with different lengths or shapes) is deprecated. If you meant to do this, you must specify 'dtype=object' when creating the ndarray\n",
      "  return array(a, dtype, copy=False, order=order)\n",
      "C:\\Users\\dzemel\\Miniconda3\\lib\\site-packages\\numpy\\core\\_asarray.py:83: VisibleDeprecationWarning: Creating an ndarray from ragged nested sequences (which is a list-or-tuple of lists-or-tuples-or ndarrays with different lengths or shapes) is deprecated. If you meant to do this, you must specify 'dtype=object' when creating the ndarray\n",
      "  return array(a, dtype, copy=False, order=order)\n"
     ]
    },
    {
     "name": "stderr",
     "output_type": "stream",
     "text": [
      "C:\\Users\\dzemel\\Miniconda3\\lib\\site-packages\\numpy\\core\\_asarray.py:83: VisibleDeprecationWarning: Creating an ndarray from ragged nested sequences (which is a list-or-tuple of lists-or-tuples-or ndarrays with different lengths or shapes) is deprecated. If you meant to do this, you must specify 'dtype=object' when creating the ndarray\n",
      "  return array(a, dtype, copy=False, order=order)\n",
      "C:\\Users\\dzemel\\Miniconda3\\lib\\site-packages\\numpy\\core\\_asarray.py:83: VisibleDeprecationWarning: Creating an ndarray from ragged nested sequences (which is a list-or-tuple of lists-or-tuples-or ndarrays with different lengths or shapes) is deprecated. If you meant to do this, you must specify 'dtype=object' when creating the ndarray\n",
      "  return array(a, dtype, copy=False, order=order)\n",
      "C:\\Users\\dzemel\\Miniconda3\\lib\\site-packages\\numpy\\core\\_asarray.py:83: VisibleDeprecationWarning: Creating an ndarray from ragged nested sequences (which is a list-or-tuple of lists-or-tuples-or ndarrays with different lengths or shapes) is deprecated. If you meant to do this, you must specify 'dtype=object' when creating the ndarray\n",
      "  return array(a, dtype, copy=False, order=order)\n",
      "C:\\Users\\dzemel\\Miniconda3\\lib\\site-packages\\numpy\\core\\_asarray.py:83: VisibleDeprecationWarning: Creating an ndarray from ragged nested sequences (which is a list-or-tuple of lists-or-tuples-or ndarrays with different lengths or shapes) is deprecated. If you meant to do this, you must specify 'dtype=object' when creating the ndarray\n",
      "  return array(a, dtype, copy=False, order=order)\n",
      "C:\\Users\\dzemel\\Miniconda3\\lib\\site-packages\\numpy\\core\\_asarray.py:83: VisibleDeprecationWarning: Creating an ndarray from ragged nested sequences (which is a list-or-tuple of lists-or-tuples-or ndarrays with different lengths or shapes) is deprecated. If you meant to do this, you must specify 'dtype=object' when creating the ndarray\n",
      "  return array(a, dtype, copy=False, order=order)\n",
      "C:\\Users\\dzemel\\Miniconda3\\lib\\site-packages\\numpy\\core\\_asarray.py:83: VisibleDeprecationWarning: Creating an ndarray from ragged nested sequences (which is a list-or-tuple of lists-or-tuples-or ndarrays with different lengths or shapes) is deprecated. If you meant to do this, you must specify 'dtype=object' when creating the ndarray\n",
      "  return array(a, dtype, copy=False, order=order)\n",
      "C:\\Users\\dzemel\\Miniconda3\\lib\\site-packages\\numpy\\core\\_asarray.py:83: VisibleDeprecationWarning: Creating an ndarray from ragged nested sequences (which is a list-or-tuple of lists-or-tuples-or ndarrays with different lengths or shapes) is deprecated. If you meant to do this, you must specify 'dtype=object' when creating the ndarray\n",
      "  return array(a, dtype, copy=False, order=order)\n",
      "C:\\Users\\dzemel\\Miniconda3\\lib\\site-packages\\numpy\\core\\_asarray.py:83: VisibleDeprecationWarning: Creating an ndarray from ragged nested sequences (which is a list-or-tuple of lists-or-tuples-or ndarrays with different lengths or shapes) is deprecated. If you meant to do this, you must specify 'dtype=object' when creating the ndarray\n",
      "  return array(a, dtype, copy=False, order=order)\n",
      "C:\\Users\\dzemel\\Miniconda3\\lib\\site-packages\\numpy\\core\\_asarray.py:83: VisibleDeprecationWarning: Creating an ndarray from ragged nested sequences (which is a list-or-tuple of lists-or-tuples-or ndarrays with different lengths or shapes) is deprecated. If you meant to do this, you must specify 'dtype=object' when creating the ndarray\n",
      "  return array(a, dtype, copy=False, order=order)\n",
      "C:\\Users\\dzemel\\Miniconda3\\lib\\site-packages\\numpy\\core\\_asarray.py:83: VisibleDeprecationWarning: Creating an ndarray from ragged nested sequences (which is a list-or-tuple of lists-or-tuples-or ndarrays with different lengths or shapes) is deprecated. If you meant to do this, you must specify 'dtype=object' when creating the ndarray\n",
      "  return array(a, dtype, copy=False, order=order)\n",
      "C:\\Users\\dzemel\\Miniconda3\\lib\\site-packages\\numpy\\core\\_asarray.py:83: VisibleDeprecationWarning: Creating an ndarray from ragged nested sequences (which is a list-or-tuple of lists-or-tuples-or ndarrays with different lengths or shapes) is deprecated. If you meant to do this, you must specify 'dtype=object' when creating the ndarray\n",
      "  return array(a, dtype, copy=False, order=order)\n",
      "C:\\Users\\dzemel\\Miniconda3\\lib\\site-packages\\numpy\\core\\_asarray.py:83: VisibleDeprecationWarning: Creating an ndarray from ragged nested sequences (which is a list-or-tuple of lists-or-tuples-or ndarrays with different lengths or shapes) is deprecated. If you meant to do this, you must specify 'dtype=object' when creating the ndarray\n",
      "  return array(a, dtype, copy=False, order=order)\n",
      "C:\\Users\\dzemel\\Miniconda3\\lib\\site-packages\\numpy\\core\\_asarray.py:83: VisibleDeprecationWarning: Creating an ndarray from ragged nested sequences (which is a list-or-tuple of lists-or-tuples-or ndarrays with different lengths or shapes) is deprecated. If you meant to do this, you must specify 'dtype=object' when creating the ndarray\n",
      "  return array(a, dtype, copy=False, order=order)\n",
      "C:\\Users\\dzemel\\Miniconda3\\lib\\site-packages\\numpy\\core\\_asarray.py:83: VisibleDeprecationWarning: Creating an ndarray from ragged nested sequences (which is a list-or-tuple of lists-or-tuples-or ndarrays with different lengths or shapes) is deprecated. If you meant to do this, you must specify 'dtype=object' when creating the ndarray\n",
      "  return array(a, dtype, copy=False, order=order)\n",
      "C:\\Users\\dzemel\\Miniconda3\\lib\\site-packages\\numpy\\core\\_asarray.py:83: VisibleDeprecationWarning: Creating an ndarray from ragged nested sequences (which is a list-or-tuple of lists-or-tuples-or ndarrays with different lengths or shapes) is deprecated. If you meant to do this, you must specify 'dtype=object' when creating the ndarray\n",
      "  return array(a, dtype, copy=False, order=order)\n",
      "C:\\Users\\dzemel\\Miniconda3\\lib\\site-packages\\numpy\\core\\_asarray.py:83: VisibleDeprecationWarning: Creating an ndarray from ragged nested sequences (which is a list-or-tuple of lists-or-tuples-or ndarrays with different lengths or shapes) is deprecated. If you meant to do this, you must specify 'dtype=object' when creating the ndarray\n",
      "  return array(a, dtype, copy=False, order=order)\n",
      "C:\\Users\\dzemel\\Miniconda3\\lib\\site-packages\\numpy\\core\\_asarray.py:83: VisibleDeprecationWarning: Creating an ndarray from ragged nested sequences (which is a list-or-tuple of lists-or-tuples-or ndarrays with different lengths or shapes) is deprecated. If you meant to do this, you must specify 'dtype=object' when creating the ndarray\n",
      "  return array(a, dtype, copy=False, order=order)\n",
      "D:\\6OHDA\\IO.py:152: H5pyDeprecationWarning: dataset.value has been deprecated. Use dataset[()] instead.\n",
      "  speed = hf[m][s]['mvmt']['speed'].value\n",
      "C:\\Users\\dzemel\\Miniconda3\\lib\\site-packages\\numpy\\core\\_asarray.py:83: VisibleDeprecationWarning: Creating an ndarray from ragged nested sequences (which is a list-or-tuple of lists-or-tuples-or ndarrays with different lengths or shapes) is deprecated. If you meant to do this, you must specify 'dtype=object' when creating the ndarray\n",
      "  return array(a, dtype, copy=False, order=order)\n"
     ]
    },
    {
     "name": "stdout",
     "output_type": "stream",
     "text": [
      "cleaning up speed data\n",
      "cleaning up speed data\n"
     ]
    },
    {
     "name": "stderr",
     "output_type": "stream",
     "text": [
      "C:\\Users\\dzemel\\Miniconda3\\lib\\site-packages\\numpy\\core\\_asarray.py:83: VisibleDeprecationWarning: Creating an ndarray from ragged nested sequences (which is a list-or-tuple of lists-or-tuples-or ndarrays with different lengths or shapes) is deprecated. If you meant to do this, you must specify 'dtype=object' when creating the ndarray\n",
      "  return array(a, dtype, copy=False, order=order)\n",
      "C:\\Users\\dzemel\\Miniconda3\\lib\\site-packages\\numpy\\core\\_asarray.py:83: VisibleDeprecationWarning: Creating an ndarray from ragged nested sequences (which is a list-or-tuple of lists-or-tuples-or ndarrays with different lengths or shapes) is deprecated. If you meant to do this, you must specify 'dtype=object' when creating the ndarray\n",
      "  return array(a, dtype, copy=False, order=order)\n",
      "C:\\Users\\dzemel\\Miniconda3\\lib\\site-packages\\numpy\\core\\_asarray.py:83: VisibleDeprecationWarning: Creating an ndarray from ragged nested sequences (which is a list-or-tuple of lists-or-tuples-or ndarrays with different lengths or shapes) is deprecated. If you meant to do this, you must specify 'dtype=object' when creating the ndarray\n",
      "  return array(a, dtype, copy=False, order=order)\n",
      "C:\\Users\\dzemel\\Miniconda3\\lib\\site-packages\\numpy\\core\\_asarray.py:83: VisibleDeprecationWarning: Creating an ndarray from ragged nested sequences (which is a list-or-tuple of lists-or-tuples-or ndarrays with different lengths or shapes) is deprecated. If you meant to do this, you must specify 'dtype=object' when creating the ndarray\n",
      "  return array(a, dtype, copy=False, order=order)\n",
      "C:\\Users\\dzemel\\Miniconda3\\lib\\site-packages\\numpy\\core\\_asarray.py:83: VisibleDeprecationWarning: Creating an ndarray from ragged nested sequences (which is a list-or-tuple of lists-or-tuples-or ndarrays with different lengths or shapes) is deprecated. If you meant to do this, you must specify 'dtype=object' when creating the ndarray\n",
      "  return array(a, dtype, copy=False, order=order)\n",
      "C:\\Users\\dzemel\\Miniconda3\\lib\\site-packages\\numpy\\core\\_asarray.py:83: VisibleDeprecationWarning: Creating an ndarray from ragged nested sequences (which is a list-or-tuple of lists-or-tuples-or ndarrays with different lengths or shapes) is deprecated. If you meant to do this, you must specify 'dtype=object' when creating the ndarray\n",
      "  return array(a, dtype, copy=False, order=order)\n",
      "C:\\Users\\dzemel\\Miniconda3\\lib\\site-packages\\numpy\\core\\_asarray.py:83: VisibleDeprecationWarning: Creating an ndarray from ragged nested sequences (which is a list-or-tuple of lists-or-tuples-or ndarrays with different lengths or shapes) is deprecated. If you meant to do this, you must specify 'dtype=object' when creating the ndarray\n",
      "  return array(a, dtype, copy=False, order=order)\n",
      "C:\\Users\\dzemel\\Miniconda3\\lib\\site-packages\\numpy\\core\\_asarray.py:83: VisibleDeprecationWarning: Creating an ndarray from ragged nested sequences (which is a list-or-tuple of lists-or-tuples-or ndarrays with different lengths or shapes) is deprecated. If you meant to do this, you must specify 'dtype=object' when creating the ndarray\n",
      "  return array(a, dtype, copy=False, order=order)\n",
      "C:\\Users\\dzemel\\Miniconda3\\lib\\site-packages\\numpy\\core\\_asarray.py:83: VisibleDeprecationWarning: Creating an ndarray from ragged nested sequences (which is a list-or-tuple of lists-or-tuples-or ndarrays with different lengths or shapes) is deprecated. If you meant to do this, you must specify 'dtype=object' when creating the ndarray\n",
      "  return array(a, dtype, copy=False, order=order)\n",
      "C:\\Users\\dzemel\\Miniconda3\\lib\\site-packages\\numpy\\core\\_asarray.py:83: VisibleDeprecationWarning: Creating an ndarray from ragged nested sequences (which is a list-or-tuple of lists-or-tuples-or ndarrays with different lengths or shapes) is deprecated. If you meant to do this, you must specify 'dtype=object' when creating the ndarray\n",
      "  return array(a, dtype, copy=False, order=order)\n",
      "C:\\Users\\dzemel\\Miniconda3\\lib\\site-packages\\numpy\\core\\_asarray.py:83: VisibleDeprecationWarning: Creating an ndarray from ragged nested sequences (which is a list-or-tuple of lists-or-tuples-or ndarrays with different lengths or shapes) is deprecated. If you meant to do this, you must specify 'dtype=object' when creating the ndarray\n",
      "  return array(a, dtype, copy=False, order=order)\n",
      "D:\\6OHDA\\IO.py:152: H5pyDeprecationWarning: dataset.value has been deprecated. Use dataset[()] instead.\n",
      "  speed = hf[m][s]['mvmt']['speed'].value\n",
      "C:\\Users\\dzemel\\Miniconda3\\lib\\site-packages\\numpy\\core\\_asarray.py:83: VisibleDeprecationWarning: Creating an ndarray from ragged nested sequences (which is a list-or-tuple of lists-or-tuples-or ndarrays with different lengths or shapes) is deprecated. If you meant to do this, you must specify 'dtype=object' when creating the ndarray\n",
      "  return array(a, dtype, copy=False, order=order)\n"
     ]
    },
    {
     "name": "stdout",
     "output_type": "stream",
     "text": [
      "cleaning up speed data\n",
      "cleaning up speed data\n",
      "I deleted session: 1236_day1\n",
      "I deleted session: 1236_day11\n",
      "I deleted session: 1236_day13\n",
      "I deleted session: 1236_day3\n",
      "I deleted session: 1236_day5\n",
      "I deleted session: 1236_day7\n",
      "I deleted session: 1236_day9\n"
     ]
    },
    {
     "name": "stderr",
     "output_type": "stream",
     "text": [
      "C:\\Users\\dzemel\\Miniconda3\\lib\\site-packages\\numpy\\core\\_asarray.py:83: VisibleDeprecationWarning: Creating an ndarray from ragged nested sequences (which is a list-or-tuple of lists-or-tuples-or ndarrays with different lengths or shapes) is deprecated. If you meant to do this, you must specify 'dtype=object' when creating the ndarray\n",
      "  return array(a, dtype, copy=False, order=order)\n",
      "C:\\Users\\dzemel\\Miniconda3\\lib\\site-packages\\numpy\\core\\_asarray.py:83: VisibleDeprecationWarning: Creating an ndarray from ragged nested sequences (which is a list-or-tuple of lists-or-tuples-or ndarrays with different lengths or shapes) is deprecated. If you meant to do this, you must specify 'dtype=object' when creating the ndarray\n",
      "  return array(a, dtype, copy=False, order=order)\n",
      "C:\\Users\\dzemel\\Miniconda3\\lib\\site-packages\\numpy\\core\\_asarray.py:83: VisibleDeprecationWarning: Creating an ndarray from ragged nested sequences (which is a list-or-tuple of lists-or-tuples-or ndarrays with different lengths or shapes) is deprecated. If you meant to do this, you must specify 'dtype=object' when creating the ndarray\n",
      "  return array(a, dtype, copy=False, order=order)\n",
      "C:\\Users\\dzemel\\Miniconda3\\lib\\site-packages\\numpy\\core\\_asarray.py:83: VisibleDeprecationWarning: Creating an ndarray from ragged nested sequences (which is a list-or-tuple of lists-or-tuples-or ndarrays with different lengths or shapes) is deprecated. If you meant to do this, you must specify 'dtype=object' when creating the ndarray\n",
      "  return array(a, dtype, copy=False, order=order)\n",
      "C:\\Users\\dzemel\\Miniconda3\\lib\\site-packages\\numpy\\core\\_asarray.py:83: VisibleDeprecationWarning: Creating an ndarray from ragged nested sequences (which is a list-or-tuple of lists-or-tuples-or ndarrays with different lengths or shapes) is deprecated. If you meant to do this, you must specify 'dtype=object' when creating the ndarray\n",
      "  return array(a, dtype, copy=False, order=order)\n",
      "C:\\Users\\dzemel\\Miniconda3\\lib\\site-packages\\numpy\\core\\_asarray.py:83: VisibleDeprecationWarning: Creating an ndarray from ragged nested sequences (which is a list-or-tuple of lists-or-tuples-or ndarrays with different lengths or shapes) is deprecated. If you meant to do this, you must specify 'dtype=object' when creating the ndarray\n",
      "  return array(a, dtype, copy=False, order=order)\n",
      "C:\\Users\\dzemel\\Miniconda3\\lib\\site-packages\\numpy\\core\\_asarray.py:83: VisibleDeprecationWarning: Creating an ndarray from ragged nested sequences (which is a list-or-tuple of lists-or-tuples-or ndarrays with different lengths or shapes) is deprecated. If you meant to do this, you must specify 'dtype=object' when creating the ndarray\n",
      "  return array(a, dtype, copy=False, order=order)\n",
      "C:\\Users\\dzemel\\Miniconda3\\lib\\site-packages\\numpy\\core\\_asarray.py:83: VisibleDeprecationWarning: Creating an ndarray from ragged nested sequences (which is a list-or-tuple of lists-or-tuples-or ndarrays with different lengths or shapes) is deprecated. If you meant to do this, you must specify 'dtype=object' when creating the ndarray\n",
      "  return array(a, dtype, copy=False, order=order)\n",
      "C:\\Users\\dzemel\\Miniconda3\\lib\\site-packages\\numpy\\core\\_asarray.py:83: VisibleDeprecationWarning: Creating an ndarray from ragged nested sequences (which is a list-or-tuple of lists-or-tuples-or ndarrays with different lengths or shapes) is deprecated. If you meant to do this, you must specify 'dtype=object' when creating the ndarray\n",
      "  return array(a, dtype, copy=False, order=order)\n",
      "C:\\Users\\dzemel\\Miniconda3\\lib\\site-packages\\numpy\\core\\_asarray.py:83: VisibleDeprecationWarning: Creating an ndarray from ragged nested sequences (which is a list-or-tuple of lists-or-tuples-or ndarrays with different lengths or shapes) is deprecated. If you meant to do this, you must specify 'dtype=object' when creating the ndarray\n",
      "  return array(a, dtype, copy=False, order=order)\n",
      "C:\\Users\\dzemel\\Miniconda3\\lib\\site-packages\\numpy\\core\\_asarray.py:83: VisibleDeprecationWarning: Creating an ndarray from ragged nested sequences (which is a list-or-tuple of lists-or-tuples-or ndarrays with different lengths or shapes) is deprecated. If you meant to do this, you must specify 'dtype=object' when creating the ndarray\n",
      "  return array(a, dtype, copy=False, order=order)\n",
      "C:\\Users\\dzemel\\Miniconda3\\lib\\site-packages\\numpy\\core\\_asarray.py:83: VisibleDeprecationWarning: Creating an ndarray from ragged nested sequences (which is a list-or-tuple of lists-or-tuples-or ndarrays with different lengths or shapes) is deprecated. If you meant to do this, you must specify 'dtype=object' when creating the ndarray\n",
      "  return array(a, dtype, copy=False, order=order)\n",
      "C:\\Users\\dzemel\\Miniconda3\\lib\\site-packages\\numpy\\core\\_asarray.py:83: VisibleDeprecationWarning: Creating an ndarray from ragged nested sequences (which is a list-or-tuple of lists-or-tuples-or ndarrays with different lengths or shapes) is deprecated. If you meant to do this, you must specify 'dtype=object' when creating the ndarray\n",
      "  return array(a, dtype, copy=False, order=order)\n",
      "C:\\Users\\dzemel\\Miniconda3\\lib\\site-packages\\numpy\\core\\_asarray.py:83: VisibleDeprecationWarning: Creating an ndarray from ragged nested sequences (which is a list-or-tuple of lists-or-tuples-or ndarrays with different lengths or shapes) is deprecated. If you meant to do this, you must specify 'dtype=object' when creating the ndarray\n",
      "  return array(a, dtype, copy=False, order=order)\n",
      "C:\\Users\\dzemel\\Miniconda3\\lib\\site-packages\\numpy\\core\\_asarray.py:83: VisibleDeprecationWarning: Creating an ndarray from ragged nested sequences (which is a list-or-tuple of lists-or-tuples-or ndarrays with different lengths or shapes) is deprecated. If you meant to do this, you must specify 'dtype=object' when creating the ndarray\n",
      "  return array(a, dtype, copy=False, order=order)\n",
      "C:\\Users\\dzemel\\Miniconda3\\lib\\site-packages\\numpy\\core\\_asarray.py:83: VisibleDeprecationWarning: Creating an ndarray from ragged nested sequences (which is a list-or-tuple of lists-or-tuples-or ndarrays with different lengths or shapes) is deprecated. If you meant to do this, you must specify 'dtype=object' when creating the ndarray\n",
      "  return array(a, dtype, copy=False, order=order)\n",
      "C:\\Users\\dzemel\\Miniconda3\\lib\\site-packages\\numpy\\core\\_asarray.py:83: VisibleDeprecationWarning: Creating an ndarray from ragged nested sequences (which is a list-or-tuple of lists-or-tuples-or ndarrays with different lengths or shapes) is deprecated. If you meant to do this, you must specify 'dtype=object' when creating the ndarray\n",
      "  return array(a, dtype, copy=False, order=order)\n",
      "C:\\Users\\dzemel\\Miniconda3\\lib\\site-packages\\numpy\\core\\_asarray.py:83: VisibleDeprecationWarning: Creating an ndarray from ragged nested sequences (which is a list-or-tuple of lists-or-tuples-or ndarrays with different lengths or shapes) is deprecated. If you meant to do this, you must specify 'dtype=object' when creating the ndarray\n",
      "  return array(a, dtype, copy=False, order=order)\n",
      "C:\\Users\\dzemel\\Miniconda3\\lib\\site-packages\\numpy\\core\\_asarray.py:83: VisibleDeprecationWarning: Creating an ndarray from ragged nested sequences (which is a list-or-tuple of lists-or-tuples-or ndarrays with different lengths or shapes) is deprecated. If you meant to do this, you must specify 'dtype=object' when creating the ndarray\n",
      "  return array(a, dtype, copy=False, order=order)\n",
      "C:\\Users\\dzemel\\Miniconda3\\lib\\site-packages\\numpy\\core\\_asarray.py:83: VisibleDeprecationWarning: Creating an ndarray from ragged nested sequences (which is a list-or-tuple of lists-or-tuples-or ndarrays with different lengths or shapes) is deprecated. If you meant to do this, you must specify 'dtype=object' when creating the ndarray\n",
      "  return array(a, dtype, copy=False, order=order)\n",
      "C:\\Users\\dzemel\\Miniconda3\\lib\\site-packages\\numpy\\core\\_asarray.py:83: VisibleDeprecationWarning: Creating an ndarray from ragged nested sequences (which is a list-or-tuple of lists-or-tuples-or ndarrays with different lengths or shapes) is deprecated. If you meant to do this, you must specify 'dtype=object' when creating the ndarray\n",
      "  return array(a, dtype, copy=False, order=order)\n",
      "C:\\Users\\dzemel\\Miniconda3\\lib\\site-packages\\numpy\\core\\_asarray.py:83: VisibleDeprecationWarning: Creating an ndarray from ragged nested sequences (which is a list-or-tuple of lists-or-tuples-or ndarrays with different lengths or shapes) is deprecated. If you meant to do this, you must specify 'dtype=object' when creating the ndarray\n",
      "  return array(a, dtype, copy=False, order=order)\n",
      "C:\\Users\\dzemel\\Miniconda3\\lib\\site-packages\\numpy\\core\\_asarray.py:83: VisibleDeprecationWarning: Creating an ndarray from ragged nested sequences (which is a list-or-tuple of lists-or-tuples-or ndarrays with different lengths or shapes) is deprecated. If you meant to do this, you must specify 'dtype=object' when creating the ndarray\n",
      "  return array(a, dtype, copy=False, order=order)\n"
     ]
    },
    {
     "name": "stderr",
     "output_type": "stream",
     "text": [
      "C:\\Users\\dzemel\\Miniconda3\\lib\\site-packages\\numpy\\core\\_asarray.py:83: VisibleDeprecationWarning: Creating an ndarray from ragged nested sequences (which is a list-or-tuple of lists-or-tuples-or ndarrays with different lengths or shapes) is deprecated. If you meant to do this, you must specify 'dtype=object' when creating the ndarray\n",
      "  return array(a, dtype, copy=False, order=order)\n",
      "C:\\Users\\dzemel\\Miniconda3\\lib\\site-packages\\numpy\\core\\_asarray.py:83: VisibleDeprecationWarning: Creating an ndarray from ragged nested sequences (which is a list-or-tuple of lists-or-tuples-or ndarrays with different lengths or shapes) is deprecated. If you meant to do this, you must specify 'dtype=object' when creating the ndarray\n",
      "  return array(a, dtype, copy=False, order=order)\n",
      "C:\\Users\\dzemel\\Miniconda3\\lib\\site-packages\\numpy\\core\\_asarray.py:83: VisibleDeprecationWarning: Creating an ndarray from ragged nested sequences (which is a list-or-tuple of lists-or-tuples-or ndarrays with different lengths or shapes) is deprecated. If you meant to do this, you must specify 'dtype=object' when creating the ndarray\n",
      "  return array(a, dtype, copy=False, order=order)\n",
      "C:\\Users\\dzemel\\Miniconda3\\lib\\site-packages\\numpy\\core\\_asarray.py:83: VisibleDeprecationWarning: Creating an ndarray from ragged nested sequences (which is a list-or-tuple of lists-or-tuples-or ndarrays with different lengths or shapes) is deprecated. If you meant to do this, you must specify 'dtype=object' when creating the ndarray\n",
      "  return array(a, dtype, copy=False, order=order)\n",
      "C:\\Users\\dzemel\\Miniconda3\\lib\\site-packages\\numpy\\core\\_asarray.py:83: VisibleDeprecationWarning: Creating an ndarray from ragged nested sequences (which is a list-or-tuple of lists-or-tuples-or ndarrays with different lengths or shapes) is deprecated. If you meant to do this, you must specify 'dtype=object' when creating the ndarray\n",
      "  return array(a, dtype, copy=False, order=order)\n",
      "C:\\Users\\dzemel\\Miniconda3\\lib\\site-packages\\numpy\\core\\_asarray.py:83: VisibleDeprecationWarning: Creating an ndarray from ragged nested sequences (which is a list-or-tuple of lists-or-tuples-or ndarrays with different lengths or shapes) is deprecated. If you meant to do this, you must specify 'dtype=object' when creating the ndarray\n",
      "  return array(a, dtype, copy=False, order=order)\n",
      "C:\\Users\\dzemel\\Miniconda3\\lib\\site-packages\\numpy\\core\\_asarray.py:83: VisibleDeprecationWarning: Creating an ndarray from ragged nested sequences (which is a list-or-tuple of lists-or-tuples-or ndarrays with different lengths or shapes) is deprecated. If you meant to do this, you must specify 'dtype=object' when creating the ndarray\n",
      "  return array(a, dtype, copy=False, order=order)\n",
      "C:\\Users\\dzemel\\Miniconda3\\lib\\site-packages\\numpy\\core\\_asarray.py:83: VisibleDeprecationWarning: Creating an ndarray from ragged nested sequences (which is a list-or-tuple of lists-or-tuples-or ndarrays with different lengths or shapes) is deprecated. If you meant to do this, you must specify 'dtype=object' when creating the ndarray\n",
      "  return array(a, dtype, copy=False, order=order)\n",
      "C:\\Users\\dzemel\\Miniconda3\\lib\\site-packages\\numpy\\core\\_asarray.py:83: VisibleDeprecationWarning: Creating an ndarray from ragged nested sequences (which is a list-or-tuple of lists-or-tuples-or ndarrays with different lengths or shapes) is deprecated. If you meant to do this, you must specify 'dtype=object' when creating the ndarray\n",
      "  return array(a, dtype, copy=False, order=order)\n",
      "C:\\Users\\dzemel\\Miniconda3\\lib\\site-packages\\numpy\\core\\_asarray.py:83: VisibleDeprecationWarning: Creating an ndarray from ragged nested sequences (which is a list-or-tuple of lists-or-tuples-or ndarrays with different lengths or shapes) is deprecated. If you meant to do this, you must specify 'dtype=object' when creating the ndarray\n",
      "  return array(a, dtype, copy=False, order=order)\n",
      "C:\\Users\\dzemel\\Miniconda3\\lib\\site-packages\\numpy\\core\\_asarray.py:83: VisibleDeprecationWarning: Creating an ndarray from ragged nested sequences (which is a list-or-tuple of lists-or-tuples-or ndarrays with different lengths or shapes) is deprecated. If you meant to do this, you must specify 'dtype=object' when creating the ndarray\n",
      "  return array(a, dtype, copy=False, order=order)\n",
      "C:\\Users\\dzemel\\Miniconda3\\lib\\site-packages\\numpy\\core\\_asarray.py:83: VisibleDeprecationWarning: Creating an ndarray from ragged nested sequences (which is a list-or-tuple of lists-or-tuples-or ndarrays with different lengths or shapes) is deprecated. If you meant to do this, you must specify 'dtype=object' when creating the ndarray\n",
      "  return array(a, dtype, copy=False, order=order)\n",
      "C:\\Users\\dzemel\\Miniconda3\\lib\\site-packages\\numpy\\core\\_asarray.py:83: VisibleDeprecationWarning: Creating an ndarray from ragged nested sequences (which is a list-or-tuple of lists-or-tuples-or ndarrays with different lengths or shapes) is deprecated. If you meant to do this, you must specify 'dtype=object' when creating the ndarray\n",
      "  return array(a, dtype, copy=False, order=order)\n",
      "C:\\Users\\dzemel\\Miniconda3\\lib\\site-packages\\numpy\\core\\_asarray.py:83: VisibleDeprecationWarning: Creating an ndarray from ragged nested sequences (which is a list-or-tuple of lists-or-tuples-or ndarrays with different lengths or shapes) is deprecated. If you meant to do this, you must specify 'dtype=object' when creating the ndarray\n",
      "  return array(a, dtype, copy=False, order=order)\n",
      "C:\\Users\\dzemel\\Miniconda3\\lib\\site-packages\\numpy\\core\\_asarray.py:83: VisibleDeprecationWarning: Creating an ndarray from ragged nested sequences (which is a list-or-tuple of lists-or-tuples-or ndarrays with different lengths or shapes) is deprecated. If you meant to do this, you must specify 'dtype=object' when creating the ndarray\n",
      "  return array(a, dtype, copy=False, order=order)\n",
      "C:\\Users\\dzemel\\Miniconda3\\lib\\site-packages\\numpy\\core\\_asarray.py:83: VisibleDeprecationWarning: Creating an ndarray from ragged nested sequences (which is a list-or-tuple of lists-or-tuples-or ndarrays with different lengths or shapes) is deprecated. If you meant to do this, you must specify 'dtype=object' when creating the ndarray\n",
      "  return array(a, dtype, copy=False, order=order)\n",
      "C:\\Users\\dzemel\\Miniconda3\\lib\\site-packages\\numpy\\core\\_asarray.py:83: VisibleDeprecationWarning: Creating an ndarray from ragged nested sequences (which is a list-or-tuple of lists-or-tuples-or ndarrays with different lengths or shapes) is deprecated. If you meant to do this, you must specify 'dtype=object' when creating the ndarray\n",
      "  return array(a, dtype, copy=False, order=order)\n",
      "C:\\Users\\dzemel\\Miniconda3\\lib\\site-packages\\numpy\\core\\_asarray.py:83: VisibleDeprecationWarning: Creating an ndarray from ragged nested sequences (which is a list-or-tuple of lists-or-tuples-or ndarrays with different lengths or shapes) is deprecated. If you meant to do this, you must specify 'dtype=object' when creating the ndarray\n",
      "  return array(a, dtype, copy=False, order=order)\n",
      "D:\\6OHDA\\IO.py:152: H5pyDeprecationWarning: dataset.value has been deprecated. Use dataset[()] instead.\n",
      "  speed = hf[m][s]['mvmt']['speed'].value\n",
      "C:\\Users\\dzemel\\Miniconda3\\lib\\site-packages\\numpy\\core\\_asarray.py:83: VisibleDeprecationWarning: Creating an ndarray from ragged nested sequences (which is a list-or-tuple of lists-or-tuples-or ndarrays with different lengths or shapes) is deprecated. If you meant to do this, you must specify 'dtype=object' when creating the ndarray\n",
      "  return array(a, dtype, copy=False, order=order)\n"
     ]
    },
    {
     "name": "stdout",
     "output_type": "stream",
     "text": [
      "cleaning up speed data\n",
      "cleaning up speed data\n"
     ]
    },
    {
     "name": "stderr",
     "output_type": "stream",
     "text": [
      "C:\\Users\\dzemel\\Miniconda3\\lib\\site-packages\\numpy\\core\\_asarray.py:83: VisibleDeprecationWarning: Creating an ndarray from ragged nested sequences (which is a list-or-tuple of lists-or-tuples-or ndarrays with different lengths or shapes) is deprecated. If you meant to do this, you must specify 'dtype=object' when creating the ndarray\n",
      "  return array(a, dtype, copy=False, order=order)\n",
      "C:\\Users\\dzemel\\Miniconda3\\lib\\site-packages\\numpy\\core\\_asarray.py:83: VisibleDeprecationWarning: Creating an ndarray from ragged nested sequences (which is a list-or-tuple of lists-or-tuples-or ndarrays with different lengths or shapes) is deprecated. If you meant to do this, you must specify 'dtype=object' when creating the ndarray\n",
      "  return array(a, dtype, copy=False, order=order)\n",
      "C:\\Users\\dzemel\\Miniconda3\\lib\\site-packages\\numpy\\core\\_asarray.py:83: VisibleDeprecationWarning: Creating an ndarray from ragged nested sequences (which is a list-or-tuple of lists-or-tuples-or ndarrays with different lengths or shapes) is deprecated. If you meant to do this, you must specify 'dtype=object' when creating the ndarray\n",
      "  return array(a, dtype, copy=False, order=order)\n",
      "C:\\Users\\dzemel\\Miniconda3\\lib\\site-packages\\numpy\\core\\_asarray.py:83: VisibleDeprecationWarning: Creating an ndarray from ragged nested sequences (which is a list-or-tuple of lists-or-tuples-or ndarrays with different lengths or shapes) is deprecated. If you meant to do this, you must specify 'dtype=object' when creating the ndarray\n",
      "  return array(a, dtype, copy=False, order=order)\n",
      "C:\\Users\\dzemel\\Miniconda3\\lib\\site-packages\\numpy\\core\\_asarray.py:83: VisibleDeprecationWarning: Creating an ndarray from ragged nested sequences (which is a list-or-tuple of lists-or-tuples-or ndarrays with different lengths or shapes) is deprecated. If you meant to do this, you must specify 'dtype=object' when creating the ndarray\n",
      "  return array(a, dtype, copy=False, order=order)\n",
      "C:\\Users\\dzemel\\Miniconda3\\lib\\site-packages\\numpy\\core\\_asarray.py:83: VisibleDeprecationWarning: Creating an ndarray from ragged nested sequences (which is a list-or-tuple of lists-or-tuples-or ndarrays with different lengths or shapes) is deprecated. If you meant to do this, you must specify 'dtype=object' when creating the ndarray\n",
      "  return array(a, dtype, copy=False, order=order)\n",
      "C:\\Users\\dzemel\\Miniconda3\\lib\\site-packages\\numpy\\core\\_asarray.py:83: VisibleDeprecationWarning: Creating an ndarray from ragged nested sequences (which is a list-or-tuple of lists-or-tuples-or ndarrays with different lengths or shapes) is deprecated. If you meant to do this, you must specify 'dtype=object' when creating the ndarray\n",
      "  return array(a, dtype, copy=False, order=order)\n",
      "C:\\Users\\dzemel\\Miniconda3\\lib\\site-packages\\numpy\\core\\_asarray.py:83: VisibleDeprecationWarning: Creating an ndarray from ragged nested sequences (which is a list-or-tuple of lists-or-tuples-or ndarrays with different lengths or shapes) is deprecated. If you meant to do this, you must specify 'dtype=object' when creating the ndarray\n",
      "  return array(a, dtype, copy=False, order=order)\n",
      "C:\\Users\\dzemel\\Miniconda3\\lib\\site-packages\\numpy\\core\\_asarray.py:83: VisibleDeprecationWarning: Creating an ndarray from ragged nested sequences (which is a list-or-tuple of lists-or-tuples-or ndarrays with different lengths or shapes) is deprecated. If you meant to do this, you must specify 'dtype=object' when creating the ndarray\n",
      "  return array(a, dtype, copy=False, order=order)\n",
      "C:\\Users\\dzemel\\Miniconda3\\lib\\site-packages\\numpy\\core\\_asarray.py:83: VisibleDeprecationWarning: Creating an ndarray from ragged nested sequences (which is a list-or-tuple of lists-or-tuples-or ndarrays with different lengths or shapes) is deprecated. If you meant to do this, you must specify 'dtype=object' when creating the ndarray\n",
      "  return array(a, dtype, copy=False, order=order)\n",
      "C:\\Users\\dzemel\\Miniconda3\\lib\\site-packages\\numpy\\core\\_asarray.py:83: VisibleDeprecationWarning: Creating an ndarray from ragged nested sequences (which is a list-or-tuple of lists-or-tuples-or ndarrays with different lengths or shapes) is deprecated. If you meant to do this, you must specify 'dtype=object' when creating the ndarray\n",
      "  return array(a, dtype, copy=False, order=order)\n",
      "D:\\6OHDA\\IO.py:152: H5pyDeprecationWarning: dataset.value has been deprecated. Use dataset[()] instead.\n",
      "  speed = hf[m][s]['mvmt']['speed'].value\n",
      "C:\\Users\\dzemel\\Miniconda3\\lib\\site-packages\\numpy\\core\\_asarray.py:83: VisibleDeprecationWarning: Creating an ndarray from ragged nested sequences (which is a list-or-tuple of lists-or-tuples-or ndarrays with different lengths or shapes) is deprecated. If you meant to do this, you must specify 'dtype=object' when creating the ndarray\n",
      "  return array(a, dtype, copy=False, order=order)\n"
     ]
    },
    {
     "name": "stdout",
     "output_type": "stream",
     "text": [
      "cleaning up speed data\n",
      "cleaning up speed data\n",
      "I deleted session: 1793_day10\n",
      "I deleted session: 1793_day12\n",
      "I deleted session: 1793_day14\n",
      "I deleted session: 1793_day2\n",
      "I deleted session: 1793_day4\n",
      "I deleted session: 1793_day6\n",
      "I deleted session: 1793_day8\n"
     ]
    },
    {
     "name": "stderr",
     "output_type": "stream",
     "text": [
      "C:\\Users\\dzemel\\Miniconda3\\lib\\site-packages\\numpy\\core\\_asarray.py:83: VisibleDeprecationWarning: Creating an ndarray from ragged nested sequences (which is a list-or-tuple of lists-or-tuples-or ndarrays with different lengths or shapes) is deprecated. If you meant to do this, you must specify 'dtype=object' when creating the ndarray\n",
      "  return array(a, dtype, copy=False, order=order)\n",
      "C:\\Users\\dzemel\\Miniconda3\\lib\\site-packages\\numpy\\core\\_asarray.py:83: VisibleDeprecationWarning: Creating an ndarray from ragged nested sequences (which is a list-or-tuple of lists-or-tuples-or ndarrays with different lengths or shapes) is deprecated. If you meant to do this, you must specify 'dtype=object' when creating the ndarray\n",
      "  return array(a, dtype, copy=False, order=order)\n",
      "C:\\Users\\dzemel\\Miniconda3\\lib\\site-packages\\numpy\\core\\_asarray.py:83: VisibleDeprecationWarning: Creating an ndarray from ragged nested sequences (which is a list-or-tuple of lists-or-tuples-or ndarrays with different lengths or shapes) is deprecated. If you meant to do this, you must specify 'dtype=object' when creating the ndarray\n",
      "  return array(a, dtype, copy=False, order=order)\n",
      "C:\\Users\\dzemel\\Miniconda3\\lib\\site-packages\\numpy\\core\\_asarray.py:83: VisibleDeprecationWarning: Creating an ndarray from ragged nested sequences (which is a list-or-tuple of lists-or-tuples-or ndarrays with different lengths or shapes) is deprecated. If you meant to do this, you must specify 'dtype=object' when creating the ndarray\n",
      "  return array(a, dtype, copy=False, order=order)\n",
      "C:\\Users\\dzemel\\Miniconda3\\lib\\site-packages\\numpy\\core\\_asarray.py:83: VisibleDeprecationWarning: Creating an ndarray from ragged nested sequences (which is a list-or-tuple of lists-or-tuples-or ndarrays with different lengths or shapes) is deprecated. If you meant to do this, you must specify 'dtype=object' when creating the ndarray\n",
      "  return array(a, dtype, copy=False, order=order)\n",
      "C:\\Users\\dzemel\\Miniconda3\\lib\\site-packages\\numpy\\core\\_asarray.py:83: VisibleDeprecationWarning: Creating an ndarray from ragged nested sequences (which is a list-or-tuple of lists-or-tuples-or ndarrays with different lengths or shapes) is deprecated. If you meant to do this, you must specify 'dtype=object' when creating the ndarray\n",
      "  return array(a, dtype, copy=False, order=order)\n",
      "C:\\Users\\dzemel\\Miniconda3\\lib\\site-packages\\numpy\\core\\_asarray.py:83: VisibleDeprecationWarning: Creating an ndarray from ragged nested sequences (which is a list-or-tuple of lists-or-tuples-or ndarrays with different lengths or shapes) is deprecated. If you meant to do this, you must specify 'dtype=object' when creating the ndarray\n",
      "  return array(a, dtype, copy=False, order=order)\n",
      "C:\\Users\\dzemel\\Miniconda3\\lib\\site-packages\\numpy\\core\\_asarray.py:83: VisibleDeprecationWarning: Creating an ndarray from ragged nested sequences (which is a list-or-tuple of lists-or-tuples-or ndarrays with different lengths or shapes) is deprecated. If you meant to do this, you must specify 'dtype=object' when creating the ndarray\n",
      "  return array(a, dtype, copy=False, order=order)\n",
      "C:\\Users\\dzemel\\Miniconda3\\lib\\site-packages\\numpy\\core\\_asarray.py:83: VisibleDeprecationWarning: Creating an ndarray from ragged nested sequences (which is a list-or-tuple of lists-or-tuples-or ndarrays with different lengths or shapes) is deprecated. If you meant to do this, you must specify 'dtype=object' when creating the ndarray\n",
      "  return array(a, dtype, copy=False, order=order)\n",
      "C:\\Users\\dzemel\\Miniconda3\\lib\\site-packages\\numpy\\core\\_asarray.py:83: VisibleDeprecationWarning: Creating an ndarray from ragged nested sequences (which is a list-or-tuple of lists-or-tuples-or ndarrays with different lengths or shapes) is deprecated. If you meant to do this, you must specify 'dtype=object' when creating the ndarray\n",
      "  return array(a, dtype, copy=False, order=order)\n",
      "C:\\Users\\dzemel\\Miniconda3\\lib\\site-packages\\numpy\\core\\_asarray.py:83: VisibleDeprecationWarning: Creating an ndarray from ragged nested sequences (which is a list-or-tuple of lists-or-tuples-or ndarrays with different lengths or shapes) is deprecated. If you meant to do this, you must specify 'dtype=object' when creating the ndarray\n",
      "  return array(a, dtype, copy=False, order=order)\n",
      "C:\\Users\\dzemel\\Miniconda3\\lib\\site-packages\\numpy\\core\\_asarray.py:83: VisibleDeprecationWarning: Creating an ndarray from ragged nested sequences (which is a list-or-tuple of lists-or-tuples-or ndarrays with different lengths or shapes) is deprecated. If you meant to do this, you must specify 'dtype=object' when creating the ndarray\n",
      "  return array(a, dtype, copy=False, order=order)\n",
      "C:\\Users\\dzemel\\Miniconda3\\lib\\site-packages\\numpy\\core\\_asarray.py:83: VisibleDeprecationWarning: Creating an ndarray from ragged nested sequences (which is a list-or-tuple of lists-or-tuples-or ndarrays with different lengths or shapes) is deprecated. If you meant to do this, you must specify 'dtype=object' when creating the ndarray\n",
      "  return array(a, dtype, copy=False, order=order)\n",
      "C:\\Users\\dzemel\\Miniconda3\\lib\\site-packages\\numpy\\core\\_asarray.py:83: VisibleDeprecationWarning: Creating an ndarray from ragged nested sequences (which is a list-or-tuple of lists-or-tuples-or ndarrays with different lengths or shapes) is deprecated. If you meant to do this, you must specify 'dtype=object' when creating the ndarray\n",
      "  return array(a, dtype, copy=False, order=order)\n",
      "C:\\Users\\dzemel\\Miniconda3\\lib\\site-packages\\numpy\\core\\_asarray.py:83: VisibleDeprecationWarning: Creating an ndarray from ragged nested sequences (which is a list-or-tuple of lists-or-tuples-or ndarrays with different lengths or shapes) is deprecated. If you meant to do this, you must specify 'dtype=object' when creating the ndarray\n",
      "  return array(a, dtype, copy=False, order=order)\n",
      "C:\\Users\\dzemel\\Miniconda3\\lib\\site-packages\\numpy\\core\\_asarray.py:83: VisibleDeprecationWarning: Creating an ndarray from ragged nested sequences (which is a list-or-tuple of lists-or-tuples-or ndarrays with different lengths or shapes) is deprecated. If you meant to do this, you must specify 'dtype=object' when creating the ndarray\n",
      "  return array(a, dtype, copy=False, order=order)\n",
      "C:\\Users\\dzemel\\Miniconda3\\lib\\site-packages\\numpy\\core\\_asarray.py:83: VisibleDeprecationWarning: Creating an ndarray from ragged nested sequences (which is a list-or-tuple of lists-or-tuples-or ndarrays with different lengths or shapes) is deprecated. If you meant to do this, you must specify 'dtype=object' when creating the ndarray\n",
      "  return array(a, dtype, copy=False, order=order)\n",
      "C:\\Users\\dzemel\\Miniconda3\\lib\\site-packages\\numpy\\core\\_asarray.py:83: VisibleDeprecationWarning: Creating an ndarray from ragged nested sequences (which is a list-or-tuple of lists-or-tuples-or ndarrays with different lengths or shapes) is deprecated. If you meant to do this, you must specify 'dtype=object' when creating the ndarray\n",
      "  return array(a, dtype, copy=False, order=order)\n",
      "C:\\Users\\dzemel\\Miniconda3\\lib\\site-packages\\numpy\\core\\_asarray.py:83: VisibleDeprecationWarning: Creating an ndarray from ragged nested sequences (which is a list-or-tuple of lists-or-tuples-or ndarrays with different lengths or shapes) is deprecated. If you meant to do this, you must specify 'dtype=object' when creating the ndarray\n",
      "  return array(a, dtype, copy=False, order=order)\n",
      "C:\\Users\\dzemel\\Miniconda3\\lib\\site-packages\\numpy\\core\\_asarray.py:83: VisibleDeprecationWarning: Creating an ndarray from ragged nested sequences (which is a list-or-tuple of lists-or-tuples-or ndarrays with different lengths or shapes) is deprecated. If you meant to do this, you must specify 'dtype=object' when creating the ndarray\n",
      "  return array(a, dtype, copy=False, order=order)\n",
      "C:\\Users\\dzemel\\Miniconda3\\lib\\site-packages\\numpy\\core\\_asarray.py:83: VisibleDeprecationWarning: Creating an ndarray from ragged nested sequences (which is a list-or-tuple of lists-or-tuples-or ndarrays with different lengths or shapes) is deprecated. If you meant to do this, you must specify 'dtype=object' when creating the ndarray\n",
      "  return array(a, dtype, copy=False, order=order)\n",
      "C:\\Users\\dzemel\\Miniconda3\\lib\\site-packages\\numpy\\core\\_asarray.py:83: VisibleDeprecationWarning: Creating an ndarray from ragged nested sequences (which is a list-or-tuple of lists-or-tuples-or ndarrays with different lengths or shapes) is deprecated. If you meant to do this, you must specify 'dtype=object' when creating the ndarray\n",
      "  return array(a, dtype, copy=False, order=order)\n"
     ]
    },
    {
     "name": "stderr",
     "output_type": "stream",
     "text": [
      "C:\\Users\\dzemel\\Miniconda3\\lib\\site-packages\\numpy\\core\\_asarray.py:83: VisibleDeprecationWarning: Creating an ndarray from ragged nested sequences (which is a list-or-tuple of lists-or-tuples-or ndarrays with different lengths or shapes) is deprecated. If you meant to do this, you must specify 'dtype=object' when creating the ndarray\n",
      "  return array(a, dtype, copy=False, order=order)\n",
      "C:\\Users\\dzemel\\Miniconda3\\lib\\site-packages\\numpy\\core\\_asarray.py:83: VisibleDeprecationWarning: Creating an ndarray from ragged nested sequences (which is a list-or-tuple of lists-or-tuples-or ndarrays with different lengths or shapes) is deprecated. If you meant to do this, you must specify 'dtype=object' when creating the ndarray\n",
      "  return array(a, dtype, copy=False, order=order)\n",
      "C:\\Users\\dzemel\\Miniconda3\\lib\\site-packages\\numpy\\core\\_asarray.py:83: VisibleDeprecationWarning: Creating an ndarray from ragged nested sequences (which is a list-or-tuple of lists-or-tuples-or ndarrays with different lengths or shapes) is deprecated. If you meant to do this, you must specify 'dtype=object' when creating the ndarray\n",
      "  return array(a, dtype, copy=False, order=order)\n",
      "C:\\Users\\dzemel\\Miniconda3\\lib\\site-packages\\numpy\\core\\_asarray.py:83: VisibleDeprecationWarning: Creating an ndarray from ragged nested sequences (which is a list-or-tuple of lists-or-tuples-or ndarrays with different lengths or shapes) is deprecated. If you meant to do this, you must specify 'dtype=object' when creating the ndarray\n",
      "  return array(a, dtype, copy=False, order=order)\n",
      "C:\\Users\\dzemel\\Miniconda3\\lib\\site-packages\\numpy\\core\\_asarray.py:83: VisibleDeprecationWarning: Creating an ndarray from ragged nested sequences (which is a list-or-tuple of lists-or-tuples-or ndarrays with different lengths or shapes) is deprecated. If you meant to do this, you must specify 'dtype=object' when creating the ndarray\n",
      "  return array(a, dtype, copy=False, order=order)\n",
      "C:\\Users\\dzemel\\Miniconda3\\lib\\site-packages\\numpy\\core\\_asarray.py:83: VisibleDeprecationWarning: Creating an ndarray from ragged nested sequences (which is a list-or-tuple of lists-or-tuples-or ndarrays with different lengths or shapes) is deprecated. If you meant to do this, you must specify 'dtype=object' when creating the ndarray\n",
      "  return array(a, dtype, copy=False, order=order)\n",
      "C:\\Users\\dzemel\\Miniconda3\\lib\\site-packages\\numpy\\core\\_asarray.py:83: VisibleDeprecationWarning: Creating an ndarray from ragged nested sequences (which is a list-or-tuple of lists-or-tuples-or ndarrays with different lengths or shapes) is deprecated. If you meant to do this, you must specify 'dtype=object' when creating the ndarray\n",
      "  return array(a, dtype, copy=False, order=order)\n",
      "C:\\Users\\dzemel\\Miniconda3\\lib\\site-packages\\numpy\\core\\_asarray.py:83: VisibleDeprecationWarning: Creating an ndarray from ragged nested sequences (which is a list-or-tuple of lists-or-tuples-or ndarrays with different lengths or shapes) is deprecated. If you meant to do this, you must specify 'dtype=object' when creating the ndarray\n",
      "  return array(a, dtype, copy=False, order=order)\n",
      "C:\\Users\\dzemel\\Miniconda3\\lib\\site-packages\\numpy\\core\\_asarray.py:83: VisibleDeprecationWarning: Creating an ndarray from ragged nested sequences (which is a list-or-tuple of lists-or-tuples-or ndarrays with different lengths or shapes) is deprecated. If you meant to do this, you must specify 'dtype=object' when creating the ndarray\n",
      "  return array(a, dtype, copy=False, order=order)\n",
      "C:\\Users\\dzemel\\Miniconda3\\lib\\site-packages\\numpy\\core\\_asarray.py:83: VisibleDeprecationWarning: Creating an ndarray from ragged nested sequences (which is a list-or-tuple of lists-or-tuples-or ndarrays with different lengths or shapes) is deprecated. If you meant to do this, you must specify 'dtype=object' when creating the ndarray\n",
      "  return array(a, dtype, copy=False, order=order)\n",
      "C:\\Users\\dzemel\\Miniconda3\\lib\\site-packages\\numpy\\core\\_asarray.py:83: VisibleDeprecationWarning: Creating an ndarray from ragged nested sequences (which is a list-or-tuple of lists-or-tuples-or ndarrays with different lengths or shapes) is deprecated. If you meant to do this, you must specify 'dtype=object' when creating the ndarray\n",
      "  return array(a, dtype, copy=False, order=order)\n",
      "C:\\Users\\dzemel\\Miniconda3\\lib\\site-packages\\numpy\\core\\_asarray.py:83: VisibleDeprecationWarning: Creating an ndarray from ragged nested sequences (which is a list-or-tuple of lists-or-tuples-or ndarrays with different lengths or shapes) is deprecated. If you meant to do this, you must specify 'dtype=object' when creating the ndarray\n",
      "  return array(a, dtype, copy=False, order=order)\n",
      "C:\\Users\\dzemel\\Miniconda3\\lib\\site-packages\\numpy\\core\\_asarray.py:83: VisibleDeprecationWarning: Creating an ndarray from ragged nested sequences (which is a list-or-tuple of lists-or-tuples-or ndarrays with different lengths or shapes) is deprecated. If you meant to do this, you must specify 'dtype=object' when creating the ndarray\n",
      "  return array(a, dtype, copy=False, order=order)\n",
      "C:\\Users\\dzemel\\Miniconda3\\lib\\site-packages\\numpy\\core\\_asarray.py:83: VisibleDeprecationWarning: Creating an ndarray from ragged nested sequences (which is a list-or-tuple of lists-or-tuples-or ndarrays with different lengths or shapes) is deprecated. If you meant to do this, you must specify 'dtype=object' when creating the ndarray\n",
      "  return array(a, dtype, copy=False, order=order)\n",
      "C:\\Users\\dzemel\\Miniconda3\\lib\\site-packages\\numpy\\core\\_asarray.py:83: VisibleDeprecationWarning: Creating an ndarray from ragged nested sequences (which is a list-or-tuple of lists-or-tuples-or ndarrays with different lengths or shapes) is deprecated. If you meant to do this, you must specify 'dtype=object' when creating the ndarray\n",
      "  return array(a, dtype, copy=False, order=order)\n",
      "C:\\Users\\dzemel\\Miniconda3\\lib\\site-packages\\numpy\\core\\_asarray.py:83: VisibleDeprecationWarning: Creating an ndarray from ragged nested sequences (which is a list-or-tuple of lists-or-tuples-or ndarrays with different lengths or shapes) is deprecated. If you meant to do this, you must specify 'dtype=object' when creating the ndarray\n",
      "  return array(a, dtype, copy=False, order=order)\n",
      "C:\\Users\\dzemel\\Miniconda3\\lib\\site-packages\\numpy\\core\\_asarray.py:83: VisibleDeprecationWarning: Creating an ndarray from ragged nested sequences (which is a list-or-tuple of lists-or-tuples-or ndarrays with different lengths or shapes) is deprecated. If you meant to do this, you must specify 'dtype=object' when creating the ndarray\n",
      "  return array(a, dtype, copy=False, order=order)\n",
      "D:\\6OHDA\\IO.py:152: H5pyDeprecationWarning: dataset.value has been deprecated. Use dataset[()] instead.\n",
      "  speed = hf[m][s]['mvmt']['speed'].value\n",
      "C:\\Users\\dzemel\\Miniconda3\\lib\\site-packages\\numpy\\core\\_asarray.py:83: VisibleDeprecationWarning: Creating an ndarray from ragged nested sequences (which is a list-or-tuple of lists-or-tuples-or ndarrays with different lengths or shapes) is deprecated. If you meant to do this, you must specify 'dtype=object' when creating the ndarray\n",
      "  return array(a, dtype, copy=False, order=order)\n"
     ]
    },
    {
     "name": "stdout",
     "output_type": "stream",
     "text": [
      "cleaning up speed data\n",
      "cleaning up speed data\n",
      "I deleted session: 2976_day10\n",
      "I deleted session: 2976_day12\n",
      "I deleted session: 2976_day14\n",
      "I deleted session: 2976_day2\n",
      "I deleted session: 2976_day4\n",
      "I deleted session: 2976_day6\n",
      "I deleted session: 2976_day8\n"
     ]
    },
    {
     "name": "stderr",
     "output_type": "stream",
     "text": [
      "C:\\Users\\dzemel\\Miniconda3\\lib\\site-packages\\numpy\\core\\_asarray.py:83: VisibleDeprecationWarning: Creating an ndarray from ragged nested sequences (which is a list-or-tuple of lists-or-tuples-or ndarrays with different lengths or shapes) is deprecated. If you meant to do this, you must specify 'dtype=object' when creating the ndarray\n",
      "  return array(a, dtype, copy=False, order=order)\n",
      "C:\\Users\\dzemel\\Miniconda3\\lib\\site-packages\\numpy\\core\\_asarray.py:83: VisibleDeprecationWarning: Creating an ndarray from ragged nested sequences (which is a list-or-tuple of lists-or-tuples-or ndarrays with different lengths or shapes) is deprecated. If you meant to do this, you must specify 'dtype=object' when creating the ndarray\n",
      "  return array(a, dtype, copy=False, order=order)\n",
      "C:\\Users\\dzemel\\Miniconda3\\lib\\site-packages\\numpy\\core\\_asarray.py:83: VisibleDeprecationWarning: Creating an ndarray from ragged nested sequences (which is a list-or-tuple of lists-or-tuples-or ndarrays with different lengths or shapes) is deprecated. If you meant to do this, you must specify 'dtype=object' when creating the ndarray\n",
      "  return array(a, dtype, copy=False, order=order)\n",
      "C:\\Users\\dzemel\\Miniconda3\\lib\\site-packages\\numpy\\core\\_asarray.py:83: VisibleDeprecationWarning: Creating an ndarray from ragged nested sequences (which is a list-or-tuple of lists-or-tuples-or ndarrays with different lengths or shapes) is deprecated. If you meant to do this, you must specify 'dtype=object' when creating the ndarray\n",
      "  return array(a, dtype, copy=False, order=order)\n",
      "C:\\Users\\dzemel\\Miniconda3\\lib\\site-packages\\numpy\\core\\_asarray.py:83: VisibleDeprecationWarning: Creating an ndarray from ragged nested sequences (which is a list-or-tuple of lists-or-tuples-or ndarrays with different lengths or shapes) is deprecated. If you meant to do this, you must specify 'dtype=object' when creating the ndarray\n",
      "  return array(a, dtype, copy=False, order=order)\n",
      "C:\\Users\\dzemel\\Miniconda3\\lib\\site-packages\\numpy\\core\\_asarray.py:83: VisibleDeprecationWarning: Creating an ndarray from ragged nested sequences (which is a list-or-tuple of lists-or-tuples-or ndarrays with different lengths or shapes) is deprecated. If you meant to do this, you must specify 'dtype=object' when creating the ndarray\n",
      "  return array(a, dtype, copy=False, order=order)\n",
      "C:\\Users\\dzemel\\Miniconda3\\lib\\site-packages\\numpy\\core\\_asarray.py:83: VisibleDeprecationWarning: Creating an ndarray from ragged nested sequences (which is a list-or-tuple of lists-or-tuples-or ndarrays with different lengths or shapes) is deprecated. If you meant to do this, you must specify 'dtype=object' when creating the ndarray\n",
      "  return array(a, dtype, copy=False, order=order)\n",
      "C:\\Users\\dzemel\\Miniconda3\\lib\\site-packages\\numpy\\core\\_asarray.py:83: VisibleDeprecationWarning: Creating an ndarray from ragged nested sequences (which is a list-or-tuple of lists-or-tuples-or ndarrays with different lengths or shapes) is deprecated. If you meant to do this, you must specify 'dtype=object' when creating the ndarray\n",
      "  return array(a, dtype, copy=False, order=order)\n",
      "C:\\Users\\dzemel\\Miniconda3\\lib\\site-packages\\numpy\\core\\_asarray.py:83: VisibleDeprecationWarning: Creating an ndarray from ragged nested sequences (which is a list-or-tuple of lists-or-tuples-or ndarrays with different lengths or shapes) is deprecated. If you meant to do this, you must specify 'dtype=object' when creating the ndarray\n",
      "  return array(a, dtype, copy=False, order=order)\n",
      "C:\\Users\\dzemel\\Miniconda3\\lib\\site-packages\\numpy\\core\\_asarray.py:83: VisibleDeprecationWarning: Creating an ndarray from ragged nested sequences (which is a list-or-tuple of lists-or-tuples-or ndarrays with different lengths or shapes) is deprecated. If you meant to do this, you must specify 'dtype=object' when creating the ndarray\n",
      "  return array(a, dtype, copy=False, order=order)\n",
      "C:\\Users\\dzemel\\Miniconda3\\lib\\site-packages\\numpy\\core\\_asarray.py:83: VisibleDeprecationWarning: Creating an ndarray from ragged nested sequences (which is a list-or-tuple of lists-or-tuples-or ndarrays with different lengths or shapes) is deprecated. If you meant to do this, you must specify 'dtype=object' when creating the ndarray\n",
      "  return array(a, dtype, copy=False, order=order)\n",
      "C:\\Users\\dzemel\\Miniconda3\\lib\\site-packages\\numpy\\core\\_asarray.py:83: VisibleDeprecationWarning: Creating an ndarray from ragged nested sequences (which is a list-or-tuple of lists-or-tuples-or ndarrays with different lengths or shapes) is deprecated. If you meant to do this, you must specify 'dtype=object' when creating the ndarray\n",
      "  return array(a, dtype, copy=False, order=order)\n",
      "C:\\Users\\dzemel\\Miniconda3\\lib\\site-packages\\numpy\\core\\_asarray.py:83: VisibleDeprecationWarning: Creating an ndarray from ragged nested sequences (which is a list-or-tuple of lists-or-tuples-or ndarrays with different lengths or shapes) is deprecated. If you meant to do this, you must specify 'dtype=object' when creating the ndarray\n",
      "  return array(a, dtype, copy=False, order=order)\n",
      "C:\\Users\\dzemel\\Miniconda3\\lib\\site-packages\\numpy\\core\\_asarray.py:83: VisibleDeprecationWarning: Creating an ndarray from ragged nested sequences (which is a list-or-tuple of lists-or-tuples-or ndarrays with different lengths or shapes) is deprecated. If you meant to do this, you must specify 'dtype=object' when creating the ndarray\n",
      "  return array(a, dtype, copy=False, order=order)\n",
      "C:\\Users\\dzemel\\Miniconda3\\lib\\site-packages\\numpy\\core\\_asarray.py:83: VisibleDeprecationWarning: Creating an ndarray from ragged nested sequences (which is a list-or-tuple of lists-or-tuples-or ndarrays with different lengths or shapes) is deprecated. If you meant to do this, you must specify 'dtype=object' when creating the ndarray\n",
      "  return array(a, dtype, copy=False, order=order)\n",
      "C:\\Users\\dzemel\\Miniconda3\\lib\\site-packages\\numpy\\core\\_asarray.py:83: VisibleDeprecationWarning: Creating an ndarray from ragged nested sequences (which is a list-or-tuple of lists-or-tuples-or ndarrays with different lengths or shapes) is deprecated. If you meant to do this, you must specify 'dtype=object' when creating the ndarray\n",
      "  return array(a, dtype, copy=False, order=order)\n",
      "C:\\Users\\dzemel\\Miniconda3\\lib\\site-packages\\numpy\\core\\_asarray.py:83: VisibleDeprecationWarning: Creating an ndarray from ragged nested sequences (which is a list-or-tuple of lists-or-tuples-or ndarrays with different lengths or shapes) is deprecated. If you meant to do this, you must specify 'dtype=object' when creating the ndarray\n",
      "  return array(a, dtype, copy=False, order=order)\n",
      "C:\\Users\\dzemel\\Miniconda3\\lib\\site-packages\\numpy\\core\\_asarray.py:83: VisibleDeprecationWarning: Creating an ndarray from ragged nested sequences (which is a list-or-tuple of lists-or-tuples-or ndarrays with different lengths or shapes) is deprecated. If you meant to do this, you must specify 'dtype=object' when creating the ndarray\n",
      "  return array(a, dtype, copy=False, order=order)\n",
      "C:\\Users\\dzemel\\Miniconda3\\lib\\site-packages\\numpy\\core\\_asarray.py:83: VisibleDeprecationWarning: Creating an ndarray from ragged nested sequences (which is a list-or-tuple of lists-or-tuples-or ndarrays with different lengths or shapes) is deprecated. If you meant to do this, you must specify 'dtype=object' when creating the ndarray\n",
      "  return array(a, dtype, copy=False, order=order)\n",
      "C:\\Users\\dzemel\\Miniconda3\\lib\\site-packages\\numpy\\core\\_asarray.py:83: VisibleDeprecationWarning: Creating an ndarray from ragged nested sequences (which is a list-or-tuple of lists-or-tuples-or ndarrays with different lengths or shapes) is deprecated. If you meant to do this, you must specify 'dtype=object' when creating the ndarray\n",
      "  return array(a, dtype, copy=False, order=order)\n",
      "C:\\Users\\dzemel\\Miniconda3\\lib\\site-packages\\numpy\\core\\_asarray.py:83: VisibleDeprecationWarning: Creating an ndarray from ragged nested sequences (which is a list-or-tuple of lists-or-tuples-or ndarrays with different lengths or shapes) is deprecated. If you meant to do this, you must specify 'dtype=object' when creating the ndarray\n",
      "  return array(a, dtype, copy=False, order=order)\n",
      "C:\\Users\\dzemel\\Miniconda3\\lib\\site-packages\\numpy\\core\\_asarray.py:83: VisibleDeprecationWarning: Creating an ndarray from ragged nested sequences (which is a list-or-tuple of lists-or-tuples-or ndarrays with different lengths or shapes) is deprecated. If you meant to do this, you must specify 'dtype=object' when creating the ndarray\n",
      "  return array(a, dtype, copy=False, order=order)\n"
     ]
    },
    {
     "name": "stderr",
     "output_type": "stream",
     "text": [
      "C:\\Users\\dzemel\\Miniconda3\\lib\\site-packages\\numpy\\core\\_asarray.py:83: VisibleDeprecationWarning: Creating an ndarray from ragged nested sequences (which is a list-or-tuple of lists-or-tuples-or ndarrays with different lengths or shapes) is deprecated. If you meant to do this, you must specify 'dtype=object' when creating the ndarray\n",
      "  return array(a, dtype, copy=False, order=order)\n",
      "C:\\Users\\dzemel\\Miniconda3\\lib\\site-packages\\numpy\\core\\_asarray.py:83: VisibleDeprecationWarning: Creating an ndarray from ragged nested sequences (which is a list-or-tuple of lists-or-tuples-or ndarrays with different lengths or shapes) is deprecated. If you meant to do this, you must specify 'dtype=object' when creating the ndarray\n",
      "  return array(a, dtype, copy=False, order=order)\n",
      "C:\\Users\\dzemel\\Miniconda3\\lib\\site-packages\\numpy\\core\\_asarray.py:83: VisibleDeprecationWarning: Creating an ndarray from ragged nested sequences (which is a list-or-tuple of lists-or-tuples-or ndarrays with different lengths or shapes) is deprecated. If you meant to do this, you must specify 'dtype=object' when creating the ndarray\n",
      "  return array(a, dtype, copy=False, order=order)\n",
      "C:\\Users\\dzemel\\Miniconda3\\lib\\site-packages\\numpy\\core\\_asarray.py:83: VisibleDeprecationWarning: Creating an ndarray from ragged nested sequences (which is a list-or-tuple of lists-or-tuples-or ndarrays with different lengths or shapes) is deprecated. If you meant to do this, you must specify 'dtype=object' when creating the ndarray\n",
      "  return array(a, dtype, copy=False, order=order)\n",
      "C:\\Users\\dzemel\\Miniconda3\\lib\\site-packages\\numpy\\core\\_asarray.py:83: VisibleDeprecationWarning: Creating an ndarray from ragged nested sequences (which is a list-or-tuple of lists-or-tuples-or ndarrays with different lengths or shapes) is deprecated. If you meant to do this, you must specify 'dtype=object' when creating the ndarray\n",
      "  return array(a, dtype, copy=False, order=order)\n",
      "C:\\Users\\dzemel\\Miniconda3\\lib\\site-packages\\numpy\\core\\_asarray.py:83: VisibleDeprecationWarning: Creating an ndarray from ragged nested sequences (which is a list-or-tuple of lists-or-tuples-or ndarrays with different lengths or shapes) is deprecated. If you meant to do this, you must specify 'dtype=object' when creating the ndarray\n",
      "  return array(a, dtype, copy=False, order=order)\n",
      "C:\\Users\\dzemel\\Miniconda3\\lib\\site-packages\\numpy\\core\\_asarray.py:83: VisibleDeprecationWarning: Creating an ndarray from ragged nested sequences (which is a list-or-tuple of lists-or-tuples-or ndarrays with different lengths or shapes) is deprecated. If you meant to do this, you must specify 'dtype=object' when creating the ndarray\n",
      "  return array(a, dtype, copy=False, order=order)\n",
      "C:\\Users\\dzemel\\Miniconda3\\lib\\site-packages\\numpy\\core\\_asarray.py:83: VisibleDeprecationWarning: Creating an ndarray from ragged nested sequences (which is a list-or-tuple of lists-or-tuples-or ndarrays with different lengths or shapes) is deprecated. If you meant to do this, you must specify 'dtype=object' when creating the ndarray\n",
      "  return array(a, dtype, copy=False, order=order)\n",
      "C:\\Users\\dzemel\\Miniconda3\\lib\\site-packages\\numpy\\core\\_asarray.py:83: VisibleDeprecationWarning: Creating an ndarray from ragged nested sequences (which is a list-or-tuple of lists-or-tuples-or ndarrays with different lengths or shapes) is deprecated. If you meant to do this, you must specify 'dtype=object' when creating the ndarray\n",
      "  return array(a, dtype, copy=False, order=order)\n",
      "C:\\Users\\dzemel\\Miniconda3\\lib\\site-packages\\numpy\\core\\_asarray.py:83: VisibleDeprecationWarning: Creating an ndarray from ragged nested sequences (which is a list-or-tuple of lists-or-tuples-or ndarrays with different lengths or shapes) is deprecated. If you meant to do this, you must specify 'dtype=object' when creating the ndarray\n",
      "  return array(a, dtype, copy=False, order=order)\n",
      "C:\\Users\\dzemel\\Miniconda3\\lib\\site-packages\\numpy\\core\\_asarray.py:83: VisibleDeprecationWarning: Creating an ndarray from ragged nested sequences (which is a list-or-tuple of lists-or-tuples-or ndarrays with different lengths or shapes) is deprecated. If you meant to do this, you must specify 'dtype=object' when creating the ndarray\n",
      "  return array(a, dtype, copy=False, order=order)\n",
      "C:\\Users\\dzemel\\Miniconda3\\lib\\site-packages\\numpy\\core\\_asarray.py:83: VisibleDeprecationWarning: Creating an ndarray from ragged nested sequences (which is a list-or-tuple of lists-or-tuples-or ndarrays with different lengths or shapes) is deprecated. If you meant to do this, you must specify 'dtype=object' when creating the ndarray\n",
      "  return array(a, dtype, copy=False, order=order)\n",
      "C:\\Users\\dzemel\\Miniconda3\\lib\\site-packages\\numpy\\core\\_asarray.py:83: VisibleDeprecationWarning: Creating an ndarray from ragged nested sequences (which is a list-or-tuple of lists-or-tuples-or ndarrays with different lengths or shapes) is deprecated. If you meant to do this, you must specify 'dtype=object' when creating the ndarray\n",
      "  return array(a, dtype, copy=False, order=order)\n",
      "C:\\Users\\dzemel\\Miniconda3\\lib\\site-packages\\numpy\\core\\_asarray.py:83: VisibleDeprecationWarning: Creating an ndarray from ragged nested sequences (which is a list-or-tuple of lists-or-tuples-or ndarrays with different lengths or shapes) is deprecated. If you meant to do this, you must specify 'dtype=object' when creating the ndarray\n",
      "  return array(a, dtype, copy=False, order=order)\n",
      "C:\\Users\\dzemel\\Miniconda3\\lib\\site-packages\\numpy\\core\\_asarray.py:83: VisibleDeprecationWarning: Creating an ndarray from ragged nested sequences (which is a list-or-tuple of lists-or-tuples-or ndarrays with different lengths or shapes) is deprecated. If you meant to do this, you must specify 'dtype=object' when creating the ndarray\n",
      "  return array(a, dtype, copy=False, order=order)\n",
      "C:\\Users\\dzemel\\Miniconda3\\lib\\site-packages\\numpy\\core\\_asarray.py:83: VisibleDeprecationWarning: Creating an ndarray from ragged nested sequences (which is a list-or-tuple of lists-or-tuples-or ndarrays with different lengths or shapes) is deprecated. If you meant to do this, you must specify 'dtype=object' when creating the ndarray\n",
      "  return array(a, dtype, copy=False, order=order)\n",
      "C:\\Users\\dzemel\\Miniconda3\\lib\\site-packages\\numpy\\core\\_asarray.py:83: VisibleDeprecationWarning: Creating an ndarray from ragged nested sequences (which is a list-or-tuple of lists-or-tuples-or ndarrays with different lengths or shapes) is deprecated. If you meant to do this, you must specify 'dtype=object' when creating the ndarray\n",
      "  return array(a, dtype, copy=False, order=order)\n",
      "C:\\Users\\dzemel\\Miniconda3\\lib\\site-packages\\numpy\\core\\_asarray.py:83: VisibleDeprecationWarning: Creating an ndarray from ragged nested sequences (which is a list-or-tuple of lists-or-tuples-or ndarrays with different lengths or shapes) is deprecated. If you meant to do this, you must specify 'dtype=object' when creating the ndarray\n",
      "  return array(a, dtype, copy=False, order=order)\n",
      "C:\\Users\\dzemel\\Miniconda3\\lib\\site-packages\\numpy\\core\\_asarray.py:83: VisibleDeprecationWarning: Creating an ndarray from ragged nested sequences (which is a list-or-tuple of lists-or-tuples-or ndarrays with different lengths or shapes) is deprecated. If you meant to do this, you must specify 'dtype=object' when creating the ndarray\n",
      "  return array(a, dtype, copy=False, order=order)\n",
      "D:\\6OHDA\\IO.py:152: H5pyDeprecationWarning: dataset.value has been deprecated. Use dataset[()] instead.\n",
      "  speed = hf[m][s]['mvmt']['speed'].value\n",
      "C:\\Users\\dzemel\\Miniconda3\\lib\\site-packages\\numpy\\core\\_asarray.py:83: VisibleDeprecationWarning: Creating an ndarray from ragged nested sequences (which is a list-or-tuple of lists-or-tuples-or ndarrays with different lengths or shapes) is deprecated. If you meant to do this, you must specify 'dtype=object' when creating the ndarray\n",
      "  return array(a, dtype, copy=False, order=order)\n"
     ]
    },
    {
     "name": "stdout",
     "output_type": "stream",
     "text": [
      "cleaning up speed data\n",
      "cleaning up speed data\n",
      "I deleted session: 2980_day10\n",
      "I deleted session: 2980_day12\n",
      "I deleted session: 2980_day14\n",
      "I deleted session: 2980_day2\n",
      "I deleted session: 2980_day4\n",
      "I deleted session: 2980_day6\n",
      "I deleted session: 2980_day8\n"
     ]
    },
    {
     "name": "stderr",
     "output_type": "stream",
     "text": [
      "C:\\Users\\dzemel\\Miniconda3\\lib\\site-packages\\numpy\\core\\_asarray.py:83: VisibleDeprecationWarning: Creating an ndarray from ragged nested sequences (which is a list-or-tuple of lists-or-tuples-or ndarrays with different lengths or shapes) is deprecated. If you meant to do this, you must specify 'dtype=object' when creating the ndarray\n",
      "  return array(a, dtype, copy=False, order=order)\n",
      "C:\\Users\\dzemel\\Miniconda3\\lib\\site-packages\\numpy\\core\\_asarray.py:83: VisibleDeprecationWarning: Creating an ndarray from ragged nested sequences (which is a list-or-tuple of lists-or-tuples-or ndarrays with different lengths or shapes) is deprecated. If you meant to do this, you must specify 'dtype=object' when creating the ndarray\n",
      "  return array(a, dtype, copy=False, order=order)\n",
      "C:\\Users\\dzemel\\Miniconda3\\lib\\site-packages\\numpy\\core\\_asarray.py:83: VisibleDeprecationWarning: Creating an ndarray from ragged nested sequences (which is a list-or-tuple of lists-or-tuples-or ndarrays with different lengths or shapes) is deprecated. If you meant to do this, you must specify 'dtype=object' when creating the ndarray\n",
      "  return array(a, dtype, copy=False, order=order)\n",
      "C:\\Users\\dzemel\\Miniconda3\\lib\\site-packages\\numpy\\core\\_asarray.py:83: VisibleDeprecationWarning: Creating an ndarray from ragged nested sequences (which is a list-or-tuple of lists-or-tuples-or ndarrays with different lengths or shapes) is deprecated. If you meant to do this, you must specify 'dtype=object' when creating the ndarray\n",
      "  return array(a, dtype, copy=False, order=order)\n",
      "C:\\Users\\dzemel\\Miniconda3\\lib\\site-packages\\numpy\\core\\_asarray.py:83: VisibleDeprecationWarning: Creating an ndarray from ragged nested sequences (which is a list-or-tuple of lists-or-tuples-or ndarrays with different lengths or shapes) is deprecated. If you meant to do this, you must specify 'dtype=object' when creating the ndarray\n",
      "  return array(a, dtype, copy=False, order=order)\n",
      "C:\\Users\\dzemel\\Miniconda3\\lib\\site-packages\\numpy\\core\\_asarray.py:83: VisibleDeprecationWarning: Creating an ndarray from ragged nested sequences (which is a list-or-tuple of lists-or-tuples-or ndarrays with different lengths or shapes) is deprecated. If you meant to do this, you must specify 'dtype=object' when creating the ndarray\n",
      "  return array(a, dtype, copy=False, order=order)\n",
      "C:\\Users\\dzemel\\Miniconda3\\lib\\site-packages\\numpy\\core\\_asarray.py:83: VisibleDeprecationWarning: Creating an ndarray from ragged nested sequences (which is a list-or-tuple of lists-or-tuples-or ndarrays with different lengths or shapes) is deprecated. If you meant to do this, you must specify 'dtype=object' when creating the ndarray\n",
      "  return array(a, dtype, copy=False, order=order)\n",
      "C:\\Users\\dzemel\\Miniconda3\\lib\\site-packages\\numpy\\core\\_asarray.py:83: VisibleDeprecationWarning: Creating an ndarray from ragged nested sequences (which is a list-or-tuple of lists-or-tuples-or ndarrays with different lengths or shapes) is deprecated. If you meant to do this, you must specify 'dtype=object' when creating the ndarray\n",
      "  return array(a, dtype, copy=False, order=order)\n",
      "C:\\Users\\dzemel\\Miniconda3\\lib\\site-packages\\numpy\\core\\_asarray.py:83: VisibleDeprecationWarning: Creating an ndarray from ragged nested sequences (which is a list-or-tuple of lists-or-tuples-or ndarrays with different lengths or shapes) is deprecated. If you meant to do this, you must specify 'dtype=object' when creating the ndarray\n",
      "  return array(a, dtype, copy=False, order=order)\n",
      "C:\\Users\\dzemel\\Miniconda3\\lib\\site-packages\\numpy\\core\\_asarray.py:83: VisibleDeprecationWarning: Creating an ndarray from ragged nested sequences (which is a list-or-tuple of lists-or-tuples-or ndarrays with different lengths or shapes) is deprecated. If you meant to do this, you must specify 'dtype=object' when creating the ndarray\n",
      "  return array(a, dtype, copy=False, order=order)\n",
      "C:\\Users\\dzemel\\Miniconda3\\lib\\site-packages\\numpy\\core\\_asarray.py:83: VisibleDeprecationWarning: Creating an ndarray from ragged nested sequences (which is a list-or-tuple of lists-or-tuples-or ndarrays with different lengths or shapes) is deprecated. If you meant to do this, you must specify 'dtype=object' when creating the ndarray\n",
      "  return array(a, dtype, copy=False, order=order)\n",
      "C:\\Users\\dzemel\\Miniconda3\\lib\\site-packages\\numpy\\core\\_asarray.py:83: VisibleDeprecationWarning: Creating an ndarray from ragged nested sequences (which is a list-or-tuple of lists-or-tuples-or ndarrays with different lengths or shapes) is deprecated. If you meant to do this, you must specify 'dtype=object' when creating the ndarray\n",
      "  return array(a, dtype, copy=False, order=order)\n",
      "C:\\Users\\dzemel\\Miniconda3\\lib\\site-packages\\numpy\\core\\_asarray.py:83: VisibleDeprecationWarning: Creating an ndarray from ragged nested sequences (which is a list-or-tuple of lists-or-tuples-or ndarrays with different lengths or shapes) is deprecated. If you meant to do this, you must specify 'dtype=object' when creating the ndarray\n",
      "  return array(a, dtype, copy=False, order=order)\n",
      "C:\\Users\\dzemel\\Miniconda3\\lib\\site-packages\\numpy\\core\\_asarray.py:83: VisibleDeprecationWarning: Creating an ndarray from ragged nested sequences (which is a list-or-tuple of lists-or-tuples-or ndarrays with different lengths or shapes) is deprecated. If you meant to do this, you must specify 'dtype=object' when creating the ndarray\n",
      "  return array(a, dtype, copy=False, order=order)\n",
      "C:\\Users\\dzemel\\Miniconda3\\lib\\site-packages\\numpy\\core\\_asarray.py:83: VisibleDeprecationWarning: Creating an ndarray from ragged nested sequences (which is a list-or-tuple of lists-or-tuples-or ndarrays with different lengths or shapes) is deprecated. If you meant to do this, you must specify 'dtype=object' when creating the ndarray\n",
      "  return array(a, dtype, copy=False, order=order)\n",
      "C:\\Users\\dzemel\\Miniconda3\\lib\\site-packages\\numpy\\core\\_asarray.py:83: VisibleDeprecationWarning: Creating an ndarray from ragged nested sequences (which is a list-or-tuple of lists-or-tuples-or ndarrays with different lengths or shapes) is deprecated. If you meant to do this, you must specify 'dtype=object' when creating the ndarray\n",
      "  return array(a, dtype, copy=False, order=order)\n",
      "C:\\Users\\dzemel\\Miniconda3\\lib\\site-packages\\numpy\\core\\_asarray.py:83: VisibleDeprecationWarning: Creating an ndarray from ragged nested sequences (which is a list-or-tuple of lists-or-tuples-or ndarrays with different lengths or shapes) is deprecated. If you meant to do this, you must specify 'dtype=object' when creating the ndarray\n",
      "  return array(a, dtype, copy=False, order=order)\n",
      "C:\\Users\\dzemel\\Miniconda3\\lib\\site-packages\\numpy\\core\\_asarray.py:83: VisibleDeprecationWarning: Creating an ndarray from ragged nested sequences (which is a list-or-tuple of lists-or-tuples-or ndarrays with different lengths or shapes) is deprecated. If you meant to do this, you must specify 'dtype=object' when creating the ndarray\n",
      "  return array(a, dtype, copy=False, order=order)\n",
      "C:\\Users\\dzemel\\Miniconda3\\lib\\site-packages\\numpy\\core\\_asarray.py:83: VisibleDeprecationWarning: Creating an ndarray from ragged nested sequences (which is a list-or-tuple of lists-or-tuples-or ndarrays with different lengths or shapes) is deprecated. If you meant to do this, you must specify 'dtype=object' when creating the ndarray\n",
      "  return array(a, dtype, copy=False, order=order)\n",
      "C:\\Users\\dzemel\\Miniconda3\\lib\\site-packages\\numpy\\core\\_asarray.py:83: VisibleDeprecationWarning: Creating an ndarray from ragged nested sequences (which is a list-or-tuple of lists-or-tuples-or ndarrays with different lengths or shapes) is deprecated. If you meant to do this, you must specify 'dtype=object' when creating the ndarray\n",
      "  return array(a, dtype, copy=False, order=order)\n",
      "C:\\Users\\dzemel\\Miniconda3\\lib\\site-packages\\numpy\\core\\_asarray.py:83: VisibleDeprecationWarning: Creating an ndarray from ragged nested sequences (which is a list-or-tuple of lists-or-tuples-or ndarrays with different lengths or shapes) is deprecated. If you meant to do this, you must specify 'dtype=object' when creating the ndarray\n",
      "  return array(a, dtype, copy=False, order=order)\n",
      "C:\\Users\\dzemel\\Miniconda3\\lib\\site-packages\\numpy\\core\\_asarray.py:83: VisibleDeprecationWarning: Creating an ndarray from ragged nested sequences (which is a list-or-tuple of lists-or-tuples-or ndarrays with different lengths or shapes) is deprecated. If you meant to do this, you must specify 'dtype=object' when creating the ndarray\n",
      "  return array(a, dtype, copy=False, order=order)\n"
     ]
    },
    {
     "name": "stderr",
     "output_type": "stream",
     "text": [
      "C:\\Users\\dzemel\\Miniconda3\\lib\\site-packages\\numpy\\core\\_asarray.py:83: VisibleDeprecationWarning: Creating an ndarray from ragged nested sequences (which is a list-or-tuple of lists-or-tuples-or ndarrays with different lengths or shapes) is deprecated. If you meant to do this, you must specify 'dtype=object' when creating the ndarray\n",
      "  return array(a, dtype, copy=False, order=order)\n",
      "C:\\Users\\dzemel\\Miniconda3\\lib\\site-packages\\numpy\\core\\_asarray.py:83: VisibleDeprecationWarning: Creating an ndarray from ragged nested sequences (which is a list-or-tuple of lists-or-tuples-or ndarrays with different lengths or shapes) is deprecated. If you meant to do this, you must specify 'dtype=object' when creating the ndarray\n",
      "  return array(a, dtype, copy=False, order=order)\n",
      "C:\\Users\\dzemel\\Miniconda3\\lib\\site-packages\\numpy\\core\\_asarray.py:83: VisibleDeprecationWarning: Creating an ndarray from ragged nested sequences (which is a list-or-tuple of lists-or-tuples-or ndarrays with different lengths or shapes) is deprecated. If you meant to do this, you must specify 'dtype=object' when creating the ndarray\n",
      "  return array(a, dtype, copy=False, order=order)\n",
      "C:\\Users\\dzemel\\Miniconda3\\lib\\site-packages\\numpy\\core\\_asarray.py:83: VisibleDeprecationWarning: Creating an ndarray from ragged nested sequences (which is a list-or-tuple of lists-or-tuples-or ndarrays with different lengths or shapes) is deprecated. If you meant to do this, you must specify 'dtype=object' when creating the ndarray\n",
      "  return array(a, dtype, copy=False, order=order)\n",
      "C:\\Users\\dzemel\\Miniconda3\\lib\\site-packages\\numpy\\core\\_asarray.py:83: VisibleDeprecationWarning: Creating an ndarray from ragged nested sequences (which is a list-or-tuple of lists-or-tuples-or ndarrays with different lengths or shapes) is deprecated. If you meant to do this, you must specify 'dtype=object' when creating the ndarray\n",
      "  return array(a, dtype, copy=False, order=order)\n",
      "C:\\Users\\dzemel\\Miniconda3\\lib\\site-packages\\numpy\\core\\_asarray.py:83: VisibleDeprecationWarning: Creating an ndarray from ragged nested sequences (which is a list-or-tuple of lists-or-tuples-or ndarrays with different lengths or shapes) is deprecated. If you meant to do this, you must specify 'dtype=object' when creating the ndarray\n",
      "  return array(a, dtype, copy=False, order=order)\n",
      "C:\\Users\\dzemel\\Miniconda3\\lib\\site-packages\\numpy\\core\\_asarray.py:83: VisibleDeprecationWarning: Creating an ndarray from ragged nested sequences (which is a list-or-tuple of lists-or-tuples-or ndarrays with different lengths or shapes) is deprecated. If you meant to do this, you must specify 'dtype=object' when creating the ndarray\n",
      "  return array(a, dtype, copy=False, order=order)\n",
      "C:\\Users\\dzemel\\Miniconda3\\lib\\site-packages\\numpy\\core\\_asarray.py:83: VisibleDeprecationWarning: Creating an ndarray from ragged nested sequences (which is a list-or-tuple of lists-or-tuples-or ndarrays with different lengths or shapes) is deprecated. If you meant to do this, you must specify 'dtype=object' when creating the ndarray\n",
      "  return array(a, dtype, copy=False, order=order)\n",
      "C:\\Users\\dzemel\\Miniconda3\\lib\\site-packages\\numpy\\core\\_asarray.py:83: VisibleDeprecationWarning: Creating an ndarray from ragged nested sequences (which is a list-or-tuple of lists-or-tuples-or ndarrays with different lengths or shapes) is deprecated. If you meant to do this, you must specify 'dtype=object' when creating the ndarray\n",
      "  return array(a, dtype, copy=False, order=order)\n",
      "C:\\Users\\dzemel\\Miniconda3\\lib\\site-packages\\numpy\\core\\_asarray.py:83: VisibleDeprecationWarning: Creating an ndarray from ragged nested sequences (which is a list-or-tuple of lists-or-tuples-or ndarrays with different lengths or shapes) is deprecated. If you meant to do this, you must specify 'dtype=object' when creating the ndarray\n",
      "  return array(a, dtype, copy=False, order=order)\n",
      "C:\\Users\\dzemel\\Miniconda3\\lib\\site-packages\\numpy\\core\\_asarray.py:83: VisibleDeprecationWarning: Creating an ndarray from ragged nested sequences (which is a list-or-tuple of lists-or-tuples-or ndarrays with different lengths or shapes) is deprecated. If you meant to do this, you must specify 'dtype=object' when creating the ndarray\n",
      "  return array(a, dtype, copy=False, order=order)\n",
      "C:\\Users\\dzemel\\Miniconda3\\lib\\site-packages\\numpy\\core\\_asarray.py:83: VisibleDeprecationWarning: Creating an ndarray from ragged nested sequences (which is a list-or-tuple of lists-or-tuples-or ndarrays with different lengths or shapes) is deprecated. If you meant to do this, you must specify 'dtype=object' when creating the ndarray\n",
      "  return array(a, dtype, copy=False, order=order)\n",
      "C:\\Users\\dzemel\\Miniconda3\\lib\\site-packages\\numpy\\core\\_asarray.py:83: VisibleDeprecationWarning: Creating an ndarray from ragged nested sequences (which is a list-or-tuple of lists-or-tuples-or ndarrays with different lengths or shapes) is deprecated. If you meant to do this, you must specify 'dtype=object' when creating the ndarray\n",
      "  return array(a, dtype, copy=False, order=order)\n",
      "C:\\Users\\dzemel\\Miniconda3\\lib\\site-packages\\numpy\\core\\_asarray.py:83: VisibleDeprecationWarning: Creating an ndarray from ragged nested sequences (which is a list-or-tuple of lists-or-tuples-or ndarrays with different lengths or shapes) is deprecated. If you meant to do this, you must specify 'dtype=object' when creating the ndarray\n",
      "  return array(a, dtype, copy=False, order=order)\n",
      "C:\\Users\\dzemel\\Miniconda3\\lib\\site-packages\\numpy\\core\\_asarray.py:83: VisibleDeprecationWarning: Creating an ndarray from ragged nested sequences (which is a list-or-tuple of lists-or-tuples-or ndarrays with different lengths or shapes) is deprecated. If you meant to do this, you must specify 'dtype=object' when creating the ndarray\n",
      "  return array(a, dtype, copy=False, order=order)\n",
      "C:\\Users\\dzemel\\Miniconda3\\lib\\site-packages\\numpy\\core\\_asarray.py:83: VisibleDeprecationWarning: Creating an ndarray from ragged nested sequences (which is a list-or-tuple of lists-or-tuples-or ndarrays with different lengths or shapes) is deprecated. If you meant to do this, you must specify 'dtype=object' when creating the ndarray\n",
      "  return array(a, dtype, copy=False, order=order)\n",
      "C:\\Users\\dzemel\\Miniconda3\\lib\\site-packages\\numpy\\core\\_asarray.py:83: VisibleDeprecationWarning: Creating an ndarray from ragged nested sequences (which is a list-or-tuple of lists-or-tuples-or ndarrays with different lengths or shapes) is deprecated. If you meant to do this, you must specify 'dtype=object' when creating the ndarray\n",
      "  return array(a, dtype, copy=False, order=order)\n",
      "C:\\Users\\dzemel\\Miniconda3\\lib\\site-packages\\numpy\\core\\_asarray.py:83: VisibleDeprecationWarning: Creating an ndarray from ragged nested sequences (which is a list-or-tuple of lists-or-tuples-or ndarrays with different lengths or shapes) is deprecated. If you meant to do this, you must specify 'dtype=object' when creating the ndarray\n",
      "  return array(a, dtype, copy=False, order=order)\n",
      "C:\\Users\\dzemel\\Miniconda3\\lib\\site-packages\\numpy\\core\\_asarray.py:83: VisibleDeprecationWarning: Creating an ndarray from ragged nested sequences (which is a list-or-tuple of lists-or-tuples-or ndarrays with different lengths or shapes) is deprecated. If you meant to do this, you must specify 'dtype=object' when creating the ndarray\n",
      "  return array(a, dtype, copy=False, order=order)\n",
      "D:\\6OHDA\\IO.py:152: H5pyDeprecationWarning: dataset.value has been deprecated. Use dataset[()] instead.\n",
      "  speed = hf[m][s]['mvmt']['speed'].value\n",
      "C:\\Users\\dzemel\\Miniconda3\\lib\\site-packages\\numpy\\core\\_asarray.py:83: VisibleDeprecationWarning: Creating an ndarray from ragged nested sequences (which is a list-or-tuple of lists-or-tuples-or ndarrays with different lengths or shapes) is deprecated. If you meant to do this, you must specify 'dtype=object' when creating the ndarray\n",
      "  return array(a, dtype, copy=False, order=order)\n"
     ]
    },
    {
     "name": "stdout",
     "output_type": "stream",
     "text": [
      "cleaning up speed data\n",
      "cleaning up speed data\n",
      "I deleted session: 2981_day10\n",
      "I deleted session: 2981_day12\n",
      "I deleted session: 2981_day14\n",
      "I deleted session: 2981_day2\n",
      "I deleted session: 2981_day4\n",
      "I deleted session: 2981_day6\n",
      "I deleted session: 2981_day8\n"
     ]
    },
    {
     "name": "stderr",
     "output_type": "stream",
     "text": [
      "C:\\Users\\dzemel\\Miniconda3\\lib\\site-packages\\numpy\\core\\_asarray.py:83: VisibleDeprecationWarning: Creating an ndarray from ragged nested sequences (which is a list-or-tuple of lists-or-tuples-or ndarrays with different lengths or shapes) is deprecated. If you meant to do this, you must specify 'dtype=object' when creating the ndarray\n",
      "  return array(a, dtype, copy=False, order=order)\n",
      "C:\\Users\\dzemel\\Miniconda3\\lib\\site-packages\\numpy\\core\\_asarray.py:83: VisibleDeprecationWarning: Creating an ndarray from ragged nested sequences (which is a list-or-tuple of lists-or-tuples-or ndarrays with different lengths or shapes) is deprecated. If you meant to do this, you must specify 'dtype=object' when creating the ndarray\n",
      "  return array(a, dtype, copy=False, order=order)\n",
      "C:\\Users\\dzemel\\Miniconda3\\lib\\site-packages\\numpy\\core\\_asarray.py:83: VisibleDeprecationWarning: Creating an ndarray from ragged nested sequences (which is a list-or-tuple of lists-or-tuples-or ndarrays with different lengths or shapes) is deprecated. If you meant to do this, you must specify 'dtype=object' when creating the ndarray\n",
      "  return array(a, dtype, copy=False, order=order)\n",
      "C:\\Users\\dzemel\\Miniconda3\\lib\\site-packages\\numpy\\core\\_asarray.py:83: VisibleDeprecationWarning: Creating an ndarray from ragged nested sequences (which is a list-or-tuple of lists-or-tuples-or ndarrays with different lengths or shapes) is deprecated. If you meant to do this, you must specify 'dtype=object' when creating the ndarray\n",
      "  return array(a, dtype, copy=False, order=order)\n",
      "C:\\Users\\dzemel\\Miniconda3\\lib\\site-packages\\numpy\\core\\_asarray.py:83: VisibleDeprecationWarning: Creating an ndarray from ragged nested sequences (which is a list-or-tuple of lists-or-tuples-or ndarrays with different lengths or shapes) is deprecated. If you meant to do this, you must specify 'dtype=object' when creating the ndarray\n",
      "  return array(a, dtype, copy=False, order=order)\n",
      "C:\\Users\\dzemel\\Miniconda3\\lib\\site-packages\\numpy\\core\\_asarray.py:83: VisibleDeprecationWarning: Creating an ndarray from ragged nested sequences (which is a list-or-tuple of lists-or-tuples-or ndarrays with different lengths or shapes) is deprecated. If you meant to do this, you must specify 'dtype=object' when creating the ndarray\n",
      "  return array(a, dtype, copy=False, order=order)\n",
      "C:\\Users\\dzemel\\Miniconda3\\lib\\site-packages\\numpy\\core\\_asarray.py:83: VisibleDeprecationWarning: Creating an ndarray from ragged nested sequences (which is a list-or-tuple of lists-or-tuples-or ndarrays with different lengths or shapes) is deprecated. If you meant to do this, you must specify 'dtype=object' when creating the ndarray\n",
      "  return array(a, dtype, copy=False, order=order)\n",
      "C:\\Users\\dzemel\\Miniconda3\\lib\\site-packages\\numpy\\core\\_asarray.py:83: VisibleDeprecationWarning: Creating an ndarray from ragged nested sequences (which is a list-or-tuple of lists-or-tuples-or ndarrays with different lengths or shapes) is deprecated. If you meant to do this, you must specify 'dtype=object' when creating the ndarray\n",
      "  return array(a, dtype, copy=False, order=order)\n",
      "C:\\Users\\dzemel\\Miniconda3\\lib\\site-packages\\numpy\\core\\_asarray.py:83: VisibleDeprecationWarning: Creating an ndarray from ragged nested sequences (which is a list-or-tuple of lists-or-tuples-or ndarrays with different lengths or shapes) is deprecated. If you meant to do this, you must specify 'dtype=object' when creating the ndarray\n",
      "  return array(a, dtype, copy=False, order=order)\n",
      "C:\\Users\\dzemel\\Miniconda3\\lib\\site-packages\\numpy\\core\\_asarray.py:83: VisibleDeprecationWarning: Creating an ndarray from ragged nested sequences (which is a list-or-tuple of lists-or-tuples-or ndarrays with different lengths or shapes) is deprecated. If you meant to do this, you must specify 'dtype=object' when creating the ndarray\n",
      "  return array(a, dtype, copy=False, order=order)\n",
      "C:\\Users\\dzemel\\Miniconda3\\lib\\site-packages\\numpy\\core\\_asarray.py:83: VisibleDeprecationWarning: Creating an ndarray from ragged nested sequences (which is a list-or-tuple of lists-or-tuples-or ndarrays with different lengths or shapes) is deprecated. If you meant to do this, you must specify 'dtype=object' when creating the ndarray\n",
      "  return array(a, dtype, copy=False, order=order)\n",
      "C:\\Users\\dzemel\\Miniconda3\\lib\\site-packages\\numpy\\core\\_asarray.py:83: VisibleDeprecationWarning: Creating an ndarray from ragged nested sequences (which is a list-or-tuple of lists-or-tuples-or ndarrays with different lengths or shapes) is deprecated. If you meant to do this, you must specify 'dtype=object' when creating the ndarray\n",
      "  return array(a, dtype, copy=False, order=order)\n",
      "C:\\Users\\dzemel\\Miniconda3\\lib\\site-packages\\numpy\\core\\_asarray.py:83: VisibleDeprecationWarning: Creating an ndarray from ragged nested sequences (which is a list-or-tuple of lists-or-tuples-or ndarrays with different lengths or shapes) is deprecated. If you meant to do this, you must specify 'dtype=object' when creating the ndarray\n",
      "  return array(a, dtype, copy=False, order=order)\n",
      "C:\\Users\\dzemel\\Miniconda3\\lib\\site-packages\\numpy\\core\\_asarray.py:83: VisibleDeprecationWarning: Creating an ndarray from ragged nested sequences (which is a list-or-tuple of lists-or-tuples-or ndarrays with different lengths or shapes) is deprecated. If you meant to do this, you must specify 'dtype=object' when creating the ndarray\n",
      "  return array(a, dtype, copy=False, order=order)\n",
      "C:\\Users\\dzemel\\Miniconda3\\lib\\site-packages\\numpy\\core\\_asarray.py:83: VisibleDeprecationWarning: Creating an ndarray from ragged nested sequences (which is a list-or-tuple of lists-or-tuples-or ndarrays with different lengths or shapes) is deprecated. If you meant to do this, you must specify 'dtype=object' when creating the ndarray\n",
      "  return array(a, dtype, copy=False, order=order)\n",
      "C:\\Users\\dzemel\\Miniconda3\\lib\\site-packages\\numpy\\core\\_asarray.py:83: VisibleDeprecationWarning: Creating an ndarray from ragged nested sequences (which is a list-or-tuple of lists-or-tuples-or ndarrays with different lengths or shapes) is deprecated. If you meant to do this, you must specify 'dtype=object' when creating the ndarray\n",
      "  return array(a, dtype, copy=False, order=order)\n",
      "C:\\Users\\dzemel\\Miniconda3\\lib\\site-packages\\numpy\\core\\_asarray.py:83: VisibleDeprecationWarning: Creating an ndarray from ragged nested sequences (which is a list-or-tuple of lists-or-tuples-or ndarrays with different lengths or shapes) is deprecated. If you meant to do this, you must specify 'dtype=object' when creating the ndarray\n",
      "  return array(a, dtype, copy=False, order=order)\n",
      "C:\\Users\\dzemel\\Miniconda3\\lib\\site-packages\\numpy\\core\\_asarray.py:83: VisibleDeprecationWarning: Creating an ndarray from ragged nested sequences (which is a list-or-tuple of lists-or-tuples-or ndarrays with different lengths or shapes) is deprecated. If you meant to do this, you must specify 'dtype=object' when creating the ndarray\n",
      "  return array(a, dtype, copy=False, order=order)\n",
      "C:\\Users\\dzemel\\Miniconda3\\lib\\site-packages\\numpy\\core\\_asarray.py:83: VisibleDeprecationWarning: Creating an ndarray from ragged nested sequences (which is a list-or-tuple of lists-or-tuples-or ndarrays with different lengths or shapes) is deprecated. If you meant to do this, you must specify 'dtype=object' when creating the ndarray\n",
      "  return array(a, dtype, copy=False, order=order)\n",
      "C:\\Users\\dzemel\\Miniconda3\\lib\\site-packages\\numpy\\core\\_asarray.py:83: VisibleDeprecationWarning: Creating an ndarray from ragged nested sequences (which is a list-or-tuple of lists-or-tuples-or ndarrays with different lengths or shapes) is deprecated. If you meant to do this, you must specify 'dtype=object' when creating the ndarray\n",
      "  return array(a, dtype, copy=False, order=order)\n",
      "C:\\Users\\dzemel\\Miniconda3\\lib\\site-packages\\numpy\\core\\_asarray.py:83: VisibleDeprecationWarning: Creating an ndarray from ragged nested sequences (which is a list-or-tuple of lists-or-tuples-or ndarrays with different lengths or shapes) is deprecated. If you meant to do this, you must specify 'dtype=object' when creating the ndarray\n",
      "  return array(a, dtype, copy=False, order=order)\n",
      "C:\\Users\\dzemel\\Miniconda3\\lib\\site-packages\\numpy\\core\\_asarray.py:83: VisibleDeprecationWarning: Creating an ndarray from ragged nested sequences (which is a list-or-tuple of lists-or-tuples-or ndarrays with different lengths or shapes) is deprecated. If you meant to do this, you must specify 'dtype=object' when creating the ndarray\n",
      "  return array(a, dtype, copy=False, order=order)\n"
     ]
    },
    {
     "name": "stderr",
     "output_type": "stream",
     "text": [
      "C:\\Users\\dzemel\\Miniconda3\\lib\\site-packages\\numpy\\core\\_asarray.py:83: VisibleDeprecationWarning: Creating an ndarray from ragged nested sequences (which is a list-or-tuple of lists-or-tuples-or ndarrays with different lengths or shapes) is deprecated. If you meant to do this, you must specify 'dtype=object' when creating the ndarray\n",
      "  return array(a, dtype, copy=False, order=order)\n",
      "C:\\Users\\dzemel\\Miniconda3\\lib\\site-packages\\numpy\\core\\_asarray.py:83: VisibleDeprecationWarning: Creating an ndarray from ragged nested sequences (which is a list-or-tuple of lists-or-tuples-or ndarrays with different lengths or shapes) is deprecated. If you meant to do this, you must specify 'dtype=object' when creating the ndarray\n",
      "  return array(a, dtype, copy=False, order=order)\n",
      "C:\\Users\\dzemel\\Miniconda3\\lib\\site-packages\\numpy\\core\\_asarray.py:83: VisibleDeprecationWarning: Creating an ndarray from ragged nested sequences (which is a list-or-tuple of lists-or-tuples-or ndarrays with different lengths or shapes) is deprecated. If you meant to do this, you must specify 'dtype=object' when creating the ndarray\n",
      "  return array(a, dtype, copy=False, order=order)\n",
      "C:\\Users\\dzemel\\Miniconda3\\lib\\site-packages\\numpy\\core\\_asarray.py:83: VisibleDeprecationWarning: Creating an ndarray from ragged nested sequences (which is a list-or-tuple of lists-or-tuples-or ndarrays with different lengths or shapes) is deprecated. If you meant to do this, you must specify 'dtype=object' when creating the ndarray\n",
      "  return array(a, dtype, copy=False, order=order)\n",
      "C:\\Users\\dzemel\\Miniconda3\\lib\\site-packages\\numpy\\core\\_asarray.py:83: VisibleDeprecationWarning: Creating an ndarray from ragged nested sequences (which is a list-or-tuple of lists-or-tuples-or ndarrays with different lengths or shapes) is deprecated. If you meant to do this, you must specify 'dtype=object' when creating the ndarray\n",
      "  return array(a, dtype, copy=False, order=order)\n",
      "C:\\Users\\dzemel\\Miniconda3\\lib\\site-packages\\numpy\\core\\_asarray.py:83: VisibleDeprecationWarning: Creating an ndarray from ragged nested sequences (which is a list-or-tuple of lists-or-tuples-or ndarrays with different lengths or shapes) is deprecated. If you meant to do this, you must specify 'dtype=object' when creating the ndarray\n",
      "  return array(a, dtype, copy=False, order=order)\n",
      "C:\\Users\\dzemel\\Miniconda3\\lib\\site-packages\\numpy\\core\\_asarray.py:83: VisibleDeprecationWarning: Creating an ndarray from ragged nested sequences (which is a list-or-tuple of lists-or-tuples-or ndarrays with different lengths or shapes) is deprecated. If you meant to do this, you must specify 'dtype=object' when creating the ndarray\n",
      "  return array(a, dtype, copy=False, order=order)\n",
      "C:\\Users\\dzemel\\Miniconda3\\lib\\site-packages\\numpy\\core\\_asarray.py:83: VisibleDeprecationWarning: Creating an ndarray from ragged nested sequences (which is a list-or-tuple of lists-or-tuples-or ndarrays with different lengths or shapes) is deprecated. If you meant to do this, you must specify 'dtype=object' when creating the ndarray\n",
      "  return array(a, dtype, copy=False, order=order)\n",
      "C:\\Users\\dzemel\\Miniconda3\\lib\\site-packages\\numpy\\core\\_asarray.py:83: VisibleDeprecationWarning: Creating an ndarray from ragged nested sequences (which is a list-or-tuple of lists-or-tuples-or ndarrays with different lengths or shapes) is deprecated. If you meant to do this, you must specify 'dtype=object' when creating the ndarray\n",
      "  return array(a, dtype, copy=False, order=order)\n",
      "C:\\Users\\dzemel\\Miniconda3\\lib\\site-packages\\numpy\\core\\_asarray.py:83: VisibleDeprecationWarning: Creating an ndarray from ragged nested sequences (which is a list-or-tuple of lists-or-tuples-or ndarrays with different lengths or shapes) is deprecated. If you meant to do this, you must specify 'dtype=object' when creating the ndarray\n",
      "  return array(a, dtype, copy=False, order=order)\n",
      "C:\\Users\\dzemel\\Miniconda3\\lib\\site-packages\\numpy\\core\\_asarray.py:83: VisibleDeprecationWarning: Creating an ndarray from ragged nested sequences (which is a list-or-tuple of lists-or-tuples-or ndarrays with different lengths or shapes) is deprecated. If you meant to do this, you must specify 'dtype=object' when creating the ndarray\n",
      "  return array(a, dtype, copy=False, order=order)\n",
      "C:\\Users\\dzemel\\Miniconda3\\lib\\site-packages\\numpy\\core\\_asarray.py:83: VisibleDeprecationWarning: Creating an ndarray from ragged nested sequences (which is a list-or-tuple of lists-or-tuples-or ndarrays with different lengths or shapes) is deprecated. If you meant to do this, you must specify 'dtype=object' when creating the ndarray\n",
      "  return array(a, dtype, copy=False, order=order)\n",
      "C:\\Users\\dzemel\\Miniconda3\\lib\\site-packages\\numpy\\core\\_asarray.py:83: VisibleDeprecationWarning: Creating an ndarray from ragged nested sequences (which is a list-or-tuple of lists-or-tuples-or ndarrays with different lengths or shapes) is deprecated. If you meant to do this, you must specify 'dtype=object' when creating the ndarray\n",
      "  return array(a, dtype, copy=False, order=order)\n",
      "C:\\Users\\dzemel\\Miniconda3\\lib\\site-packages\\numpy\\core\\_asarray.py:83: VisibleDeprecationWarning: Creating an ndarray from ragged nested sequences (which is a list-or-tuple of lists-or-tuples-or ndarrays with different lengths or shapes) is deprecated. If you meant to do this, you must specify 'dtype=object' when creating the ndarray\n",
      "  return array(a, dtype, copy=False, order=order)\n",
      "C:\\Users\\dzemel\\Miniconda3\\lib\\site-packages\\numpy\\core\\_asarray.py:83: VisibleDeprecationWarning: Creating an ndarray from ragged nested sequences (which is a list-or-tuple of lists-or-tuples-or ndarrays with different lengths or shapes) is deprecated. If you meant to do this, you must specify 'dtype=object' when creating the ndarray\n",
      "  return array(a, dtype, copy=False, order=order)\n",
      "C:\\Users\\dzemel\\Miniconda3\\lib\\site-packages\\numpy\\core\\_asarray.py:83: VisibleDeprecationWarning: Creating an ndarray from ragged nested sequences (which is a list-or-tuple of lists-or-tuples-or ndarrays with different lengths or shapes) is deprecated. If you meant to do this, you must specify 'dtype=object' when creating the ndarray\n",
      "  return array(a, dtype, copy=False, order=order)\n",
      "C:\\Users\\dzemel\\Miniconda3\\lib\\site-packages\\numpy\\core\\_asarray.py:83: VisibleDeprecationWarning: Creating an ndarray from ragged nested sequences (which is a list-or-tuple of lists-or-tuples-or ndarrays with different lengths or shapes) is deprecated. If you meant to do this, you must specify 'dtype=object' when creating the ndarray\n",
      "  return array(a, dtype, copy=False, order=order)\n",
      "C:\\Users\\dzemel\\Miniconda3\\lib\\site-packages\\numpy\\core\\_asarray.py:83: VisibleDeprecationWarning: Creating an ndarray from ragged nested sequences (which is a list-or-tuple of lists-or-tuples-or ndarrays with different lengths or shapes) is deprecated. If you meant to do this, you must specify 'dtype=object' when creating the ndarray\n",
      "  return array(a, dtype, copy=False, order=order)\n",
      "C:\\Users\\dzemel\\Miniconda3\\lib\\site-packages\\numpy\\core\\_asarray.py:83: VisibleDeprecationWarning: Creating an ndarray from ragged nested sequences (which is a list-or-tuple of lists-or-tuples-or ndarrays with different lengths or shapes) is deprecated. If you meant to do this, you must specify 'dtype=object' when creating the ndarray\n",
      "  return array(a, dtype, copy=False, order=order)\n",
      "D:\\6OHDA\\IO.py:152: H5pyDeprecationWarning: dataset.value has been deprecated. Use dataset[()] instead.\n",
      "  speed = hf[m][s]['mvmt']['speed'].value\n",
      "C:\\Users\\dzemel\\Miniconda3\\lib\\site-packages\\numpy\\core\\_asarray.py:83: VisibleDeprecationWarning: Creating an ndarray from ragged nested sequences (which is a list-or-tuple of lists-or-tuples-or ndarrays with different lengths or shapes) is deprecated. If you meant to do this, you must specify 'dtype=object' when creating the ndarray\n",
      "  return array(a, dtype, copy=False, order=order)\n"
     ]
    },
    {
     "name": "stdout",
     "output_type": "stream",
     "text": [
      "cleaning up speed data\n",
      "cleaning up speed data\n",
      "I deleted session: 4539_day0\n",
      "I deleted session: 4539_day1\n",
      "I deleted session: 4539_day10\n",
      "I deleted session: 4539_day11\n",
      "I deleted session: 4539_day12\n",
      "I deleted session: 4539_day13\n",
      "I deleted session: 4539_day14\n",
      "I deleted session: 4539_day2\n",
      "I deleted session: 4539_day3\n",
      "I deleted session: 4539_day4\n",
      "I deleted session: 4539_day5\n",
      "I deleted session: 4539_day6\n",
      "I deleted session: 4539_day7\n",
      "I deleted session: 4539_day8\n",
      "I deleted session: 4539_day9\n"
     ]
    },
    {
     "name": "stderr",
     "output_type": "stream",
     "text": [
      "C:\\Users\\dzemel\\Miniconda3\\lib\\site-packages\\numpy\\core\\_asarray.py:83: VisibleDeprecationWarning: Creating an ndarray from ragged nested sequences (which is a list-or-tuple of lists-or-tuples-or ndarrays with different lengths or shapes) is deprecated. If you meant to do this, you must specify 'dtype=object' when creating the ndarray\n",
      "  return array(a, dtype, copy=False, order=order)\n",
      "C:\\Users\\dzemel\\Miniconda3\\lib\\site-packages\\numpy\\core\\_asarray.py:83: VisibleDeprecationWarning: Creating an ndarray from ragged nested sequences (which is a list-or-tuple of lists-or-tuples-or ndarrays with different lengths or shapes) is deprecated. If you meant to do this, you must specify 'dtype=object' when creating the ndarray\n",
      "  return array(a, dtype, copy=False, order=order)\n",
      "C:\\Users\\dzemel\\Miniconda3\\lib\\site-packages\\numpy\\core\\_asarray.py:83: VisibleDeprecationWarning: Creating an ndarray from ragged nested sequences (which is a list-or-tuple of lists-or-tuples-or ndarrays with different lengths or shapes) is deprecated. If you meant to do this, you must specify 'dtype=object' when creating the ndarray\n",
      "  return array(a, dtype, copy=False, order=order)\n",
      "C:\\Users\\dzemel\\Miniconda3\\lib\\site-packages\\numpy\\core\\_asarray.py:83: VisibleDeprecationWarning: Creating an ndarray from ragged nested sequences (which is a list-or-tuple of lists-or-tuples-or ndarrays with different lengths or shapes) is deprecated. If you meant to do this, you must specify 'dtype=object' when creating the ndarray\n",
      "  return array(a, dtype, copy=False, order=order)\n",
      "C:\\Users\\dzemel\\Miniconda3\\lib\\site-packages\\numpy\\core\\_asarray.py:83: VisibleDeprecationWarning: Creating an ndarray from ragged nested sequences (which is a list-or-tuple of lists-or-tuples-or ndarrays with different lengths or shapes) is deprecated. If you meant to do this, you must specify 'dtype=object' when creating the ndarray\n",
      "  return array(a, dtype, copy=False, order=order)\n",
      "C:\\Users\\dzemel\\Miniconda3\\lib\\site-packages\\numpy\\core\\_asarray.py:83: VisibleDeprecationWarning: Creating an ndarray from ragged nested sequences (which is a list-or-tuple of lists-or-tuples-or ndarrays with different lengths or shapes) is deprecated. If you meant to do this, you must specify 'dtype=object' when creating the ndarray\n",
      "  return array(a, dtype, copy=False, order=order)\n",
      "C:\\Users\\dzemel\\Miniconda3\\lib\\site-packages\\numpy\\core\\_asarray.py:83: VisibleDeprecationWarning: Creating an ndarray from ragged nested sequences (which is a list-or-tuple of lists-or-tuples-or ndarrays with different lengths or shapes) is deprecated. If you meant to do this, you must specify 'dtype=object' when creating the ndarray\n",
      "  return array(a, dtype, copy=False, order=order)\n",
      "C:\\Users\\dzemel\\Miniconda3\\lib\\site-packages\\numpy\\core\\_asarray.py:83: VisibleDeprecationWarning: Creating an ndarray from ragged nested sequences (which is a list-or-tuple of lists-or-tuples-or ndarrays with different lengths or shapes) is deprecated. If you meant to do this, you must specify 'dtype=object' when creating the ndarray\n",
      "  return array(a, dtype, copy=False, order=order)\n",
      "C:\\Users\\dzemel\\Miniconda3\\lib\\site-packages\\numpy\\core\\_asarray.py:83: VisibleDeprecationWarning: Creating an ndarray from ragged nested sequences (which is a list-or-tuple of lists-or-tuples-or ndarrays with different lengths or shapes) is deprecated. If you meant to do this, you must specify 'dtype=object' when creating the ndarray\n",
      "  return array(a, dtype, copy=False, order=order)\n",
      "C:\\Users\\dzemel\\Miniconda3\\lib\\site-packages\\numpy\\core\\_asarray.py:83: VisibleDeprecationWarning: Creating an ndarray from ragged nested sequences (which is a list-or-tuple of lists-or-tuples-or ndarrays with different lengths or shapes) is deprecated. If you meant to do this, you must specify 'dtype=object' when creating the ndarray\n",
      "  return array(a, dtype, copy=False, order=order)\n",
      "C:\\Users\\dzemel\\Miniconda3\\lib\\site-packages\\numpy\\core\\_asarray.py:83: VisibleDeprecationWarning: Creating an ndarray from ragged nested sequences (which is a list-or-tuple of lists-or-tuples-or ndarrays with different lengths or shapes) is deprecated. If you meant to do this, you must specify 'dtype=object' when creating the ndarray\n",
      "  return array(a, dtype, copy=False, order=order)\n",
      "C:\\Users\\dzemel\\Miniconda3\\lib\\site-packages\\numpy\\core\\_asarray.py:83: VisibleDeprecationWarning: Creating an ndarray from ragged nested sequences (which is a list-or-tuple of lists-or-tuples-or ndarrays with different lengths or shapes) is deprecated. If you meant to do this, you must specify 'dtype=object' when creating the ndarray\n",
      "  return array(a, dtype, copy=False, order=order)\n",
      "C:\\Users\\dzemel\\Miniconda3\\lib\\site-packages\\numpy\\core\\_asarray.py:83: VisibleDeprecationWarning: Creating an ndarray from ragged nested sequences (which is a list-or-tuple of lists-or-tuples-or ndarrays with different lengths or shapes) is deprecated. If you meant to do this, you must specify 'dtype=object' when creating the ndarray\n",
      "  return array(a, dtype, copy=False, order=order)\n",
      "C:\\Users\\dzemel\\Miniconda3\\lib\\site-packages\\numpy\\core\\_asarray.py:83: VisibleDeprecationWarning: Creating an ndarray from ragged nested sequences (which is a list-or-tuple of lists-or-tuples-or ndarrays with different lengths or shapes) is deprecated. If you meant to do this, you must specify 'dtype=object' when creating the ndarray\n",
      "  return array(a, dtype, copy=False, order=order)\n",
      "C:\\Users\\dzemel\\Miniconda3\\lib\\site-packages\\numpy\\core\\_asarray.py:83: VisibleDeprecationWarning: Creating an ndarray from ragged nested sequences (which is a list-or-tuple of lists-or-tuples-or ndarrays with different lengths or shapes) is deprecated. If you meant to do this, you must specify 'dtype=object' when creating the ndarray\n",
      "  return array(a, dtype, copy=False, order=order)\n",
      "C:\\Users\\dzemel\\Miniconda3\\lib\\site-packages\\numpy\\core\\_asarray.py:83: VisibleDeprecationWarning: Creating an ndarray from ragged nested sequences (which is a list-or-tuple of lists-or-tuples-or ndarrays with different lengths or shapes) is deprecated. If you meant to do this, you must specify 'dtype=object' when creating the ndarray\n",
      "  return array(a, dtype, copy=False, order=order)\n",
      "C:\\Users\\dzemel\\Miniconda3\\lib\\site-packages\\numpy\\core\\_asarray.py:83: VisibleDeprecationWarning: Creating an ndarray from ragged nested sequences (which is a list-or-tuple of lists-or-tuples-or ndarrays with different lengths or shapes) is deprecated. If you meant to do this, you must specify 'dtype=object' when creating the ndarray\n",
      "  return array(a, dtype, copy=False, order=order)\n",
      "C:\\Users\\dzemel\\Miniconda3\\lib\\site-packages\\numpy\\core\\_asarray.py:83: VisibleDeprecationWarning: Creating an ndarray from ragged nested sequences (which is a list-or-tuple of lists-or-tuples-or ndarrays with different lengths or shapes) is deprecated. If you meant to do this, you must specify 'dtype=object' when creating the ndarray\n",
      "  return array(a, dtype, copy=False, order=order)\n",
      "C:\\Users\\dzemel\\Miniconda3\\lib\\site-packages\\numpy\\core\\_asarray.py:83: VisibleDeprecationWarning: Creating an ndarray from ragged nested sequences (which is a list-or-tuple of lists-or-tuples-or ndarrays with different lengths or shapes) is deprecated. If you meant to do this, you must specify 'dtype=object' when creating the ndarray\n",
      "  return array(a, dtype, copy=False, order=order)\n",
      "C:\\Users\\dzemel\\Miniconda3\\lib\\site-packages\\numpy\\core\\_asarray.py:83: VisibleDeprecationWarning: Creating an ndarray from ragged nested sequences (which is a list-or-tuple of lists-or-tuples-or ndarrays with different lengths or shapes) is deprecated. If you meant to do this, you must specify 'dtype=object' when creating the ndarray\n",
      "  return array(a, dtype, copy=False, order=order)\n",
      "C:\\Users\\dzemel\\Miniconda3\\lib\\site-packages\\numpy\\core\\_asarray.py:83: VisibleDeprecationWarning: Creating an ndarray from ragged nested sequences (which is a list-or-tuple of lists-or-tuples-or ndarrays with different lengths or shapes) is deprecated. If you meant to do this, you must specify 'dtype=object' when creating the ndarray\n",
      "  return array(a, dtype, copy=False, order=order)\n",
      "C:\\Users\\dzemel\\Miniconda3\\lib\\site-packages\\numpy\\core\\_asarray.py:83: VisibleDeprecationWarning: Creating an ndarray from ragged nested sequences (which is a list-or-tuple of lists-or-tuples-or ndarrays with different lengths or shapes) is deprecated. If you meant to do this, you must specify 'dtype=object' when creating the ndarray\n",
      "  return array(a, dtype, copy=False, order=order)\n"
     ]
    },
    {
     "name": "stderr",
     "output_type": "stream",
     "text": [
      "C:\\Users\\dzemel\\Miniconda3\\lib\\site-packages\\numpy\\core\\_asarray.py:83: VisibleDeprecationWarning: Creating an ndarray from ragged nested sequences (which is a list-or-tuple of lists-or-tuples-or ndarrays with different lengths or shapes) is deprecated. If you meant to do this, you must specify 'dtype=object' when creating the ndarray\n",
      "  return array(a, dtype, copy=False, order=order)\n",
      "C:\\Users\\dzemel\\Miniconda3\\lib\\site-packages\\numpy\\core\\_asarray.py:83: VisibleDeprecationWarning: Creating an ndarray from ragged nested sequences (which is a list-or-tuple of lists-or-tuples-or ndarrays with different lengths or shapes) is deprecated. If you meant to do this, you must specify 'dtype=object' when creating the ndarray\n",
      "  return array(a, dtype, copy=False, order=order)\n",
      "C:\\Users\\dzemel\\Miniconda3\\lib\\site-packages\\numpy\\core\\_asarray.py:83: VisibleDeprecationWarning: Creating an ndarray from ragged nested sequences (which is a list-or-tuple of lists-or-tuples-or ndarrays with different lengths or shapes) is deprecated. If you meant to do this, you must specify 'dtype=object' when creating the ndarray\n",
      "  return array(a, dtype, copy=False, order=order)\n",
      "C:\\Users\\dzemel\\Miniconda3\\lib\\site-packages\\numpy\\core\\_asarray.py:83: VisibleDeprecationWarning: Creating an ndarray from ragged nested sequences (which is a list-or-tuple of lists-or-tuples-or ndarrays with different lengths or shapes) is deprecated. If you meant to do this, you must specify 'dtype=object' when creating the ndarray\n",
      "  return array(a, dtype, copy=False, order=order)\n",
      "C:\\Users\\dzemel\\Miniconda3\\lib\\site-packages\\numpy\\core\\_asarray.py:83: VisibleDeprecationWarning: Creating an ndarray from ragged nested sequences (which is a list-or-tuple of lists-or-tuples-or ndarrays with different lengths or shapes) is deprecated. If you meant to do this, you must specify 'dtype=object' when creating the ndarray\n",
      "  return array(a, dtype, copy=False, order=order)\n",
      "C:\\Users\\dzemel\\Miniconda3\\lib\\site-packages\\numpy\\core\\_asarray.py:83: VisibleDeprecationWarning: Creating an ndarray from ragged nested sequences (which is a list-or-tuple of lists-or-tuples-or ndarrays with different lengths or shapes) is deprecated. If you meant to do this, you must specify 'dtype=object' when creating the ndarray\n",
      "  return array(a, dtype, copy=False, order=order)\n",
      "C:\\Users\\dzemel\\Miniconda3\\lib\\site-packages\\numpy\\core\\_asarray.py:83: VisibleDeprecationWarning: Creating an ndarray from ragged nested sequences (which is a list-or-tuple of lists-or-tuples-or ndarrays with different lengths or shapes) is deprecated. If you meant to do this, you must specify 'dtype=object' when creating the ndarray\n",
      "  return array(a, dtype, copy=False, order=order)\n",
      "C:\\Users\\dzemel\\Miniconda3\\lib\\site-packages\\numpy\\core\\_asarray.py:83: VisibleDeprecationWarning: Creating an ndarray from ragged nested sequences (which is a list-or-tuple of lists-or-tuples-or ndarrays with different lengths or shapes) is deprecated. If you meant to do this, you must specify 'dtype=object' when creating the ndarray\n",
      "  return array(a, dtype, copy=False, order=order)\n",
      "C:\\Users\\dzemel\\Miniconda3\\lib\\site-packages\\numpy\\core\\_asarray.py:83: VisibleDeprecationWarning: Creating an ndarray from ragged nested sequences (which is a list-or-tuple of lists-or-tuples-or ndarrays with different lengths or shapes) is deprecated. If you meant to do this, you must specify 'dtype=object' when creating the ndarray\n",
      "  return array(a, dtype, copy=False, order=order)\n",
      "C:\\Users\\dzemel\\Miniconda3\\lib\\site-packages\\numpy\\core\\_asarray.py:83: VisibleDeprecationWarning: Creating an ndarray from ragged nested sequences (which is a list-or-tuple of lists-or-tuples-or ndarrays with different lengths or shapes) is deprecated. If you meant to do this, you must specify 'dtype=object' when creating the ndarray\n",
      "  return array(a, dtype, copy=False, order=order)\n",
      "C:\\Users\\dzemel\\Miniconda3\\lib\\site-packages\\numpy\\core\\_asarray.py:83: VisibleDeprecationWarning: Creating an ndarray from ragged nested sequences (which is a list-or-tuple of lists-or-tuples-or ndarrays with different lengths or shapes) is deprecated. If you meant to do this, you must specify 'dtype=object' when creating the ndarray\n",
      "  return array(a, dtype, copy=False, order=order)\n",
      "C:\\Users\\dzemel\\Miniconda3\\lib\\site-packages\\numpy\\core\\_asarray.py:83: VisibleDeprecationWarning: Creating an ndarray from ragged nested sequences (which is a list-or-tuple of lists-or-tuples-or ndarrays with different lengths or shapes) is deprecated. If you meant to do this, you must specify 'dtype=object' when creating the ndarray\n",
      "  return array(a, dtype, copy=False, order=order)\n",
      "C:\\Users\\dzemel\\Miniconda3\\lib\\site-packages\\numpy\\core\\_asarray.py:83: VisibleDeprecationWarning: Creating an ndarray from ragged nested sequences (which is a list-or-tuple of lists-or-tuples-or ndarrays with different lengths or shapes) is deprecated. If you meant to do this, you must specify 'dtype=object' when creating the ndarray\n",
      "  return array(a, dtype, copy=False, order=order)\n",
      "C:\\Users\\dzemel\\Miniconda3\\lib\\site-packages\\numpy\\core\\_asarray.py:83: VisibleDeprecationWarning: Creating an ndarray from ragged nested sequences (which is a list-or-tuple of lists-or-tuples-or ndarrays with different lengths or shapes) is deprecated. If you meant to do this, you must specify 'dtype=object' when creating the ndarray\n",
      "  return array(a, dtype, copy=False, order=order)\n",
      "C:\\Users\\dzemel\\Miniconda3\\lib\\site-packages\\numpy\\core\\_asarray.py:83: VisibleDeprecationWarning: Creating an ndarray from ragged nested sequences (which is a list-or-tuple of lists-or-tuples-or ndarrays with different lengths or shapes) is deprecated. If you meant to do this, you must specify 'dtype=object' when creating the ndarray\n",
      "  return array(a, dtype, copy=False, order=order)\n",
      "C:\\Users\\dzemel\\Miniconda3\\lib\\site-packages\\numpy\\core\\_asarray.py:83: VisibleDeprecationWarning: Creating an ndarray from ragged nested sequences (which is a list-or-tuple of lists-or-tuples-or ndarrays with different lengths or shapes) is deprecated. If you meant to do this, you must specify 'dtype=object' when creating the ndarray\n",
      "  return array(a, dtype, copy=False, order=order)\n",
      "C:\\Users\\dzemel\\Miniconda3\\lib\\site-packages\\numpy\\core\\_asarray.py:83: VisibleDeprecationWarning: Creating an ndarray from ragged nested sequences (which is a list-or-tuple of lists-or-tuples-or ndarrays with different lengths or shapes) is deprecated. If you meant to do this, you must specify 'dtype=object' when creating the ndarray\n",
      "  return array(a, dtype, copy=False, order=order)\n",
      "C:\\Users\\dzemel\\Miniconda3\\lib\\site-packages\\numpy\\core\\_asarray.py:83: VisibleDeprecationWarning: Creating an ndarray from ragged nested sequences (which is a list-or-tuple of lists-or-tuples-or ndarrays with different lengths or shapes) is deprecated. If you meant to do this, you must specify 'dtype=object' when creating the ndarray\n",
      "  return array(a, dtype, copy=False, order=order)\n",
      "C:\\Users\\dzemel\\Miniconda3\\lib\\site-packages\\numpy\\core\\_asarray.py:83: VisibleDeprecationWarning: Creating an ndarray from ragged nested sequences (which is a list-or-tuple of lists-or-tuples-or ndarrays with different lengths or shapes) is deprecated. If you meant to do this, you must specify 'dtype=object' when creating the ndarray\n",
      "  return array(a, dtype, copy=False, order=order)\n",
      "C:\\Users\\dzemel\\Miniconda3\\lib\\site-packages\\numpy\\core\\_asarray.py:83: VisibleDeprecationWarning: Creating an ndarray from ragged nested sequences (which is a list-or-tuple of lists-or-tuples-or ndarrays with different lengths or shapes) is deprecated. If you meant to do this, you must specify 'dtype=object' when creating the ndarray\n",
      "  return array(a, dtype, copy=False, order=order)\n",
      "C:\\Users\\dzemel\\Miniconda3\\lib\\site-packages\\numpy\\core\\_asarray.py:83: VisibleDeprecationWarning: Creating an ndarray from ragged nested sequences (which is a list-or-tuple of lists-or-tuples-or ndarrays with different lengths or shapes) is deprecated. If you meant to do this, you must specify 'dtype=object' when creating the ndarray\n",
      "  return array(a, dtype, copy=False, order=order)\n",
      "C:\\Users\\dzemel\\Miniconda3\\lib\\site-packages\\numpy\\core\\_asarray.py:83: VisibleDeprecationWarning: Creating an ndarray from ragged nested sequences (which is a list-or-tuple of lists-or-tuples-or ndarrays with different lengths or shapes) is deprecated. If you meant to do this, you must specify 'dtype=object' when creating the ndarray\n",
      "  return array(a, dtype, copy=False, order=order)\n"
     ]
    },
    {
     "name": "stderr",
     "output_type": "stream",
     "text": [
      "D:\\6OHDA\\IO.py:152: H5pyDeprecationWarning: dataset.value has been deprecated. Use dataset[()] instead.\n",
      "  speed = hf[m][s]['mvmt']['speed'].value\n",
      "C:\\Users\\dzemel\\Miniconda3\\lib\\site-packages\\numpy\\core\\_asarray.py:83: VisibleDeprecationWarning: Creating an ndarray from ragged nested sequences (which is a list-or-tuple of lists-or-tuples-or ndarrays with different lengths or shapes) is deprecated. If you meant to do this, you must specify 'dtype=object' when creating the ndarray\n",
      "  return array(a, dtype, copy=False, order=order)\n"
     ]
    },
    {
     "name": "stdout",
     "output_type": "stream",
     "text": [
      "cleaning up speed data\n",
      "cleaning up speed data\n",
      "I deleted session: 7584_Baseline0\n",
      "I deleted session: 7584_day0\n",
      "I deleted session: 7584_day1\n",
      "I deleted session: 7584_day10\n",
      "I deleted session: 7584_day11\n",
      "I deleted session: 7584_day12\n",
      "I deleted session: 7584_day15\n",
      "I deleted session: 7584_day2\n",
      "I deleted session: 7584_day3\n",
      "I deleted session: 7584_day4\n",
      "I deleted session: 7584_day5\n",
      "I deleted session: 7584_day6\n",
      "I deleted session: 7584_day7\n",
      "I deleted session: 7584_day8\n",
      "I deleted session: 7584_day9\n"
     ]
    },
    {
     "name": "stderr",
     "output_type": "stream",
     "text": [
      "C:\\Users\\dzemel\\Miniconda3\\lib\\site-packages\\numpy\\core\\_asarray.py:83: VisibleDeprecationWarning: Creating an ndarray from ragged nested sequences (which is a list-or-tuple of lists-or-tuples-or ndarrays with different lengths or shapes) is deprecated. If you meant to do this, you must specify 'dtype=object' when creating the ndarray\n",
      "  return array(a, dtype, copy=False, order=order)\n",
      "C:\\Users\\dzemel\\Miniconda3\\lib\\site-packages\\numpy\\core\\_asarray.py:83: VisibleDeprecationWarning: Creating an ndarray from ragged nested sequences (which is a list-or-tuple of lists-or-tuples-or ndarrays with different lengths or shapes) is deprecated. If you meant to do this, you must specify 'dtype=object' when creating the ndarray\n",
      "  return array(a, dtype, copy=False, order=order)\n",
      "C:\\Users\\dzemel\\Miniconda3\\lib\\site-packages\\numpy\\core\\_asarray.py:83: VisibleDeprecationWarning: Creating an ndarray from ragged nested sequences (which is a list-or-tuple of lists-or-tuples-or ndarrays with different lengths or shapes) is deprecated. If you meant to do this, you must specify 'dtype=object' when creating the ndarray\n",
      "  return array(a, dtype, copy=False, order=order)\n",
      "C:\\Users\\dzemel\\Miniconda3\\lib\\site-packages\\numpy\\core\\_asarray.py:83: VisibleDeprecationWarning: Creating an ndarray from ragged nested sequences (which is a list-or-tuple of lists-or-tuples-or ndarrays with different lengths or shapes) is deprecated. If you meant to do this, you must specify 'dtype=object' when creating the ndarray\n",
      "  return array(a, dtype, copy=False, order=order)\n",
      "C:\\Users\\dzemel\\Miniconda3\\lib\\site-packages\\numpy\\core\\_asarray.py:83: VisibleDeprecationWarning: Creating an ndarray from ragged nested sequences (which is a list-or-tuple of lists-or-tuples-or ndarrays with different lengths or shapes) is deprecated. If you meant to do this, you must specify 'dtype=object' when creating the ndarray\n",
      "  return array(a, dtype, copy=False, order=order)\n",
      "C:\\Users\\dzemel\\Miniconda3\\lib\\site-packages\\numpy\\core\\_asarray.py:83: VisibleDeprecationWarning: Creating an ndarray from ragged nested sequences (which is a list-or-tuple of lists-or-tuples-or ndarrays with different lengths or shapes) is deprecated. If you meant to do this, you must specify 'dtype=object' when creating the ndarray\n",
      "  return array(a, dtype, copy=False, order=order)\n",
      "C:\\Users\\dzemel\\Miniconda3\\lib\\site-packages\\numpy\\core\\_asarray.py:83: VisibleDeprecationWarning: Creating an ndarray from ragged nested sequences (which is a list-or-tuple of lists-or-tuples-or ndarrays with different lengths or shapes) is deprecated. If you meant to do this, you must specify 'dtype=object' when creating the ndarray\n",
      "  return array(a, dtype, copy=False, order=order)\n",
      "C:\\Users\\dzemel\\Miniconda3\\lib\\site-packages\\numpy\\core\\_asarray.py:83: VisibleDeprecationWarning: Creating an ndarray from ragged nested sequences (which is a list-or-tuple of lists-or-tuples-or ndarrays with different lengths or shapes) is deprecated. If you meant to do this, you must specify 'dtype=object' when creating the ndarray\n",
      "  return array(a, dtype, copy=False, order=order)\n",
      "C:\\Users\\dzemel\\Miniconda3\\lib\\site-packages\\numpy\\core\\_asarray.py:83: VisibleDeprecationWarning: Creating an ndarray from ragged nested sequences (which is a list-or-tuple of lists-or-tuples-or ndarrays with different lengths or shapes) is deprecated. If you meant to do this, you must specify 'dtype=object' when creating the ndarray\n",
      "  return array(a, dtype, copy=False, order=order)\n",
      "C:\\Users\\dzemel\\Miniconda3\\lib\\site-packages\\numpy\\core\\_asarray.py:83: VisibleDeprecationWarning: Creating an ndarray from ragged nested sequences (which is a list-or-tuple of lists-or-tuples-or ndarrays with different lengths or shapes) is deprecated. If you meant to do this, you must specify 'dtype=object' when creating the ndarray\n",
      "  return array(a, dtype, copy=False, order=order)\n",
      "C:\\Users\\dzemel\\Miniconda3\\lib\\site-packages\\numpy\\core\\_asarray.py:83: VisibleDeprecationWarning: Creating an ndarray from ragged nested sequences (which is a list-or-tuple of lists-or-tuples-or ndarrays with different lengths or shapes) is deprecated. If you meant to do this, you must specify 'dtype=object' when creating the ndarray\n",
      "  return array(a, dtype, copy=False, order=order)\n",
      "C:\\Users\\dzemel\\Miniconda3\\lib\\site-packages\\numpy\\core\\_asarray.py:83: VisibleDeprecationWarning: Creating an ndarray from ragged nested sequences (which is a list-or-tuple of lists-or-tuples-or ndarrays with different lengths or shapes) is deprecated. If you meant to do this, you must specify 'dtype=object' when creating the ndarray\n",
      "  return array(a, dtype, copy=False, order=order)\n",
      "C:\\Users\\dzemel\\Miniconda3\\lib\\site-packages\\numpy\\core\\_asarray.py:83: VisibleDeprecationWarning: Creating an ndarray from ragged nested sequences (which is a list-or-tuple of lists-or-tuples-or ndarrays with different lengths or shapes) is deprecated. If you meant to do this, you must specify 'dtype=object' when creating the ndarray\n",
      "  return array(a, dtype, copy=False, order=order)\n",
      "C:\\Users\\dzemel\\Miniconda3\\lib\\site-packages\\numpy\\core\\_asarray.py:83: VisibleDeprecationWarning: Creating an ndarray from ragged nested sequences (which is a list-or-tuple of lists-or-tuples-or ndarrays with different lengths or shapes) is deprecated. If you meant to do this, you must specify 'dtype=object' when creating the ndarray\n",
      "  return array(a, dtype, copy=False, order=order)\n",
      "C:\\Users\\dzemel\\Miniconda3\\lib\\site-packages\\numpy\\core\\_asarray.py:83: VisibleDeprecationWarning: Creating an ndarray from ragged nested sequences (which is a list-or-tuple of lists-or-tuples-or ndarrays with different lengths or shapes) is deprecated. If you meant to do this, you must specify 'dtype=object' when creating the ndarray\n",
      "  return array(a, dtype, copy=False, order=order)\n",
      "C:\\Users\\dzemel\\Miniconda3\\lib\\site-packages\\numpy\\core\\_asarray.py:83: VisibleDeprecationWarning: Creating an ndarray from ragged nested sequences (which is a list-or-tuple of lists-or-tuples-or ndarrays with different lengths or shapes) is deprecated. If you meant to do this, you must specify 'dtype=object' when creating the ndarray\n",
      "  return array(a, dtype, copy=False, order=order)\n",
      "C:\\Users\\dzemel\\Miniconda3\\lib\\site-packages\\numpy\\core\\_asarray.py:83: VisibleDeprecationWarning: Creating an ndarray from ragged nested sequences (which is a list-or-tuple of lists-or-tuples-or ndarrays with different lengths or shapes) is deprecated. If you meant to do this, you must specify 'dtype=object' when creating the ndarray\n",
      "  return array(a, dtype, copy=False, order=order)\n",
      "C:\\Users\\dzemel\\Miniconda3\\lib\\site-packages\\numpy\\core\\_asarray.py:83: VisibleDeprecationWarning: Creating an ndarray from ragged nested sequences (which is a list-or-tuple of lists-or-tuples-or ndarrays with different lengths or shapes) is deprecated. If you meant to do this, you must specify 'dtype=object' when creating the ndarray\n",
      "  return array(a, dtype, copy=False, order=order)\n",
      "C:\\Users\\dzemel\\Miniconda3\\lib\\site-packages\\numpy\\core\\_asarray.py:83: VisibleDeprecationWarning: Creating an ndarray from ragged nested sequences (which is a list-or-tuple of lists-or-tuples-or ndarrays with different lengths or shapes) is deprecated. If you meant to do this, you must specify 'dtype=object' when creating the ndarray\n",
      "  return array(a, dtype, copy=False, order=order)\n",
      "C:\\Users\\dzemel\\Miniconda3\\lib\\site-packages\\numpy\\core\\_asarray.py:83: VisibleDeprecationWarning: Creating an ndarray from ragged nested sequences (which is a list-or-tuple of lists-or-tuples-or ndarrays with different lengths or shapes) is deprecated. If you meant to do this, you must specify 'dtype=object' when creating the ndarray\n",
      "  return array(a, dtype, copy=False, order=order)\n",
      "C:\\Users\\dzemel\\Miniconda3\\lib\\site-packages\\numpy\\core\\_asarray.py:83: VisibleDeprecationWarning: Creating an ndarray from ragged nested sequences (which is a list-or-tuple of lists-or-tuples-or ndarrays with different lengths or shapes) is deprecated. If you meant to do this, you must specify 'dtype=object' when creating the ndarray\n",
      "  return array(a, dtype, copy=False, order=order)\n",
      "C:\\Users\\dzemel\\Miniconda3\\lib\\site-packages\\numpy\\core\\_asarray.py:83: VisibleDeprecationWarning: Creating an ndarray from ragged nested sequences (which is a list-or-tuple of lists-or-tuples-or ndarrays with different lengths or shapes) is deprecated. If you meant to do this, you must specify 'dtype=object' when creating the ndarray\n",
      "  return array(a, dtype, copy=False, order=order)\n"
     ]
    },
    {
     "name": "stderr",
     "output_type": "stream",
     "text": [
      "C:\\Users\\dzemel\\Miniconda3\\lib\\site-packages\\numpy\\core\\_asarray.py:83: VisibleDeprecationWarning: Creating an ndarray from ragged nested sequences (which is a list-or-tuple of lists-or-tuples-or ndarrays with different lengths or shapes) is deprecated. If you meant to do this, you must specify 'dtype=object' when creating the ndarray\n",
      "  return array(a, dtype, copy=False, order=order)\n",
      "C:\\Users\\dzemel\\Miniconda3\\lib\\site-packages\\numpy\\core\\_asarray.py:83: VisibleDeprecationWarning: Creating an ndarray from ragged nested sequences (which is a list-or-tuple of lists-or-tuples-or ndarrays with different lengths or shapes) is deprecated. If you meant to do this, you must specify 'dtype=object' when creating the ndarray\n",
      "  return array(a, dtype, copy=False, order=order)\n",
      "C:\\Users\\dzemel\\Miniconda3\\lib\\site-packages\\numpy\\core\\_asarray.py:83: VisibleDeprecationWarning: Creating an ndarray from ragged nested sequences (which is a list-or-tuple of lists-or-tuples-or ndarrays with different lengths or shapes) is deprecated. If you meant to do this, you must specify 'dtype=object' when creating the ndarray\n",
      "  return array(a, dtype, copy=False, order=order)\n",
      "C:\\Users\\dzemel\\Miniconda3\\lib\\site-packages\\numpy\\core\\_asarray.py:83: VisibleDeprecationWarning: Creating an ndarray from ragged nested sequences (which is a list-or-tuple of lists-or-tuples-or ndarrays with different lengths or shapes) is deprecated. If you meant to do this, you must specify 'dtype=object' when creating the ndarray\n",
      "  return array(a, dtype, copy=False, order=order)\n",
      "C:\\Users\\dzemel\\Miniconda3\\lib\\site-packages\\numpy\\core\\_asarray.py:83: VisibleDeprecationWarning: Creating an ndarray from ragged nested sequences (which is a list-or-tuple of lists-or-tuples-or ndarrays with different lengths or shapes) is deprecated. If you meant to do this, you must specify 'dtype=object' when creating the ndarray\n",
      "  return array(a, dtype, copy=False, order=order)\n",
      "C:\\Users\\dzemel\\Miniconda3\\lib\\site-packages\\numpy\\core\\_asarray.py:83: VisibleDeprecationWarning: Creating an ndarray from ragged nested sequences (which is a list-or-tuple of lists-or-tuples-or ndarrays with different lengths or shapes) is deprecated. If you meant to do this, you must specify 'dtype=object' when creating the ndarray\n",
      "  return array(a, dtype, copy=False, order=order)\n",
      "C:\\Users\\dzemel\\Miniconda3\\lib\\site-packages\\numpy\\core\\_asarray.py:83: VisibleDeprecationWarning: Creating an ndarray from ragged nested sequences (which is a list-or-tuple of lists-or-tuples-or ndarrays with different lengths or shapes) is deprecated. If you meant to do this, you must specify 'dtype=object' when creating the ndarray\n",
      "  return array(a, dtype, copy=False, order=order)\n",
      "C:\\Users\\dzemel\\Miniconda3\\lib\\site-packages\\numpy\\core\\_asarray.py:83: VisibleDeprecationWarning: Creating an ndarray from ragged nested sequences (which is a list-or-tuple of lists-or-tuples-or ndarrays with different lengths or shapes) is deprecated. If you meant to do this, you must specify 'dtype=object' when creating the ndarray\n",
      "  return array(a, dtype, copy=False, order=order)\n",
      "C:\\Users\\dzemel\\Miniconda3\\lib\\site-packages\\numpy\\core\\_asarray.py:83: VisibleDeprecationWarning: Creating an ndarray from ragged nested sequences (which is a list-or-tuple of lists-or-tuples-or ndarrays with different lengths or shapes) is deprecated. If you meant to do this, you must specify 'dtype=object' when creating the ndarray\n",
      "  return array(a, dtype, copy=False, order=order)\n",
      "C:\\Users\\dzemel\\Miniconda3\\lib\\site-packages\\numpy\\core\\_asarray.py:83: VisibleDeprecationWarning: Creating an ndarray from ragged nested sequences (which is a list-or-tuple of lists-or-tuples-or ndarrays with different lengths or shapes) is deprecated. If you meant to do this, you must specify 'dtype=object' when creating the ndarray\n",
      "  return array(a, dtype, copy=False, order=order)\n",
      "C:\\Users\\dzemel\\Miniconda3\\lib\\site-packages\\numpy\\core\\_asarray.py:83: VisibleDeprecationWarning: Creating an ndarray from ragged nested sequences (which is a list-or-tuple of lists-or-tuples-or ndarrays with different lengths or shapes) is deprecated. If you meant to do this, you must specify 'dtype=object' when creating the ndarray\n",
      "  return array(a, dtype, copy=False, order=order)\n",
      "C:\\Users\\dzemel\\Miniconda3\\lib\\site-packages\\numpy\\core\\_asarray.py:83: VisibleDeprecationWarning: Creating an ndarray from ragged nested sequences (which is a list-or-tuple of lists-or-tuples-or ndarrays with different lengths or shapes) is deprecated. If you meant to do this, you must specify 'dtype=object' when creating the ndarray\n",
      "  return array(a, dtype, copy=False, order=order)\n",
      "C:\\Users\\dzemel\\Miniconda3\\lib\\site-packages\\numpy\\core\\_asarray.py:83: VisibleDeprecationWarning: Creating an ndarray from ragged nested sequences (which is a list-or-tuple of lists-or-tuples-or ndarrays with different lengths or shapes) is deprecated. If you meant to do this, you must specify 'dtype=object' when creating the ndarray\n",
      "  return array(a, dtype, copy=False, order=order)\n",
      "C:\\Users\\dzemel\\Miniconda3\\lib\\site-packages\\numpy\\core\\_asarray.py:83: VisibleDeprecationWarning: Creating an ndarray from ragged nested sequences (which is a list-or-tuple of lists-or-tuples-or ndarrays with different lengths or shapes) is deprecated. If you meant to do this, you must specify 'dtype=object' when creating the ndarray\n",
      "  return array(a, dtype, copy=False, order=order)\n",
      "C:\\Users\\dzemel\\Miniconda3\\lib\\site-packages\\numpy\\core\\_asarray.py:83: VisibleDeprecationWarning: Creating an ndarray from ragged nested sequences (which is a list-or-tuple of lists-or-tuples-or ndarrays with different lengths or shapes) is deprecated. If you meant to do this, you must specify 'dtype=object' when creating the ndarray\n",
      "  return array(a, dtype, copy=False, order=order)\n",
      "D:\\6OHDA\\IO.py:152: H5pyDeprecationWarning: dataset.value has been deprecated. Use dataset[()] instead.\n",
      "  speed = hf[m][s]['mvmt']['speed'].value\n",
      "C:\\Users\\dzemel\\Miniconda3\\lib\\site-packages\\numpy\\core\\_asarray.py:83: VisibleDeprecationWarning: Creating an ndarray from ragged nested sequences (which is a list-or-tuple of lists-or-tuples-or ndarrays with different lengths or shapes) is deprecated. If you meant to do this, you must specify 'dtype=object' when creating the ndarray\n",
      "  return array(a, dtype, copy=False, order=order)\n"
     ]
    },
    {
     "name": "stdout",
     "output_type": "stream",
     "text": [
      "cleaning up speed data\n",
      "cleaning up speed data\n",
      "I deleted session: 7909_day0\n",
      "I deleted session: 7909_day1\n",
      "I deleted session: 7909_day10\n",
      "I deleted session: 7909_day11\n",
      "I deleted session: 7909_day12\n",
      "I deleted session: 7909_day13\n",
      "I deleted session: 7909_day14\n",
      "I deleted session: 7909_day2\n",
      "I deleted session: 7909_day3\n",
      "I deleted session: 7909_day4\n",
      "I deleted session: 7909_day5\n",
      "I deleted session: 7909_day6\n",
      "I deleted session: 7909_day7\n",
      "I deleted session: 7909_day8\n",
      "I deleted session: 7909_day9\n"
     ]
    },
    {
     "name": "stderr",
     "output_type": "stream",
     "text": [
      "C:\\Users\\dzemel\\Miniconda3\\lib\\site-packages\\numpy\\core\\_asarray.py:83: VisibleDeprecationWarning: Creating an ndarray from ragged nested sequences (which is a list-or-tuple of lists-or-tuples-or ndarrays with different lengths or shapes) is deprecated. If you meant to do this, you must specify 'dtype=object' when creating the ndarray\n",
      "  return array(a, dtype, copy=False, order=order)\n",
      "C:\\Users\\dzemel\\Miniconda3\\lib\\site-packages\\numpy\\core\\_asarray.py:83: VisibleDeprecationWarning: Creating an ndarray from ragged nested sequences (which is a list-or-tuple of lists-or-tuples-or ndarrays with different lengths or shapes) is deprecated. If you meant to do this, you must specify 'dtype=object' when creating the ndarray\n",
      "  return array(a, dtype, copy=False, order=order)\n",
      "C:\\Users\\dzemel\\Miniconda3\\lib\\site-packages\\numpy\\core\\_asarray.py:83: VisibleDeprecationWarning: Creating an ndarray from ragged nested sequences (which is a list-or-tuple of lists-or-tuples-or ndarrays with different lengths or shapes) is deprecated. If you meant to do this, you must specify 'dtype=object' when creating the ndarray\n",
      "  return array(a, dtype, copy=False, order=order)\n",
      "C:\\Users\\dzemel\\Miniconda3\\lib\\site-packages\\numpy\\core\\_asarray.py:83: VisibleDeprecationWarning: Creating an ndarray from ragged nested sequences (which is a list-or-tuple of lists-or-tuples-or ndarrays with different lengths or shapes) is deprecated. If you meant to do this, you must specify 'dtype=object' when creating the ndarray\n",
      "  return array(a, dtype, copy=False, order=order)\n",
      "C:\\Users\\dzemel\\Miniconda3\\lib\\site-packages\\numpy\\core\\_asarray.py:83: VisibleDeprecationWarning: Creating an ndarray from ragged nested sequences (which is a list-or-tuple of lists-or-tuples-or ndarrays with different lengths or shapes) is deprecated. If you meant to do this, you must specify 'dtype=object' when creating the ndarray\n",
      "  return array(a, dtype, copy=False, order=order)\n",
      "C:\\Users\\dzemel\\Miniconda3\\lib\\site-packages\\numpy\\core\\_asarray.py:83: VisibleDeprecationWarning: Creating an ndarray from ragged nested sequences (which is a list-or-tuple of lists-or-tuples-or ndarrays with different lengths or shapes) is deprecated. If you meant to do this, you must specify 'dtype=object' when creating the ndarray\n",
      "  return array(a, dtype, copy=False, order=order)\n",
      "C:\\Users\\dzemel\\Miniconda3\\lib\\site-packages\\numpy\\core\\_asarray.py:83: VisibleDeprecationWarning: Creating an ndarray from ragged nested sequences (which is a list-or-tuple of lists-or-tuples-or ndarrays with different lengths or shapes) is deprecated. If you meant to do this, you must specify 'dtype=object' when creating the ndarray\n",
      "  return array(a, dtype, copy=False, order=order)\n",
      "C:\\Users\\dzemel\\Miniconda3\\lib\\site-packages\\numpy\\core\\_asarray.py:83: VisibleDeprecationWarning: Creating an ndarray from ragged nested sequences (which is a list-or-tuple of lists-or-tuples-or ndarrays with different lengths or shapes) is deprecated. If you meant to do this, you must specify 'dtype=object' when creating the ndarray\n",
      "  return array(a, dtype, copy=False, order=order)\n",
      "C:\\Users\\dzemel\\Miniconda3\\lib\\site-packages\\numpy\\core\\_asarray.py:83: VisibleDeprecationWarning: Creating an ndarray from ragged nested sequences (which is a list-or-tuple of lists-or-tuples-or ndarrays with different lengths or shapes) is deprecated. If you meant to do this, you must specify 'dtype=object' when creating the ndarray\n",
      "  return array(a, dtype, copy=False, order=order)\n",
      "C:\\Users\\dzemel\\Miniconda3\\lib\\site-packages\\numpy\\core\\_asarray.py:83: VisibleDeprecationWarning: Creating an ndarray from ragged nested sequences (which is a list-or-tuple of lists-or-tuples-or ndarrays with different lengths or shapes) is deprecated. If you meant to do this, you must specify 'dtype=object' when creating the ndarray\n",
      "  return array(a, dtype, copy=False, order=order)\n",
      "C:\\Users\\dzemel\\Miniconda3\\lib\\site-packages\\numpy\\core\\_asarray.py:83: VisibleDeprecationWarning: Creating an ndarray from ragged nested sequences (which is a list-or-tuple of lists-or-tuples-or ndarrays with different lengths or shapes) is deprecated. If you meant to do this, you must specify 'dtype=object' when creating the ndarray\n",
      "  return array(a, dtype, copy=False, order=order)\n",
      "C:\\Users\\dzemel\\Miniconda3\\lib\\site-packages\\numpy\\core\\_asarray.py:83: VisibleDeprecationWarning: Creating an ndarray from ragged nested sequences (which is a list-or-tuple of lists-or-tuples-or ndarrays with different lengths or shapes) is deprecated. If you meant to do this, you must specify 'dtype=object' when creating the ndarray\n",
      "  return array(a, dtype, copy=False, order=order)\n",
      "C:\\Users\\dzemel\\Miniconda3\\lib\\site-packages\\numpy\\core\\_asarray.py:83: VisibleDeprecationWarning: Creating an ndarray from ragged nested sequences (which is a list-or-tuple of lists-or-tuples-or ndarrays with different lengths or shapes) is deprecated. If you meant to do this, you must specify 'dtype=object' when creating the ndarray\n",
      "  return array(a, dtype, copy=False, order=order)\n",
      "C:\\Users\\dzemel\\Miniconda3\\lib\\site-packages\\numpy\\core\\_asarray.py:83: VisibleDeprecationWarning: Creating an ndarray from ragged nested sequences (which is a list-or-tuple of lists-or-tuples-or ndarrays with different lengths or shapes) is deprecated. If you meant to do this, you must specify 'dtype=object' when creating the ndarray\n",
      "  return array(a, dtype, copy=False, order=order)\n",
      "C:\\Users\\dzemel\\Miniconda3\\lib\\site-packages\\numpy\\core\\_asarray.py:83: VisibleDeprecationWarning: Creating an ndarray from ragged nested sequences (which is a list-or-tuple of lists-or-tuples-or ndarrays with different lengths or shapes) is deprecated. If you meant to do this, you must specify 'dtype=object' when creating the ndarray\n",
      "  return array(a, dtype, copy=False, order=order)\n",
      "C:\\Users\\dzemel\\Miniconda3\\lib\\site-packages\\numpy\\core\\_asarray.py:83: VisibleDeprecationWarning: Creating an ndarray from ragged nested sequences (which is a list-or-tuple of lists-or-tuples-or ndarrays with different lengths or shapes) is deprecated. If you meant to do this, you must specify 'dtype=object' when creating the ndarray\n",
      "  return array(a, dtype, copy=False, order=order)\n",
      "C:\\Users\\dzemel\\Miniconda3\\lib\\site-packages\\numpy\\core\\_asarray.py:83: VisibleDeprecationWarning: Creating an ndarray from ragged nested sequences (which is a list-or-tuple of lists-or-tuples-or ndarrays with different lengths or shapes) is deprecated. If you meant to do this, you must specify 'dtype=object' when creating the ndarray\n",
      "  return array(a, dtype, copy=False, order=order)\n",
      "C:\\Users\\dzemel\\Miniconda3\\lib\\site-packages\\numpy\\core\\_asarray.py:83: VisibleDeprecationWarning: Creating an ndarray from ragged nested sequences (which is a list-or-tuple of lists-or-tuples-or ndarrays with different lengths or shapes) is deprecated. If you meant to do this, you must specify 'dtype=object' when creating the ndarray\n",
      "  return array(a, dtype, copy=False, order=order)\n",
      "C:\\Users\\dzemel\\Miniconda3\\lib\\site-packages\\numpy\\core\\_asarray.py:83: VisibleDeprecationWarning: Creating an ndarray from ragged nested sequences (which is a list-or-tuple of lists-or-tuples-or ndarrays with different lengths or shapes) is deprecated. If you meant to do this, you must specify 'dtype=object' when creating the ndarray\n",
      "  return array(a, dtype, copy=False, order=order)\n",
      "C:\\Users\\dzemel\\Miniconda3\\lib\\site-packages\\numpy\\core\\_asarray.py:83: VisibleDeprecationWarning: Creating an ndarray from ragged nested sequences (which is a list-or-tuple of lists-or-tuples-or ndarrays with different lengths or shapes) is deprecated. If you meant to do this, you must specify 'dtype=object' when creating the ndarray\n",
      "  return array(a, dtype, copy=False, order=order)\n",
      "C:\\Users\\dzemel\\Miniconda3\\lib\\site-packages\\numpy\\core\\_asarray.py:83: VisibleDeprecationWarning: Creating an ndarray from ragged nested sequences (which is a list-or-tuple of lists-or-tuples-or ndarrays with different lengths or shapes) is deprecated. If you meant to do this, you must specify 'dtype=object' when creating the ndarray\n",
      "  return array(a, dtype, copy=False, order=order)\n",
      "C:\\Users\\dzemel\\Miniconda3\\lib\\site-packages\\numpy\\core\\_asarray.py:83: VisibleDeprecationWarning: Creating an ndarray from ragged nested sequences (which is a list-or-tuple of lists-or-tuples-or ndarrays with different lengths or shapes) is deprecated. If you meant to do this, you must specify 'dtype=object' when creating the ndarray\n",
      "  return array(a, dtype, copy=False, order=order)\n"
     ]
    },
    {
     "name": "stderr",
     "output_type": "stream",
     "text": [
      "C:\\Users\\dzemel\\Miniconda3\\lib\\site-packages\\numpy\\core\\_asarray.py:83: VisibleDeprecationWarning: Creating an ndarray from ragged nested sequences (which is a list-or-tuple of lists-or-tuples-or ndarrays with different lengths or shapes) is deprecated. If you meant to do this, you must specify 'dtype=object' when creating the ndarray\n",
      "  return array(a, dtype, copy=False, order=order)\n",
      "C:\\Users\\dzemel\\Miniconda3\\lib\\site-packages\\numpy\\core\\_asarray.py:83: VisibleDeprecationWarning: Creating an ndarray from ragged nested sequences (which is a list-or-tuple of lists-or-tuples-or ndarrays with different lengths or shapes) is deprecated. If you meant to do this, you must specify 'dtype=object' when creating the ndarray\n",
      "  return array(a, dtype, copy=False, order=order)\n",
      "C:\\Users\\dzemel\\Miniconda3\\lib\\site-packages\\numpy\\core\\_asarray.py:83: VisibleDeprecationWarning: Creating an ndarray from ragged nested sequences (which is a list-or-tuple of lists-or-tuples-or ndarrays with different lengths or shapes) is deprecated. If you meant to do this, you must specify 'dtype=object' when creating the ndarray\n",
      "  return array(a, dtype, copy=False, order=order)\n",
      "C:\\Users\\dzemel\\Miniconda3\\lib\\site-packages\\numpy\\core\\_asarray.py:83: VisibleDeprecationWarning: Creating an ndarray from ragged nested sequences (which is a list-or-tuple of lists-or-tuples-or ndarrays with different lengths or shapes) is deprecated. If you meant to do this, you must specify 'dtype=object' when creating the ndarray\n",
      "  return array(a, dtype, copy=False, order=order)\n",
      "C:\\Users\\dzemel\\Miniconda3\\lib\\site-packages\\numpy\\core\\_asarray.py:83: VisibleDeprecationWarning: Creating an ndarray from ragged nested sequences (which is a list-or-tuple of lists-or-tuples-or ndarrays with different lengths or shapes) is deprecated. If you meant to do this, you must specify 'dtype=object' when creating the ndarray\n",
      "  return array(a, dtype, copy=False, order=order)\n",
      "C:\\Users\\dzemel\\Miniconda3\\lib\\site-packages\\numpy\\core\\_asarray.py:83: VisibleDeprecationWarning: Creating an ndarray from ragged nested sequences (which is a list-or-tuple of lists-or-tuples-or ndarrays with different lengths or shapes) is deprecated. If you meant to do this, you must specify 'dtype=object' when creating the ndarray\n",
      "  return array(a, dtype, copy=False, order=order)\n",
      "C:\\Users\\dzemel\\Miniconda3\\lib\\site-packages\\numpy\\core\\_asarray.py:83: VisibleDeprecationWarning: Creating an ndarray from ragged nested sequences (which is a list-or-tuple of lists-or-tuples-or ndarrays with different lengths or shapes) is deprecated. If you meant to do this, you must specify 'dtype=object' when creating the ndarray\n",
      "  return array(a, dtype, copy=False, order=order)\n",
      "C:\\Users\\dzemel\\Miniconda3\\lib\\site-packages\\numpy\\core\\_asarray.py:83: VisibleDeprecationWarning: Creating an ndarray from ragged nested sequences (which is a list-or-tuple of lists-or-tuples-or ndarrays with different lengths or shapes) is deprecated. If you meant to do this, you must specify 'dtype=object' when creating the ndarray\n",
      "  return array(a, dtype, copy=False, order=order)\n",
      "C:\\Users\\dzemel\\Miniconda3\\lib\\site-packages\\numpy\\core\\_asarray.py:83: VisibleDeprecationWarning: Creating an ndarray from ragged nested sequences (which is a list-or-tuple of lists-or-tuples-or ndarrays with different lengths or shapes) is deprecated. If you meant to do this, you must specify 'dtype=object' when creating the ndarray\n",
      "  return array(a, dtype, copy=False, order=order)\n",
      "C:\\Users\\dzemel\\Miniconda3\\lib\\site-packages\\numpy\\core\\_asarray.py:83: VisibleDeprecationWarning: Creating an ndarray from ragged nested sequences (which is a list-or-tuple of lists-or-tuples-or ndarrays with different lengths or shapes) is deprecated. If you meant to do this, you must specify 'dtype=object' when creating the ndarray\n",
      "  return array(a, dtype, copy=False, order=order)\n",
      "C:\\Users\\dzemel\\Miniconda3\\lib\\site-packages\\numpy\\core\\_asarray.py:83: VisibleDeprecationWarning: Creating an ndarray from ragged nested sequences (which is a list-or-tuple of lists-or-tuples-or ndarrays with different lengths or shapes) is deprecated. If you meant to do this, you must specify 'dtype=object' when creating the ndarray\n",
      "  return array(a, dtype, copy=False, order=order)\n",
      "C:\\Users\\dzemel\\Miniconda3\\lib\\site-packages\\numpy\\core\\_asarray.py:83: VisibleDeprecationWarning: Creating an ndarray from ragged nested sequences (which is a list-or-tuple of lists-or-tuples-or ndarrays with different lengths or shapes) is deprecated. If you meant to do this, you must specify 'dtype=object' when creating the ndarray\n",
      "  return array(a, dtype, copy=False, order=order)\n",
      "C:\\Users\\dzemel\\Miniconda3\\lib\\site-packages\\numpy\\core\\_asarray.py:83: VisibleDeprecationWarning: Creating an ndarray from ragged nested sequences (which is a list-or-tuple of lists-or-tuples-or ndarrays with different lengths or shapes) is deprecated. If you meant to do this, you must specify 'dtype=object' when creating the ndarray\n",
      "  return array(a, dtype, copy=False, order=order)\n",
      "C:\\Users\\dzemel\\Miniconda3\\lib\\site-packages\\numpy\\core\\_asarray.py:83: VisibleDeprecationWarning: Creating an ndarray from ragged nested sequences (which is a list-or-tuple of lists-or-tuples-or ndarrays with different lengths or shapes) is deprecated. If you meant to do this, you must specify 'dtype=object' when creating the ndarray\n",
      "  return array(a, dtype, copy=False, order=order)\n",
      "C:\\Users\\dzemel\\Miniconda3\\lib\\site-packages\\numpy\\core\\_asarray.py:83: VisibleDeprecationWarning: Creating an ndarray from ragged nested sequences (which is a list-or-tuple of lists-or-tuples-or ndarrays with different lengths or shapes) is deprecated. If you meant to do this, you must specify 'dtype=object' when creating the ndarray\n",
      "  return array(a, dtype, copy=False, order=order)\n",
      "C:\\Users\\dzemel\\Miniconda3\\lib\\site-packages\\numpy\\core\\_asarray.py:83: VisibleDeprecationWarning: Creating an ndarray from ragged nested sequences (which is a list-or-tuple of lists-or-tuples-or ndarrays with different lengths or shapes) is deprecated. If you meant to do this, you must specify 'dtype=object' when creating the ndarray\n",
      "  return array(a, dtype, copy=False, order=order)\n",
      "C:\\Users\\dzemel\\Miniconda3\\lib\\site-packages\\numpy\\core\\_asarray.py:83: VisibleDeprecationWarning: Creating an ndarray from ragged nested sequences (which is a list-or-tuple of lists-or-tuples-or ndarrays with different lengths or shapes) is deprecated. If you meant to do this, you must specify 'dtype=object' when creating the ndarray\n",
      "  return array(a, dtype, copy=False, order=order)\n",
      "C:\\Users\\dzemel\\Miniconda3\\lib\\site-packages\\numpy\\core\\_asarray.py:83: VisibleDeprecationWarning: Creating an ndarray from ragged nested sequences (which is a list-or-tuple of lists-or-tuples-or ndarrays with different lengths or shapes) is deprecated. If you meant to do this, you must specify 'dtype=object' when creating the ndarray\n",
      "  return array(a, dtype, copy=False, order=order)\n",
      "C:\\Users\\dzemel\\Miniconda3\\lib\\site-packages\\numpy\\core\\_asarray.py:83: VisibleDeprecationWarning: Creating an ndarray from ragged nested sequences (which is a list-or-tuple of lists-or-tuples-or ndarrays with different lengths or shapes) is deprecated. If you meant to do this, you must specify 'dtype=object' when creating the ndarray\n",
      "  return array(a, dtype, copy=False, order=order)\n",
      "C:\\Users\\dzemel\\Miniconda3\\lib\\site-packages\\numpy\\core\\_asarray.py:83: VisibleDeprecationWarning: Creating an ndarray from ragged nested sequences (which is a list-or-tuple of lists-or-tuples-or ndarrays with different lengths or shapes) is deprecated. If you meant to do this, you must specify 'dtype=object' when creating the ndarray\n",
      "  return array(a, dtype, copy=False, order=order)\n",
      "C:\\Users\\dzemel\\Miniconda3\\lib\\site-packages\\numpy\\core\\_asarray.py:83: VisibleDeprecationWarning: Creating an ndarray from ragged nested sequences (which is a list-or-tuple of lists-or-tuples-or ndarrays with different lengths or shapes) is deprecated. If you meant to do this, you must specify 'dtype=object' when creating the ndarray\n",
      "  return array(a, dtype, copy=False, order=order)\n",
      "D:\\6OHDA\\IO.py:152: H5pyDeprecationWarning: dataset.value has been deprecated. Use dataset[()] instead.\n",
      "  speed = hf[m][s]['mvmt']['speed'].value\n",
      "C:\\Users\\dzemel\\Miniconda3\\lib\\site-packages\\numpy\\core\\_asarray.py:83: VisibleDeprecationWarning: Creating an ndarray from ragged nested sequences (which is a list-or-tuple of lists-or-tuples-or ndarrays with different lengths or shapes) is deprecated. If you meant to do this, you must specify 'dtype=object' when creating the ndarray\n",
      "  return array(a, dtype, copy=False, order=order)\n"
     ]
    },
    {
     "name": "stdout",
     "output_type": "stream",
     "text": [
      "cleaning up speed data\n",
      "cleaning up speed data\n",
      "I deleted session: 8430_day1\n",
      "I deleted session: 8430_day11\n",
      "I deleted session: 8430_day3\n",
      "I deleted session: 8430_day5\n",
      "I deleted session: 8430_day7\n",
      "I deleted session: 8430_day9\n"
     ]
    },
    {
     "name": "stderr",
     "output_type": "stream",
     "text": [
      "C:\\Users\\dzemel\\Miniconda3\\lib\\site-packages\\numpy\\core\\_asarray.py:83: VisibleDeprecationWarning: Creating an ndarray from ragged nested sequences (which is a list-or-tuple of lists-or-tuples-or ndarrays with different lengths or shapes) is deprecated. If you meant to do this, you must specify 'dtype=object' when creating the ndarray\n",
      "  return array(a, dtype, copy=False, order=order)\n",
      "C:\\Users\\dzemel\\Miniconda3\\lib\\site-packages\\numpy\\core\\_asarray.py:83: VisibleDeprecationWarning: Creating an ndarray from ragged nested sequences (which is a list-or-tuple of lists-or-tuples-or ndarrays with different lengths or shapes) is deprecated. If you meant to do this, you must specify 'dtype=object' when creating the ndarray\n",
      "  return array(a, dtype, copy=False, order=order)\n",
      "C:\\Users\\dzemel\\Miniconda3\\lib\\site-packages\\numpy\\core\\_asarray.py:83: VisibleDeprecationWarning: Creating an ndarray from ragged nested sequences (which is a list-or-tuple of lists-or-tuples-or ndarrays with different lengths or shapes) is deprecated. If you meant to do this, you must specify 'dtype=object' when creating the ndarray\n",
      "  return array(a, dtype, copy=False, order=order)\n",
      "C:\\Users\\dzemel\\Miniconda3\\lib\\site-packages\\numpy\\core\\_asarray.py:83: VisibleDeprecationWarning: Creating an ndarray from ragged nested sequences (which is a list-or-tuple of lists-or-tuples-or ndarrays with different lengths or shapes) is deprecated. If you meant to do this, you must specify 'dtype=object' when creating the ndarray\n",
      "  return array(a, dtype, copy=False, order=order)\n",
      "C:\\Users\\dzemel\\Miniconda3\\lib\\site-packages\\numpy\\core\\_asarray.py:83: VisibleDeprecationWarning: Creating an ndarray from ragged nested sequences (which is a list-or-tuple of lists-or-tuples-or ndarrays with different lengths or shapes) is deprecated. If you meant to do this, you must specify 'dtype=object' when creating the ndarray\n",
      "  return array(a, dtype, copy=False, order=order)\n",
      "C:\\Users\\dzemel\\Miniconda3\\lib\\site-packages\\numpy\\core\\_asarray.py:83: VisibleDeprecationWarning: Creating an ndarray from ragged nested sequences (which is a list-or-tuple of lists-or-tuples-or ndarrays with different lengths or shapes) is deprecated. If you meant to do this, you must specify 'dtype=object' when creating the ndarray\n",
      "  return array(a, dtype, copy=False, order=order)\n",
      "C:\\Users\\dzemel\\Miniconda3\\lib\\site-packages\\numpy\\core\\_asarray.py:83: VisibleDeprecationWarning: Creating an ndarray from ragged nested sequences (which is a list-or-tuple of lists-or-tuples-or ndarrays with different lengths or shapes) is deprecated. If you meant to do this, you must specify 'dtype=object' when creating the ndarray\n",
      "  return array(a, dtype, copy=False, order=order)\n",
      "C:\\Users\\dzemel\\Miniconda3\\lib\\site-packages\\numpy\\core\\_asarray.py:83: VisibleDeprecationWarning: Creating an ndarray from ragged nested sequences (which is a list-or-tuple of lists-or-tuples-or ndarrays with different lengths or shapes) is deprecated. If you meant to do this, you must specify 'dtype=object' when creating the ndarray\n",
      "  return array(a, dtype, copy=False, order=order)\n",
      "C:\\Users\\dzemel\\Miniconda3\\lib\\site-packages\\numpy\\core\\_asarray.py:83: VisibleDeprecationWarning: Creating an ndarray from ragged nested sequences (which is a list-or-tuple of lists-or-tuples-or ndarrays with different lengths or shapes) is deprecated. If you meant to do this, you must specify 'dtype=object' when creating the ndarray\n",
      "  return array(a, dtype, copy=False, order=order)\n",
      "C:\\Users\\dzemel\\Miniconda3\\lib\\site-packages\\numpy\\core\\_asarray.py:83: VisibleDeprecationWarning: Creating an ndarray from ragged nested sequences (which is a list-or-tuple of lists-or-tuples-or ndarrays with different lengths or shapes) is deprecated. If you meant to do this, you must specify 'dtype=object' when creating the ndarray\n",
      "  return array(a, dtype, copy=False, order=order)\n",
      "C:\\Users\\dzemel\\Miniconda3\\lib\\site-packages\\numpy\\core\\_asarray.py:83: VisibleDeprecationWarning: Creating an ndarray from ragged nested sequences (which is a list-or-tuple of lists-or-tuples-or ndarrays with different lengths or shapes) is deprecated. If you meant to do this, you must specify 'dtype=object' when creating the ndarray\n",
      "  return array(a, dtype, copy=False, order=order)\n",
      "C:\\Users\\dzemel\\Miniconda3\\lib\\site-packages\\numpy\\core\\_asarray.py:83: VisibleDeprecationWarning: Creating an ndarray from ragged nested sequences (which is a list-or-tuple of lists-or-tuples-or ndarrays with different lengths or shapes) is deprecated. If you meant to do this, you must specify 'dtype=object' when creating the ndarray\n",
      "  return array(a, dtype, copy=False, order=order)\n",
      "C:\\Users\\dzemel\\Miniconda3\\lib\\site-packages\\numpy\\core\\_asarray.py:83: VisibleDeprecationWarning: Creating an ndarray from ragged nested sequences (which is a list-or-tuple of lists-or-tuples-or ndarrays with different lengths or shapes) is deprecated. If you meant to do this, you must specify 'dtype=object' when creating the ndarray\n",
      "  return array(a, dtype, copy=False, order=order)\n",
      "C:\\Users\\dzemel\\Miniconda3\\lib\\site-packages\\numpy\\core\\_asarray.py:83: VisibleDeprecationWarning: Creating an ndarray from ragged nested sequences (which is a list-or-tuple of lists-or-tuples-or ndarrays with different lengths or shapes) is deprecated. If you meant to do this, you must specify 'dtype=object' when creating the ndarray\n",
      "  return array(a, dtype, copy=False, order=order)\n",
      "C:\\Users\\dzemel\\Miniconda3\\lib\\site-packages\\numpy\\core\\_asarray.py:83: VisibleDeprecationWarning: Creating an ndarray from ragged nested sequences (which is a list-or-tuple of lists-or-tuples-or ndarrays with different lengths or shapes) is deprecated. If you meant to do this, you must specify 'dtype=object' when creating the ndarray\n",
      "  return array(a, dtype, copy=False, order=order)\n",
      "C:\\Users\\dzemel\\Miniconda3\\lib\\site-packages\\numpy\\core\\_asarray.py:83: VisibleDeprecationWarning: Creating an ndarray from ragged nested sequences (which is a list-or-tuple of lists-or-tuples-or ndarrays with different lengths or shapes) is deprecated. If you meant to do this, you must specify 'dtype=object' when creating the ndarray\n",
      "  return array(a, dtype, copy=False, order=order)\n",
      "C:\\Users\\dzemel\\Miniconda3\\lib\\site-packages\\numpy\\core\\_asarray.py:83: VisibleDeprecationWarning: Creating an ndarray from ragged nested sequences (which is a list-or-tuple of lists-or-tuples-or ndarrays with different lengths or shapes) is deprecated. If you meant to do this, you must specify 'dtype=object' when creating the ndarray\n",
      "  return array(a, dtype, copy=False, order=order)\n",
      "C:\\Users\\dzemel\\Miniconda3\\lib\\site-packages\\numpy\\core\\_asarray.py:83: VisibleDeprecationWarning: Creating an ndarray from ragged nested sequences (which is a list-or-tuple of lists-or-tuples-or ndarrays with different lengths or shapes) is deprecated. If you meant to do this, you must specify 'dtype=object' when creating the ndarray\n",
      "  return array(a, dtype, copy=False, order=order)\n",
      "C:\\Users\\dzemel\\Miniconda3\\lib\\site-packages\\numpy\\core\\_asarray.py:83: VisibleDeprecationWarning: Creating an ndarray from ragged nested sequences (which is a list-or-tuple of lists-or-tuples-or ndarrays with different lengths or shapes) is deprecated. If you meant to do this, you must specify 'dtype=object' when creating the ndarray\n",
      "  return array(a, dtype, copy=False, order=order)\n",
      "C:\\Users\\dzemel\\Miniconda3\\lib\\site-packages\\numpy\\core\\_asarray.py:83: VisibleDeprecationWarning: Creating an ndarray from ragged nested sequences (which is a list-or-tuple of lists-or-tuples-or ndarrays with different lengths or shapes) is deprecated. If you meant to do this, you must specify 'dtype=object' when creating the ndarray\n",
      "  return array(a, dtype, copy=False, order=order)\n",
      "C:\\Users\\dzemel\\Miniconda3\\lib\\site-packages\\numpy\\core\\_asarray.py:83: VisibleDeprecationWarning: Creating an ndarray from ragged nested sequences (which is a list-or-tuple of lists-or-tuples-or ndarrays with different lengths or shapes) is deprecated. If you meant to do this, you must specify 'dtype=object' when creating the ndarray\n",
      "  return array(a, dtype, copy=False, order=order)\n",
      "C:\\Users\\dzemel\\Miniconda3\\lib\\site-packages\\numpy\\core\\_asarray.py:83: VisibleDeprecationWarning: Creating an ndarray from ragged nested sequences (which is a list-or-tuple of lists-or-tuples-or ndarrays with different lengths or shapes) is deprecated. If you meant to do this, you must specify 'dtype=object' when creating the ndarray\n",
      "  return array(a, dtype, copy=False, order=order)\n"
     ]
    },
    {
     "name": "stderr",
     "output_type": "stream",
     "text": [
      "C:\\Users\\dzemel\\Miniconda3\\lib\\site-packages\\numpy\\core\\_asarray.py:83: VisibleDeprecationWarning: Creating an ndarray from ragged nested sequences (which is a list-or-tuple of lists-or-tuples-or ndarrays with different lengths or shapes) is deprecated. If you meant to do this, you must specify 'dtype=object' when creating the ndarray\n",
      "  return array(a, dtype, copy=False, order=order)\n",
      "C:\\Users\\dzemel\\Miniconda3\\lib\\site-packages\\numpy\\core\\_asarray.py:83: VisibleDeprecationWarning: Creating an ndarray from ragged nested sequences (which is a list-or-tuple of lists-or-tuples-or ndarrays with different lengths or shapes) is deprecated. If you meant to do this, you must specify 'dtype=object' when creating the ndarray\n",
      "  return array(a, dtype, copy=False, order=order)\n",
      "C:\\Users\\dzemel\\Miniconda3\\lib\\site-packages\\numpy\\core\\_asarray.py:83: VisibleDeprecationWarning: Creating an ndarray from ragged nested sequences (which is a list-or-tuple of lists-or-tuples-or ndarrays with different lengths or shapes) is deprecated. If you meant to do this, you must specify 'dtype=object' when creating the ndarray\n",
      "  return array(a, dtype, copy=False, order=order)\n",
      "C:\\Users\\dzemel\\Miniconda3\\lib\\site-packages\\numpy\\core\\_asarray.py:83: VisibleDeprecationWarning: Creating an ndarray from ragged nested sequences (which is a list-or-tuple of lists-or-tuples-or ndarrays with different lengths or shapes) is deprecated. If you meant to do this, you must specify 'dtype=object' when creating the ndarray\n",
      "  return array(a, dtype, copy=False, order=order)\n",
      "C:\\Users\\dzemel\\Miniconda3\\lib\\site-packages\\numpy\\core\\_asarray.py:83: VisibleDeprecationWarning: Creating an ndarray from ragged nested sequences (which is a list-or-tuple of lists-or-tuples-or ndarrays with different lengths or shapes) is deprecated. If you meant to do this, you must specify 'dtype=object' when creating the ndarray\n",
      "  return array(a, dtype, copy=False, order=order)\n",
      "C:\\Users\\dzemel\\Miniconda3\\lib\\site-packages\\numpy\\core\\_asarray.py:83: VisibleDeprecationWarning: Creating an ndarray from ragged nested sequences (which is a list-or-tuple of lists-or-tuples-or ndarrays with different lengths or shapes) is deprecated. If you meant to do this, you must specify 'dtype=object' when creating the ndarray\n",
      "  return array(a, dtype, copy=False, order=order)\n",
      "C:\\Users\\dzemel\\Miniconda3\\lib\\site-packages\\numpy\\core\\_asarray.py:83: VisibleDeprecationWarning: Creating an ndarray from ragged nested sequences (which is a list-or-tuple of lists-or-tuples-or ndarrays with different lengths or shapes) is deprecated. If you meant to do this, you must specify 'dtype=object' when creating the ndarray\n",
      "  return array(a, dtype, copy=False, order=order)\n",
      "C:\\Users\\dzemel\\Miniconda3\\lib\\site-packages\\numpy\\core\\_asarray.py:83: VisibleDeprecationWarning: Creating an ndarray from ragged nested sequences (which is a list-or-tuple of lists-or-tuples-or ndarrays with different lengths or shapes) is deprecated. If you meant to do this, you must specify 'dtype=object' when creating the ndarray\n",
      "  return array(a, dtype, copy=False, order=order)\n",
      "C:\\Users\\dzemel\\Miniconda3\\lib\\site-packages\\numpy\\core\\_asarray.py:83: VisibleDeprecationWarning: Creating an ndarray from ragged nested sequences (which is a list-or-tuple of lists-or-tuples-or ndarrays with different lengths or shapes) is deprecated. If you meant to do this, you must specify 'dtype=object' when creating the ndarray\n",
      "  return array(a, dtype, copy=False, order=order)\n",
      "C:\\Users\\dzemel\\Miniconda3\\lib\\site-packages\\numpy\\core\\_asarray.py:83: VisibleDeprecationWarning: Creating an ndarray from ragged nested sequences (which is a list-or-tuple of lists-or-tuples-or ndarrays with different lengths or shapes) is deprecated. If you meant to do this, you must specify 'dtype=object' when creating the ndarray\n",
      "  return array(a, dtype, copy=False, order=order)\n",
      "C:\\Users\\dzemel\\Miniconda3\\lib\\site-packages\\numpy\\core\\_asarray.py:83: VisibleDeprecationWarning: Creating an ndarray from ragged nested sequences (which is a list-or-tuple of lists-or-tuples-or ndarrays with different lengths or shapes) is deprecated. If you meant to do this, you must specify 'dtype=object' when creating the ndarray\n",
      "  return array(a, dtype, copy=False, order=order)\n",
      "C:\\Users\\dzemel\\Miniconda3\\lib\\site-packages\\numpy\\core\\_asarray.py:83: VisibleDeprecationWarning: Creating an ndarray from ragged nested sequences (which is a list-or-tuple of lists-or-tuples-or ndarrays with different lengths or shapes) is deprecated. If you meant to do this, you must specify 'dtype=object' when creating the ndarray\n",
      "  return array(a, dtype, copy=False, order=order)\n",
      "C:\\Users\\dzemel\\Miniconda3\\lib\\site-packages\\numpy\\core\\_asarray.py:83: VisibleDeprecationWarning: Creating an ndarray from ragged nested sequences (which is a list-or-tuple of lists-or-tuples-or ndarrays with different lengths or shapes) is deprecated. If you meant to do this, you must specify 'dtype=object' when creating the ndarray\n",
      "  return array(a, dtype, copy=False, order=order)\n",
      "C:\\Users\\dzemel\\Miniconda3\\lib\\site-packages\\numpy\\core\\_asarray.py:83: VisibleDeprecationWarning: Creating an ndarray from ragged nested sequences (which is a list-or-tuple of lists-or-tuples-or ndarrays with different lengths or shapes) is deprecated. If you meant to do this, you must specify 'dtype=object' when creating the ndarray\n",
      "  return array(a, dtype, copy=False, order=order)\n",
      "C:\\Users\\dzemel\\Miniconda3\\lib\\site-packages\\numpy\\core\\_asarray.py:83: VisibleDeprecationWarning: Creating an ndarray from ragged nested sequences (which is a list-or-tuple of lists-or-tuples-or ndarrays with different lengths or shapes) is deprecated. If you meant to do this, you must specify 'dtype=object' when creating the ndarray\n",
      "  return array(a, dtype, copy=False, order=order)\n",
      "C:\\Users\\dzemel\\Miniconda3\\lib\\site-packages\\numpy\\core\\_asarray.py:83: VisibleDeprecationWarning: Creating an ndarray from ragged nested sequences (which is a list-or-tuple of lists-or-tuples-or ndarrays with different lengths or shapes) is deprecated. If you meant to do this, you must specify 'dtype=object' when creating the ndarray\n",
      "  return array(a, dtype, copy=False, order=order)\n",
      "C:\\Users\\dzemel\\Miniconda3\\lib\\site-packages\\numpy\\core\\_asarray.py:83: VisibleDeprecationWarning: Creating an ndarray from ragged nested sequences (which is a list-or-tuple of lists-or-tuples-or ndarrays with different lengths or shapes) is deprecated. If you meant to do this, you must specify 'dtype=object' when creating the ndarray\n",
      "  return array(a, dtype, copy=False, order=order)\n",
      "D:\\6OHDA\\IO.py:152: H5pyDeprecationWarning: dataset.value has been deprecated. Use dataset[()] instead.\n",
      "  speed = hf[m][s]['mvmt']['speed'].value\n",
      "C:\\Users\\dzemel\\Miniconda3\\lib\\site-packages\\numpy\\core\\_asarray.py:83: VisibleDeprecationWarning: Creating an ndarray from ragged nested sequences (which is a list-or-tuple of lists-or-tuples-or ndarrays with different lengths or shapes) is deprecated. If you meant to do this, you must specify 'dtype=object' when creating the ndarray\n",
      "  return array(a, dtype, copy=False, order=order)\n"
     ]
    },
    {
     "name": "stdout",
     "output_type": "stream",
     "text": [
      "cleaning up speed data\n",
      "cleaning up speed data\n",
      "I deleted session: 8803_day10\n",
      "I deleted session: 8803_day12\n",
      "I deleted session: 8803_day14\n",
      "I deleted session: 8803_day2\n",
      "I deleted session: 8803_day4\n",
      "I deleted session: 8803_day5\n",
      "I deleted session: 8803_day6\n",
      "I deleted session: 8803_day8\n"
     ]
    },
    {
     "name": "stderr",
     "output_type": "stream",
     "text": [
      "C:\\Users\\dzemel\\Miniconda3\\lib\\site-packages\\numpy\\core\\_asarray.py:83: VisibleDeprecationWarning: Creating an ndarray from ragged nested sequences (which is a list-or-tuple of lists-or-tuples-or ndarrays with different lengths or shapes) is deprecated. If you meant to do this, you must specify 'dtype=object' when creating the ndarray\n",
      "  return array(a, dtype, copy=False, order=order)\n",
      "C:\\Users\\dzemel\\Miniconda3\\lib\\site-packages\\numpy\\core\\_asarray.py:83: VisibleDeprecationWarning: Creating an ndarray from ragged nested sequences (which is a list-or-tuple of lists-or-tuples-or ndarrays with different lengths or shapes) is deprecated. If you meant to do this, you must specify 'dtype=object' when creating the ndarray\n",
      "  return array(a, dtype, copy=False, order=order)\n",
      "C:\\Users\\dzemel\\Miniconda3\\lib\\site-packages\\numpy\\core\\_asarray.py:83: VisibleDeprecationWarning: Creating an ndarray from ragged nested sequences (which is a list-or-tuple of lists-or-tuples-or ndarrays with different lengths or shapes) is deprecated. If you meant to do this, you must specify 'dtype=object' when creating the ndarray\n",
      "  return array(a, dtype, copy=False, order=order)\n",
      "C:\\Users\\dzemel\\Miniconda3\\lib\\site-packages\\numpy\\core\\_asarray.py:83: VisibleDeprecationWarning: Creating an ndarray from ragged nested sequences (which is a list-or-tuple of lists-or-tuples-or ndarrays with different lengths or shapes) is deprecated. If you meant to do this, you must specify 'dtype=object' when creating the ndarray\n",
      "  return array(a, dtype, copy=False, order=order)\n",
      "C:\\Users\\dzemel\\Miniconda3\\lib\\site-packages\\numpy\\core\\_asarray.py:83: VisibleDeprecationWarning: Creating an ndarray from ragged nested sequences (which is a list-or-tuple of lists-or-tuples-or ndarrays with different lengths or shapes) is deprecated. If you meant to do this, you must specify 'dtype=object' when creating the ndarray\n",
      "  return array(a, dtype, copy=False, order=order)\n",
      "C:\\Users\\dzemel\\Miniconda3\\lib\\site-packages\\numpy\\core\\_asarray.py:83: VisibleDeprecationWarning: Creating an ndarray from ragged nested sequences (which is a list-or-tuple of lists-or-tuples-or ndarrays with different lengths or shapes) is deprecated. If you meant to do this, you must specify 'dtype=object' when creating the ndarray\n",
      "  return array(a, dtype, copy=False, order=order)\n",
      "C:\\Users\\dzemel\\Miniconda3\\lib\\site-packages\\numpy\\core\\_asarray.py:83: VisibleDeprecationWarning: Creating an ndarray from ragged nested sequences (which is a list-or-tuple of lists-or-tuples-or ndarrays with different lengths or shapes) is deprecated. If you meant to do this, you must specify 'dtype=object' when creating the ndarray\n",
      "  return array(a, dtype, copy=False, order=order)\n",
      "C:\\Users\\dzemel\\Miniconda3\\lib\\site-packages\\numpy\\core\\_asarray.py:83: VisibleDeprecationWarning: Creating an ndarray from ragged nested sequences (which is a list-or-tuple of lists-or-tuples-or ndarrays with different lengths or shapes) is deprecated. If you meant to do this, you must specify 'dtype=object' when creating the ndarray\n",
      "  return array(a, dtype, copy=False, order=order)\n",
      "C:\\Users\\dzemel\\Miniconda3\\lib\\site-packages\\numpy\\core\\_asarray.py:83: VisibleDeprecationWarning: Creating an ndarray from ragged nested sequences (which is a list-or-tuple of lists-or-tuples-or ndarrays with different lengths or shapes) is deprecated. If you meant to do this, you must specify 'dtype=object' when creating the ndarray\n",
      "  return array(a, dtype, copy=False, order=order)\n",
      "C:\\Users\\dzemel\\Miniconda3\\lib\\site-packages\\numpy\\core\\_asarray.py:83: VisibleDeprecationWarning: Creating an ndarray from ragged nested sequences (which is a list-or-tuple of lists-or-tuples-or ndarrays with different lengths or shapes) is deprecated. If you meant to do this, you must specify 'dtype=object' when creating the ndarray\n",
      "  return array(a, dtype, copy=False, order=order)\n",
      "C:\\Users\\dzemel\\Miniconda3\\lib\\site-packages\\numpy\\core\\_asarray.py:83: VisibleDeprecationWarning: Creating an ndarray from ragged nested sequences (which is a list-or-tuple of lists-or-tuples-or ndarrays with different lengths or shapes) is deprecated. If you meant to do this, you must specify 'dtype=object' when creating the ndarray\n",
      "  return array(a, dtype, copy=False, order=order)\n",
      "C:\\Users\\dzemel\\Miniconda3\\lib\\site-packages\\numpy\\core\\_asarray.py:83: VisibleDeprecationWarning: Creating an ndarray from ragged nested sequences (which is a list-or-tuple of lists-or-tuples-or ndarrays with different lengths or shapes) is deprecated. If you meant to do this, you must specify 'dtype=object' when creating the ndarray\n",
      "  return array(a, dtype, copy=False, order=order)\n",
      "C:\\Users\\dzemel\\Miniconda3\\lib\\site-packages\\numpy\\core\\_asarray.py:83: VisibleDeprecationWarning: Creating an ndarray from ragged nested sequences (which is a list-or-tuple of lists-or-tuples-or ndarrays with different lengths or shapes) is deprecated. If you meant to do this, you must specify 'dtype=object' when creating the ndarray\n",
      "  return array(a, dtype, copy=False, order=order)\n",
      "C:\\Users\\dzemel\\Miniconda3\\lib\\site-packages\\numpy\\core\\_asarray.py:83: VisibleDeprecationWarning: Creating an ndarray from ragged nested sequences (which is a list-or-tuple of lists-or-tuples-or ndarrays with different lengths or shapes) is deprecated. If you meant to do this, you must specify 'dtype=object' when creating the ndarray\n",
      "  return array(a, dtype, copy=False, order=order)\n",
      "C:\\Users\\dzemel\\Miniconda3\\lib\\site-packages\\numpy\\core\\_asarray.py:83: VisibleDeprecationWarning: Creating an ndarray from ragged nested sequences (which is a list-or-tuple of lists-or-tuples-or ndarrays with different lengths or shapes) is deprecated. If you meant to do this, you must specify 'dtype=object' when creating the ndarray\n",
      "  return array(a, dtype, copy=False, order=order)\n",
      "C:\\Users\\dzemel\\Miniconda3\\lib\\site-packages\\numpy\\core\\_asarray.py:83: VisibleDeprecationWarning: Creating an ndarray from ragged nested sequences (which is a list-or-tuple of lists-or-tuples-or ndarrays with different lengths or shapes) is deprecated. If you meant to do this, you must specify 'dtype=object' when creating the ndarray\n",
      "  return array(a, dtype, copy=False, order=order)\n",
      "C:\\Users\\dzemel\\Miniconda3\\lib\\site-packages\\numpy\\core\\_asarray.py:83: VisibleDeprecationWarning: Creating an ndarray from ragged nested sequences (which is a list-or-tuple of lists-or-tuples-or ndarrays with different lengths or shapes) is deprecated. If you meant to do this, you must specify 'dtype=object' when creating the ndarray\n",
      "  return array(a, dtype, copy=False, order=order)\n",
      "C:\\Users\\dzemel\\Miniconda3\\lib\\site-packages\\numpy\\core\\_asarray.py:83: VisibleDeprecationWarning: Creating an ndarray from ragged nested sequences (which is a list-or-tuple of lists-or-tuples-or ndarrays with different lengths or shapes) is deprecated. If you meant to do this, you must specify 'dtype=object' when creating the ndarray\n",
      "  return array(a, dtype, copy=False, order=order)\n",
      "C:\\Users\\dzemel\\Miniconda3\\lib\\site-packages\\numpy\\core\\_asarray.py:83: VisibleDeprecationWarning: Creating an ndarray from ragged nested sequences (which is a list-or-tuple of lists-or-tuples-or ndarrays with different lengths or shapes) is deprecated. If you meant to do this, you must specify 'dtype=object' when creating the ndarray\n",
      "  return array(a, dtype, copy=False, order=order)\n",
      "C:\\Users\\dzemel\\Miniconda3\\lib\\site-packages\\numpy\\core\\_asarray.py:83: VisibleDeprecationWarning: Creating an ndarray from ragged nested sequences (which is a list-or-tuple of lists-or-tuples-or ndarrays with different lengths or shapes) is deprecated. If you meant to do this, you must specify 'dtype=object' when creating the ndarray\n",
      "  return array(a, dtype, copy=False, order=order)\n",
      "C:\\Users\\dzemel\\Miniconda3\\lib\\site-packages\\numpy\\core\\_asarray.py:83: VisibleDeprecationWarning: Creating an ndarray from ragged nested sequences (which is a list-or-tuple of lists-or-tuples-or ndarrays with different lengths or shapes) is deprecated. If you meant to do this, you must specify 'dtype=object' when creating the ndarray\n",
      "  return array(a, dtype, copy=False, order=order)\n",
      "C:\\Users\\dzemel\\Miniconda3\\lib\\site-packages\\numpy\\core\\_asarray.py:83: VisibleDeprecationWarning: Creating an ndarray from ragged nested sequences (which is a list-or-tuple of lists-or-tuples-or ndarrays with different lengths or shapes) is deprecated. If you meant to do this, you must specify 'dtype=object' when creating the ndarray\n",
      "  return array(a, dtype, copy=False, order=order)\n"
     ]
    },
    {
     "name": "stderr",
     "output_type": "stream",
     "text": [
      "C:\\Users\\dzemel\\Miniconda3\\lib\\site-packages\\numpy\\core\\_asarray.py:83: VisibleDeprecationWarning: Creating an ndarray from ragged nested sequences (which is a list-or-tuple of lists-or-tuples-or ndarrays with different lengths or shapes) is deprecated. If you meant to do this, you must specify 'dtype=object' when creating the ndarray\n",
      "  return array(a, dtype, copy=False, order=order)\n",
      "C:\\Users\\dzemel\\Miniconda3\\lib\\site-packages\\numpy\\core\\_asarray.py:83: VisibleDeprecationWarning: Creating an ndarray from ragged nested sequences (which is a list-or-tuple of lists-or-tuples-or ndarrays with different lengths or shapes) is deprecated. If you meant to do this, you must specify 'dtype=object' when creating the ndarray\n",
      "  return array(a, dtype, copy=False, order=order)\n",
      "C:\\Users\\dzemel\\Miniconda3\\lib\\site-packages\\numpy\\core\\_asarray.py:83: VisibleDeprecationWarning: Creating an ndarray from ragged nested sequences (which is a list-or-tuple of lists-or-tuples-or ndarrays with different lengths or shapes) is deprecated. If you meant to do this, you must specify 'dtype=object' when creating the ndarray\n",
      "  return array(a, dtype, copy=False, order=order)\n",
      "C:\\Users\\dzemel\\Miniconda3\\lib\\site-packages\\numpy\\core\\_asarray.py:83: VisibleDeprecationWarning: Creating an ndarray from ragged nested sequences (which is a list-or-tuple of lists-or-tuples-or ndarrays with different lengths or shapes) is deprecated. If you meant to do this, you must specify 'dtype=object' when creating the ndarray\n",
      "  return array(a, dtype, copy=False, order=order)\n",
      "C:\\Users\\dzemel\\Miniconda3\\lib\\site-packages\\numpy\\core\\_asarray.py:83: VisibleDeprecationWarning: Creating an ndarray from ragged nested sequences (which is a list-or-tuple of lists-or-tuples-or ndarrays with different lengths or shapes) is deprecated. If you meant to do this, you must specify 'dtype=object' when creating the ndarray\n",
      "  return array(a, dtype, copy=False, order=order)\n",
      "C:\\Users\\dzemel\\Miniconda3\\lib\\site-packages\\numpy\\core\\_asarray.py:83: VisibleDeprecationWarning: Creating an ndarray from ragged nested sequences (which is a list-or-tuple of lists-or-tuples-or ndarrays with different lengths or shapes) is deprecated. If you meant to do this, you must specify 'dtype=object' when creating the ndarray\n",
      "  return array(a, dtype, copy=False, order=order)\n",
      "C:\\Users\\dzemel\\Miniconda3\\lib\\site-packages\\numpy\\core\\_asarray.py:83: VisibleDeprecationWarning: Creating an ndarray from ragged nested sequences (which is a list-or-tuple of lists-or-tuples-or ndarrays with different lengths or shapes) is deprecated. If you meant to do this, you must specify 'dtype=object' when creating the ndarray\n",
      "  return array(a, dtype, copy=False, order=order)\n",
      "C:\\Users\\dzemel\\Miniconda3\\lib\\site-packages\\numpy\\core\\_asarray.py:83: VisibleDeprecationWarning: Creating an ndarray from ragged nested sequences (which is a list-or-tuple of lists-or-tuples-or ndarrays with different lengths or shapes) is deprecated. If you meant to do this, you must specify 'dtype=object' when creating the ndarray\n",
      "  return array(a, dtype, copy=False, order=order)\n",
      "C:\\Users\\dzemel\\Miniconda3\\lib\\site-packages\\numpy\\core\\_asarray.py:83: VisibleDeprecationWarning: Creating an ndarray from ragged nested sequences (which is a list-or-tuple of lists-or-tuples-or ndarrays with different lengths or shapes) is deprecated. If you meant to do this, you must specify 'dtype=object' when creating the ndarray\n",
      "  return array(a, dtype, copy=False, order=order)\n",
      "C:\\Users\\dzemel\\Miniconda3\\lib\\site-packages\\numpy\\core\\_asarray.py:83: VisibleDeprecationWarning: Creating an ndarray from ragged nested sequences (which is a list-or-tuple of lists-or-tuples-or ndarrays with different lengths or shapes) is deprecated. If you meant to do this, you must specify 'dtype=object' when creating the ndarray\n",
      "  return array(a, dtype, copy=False, order=order)\n",
      "C:\\Users\\dzemel\\Miniconda3\\lib\\site-packages\\numpy\\core\\_asarray.py:83: VisibleDeprecationWarning: Creating an ndarray from ragged nested sequences (which is a list-or-tuple of lists-or-tuples-or ndarrays with different lengths or shapes) is deprecated. If you meant to do this, you must specify 'dtype=object' when creating the ndarray\n",
      "  return array(a, dtype, copy=False, order=order)\n",
      "C:\\Users\\dzemel\\Miniconda3\\lib\\site-packages\\numpy\\core\\_asarray.py:83: VisibleDeprecationWarning: Creating an ndarray from ragged nested sequences (which is a list-or-tuple of lists-or-tuples-or ndarrays with different lengths or shapes) is deprecated. If you meant to do this, you must specify 'dtype=object' when creating the ndarray\n",
      "  return array(a, dtype, copy=False, order=order)\n",
      "C:\\Users\\dzemel\\Miniconda3\\lib\\site-packages\\numpy\\core\\_asarray.py:83: VisibleDeprecationWarning: Creating an ndarray from ragged nested sequences (which is a list-or-tuple of lists-or-tuples-or ndarrays with different lengths or shapes) is deprecated. If you meant to do this, you must specify 'dtype=object' when creating the ndarray\n",
      "  return array(a, dtype, copy=False, order=order)\n",
      "C:\\Users\\dzemel\\Miniconda3\\lib\\site-packages\\numpy\\core\\_asarray.py:83: VisibleDeprecationWarning: Creating an ndarray from ragged nested sequences (which is a list-or-tuple of lists-or-tuples-or ndarrays with different lengths or shapes) is deprecated. If you meant to do this, you must specify 'dtype=object' when creating the ndarray\n",
      "  return array(a, dtype, copy=False, order=order)\n",
      "C:\\Users\\dzemel\\Miniconda3\\lib\\site-packages\\numpy\\core\\_asarray.py:83: VisibleDeprecationWarning: Creating an ndarray from ragged nested sequences (which is a list-or-tuple of lists-or-tuples-or ndarrays with different lengths or shapes) is deprecated. If you meant to do this, you must specify 'dtype=object' when creating the ndarray\n",
      "  return array(a, dtype, copy=False, order=order)\n",
      "C:\\Users\\dzemel\\Miniconda3\\lib\\site-packages\\numpy\\core\\_asarray.py:83: VisibleDeprecationWarning: Creating an ndarray from ragged nested sequences (which is a list-or-tuple of lists-or-tuples-or ndarrays with different lengths or shapes) is deprecated. If you meant to do this, you must specify 'dtype=object' when creating the ndarray\n",
      "  return array(a, dtype, copy=False, order=order)\n",
      "C:\\Users\\dzemel\\Miniconda3\\lib\\site-packages\\numpy\\core\\_asarray.py:83: VisibleDeprecationWarning: Creating an ndarray from ragged nested sequences (which is a list-or-tuple of lists-or-tuples-or ndarrays with different lengths or shapes) is deprecated. If you meant to do this, you must specify 'dtype=object' when creating the ndarray\n",
      "  return array(a, dtype, copy=False, order=order)\n",
      "D:\\6OHDA\\IO.py:152: H5pyDeprecationWarning: dataset.value has been deprecated. Use dataset[()] instead.\n",
      "  speed = hf[m][s]['mvmt']['speed'].value\n",
      "C:\\Users\\dzemel\\Miniconda3\\lib\\site-packages\\numpy\\core\\_asarray.py:83: VisibleDeprecationWarning: Creating an ndarray from ragged nested sequences (which is a list-or-tuple of lists-or-tuples-or ndarrays with different lengths or shapes) is deprecated. If you meant to do this, you must specify 'dtype=object' when creating the ndarray\n",
      "  return array(a, dtype, copy=False, order=order)\n"
     ]
    },
    {
     "name": "stdout",
     "output_type": "stream",
     "text": [
      "cleaning up speed data\n",
      "cleaning up speed data\n",
      "I deleted session: 8815_day10\n",
      "I deleted session: 8815_day12\n",
      "I deleted session: 8815_day14\n",
      "I deleted session: 8815_day2\n",
      "I deleted session: 8815_day4\n",
      "I deleted session: 8815_day6\n",
      "I deleted session: 8815_day8\n"
     ]
    },
    {
     "name": "stderr",
     "output_type": "stream",
     "text": [
      "C:\\Users\\dzemel\\Miniconda3\\lib\\site-packages\\numpy\\core\\_asarray.py:83: VisibleDeprecationWarning: Creating an ndarray from ragged nested sequences (which is a list-or-tuple of lists-or-tuples-or ndarrays with different lengths or shapes) is deprecated. If you meant to do this, you must specify 'dtype=object' when creating the ndarray\n",
      "  return array(a, dtype, copy=False, order=order)\n",
      "C:\\Users\\dzemel\\Miniconda3\\lib\\site-packages\\numpy\\core\\_asarray.py:83: VisibleDeprecationWarning: Creating an ndarray from ragged nested sequences (which is a list-or-tuple of lists-or-tuples-or ndarrays with different lengths or shapes) is deprecated. If you meant to do this, you must specify 'dtype=object' when creating the ndarray\n",
      "  return array(a, dtype, copy=False, order=order)\n",
      "C:\\Users\\dzemel\\Miniconda3\\lib\\site-packages\\numpy\\core\\_asarray.py:83: VisibleDeprecationWarning: Creating an ndarray from ragged nested sequences (which is a list-or-tuple of lists-or-tuples-or ndarrays with different lengths or shapes) is deprecated. If you meant to do this, you must specify 'dtype=object' when creating the ndarray\n",
      "  return array(a, dtype, copy=False, order=order)\n",
      "C:\\Users\\dzemel\\Miniconda3\\lib\\site-packages\\numpy\\core\\_asarray.py:83: VisibleDeprecationWarning: Creating an ndarray from ragged nested sequences (which is a list-or-tuple of lists-or-tuples-or ndarrays with different lengths or shapes) is deprecated. If you meant to do this, you must specify 'dtype=object' when creating the ndarray\n",
      "  return array(a, dtype, copy=False, order=order)\n",
      "C:\\Users\\dzemel\\Miniconda3\\lib\\site-packages\\numpy\\core\\_asarray.py:83: VisibleDeprecationWarning: Creating an ndarray from ragged nested sequences (which is a list-or-tuple of lists-or-tuples-or ndarrays with different lengths or shapes) is deprecated. If you meant to do this, you must specify 'dtype=object' when creating the ndarray\n",
      "  return array(a, dtype, copy=False, order=order)\n",
      "C:\\Users\\dzemel\\Miniconda3\\lib\\site-packages\\numpy\\core\\_asarray.py:83: VisibleDeprecationWarning: Creating an ndarray from ragged nested sequences (which is a list-or-tuple of lists-or-tuples-or ndarrays with different lengths or shapes) is deprecated. If you meant to do this, you must specify 'dtype=object' when creating the ndarray\n",
      "  return array(a, dtype, copy=False, order=order)\n",
      "C:\\Users\\dzemel\\Miniconda3\\lib\\site-packages\\numpy\\core\\_asarray.py:83: VisibleDeprecationWarning: Creating an ndarray from ragged nested sequences (which is a list-or-tuple of lists-or-tuples-or ndarrays with different lengths or shapes) is deprecated. If you meant to do this, you must specify 'dtype=object' when creating the ndarray\n",
      "  return array(a, dtype, copy=False, order=order)\n",
      "C:\\Users\\dzemel\\Miniconda3\\lib\\site-packages\\numpy\\core\\_asarray.py:83: VisibleDeprecationWarning: Creating an ndarray from ragged nested sequences (which is a list-or-tuple of lists-or-tuples-or ndarrays with different lengths or shapes) is deprecated. If you meant to do this, you must specify 'dtype=object' when creating the ndarray\n",
      "  return array(a, dtype, copy=False, order=order)\n",
      "C:\\Users\\dzemel\\Miniconda3\\lib\\site-packages\\numpy\\core\\_asarray.py:83: VisibleDeprecationWarning: Creating an ndarray from ragged nested sequences (which is a list-or-tuple of lists-or-tuples-or ndarrays with different lengths or shapes) is deprecated. If you meant to do this, you must specify 'dtype=object' when creating the ndarray\n",
      "  return array(a, dtype, copy=False, order=order)\n",
      "C:\\Users\\dzemel\\Miniconda3\\lib\\site-packages\\numpy\\core\\_asarray.py:83: VisibleDeprecationWarning: Creating an ndarray from ragged nested sequences (which is a list-or-tuple of lists-or-tuples-or ndarrays with different lengths or shapes) is deprecated. If you meant to do this, you must specify 'dtype=object' when creating the ndarray\n",
      "  return array(a, dtype, copy=False, order=order)\n",
      "C:\\Users\\dzemel\\Miniconda3\\lib\\site-packages\\numpy\\core\\_asarray.py:83: VisibleDeprecationWarning: Creating an ndarray from ragged nested sequences (which is a list-or-tuple of lists-or-tuples-or ndarrays with different lengths or shapes) is deprecated. If you meant to do this, you must specify 'dtype=object' when creating the ndarray\n",
      "  return array(a, dtype, copy=False, order=order)\n",
      "C:\\Users\\dzemel\\Miniconda3\\lib\\site-packages\\numpy\\core\\_asarray.py:83: VisibleDeprecationWarning: Creating an ndarray from ragged nested sequences (which is a list-or-tuple of lists-or-tuples-or ndarrays with different lengths or shapes) is deprecated. If you meant to do this, you must specify 'dtype=object' when creating the ndarray\n",
      "  return array(a, dtype, copy=False, order=order)\n",
      "C:\\Users\\dzemel\\Miniconda3\\lib\\site-packages\\numpy\\core\\_asarray.py:83: VisibleDeprecationWarning: Creating an ndarray from ragged nested sequences (which is a list-or-tuple of lists-or-tuples-or ndarrays with different lengths or shapes) is deprecated. If you meant to do this, you must specify 'dtype=object' when creating the ndarray\n",
      "  return array(a, dtype, copy=False, order=order)\n",
      "C:\\Users\\dzemel\\Miniconda3\\lib\\site-packages\\numpy\\core\\_asarray.py:83: VisibleDeprecationWarning: Creating an ndarray from ragged nested sequences (which is a list-or-tuple of lists-or-tuples-or ndarrays with different lengths or shapes) is deprecated. If you meant to do this, you must specify 'dtype=object' when creating the ndarray\n",
      "  return array(a, dtype, copy=False, order=order)\n",
      "C:\\Users\\dzemel\\Miniconda3\\lib\\site-packages\\numpy\\core\\_asarray.py:83: VisibleDeprecationWarning: Creating an ndarray from ragged nested sequences (which is a list-or-tuple of lists-or-tuples-or ndarrays with different lengths or shapes) is deprecated. If you meant to do this, you must specify 'dtype=object' when creating the ndarray\n",
      "  return array(a, dtype, copy=False, order=order)\n",
      "C:\\Users\\dzemel\\Miniconda3\\lib\\site-packages\\numpy\\core\\_asarray.py:83: VisibleDeprecationWarning: Creating an ndarray from ragged nested sequences (which is a list-or-tuple of lists-or-tuples-or ndarrays with different lengths or shapes) is deprecated. If you meant to do this, you must specify 'dtype=object' when creating the ndarray\n",
      "  return array(a, dtype, copy=False, order=order)\n",
      "C:\\Users\\dzemel\\Miniconda3\\lib\\site-packages\\numpy\\core\\_asarray.py:83: VisibleDeprecationWarning: Creating an ndarray from ragged nested sequences (which is a list-or-tuple of lists-or-tuples-or ndarrays with different lengths or shapes) is deprecated. If you meant to do this, you must specify 'dtype=object' when creating the ndarray\n",
      "  return array(a, dtype, copy=False, order=order)\n",
      "C:\\Users\\dzemel\\Miniconda3\\lib\\site-packages\\numpy\\core\\_asarray.py:83: VisibleDeprecationWarning: Creating an ndarray from ragged nested sequences (which is a list-or-tuple of lists-or-tuples-or ndarrays with different lengths or shapes) is deprecated. If you meant to do this, you must specify 'dtype=object' when creating the ndarray\n",
      "  return array(a, dtype, copy=False, order=order)\n",
      "C:\\Users\\dzemel\\Miniconda3\\lib\\site-packages\\numpy\\core\\_asarray.py:83: VisibleDeprecationWarning: Creating an ndarray from ragged nested sequences (which is a list-or-tuple of lists-or-tuples-or ndarrays with different lengths or shapes) is deprecated. If you meant to do this, you must specify 'dtype=object' when creating the ndarray\n",
      "  return array(a, dtype, copy=False, order=order)\n",
      "C:\\Users\\dzemel\\Miniconda3\\lib\\site-packages\\numpy\\core\\_asarray.py:83: VisibleDeprecationWarning: Creating an ndarray from ragged nested sequences (which is a list-or-tuple of lists-or-tuples-or ndarrays with different lengths or shapes) is deprecated. If you meant to do this, you must specify 'dtype=object' when creating the ndarray\n",
      "  return array(a, dtype, copy=False, order=order)\n",
      "C:\\Users\\dzemel\\Miniconda3\\lib\\site-packages\\numpy\\core\\_asarray.py:83: VisibleDeprecationWarning: Creating an ndarray from ragged nested sequences (which is a list-or-tuple of lists-or-tuples-or ndarrays with different lengths or shapes) is deprecated. If you meant to do this, you must specify 'dtype=object' when creating the ndarray\n",
      "  return array(a, dtype, copy=False, order=order)\n",
      "C:\\Users\\dzemel\\Miniconda3\\lib\\site-packages\\numpy\\core\\_asarray.py:83: VisibleDeprecationWarning: Creating an ndarray from ragged nested sequences (which is a list-or-tuple of lists-or-tuples-or ndarrays with different lengths or shapes) is deprecated. If you meant to do this, you must specify 'dtype=object' when creating the ndarray\n",
      "  return array(a, dtype, copy=False, order=order)\n"
     ]
    },
    {
     "name": "stderr",
     "output_type": "stream",
     "text": [
      "C:\\Users\\dzemel\\Miniconda3\\lib\\site-packages\\numpy\\core\\_asarray.py:83: VisibleDeprecationWarning: Creating an ndarray from ragged nested sequences (which is a list-or-tuple of lists-or-tuples-or ndarrays with different lengths or shapes) is deprecated. If you meant to do this, you must specify 'dtype=object' when creating the ndarray\n",
      "  return array(a, dtype, copy=False, order=order)\n",
      "C:\\Users\\dzemel\\Miniconda3\\lib\\site-packages\\numpy\\core\\_asarray.py:83: VisibleDeprecationWarning: Creating an ndarray from ragged nested sequences (which is a list-or-tuple of lists-or-tuples-or ndarrays with different lengths or shapes) is deprecated. If you meant to do this, you must specify 'dtype=object' when creating the ndarray\n",
      "  return array(a, dtype, copy=False, order=order)\n",
      "C:\\Users\\dzemel\\Miniconda3\\lib\\site-packages\\numpy\\core\\_asarray.py:83: VisibleDeprecationWarning: Creating an ndarray from ragged nested sequences (which is a list-or-tuple of lists-or-tuples-or ndarrays with different lengths or shapes) is deprecated. If you meant to do this, you must specify 'dtype=object' when creating the ndarray\n",
      "  return array(a, dtype, copy=False, order=order)\n",
      "C:\\Users\\dzemel\\Miniconda3\\lib\\site-packages\\numpy\\core\\_asarray.py:83: VisibleDeprecationWarning: Creating an ndarray from ragged nested sequences (which is a list-or-tuple of lists-or-tuples-or ndarrays with different lengths or shapes) is deprecated. If you meant to do this, you must specify 'dtype=object' when creating the ndarray\n",
      "  return array(a, dtype, copy=False, order=order)\n",
      "C:\\Users\\dzemel\\Miniconda3\\lib\\site-packages\\numpy\\core\\_asarray.py:83: VisibleDeprecationWarning: Creating an ndarray from ragged nested sequences (which is a list-or-tuple of lists-or-tuples-or ndarrays with different lengths or shapes) is deprecated. If you meant to do this, you must specify 'dtype=object' when creating the ndarray\n",
      "  return array(a, dtype, copy=False, order=order)\n",
      "C:\\Users\\dzemel\\Miniconda3\\lib\\site-packages\\numpy\\core\\_asarray.py:83: VisibleDeprecationWarning: Creating an ndarray from ragged nested sequences (which is a list-or-tuple of lists-or-tuples-or ndarrays with different lengths or shapes) is deprecated. If you meant to do this, you must specify 'dtype=object' when creating the ndarray\n",
      "  return array(a, dtype, copy=False, order=order)\n",
      "C:\\Users\\dzemel\\Miniconda3\\lib\\site-packages\\numpy\\core\\_asarray.py:83: VisibleDeprecationWarning: Creating an ndarray from ragged nested sequences (which is a list-or-tuple of lists-or-tuples-or ndarrays with different lengths or shapes) is deprecated. If you meant to do this, you must specify 'dtype=object' when creating the ndarray\n",
      "  return array(a, dtype, copy=False, order=order)\n",
      "C:\\Users\\dzemel\\Miniconda3\\lib\\site-packages\\numpy\\core\\_asarray.py:83: VisibleDeprecationWarning: Creating an ndarray from ragged nested sequences (which is a list-or-tuple of lists-or-tuples-or ndarrays with different lengths or shapes) is deprecated. If you meant to do this, you must specify 'dtype=object' when creating the ndarray\n",
      "  return array(a, dtype, copy=False, order=order)\n",
      "C:\\Users\\dzemel\\Miniconda3\\lib\\site-packages\\numpy\\core\\_asarray.py:83: VisibleDeprecationWarning: Creating an ndarray from ragged nested sequences (which is a list-or-tuple of lists-or-tuples-or ndarrays with different lengths or shapes) is deprecated. If you meant to do this, you must specify 'dtype=object' when creating the ndarray\n",
      "  return array(a, dtype, copy=False, order=order)\n",
      "C:\\Users\\dzemel\\Miniconda3\\lib\\site-packages\\numpy\\core\\_asarray.py:83: VisibleDeprecationWarning: Creating an ndarray from ragged nested sequences (which is a list-or-tuple of lists-or-tuples-or ndarrays with different lengths or shapes) is deprecated. If you meant to do this, you must specify 'dtype=object' when creating the ndarray\n",
      "  return array(a, dtype, copy=False, order=order)\n",
      "C:\\Users\\dzemel\\Miniconda3\\lib\\site-packages\\numpy\\core\\_asarray.py:83: VisibleDeprecationWarning: Creating an ndarray from ragged nested sequences (which is a list-or-tuple of lists-or-tuples-or ndarrays with different lengths or shapes) is deprecated. If you meant to do this, you must specify 'dtype=object' when creating the ndarray\n",
      "  return array(a, dtype, copy=False, order=order)\n",
      "C:\\Users\\dzemel\\Miniconda3\\lib\\site-packages\\numpy\\core\\_asarray.py:83: VisibleDeprecationWarning: Creating an ndarray from ragged nested sequences (which is a list-or-tuple of lists-or-tuples-or ndarrays with different lengths or shapes) is deprecated. If you meant to do this, you must specify 'dtype=object' when creating the ndarray\n",
      "  return array(a, dtype, copy=False, order=order)\n",
      "C:\\Users\\dzemel\\Miniconda3\\lib\\site-packages\\numpy\\core\\_asarray.py:83: VisibleDeprecationWarning: Creating an ndarray from ragged nested sequences (which is a list-or-tuple of lists-or-tuples-or ndarrays with different lengths or shapes) is deprecated. If you meant to do this, you must specify 'dtype=object' when creating the ndarray\n",
      "  return array(a, dtype, copy=False, order=order)\n",
      "C:\\Users\\dzemel\\Miniconda3\\lib\\site-packages\\numpy\\core\\_asarray.py:83: VisibleDeprecationWarning: Creating an ndarray from ragged nested sequences (which is a list-or-tuple of lists-or-tuples-or ndarrays with different lengths or shapes) is deprecated. If you meant to do this, you must specify 'dtype=object' when creating the ndarray\n",
      "  return array(a, dtype, copy=False, order=order)\n",
      "C:\\Users\\dzemel\\Miniconda3\\lib\\site-packages\\numpy\\core\\_asarray.py:83: VisibleDeprecationWarning: Creating an ndarray from ragged nested sequences (which is a list-or-tuple of lists-or-tuples-or ndarrays with different lengths or shapes) is deprecated. If you meant to do this, you must specify 'dtype=object' when creating the ndarray\n",
      "  return array(a, dtype, copy=False, order=order)\n",
      "C:\\Users\\dzemel\\Miniconda3\\lib\\site-packages\\numpy\\core\\_asarray.py:83: VisibleDeprecationWarning: Creating an ndarray from ragged nested sequences (which is a list-or-tuple of lists-or-tuples-or ndarrays with different lengths or shapes) is deprecated. If you meant to do this, you must specify 'dtype=object' when creating the ndarray\n",
      "  return array(a, dtype, copy=False, order=order)\n",
      "C:\\Users\\dzemel\\Miniconda3\\lib\\site-packages\\numpy\\core\\_asarray.py:83: VisibleDeprecationWarning: Creating an ndarray from ragged nested sequences (which is a list-or-tuple of lists-or-tuples-or ndarrays with different lengths or shapes) is deprecated. If you meant to do this, you must specify 'dtype=object' when creating the ndarray\n",
      "  return array(a, dtype, copy=False, order=order)\n",
      "C:\\Users\\dzemel\\Miniconda3\\lib\\site-packages\\numpy\\core\\_asarray.py:83: VisibleDeprecationWarning: Creating an ndarray from ragged nested sequences (which is a list-or-tuple of lists-or-tuples-or ndarrays with different lengths or shapes) is deprecated. If you meant to do this, you must specify 'dtype=object' when creating the ndarray\n",
      "  return array(a, dtype, copy=False, order=order)\n",
      "C:\\Users\\dzemel\\Miniconda3\\lib\\site-packages\\numpy\\core\\_asarray.py:83: VisibleDeprecationWarning: Creating an ndarray from ragged nested sequences (which is a list-or-tuple of lists-or-tuples-or ndarrays with different lengths or shapes) is deprecated. If you meant to do this, you must specify 'dtype=object' when creating the ndarray\n",
      "  return array(a, dtype, copy=False, order=order)\n"
     ]
    }
   ],
   "source": [
    "f = h5py.File('OnsetsAndPeriods.hdf5','a')\n",
    "Colors = CP('highLowSpeed')\n",
    "\n",
    "fig, ax = plt.subplots(1,1)\n",
    "\n",
    "Tseconds = 1\n",
    "\n",
    "miceList = getMiceList(Files[0])\n",
    "for m in miceList:\n",
    "    grp = f[m]\n",
    "    sgrp = grp.create_group('highLowSpeedPeriods_params')\n",
    "    sgrp.attrs['th_high'] = highSpeedPeriodsPars[m]['hth']\n",
    "    sgrp.attrs['th_low'] = highSpeedPeriodsPars[m]['lth']\n",
    "    \n",
    "    data_pre = getData(Files[0],['speed'],period ='Pre', mice=m)\n",
    "    data_post = getData(Files[0],['speed'],period ='Post', mice=m)\n",
    "    days = np.zeros(len(data_pre))\n",
    "    ind = 0\n",
    "    # sort by session for my own OCD\n",
    "    for sess in data_pre:\n",
    "        if sess[5] == 'B':\n",
    "            day = 0\n",
    "        else:\n",
    "            day = int(re.findall(r'\\d+',sess[5:])[0])\n",
    "        days[ind] = day\n",
    "        ind= ind+1\n",
    "    a = np.argsort(days)\n",
    "    dKeys = list(data_pre.keys())\n",
    "    # calculte high speed period, do 3 sessions per plot, and stor in ppt\n",
    "    ind = 0;\n",
    "    th_hi = sgrp.attrs['th_high']\n",
    "    th_low = sgrp.attrs['th_low']\n",
    "    for aa in range(0,len(data_pre)):\n",
    "        sess = dKeys[a[aa]]\n",
    "        speed = data_pre[sess]['speed']['speed']\n",
    "        speed = speed.T\n",
    "        dt  = 1/data_pre[sess]['speed']['Fs']\n",
    "        dataPoints = int(np.ceil(Tseconds/dt))\n",
    "        \n",
    "        \n",
    "        HPeriods = HighSpeedPeriods(ax,speed,dt,th_hi, dataPoints,Colors['high'])\n",
    "        LPeriods = LowSpeedPeriods(ax,speed,dt,th_low, dataPoints,Colors['low'])\n",
    "        \n",
    "        subgrp = grp[sess]\n",
    "        ssubgrp =subgrp['Pre']\n",
    "        ssubgrp['HighMvmtPeriods_StartSegments'] = HPeriods['highSpeed']['start']\n",
    "        ssubgrp['HighMvmtPeriods_EndSegments'] = HPeriods['highSpeed']['end']\n",
    "        highP = np.full(speed.shape, False)\n",
    "        for l in range(0, len(HPeriods['highSpeed']['start'])):\n",
    "            highP[HPeriods['highSpeed']['start'][l]:HPeriods['highSpeed']['end'][l]] = True\n",
    "        ssubgrp['HighMvmtPeriods_vector'] = highP\n",
    "        \n",
    "        ssubgrp['LowMvmtPeriods_StartSegments'] = LPeriods['lowSpeed']['start']\n",
    "        ssubgrp['LowMvmtPeriods_EndSegments'] = LPeriods['lowSpeed']['end']\n",
    "        lowP = np.full(speed.shape, False)\n",
    "        for l in range(0, len(LPeriods['lowSpeed']['start'])):\n",
    "            lowP[LPeriods['lowSpeed']['start'][l]:LPeriods['lowSpeed']['end'][l]] = True\n",
    "        ssubgrp['LowMvmtPeriods_vector'] = lowP\n",
    "        \n",
    "        if sess in data_post.keys():\n",
    "            speed = data_post[sess]['speed']['speed']\n",
    "            speed = speed.T\n",
    "           \n",
    "            \n",
    "            HPeriods = HighSpeedPeriods(ax,speed,dt,th_hi, dataPoints,Colors['high'])\n",
    "            LPeriods = LowSpeedPeriods(ax,speed,dt,th_low, dataPoints,Colors['low'])\n",
    "\n",
    "            spsubgrp = subgrp['Post']\n",
    "            spsubgrp['HighMvmtPeriods_StartSegments'] = HPeriods['highSpeed']['start']\n",
    "            spsubgrp['HighMvmtPeriods_EndSegments'] = HPeriods['highSpeed']['end']\n",
    "            highP = np.full(speed.shape, False)\n",
    "            for l in range(0, len(HPeriods['highSpeed']['start'])):\n",
    "                highP[HPeriods['highSpeed']['start'][l]:HPeriods['highSpeed']['end'][l]] = True\n",
    "            spsubgrp['HighMvmtPeriods_vector'] = highP\n",
    "\n",
    "            spsubgrp['LowMvmtPeriods_StartSegments'] = LPeriods['lowSpeed']['start']\n",
    "            spsubgrp['LowMvmtPeriods_EndSegments'] = LPeriods['lowSpeed']['end']\n",
    "            lowP = np.full(speed.shape, False)\n",
    "            for l in range(0, len(LPeriods['lowSpeed']['start'])):\n",
    "                lowP[LPeriods['lowSpeed']['start'][l]:LPeriods['lowSpeed']['end'][l]] = True\n",
    "            spsubgrp['LowMvmtPeriods_vector'] = lowP\n",
    "        \n",
    "f.close()  "
   ]
  },
  {
   "cell_type": "code",
   "execution_count": null,
   "metadata": {},
   "outputs": [
    {
     "name": "stderr",
     "output_type": "stream",
     "text": [
      "d:\\6OHDA\\IO.py:282: H5pyDeprecationWarning: dataset.value has been deprecated. Use dataset[()] instead.\n",
      "  dff = hf[m][s]['traces']['dff'].value\n",
      "  0%|                                                                                           | 0/14 [00:00<?, ?it/s]"
     ]
    },
    {
     "name": "stdout",
     "output_type": "stream",
     "text": [
      "cleaning up trace data\n",
      "0761_BaselineA\n"
     ]
    },
    {
     "name": "stderr",
     "output_type": "stream",
     "text": [
      "\r",
      "  7%|█████▊                                                                            | 1/14 [02:02<26:35, 122.71s/it]"
     ]
    },
    {
     "name": "stdout",
     "output_type": "stream",
     "text": [
      "0761_BaselineL\n"
     ]
    },
    {
     "name": "stderr",
     "output_type": "stream",
     "text": [
      "\r",
      " 14%|███████████▋                                                                      | 2/14 [04:34<26:17, 131.44s/it]"
     ]
    },
    {
     "name": "stdout",
     "output_type": "stream",
     "text": [
      "0761_BaselineS\n"
     ]
    },
    {
     "name": "stderr",
     "output_type": "stream",
     "text": [
      "\r",
      " 21%|█████████████████▌                                                                | 3/14 [07:14<25:38, 139.86s/it]"
     ]
    },
    {
     "name": "stdout",
     "output_type": "stream",
     "text": [
      "0761_day1\n"
     ]
    },
    {
     "name": "stderr",
     "output_type": "stream",
     "text": [
      "\r",
      " 29%|███████████████████████▍                                                          | 4/14 [07:27<17:00, 102.00s/it]"
     ]
    },
    {
     "name": "stdout",
     "output_type": "stream",
     "text": [
      "0761_day10\n"
     ]
    },
    {
     "name": "stderr",
     "output_type": "stream",
     "text": [
      "\r",
      " 36%|█████████████████████████████▎                                                    | 5/14 [09:19<15:44, 104.95s/it]"
     ]
    },
    {
     "name": "stdout",
     "output_type": "stream",
     "text": [
      "0761_day12\n"
     ]
    },
    {
     "name": "stderr",
     "output_type": "stream",
     "text": [
      "\r",
      " 43%|███████████████████████████████████▌                                               | 6/14 [10:08<11:45, 88.24s/it]"
     ]
    },
    {
     "name": "stdout",
     "output_type": "stream",
     "text": [
      "0761_day14A\n"
     ]
    },
    {
     "name": "stderr",
     "output_type": "stream",
     "text": [
      "\r",
      " 50%|█████████████████████████████████████████▌                                         | 7/14 [10:23<07:43, 66.28s/it]"
     ]
    },
    {
     "name": "stdout",
     "output_type": "stream",
     "text": [
      "0761_day19L\n"
     ]
    },
    {
     "name": "stderr",
     "output_type": "stream",
     "text": [
      "\r",
      " 57%|███████████████████████████████████████████████▍                                   | 8/14 [12:11<07:51, 78.55s/it]"
     ]
    },
    {
     "name": "stdout",
     "output_type": "stream",
     "text": [
      "0761_day2\n"
     ]
    },
    {
     "name": "stderr",
     "output_type": "stream",
     "text": [
      "\r",
      " 64%|█████████████████████████████████████████████████████▎                             | 9/14 [13:36<06:43, 80.73s/it]"
     ]
    },
    {
     "name": "stdout",
     "output_type": "stream",
     "text": [
      "0761_day31A\n"
     ]
    },
    {
     "name": "stderr",
     "output_type": "stream",
     "text": [
      "\r",
      " 71%|██████████████████████████████████████████████████████████▌                       | 10/14 [15:30<06:02, 90.70s/it]"
     ]
    },
    {
     "name": "stdout",
     "output_type": "stream",
     "text": [
      "0761_day35L\n"
     ]
    },
    {
     "name": "stderr",
     "output_type": "stream",
     "text": [
      "\r",
      " 79%|████████████████████████████████████████████████████████████████▍                 | 11/14 [16:55<04:26, 88.87s/it]"
     ]
    },
    {
     "name": "stdout",
     "output_type": "stream",
     "text": [
      "0761_day4\n"
     ]
    },
    {
     "name": "stderr",
     "output_type": "stream",
     "text": [
      "\r",
      " 86%|██████████████████████████████████████████████████████████████████████▎           | 12/14 [17:57<02:41, 80.78s/it]"
     ]
    },
    {
     "name": "stdout",
     "output_type": "stream",
     "text": [
      "0761_day6\n"
     ]
    },
    {
     "name": "stderr",
     "output_type": "stream",
     "text": [
      "\r",
      " 93%|████████████████████████████████████████████████████████████████████████████▏     | 13/14 [19:02<01:16, 76.21s/it]"
     ]
    },
    {
     "name": "stdout",
     "output_type": "stream",
     "text": [
      "0761_day8\n"
     ]
    },
    {
     "name": "stderr",
     "output_type": "stream",
     "text": [
      "100%|██████████████████████████████████████████████████████████████████████████████████| 14/14 [20:55<00:00, 89.68s/it]\n",
      "  0%|                                                                                           | 0/14 [00:00<?, ?it/s]"
     ]
    },
    {
     "name": "stdout",
     "output_type": "stream",
     "text": [
      "cleaning up trace data\n",
      "1208_BaselineA\n"
     ]
    },
    {
     "name": "stderr",
     "output_type": "stream",
     "text": [
      "\r",
      "  7%|█████▋                                                                         | 1/14 [24:18<5:15:57, 1458.27s/it]"
     ]
    },
    {
     "name": "stdout",
     "output_type": "stream",
     "text": [
      "1208_BaselineL\n"
     ]
    },
    {
     "name": "stderr",
     "output_type": "stream",
     "text": [
      "\r",
      " 14%|███████████▎                                                                   | 2/14 [52:27<5:05:30, 1527.53s/it]"
     ]
    },
    {
     "name": "stdout",
     "output_type": "stream",
     "text": [
      "1208_BaselineS\n"
     ]
    },
    {
     "name": "stderr",
     "output_type": "stream",
     "text": [
      "\r",
      " 21%|████████████████▌                                                            | 3/14 [1:10:30<4:15:36, 1394.22s/it]"
     ]
    },
    {
     "name": "stdout",
     "output_type": "stream",
     "text": [
      "1208_day10\n"
     ]
    },
    {
     "name": "stderr",
     "output_type": "stream",
     "text": [
      "\r",
      " 29%|██████████████████████                                                       | 4/14 [1:23:41<3:22:12, 1213.30s/it]"
     ]
    },
    {
     "name": "stdout",
     "output_type": "stream",
     "text": [
      "1208_day12\n"
     ]
    },
    {
     "name": "stderr",
     "output_type": "stream",
     "text": [
      "\r",
      " 36%|███████████████████████████▌                                                 | 5/14 [1:45:04<3:05:06, 1234.06s/it]"
     ]
    },
    {
     "name": "stdout",
     "output_type": "stream",
     "text": [
      "1208_day14\n"
     ]
    },
    {
     "name": "stderr",
     "output_type": "stream",
     "text": [
      "\r",
      " 43%|█████████████████████████████████                                            | 6/14 [2:03:27<2:39:17, 1194.73s/it]"
     ]
    },
    {
     "name": "stdout",
     "output_type": "stream",
     "text": [
      "1208_day15A\n"
     ]
    },
    {
     "name": "stderr",
     "output_type": "stream",
     "text": [
      "\r",
      " 50%|██████████████████████████████████████▌                                      | 7/14 [2:16:11<2:04:19, 1065.65s/it]"
     ]
    },
    {
     "name": "stdout",
     "output_type": "stream",
     "text": [
      "1208_day19L\n"
     ]
    },
    {
     "name": "stderr",
     "output_type": "stream",
     "text": [
      "\r",
      " 57%|████████████████████████████████████████████▌                                 | 8/14 [2:24:24<1:29:22, 893.83s/it]"
     ]
    },
    {
     "name": "stdout",
     "output_type": "stream",
     "text": [
      "1208_day2\n"
     ]
    },
    {
     "name": "stderr",
     "output_type": "stream",
     "text": [
      "\r",
      " 64%|██████████████████████████████████████████████████▏                           | 9/14 [2:40:54<1:16:52, 922.53s/it]"
     ]
    },
    {
     "name": "stdout",
     "output_type": "stream",
     "text": [
      "1208_day30A\n"
     ]
    },
    {
     "name": "stderr",
     "output_type": "stream",
     "text": [
      "\r",
      " 71%|████████████████████████████████████████████████████████▍                      | 10/14 [2:54:30<59:22, 890.58s/it]"
     ]
    },
    {
     "name": "stdout",
     "output_type": "stream",
     "text": [
      "1208_day34L\n"
     ]
    },
    {
     "name": "stderr",
     "output_type": "stream",
     "text": [
      "\r",
      " 79%|██████████████████████████████████████████████████████████████                 | 11/14 [3:09:18<44:29, 889.84s/it]"
     ]
    },
    {
     "name": "stdout",
     "output_type": "stream",
     "text": [
      "1208_day4\n"
     ]
    },
    {
     "name": "stderr",
     "output_type": "stream",
     "text": [
      "\r",
      " 86%|███████████████████████████████████████████████████████████████████▋           | 12/14 [3:26:29<31:04, 932.31s/it]"
     ]
    },
    {
     "name": "stdout",
     "output_type": "stream",
     "text": [
      "1208_day6\n"
     ]
    },
    {
     "name": "stderr",
     "output_type": "stream",
     "text": [
      "\r",
      " 93%|████████████████████████████████████████████████████████████████████████▍     | 13/14 [3:45:48<16:40, 1000.18s/it]"
     ]
    },
    {
     "name": "stdout",
     "output_type": "stream",
     "text": [
      "1208_day8\n"
     ]
    },
    {
     "name": "stderr",
     "output_type": "stream",
     "text": [
      "100%|██████████████████████████████████████████████████████████████████████████████| 14/14 [3:58:04<00:00, 1020.32s/it]\n",
      "  0%|                                                                                           | 0/14 [00:00<?, ?it/s]"
     ]
    },
    {
     "name": "stdout",
     "output_type": "stream",
     "text": [
      "cleaning up trace data\n",
      "1222_BaselineA\n"
     ]
    },
    {
     "name": "stderr",
     "output_type": "stream",
     "text": [
      "\r",
      "  7%|█████▊                                                                            | 1/14 [03:53<50:33, 233.38s/it]"
     ]
    },
    {
     "name": "stdout",
     "output_type": "stream",
     "text": [
      "1222_BaselineL\n"
     ]
    },
    {
     "name": "stderr",
     "output_type": "stream",
     "text": [
      "\r",
      " 14%|███████████▍                                                                    | 2/14 [13:19<1:06:40, 333.34s/it]"
     ]
    },
    {
     "name": "stdout",
     "output_type": "stream",
     "text": [
      "1222_BaselineS\n",
      "skipped iteration\n"
     ]
    },
    {
     "name": "stderr",
     "output_type": "stream",
     "text": [
      "\r",
      " 21%|█████████████████▏                                                              | 3/14 [23:49<1:17:24, 422.20s/it]"
     ]
    },
    {
     "name": "stdout",
     "output_type": "stream",
     "text": [
      "1222_day11\n"
     ]
    },
    {
     "name": "stderr",
     "output_type": "stream",
     "text": [
      "\r",
      " 29%|███████████████████████▍                                                          | 4/14 [25:19<53:45, 322.57s/it]"
     ]
    },
    {
     "name": "stdout",
     "output_type": "stream",
     "text": [
      "1222_day13\n"
     ]
    },
    {
     "name": "stderr",
     "output_type": "stream",
     "text": [
      "\r",
      " 36%|█████████████████████████████▎                                                    | 5/14 [28:10<41:32, 276.92s/it]"
     ]
    },
    {
     "name": "stdout",
     "output_type": "stream",
     "text": [
      "1222_day15A\n"
     ]
    },
    {
     "name": "stderr",
     "output_type": "stream",
     "text": [
      "\r",
      " 43%|███████████████████████████████████▏                                              | 6/14 [33:42<39:09, 293.74s/it]"
     ]
    },
    {
     "name": "stdout",
     "output_type": "stream",
     "text": [
      "1222_day2\n"
     ]
    },
    {
     "name": "stderr",
     "output_type": "stream",
     "text": [
      "\r",
      " 50%|█████████████████████████████████████████                                         | 7/14 [33:48<24:10, 207.16s/it]"
     ]
    },
    {
     "name": "stdout",
     "output_type": "stream",
     "text": [
      "1222_day20L\n"
     ]
    },
    {
     "name": "stderr",
     "output_type": "stream",
     "text": [
      "\r",
      " 57%|██████████████████████████████████████████████▊                                   | 8/14 [39:36<24:57, 249.59s/it]"
     ]
    },
    {
     "name": "stdout",
     "output_type": "stream",
     "text": [
      "1222_day3\n"
     ]
    },
    {
     "name": "stderr",
     "output_type": "stream",
     "text": [
      "\r",
      " 64%|████████████████████████████████████████████████████▋                             | 9/14 [42:14<18:29, 221.93s/it]"
     ]
    },
    {
     "name": "stdout",
     "output_type": "stream",
     "text": [
      "1222_day32A\n"
     ]
    },
    {
     "name": "stderr",
     "output_type": "stream",
     "text": [
      "\r",
      " 71%|█████████████████████████████████████████████████████████▊                       | 10/14 [42:43<10:56, 164.19s/it]"
     ]
    },
    {
     "name": "stdout",
     "output_type": "stream",
     "text": [
      "1222_day36L\n"
     ]
    },
    {
     "name": "stderr",
     "output_type": "stream",
     "text": [
      "\r",
      " 79%|███████████████████████████████████████████████████████████████▋                 | 11/14 [46:10<08:50, 176.97s/it]"
     ]
    },
    {
     "name": "stdout",
     "output_type": "stream",
     "text": [
      "1222_day5\n"
     ]
    },
    {
     "name": "stderr",
     "output_type": "stream",
     "text": [
      "\r",
      " 86%|█████████████████████████████████████████████████████████████████████▍           | 12/14 [46:31<04:20, 130.31s/it]"
     ]
    },
    {
     "name": "stdout",
     "output_type": "stream",
     "text": [
      "1222_day7\n"
     ]
    },
    {
     "name": "stderr",
     "output_type": "stream",
     "text": [
      "\r",
      " 93%|███████████████████████████████████████████████████████████████████████████▏     | 13/14 [47:42<01:52, 112.29s/it]"
     ]
    },
    {
     "name": "stdout",
     "output_type": "stream",
     "text": [
      "1222_day9\n"
     ]
    },
    {
     "name": "stderr",
     "output_type": "stream",
     "text": [
      "100%|█████████████████████████████████████████████████████████████████████████████████| 14/14 [49:21<00:00, 211.53s/it]\n",
      "  0%|                                                                                            | 0/3 [00:00<?, ?it/s]"
     ]
    },
    {
     "name": "stdout",
     "output_type": "stream",
     "text": [
      "cleaning up trace data\n",
      "1231_BaselineA\n"
     ]
    },
    {
     "name": "stderr",
     "output_type": "stream",
     "text": [
      "\r",
      " 33%|███████████████████████████▎                                                      | 1/3 [17:11<34:22, 1031.27s/it]"
     ]
    },
    {
     "name": "stdout",
     "output_type": "stream",
     "text": [
      "1231_BaselineL\n",
      "skipped iteration\n"
     ]
    },
    {
     "name": "stderr",
     "output_type": "stream",
     "text": [
      "\r",
      " 67%|██████████████████████████████████████████████████████▋                           | 2/3 [37:44<18:11, 1091.78s/it]"
     ]
    },
    {
     "name": "stdout",
     "output_type": "stream",
     "text": [
      "1231_BaselineS\n"
     ]
    },
    {
     "name": "stderr",
     "output_type": "stream",
     "text": [
      "100%|██████████████████████████████████████████████████████████████████████████████████| 3/3 [54:25<00:00, 1088.42s/it]\n",
      "  0%|                                                                                           | 0/14 [00:00<?, ?it/s]"
     ]
    },
    {
     "name": "stdout",
     "output_type": "stream",
     "text": [
      "cleaning up trace data\n",
      "1236_BaselineA\n"
     ]
    },
    {
     "name": "stderr",
     "output_type": "stream",
     "text": [
      "\r",
      "  7%|█████▋                                                                          | 1/14 [12:59<2:48:58, 779.85s/it]"
     ]
    },
    {
     "name": "stdout",
     "output_type": "stream",
     "text": [
      "1236_BaselineL\n"
     ]
    },
    {
     "name": "stderr",
     "output_type": "stream",
     "text": [
      "\r",
      " 14%|███████████▍                                                                    | 2/14 [22:34<2:23:37, 718.14s/it]"
     ]
    },
    {
     "name": "stdout",
     "output_type": "stream",
     "text": [
      "1236_BaselineS\n"
     ]
    },
    {
     "name": "stderr",
     "output_type": "stream",
     "text": [
      "\r",
      " 21%|█████████████████▏                                                              | 3/14 [38:04<2:23:21, 781.97s/it]"
     ]
    },
    {
     "name": "stdout",
     "output_type": "stream",
     "text": [
      "1236_day1\n"
     ]
    },
    {
     "name": "stderr",
     "output_type": "stream",
     "text": [
      "\r",
      " 29%|██████████████████████▊                                                         | 4/14 [48:53<2:03:38, 741.89s/it]"
     ]
    },
    {
     "name": "stdout",
     "output_type": "stream",
     "text": [
      "1236_day11\n"
     ]
    },
    {
     "name": "stderr",
     "output_type": "stream",
     "text": [
      "\r",
      " 36%|████████████████████████████▌                                                   | 5/14 [57:31<1:41:12, 674.69s/it]"
     ]
    },
    {
     "name": "stdout",
     "output_type": "stream",
     "text": [
      "1236_day13\n"
     ]
    },
    {
     "name": "stderr",
     "output_type": "stream",
     "text": [
      "\r",
      " 43%|█████████████████████████████████▍                                            | 6/14 [1:11:26<1:36:23, 722.90s/it]"
     ]
    },
    {
     "name": "stdout",
     "output_type": "stream",
     "text": [
      "1236_day15A\n"
     ]
    },
    {
     "name": "stderr",
     "output_type": "stream",
     "text": [
      "\r",
      " 50%|███████████████████████████████████████                                       | 7/14 [1:18:00<1:12:49, 624.17s/it]"
     ]
    },
    {
     "name": "stdout",
     "output_type": "stream",
     "text": [
      "1236_day19L\n"
     ]
    },
    {
     "name": "stderr",
     "output_type": "stream",
     "text": [
      "\r",
      " 57%|█████████████████████████████████████████████▋                                  | 8/14 [1:25:59<58:04, 580.80s/it]"
     ]
    },
    {
     "name": "stdout",
     "output_type": "stream",
     "text": [
      "1236_day3\n"
     ]
    },
    {
     "name": "stderr",
     "output_type": "stream",
     "text": [
      "\r",
      " 64%|███████████████████████████████████████████████████▍                            | 9/14 [1:32:35<43:46, 525.21s/it]"
     ]
    },
    {
     "name": "stdout",
     "output_type": "stream",
     "text": [
      "1236_day30A\n"
     ]
    },
    {
     "name": "stderr",
     "output_type": "stream",
     "text": [
      "\r",
      " 71%|████████████████████████████████████████████████████████▍                      | 10/14 [1:50:25<45:54, 688.73s/it]"
     ]
    },
    {
     "name": "stdout",
     "output_type": "stream",
     "text": [
      "1236_day35L\n"
     ]
    },
    {
     "name": "stderr",
     "output_type": "stream",
     "text": [
      "\r",
      " 79%|██████████████████████████████████████████████████████████████                 | 11/14 [2:07:34<39:31, 790.61s/it]"
     ]
    },
    {
     "name": "stdout",
     "output_type": "stream",
     "text": [
      "1236_day5\n"
     ]
    },
    {
     "name": "stderr",
     "output_type": "stream",
     "text": [
      "\r",
      " 86%|███████████████████████████████████████████████████████████████████▋           | 12/14 [2:15:34<23:14, 697.49s/it]"
     ]
    },
    {
     "name": "stdout",
     "output_type": "stream",
     "text": [
      "1236_day7\n"
     ]
    },
    {
     "name": "stderr",
     "output_type": "stream",
     "text": [
      "\r",
      " 93%|█████████████████████████████████████████████████████████████████████████▎     | 13/14 [2:21:38<09:57, 597.62s/it]"
     ]
    },
    {
     "name": "stdout",
     "output_type": "stream",
     "text": [
      "1236_day9\n"
     ]
    },
    {
     "name": "stderr",
     "output_type": "stream",
     "text": [
      "100%|███████████████████████████████████████████████████████████████████████████████| 14/14 [2:32:30<00:00, 653.63s/it]\n",
      "  0%|                                                                                            | 0/3 [00:00<?, ?it/s]"
     ]
    },
    {
     "name": "stdout",
     "output_type": "stream",
     "text": [
      "cleaning up trace data\n",
      "1253_BaselineA\n"
     ]
    },
    {
     "name": "stderr",
     "output_type": "stream",
     "text": [
      "\r",
      " 33%|███████████████████████████▎                                                      | 1/3 [18:27<36:55, 1107.92s/it]"
     ]
    },
    {
     "name": "stdout",
     "output_type": "stream",
     "text": [
      "1253_BaselineL\n"
     ]
    },
    {
     "name": "stderr",
     "output_type": "stream",
     "text": [
      "\r",
      " 67%|██████████████████████████████████████████████████████▋                           | 2/3 [43:32<20:26, 1226.79s/it]"
     ]
    },
    {
     "name": "stdout",
     "output_type": "stream",
     "text": [
      "1253_BaselineS\n"
     ]
    },
    {
     "name": "stderr",
     "output_type": "stream",
     "text": [
      "100%|████████████████████████████████████████████████████████████████████████████████| 3/3 [1:16:40<00:00, 1533.50s/it]\n",
      "  0%|                                                                                           | 0/14 [00:00<?, ?it/s]"
     ]
    },
    {
     "name": "stdout",
     "output_type": "stream",
     "text": [
      "cleaning up trace data\n",
      "1793_BaselineA\n"
     ]
    },
    {
     "name": "stderr",
     "output_type": "stream",
     "text": [
      "\r",
      "  7%|█████▋                                                                          | 1/14 [12:58<2:48:37, 778.26s/it]"
     ]
    },
    {
     "name": "stdout",
     "output_type": "stream",
     "text": [
      "1793_BaselineL\n",
      "skipped iteration\n",
      "skipped iteration\n"
     ]
    },
    {
     "name": "stderr",
     "output_type": "stream",
     "text": [
      "\r",
      " 14%|███████████                                                                  | 2/14 [1:29:49<6:25:38, 1928.20s/it]"
     ]
    },
    {
     "name": "stdout",
     "output_type": "stream",
     "text": [
      "1793_BaselineS\n"
     ]
    },
    {
     "name": "stderr",
     "output_type": "stream",
     "text": [
      "\r",
      " 21%|████████████████▌                                                            | 3/14 [2:16:10<6:40:24, 2184.03s/it]"
     ]
    },
    {
     "name": "stdout",
     "output_type": "stream",
     "text": [
      "1793_day10\n"
     ]
    },
    {
     "name": "stderr",
     "output_type": "stream",
     "text": [
      "\r",
      " 29%|██████████████████████                                                       | 4/14 [2:28:13<4:50:56, 1745.66s/it]"
     ]
    },
    {
     "name": "stdout",
     "output_type": "stream",
     "text": [
      "1793_day12\n"
     ]
    },
    {
     "name": "stderr",
     "output_type": "stream",
     "text": [
      "\r",
      " 36%|███████████████████████████▌                                                 | 5/14 [2:41:24<3:38:53, 1459.23s/it]"
     ]
    },
    {
     "name": "stdout",
     "output_type": "stream",
     "text": [
      "1793_day14\n"
     ]
    },
    {
     "name": "stderr",
     "output_type": "stream",
     "text": [
      "\r",
      " 43%|█████████████████████████████████                                            | 6/14 [2:57:08<2:53:58, 1304.77s/it]"
     ]
    },
    {
     "name": "stdout",
     "output_type": "stream",
     "text": [
      "1793_day15A\n"
     ]
    },
    {
     "name": "stderr",
     "output_type": "stream",
     "text": [
      "\r",
      " 50%|██████████████████████████████████████▌                                      | 7/14 [3:08:21<2:10:06, 1115.22s/it]"
     ]
    },
    {
     "name": "stdout",
     "output_type": "stream",
     "text": [
      "1793_day19L\n"
     ]
    },
    {
     "name": "stderr",
     "output_type": "stream",
     "text": [
      "\r",
      " 57%|████████████████████████████████████████████                                 | 8/14 [3:22:01<1:42:40, 1026.67s/it]"
     ]
    },
    {
     "name": "stdout",
     "output_type": "stream",
     "text": [
      "1793_day2\n"
     ]
    },
    {
     "name": "stderr",
     "output_type": "stream",
     "text": [
      "\r",
      " 64%|██████████████████████████████████████████████████▏                           | 9/14 [3:27:00<1:07:21, 808.32s/it]"
     ]
    },
    {
     "name": "stdout",
     "output_type": "stream",
     "text": [
      "1793_day30A\n"
     ]
    },
    {
     "name": "stderr",
     "output_type": "stream",
     "text": [
      "\r",
      " 71%|████████████████████████████████████████████████████████▍                      | 10/14 [3:44:05<58:13, 873.38s/it]"
     ]
    },
    {
     "name": "stdout",
     "output_type": "stream",
     "text": [
      "1793_day34L\n"
     ]
    },
    {
     "name": "stderr",
     "output_type": "stream",
     "text": [
      "\r",
      " 79%|██████████████████████████████████████████████████████████████                 | 11/14 [3:53:34<39:06, 782.16s/it]"
     ]
    },
    {
     "name": "stdout",
     "output_type": "stream",
     "text": [
      "1793_day4\n"
     ]
    },
    {
     "name": "stderr",
     "output_type": "stream",
     "text": [
      "\r",
      " 86%|███████████████████████████████████████████████████████████████████▋           | 12/14 [4:01:13<22:49, 684.95s/it]"
     ]
    },
    {
     "name": "stdout",
     "output_type": "stream",
     "text": [
      "1793_day6\n"
     ]
    },
    {
     "name": "stderr",
     "output_type": "stream",
     "text": [
      "\r",
      " 93%|█████████████████████████████████████████████████████████████████████████▎     | 13/14 [4:10:46<10:51, 651.33s/it]"
     ]
    },
    {
     "name": "stdout",
     "output_type": "stream",
     "text": [
      "1793_day8\n"
     ]
    },
    {
     "name": "stderr",
     "output_type": "stream",
     "text": [
      "100%|██████████████████████████████████████████████████████████████████████████████| 14/14 [4:20:41<00:00, 1117.28s/it]\n",
      "  0%|                                                                                           | 0/14 [00:00<?, ?it/s]"
     ]
    },
    {
     "name": "stdout",
     "output_type": "stream",
     "text": [
      "cleaning up trace data\n",
      "2976_BaselineA\n"
     ]
    },
    {
     "name": "stderr",
     "output_type": "stream",
     "text": [
      "\r",
      "  7%|█████▋                                                                          | 1/14 [09:05<1:58:09, 545.34s/it]"
     ]
    },
    {
     "name": "stdout",
     "output_type": "stream",
     "text": [
      "2976_BaselineL\n"
     ]
    },
    {
     "name": "stderr",
     "output_type": "stream",
     "text": [
      "\r",
      " 14%|███████████▍                                                                    | 2/14 [19:32<1:53:57, 569.76s/it]"
     ]
    },
    {
     "name": "stdout",
     "output_type": "stream",
     "text": [
      "2976_BaselineS\n"
     ]
    },
    {
     "name": "stderr",
     "output_type": "stream",
     "text": [
      "\r",
      " 21%|█████████████████▏                                                              | 3/14 [35:49<2:06:52, 692.02s/it]"
     ]
    },
    {
     "name": "stdout",
     "output_type": "stream",
     "text": [
      "2976_day10\n"
     ]
    },
    {
     "name": "stderr",
     "output_type": "stream",
     "text": [
      "\r",
      " 29%|██████████████████████▊                                                         | 4/14 [56:34<2:23:00, 858.00s/it]"
     ]
    },
    {
     "name": "stdout",
     "output_type": "stream",
     "text": [
      "2976_day12\n"
     ]
    },
    {
     "name": "stderr",
     "output_type": "stream",
     "text": [
      "\r",
      " 36%|███████████████████████████▌                                                 | 5/14 [1:20:50<2:35:36, 1037.41s/it]"
     ]
    },
    {
     "name": "stdout",
     "output_type": "stream",
     "text": [
      "2976_day14\n"
     ]
    },
    {
     "name": "stderr",
     "output_type": "stream",
     "text": [
      "\r",
      " 43%|█████████████████████████████████                                            | 6/14 [1:50:21<2:47:38, 1257.33s/it]"
     ]
    },
    {
     "name": "stdout",
     "output_type": "stream",
     "text": [
      "2976_day15A\n"
     ]
    },
    {
     "name": "stderr",
     "output_type": "stream",
     "text": [
      "\r",
      " 50%|██████████████████████████████████████▌                                      | 7/14 [2:07:24<2:18:30, 1187.20s/it]"
     ]
    },
    {
     "name": "stdout",
     "output_type": "stream",
     "text": [
      "2976_day19L\n"
     ]
    },
    {
     "name": "stderr",
     "output_type": "stream",
     "text": [
      "\r",
      " 57%|████████████████████████████████████████████                                 | 8/14 [2:17:55<1:42:02, 1020.37s/it]"
     ]
    },
    {
     "name": "stdout",
     "output_type": "stream",
     "text": [
      "2976_day2\n"
     ]
    },
    {
     "name": "stderr",
     "output_type": "stream",
     "text": [
      "\r",
      " 64%|█████████████████████████████████████████████████▌                           | 9/14 [2:35:24<1:25:44, 1028.89s/it]"
     ]
    },
    {
     "name": "stdout",
     "output_type": "stream",
     "text": [
      "2976_day30A\n"
     ]
    },
    {
     "name": "stderr",
     "output_type": "stream",
     "text": [
      "\r",
      " 71%|████████████████████████████████████████████████████████▍                      | 10/14 [2:41:53<55:46, 836.75s/it]"
     ]
    },
    {
     "name": "stdout",
     "output_type": "stream",
     "text": [
      "2976_day35L\n"
     ]
    },
    {
     "name": "stderr",
     "output_type": "stream",
     "text": [
      "\r",
      " 79%|██████████████████████████████████████████████████████████████                 | 11/14 [2:49:58<36:34, 731.46s/it]"
     ]
    },
    {
     "name": "stdout",
     "output_type": "stream",
     "text": [
      "2976_day4\n"
     ]
    },
    {
     "name": "stderr",
     "output_type": "stream",
     "text": [
      "\r",
      " 86%|███████████████████████████████████████████████████████████████████▋           | 12/14 [3:02:26<24:32, 736.35s/it]"
     ]
    },
    {
     "name": "stdout",
     "output_type": "stream",
     "text": [
      "2976_day6\n"
     ]
    },
    {
     "name": "stderr",
     "output_type": "stream",
     "text": [
      "\r",
      " 93%|█████████████████████████████████████████████████████████████████████████▎     | 13/14 [3:18:34<13:25, 805.94s/it]"
     ]
    },
    {
     "name": "stdout",
     "output_type": "stream",
     "text": [
      "2976_day8\n"
     ]
    },
    {
     "name": "stderr",
     "output_type": "stream",
     "text": [
      "100%|███████████████████████████████████████████████████████████████████████████████| 14/14 [3:33:44<00:00, 916.05s/it]\n",
      "  0%|                                                                                           | 0/14 [00:00<?, ?it/s]"
     ]
    },
    {
     "name": "stdout",
     "output_type": "stream",
     "text": [
      "cleaning up trace data\n",
      "2980_BaselineA\n"
     ]
    },
    {
     "name": "stderr",
     "output_type": "stream",
     "text": [
      "\r",
      "  7%|█████▋                                                                          | 1/14 [10:33<2:17:20, 633.88s/it]"
     ]
    },
    {
     "name": "stdout",
     "output_type": "stream",
     "text": [
      "2980_BaselineL\n"
     ]
    },
    {
     "name": "stderr",
     "output_type": "stream",
     "text": [
      "\r",
      " 14%|███████████▍                                                                    | 2/14 [20:56<2:06:07, 630.61s/it]"
     ]
    },
    {
     "name": "stdout",
     "output_type": "stream",
     "text": [
      "2980_BaselineS\n"
     ]
    },
    {
     "name": "stderr",
     "output_type": "stream",
     "text": [
      "\r",
      " 21%|█████████████████▏                                                              | 3/14 [35:04<2:07:32, 695.72s/it]"
     ]
    },
    {
     "name": "stdout",
     "output_type": "stream",
     "text": [
      "2980_day10\n"
     ]
    },
    {
     "name": "stderr",
     "output_type": "stream",
     "text": [
      "\r",
      " 29%|██████████████████████▊                                                         | 4/14 [41:47<1:41:20, 608.04s/it]"
     ]
    },
    {
     "name": "stdout",
     "output_type": "stream",
     "text": [
      "2980_day12\n"
     ]
    },
    {
     "name": "stderr",
     "output_type": "stream",
     "text": [
      "\r",
      " 36%|████████████████████████████▌                                                   | 5/14 [45:35<1:14:05, 493.92s/it]"
     ]
    },
    {
     "name": "stdout",
     "output_type": "stream",
     "text": [
      "2980_day14\n"
     ]
    },
    {
     "name": "stderr",
     "output_type": "stream",
     "text": [
      "\r",
      " 43%|██████████████████████████████████▎                                             | 6/14 [55:05<1:08:53, 516.66s/it]"
     ]
    },
    {
     "name": "stdout",
     "output_type": "stream",
     "text": [
      "2980_day15A\n"
     ]
    },
    {
     "name": "stderr",
     "output_type": "stream",
     "text": [
      "\r",
      " 50%|███████████████████████████████████████                                       | 7/14 [1:06:44<1:06:40, 571.50s/it]"
     ]
    },
    {
     "name": "stdout",
     "output_type": "stream",
     "text": [
      "2980_day19L\n"
     ]
    },
    {
     "name": "stderr",
     "output_type": "stream",
     "text": [
      "\r",
      " 57%|████████████████████████████████████████████▌                                 | 8/14 [1:20:43<1:05:09, 651.60s/it]"
     ]
    },
    {
     "name": "stdout",
     "output_type": "stream",
     "text": [
      "2980_day2\n"
     ]
    },
    {
     "name": "stderr",
     "output_type": "stream",
     "text": [
      "\r",
      " 64%|███████████████████████████████████████████████████▍                            | 9/14 [1:24:20<43:25, 521.14s/it]"
     ]
    },
    {
     "name": "stdout",
     "output_type": "stream",
     "text": [
      "2980_day30A\n"
     ]
    },
    {
     "name": "stderr",
     "output_type": "stream",
     "text": [
      "\r",
      " 71%|████████████████████████████████████████████████████████▍                      | 10/14 [1:35:26<37:38, 564.72s/it]"
     ]
    },
    {
     "name": "stdout",
     "output_type": "stream",
     "text": [
      "2980_day35L\n"
     ]
    },
    {
     "name": "stderr",
     "output_type": "stream",
     "text": [
      "\r",
      " 79%|██████████████████████████████████████████████████████████████                 | 11/14 [1:55:23<37:43, 754.40s/it]"
     ]
    },
    {
     "name": "stdout",
     "output_type": "stream",
     "text": [
      "2980_day4\n"
     ]
    },
    {
     "name": "stderr",
     "output_type": "stream",
     "text": [
      "\r",
      " 86%|███████████████████████████████████████████████████████████████████▋           | 12/14 [1:58:06<19:14, 577.11s/it]"
     ]
    },
    {
     "name": "stdout",
     "output_type": "stream",
     "text": [
      "2980_day6\n"
     ]
    },
    {
     "name": "stderr",
     "output_type": "stream",
     "text": [
      "\r",
      " 93%|█████████████████████████████████████████████████████████████████████████▎     | 13/14 [2:01:36<07:46, 466.79s/it]"
     ]
    },
    {
     "name": "stdout",
     "output_type": "stream",
     "text": [
      "2980_day8\n"
     ]
    },
    {
     "name": "stderr",
     "output_type": "stream",
     "text": [
      "100%|███████████████████████████████████████████████████████████████████████████████| 14/14 [2:04:51<00:00, 535.11s/it]\n",
      "  0%|                                                                                           | 0/14 [00:00<?, ?it/s]"
     ]
    },
    {
     "name": "stdout",
     "output_type": "stream",
     "text": [
      "cleaning up trace data\n",
      "2981_BaselineA\n"
     ]
    },
    {
     "name": "stderr",
     "output_type": "stream",
     "text": [
      "\r",
      "  7%|█████▋                                                                          | 1/14 [09:00<1:57:02, 540.15s/it]"
     ]
    },
    {
     "name": "stdout",
     "output_type": "stream",
     "text": [
      "2981_BaselineL\n"
     ]
    },
    {
     "name": "stderr",
     "output_type": "stream",
     "text": [
      "\r",
      " 14%|███████████▍                                                                    | 2/14 [22:04<2:02:39, 613.27s/it]"
     ]
    },
    {
     "name": "stdout",
     "output_type": "stream",
     "text": [
      "2981_BaselineS\n"
     ]
    },
    {
     "name": "stderr",
     "output_type": "stream",
     "text": [
      "\r",
      " 21%|█████████████████▏                                                              | 3/14 [41:28<2:22:45, 778.71s/it]"
     ]
    },
    {
     "name": "stdout",
     "output_type": "stream",
     "text": [
      "2981_day10\n"
     ]
    },
    {
     "name": "stderr",
     "output_type": "stream",
     "text": [
      "\r",
      " 29%|██████████████████████▊                                                         | 4/14 [52:40<2:04:25, 746.53s/it]"
     ]
    },
    {
     "name": "stdout",
     "output_type": "stream",
     "text": [
      "2981_day12\n"
     ]
    },
    {
     "name": "stderr",
     "output_type": "stream",
     "text": [
      "\r",
      " 36%|███████████████████████████▊                                                  | 5/14 [1:05:40<1:53:28, 756.55s/it]"
     ]
    },
    {
     "name": "stdout",
     "output_type": "stream",
     "text": [
      "2981_day14\n"
     ]
    },
    {
     "name": "stderr",
     "output_type": "stream",
     "text": [
      "\r",
      " 43%|█████████████████████████████████▍                                            | 6/14 [1:20:04<1:45:10, 788.87s/it]"
     ]
    },
    {
     "name": "stdout",
     "output_type": "stream",
     "text": [
      "2981_day15A\n"
     ]
    },
    {
     "name": "stderr",
     "output_type": "stream",
     "text": [
      "\r",
      " 50%|███████████████████████████████████████                                       | 7/14 [1:41:14<1:48:53, 933.31s/it]"
     ]
    },
    {
     "name": "stdout",
     "output_type": "stream",
     "text": [
      "2981_day19L\n"
     ]
    },
    {
     "name": "stderr",
     "output_type": "stream",
     "text": [
      "\r",
      " 57%|████████████████████████████████████████████                                 | 8/14 [2:05:52<1:49:39, 1096.57s/it]"
     ]
    },
    {
     "name": "stdout",
     "output_type": "stream",
     "text": [
      "2981_day2\n"
     ]
    },
    {
     "name": "stderr",
     "output_type": "stream",
     "text": [
      "\r",
      " 64%|██████████████████████████████████████████████████▏                           | 9/14 [2:14:57<1:17:35, 931.13s/it]"
     ]
    },
    {
     "name": "stdout",
     "output_type": "stream",
     "text": [
      "2981_day30A\n"
     ]
    },
    {
     "name": "stderr",
     "output_type": "stream",
     "text": [
      "\r",
      " 71%|██████████████████████████████████████████████████████▎                     | 10/14 [2:39:20<1:12:42, 1090.66s/it]"
     ]
    },
    {
     "name": "stdout",
     "output_type": "stream",
     "text": [
      "2981_day35L\n"
     ]
    },
    {
     "name": "stderr",
     "output_type": "stream",
     "text": [
      "\r",
      " 79%|███████████████████████████████████████████████████████████▋                | 11/14 [3:09:37<1:05:25, 1308.64s/it]"
     ]
    },
    {
     "name": "stdout",
     "output_type": "stream",
     "text": [
      "2981_day4\n"
     ]
    },
    {
     "name": "stderr",
     "output_type": "stream",
     "text": [
      "\r",
      " 86%|██████████████████████████████████████████████████████████████████▊           | 12/14 [3:15:46<34:13, 1026.76s/it]"
     ]
    },
    {
     "name": "stdout",
     "output_type": "stream",
     "text": [
      "2981_day6\n"
     ]
    },
    {
     "name": "stderr",
     "output_type": "stream",
     "text": [
      "\r",
      " 93%|█████████████████████████████████████████████████████████████████████████▎     | 13/14 [3:26:40<15:14, 914.88s/it]"
     ]
    },
    {
     "name": "stdout",
     "output_type": "stream",
     "text": [
      "2981_day8\n"
     ]
    },
    {
     "name": "stderr",
     "output_type": "stream",
     "text": [
      "100%|███████████████████████████████████████████████████████████████████████████████| 14/14 [3:36:06<00:00, 926.19s/it]\n",
      "  0%|                                                                                           | 0/19 [00:00<?, ?it/s]"
     ]
    },
    {
     "name": "stdout",
     "output_type": "stream",
     "text": [
      "cleaning up trace data\n",
      "4539_Baseline2A\n"
     ]
    },
    {
     "name": "stderr",
     "output_type": "stream",
     "text": [
      "\r",
      "  5%|████▏                                                                          | 1/19 [22:48<6:50:32, 1368.46s/it]"
     ]
    },
    {
     "name": "stdout",
     "output_type": "stream",
     "text": [
      "4539_BaselineA\n"
     ]
    },
    {
     "name": "stderr",
     "output_type": "stream",
     "text": [
      "\r",
      " 11%|████████                                                                     | 2/19 [1:03:45<8:00:14, 1694.99s/it]"
     ]
    },
    {
     "name": "stdout",
     "output_type": "stream",
     "text": [
      "4539_day0\n"
     ]
    },
    {
     "name": "stderr",
     "output_type": "stream",
     "text": [
      "\r",
      " 16%|████████████▏                                                                | 3/19 [1:23:48<6:52:39, 1547.49s/it]"
     ]
    },
    {
     "name": "stdout",
     "output_type": "stream",
     "text": [
      "4539_day1\n"
     ]
    },
    {
     "name": "stderr",
     "output_type": "stream",
     "text": [
      "\r",
      " 21%|████████████████▏                                                            | 4/19 [1:36:48<5:29:17, 1317.14s/it]"
     ]
    },
    {
     "name": "stdout",
     "output_type": "stream",
     "text": [
      "4539_day10\n"
     ]
    },
    {
     "name": "stderr",
     "output_type": "stream",
     "text": [
      "\r",
      " 26%|████████████████████▎                                                        | 5/19 [1:46:34<4:16:10, 1097.88s/it]"
     ]
    },
    {
     "name": "stdout",
     "output_type": "stream",
     "text": [
      "4539_day11\n"
     ]
    },
    {
     "name": "stderr",
     "output_type": "stream",
     "text": [
      "\r",
      " 32%|████████████████████████▋                                                     | 6/19 [1:56:27<3:25:04, 946.47s/it]"
     ]
    },
    {
     "name": "stdout",
     "output_type": "stream",
     "text": [
      "4539_day12\n"
     ]
    },
    {
     "name": "stderr",
     "output_type": "stream",
     "text": [
      "\r",
      " 37%|████████████████████████████▋                                                 | 7/19 [2:07:01<2:50:31, 852.63s/it]"
     ]
    },
    {
     "name": "stdout",
     "output_type": "stream",
     "text": [
      "4539_day13\n"
     ]
    },
    {
     "name": "stderr",
     "output_type": "stream",
     "text": [
      "\r",
      " 42%|████████████████████████████████▊                                             | 8/19 [2:13:28<2:10:43, 713.07s/it]"
     ]
    },
    {
     "name": "stdout",
     "output_type": "stream",
     "text": [
      "4539_day14\n"
     ]
    },
    {
     "name": "stderr",
     "output_type": "stream",
     "text": [
      "\r",
      " 47%|████████████████████████████████████▉                                         | 9/19 [2:23:18<1:52:41, 676.15s/it]"
     ]
    },
    {
     "name": "stdout",
     "output_type": "stream",
     "text": [
      "4539_day15A\n"
     ]
    },
    {
     "name": "stderr",
     "output_type": "stream",
     "text": [
      "\r",
      " 53%|████████████████████████████████████████▌                                    | 10/19 [2:31:08<1:32:08, 614.25s/it]"
     ]
    },
    {
     "name": "stdout",
     "output_type": "stream",
     "text": [
      "4539_day2\n"
     ]
    },
    {
     "name": "stderr",
     "output_type": "stream",
     "text": [
      "\r",
      " 58%|████████████████████████████████████████████▌                                | 11/19 [2:40:17<1:19:16, 594.52s/it]"
     ]
    },
    {
     "name": "stdout",
     "output_type": "stream",
     "text": [
      "4539_day3\n"
     ]
    },
    {
     "name": "stderr",
     "output_type": "stream",
     "text": [
      "\r",
      " 63%|█████████████████████████████████████████████████▉                             | 12/19 [2:42:31<53:15, 456.51s/it]"
     ]
    },
    {
     "name": "stdout",
     "output_type": "stream",
     "text": [
      "4539_day30A\n"
     ]
    },
    {
     "name": "stderr",
     "output_type": "stream",
     "text": [
      "\r",
      " 68%|██████████████████████████████████████████████████████                         | 13/19 [2:43:19<33:23, 333.84s/it]"
     ]
    },
    {
     "name": "stdout",
     "output_type": "stream",
     "text": [
      "4539_day4\n"
     ]
    },
    {
     "name": "stderr",
     "output_type": "stream",
     "text": [
      "\r",
      " 74%|██████████████████████████████████████████████████████████▏                    | 14/19 [2:48:43<27:35, 331.08s/it]"
     ]
    },
    {
     "name": "stdout",
     "output_type": "stream",
     "text": [
      "4539_day5\n"
     ]
    },
    {
     "name": "stderr",
     "output_type": "stream",
     "text": [
      "\r",
      " 79%|██████████████████████████████████████████████████████████████▎                | 15/19 [2:50:14<17:15, 258.91s/it]"
     ]
    },
    {
     "name": "stdout",
     "output_type": "stream",
     "text": [
      "4539_day6\n"
     ]
    },
    {
     "name": "stderr",
     "output_type": "stream",
     "text": [
      "\r",
      " 84%|██████████████████████████████████████████████████████████████████▌            | 16/19 [2:58:10<16:11, 323.99s/it]"
     ]
    },
    {
     "name": "stdout",
     "output_type": "stream",
     "text": [
      "4539_day7\n"
     ]
    },
    {
     "name": "stderr",
     "output_type": "stream",
     "text": [
      "\r",
      " 89%|██████████████████████████████████████████████████████████████████████▋        | 17/19 [3:01:46<09:43, 291.72s/it]"
     ]
    },
    {
     "name": "stdout",
     "output_type": "stream",
     "text": [
      "4539_day8\n"
     ]
    },
    {
     "name": "stderr",
     "output_type": "stream",
     "text": [
      "\r",
      " 95%|██████████████████████████████████████████████████████████████████████████▊    | 18/19 [3:12:19<06:34, 394.12s/it]"
     ]
    },
    {
     "name": "stdout",
     "output_type": "stream",
     "text": [
      "4539_day9\n"
     ]
    },
    {
     "name": "stderr",
     "output_type": "stream",
     "text": [
      "100%|███████████████████████████████████████████████████████████████████████████████| 19/19 [3:21:43<00:00, 637.04s/it]\n",
      "  0%|                                                                                           | 0/17 [00:00<?, ?it/s]"
     ]
    },
    {
     "name": "stdout",
     "output_type": "stream",
     "text": [
      "cleaning up trace data\n",
      "7584_Baseline0\n"
     ]
    },
    {
     "name": "stderr",
     "output_type": "stream",
     "text": [
      "\r",
      "  6%|████▋                                                                          | 1/17 [18:54<5:02:24, 1134.04s/it]"
     ]
    },
    {
     "name": "stdout",
     "output_type": "stream",
     "text": [
      "7584_BaselineA\n"
     ]
    },
    {
     "name": "stderr",
     "output_type": "stream",
     "text": [
      "\r",
      " 12%|█████████▍                                                                      | 2/17 [21:30<3:30:09, 840.67s/it]"
     ]
    },
    {
     "name": "stdout",
     "output_type": "stream",
     "text": [
      "7584_day0\n"
     ]
    },
    {
     "name": "stderr",
     "output_type": "stream",
     "text": [
      "\r",
      " 18%|██████████████                                                                  | 3/17 [26:03<2:36:25, 670.41s/it]"
     ]
    },
    {
     "name": "stdout",
     "output_type": "stream",
     "text": [
      "7584_day1\n"
     ]
    },
    {
     "name": "stderr",
     "output_type": "stream",
     "text": [
      "\r",
      " 24%|██████████████████▊                                                             | 4/17 [46:02<2:59:38, 829.13s/it]"
     ]
    },
    {
     "name": "stdout",
     "output_type": "stream",
     "text": [
      "7584_day10\n"
     ]
    },
    {
     "name": "stderr",
     "output_type": "stream",
     "text": [
      "\r",
      " 29%|██████████████████████▋                                                      | 5/17 [1:30:20<4:35:31, 1377.62s/it]"
     ]
    },
    {
     "name": "stdout",
     "output_type": "stream",
     "text": [
      "7584_day11\n"
     ]
    },
    {
     "name": "stderr",
     "output_type": "stream",
     "text": [
      "\r",
      " 35%|███████████████████████████▏                                                 | 6/17 [2:18:29<5:35:41, 1831.04s/it]"
     ]
    },
    {
     "name": "stdout",
     "output_type": "stream",
     "text": [
      "7584_day12\n"
     ]
    },
    {
     "name": "stderr",
     "output_type": "stream",
     "text": [
      "\r",
      " 41%|███████████████████████████████▋                                             | 7/17 [2:59:23<5:36:19, 2017.90s/it]"
     ]
    },
    {
     "name": "stdout",
     "output_type": "stream",
     "text": [
      "7584_day15\n"
     ]
    },
    {
     "name": "stderr",
     "output_type": "stream",
     "text": [
      "\r",
      " 47%|████████████████████████████████████▏                                        | 8/17 [3:56:22<6:05:45, 2438.42s/it]"
     ]
    },
    {
     "name": "stdout",
     "output_type": "stream",
     "text": [
      "7584_day2\n"
     ]
    },
    {
     "name": "stderr",
     "output_type": "stream",
     "text": [
      "\r",
      " 53%|████████████████████████████████████████▊                                    | 9/17 [4:23:52<4:53:35, 2201.88s/it]"
     ]
    },
    {
     "name": "stdout",
     "output_type": "stream",
     "text": [
      "7584_day3\n"
     ]
    },
    {
     "name": "stderr",
     "output_type": "stream",
     "text": [
      "\r",
      " 59%|████████████████████████████████████████████▋                               | 10/17 [4:53:16<4:01:33, 2070.46s/it]"
     ]
    },
    {
     "name": "stdout",
     "output_type": "stream",
     "text": [
      "7584_day30A\n"
     ]
    },
    {
     "name": "stderr",
     "output_type": "stream",
     "text": [
      "\r",
      " 65%|█████████████████████████████████████████████████▏                          | 11/17 [5:41:40<3:52:02, 2320.46s/it]"
     ]
    },
    {
     "name": "stdout",
     "output_type": "stream",
     "text": [
      "7584_day4\n"
     ]
    },
    {
     "name": "stderr",
     "output_type": "stream",
     "text": [
      "\r",
      " 71%|█████████████████████████████████████████████████████▋                      | 12/17 [6:13:32<3:03:10, 2198.10s/it]"
     ]
    },
    {
     "name": "stdout",
     "output_type": "stream",
     "text": [
      "7584_day5\n"
     ]
    },
    {
     "name": "stderr",
     "output_type": "stream",
     "text": [
      "\r",
      " 76%|██████████████████████████████████████████████████████████                  | 13/17 [6:51:42<2:28:22, 2225.63s/it]"
     ]
    },
    {
     "name": "stdout",
     "output_type": "stream",
     "text": [
      "7584_day6\n"
     ]
    },
    {
     "name": "stderr",
     "output_type": "stream",
     "text": [
      "\r",
      " 82%|██████████████████████████████████████████████████████████████▌             | 14/17 [7:37:51<1:59:25, 2388.46s/it]"
     ]
    },
    {
     "name": "stdout",
     "output_type": "stream",
     "text": [
      "7584_day7\n"
     ]
    },
    {
     "name": "stderr",
     "output_type": "stream",
     "text": [
      "\r",
      " 88%|███████████████████████████████████████████████████████████████████         | 15/17 [8:17:37<1:19:35, 2387.90s/it]"
     ]
    },
    {
     "name": "stdout",
     "output_type": "stream",
     "text": [
      "7584_day8\n"
     ]
    },
    {
     "name": "stderr",
     "output_type": "stream",
     "text": [
      "\r",
      " 94%|█████████████████████████████████████████████████████████████████████████▍    | 16/17 [8:47:02<36:40, 2200.96s/it]"
     ]
    },
    {
     "name": "stdout",
     "output_type": "stream",
     "text": [
      "7584_day9\n"
     ]
    },
    {
     "name": "stderr",
     "output_type": "stream",
     "text": [
      "100%|██████████████████████████████████████████████████████████████████████████████| 17/17 [9:33:07<00:00, 2022.79s/it]\n",
      "  0%|                                                                                           | 0/19 [00:00<?, ?it/s]"
     ]
    },
    {
     "name": "stdout",
     "output_type": "stream",
     "text": [
      "cleaning up trace data\n",
      "7909_Baseline2A\n"
     ]
    }
   ],
   "source": [
    "f = h5py.File('OnsetsAndPeriods.hdf5','a')\n",
    "for m in miceList:\n",
    "    data = getData(Files[1],['trace'],period ='Pre', mice=m)\n",
    "    grp = f[m]\n",
    "    try:\n",
    "        del grp['caOnset_params']\n",
    "    except:\n",
    "        # do nothing\n",
    "        b=1\n",
    "    sgrp = grp.create_group('caOnset_params')\n",
    "    sgrp.attrs['tapers'] = [2,3]\n",
    "    sgrp.attrs['std_threshold'] = 7\n",
    "    sgrp.attrs['window_size'] = 1\n",
    "    sgrp.attrs['pre_window'] = 20\n",
    "    sgrp.attrs['max_fall'] = 4\n",
    "    for sess in tqdm(data):\n",
    "        print(sess)\n",
    "        # get traces:\n",
    "        dff = data[sess]['trace']['dff']\n",
    "        Fs = data[sess]['trace']['FS'][0]\n",
    "        caOnset,caFall = caSpikeFinder(dff,Fs)\n",
    "        caOnset[np.isnan(caOnset)] = 0\n",
    "        caFall[np.isnan(caFall)] = 0\n",
    "        subgrp = grp[sess]\n",
    "        ssubgrp =subgrp['Pre']\n",
    "        try: \n",
    "            del ssubgrp['caOnset_Hf']\n",
    "            del ssubgrp['eventStart_Hf']\n",
    "        except: \n",
    "            # do nothing...\n",
    "            b=1\n",
    "        ssubgrp['caOnset_Hf'] = caOnset\n",
    "        ssubgrp['caFall_Hf'] = caFall\n",
    "f.close()"
   ]
  },
  {
   "cell_type": "code",
   "execution_count": null,
   "metadata": {
    "scrolled": true
   },
   "outputs": [],
   "source": [
    "# calculate Ca honset for post Amphetamine sessions\n",
    "\n",
    "f = h5py.File('OnsetsAndPeriods.hdf5','a')\n",
    "for m in miceList:\n",
    "    data = getData(Files[1],['trace'],period ='Post', mice=m,drug=b'Amphetamin')\n",
    "    grp = f[m]\n",
    "#    sgrp = grp['caOnset_params']\n",
    "#    sgrp.attrs['tapers'] = [2,3]\n",
    "#    sgrp.attrs['std_threshold'] = 7\n",
    "#    sgrp.attrs['window_size'] = 1\n",
    "#    sgrp.attrs['pre_window'] = 20\n",
    "#    sgrp.attrs['max_fall'] = 4\n",
    "    for sess in tqdm(data):\n",
    "#         if sess == '0761_BaselineA':\n",
    "#             continue\n",
    "        print(sess)\n",
    "        # get traces:\n",
    "        dff = data[sess]['trace']['dff']\n",
    "        Fs = data[sess]['trace']['FS'][0]\n",
    "        caOnset,caFall = caSpikeFinder(dff,Fs)\n",
    "        caOnset[np.isnan(caOnset)] = 0\n",
    "        caFall[np.isnan(caFall)] = 0\n",
    "        subgrp = grp[sess]\n",
    "        ssubgrp =subgrp['Post']\n",
    "        try: \n",
    "            del ssubgrp['caOnset_Hf']\n",
    "           # del ssubgrp['eventStart_Hf']\n",
    "            del ssubgrp['caFall_Hf']\n",
    "        except: \n",
    "            # do nothing...\n",
    "            b=1\n",
    "        ssubgrp['caOnset_Hf'] = caOnset\n",
    "        ssubgrp['caFall_Hf'] = caFall\n",
    "f.close()"
   ]
  },
  {
   "cell_type": "code",
   "execution_count": null,
   "metadata": {
    "scrolled": true
   },
   "outputs": [],
   "source": [
    "# calculate Ca honset for post Saline sessions\n",
    "\n",
    "f = h5py.File('OnsetsAndPeriods.hdf5','a')\n",
    "for m in miceList:\n",
    "    data = getData(Files[1],['trace'],period ='Post', mice=m,drug=b'Saline')\n",
    "    grp = f[m]\n",
    "#    sgrp = grp['caOnset_params']\n",
    "#    sgrp.attrs['tapers'] = [2,3]\n",
    "#    sgrp.attrs['std_threshold'] = 7\n",
    "#    sgrp.attrs['window_size'] = 1\n",
    "#    sgrp.attrs['pre_window'] = 20\n",
    "#    sgrp.attrs['max_fall'] = 4\n",
    "    for sess in tqdm(data):\n",
    "        print(sess)\n",
    "        # get traces:\n",
    "        dff = data[sess]['trace']['dff']\n",
    "        Fs = data[sess]['trace']['FS'][0]\n",
    "        caOnset,caFall = caSpikeFinder(dff,Fs)\n",
    "        caOnset[np.isnan(caOnset)] = 0\n",
    "        caFall[np.isnan(caFall)] = 0\n",
    "        subgrp = grp[sess]\n",
    "        ssubgrp =subgrp['Post']\n",
    "        try: \n",
    "            del ssubgrp['caOnset_Hf']\n",
    "           # del ssubgrp['eventStart_Hf']\n",
    "            del ssubgrp['caFall_Hf']\n",
    "        except: \n",
    "            # do nothing...\n",
    "            b=1\n",
    "        ssubgrp['caOnset_Hf'] = caOnset\n",
    "        ssubgrp['caFall_Hf'] = caFall\n",
    "f.close()"
   ]
  },
  {
   "cell_type": "code",
   "execution_count": null,
   "metadata": {
    "scrolled": true
   },
   "outputs": [],
   "source": [
    "# calculate Ca honset for post L-Dopa sessions\n",
    "\n",
    "f = h5py.File('OnsetsAndPeriods.hdf5','a')\n",
    "for m in miceList:\n",
    "    data = getData(Files[1],['trace'],period ='Post', mice=m,drug=b'L-Dopa')\n",
    "    grp = f[m]\n",
    "#    sgrp = grp['caOnset_params']\n",
    "#    sgrp.attrs['tapers'] = [2,3]\n",
    "#    sgrp.attrs['std_threshold'] = 7\n",
    "#    sgrp.attrs['window_size'] = 1\n",
    "#    sgrp.attrs['pre_window'] = 20\n",
    "#    sgrp.attrs['max_fall'] = 4\n",
    "    for sess in tqdm(data):\n",
    "        if sess == '0761_BaselineA':\n",
    "            continue\n",
    "        print(sess)\n",
    "        # get traces:\n",
    "        dff = data[sess]['trace']['dff']\n",
    "        Fs = data[sess]['trace']['FS'][0]\n",
    "        caOnset,caFall = caSpikeFinder(dff,Fs)\n",
    "        caOnset[np.isnan(caOnset)] = 0\n",
    "        caFall[np.isnan(caFall)] = 0\n",
    "        subgrp = grp[sess]\n",
    "        ssubgrp =subgrp['Post']\n",
    "        try: \n",
    "            del ssubgrp['caOnset_Hf']\n",
    "           # del ssubgrp['eventStart_Hf']\n",
    "            del ssubgrp['caFall_Hf']\n",
    "        except: \n",
    "            # do nothing...\n",
    "            b=1\n",
    "        ssubgrp['caOnset_Hf'] = caOnset\n",
    "        ssubgrp['caFall_Hf'] = caFall\n",
    "f.close()"
   ]
  },
  {
   "cell_type": "markdown",
   "metadata": {},
   "source": [
    "membership analysis fields:"
   ]
  },
  {
   "cell_type": "code",
   "execution_count": null,
   "metadata": {},
   "outputs": [],
   "source": [
    "def circShiftRoll(shifts,data):\n",
    "    return  np.array([np.roll(row, x) for row,x in zip(data, shifts)])\n",
    "\n",
    "def perNeuronPerEvent(aDff,dff,onset,niter,PostS=40,preS=40):\n",
    "    if np.min(dff.shape) ==1:\n",
    "        aDff = np.reshape(aDff,(aDff.shape[0],1,aDff.shape[1]))\n",
    "    if np.sum(onset) ==1:\n",
    "        aDff = np.reshape(aDff,(aDff.shape[0],aDff.shape[1],1))\n",
    "        \n",
    "    nT,nN,nE = aDff.shape\n",
    "    # if no event in session -> move on...\n",
    "    if nE == 0:\n",
    "        return None,None,None\n",
    "    if onset.ndim ==1:\n",
    "        onset = np.reshape(onset,(1,onset.shape[0]))\n",
    "    \n",
    "        \n",
    "    Th = np.empty((nN,niter*nE))\n",
    "#    print(nE, Th.shape,dff.shape,np.sum(onset))\n",
    "#    print(nE, nN,nT)\n",
    "    # calculate thersholds:\n",
    "    for itr in range(0,niter):\n",
    "        shifts = np.random.randint(size=1,low=0,high=onset.shape[1])\n",
    "        Ons = circShiftRoll(shifts,onset)\n",
    "        sdff = alignToOnset(dff.T, Ons, winPost=PostS,winPre=preS)\n",
    "        while sdff.size ==0:\n",
    "            shifts = np.random.randint(size=1,low=0,high=onset.shape[1])\n",
    "            Ons = circShiftRoll(shifts,onset)\n",
    "            sdff = alignToOnset(dff.T, Ons, winPost=PostS,winPre=preS)            \n",
    "        if nN ==1:\n",
    "            sdff = np.reshape(sdff,(sdff.shape[0],1,sdff.shape[1]))\n",
    "        if nE ==1: \n",
    "            sdff = np.reshape(sdff,(sdff.shape[0],sdff.shape[1],1))\n",
    "\n",
    "            \n",
    "        # when 1 or movement events -> could end up with no event 2 secounds in -> empty sdff\n",
    "        while sdff.ndim <3:\n",
    "            shifts = np.random.randint(size=1,low=0,high=onset.shape[1])\n",
    "            Ons = circShiftRoll(shifts,onset)\n",
    "            sdff = alignToOnset(dff.T, Ons, winPost=PostS,winPre=preS)\n",
    "            if sdff.size ==0:\n",
    "                sdff = 0    \n",
    "                continue\n",
    "            if nN ==1:\n",
    "                sdff = np.reshape(sdff,(sdff.shape[0],1,sdff.shape[1]))\n",
    "            if nE ==1: \n",
    "                sdff = np.reshape(sdff,(sdff.shape[0],sdff.shape[1],1))\n",
    "\n",
    "\n",
    "\n",
    "        # if sdff contain negative value, shift entire session up\n",
    "        mins = np.min(sdff,axis=0)\n",
    "        sdff[:,mins<0] =sdff[:,mins<0]+np.abs(mins[mins<0])\n",
    "        # calculate the means\n",
    "#        print(sdff.shape)\n",
    "        muPre = np.mean(sdff[:int(nT/2),:,:],axis=0)\n",
    "        muPost = np.mean(sdff[int(nT/2):,:,:],axis=0)\n",
    "        ra = muPost/muPre\n",
    "        while ra.shape[1]<nE: # incase lose event cause too close to begining of time axis\n",
    "             ra = np.concatenate((ra,np.mean(ra,axis=1,keepdims=True)),axis=1)    \n",
    "        if ra.shape[1]>nE:\n",
    "            ra = ra[:,:nE]\n",
    "        Th[:,itr*nE:(itr+1)*nE] = ra\n",
    "\n",
    "    Th = np.percentile(Th,95,axis=1)\n",
    "\n",
    "    Th = (matlib.repmat(Th,nE,1).T)\n",
    "\n",
    "    mins = np.min(aDff,axis=0)\n",
    "    aDff[:,mins<0] =aDff[:,mins<0]+np.abs(mins[mins<0])\n",
    "\n",
    "    prePoints = aDff[:int(nT/2),:,:]\n",
    "    postPoints = aDff[int(nT/2):,:,:]\n",
    "\n",
    "    muPre = np.mean(prePoints,axis=0)\n",
    "    muPost = np.mean(postPoints,axis=0)\n",
    "    results = muPost/muPre    \n",
    " #   print(nE,nN,Th.shape,results.shape)\n",
    "    return (results>Th),results,Th[:,0]"
   ]
  },
  {
   "cell_type": "code",
   "execution_count": null,
   "metadata": {
    "scrolled": true
   },
   "outputs": [],
   "source": [
    "from numpy import matlib\n",
    "niter = 1000\n",
    "PostS=40\n",
    "preS = 40\n",
    "f = h5py.File('membership.hdf5','a')\n",
    "miceList = getMiceList(Files[0])\n",
    "faild = []\n",
    "for m in miceList:\n",
    "    data = getData(Files[1],['trace'],period ='Pre', mice=m)\n",
    "    try:\n",
    "        grp = f.create_group(m)\n",
    "    except: \n",
    "        grp = f[m]\n",
    "    \n",
    "    for sess in tqdm(data.keys()):\n",
    "        try: \n",
    "            try: \n",
    "                sgrp = grp[sess]\n",
    "            except: \n",
    "                sgrp = grp.create_group(sess)\n",
    "            try: \n",
    "                subgroup = sgrp.create_group('mvmtOnset')\n",
    "            except:\n",
    "                subgroup = sgrp['mvmtOnset']\n",
    "\n",
    "            dff = data[sess]['trace']['dff']\n",
    "            mvmtOnset = getOnsetOrPeriod(m,sess,'Pre','mvmtOnset')\n",
    "        #    print(mvmtOnset.shape)\n",
    "            aDff = alignToOnset(dff.T, mvmtOnset, winPost=PostS,winPre=preS)\n",
    "            onset = np.reshape(mvmtOnset,(1,np.max(mvmtOnset.shape)))\n",
    "        #    print(aDff.shape,onset.shape,mvmtOnset.shape)\n",
    "\n",
    "            result,rawResults,Th = perNeuronPerEvent(aDff,dff,onset,niter)\n",
    "            subgroup['result'] = result\n",
    "            subgroup['rawResults'] = rawResults\n",
    "            subgroup['Th'] = Th\n",
    "        except: \n",
    "            faild.append(sess)\n",
    "#    print(result.shape)\n",
    "f.close()"
   ]
  },
  {
   "cell_type": "code",
   "execution_count": 22,
   "metadata": {},
   "outputs": [],
   "source": [
    "# def circShiftRoll(shifts,data):\n",
    "#     return  np.array([np.roll(row, x) for row,x in zip(data, shifts)])\n",
    "\n",
    "# def membershipMike(dff,onset,preS = 40,PostS=40):\n",
    "#     if np.sum(onset)==0:\n",
    "#         return None\n",
    "#     aDff = alignToOnset(dff.T, mvmtOnset, winPost=PostS,winPre=preS)\n",
    "#     if np.min(dff.shape) ==1:\n",
    "#         aDff = np.reshape(aDff,(aDff.shape[0],1,aDff.shape[1]))\n",
    "#     if np.sum(onset) ==1:\n",
    "#         aDff = np.reshape(aDff,(aDff.shape[0],aDff.shape[1],1))\n",
    "    \n",
    "#     nT,nN,nE = aDff.shape\n",
    "#     mins = np.min(aDff,axis=0)\n",
    "#     aDff[:,mins<0] =aDff[:,mins<0]+np.abs(mins[mins<0])\n",
    "\n",
    "#     prePoints = np.mean(aDff[:int(nT/2),:,:],axis=2)\n",
    "#     postPoints = np.mean(aDff[int(nT/2):,:,:],axis=2)\n",
    "# #    print(aDff.shape,prePoints.shape,postPoints.shape)\n",
    "\n",
    "#     care = np.zeros((nN,1))\n",
    "#     for n in range(0,nN):\n",
    "#         _, pVal = sci.stats.mannwhitneyu(prePoints[:,n], postPoints[:,n])\n",
    "#         if pVal<.05:\n",
    "#             care[n]=True\n",
    "#     return care"
   ]
  },
  {
   "cell_type": "code",
   "execution_count": 24,
   "metadata": {
    "scrolled": true
   },
   "outputs": [
    {
     "name": "stderr",
     "output_type": "stream",
     "text": [
      "100%|██████████| 14/14 [00:00<00:00, 183.06it/s]"
     ]
    },
    {
     "name": "stdout",
     "output_type": "stream",
     "text": [
      "cleaning up trace data\n"
     ]
    },
    {
     "name": "stderr",
     "output_type": "stream",
     "text": [
      "\n",
      " 14%|█▍        | 2/14 [00:00<00:00, 16.06it/s]"
     ]
    },
    {
     "name": "stdout",
     "output_type": "stream",
     "text": [
      "cleaning up trace data\n"
     ]
    },
    {
     "name": "stderr",
     "output_type": "stream",
     "text": [
      "100%|██████████| 14/14 [00:00<00:00, 25.20it/s]\n",
      "100%|██████████| 14/14 [00:00<00:00, 103.47it/s]\n",
      "  0%|          | 0/3 [00:00<?, ?it/s]"
     ]
    },
    {
     "name": "stdout",
     "output_type": "stream",
     "text": [
      "cleaning up trace data\n",
      "cleaning up trace data\n"
     ]
    },
    {
     "name": "stderr",
     "output_type": "stream",
     "text": [
      "100%|██████████| 3/3 [00:00<00:00, 24.20it/s]\n",
      " 29%|██▊       | 4/14 [00:00<00:00, 32.57it/s]"
     ]
    },
    {
     "name": "stdout",
     "output_type": "stream",
     "text": [
      "cleaning up trace data\n"
     ]
    },
    {
     "name": "stderr",
     "output_type": "stream",
     "text": [
      "100%|██████████| 14/14 [00:00<00:00, 34.22it/s]\n",
      "100%|██████████| 3/3 [00:00<00:00, 17.50it/s]\n"
     ]
    },
    {
     "name": "stdout",
     "output_type": "stream",
     "text": [
      "cleaning up trace data\n"
     ]
    },
    {
     "name": "stderr",
     "output_type": "stream",
     "text": [
      " 14%|█▍        | 2/14 [00:00<00:01, 11.98it/s]"
     ]
    },
    {
     "name": "stdout",
     "output_type": "stream",
     "text": [
      "cleaning up trace data\n"
     ]
    },
    {
     "name": "stderr",
     "output_type": "stream",
     "text": [
      "100%|██████████| 14/14 [00:00<00:00, 24.93it/s]\n",
      " 29%|██▊       | 4/14 [00:00<00:00, 26.42it/s]"
     ]
    },
    {
     "name": "stdout",
     "output_type": "stream",
     "text": [
      "cleaning up trace data\n"
     ]
    },
    {
     "name": "stderr",
     "output_type": "stream",
     "text": [
      "100%|██████████| 14/14 [00:00<00:00, 24.32it/s]\n",
      " 21%|██▏       | 3/14 [00:00<00:00, 29.00it/s]"
     ]
    },
    {
     "name": "stdout",
     "output_type": "stream",
     "text": [
      "cleaning up trace data\n"
     ]
    },
    {
     "name": "stderr",
     "output_type": "stream",
     "text": [
      "100%|██████████| 14/14 [00:00<00:00, 41.85it/s]\n",
      " 21%|██▏       | 3/14 [00:00<00:00, 25.24it/s]"
     ]
    },
    {
     "name": "stdout",
     "output_type": "stream",
     "text": [
      "cleaning up trace data\n"
     ]
    },
    {
     "name": "stderr",
     "output_type": "stream",
     "text": [
      "100%|██████████| 14/14 [00:00<00:00, 22.88it/s]\n",
      " 11%|█         | 2/19 [00:00<00:01, 14.59it/s]"
     ]
    },
    {
     "name": "stdout",
     "output_type": "stream",
     "text": [
      "cleaning up trace data\n"
     ]
    },
    {
     "name": "stderr",
     "output_type": "stream",
     "text": [
      "100%|██████████| 19/19 [00:00<00:00, 37.13it/s]\n",
      " 24%|██▎       | 4/17 [00:00<00:00, 36.78it/s]"
     ]
    },
    {
     "name": "stdout",
     "output_type": "stream",
     "text": [
      "cleaning up trace data\n"
     ]
    },
    {
     "name": "stderr",
     "output_type": "stream",
     "text": [
      "100%|██████████| 17/17 [00:01<00:00, 14.20it/s]\n",
      " 11%|█         | 2/19 [00:00<00:01, 14.92it/s]"
     ]
    },
    {
     "name": "stdout",
     "output_type": "stream",
     "text": [
      "cleaning up trace data\n"
     ]
    },
    {
     "name": "stderr",
     "output_type": "stream",
     "text": [
      "100%|██████████| 19/19 [00:00<00:00, 28.64it/s]\n",
      " 38%|███▊      | 5/13 [00:00<00:00, 48.03it/s]"
     ]
    },
    {
     "name": "stdout",
     "output_type": "stream",
     "text": [
      "cleaning up trace data\n"
     ]
    },
    {
     "name": "stderr",
     "output_type": "stream",
     "text": [
      "100%|██████████| 13/13 [00:00<00:00, 41.84it/s]\n",
      " 21%|██▏       | 3/14 [00:00<00:00, 29.51it/s]"
     ]
    },
    {
     "name": "stdout",
     "output_type": "stream",
     "text": [
      "cleaning up trace data\n"
     ]
    },
    {
     "name": "stderr",
     "output_type": "stream",
     "text": [
      "100%|██████████| 14/14 [00:00<00:00, 44.35it/s]\n",
      " 36%|███▌      | 5/14 [00:00<00:00, 43.78it/s]"
     ]
    },
    {
     "name": "stdout",
     "output_type": "stream",
     "text": [
      "cleaning up trace data\n"
     ]
    },
    {
     "name": "stderr",
     "output_type": "stream",
     "text": [
      "100%|██████████| 14/14 [00:00<00:00, 46.08it/s]\n"
     ]
    }
   ],
   "source": [
    "# from numpy import matlib\n",
    "# niter = 1000\n",
    "# PostS=40\n",
    "# preS = 40\n",
    "# f = h5py.File('membershipMike.hdf5','a')\n",
    "# miceList = getMiceList(Files[0])\n",
    "# faild = []\n",
    "# for m in miceList:\n",
    "#     data = getData(Files[1],['trace'],period ='Pre', mice=m)\n",
    "#     try:\n",
    "#         grp = f.create_group(m)\n",
    "#     except: \n",
    "#         grp = f[m]\n",
    "    \n",
    "#     for sess in tqdm(data.keys()):\n",
    "#         try: \n",
    "#             try: \n",
    "#                 sgrp = grp[sess]\n",
    "#             except: \n",
    "#                 sgrp = grp.create_group(sess)\n",
    "#             try: \n",
    "#                 subgroup = sgrp.create_group('mvmtOnset')\n",
    "#             except:\n",
    "#                 subgroup = sgrp['mvmtOnset']\n",
    "\n",
    "#             dff = data[sess]['trace']['dff']\n",
    "#             mvmtOnset = getOnsetOrPeriod(m,sess,'Pre','mvmtOnset')\n",
    "#         #    print(mvmtOnset.shape)\n",
    "#             onset = np.reshape(mvmtOnset,(1,np.max(mvmtOnset.shape)))\n",
    "#         #    print(aDff.shape,onset.shape,mvmtOnset.shape)\n",
    "\n",
    "#             care = membershipMike(dff,onset,preS,PostS)\n",
    "#             subgroup['result'] = care\n",
    "#         except: \n",
    "#             faild.append(sess)\n",
    "# #    print(result.shape)\n",
    "# f.close()"
   ]
  },
  {
   "cell_type": "code",
   "execution_count": 32,
   "metadata": {},
   "outputs": [
    {
     "name": "stderr",
     "output_type": "stream",
     "text": [
      "\n",
      "\n",
      "\n",
      "  0%|          | 0/7 [00:00<?, ?it/s]\u001b[A\u001b[A\u001b[A"
     ]
    },
    {
     "name": "stdout",
     "output_type": "stream",
     "text": [
      "cleaning up trace data\n",
      "I deleted session: 0761_day1\n",
      "I deleted session: 0761_day10\n",
      "I deleted session: 0761_day12\n",
      "I deleted session: 0761_day2\n",
      "I deleted session: 0761_day4\n",
      "I deleted session: 0761_day6\n",
      "I deleted session: 0761_day8\n",
      "cleaning up lfp data\n"
     ]
    },
    {
     "name": "stderr",
     "output_type": "stream",
     "text": [
      "/home/dana_z/anaconda3/lib/python3.6/site-packages/ipykernel_launcher.py:48: H5pyDeprecationWarning: dataset.value has been deprecated. Use dataset[()] instead.\n",
      "\n",
      "\n",
      "\n",
      " 14%|█▍        | 1/7 [00:10<01:04, 10.79s/it]\u001b[A\u001b[A\u001b[A\n",
      "\n",
      "\n",
      " 29%|██▊       | 2/7 [00:30<01:07, 13.51s/it]\u001b[A\u001b[A\u001b[A/home/dana_z/anaconda3/lib/python3.6/site-packages/ipykernel_launcher.py:117: RuntimeWarning: Mean of empty slice\n",
      "\n",
      "\n",
      "\n",
      " 43%|████▎     | 3/7 [00:52<01:04, 16.14s/it]\u001b[A\u001b[A\u001b[A\n",
      "\n",
      "\n",
      " 57%|█████▋    | 4/7 [01:12<00:51, 17.04s/it]\u001b[A\u001b[A\u001b[A\n",
      "\n",
      "\n",
      " 71%|███████▏  | 5/7 [01:37<00:39, 19.69s/it]\u001b[A\u001b[A\u001b[A\n",
      "\n",
      "\n",
      " 86%|████████▌ | 6/7 [01:58<00:19, 19.88s/it]\u001b[A\u001b[A\u001b[A\n",
      "\n",
      "\n",
      "100%|██████████| 7/7 [02:20<00:00, 20.08s/it]\u001b[A\u001b[A\u001b[A\n",
      "\n",
      "\n",
      "\n",
      "  0%|          | 0/7 [00:00<?, ?it/s]\u001b[A\u001b[A\u001b[A"
     ]
    },
    {
     "name": "stdout",
     "output_type": "stream",
     "text": [
      "cleaning up trace data\n",
      "I deleted session: 1208_day10\n",
      "I deleted session: 1208_day12\n",
      "I deleted session: 1208_day14\n",
      "I deleted session: 1208_day2\n",
      "I deleted session: 1208_day4\n",
      "I deleted session: 1208_day6\n",
      "I deleted session: 1208_day8\n",
      "cleaning up lfp data\n"
     ]
    },
    {
     "name": "stderr",
     "output_type": "stream",
     "text": [
      "\n",
      "\n",
      "\n",
      " 14%|█▍        | 1/7 [03:17<19:44, 197.46s/it]\u001b[A\u001b[A\u001b[A\n",
      "\n",
      "\n",
      " 29%|██▊       | 2/7 [10:43<22:39, 271.93s/it]\u001b[A\u001b[A\u001b[A\n",
      "\n",
      "\n",
      " 43%|████▎     | 3/7 [13:11<15:39, 234.95s/it]\u001b[A\u001b[A\u001b[A\n",
      "\n",
      "\n",
      " 57%|█████▋    | 4/7 [13:58<08:55, 178.60s/it]\u001b[A\u001b[A\u001b[A"
     ]
    },
    {
     "name": "stdout",
     "output_type": "stream",
     "text": [
      "found  3.0  outlier points\n"
     ]
    },
    {
     "name": "stderr",
     "output_type": "stream",
     "text": [
      "\n",
      "\n",
      "\n",
      " 71%|███████▏  | 5/7 [16:00<05:22, 161.43s/it]\u001b[A\u001b[A\u001b[A\n",
      "\n",
      "\n",
      " 86%|████████▌ | 6/7 [17:00<02:10, 130.96s/it]\u001b[A\u001b[A\u001b[A"
     ]
    },
    {
     "name": "stdout",
     "output_type": "stream",
     "text": [
      "found  2.0  outlier points\n"
     ]
    },
    {
     "name": "stderr",
     "output_type": "stream",
     "text": [
      "\n",
      "\n",
      "\n",
      "100%|██████████| 7/7 [18:24<00:00, 157.85s/it]\u001b[A\u001b[A\u001b[A\n",
      "\n",
      "\n",
      "\n",
      "  0%|          | 0/7 [00:00<?, ?it/s]\u001b[A\u001b[A\u001b[A"
     ]
    },
    {
     "name": "stdout",
     "output_type": "stream",
     "text": [
      "cleaning up trace data\n",
      "I deleted session: 1222_day11\n",
      "I deleted session: 1222_day13\n",
      "I deleted session: 1222_day2\n",
      "I deleted session: 1222_day3\n",
      "I deleted session: 1222_day5\n",
      "I deleted session: 1222_day7\n",
      "I deleted session: 1222_day9\n",
      "cleaning up lfp data\n"
     ]
    },
    {
     "name": "stderr",
     "output_type": "stream",
     "text": [
      "\n",
      "\n",
      "\n",
      " 14%|█▍        | 1/7 [00:33<03:20, 33.46s/it]\u001b[A\u001b[A\u001b[A\n",
      "\n",
      "\n",
      " 29%|██▊       | 2/7 [02:17<04:32, 54.56s/it]\u001b[A\u001b[A\u001b[A\n",
      "\n",
      "\n",
      " 43%|████▎     | 3/7 [04:19<04:59, 74.76s/it]\u001b[A\u001b[A\u001b[A\n",
      "\n",
      "\n",
      " 57%|█████▋    | 4/7 [04:48<03:02, 60.99s/it]\u001b[A\u001b[A\u001b[A\n",
      "\n",
      "\n",
      " 71%|███████▏  | 5/7 [05:21<01:45, 52.73s/it]\u001b[A\u001b[A\u001b[A\n",
      "\n",
      "\n",
      " 86%|████████▌ | 6/7 [05:41<00:42, 42.97s/it]\u001b[A\u001b[A\u001b[A\n",
      "\n",
      "\n",
      "100%|██████████| 7/7 [06:12<00:00, 53.21s/it]\u001b[A\u001b[A\u001b[A\n",
      "\n",
      "\n",
      "\n",
      "  0%|          | 0/3 [00:00<?, ?it/s]\u001b[A\u001b[A\u001b[A"
     ]
    },
    {
     "name": "stdout",
     "output_type": "stream",
     "text": [
      "cleaning up trace data\n",
      "cleaning up lfp data\n"
     ]
    },
    {
     "name": "stderr",
     "output_type": "stream",
     "text": [
      "\n",
      "\n",
      "\n",
      " 33%|███▎      | 1/3 [02:21<04:42, 141.18s/it]\u001b[A\u001b[A\u001b[A/home/dana_z/anaconda3/lib/python3.6/site-packages/ipykernel_launcher.py:86: RuntimeWarning: Mean of empty slice\n",
      "\n",
      "\n",
      "\n",
      " 67%|██████▋   | 2/3 [05:05<02:28, 148.12s/it]\u001b[A\u001b[A\u001b[A\n",
      "\n",
      "\n",
      "100%|██████████| 3/3 [07:46<00:00, 155.49s/it]\u001b[A\u001b[A\u001b[A\n",
      "\n",
      "\n",
      "\n",
      "  0%|          | 0/7 [00:00<?, ?it/s]\u001b[A\u001b[A\u001b[A"
     ]
    },
    {
     "name": "stdout",
     "output_type": "stream",
     "text": [
      "cleaning up trace data\n",
      "I deleted session: 1236_day1\n",
      "I deleted session: 1236_day11\n",
      "I deleted session: 1236_day13\n",
      "I deleted session: 1236_day3\n",
      "I deleted session: 1236_day5\n",
      "I deleted session: 1236_day7\n",
      "I deleted session: 1236_day9\n",
      "cleaning up lfp data\n",
      "found  34.0  outlier points\n"
     ]
    },
    {
     "name": "stderr",
     "output_type": "stream",
     "text": [
      "\n",
      "\n",
      "\n",
      " 14%|█▍        | 1/7 [01:08<06:51, 68.58s/it]\u001b[A\u001b[A\u001b[A\n",
      "\n",
      "\n",
      " 29%|██▊       | 2/7 [02:08<05:30, 66.05s/it]\u001b[A\u001b[A\u001b[A\n",
      "\n",
      "\n",
      " 43%|████▎     | 3/7 [03:06<04:14, 63.62s/it]\u001b[A\u001b[A\u001b[A\n",
      "\n",
      "\n",
      " 57%|█████▋    | 4/7 [03:44<02:47, 55.80s/it]\u001b[A\u001b[A\u001b[A\n",
      "\n",
      "\n",
      " 71%|███████▏  | 5/7 [04:38<01:50, 55.48s/it]\u001b[A\u001b[A\u001b[A"
     ]
    },
    {
     "name": "stdout",
     "output_type": "stream",
     "text": [
      "found  927582.0  outlier points\n"
     ]
    },
    {
     "name": "stderr",
     "output_type": "stream",
     "text": [
      "\n",
      "\n",
      "\n",
      " 86%|████████▌ | 6/7 [06:02<01:03, 63.99s/it]\u001b[A\u001b[A\u001b[A"
     ]
    },
    {
     "name": "stdout",
     "output_type": "stream",
     "text": [
      "found  447664.0  outlier points\n"
     ]
    },
    {
     "name": "stderr",
     "output_type": "stream",
     "text": [
      "\n",
      "\n",
      "\n",
      "100%|██████████| 7/7 [07:50<00:00, 67.19s/it]\u001b[A\u001b[A\u001b[A\n",
      "\n",
      "\n",
      "\n",
      "  0%|          | 0/3 [00:00<?, ?it/s]\u001b[A\u001b[A\u001b[A"
     ]
    },
    {
     "name": "stdout",
     "output_type": "stream",
     "text": [
      "cleaning up trace data\n",
      "cleaning up lfp data\n"
     ]
    },
    {
     "name": "stderr",
     "output_type": "stream",
     "text": [
      "\n",
      "\n",
      "\n",
      " 33%|███▎      | 1/3 [00:55<01:50, 55.23s/it]\u001b[A\u001b[A\u001b[A\n",
      "\n",
      "\n",
      " 67%|██████▋   | 2/3 [04:42<01:46, 106.87s/it]\u001b[A\u001b[A\u001b[A\n",
      "\n",
      "\n",
      "100%|██████████| 3/3 [08:06<00:00, 162.13s/it]\u001b[A\u001b[A\u001b[A\n",
      "\n",
      "\n",
      "\n",
      "  0%|          | 0/7 [00:00<?, ?it/s]\u001b[A\u001b[A\u001b[A"
     ]
    },
    {
     "name": "stdout",
     "output_type": "stream",
     "text": [
      "cleaning up trace data\n",
      "I deleted session: 1793_day10\n",
      "I deleted session: 1793_day12\n",
      "I deleted session: 1793_day14\n",
      "I deleted session: 1793_day2\n",
      "I deleted session: 1793_day4\n",
      "I deleted session: 1793_day6\n",
      "I deleted session: 1793_day8\n",
      "cleaning up lfp data\n"
     ]
    },
    {
     "name": "stderr",
     "output_type": "stream",
     "text": [
      "\n",
      "\n",
      "\n",
      " 14%|█▍        | 1/7 [01:01<06:11, 61.87s/it]\u001b[A\u001b[A\u001b[A\n",
      "\n",
      "\n",
      " 29%|██▊       | 2/7 [19:07<30:45, 369.11s/it]\u001b[A\u001b[A\u001b[A\n",
      "\n",
      "\n",
      " 43%|████▎     | 3/7 [28:14<28:09, 422.46s/it]\u001b[A\u001b[A\u001b[A\n",
      "\n",
      "\n",
      " 57%|█████▋    | 4/7 [29:02<15:29, 309.93s/it]\u001b[A\u001b[A\u001b[A\n",
      "\n",
      "\n",
      " 71%|███████▏  | 5/7 [31:21<08:37, 258.69s/it]\u001b[A\u001b[A\u001b[A\n",
      "\n",
      "\n",
      " 86%|████████▌ | 6/7 [32:57<03:29, 209.83s/it]\u001b[A\u001b[A\u001b[A\n",
      "\n",
      "\n",
      "100%|██████████| 7/7 [33:57<00:00, 291.06s/it]\u001b[A\u001b[A\u001b[A\n",
      "\n",
      "\n",
      "\n",
      "  0%|          | 0/7 [00:00<?, ?it/s]\u001b[A\u001b[A\u001b[A"
     ]
    },
    {
     "name": "stdout",
     "output_type": "stream",
     "text": [
      "cleaning up trace data\n",
      "I deleted session: 2976_day10\n",
      "I deleted session: 2976_day12\n",
      "I deleted session: 2976_day14\n",
      "I deleted session: 2976_day2\n",
      "I deleted session: 2976_day4\n",
      "I deleted session: 2976_day6\n",
      "I deleted session: 2976_day8\n",
      "cleaning up lfp data\n"
     ]
    },
    {
     "name": "stderr",
     "output_type": "stream",
     "text": [
      "\n",
      "\n",
      "\n",
      " 14%|█▍        | 1/7 [00:27<02:45, 27.62s/it]\u001b[A\u001b[A\u001b[A\n",
      "\n",
      "\n",
      " 29%|██▊       | 2/7 [01:04<02:32, 30.50s/it]\u001b[A\u001b[A\u001b[A\n",
      "\n",
      "\n",
      " 43%|████▎     | 3/7 [01:53<02:23, 35.91s/it]\u001b[A\u001b[A\u001b[A\n",
      "\n",
      "\n",
      " 57%|█████▋    | 4/7 [03:04<02:19, 46.38s/it]\u001b[A\u001b[A\u001b[A\n",
      "\n",
      "\n",
      " 71%|███████▏  | 5/7 [03:43<01:28, 44.31s/it]\u001b[A\u001b[A\u001b[A\n",
      "\n",
      "\n",
      " 86%|████████▌ | 6/7 [04:25<00:43, 43.47s/it]\u001b[A\u001b[A\u001b[A\n",
      "\n",
      "\n",
      "100%|██████████| 7/7 [05:00<00:00, 42.86s/it]\u001b[A\u001b[A\u001b[A\n",
      "\n",
      "\n",
      "\n",
      "  0%|          | 0/7 [00:00<?, ?it/s]\u001b[A\u001b[A\u001b[A"
     ]
    },
    {
     "name": "stdout",
     "output_type": "stream",
     "text": [
      "cleaning up trace data\n",
      "I deleted session: 2980_day10\n",
      "I deleted session: 2980_day12\n",
      "I deleted session: 2980_day14\n",
      "I deleted session: 2980_day2\n",
      "I deleted session: 2980_day4\n",
      "I deleted session: 2980_day6\n",
      "I deleted session: 2980_day8\n",
      "cleaning up lfp data\n"
     ]
    },
    {
     "name": "stderr",
     "output_type": "stream",
     "text": [
      "\n",
      "\n",
      "\n",
      " 14%|█▍        | 1/7 [00:35<03:33, 35.55s/it]\u001b[A\u001b[A\u001b[A\n",
      "\n",
      "\n",
      " 29%|██▊       | 2/7 [01:39<03:40, 44.08s/it]\u001b[A\u001b[A\u001b[A\n",
      "\n",
      "\n",
      " 43%|████▎     | 3/7 [03:40<04:28, 67.04s/it]\u001b[A\u001b[A\u001b[A"
     ]
    },
    {
     "name": "stdout",
     "output_type": "stream",
     "text": [
      "found  144.0  outlier points\n"
     ]
    },
    {
     "name": "stderr",
     "output_type": "stream",
     "text": [
      "\n",
      "\n",
      "\n",
      " 57%|█████▋    | 4/7 [04:31<03:06, 62.21s/it]\u001b[A\u001b[A\u001b[A\n",
      "\n",
      "\n",
      " 71%|███████▏  | 5/7 [05:42<02:09, 64.98s/it]\u001b[A\u001b[A\u001b[A\n",
      "\n",
      "\n",
      " 86%|████████▌ | 6/7 [06:08<00:53, 53.35s/it]\u001b[A\u001b[A\u001b[A\n",
      "\n",
      "\n",
      "100%|██████████| 7/7 [07:09<00:00, 61.36s/it]\u001b[A\u001b[A\u001b[A\n",
      "\n",
      "\n",
      "\n",
      "  0%|          | 0/7 [00:00<?, ?it/s]\u001b[A\u001b[A\u001b[A"
     ]
    },
    {
     "name": "stdout",
     "output_type": "stream",
     "text": [
      "cleaning up trace data\n",
      "I deleted session: 2981_day10\n",
      "I deleted session: 2981_day12\n",
      "I deleted session: 2981_day14\n",
      "I deleted session: 2981_day2\n",
      "I deleted session: 2981_day4\n",
      "I deleted session: 2981_day6\n",
      "I deleted session: 2981_day8\n",
      "cleaning up lfp data\n"
     ]
    },
    {
     "name": "stderr",
     "output_type": "stream",
     "text": [
      "\n",
      "\n",
      "\n",
      " 14%|█▍        | 1/7 [00:44<04:26, 44.42s/it]\u001b[A\u001b[A\u001b[A\n",
      "\n",
      "\n",
      " 29%|██▊       | 2/7 [01:44<04:05, 49.01s/it]\u001b[A\u001b[A\u001b[A\n",
      "\n",
      "\n",
      " 43%|████▎     | 3/7 [03:21<04:14, 63.65s/it]\u001b[A\u001b[A\u001b[A"
     ]
    },
    {
     "name": "stdout",
     "output_type": "stream",
     "text": [
      "found  105.0  outlier points\n"
     ]
    },
    {
     "name": "stderr",
     "output_type": "stream",
     "text": [
      "\n",
      "\n",
      "\n",
      " 57%|█████▋    | 4/7 [05:05<03:46, 75.60s/it]\u001b[A\u001b[A\u001b[A\n",
      "\n",
      "\n",
      " 71%|███████▏  | 5/7 [07:10<03:01, 90.55s/it]\u001b[A\u001b[A\u001b[A\n",
      "\n",
      "\n",
      " 86%|████████▌ | 6/7 [11:53<02:28, 148.09s/it]\u001b[A\u001b[A\u001b[A\n",
      "\n",
      "\n",
      "100%|██████████| 7/7 [15:14<00:00, 130.62s/it]\u001b[A\u001b[A\u001b[A\n",
      "\n",
      "\n",
      "\n",
      "  0%|          | 0/4 [00:00<?, ?it/s]\u001b[A\u001b[A\u001b[A"
     ]
    },
    {
     "name": "stdout",
     "output_type": "stream",
     "text": [
      "cleaning up trace data\n",
      "I deleted session: 4539_day0\n",
      "I deleted session: 4539_day1\n",
      "I deleted session: 4539_day10\n",
      "I deleted session: 4539_day11\n",
      "I deleted session: 4539_day12\n",
      "I deleted session: 4539_day13\n",
      "I deleted session: 4539_day14\n",
      "I deleted session: 4539_day2\n",
      "I deleted session: 4539_day3\n",
      "I deleted session: 4539_day4\n",
      "I deleted session: 4539_day5\n",
      "I deleted session: 4539_day6\n",
      "I deleted session: 4539_day7\n",
      "I deleted session: 4539_day8\n",
      "I deleted session: 4539_day9\n",
      "cleaning up lfp data\n"
     ]
    },
    {
     "name": "stderr",
     "output_type": "stream",
     "text": [
      "\n",
      "\n",
      "\n",
      " 25%|██▌       | 1/4 [01:04<03:13, 64.63s/it]\u001b[A\u001b[A\u001b[A\n",
      "\n",
      "\n",
      " 50%|█████     | 2/4 [05:42<04:17, 128.75s/it]\u001b[A\u001b[A\u001b[A"
     ]
    },
    {
     "name": "stdout",
     "output_type": "stream",
     "text": [
      "found  17.0  outlier points\n"
     ]
    },
    {
     "name": "stderr",
     "output_type": "stream",
     "text": [
      "\n",
      "\n",
      "\n",
      " 75%|███████▌  | 3/4 [06:34<01:45, 105.51s/it]\u001b[A\u001b[A\u001b[A\n",
      "\n",
      "\n",
      "100%|██████████| 4/4 [06:53<00:00, 103.50s/it]\u001b[A\u001b[A\u001b[A\n",
      "\n",
      "\n",
      "\n",
      "  0%|          | 0/2 [00:00<?, ?it/s]\u001b[A\u001b[A\u001b[A"
     ]
    },
    {
     "name": "stdout",
     "output_type": "stream",
     "text": [
      "cleaning up trace data\n",
      "I deleted session: 7584_Baseline0\n",
      "I deleted session: 7584_day0\n",
      "I deleted session: 7584_day1\n",
      "I deleted session: 7584_day10\n",
      "I deleted session: 7584_day11\n",
      "I deleted session: 7584_day12\n",
      "I deleted session: 7584_day15\n",
      "I deleted session: 7584_day2\n",
      "I deleted session: 7584_day3\n",
      "I deleted session: 7584_day4\n",
      "I deleted session: 7584_day5\n",
      "I deleted session: 7584_day6\n",
      "I deleted session: 7584_day7\n",
      "I deleted session: 7584_day8\n",
      "I deleted session: 7584_day9\n",
      "cleaning up lfp data\n"
     ]
    },
    {
     "name": "stderr",
     "output_type": "stream",
     "text": [
      "\n",
      "\n",
      "\n",
      " 50%|█████     | 1/2 [00:13<00:13, 13.59s/it]\u001b[A\u001b[A\u001b[A\n",
      "\n",
      "\n",
      "100%|██████████| 2/2 [11:25<00:00, 342.65s/it]\u001b[A\u001b[A\u001b[A\n",
      "\n",
      "\n",
      "\n",
      "  0%|          | 0/4 [00:00<?, ?it/s]\u001b[A\u001b[A\u001b[A"
     ]
    },
    {
     "name": "stdout",
     "output_type": "stream",
     "text": [
      "cleaning up trace data\n",
      "I deleted session: 7909_day0\n",
      "I deleted session: 7909_day1\n",
      "I deleted session: 7909_day10\n",
      "I deleted session: 7909_day11\n",
      "I deleted session: 7909_day12\n",
      "I deleted session: 7909_day13\n",
      "I deleted session: 7909_day14\n",
      "I deleted session: 7909_day2\n",
      "I deleted session: 7909_day3\n",
      "I deleted session: 7909_day4\n",
      "I deleted session: 7909_day5\n",
      "I deleted session: 7909_day6\n",
      "I deleted session: 7909_day7\n",
      "I deleted session: 7909_day8\n",
      "I deleted session: 7909_day9\n",
      "cleaning up lfp data\n",
      "found  10.0  outlier points\n"
     ]
    },
    {
     "name": "stderr",
     "output_type": "stream",
     "text": [
      "\n",
      "\n",
      "\n",
      " 25%|██▌       | 1/4 [09:00<27:01, 540.39s/it]\u001b[A\u001b[A\u001b[A\n",
      "\n",
      "\n",
      " 50%|█████     | 2/4 [09:54<13:09, 394.61s/it]\u001b[A\u001b[A\u001b[A\n",
      "\n",
      "\n",
      " 75%|███████▌  | 3/4 [10:25<04:45, 285.56s/it]\u001b[A\u001b[A\u001b[A\n",
      "\n",
      "\n",
      "100%|██████████| 4/4 [10:47<00:00, 161.85s/it]\u001b[A\u001b[A\u001b[A\n",
      "\n",
      "\n",
      "\n",
      "  0%|          | 0/7 [00:00<?, ?it/s]\u001b[A\u001b[A\u001b[A"
     ]
    },
    {
     "name": "stdout",
     "output_type": "stream",
     "text": [
      "cleaning up trace data\n",
      "I deleted session: 8430_day1\n",
      "I deleted session: 8430_day11\n",
      "I deleted session: 8430_day3\n",
      "I deleted session: 8430_day5\n",
      "I deleted session: 8430_day7\n",
      "I deleted session: 8430_day9\n",
      "cleaning up lfp data\n"
     ]
    },
    {
     "name": "stderr",
     "output_type": "stream",
     "text": [
      "\n",
      "\n",
      "\n",
      " 14%|█▍        | 1/7 [00:42<04:13, 42.27s/it]\u001b[A\u001b[A\u001b[A\n",
      "\n",
      "\n",
      " 29%|██▊       | 2/7 [01:17<03:20, 40.17s/it]\u001b[A\u001b[A\u001b[A\n",
      "\n",
      "\n",
      " 43%|████▎     | 3/7 [01:58<02:42, 40.55s/it]\u001b[A\u001b[A\u001b[A\n",
      "\n",
      "\n",
      " 57%|█████▋    | 4/7 [03:26<02:44, 54.75s/it]\u001b[A\u001b[A\u001b[A\n",
      "\n",
      "\n",
      " 71%|███████▏  | 5/7 [06:37<03:11, 95.61s/it]\u001b[A\u001b[A\u001b[A\n",
      "\n",
      "\n",
      " 86%|████████▌ | 6/7 [09:09<01:52, 112.32s/it]\u001b[A\u001b[A\u001b[A\n",
      "\n",
      "\n",
      "100%|██████████| 7/7 [11:09<00:00, 95.62s/it] \u001b[A\u001b[A\u001b[A\n",
      "\n",
      "\n",
      "\n",
      "  0%|          | 0/6 [00:00<?, ?it/s]\u001b[A\u001b[A\u001b[A"
     ]
    },
    {
     "name": "stdout",
     "output_type": "stream",
     "text": [
      "cleaning up trace data\n",
      "I deleted session: 8803_day10\n",
      "I deleted session: 8803_day12\n",
      "I deleted session: 8803_day14\n",
      "I deleted session: 8803_day2\n",
      "I deleted session: 8803_day4\n",
      "I deleted session: 8803_day5\n",
      "I deleted session: 8803_day6\n",
      "I deleted session: 8803_day8\n",
      "cleaning up lfp data\n"
     ]
    },
    {
     "name": "stderr",
     "output_type": "stream",
     "text": [
      "\n",
      "\n",
      "\n",
      " 17%|█▋        | 1/6 [01:51<09:17, 111.43s/it]\u001b[A\u001b[A\u001b[A\n",
      "\n",
      "\n",
      " 33%|███▎      | 2/6 [03:28<07:08, 107.18s/it]\u001b[A\u001b[A\u001b[A\n",
      "\n",
      "\n",
      " 50%|█████     | 3/6 [05:54<05:56, 118.78s/it]\u001b[A\u001b[A\u001b[A\n",
      "\n",
      "\n",
      " 67%|██████▋   | 4/6 [08:08<04:06, 123.37s/it]\u001b[A\u001b[A\u001b[A\n",
      "\n",
      "\n",
      " 83%|████████▎ | 5/6 [09:03<01:42, 102.74s/it]\u001b[A\u001b[A\u001b[A\n",
      "\n",
      "\n",
      "100%|██████████| 6/6 [09:56<00:00, 99.38s/it] \u001b[A\u001b[A\u001b[A\n",
      "\n",
      "\n",
      "\n",
      "  0%|          | 0/7 [00:00<?, ?it/s]\u001b[A\u001b[A\u001b[A"
     ]
    },
    {
     "name": "stdout",
     "output_type": "stream",
     "text": [
      "cleaning up trace data\n",
      "I deleted session: 8815_day10\n",
      "I deleted session: 8815_day12\n",
      "I deleted session: 8815_day14\n",
      "I deleted session: 8815_day2\n",
      "I deleted session: 8815_day4\n",
      "I deleted session: 8815_day6\n",
      "I deleted session: 8815_day8\n",
      "cleaning up lfp data\n"
     ]
    },
    {
     "name": "stderr",
     "output_type": "stream",
     "text": [
      "\n",
      "\n",
      "\n",
      " 14%|█▍        | 1/7 [00:45<04:35, 45.92s/it]\u001b[A\u001b[A\u001b[A\n",
      "\n",
      "\n",
      " 29%|██▊       | 2/7 [01:30<03:48, 45.63s/it]\u001b[A\u001b[A\u001b[A\n",
      "\n",
      "\n",
      " 43%|████▎     | 3/7 [02:11<02:56, 44.16s/it]\u001b[A\u001b[A\u001b[A\n",
      "\n",
      "\n",
      " 57%|█████▋    | 4/7 [02:44<02:02, 40.73s/it]\u001b[A\u001b[A\u001b[A\n",
      "\n",
      "\n",
      " 71%|███████▏  | 5/7 [03:22<01:20, 40.07s/it]\u001b[A\u001b[A\u001b[A\n",
      "\n",
      "\n",
      " 86%|████████▌ | 6/7 [04:04<00:40, 40.52s/it]\u001b[A\u001b[A\u001b[A\n",
      "\n",
      "\n",
      "100%|██████████| 7/7 [05:05<00:00, 43.63s/it]\u001b[A\u001b[A\u001b[A\n"
     ]
    },
    {
     "ename": "TypeError",
     "evalue": "\"delimiter\" must be a 1-character string",
     "output_type": "error",
     "traceback": [
      "\u001b[0;31m---------------------------------------------------------------------------\u001b[0m",
      "\u001b[0;31mTypeError\u001b[0m                                 Traceback (most recent call last)",
      "\u001b[0;32m<ipython-input-32-155bfd665700>\u001b[0m in \u001b[0;36m<module>\u001b[0;34m\u001b[0m\n\u001b[1;32m    126\u001b[0m             \u001b[0;32mdel\u001b[0m \u001b[0maligned\u001b[0m\u001b[0;34m\u001b[0m\u001b[0;34m\u001b[0m\u001b[0m\n\u001b[1;32m    127\u001b[0m \u001b[0;34m\u001b[0m\u001b[0m\n\u001b[0;32m--> 128\u001b[0;31m \u001b[0mdf\u001b[0m\u001b[0;34m.\u001b[0m\u001b[0mto_csv\u001b[0m\u001b[0;34m(\u001b[0m\u001b[0msavePath\u001b[0m\u001b[0;34m+\u001b[0m\u001b[0;34m'sessions'\u001b[0m\u001b[0;34m,\u001b[0m\u001b[0;34m'df'\u001b[0m\u001b[0;34m)\u001b[0m\u001b[0;34m\u001b[0m\u001b[0;34m\u001b[0m\u001b[0m\n\u001b[0m",
      "\u001b[0;32m~/anaconda3/lib/python3.6/site-packages/pandas/core/generic.py\u001b[0m in \u001b[0;36mto_csv\u001b[0;34m(self, path_or_buf, sep, na_rep, float_format, columns, header, index, index_label, mode, encoding, compression, quoting, quotechar, line_terminator, chunksize, date_format, doublequote, escapechar, decimal)\u001b[0m\n\u001b[1;32m   3202\u001b[0m             \u001b[0mdecimal\u001b[0m\u001b[0;34m=\u001b[0m\u001b[0mdecimal\u001b[0m\u001b[0;34m,\u001b[0m\u001b[0;34m\u001b[0m\u001b[0;34m\u001b[0m\u001b[0m\n\u001b[1;32m   3203\u001b[0m         )\n\u001b[0;32m-> 3204\u001b[0;31m         \u001b[0mformatter\u001b[0m\u001b[0;34m.\u001b[0m\u001b[0msave\u001b[0m\u001b[0;34m(\u001b[0m\u001b[0;34m)\u001b[0m\u001b[0;34m\u001b[0m\u001b[0;34m\u001b[0m\u001b[0m\n\u001b[0m\u001b[1;32m   3205\u001b[0m \u001b[0;34m\u001b[0m\u001b[0m\n\u001b[1;32m   3206\u001b[0m         \u001b[0;32mif\u001b[0m \u001b[0mpath_or_buf\u001b[0m \u001b[0;32mis\u001b[0m \u001b[0;32mNone\u001b[0m\u001b[0;34m:\u001b[0m\u001b[0;34m\u001b[0m\u001b[0;34m\u001b[0m\u001b[0m\n",
      "\u001b[0;32m~/anaconda3/lib/python3.6/site-packages/pandas/io/formats/csvs.py\u001b[0m in \u001b[0;36msave\u001b[0;34m(self)\u001b[0m\n\u001b[1;32m    199\u001b[0m                 \u001b[0mdoublequote\u001b[0m\u001b[0;34m=\u001b[0m\u001b[0mself\u001b[0m\u001b[0;34m.\u001b[0m\u001b[0mdoublequote\u001b[0m\u001b[0;34m,\u001b[0m\u001b[0;34m\u001b[0m\u001b[0;34m\u001b[0m\u001b[0m\n\u001b[1;32m    200\u001b[0m                 \u001b[0mescapechar\u001b[0m\u001b[0;34m=\u001b[0m\u001b[0mself\u001b[0m\u001b[0;34m.\u001b[0m\u001b[0mescapechar\u001b[0m\u001b[0;34m,\u001b[0m\u001b[0;34m\u001b[0m\u001b[0;34m\u001b[0m\u001b[0m\n\u001b[0;32m--> 201\u001b[0;31m                 \u001b[0mquotechar\u001b[0m\u001b[0;34m=\u001b[0m\u001b[0mself\u001b[0m\u001b[0;34m.\u001b[0m\u001b[0mquotechar\u001b[0m\u001b[0;34m,\u001b[0m\u001b[0;34m\u001b[0m\u001b[0;34m\u001b[0m\u001b[0m\n\u001b[0m\u001b[1;32m    202\u001b[0m             )\n\u001b[1;32m    203\u001b[0m \u001b[0;34m\u001b[0m\u001b[0m\n",
      "\u001b[0;31mTypeError\u001b[0m: \"delimiter\" must be a 1-character string"
     ]
    }
   ],
   "source": [
    "# # align spectogram to spike onset -> for each mouse and in total,seperate by CRE:\n",
    "# Files = ['FinalData_6OHDA.h5','FinalData_6OHDA_H.h5','FinalData_6OHDA_H_skip.h5','FinalData_6OHDA_skip.h5']\n",
    "# miceList = getMiceList(Files[0]) \n",
    "\n",
    "# # open all necassary files \n",
    "# f = h5py.File('Spectograms.hdf5','r') #LFP coeffs\n",
    "# savePath = '/home/dana_z/HD1/lfpAligned2Ca/Post/'\n",
    "# df = pd.DataFrame(columns=['mouse','sess','day','period','cre','numred'])\n",
    "# # constents for analysis:\n",
    "# WinPre = 2 #s\n",
    "# WinPost = 2 #s\n",
    "\n",
    "# # for each mouse: \n",
    "# for m in miceList:\n",
    "#     data =  getData(Files[0],['lfp','trace'],period ='Post', mice=m)\n",
    "#     cre = getCreType(Files[1],m)\n",
    "#     for sess in tqdm(data.keys()): \n",
    "#         if sess[5] == 'B':\n",
    "#             day = 0\n",
    "#         else:\n",
    "#             day = int(re.findall(r'\\d+',sess[5:])[0])\n",
    "\n",
    "#         numRed = int(data[sess]['trace']['numred'])\n",
    "\n",
    "\n",
    "#         if os.path.exists(savePath+'MSN/'+sess):\n",
    "#             df.append({'mouse':m,'sess':sess,'day':day,'period': periodCalc(day),'cre':cre,'numred':numRed},ignore_index=True)\n",
    "#             continue\n",
    "\n",
    "#          # get data\n",
    "#         Ca = getOnsetOrPeriod(m,sess,'Post','caOnset_Hf')\n",
    "#         dCa = np.append(Ca[:,1:]-Ca[:,:-1],np.zeros((Ca.shape[0],1)),axis=1)\n",
    "#         dCa[dCa==-1] = 0\n",
    "        \n",
    "#         coeff = np.abs(f[m][sess]['Post']['coeff'].value)\n",
    "#         lfpOutliers = removeLFPOutliers(data[sess]['lfp']['lfp'], sess)\n",
    "#         try:\n",
    "#             coeff[:,(lfpOutliers[:,0]==1)] = np.nan\n",
    "#             coeff = coeff.T/np.nansum(coeff,axis=1) # So that axis[0] is the time axis + normalize power in frequency per sesion\n",
    "#         except:\n",
    "#             print(sess)\n",
    "#             continue\n",
    "        \n",
    "#         # add session to df, so can be retrived\n",
    "#         df= df.append({'mouse':m,'sess':sess,'day':day,'period': periodCalc(day),'cre':cre,'numred':numRed,'numMsn':Ca.shape[0]},ignore_index=True)\n",
    "\n",
    "#         dtS = float(1/data[sess]['trace']['FS'])\n",
    "#         dtL = float(1/data[sess]['lfp']['FS'])\n",
    "#         ts = np.arange(0, np.max(data[sess]['trace']['dff'].shape)) * dtS \n",
    "#         tl = np.arange(0, np.max(data[sess]['lfp']['lfp'].shape)) * dtL\n",
    "\n",
    "#         tPlot = np.linspace(-WinPre,WinPost,int((WinPre+WinPost)/dtL))     \n",
    "        \n",
    "\n",
    "#         # for every Cre neuron:\n",
    "#         dca = dCa[0:numRed,:]\n",
    "#         dca = dca[np.sum(dca,axis=1)!=0,:]\n",
    "        \n",
    "#         for creN in range(0,np.min(dca.shape)):\n",
    "#             onsetL = np.full_like(tl,False)\n",
    "#             cN = dca[creN,:]\n",
    "#             for si in ts[cN.astype(bool)]:\n",
    "#                 ti = np.argmin(np.abs(tl-si))\n",
    "#                 onsetL[ti] = True\n",
    "#             al = alignToOnset(coeff,(onsetL==1), winPost =WinPre/dtL, winPre = WinPost/dtL)\n",
    "\n",
    "#             if al.ndim <3:\n",
    "#                 try:\n",
    "#                     al = np.reshape(al,(al.shape[0],al.shape[1],1))\n",
    "#                 except:\n",
    "#                     print('no onset, when there should be. CRE#',creN,' in sess= ',sess)\n",
    "#                     continue\n",
    "#             al = np.nanmean(al,axis=2,keepdims=True)\n",
    "#             al = np.nan_to_num(al,nan=-9999)\n",
    "            \n",
    "#             if 'aligned' in locals():\n",
    "#                 aligned = np.concatenate((aligned,al), axis = 2)\n",
    "#             else:\n",
    "#                 aligned = al\n",
    "        \n",
    "#         if np.min(dca.shape)>0:\n",
    "#             pickle.dump( aligned, open( savePath+\"CRE/\"+sess, \"wb\" ), protocol=4 )\n",
    "#             del aligned\n",
    "        \n",
    "#         # for every MSN neuron:\n",
    "#         dca = dCa[numRed:,:]\n",
    "#         dca = dca[np.sum(dca,axis=1)!=0,:]\n",
    "        \n",
    "#         for msnN in range(0,np.min(dca.shape)):\n",
    "#             onsetL = np.full_like(tl,False)\n",
    "#             mN = dca[msnN,:]\n",
    "#             for si in ts[mN.astype(bool)]:\n",
    "#                 ti = np.argmin(np.abs(tl-si))\n",
    "#                 onsetL[ti] = True\n",
    "#             al = alignToOnset(coeff,(onsetL==1), winPost =WinPre/dtL, winPre = WinPost/dtL)\n",
    "\n",
    "#             if al.ndim <3:\n",
    "#                 try:\n",
    "#                     al = np.reshape(al,(al.shape[0],al.shape[1],1))\n",
    "#                 except:\n",
    "#                     print('no onset, when there should be. MSN#',msnN,' in sess= ',sess)\n",
    "#                     continue\n",
    "            \n",
    "#             al = np.nanmean(al,axis=2,keepdims=True)\n",
    "#             al = np.nan_to_num(al,nan=-9999)\n",
    "#             if 'aligned' in locals():\n",
    "#                 aligned = np.concatenate((aligned,al), axis = 2)\n",
    "#             else:\n",
    "#                 aligned = al\n",
    "        \n",
    "#         if np.min(dca.shape)>0:\n",
    "#             pickle.dump( aligned, open( savePath+\"MSN/\"+sess, \"wb\" ) , protocol=4)\n",
    "#             del aligned\n",
    "\n",
    "# df.to_csv(savePath+'sessions')\n"
   ]
  },
  {
   "cell_type": "code",
   "execution_count": null,
   "metadata": {
    "scrolled": true
   },
   "outputs": [],
   "source": [
    "# try exact same logic as rot onset\n",
    "rotOnsetPars = {}\n",
    "for m in miceList:\n",
    "    data = getData(Files[1],['rot'],period ='Pre',mice=m, day = lambda x: x==0)\n",
    "    maxRot = [];\n",
    "    for sess in data:\n",
    "        rot = smooth(data[sess]['rot']['rot'],20)\n",
    "        maxRot.append(np.max(rot))\n",
    "    hi = np.mean(maxRot)/4\n",
    "    print(m,' hi: ',hi)\n",
    "    rotOnsetPars[m] = hi"
   ]
  },
  {
   "cell_type": "code",
   "execution_count": null,
   "metadata": {
    "scrolled": true
   },
   "outputs": [],
   "source": [
    "# create hdf5 file with all the mice and mvmt Onset\n",
    "f = h5py.File('OnsetsAndPeriods.hdf5','a')\n",
    "hiWin=20 \n",
    "thWin=40\n",
    "shift=2\n",
    "miceList = rotOnsetPars.keys()\n",
    "for m in miceList:\n",
    "    grp = f[m]\n",
    "    try:\n",
    "        sgrp = grp.create_group('rotOnset_params')\n",
    "    except:\n",
    "        sgrp = grp['rotOnset_params']\n",
    "    sgrp.attrs['hi'] = rotOnsetPars[m]\n",
    "    sgrp.attrs['th_weak'] = np.min([1, rotOnsetPars[m]/5])\n",
    "    sgrp.attrs['hiWin'] = hiWin\n",
    "    sgrp.attrs['thWin'] = thWin\n",
    "    sgrp.attrs['th_strong'] =np.min([1, rotOnsetPars[m]/5])/2\n",
    "    sgrp.attrs['shift'] = shift\n",
    "    data_pre = getData(Files[0],['rot'],period ='Pre', mice=m)\n",
    "    data_post = getData(Files[0],['rot'],period ='Post', mice=m)\n",
    "    days = np.zeros(len(data_pre))\n",
    "    ind = 0\n",
    "    # sort by session for my own OCD\n",
    "    for sess in data_pre:\n",
    "        if sess[5] == 'B':\n",
    "            day = 0\n",
    "        else:\n",
    "            day = int(re.findall(r'\\d+',sess[5:])[0])\n",
    "        days[ind] = day\n",
    "        ind= ind+1\n",
    "    a = np.argsort(days)\n",
    "    dKeys = list(data_pre.keys())\n",
    "    # calculte high rot period, do 3 sessions per plot, and stor in ppt\n",
    "    ind = 0;\n",
    "    hi = sgrp.attrs['hi']\n",
    "    th_weak = sgrp.attrs['th_weak']\n",
    "    th_strong = sgrp.attrs['th_strong']\n",
    "    for aa in range(0,len(data_pre)):\n",
    "        sess = dKeys[a[aa]]\n",
    "        rot = data_pre[sess]['rot']['rot']\n",
    "        rot = rot.T\n",
    "        sOnset = FindMvmtOnset2(np.abs(rot), th_weak,th_weak/2 ,hi,hiWin,thWin,shift)\n",
    "        sClockwise = np.zeros_like(sOnset,dtype=bool)\n",
    "        sAnticlockkwise = np.zeros_like(sOnset,dtype=bool)\n",
    "        for T in np.argwhere(sOnset):\n",
    "            if np.mean(rot[int(T):int(T)+20])<0:\n",
    "                sAnticlockkwise[int(T)] = True\n",
    "            else:     \n",
    "                sClockwise[int(T)] = True\n",
    "        subgrp = grp[sess]\n",
    "        ssubgrp = subgrp['Pre']\n",
    "        del ssubgrp['rotOnset']\n",
    "        ssubgrp['rotOnset'] = sOnset\n",
    "        del ssubgrp['clockWiseOnset']\n",
    "        ssubgrp['clockWiseOnset'] = sClockwise\n",
    "        del ssubgrp['antiClockWiseOnset']\n",
    "        ssubgrp['antiClockWiseOnset'] = sAnticlockkwise\n",
    "        if sess in data_post.keys():\n",
    "            rot = data_post[sess]['rot']['rot']\n",
    "            rot = rot.T\n",
    "            sOnset = FindMvmtOnset2(np.abs(rot), th_weak,th_weak/2 ,hi,hiWin,thWin,shift)\n",
    "            sClockwise = np.zeros_like(sOnset,dtype=bool)\n",
    "            sAnticlockkwise = np.zeros_like(sOnset,dtype=bool)\n",
    "            for T in np.argwhere(sOnset):\n",
    "                if np.mean(rot[int(T):int(T)+20])<0:\n",
    "                    sAnticlockkwise[int(T)] = True\n",
    "                else:     \n",
    "                    sClockwise[int(T)] = True\n",
    "            spsubgrp = subgrp['Post']\n",
    "            del spsubgrp['rotOnset']\n",
    "            spsubgrp['rotOnset'] = sOnset\n",
    "            del spsubgrp['clockWiseOnset']\n",
    "            spsubgrp['clockWiseOnset'] = sClockwise\n",
    "            del spsubgrp['antiClockWiseOnset']\n",
    "            spsubgrp['antiClockWiseOnset'] = sAnticlockkwise\n",
    "            \n",
    "f.close()   "
   ]
  },
  {
   "cell_type": "code",
   "execution_count": null,
   "metadata": {
    "scrolled": true
   },
   "outputs": [],
   "source": [
    "# create hdf5 file with all the mice and mvmt Onset\n",
    "f = h5py.File('OnsetsAndPeriods.hdf5','a')\n",
    "hiWin=20 \n",
    "thWin=40\n",
    "shift=-4\n",
    "miceList = rotOnsetPars.keys()\n",
    "for m in miceList:\n",
    "    grp = f[m]\n",
    "    try:\n",
    "        sgrp = grp.create_group('rotOnset_params2')\n",
    "    except:\n",
    "        sgrp = grp['rotOnset_params2']\n",
    "    sgrp.attrs['hi'] = rotOnsetPars[m]\n",
    "    sgrp.attrs['th_weak'] = np.min([1, rotOnsetPars[m]/5])\n",
    "    sgrp.attrs['hiWin'] = hiWin\n",
    "    sgrp.attrs['thWin'] = thWin\n",
    "    sgrp.attrs['th_strong'] =np.min([1, rotOnsetPars[m]/5])/2\n",
    "    sgrp.attrs['shift'] = shift\n",
    "    data_pre = getData(Files[0],['rot'],period ='Pre', mice=m)\n",
    "    data_post = getData(Files[0],['rot'],period ='Post', mice=m)\n",
    "    days = np.zeros(len(data_pre))\n",
    "    ind = 0\n",
    "    # sort by session for my own OCD\n",
    "    for sess in data_pre:\n",
    "        if sess[5] == 'B':\n",
    "            day = 0\n",
    "        else:\n",
    "            day = int(re.findall(r'\\d+',sess[5:])[0])\n",
    "        days[ind] = day\n",
    "        ind= ind+1\n",
    "    a = np.argsort(days)\n",
    "    dKeys = list(data_pre.keys())\n",
    "    # calculte high rot period, do 3 sessions per plot, and stor in ppt\n",
    "    ind = 0;\n",
    "    hi = sgrp.attrs['hi']\n",
    "    th_weak = sgrp.attrs['th_weak']\n",
    "    th_strong = sgrp.attrs['th_strong']\n",
    "    for aa in range(0,len(data_pre)):\n",
    "        sess = dKeys[a[aa]]\n",
    "        rot = data_pre[sess]['rot']['rot']\n",
    "        rot = rot.T\n",
    "        sOnset = FindMvmtOnset2(np.abs(rot), th_weak,th_weak/2 ,hi,hiWin,thWin,shift)\n",
    "        sClockwise = np.zeros_like(sOnset,dtype=bool)\n",
    "        sAnticlockkwise = np.zeros_like(sOnset,dtype=bool)\n",
    "        for T in np.argwhere(sOnset):\n",
    "            if np.mean(rot[int(T):int(T)+20])<0:\n",
    "                sAnticlockkwise[int(T)] = True\n",
    "            else:     \n",
    "                sClockwise[int(T)] = True\n",
    "        subgrp = grp[sess]\n",
    "        ssubgrp = subgrp['Pre']\n",
    "#         del ssubgrp['rotOnset2']\n",
    "        ssubgrp['rotOnset2'] = sOnset\n",
    "#         del ssubgrp['clockWiseOnset2']\n",
    "        ssubgrp['clockWiseOnset2'] = sClockwise\n",
    "#         del ssubgrp['antiClockWiseOnset2']\n",
    "        ssubgrp['antiClockWiseOnset2'] = sAnticlockkwise\n",
    "        if sess in data_post.keys():\n",
    "            rot = data_post[sess]['rot']['rot']\n",
    "            rot = rot.T\n",
    "            sOnset = FindMvmtOnset2(np.abs(rot), th_weak,th_weak/2 ,hi,hiWin,thWin,shift)\n",
    "            sClockwise = np.zeros_like(sOnset,dtype=bool)\n",
    "            sAnticlockkwise = np.zeros_like(sOnset,dtype=bool)\n",
    "            for T in np.argwhere(sOnset):\n",
    "                if np.mean(rot[int(T):int(T)+20])<0:\n",
    "                    sAnticlockkwise[int(T)] = True\n",
    "                else:     \n",
    "                    sClockwise[int(T)] = True\n",
    "            spsubgrp = subgrp['Post']\n",
    "#             del spsubgrp['rotOnset2']\n",
    "            spsubgrp['rotOnset2'] = sOnset\n",
    "#             del spsubgrp['clockWiseOnset2']\n",
    "            spsubgrp['clockWiseOnset2'] = sClockwise\n",
    "#             del spsubgrp['antiClockWiseOnset2']\n",
    "            spsubgrp['antiClockWiseOnset2'] = sAnticlockkwise\n",
    "            \n",
    "f.close()   "
   ]
  },
  {
   "cell_type": "code",
   "execution_count": null,
   "metadata": {
    "scrolled": true
   },
   "outputs": [],
   "source": [
    "highRotPeriodsPars = {}\n",
    "for m in miceList:\n",
    "    data = getData(Files[1],['rot'],period ='Pre',mice=m, day = lambda x: x==0)\n",
    "    maxRot = [];\n",
    "    for sess in data:\n",
    "        rot = smooth(np.abs(data[sess]['rot']['rot']),20)\n",
    "        maxRot.append(np.max(rot))\n",
    "    hth = np.mean(maxRot)/5\n",
    "    lth = np.mean(maxRot)/10\n",
    "    print(m,' hth: ',hth,' lth: ',lth)\n",
    "    highRotPeriodsPars[m] = {'hth':hth,'lth':lth}"
   ]
  },
  {
   "cell_type": "code",
   "execution_count": null,
   "metadata": {
    "scrolled": true
   },
   "outputs": [],
   "source": [
    "f = h5py.File('OnsetsAndPeriods.hdf5','a')\n",
    "#Colors = CP('highLowRot')\n",
    "\n",
    "fig, ax = plt.subplots(1,1)\n",
    "\n",
    "Tseconds = 1\n",
    "\n",
    "miceList = getMiceList(Files[1])\n",
    "for m in miceList:\n",
    "    grp = f[m]\n",
    "    try:\n",
    "        sgrp = grp.create_group('highLowRotPeriods_params')\n",
    "    except:\n",
    "        sgrp = grp['highLowRotPeriods_params']    \n",
    "    sgrp.attrs['th_high'] = highRotPeriodsPars[m]['hth']\n",
    "    sgrp.attrs['th_low'] = highRotPeriodsPars[m]['lth']\n",
    "    \n",
    "    data_pre = getData(Files[1],['rot'],period ='Pre', mice=m)\n",
    "    data_post = getData(Files[1],['rot'],period ='Post', mice=m)\n",
    "    days = np.zeros(len(data_pre))\n",
    "    ind = 0\n",
    "    # sort by session for my own OCD\n",
    "    for sess in data_pre:\n",
    "        if sess[5] == 'B':\n",
    "            day = 0\n",
    "        else:\n",
    "            day = int(re.findall(r'\\d+',sess[5:])[0])\n",
    "        days[ind] = day\n",
    "        ind= ind+1\n",
    "    a = np.argsort(days)\n",
    "    dKeys = list(data_pre.keys())\n",
    "    # calculte high rot period, do 3 sessions per plot, and stor in ppt\n",
    "    ind = 0;\n",
    "    th_hi = highRotPeriodsPars[m]['hth']#sgrp.attrs['th_high']\n",
    "    th_low = highRotPeriodsPars[m]['lth']# sgrp.attrs['th_low']\n",
    "    for aa in range(0,len(data_pre)):\n",
    "        sess = dKeys[a[aa]]\n",
    "        rot = data_pre[sess]['rot']['rot']\n",
    "        rot = rot.T\n",
    "        dt  = 1/data_pre[sess]['rot']['Fs']\n",
    "        dataPoints = int(np.ceil(Tseconds/dt))\n",
    "        \n",
    "        rPeriods = getRotPeriods(ax,rot,dt,th_hi,th_low,dataPoints)\n",
    "        subgrp = grp[sess]\n",
    "        ssubgrp =subgrp['Pre']\n",
    "        for cond in rPeriods.keys():\n",
    "            try:\n",
    "                ssubgrp[cond+'RotPeriods_StartSegments'] = rPeriods[cond]['start']\n",
    "                ssubgrp[cond+'Periods_EndSegments'] = rPeriods[cond]['end']\n",
    "            except:\n",
    "                del ssubgrp[cond+'RotPeriods_StartSegments'] \n",
    "                del ssubgrp[cond+'Periods_EndSegments']\n",
    "                ssubgrp[cond+'RotPeriods_StartSegments'] = rPeriods[cond]['start']\n",
    "                ssubgrp[cond+'Periods_EndSegments'] = rPeriods[cond]['end']\n",
    "        \n",
    "            highP = np.full(rot.shape, False)\n",
    "            for l in range(0, len(rPeriods[cond]['start'])):\n",
    "                highP[rPeriods[cond]['start'][l]:rPeriods[cond]['end'][l]] = True\n",
    "            try:\n",
    "                ssubgrp[cond+'RotPeriods_vector'] = highP\n",
    "            except: \n",
    "                del ssubgrp[cond+'RotPeriods_vector']\n",
    "                ssubgrp[cond+'RotPeriods_vector'] = highP\n",
    "        \n",
    "        if sess in data_post.keys():\n",
    "            rot = data_post[sess]['rot']['rot']\n",
    "            rot = rot.T\n",
    "           \n",
    "            rPeriods = getRotPeriods(ax,rot,dt,th_hi,th_low,dataPoints)\n",
    "            spsubgrp = subgrp['Post']\n",
    "            for cond in rPeriods.keys():\n",
    "                try:\n",
    "                    spsubgrp[cond+'RotPeriods_StartSegments'] = rPeriods[cond]['start']\n",
    "                    spsubgrp[cond+'Periods_EndSegments'] = rPeriods[cond]['end']\n",
    "                except:\n",
    "                    del spsubgrp[cond+'RotPeriods_StartSegments']\n",
    "                    del spsubgrp[cond+'Periods_EndSegments'] \n",
    "                    spsubgrp[cond+'RotPeriods_StartSegments'] = rPeriods[cond]['start']\n",
    "                    spsubgrp[cond+'Periods_EndSegments'] = rPeriods[cond]['end']\n",
    "\n",
    "                highP = np.full(rot.shape, False)\n",
    "                for l in range(0, len(rPeriods[cond]['start'])):\n",
    "                    highP[rPeriods[cond]['start'][l]:rPeriods[cond]['end'][l]] = True\n",
    "               \n",
    "                try:\n",
    "                    spsubgrp[cond+'RotPeriods_vector'] = highP\n",
    "                except: \n",
    "                    del spsubgrp[cond+'RotPeriods_vector']\n",
    "                    spsubgrp[cond+'RotPeriods_vector'] = highP\n",
    "\n",
    "        \n",
    "f.close()  "
   ]
  }
 ],
 "metadata": {
  "kernelspec": {
   "display_name": "Python 3",
   "language": "python",
   "name": "python3"
  },
  "language_info": {
   "codemirror_mode": {
    "name": "ipython",
    "version": 3
   },
   "file_extension": ".py",
   "mimetype": "text/x-python",
   "name": "python",
   "nbconvert_exporter": "python",
   "pygments_lexer": "ipython3",
   "version": "3.8.5"
  }
 },
 "nbformat": 4,
 "nbformat_minor": 2
}
