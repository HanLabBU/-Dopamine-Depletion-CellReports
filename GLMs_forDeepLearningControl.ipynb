{
 "cells": [
  {
   "cell_type": "code",
   "execution_count": 1,
   "id": "46e60b83",
   "metadata": {},
   "outputs": [],
   "source": [
    "%matplotlib notebook\n",
    "%load_ext autoreload\n",
    "%autoreload 2"
   ]
  },
  {
   "cell_type": "code",
   "execution_count": 2,
   "id": "8ee43e0b",
   "metadata": {},
   "outputs": [],
   "source": [
    "import os\n",
    "os.chdir('D:\\\\6OHDA\\\\')\n",
    "#import mpld3\n",
    "#mpld3.enable_notebook()\n",
    "import numpy as np\n",
    "import scipy as sci\n",
    "from scipy import signal\n",
    "from matplotlib import pyplot as plt\n",
    "from matplotlib import gridspec\n",
    "import matplotlib.colors as Mcolors\n",
    "import matplotlib.cm as cmx\n",
    "import sys\n",
    "import h5py\n",
    "from IO import *\n",
    "from utils import *\n",
    "from plotUtils import *\n",
    "from ColorSchems import colorPallet as CP\n",
    "import pptx\n",
    "from pptx import Presentation \n",
    "from pptx.util import Inches\n",
    "from io import BytesIO\n",
    "import re\n",
    "import warnings\n",
    "import pandas as pd\n",
    "import sqlalchemy as db\n",
    "import gc\n",
    "from tqdm import tqdm\n",
    "import seaborn as sns\n",
    "import pywt # wavelet package\n",
    "import statsmodels.api as sm\n",
    "import sklearn as sk"
   ]
  },
  {
   "cell_type": "code",
   "execution_count": 3,
   "id": "da5bf121",
   "metadata": {},
   "outputs": [],
   "source": [
    "Files = ['FinalData_6OHDA.h5','FinalData_6OHDA_H.h5']\n",
    "miceList = getMiceList(Files[0])"
   ]
  },
  {
   "cell_type": "code",
   "execution_count": 4,
   "id": "57d1d213",
   "metadata": {},
   "outputs": [],
   "source": [
    "def periodCalc(day):\n",
    "    if day== 0:\n",
    "        return 'Healthy'\n",
    "    elif day<13:\n",
    "        return 'Acute' #day 1-13\n",
    "    else:\n",
    "        return 'Chronic' #day 14-35"
   ]
  },
  {
   "cell_type": "code",
   "execution_count": 5,
   "id": "83a08405",
   "metadata": {},
   "outputs": [],
   "source": [
    "def packData(data,names):\n",
    "    # takes numpy array and turn to data frame for GLM training\n",
    "    # Input: \n",
    "    #    data - numpy array, each column in a variable\n",
    "    #    names - list of strings with column names \n",
    "    # Output:\n",
    "    #    df - pandas df that has an intercept column (all 1), \n",
    "    #         and a column for each of the variables in data\n",
    "    \n",
    "    row,col = data.shape\n",
    "    if len(names)!= col:\n",
    "        if len(names) == row:\n",
    "            warnings.warn(\"length of names don't match number of columns, data transposed\")\n",
    "            data = data.T\n",
    "            row,col = data.shape\n",
    "        else:\n",
    "            raise ValueError(\"length of names do not match data. len names = \",len(names),\", data.shape =\",data.shape)\n",
    "    \n",
    "    df = pd.DataFrame(data=data, columns=names)\n",
    "    df[\"Intercept\"] = np.ones(row)\n",
    "    return df\n",
    "            "
   ]
  },
  {
   "cell_type": "code",
   "execution_count": 47,
   "id": "455090c9",
   "metadata": {},
   "outputs": [
    {
     "name": "stderr",
     "output_type": "stream",
     "text": [
      "<ipython-input-47-944b39c26244>:4: DeprecationWarning: Calling Family(..) with a link class as argument is deprecated.\n",
      "Use an instance of a link class instead.\n",
      "  def trainModelSm(predictors,y,k=1,plot=True,family=Gamma(link=sm.families.links.log)):\n"
     ]
    }
   ],
   "source": [
    "%matplotlib inline\n",
    "from statsmodels.genmod.families import Poisson, Gamma, Gaussian\n",
    "\n",
    "def trainModelSm(predictors,y,k=1,plot=True,family=Gamma(link=sm.families.links.log)):\n",
    "    if k<1:\n",
    "        k = 1\n",
    "    # no cross validation, use all data as train and return train AIC\n",
    "    if k == 1: \n",
    "        model = sm.GLM(y, predictors, family=family)\n",
    "        model_results = model.fit()\n",
    "        b = model_results.params\n",
    "#         print(model_results.summary())\n",
    "        aic = model_results.aic\n",
    "        y_hut = np.exp(np.sum(b*predictors,axis=1)) \n",
    "        # plot if required\n",
    "        if plot: \n",
    "            fig, (ax,ax2) = plt.subplots(2,1,figsize=(10,6))\n",
    "            ax.plot(y,label='y',color='k')\n",
    "            ax.plot(y_hut,label='y^',color='g')\n",
    "            ax2.scatter(y,y_hut,alpha=0.5)\n",
    "            ax2.set_xlabel('y')\n",
    "            ax2.set_ylabel('y^')\n",
    "            ax.set_title(\"train aic = {0:8.2f}\".format(model_results.aic)) \n",
    "            ax.legend()\n",
    "        return aic,model_results,b\n",
    "    # cross validation,return all models\n",
    "    else:\n",
    "        batchSize = np.floor(len(predictors)/k)\n",
    "        aic = []\n",
    "        results = {}\n",
    "        if plot:\n",
    "            fig, ax = plt.subplots(k,1,figsize=(10,6))\n",
    "        for itr in range(k):\n",
    "            # divide data into train and test\n",
    "            testInds = predictors.index.isin(np.arange(itr*batchSize,(itr+1)*batchSize))\n",
    "            trainData = predictors[~testInds]\n",
    "            trainY = y[~testInds]\n",
    "            testData = predictors[testInds]\n",
    "            testY = y[testInds]\n",
    "            # train the model\n",
    "            model = sm.GLM(trainY, trainData, family=family)\n",
    "            model_results = model.fit()\n",
    "            b = model_results.params\n",
    "            aic.append(model_results.aic)\n",
    "            results[str(itr)] = model_results\n",
    "            y_hut = np.exp(np.sum(b*testData,axis=1))\n",
    "            if plot:\n",
    "                ax[itr].plot(np.arange(0,np.max(testY.shape)),testY,label='y',color='k')\n",
    "                ax[itr].plot(np.arange(0,np.max(testY.shape)),y_hut,label='y^',color='g')\n",
    "                ax[itr].set_title(\"test r = {0:8.4f}\".format(sci.stats.pearsonr(testY,y_hut)[0]))\n",
    "            fig.tight_layout()\n",
    "        bestFit = np.argmax(aic)\n",
    "#         if plot:\n",
    "#             sns.displot(aic,kde=True)\n",
    "        print(results[str(bestFit)].summary())\n",
    "        return aic,results,1\n",
    "            \n",
    "            \n",
    "\n"
   ]
  },
  {
   "cell_type": "code",
   "execution_count": 7,
   "id": "f42b23aa",
   "metadata": {},
   "outputs": [],
   "source": [
    "from statsmodels import graphics\n",
    "def compareNested(model1,model2):\n",
    "    dev1 = model1.deviance \n",
    "    dev2 = model2.deviance \n",
    "    p = 1 - sci.stats.chi2.cdf(dev1 - dev2, len(model1.params)-len(model2.params)) \n",
    "    print('p:', p)\n",
    "    return p\n",
    "def residualPlot(model,predictors,fs=20,res = 'Person'):\n",
    "    fig, (ax,ax2) = plt.subplots(2,1)\n",
    "    resType = {'Person':model.resid_pearson,\n",
    "               'Raw':model.resid_response}\n",
    "    R = np.cumsum(resType[res])\n",
    "    t = np.arange(len(R))/fs\n",
    "    ax.plot(t,R)\n",
    "    ax.set_xlabel('Time [s]')\n",
    "    ax.set_ylabel('Cumulative Residuals')\n",
    "    b = model.params\n",
    "    y_hut = np.exp(np.sum(b*predictors,axis=1)) \n",
    "    ax2.scatter(y_hut, resType[res],alpha=0.3)\n",
    "    ax2.hlines(0, 0, np.Inf)\n",
    "    ax2.set_title('Residual Dependence Plot')\n",
    "    ax2.set_ylabel(res+' Residuals')\n",
    "    ax2.set_xlabel('y^')\n",
    "    \n",
    "    resid = model.resid_deviance.copy()\n",
    "    graphics.gofplots.qqplot(resid, line='r')\n",
    "\n"
   ]
  },
  {
   "cell_type": "code",
   "execution_count": 53,
   "id": "2b6e2987",
   "metadata": {},
   "outputs": [
    {
     "name": "stdout",
     "output_type": "stream",
     "text": [
      "cleaning up speed data\n"
     ]
    },
    {
     "name": "stderr",
     "output_type": "stream",
     "text": [
      "D:\\6OHDA\\IO.py:152: H5pyDeprecationWarning: dataset.value has been deprecated. Use dataset[()] instead.\n",
      "  speed = hf[m][s]['mvmt']['speed'].value\n",
      "D:\\6OHDA\\IO.py:563: H5pyDeprecationWarning: dataset.value has been deprecated. Use dataset[()] instead.\n",
      "  return hf[m][s][period][OPtype].value\n",
      "<ipython-input-5-bcaa56cb2ae5>:13: UserWarning: length of names don't match number of columns, data transposed\n",
      "  warnings.warn(\"length of names don't match number of columns, data transposed\")\n"
     ]
    },
    {
     "data": {
      "text/html": [
       "<div>\n",
       "<style scoped>\n",
       "    .dataframe tbody tr th:only-of-type {\n",
       "        vertical-align: middle;\n",
       "    }\n",
       "\n",
       "    .dataframe tbody tr th {\n",
       "        vertical-align: top;\n",
       "    }\n",
       "\n",
       "    .dataframe thead th {\n",
       "        text-align: right;\n",
       "    }\n",
       "</style>\n",
       "<table border=\"1\" class=\"dataframe\">\n",
       "  <thead>\n",
       "    <tr style=\"text-align: right;\">\n",
       "      <th></th>\n",
       "      <th>speed</th>\n",
       "      <th>Intercept</th>\n",
       "    </tr>\n",
       "  </thead>\n",
       "  <tbody>\n",
       "    <tr>\n",
       "      <th>0</th>\n",
       "      <td>0.015580</td>\n",
       "      <td>1.0</td>\n",
       "    </tr>\n",
       "    <tr>\n",
       "      <th>1</th>\n",
       "      <td>0.017062</td>\n",
       "      <td>1.0</td>\n",
       "    </tr>\n",
       "    <tr>\n",
       "      <th>2</th>\n",
       "      <td>0.027610</td>\n",
       "      <td>1.0</td>\n",
       "    </tr>\n",
       "    <tr>\n",
       "      <th>3</th>\n",
       "      <td>0.040014</td>\n",
       "      <td>1.0</td>\n",
       "    </tr>\n",
       "    <tr>\n",
       "      <th>4</th>\n",
       "      <td>0.079644</td>\n",
       "      <td>1.0</td>\n",
       "    </tr>\n",
       "    <tr>\n",
       "      <th>...</th>\n",
       "      <td>...</td>\n",
       "      <td>...</td>\n",
       "    </tr>\n",
       "    <tr>\n",
       "      <th>11894</th>\n",
       "      <td>0.703338</td>\n",
       "      <td>1.0</td>\n",
       "    </tr>\n",
       "    <tr>\n",
       "      <th>11895</th>\n",
       "      <td>0.517604</td>\n",
       "      <td>1.0</td>\n",
       "    </tr>\n",
       "    <tr>\n",
       "      <th>11896</th>\n",
       "      <td>0.524506</td>\n",
       "      <td>1.0</td>\n",
       "    </tr>\n",
       "    <tr>\n",
       "      <th>11897</th>\n",
       "      <td>0.527625</td>\n",
       "      <td>1.0</td>\n",
       "    </tr>\n",
       "    <tr>\n",
       "      <th>11898</th>\n",
       "      <td>0.427837</td>\n",
       "      <td>1.0</td>\n",
       "    </tr>\n",
       "  </tbody>\n",
       "</table>\n",
       "<p>11899 rows × 2 columns</p>\n",
       "</div>"
      ],
      "text/plain": [
       "          speed  Intercept\n",
       "0      0.015580        1.0\n",
       "1      0.017062        1.0\n",
       "2      0.027610        1.0\n",
       "3      0.040014        1.0\n",
       "4      0.079644        1.0\n",
       "...         ...        ...\n",
       "11894  0.703338        1.0\n",
       "11895  0.517604        1.0\n",
       "11896  0.524506        1.0\n",
       "11897  0.527625        1.0\n",
       "11898  0.427837        1.0\n",
       "\n",
       "[11899 rows x 2 columns]"
      ]
     },
     "execution_count": 53,
     "metadata": {},
     "output_type": "execute_result"
    }
   ],
   "source": [
    "maxSpeed = 35.76553174529567\n",
    "m = '1208'\n",
    "sess = m + '_BaselineA'\n",
    "data = getData(Files[1],['speed'],period ='Pre', mice=m, day = lambda x: x==0)\n",
    "\n",
    "\n",
    "ca = np.nanmean(getOnsetOrPeriod(m,sess,'Pre','caOnset_Hf'),axis=0,keepdims=True)\n",
    "speed = data[sess]['speed']['speed']\n",
    "speed = speed/maxSpeed\n",
    "speed[speed>1] = 1\n",
    "\n",
    "df = packData(speed,[\"speed\"])\n",
    "df"
   ]
  },
  {
   "cell_type": "code",
   "execution_count": 54,
   "id": "3c3ca125",
   "metadata": {
    "scrolled": false
   },
   "outputs": [
    {
     "name": "stderr",
     "output_type": "stream",
     "text": [
      "C:\\Users\\dzemel\\Miniconda3\\lib\\site-packages\\statsmodels\\genmod\\families\\family.py:735: RuntimeWarning: divide by zero encountered in log\n",
      "  ll_obs -= special.gammaln(weight_scale) + np.log(endog)\n",
      "C:\\Users\\dzemel\\Miniconda3\\lib\\site-packages\\statsmodels\\genmod\\families\\family.py:735: RuntimeWarning: divide by zero encountered in log\n",
      "  ll_obs -= special.gammaln(weight_scale) + np.log(endog)\n",
      "C:\\Users\\dzemel\\Miniconda3\\lib\\site-packages\\statsmodels\\genmod\\families\\family.py:735: RuntimeWarning: divide by zero encountered in log\n",
      "  ll_obs -= special.gammaln(weight_scale) + np.log(endog)\n"
     ]
    },
    {
     "name": "stdout",
     "output_type": "stream",
     "text": [
      "                 Generalized Linear Model Regression Results                  \n",
      "==============================================================================\n",
      "Dep. Variable:                      y   No. Observations:                 7933\n",
      "Model:                            GLM   Df Residuals:                     7931\n",
      "Model Family:                   Gamma   Df Model:                            1\n",
      "Link Function:                    log   Scale:                         0.89486\n",
      "Method:                          IRLS   Log-Likelihood:                    inf\n",
      "Date:                Wed, 06 Oct 2021   Deviance:                       53259.\n",
      "Time:                        16:37:39   Pearson chi2:                 7.10e+03\n",
      "No. Iterations:                    20                                         \n",
      "Covariance Type:            nonrobust                                         \n",
      "==============================================================================\n",
      "                 coef    std err          z      P>|z|      [0.025      0.975]\n",
      "------------------------------------------------------------------------------\n",
      "speed          1.4082      0.067     21.068      0.000       1.277       1.539\n",
      "Intercept     -4.1397      0.011   -363.075      0.000      -4.162      -4.117\n",
      "==============================================================================\n"
     ]
    },
    {
     "data": {
      "image/png": "[encoded data removed]",
      "text/plain": [
       "<Figure size 720x432 with 3 Axes>"
      ]
     },
     "metadata": {
      "needs_background": "light"
     },
     "output_type": "display_data"
    }
   ],
   "source": [
    "aic,model_results,b =trainModelSm(df,ca[0,:len(df)],k=3)\n",
    "# y_hut = np.exp(np.sum(model_results['2'].params*df,axis=1)) \n",
    "# y = df.speed.values\n",
    "# sci.stats.pearsonr(y,y_hut)\n",
    "# print(dff[0,:].shape,len(df))\n",
    "# b"
   ]
  },
  {
   "cell_type": "markdown",
   "id": "62698961",
   "metadata": {},
   "source": [
    "<h2> method #1: directly model neuron -> speed and compare residuals </h2>"
   ]
  },
  {
   "cell_type": "code",
   "execution_count": 9,
   "id": "81f08e40",
   "metadata": {
    "scrolled": true
   },
   "outputs": [
    {
     "name": "stderr",
     "output_type": "stream",
     "text": [
      "D:\\6OHDA\\IO.py:282: H5pyDeprecationWarning: dataset.value has been deprecated. Use dataset[()] instead.\n",
      "  dff = hf[m][s]['traces']['dff'].value\n",
      "D:\\6OHDA\\IO.py:152: H5pyDeprecationWarning: dataset.value has been deprecated. Use dataset[()] instead.\n",
      "  speed = hf[m][s]['mvmt']['speed'].value\n",
      "  0%|                                                                                           | 0/14 [00:00<?, ?it/s]<ipython-input-5-bcaa56cb2ae5>:13: UserWarning: length of names don't match number of columns, data transposed\n",
      "  warnings.warn(\"length of names don't match number of columns, data transposed\")\n"
     ]
    },
    {
     "name": "stdout",
     "output_type": "stream",
     "text": [
      "cleaning up trace data\n",
      "cleaning up speed data\n",
      "0761_BaselineA\n"
     ]
    },
    {
     "name": "stderr",
     "output_type": "stream",
     "text": [
      "C:\\Users\\dzemel\\Miniconda3\\lib\\site-packages\\statsmodels\\genmod\\families\\family.py:735: RuntimeWarning: divide by zero encountered in log\n",
      "  ll_obs -= special.gammaln(weight_scale) + np.log(endog)\n",
      "  7%|█████▉                                                                             | 1/14 [00:28<06:04, 28.02s/it]"
     ]
    },
    {
     "name": "stdout",
     "output_type": "stream",
     "text": [
      "0761_BaselineL\n"
     ]
    },
    {
     "name": "stderr",
     "output_type": "stream",
     "text": [
      "\r",
      " 14%|███████████▊                                                                       | 2/14 [00:49<05:11, 25.95s/it]"
     ]
    },
    {
     "name": "stdout",
     "output_type": "stream",
     "text": [
      "0761_BaselineS\n"
     ]
    },
    {
     "name": "stderr",
     "output_type": "stream",
     "text": [
      "\r",
      " 21%|█████████████████▊                                                                 | 3/14 [01:07<04:21, 23.82s/it]"
     ]
    },
    {
     "name": "stdout",
     "output_type": "stream",
     "text": [
      "0761_day1\n"
     ]
    },
    {
     "name": "stderr",
     "output_type": "stream",
     "text": [
      "\r",
      " 29%|███████████████████████▋                                                           | 4/14 [01:15<03:10, 19.01s/it]"
     ]
    },
    {
     "name": "stdout",
     "output_type": "stream",
     "text": [
      "0761_day10\n"
     ]
    },
    {
     "name": "stderr",
     "output_type": "stream",
     "text": [
      "\r",
      " 36%|█████████████████████████████▋                                                     | 5/14 [01:39<03:04, 20.51s/it]"
     ]
    },
    {
     "name": "stdout",
     "output_type": "stream",
     "text": [
      "0761_day12\n"
     ]
    },
    {
     "name": "stderr",
     "output_type": "stream",
     "text": [
      "\r",
      " 43%|███████████████████████████████████▌                                               | 6/14 [02:03<02:52, 21.54s/it]"
     ]
    },
    {
     "name": "stdout",
     "output_type": "stream",
     "text": [
      "0761_day14A\n"
     ]
    },
    {
     "name": "stderr",
     "output_type": "stream",
     "text": [
      "\r",
      " 50%|█████████████████████████████████████████▌                                         | 7/14 [02:12<02:04, 17.75s/it]"
     ]
    },
    {
     "name": "stdout",
     "output_type": "stream",
     "text": [
      "0761_day19L\n"
     ]
    },
    {
     "name": "stderr",
     "output_type": "stream",
     "text": [
      "\r",
      " 57%|███████████████████████████████████████████████▍                                   | 8/14 [02:25<01:37, 16.22s/it]"
     ]
    },
    {
     "name": "stdout",
     "output_type": "stream",
     "text": [
      "0761_day2\n"
     ]
    },
    {
     "name": "stderr",
     "output_type": "stream",
     "text": [
      "\r",
      " 64%|█████████████████████████████████████████████████████▎                             | 9/14 [02:41<01:20, 16.09s/it]"
     ]
    },
    {
     "name": "stdout",
     "output_type": "stream",
     "text": [
      "0761_day31A\n"
     ]
    },
    {
     "name": "stderr",
     "output_type": "stream",
     "text": [
      "\r",
      " 71%|██████████████████████████████████████████████████████████▌                       | 10/14 [03:15<01:26, 21.51s/it]"
     ]
    },
    {
     "name": "stdout",
     "output_type": "stream",
     "text": [
      "0761_day35L\n"
     ]
    },
    {
     "name": "stderr",
     "output_type": "stream",
     "text": [
      "\r",
      " 79%|████████████████████████████████████████████████████████████████▍                 | 11/14 [03:25<00:54, 18.12s/it]"
     ]
    },
    {
     "name": "stdout",
     "output_type": "stream",
     "text": [
      "0761_day4\n"
     ]
    },
    {
     "name": "stderr",
     "output_type": "stream",
     "text": [
      "\r",
      " 86%|██████████████████████████████████████████████████████████████████████▎           | 12/14 [03:48<00:39, 19.65s/it]"
     ]
    },
    {
     "name": "stdout",
     "output_type": "stream",
     "text": [
      "0761_day6\n"
     ]
    },
    {
     "name": "stderr",
     "output_type": "stream",
     "text": [
      "\r",
      " 93%|████████████████████████████████████████████████████████████████████████████▏     | 13/14 [04:15<00:21, 21.67s/it]"
     ]
    },
    {
     "name": "stdout",
     "output_type": "stream",
     "text": [
      "0761_day8\n"
     ]
    },
    {
     "name": "stderr",
     "output_type": "stream",
     "text": [
      "100%|██████████████████████████████████████████████████████████████████████████████████| 14/14 [04:48<00:00, 20.62s/it]\n",
      "  0%|                                                                                           | 0/14 [00:00<?, ?it/s]"
     ]
    },
    {
     "name": "stdout",
     "output_type": "stream",
     "text": [
      "cleaning up trace data\n",
      "cleaning up speed data\n",
      "1208_BaselineA\n"
     ]
    },
    {
     "name": "stderr",
     "output_type": "stream",
     "text": [
      "C:\\Users\\dzemel\\Miniconda3\\lib\\site-packages\\statsmodels\\genmod\\families\\links.py:517: RuntimeWarning: overflow encountered in exp\n",
      "  return np.exp(z)\n",
      "C:\\Users\\dzemel\\Miniconda3\\lib\\site-packages\\statsmodels\\genmod\\families\\family.py:697: RuntimeWarning: divide by zero encountered in true_divide\n",
      "  endog_mu = self._clean(endog / mu)\n",
      "C:\\Users\\dzemel\\Miniconda3\\lib\\site-packages\\statsmodels\\genmod\\families\\family.py:697: RuntimeWarning: invalid value encountered in true_divide\n",
      "  endog_mu = self._clean(endog / mu)\n",
      "C:\\Users\\dzemel\\Miniconda3\\lib\\site-packages\\statsmodels\\genmod\\families\\family.py:698: RuntimeWarning: divide by zero encountered in true_divide\n",
      "  resid_dev = -np.log(endog_mu) + (endog - mu) / mu\n",
      "C:\\Users\\dzemel\\Miniconda3\\lib\\site-packages\\statsmodels\\genmod\\families\\family.py:698: RuntimeWarning: invalid value encountered in true_divide\n",
      "  resid_dev = -np.log(endog_mu) + (endog - mu) / mu\n",
      "C:\\Users\\dzemel\\Miniconda3\\lib\\site-packages\\statsmodels\\genmod\\families\\family.py:698: RuntimeWarning: invalid value encountered in add\n",
      "  resid_dev = -np.log(endog_mu) + (endog - mu) / mu\n",
      "C:\\Users\\dzemel\\Miniconda3\\lib\\site-packages\\statsmodels\\genmod\\generalized_linear_model.py:798: RuntimeWarning: divide by zero encountered in true_divide\n",
      "  return np.sum(resid / self.family.variance(mu)) / self.df_resid\n",
      "C:\\Users\\dzemel\\Miniconda3\\lib\\site-packages\\statsmodels\\genmod\\generalized_linear_model.py:798: RuntimeWarning: invalid value encountered in true_divide\n",
      "  return np.sum(resid / self.family.variance(mu)) / self.df_resid\n",
      "C:\\Users\\dzemel\\Miniconda3\\lib\\site-packages\\statsmodels\\genmod\\families\\family.py:134: RuntimeWarning: invalid value encountered in multiply\n",
      "  return 1. / (self.link.deriv(mu)**2 * self.variance(mu))\n",
      "C:\\Users\\dzemel\\Miniconda3\\lib\\site-packages\\statsmodels\\genmod\\families\\family.py:134: RuntimeWarning: divide by zero encountered in true_divide\n",
      "  return 1. / (self.link.deriv(mu)**2 * self.variance(mu))\n",
      "C:\\Users\\dzemel\\Miniconda3\\lib\\site-packages\\statsmodels\\genmod\\generalized_linear_model.py:1198: RuntimeWarning: invalid value encountered in multiply\n",
      "  wlsendog = (lin_pred + self.family.link.deriv(mu) * (self.endog-mu)\n"
     ]
    },
    {
     "name": "stdout",
     "output_type": "stream",
     "text": [
      "1208_BaselineA failed iteration  21\n",
      "1208_BaselineA failed iteration  82\n"
     ]
    },
    {
     "name": "stderr",
     "output_type": "stream",
     "text": [
      "\r",
      "  7%|█████▊                                                                            | 1/14 [01:40<21:48, 100.67s/it]"
     ]
    },
    {
     "name": "stdout",
     "output_type": "stream",
     "text": [
      "1208_BaselineL\n"
     ]
    },
    {
     "name": "stderr",
     "output_type": "stream",
     "text": [
      "\r",
      " 14%|███████████▊                                                                       | 2/14 [03:09<19:24, 97.03s/it]"
     ]
    },
    {
     "name": "stdout",
     "output_type": "stream",
     "text": [
      "1208_BaselineS\n"
     ]
    },
    {
     "name": "stderr",
     "output_type": "stream",
     "text": [
      "\r",
      " 21%|█████████████████▌                                                                | 3/14 [05:02<18:41, 101.96s/it]"
     ]
    },
    {
     "name": "stdout",
     "output_type": "stream",
     "text": [
      "1208_day10\n"
     ]
    },
    {
     "name": "stderr",
     "output_type": "stream",
     "text": [
      "C:\\Users\\dzemel\\Miniconda3\\lib\\site-packages\\statsmodels\\genmod\\families\\family.py:697: RuntimeWarning: overflow encountered in true_divide\n",
      "  endog_mu = self._clean(endog / mu)\n",
      "C:\\Users\\dzemel\\Miniconda3\\lib\\site-packages\\statsmodels\\genmod\\families\\family.py:698: RuntimeWarning: overflow encountered in true_divide\n",
      "  resid_dev = -np.log(endog_mu) + (endog - mu) / mu\n",
      "C:\\Users\\dzemel\\Miniconda3\\lib\\site-packages\\statsmodels\\genmod\\families\\family.py:699: RuntimeWarning: overflow encountered in multiply\n",
      "  return 2 * resid_dev\n",
      "C:\\Users\\dzemel\\Miniconda3\\lib\\site-packages\\statsmodels\\genmod\\generalized_linear_model.py:797: RuntimeWarning: overflow encountered in power\n",
      "  resid = np.power(self.endog - mu, 2) * self.iweights\n",
      "C:\\Users\\dzemel\\Miniconda3\\lib\\site-packages\\statsmodels\\genmod\\families\\varfuncs.py:104: RuntimeWarning: overflow encountered in power\n",
      "  return np.power(np.fabs(mu), self.power)\n",
      "C:\\Users\\dzemel\\Miniconda3\\lib\\site-packages\\statsmodels\\genmod\\generalized_linear_model.py:798: RuntimeWarning: overflow encountered in true_divide\n",
      "  return np.sum(resid / self.family.variance(mu)) / self.df_resid\n"
     ]
    },
    {
     "name": "stdout",
     "output_type": "stream",
     "text": [
      "1208_day10 failed iteration  12\n",
      "1208_day10 failed iteration  36\n",
      "1208_day10 failed iteration  46\n"
     ]
    },
    {
     "name": "stderr",
     "output_type": "stream",
     "text": [
      "\r",
      " 29%|███████████████████████▍                                                          | 4/14 [06:50<17:18, 103.81s/it]"
     ]
    },
    {
     "name": "stdout",
     "output_type": "stream",
     "text": [
      "1208_day12\n",
      "1208_day12 failed iteration  39\n",
      "1208_day12 failed iteration  59\n"
     ]
    },
    {
     "name": "stderr",
     "output_type": "stream",
     "text": [
      "\r",
      " 36%|█████████████████████████████▎                                                    | 5/14 [08:30<15:23, 102.58s/it]"
     ]
    },
    {
     "name": "stdout",
     "output_type": "stream",
     "text": [
      "1208_day14\n"
     ]
    },
    {
     "name": "stderr",
     "output_type": "stream",
     "text": [
      "\r",
      " 43%|███████████████████████████████████▌                                               | 6/14 [09:29<11:54, 89.37s/it]"
     ]
    },
    {
     "name": "stdout",
     "output_type": "stream",
     "text": [
      "1208_day15A\n"
     ]
    },
    {
     "name": "stderr",
     "output_type": "stream",
     "text": [
      "\r",
      " 50%|█████████████████████████████████████████▌                                         | 7/14 [11:13<10:57, 93.94s/it]"
     ]
    },
    {
     "name": "stdout",
     "output_type": "stream",
     "text": [
      "1208_day19L\n"
     ]
    },
    {
     "name": "stderr",
     "output_type": "stream",
     "text": [
      "\r",
      " 57%|███████████████████████████████████████████████▍                                   | 8/14 [12:58<09:42, 97.16s/it]"
     ]
    },
    {
     "name": "stdout",
     "output_type": "stream",
     "text": [
      "1208_day2\n"
     ]
    },
    {
     "name": "stderr",
     "output_type": "stream",
     "text": [
      "\r",
      " 64%|████████████████████████████████████████████████████▋                             | 9/14 [14:47<08:24, 100.90s/it]"
     ]
    },
    {
     "name": "stdout",
     "output_type": "stream",
     "text": [
      "1208_day30A\n",
      "1208_day30A failed iteration  61\n"
     ]
    },
    {
     "name": "stderr",
     "output_type": "stream",
     "text": [
      "\r",
      " 71%|█████████████████████████████████████████████████████████▊                       | 10/14 [16:35<06:51, 102.80s/it]"
     ]
    },
    {
     "name": "stdout",
     "output_type": "stream",
     "text": [
      "1208_day34L\n",
      "1208_day34L failed iteration  19\n",
      "1208_day34L failed iteration  21\n",
      "1208_day34L failed iteration  30\n",
      "1208_day34L failed iteration  44\n",
      "1208_day34L failed iteration  57\n",
      "1208_day34L failed iteration  68\n",
      "1208_day34L failed iteration  90\n",
      "1208_day34L failed iteration  91\n"
     ]
    },
    {
     "name": "stderr",
     "output_type": "stream",
     "text": [
      "\r",
      " 79%|███████████████████████████████████████████████████████████████▋                 | 11/14 [18:15<05:05, 101.90s/it]"
     ]
    },
    {
     "name": "stdout",
     "output_type": "stream",
     "text": [
      "1208_day4\n"
     ]
    },
    {
     "name": "stderr",
     "output_type": "stream",
     "text": [
      "\r",
      " 86%|█████████████████████████████████████████████████████████████████████▍           | 12/14 [19:52<03:21, 100.61s/it]"
     ]
    },
    {
     "name": "stdout",
     "output_type": "stream",
     "text": [
      "1208_day6\n"
     ]
    },
    {
     "name": "stderr",
     "output_type": "stream",
     "text": [
      "\r",
      " 93%|████████████████████████████████████████████████████████████████████████████▏     | 13/14 [21:17<01:35, 95.98s/it]"
     ]
    },
    {
     "name": "stdout",
     "output_type": "stream",
     "text": [
      "1208_day8\n"
     ]
    },
    {
     "name": "stderr",
     "output_type": "stream",
     "text": [
      "100%|██████████████████████████████████████████████████████████████████████████████████| 14/14 [22:39<00:00, 97.09s/it]\n",
      "  0%|                                                                                           | 0/14 [00:00<?, ?it/s]"
     ]
    },
    {
     "name": "stdout",
     "output_type": "stream",
     "text": [
      "cleaning up trace data\n",
      "cleaning up speed data\n",
      "1222_BaselineA\n"
     ]
    },
    {
     "name": "stderr",
     "output_type": "stream",
     "text": [
      "\r",
      "  7%|█████▉                                                                             | 1/14 [00:55<11:55, 55.04s/it]"
     ]
    },
    {
     "name": "stdout",
     "output_type": "stream",
     "text": [
      "1222_BaselineL\n"
     ]
    },
    {
     "name": "stderr",
     "output_type": "stream",
     "text": [
      "\r",
      " 14%|███████████▊                                                                       | 2/14 [02:18<12:43, 63.61s/it]"
     ]
    },
    {
     "name": "stdout",
     "output_type": "stream",
     "text": [
      "1222_BaselineS\n"
     ]
    },
    {
     "name": "stderr",
     "output_type": "stream",
     "text": [
      "\r",
      " 21%|█████████████████▊                                                                 | 3/14 [03:46<12:58, 70.78s/it]"
     ]
    },
    {
     "name": "stdout",
     "output_type": "stream",
     "text": [
      "1222_day11\n"
     ]
    },
    {
     "name": "stderr",
     "output_type": "stream",
     "text": [
      "\r",
      " 29%|███████████████████████▋                                                           | 4/14 [03:51<08:32, 51.29s/it]"
     ]
    },
    {
     "name": "stdout",
     "output_type": "stream",
     "text": [
      "1222_day13\n"
     ]
    },
    {
     "name": "stderr",
     "output_type": "stream",
     "text": [
      "\r",
      " 36%|█████████████████████████████▋                                                     | 5/14 [04:03<05:54, 39.44s/it]"
     ]
    },
    {
     "name": "stdout",
     "output_type": "stream",
     "text": [
      "1222_day15A\n"
     ]
    },
    {
     "name": "stderr",
     "output_type": "stream",
     "text": [
      "\r",
      " 43%|███████████████████████████████████▌                                               | 6/14 [05:06<06:10, 46.32s/it]"
     ]
    },
    {
     "name": "stdout",
     "output_type": "stream",
     "text": [
      "1222_day2\n"
     ]
    },
    {
     "name": "stderr",
     "output_type": "stream",
     "text": [
      "\r",
      " 50%|█████████████████████████████████████████▌                                         | 7/14 [05:10<03:56, 33.77s/it]"
     ]
    },
    {
     "name": "stdout",
     "output_type": "stream",
     "text": [
      "1222_day20L\n"
     ]
    },
    {
     "name": "stderr",
     "output_type": "stream",
     "text": [
      "\r",
      " 57%|███████████████████████████████████████████████▍                                   | 8/14 [05:39<03:13, 32.22s/it]"
     ]
    },
    {
     "name": "stdout",
     "output_type": "stream",
     "text": [
      "1222_day3\n"
     ]
    },
    {
     "name": "stderr",
     "output_type": "stream",
     "text": [
      "\r",
      " 64%|█████████████████████████████████████████████████████▎                             | 9/14 [05:56<02:19, 27.80s/it]"
     ]
    },
    {
     "name": "stdout",
     "output_type": "stream",
     "text": [
      "1222_day32A\n"
     ]
    },
    {
     "name": "stderr",
     "output_type": "stream",
     "text": [
      "\r",
      " 71%|██████████████████████████████████████████████████████████▌                       | 10/14 [06:02<01:25, 21.27s/it]"
     ]
    },
    {
     "name": "stdout",
     "output_type": "stream",
     "text": [
      "1222_day36L\n"
     ]
    },
    {
     "name": "stderr",
     "output_type": "stream",
     "text": [
      "\r",
      " 79%|████████████████████████████████████████████████████████████████▍                 | 11/14 [06:46<01:24, 28.11s/it]"
     ]
    },
    {
     "name": "stdout",
     "output_type": "stream",
     "text": [
      "1222_day5\n"
     ]
    },
    {
     "name": "stderr",
     "output_type": "stream",
     "text": [
      "\r",
      " 86%|██████████████████████████████████████████████████████████████████████▎           | 12/14 [06:50<00:41, 20.74s/it]"
     ]
    },
    {
     "name": "stdout",
     "output_type": "stream",
     "text": [
      "1222_day7\n"
     ]
    },
    {
     "name": "stderr",
     "output_type": "stream",
     "text": [
      "\r",
      " 93%|████████████████████████████████████████████████████████████████████████████▏     | 13/14 [06:55<00:16, 16.14s/it]"
     ]
    },
    {
     "name": "stdout",
     "output_type": "stream",
     "text": [
      "1222_day9\n"
     ]
    },
    {
     "name": "stderr",
     "output_type": "stream",
     "text": [
      "100%|██████████████████████████████████████████████████████████████████████████████████| 14/14 [07:03<00:00, 30.23s/it]\n",
      "  0%|                                                                                            | 0/3 [00:00<?, ?it/s]"
     ]
    },
    {
     "name": "stdout",
     "output_type": "stream",
     "text": [
      "cleaning up trace data\n",
      "cleaning up speed data\n",
      "1231_BaselineA\n"
     ]
    },
    {
     "name": "stderr",
     "output_type": "stream",
     "text": [
      "\r",
      " 33%|███████████████████████████▋                                                       | 1/3 [01:44<03:29, 104.54s/it]"
     ]
    },
    {
     "name": "stdout",
     "output_type": "stream",
     "text": [
      "1231_BaselineL\n"
     ]
    },
    {
     "name": "stderr",
     "output_type": "stream",
     "text": [
      "\r",
      " 67%|████████████████████████████████████████████████████████                            | 2/3 [02:58<01:35, 95.46s/it]"
     ]
    },
    {
     "name": "stdout",
     "output_type": "stream",
     "text": [
      "1231_BaselineS\n"
     ]
    },
    {
     "name": "stderr",
     "output_type": "stream",
     "text": [
      "100%|████████████████████████████████████████████████████████████████████████████████████| 3/3 [04:20<00:00, 86.99s/it]\n",
      "C:\\Users\\dzemel\\Miniconda3\\lib\\site-packages\\numpy\\lib\\histograms.py:905: RuntimeWarning: invalid value encountered in true_divide\n",
      "  return n/db/n.sum(), bin_edges\n",
      "  0%|                                                                                           | 0/14 [00:00<?, ?it/s]"
     ]
    },
    {
     "name": "stdout",
     "output_type": "stream",
     "text": [
      "cleaning up trace data\n",
      "cleaning up speed data\n",
      "1236_BaselineA\n",
      "1236_BaselineA failed iteration  78\n"
     ]
    },
    {
     "name": "stderr",
     "output_type": "stream",
     "text": [
      "\r",
      "  7%|█████▊                                                                            | 1/14 [02:01<26:16, 121.24s/it]"
     ]
    },
    {
     "name": "stdout",
     "output_type": "stream",
     "text": [
      "1236_BaselineL\n"
     ]
    },
    {
     "name": "stderr",
     "output_type": "stream",
     "text": [
      "\r",
      " 14%|███████████▋                                                                      | 2/14 [03:04<20:47, 103.96s/it]"
     ]
    },
    {
     "name": "stdout",
     "output_type": "stream",
     "text": [
      "1236_BaselineS\n"
     ]
    },
    {
     "name": "stderr",
     "output_type": "stream",
     "text": [
      "\r",
      " 21%|█████████████████▊                                                                 | 3/14 [04:32<18:09, 99.06s/it]"
     ]
    },
    {
     "name": "stdout",
     "output_type": "stream",
     "text": [
      "1236_day1\n"
     ]
    },
    {
     "name": "stderr",
     "output_type": "stream",
     "text": [
      "\r",
      " 29%|███████████████████████▍                                                          | 4/14 [06:46<18:14, 109.48s/it]"
     ]
    },
    {
     "name": "stdout",
     "output_type": "stream",
     "text": [
      "1236_day11\n"
     ]
    },
    {
     "name": "stderr",
     "output_type": "stream",
     "text": [
      "\r",
      " 36%|█████████████████████████████▎                                                    | 5/14 [09:00<17:33, 117.01s/it]"
     ]
    },
    {
     "name": "stdout",
     "output_type": "stream",
     "text": [
      "1236_day13\n"
     ]
    },
    {
     "name": "stderr",
     "output_type": "stream",
     "text": [
      "\r",
      " 43%|███████████████████████████████████▏                                              | 6/14 [10:54<15:28, 116.06s/it]"
     ]
    },
    {
     "name": "stdout",
     "output_type": "stream",
     "text": [
      "1236_day15A\n"
     ]
    },
    {
     "name": "stderr",
     "output_type": "stream",
     "text": [
      "\r",
      " 50%|█████████████████████████████████████████                                         | 7/14 [12:16<12:19, 105.66s/it]"
     ]
    },
    {
     "name": "stdout",
     "output_type": "stream",
     "text": [
      "1236_day19L\n"
     ]
    },
    {
     "name": "stderr",
     "output_type": "stream",
     "text": [
      "\r",
      " 57%|██████████████████████████████████████████████▊                                   | 8/14 [13:58<10:27, 104.65s/it]"
     ]
    },
    {
     "name": "stdout",
     "output_type": "stream",
     "text": [
      "1236_day3\n"
     ]
    },
    {
     "name": "stderr",
     "output_type": "stream",
     "text": [
      "\r",
      " 64%|█████████████████████████████████████████████████████▎                             | 9/14 [14:50<07:23, 88.80s/it]"
     ]
    },
    {
     "name": "stdout",
     "output_type": "stream",
     "text": [
      "1236_day30A\n",
      "1236_day30A failed iteration  8\n",
      "1236_day30A failed iteration  21\n",
      "1236_day30A failed iteration  89\n"
     ]
    },
    {
     "name": "stderr",
     "output_type": "stream",
     "text": [
      "\r",
      " 71%|██████████████████████████████████████████████████████████▌                       | 10/14 [16:30<06:08, 92.19s/it]"
     ]
    },
    {
     "name": "stdout",
     "output_type": "stream",
     "text": [
      "1236_day35L\n",
      "1236_day35L failed iteration  2\n",
      "1236_day35L failed iteration  5\n",
      "1236_day35L failed iteration  12\n",
      "1236_day35L failed iteration  13\n",
      "1236_day35L failed iteration  15\n",
      "1236_day35L failed iteration  16\n",
      "1236_day35L failed iteration  17\n",
      "1236_day35L failed iteration  22\n",
      "1236_day35L failed iteration  23\n",
      "1236_day35L failed iteration  25\n",
      "1236_day35L failed iteration  27\n",
      "1236_day35L failed iteration  32\n",
      "1236_day35L failed iteration  36\n",
      "1236_day35L failed iteration  41\n",
      "1236_day35L failed iteration  43\n",
      "1236_day35L failed iteration  45\n",
      "1236_day35L failed iteration  47\n",
      "1236_day35L failed iteration  48\n",
      "1236_day35L failed iteration  49\n",
      "1236_day35L failed iteration  50\n",
      "1236_day35L failed iteration  51\n",
      "1236_day35L failed iteration  53\n",
      "1236_day35L failed iteration  54\n",
      "1236_day35L failed iteration  55\n",
      "1236_day35L failed iteration  57\n",
      "1236_day35L failed iteration  58\n",
      "1236_day35L failed iteration  59\n",
      "1236_day35L failed iteration  63\n",
      "1236_day35L failed iteration  64\n",
      "1236_day35L failed iteration  65\n",
      "1236_day35L failed iteration  66\n",
      "1236_day35L failed iteration  68\n",
      "1236_day35L failed iteration  70\n",
      "1236_day35L failed iteration  72\n",
      "1236_day35L failed iteration  73\n",
      "1236_day35L failed iteration  74\n",
      "1236_day35L failed iteration  75\n",
      "1236_day35L failed iteration  76\n",
      "1236_day35L failed iteration  77\n",
      "1236_day35L failed iteration  78\n",
      "1236_day35L failed iteration  82\n",
      "1236_day35L failed iteration  83\n",
      "1236_day35L failed iteration  84\n",
      "1236_day35L failed iteration  87\n",
      "1236_day35L failed iteration  88\n",
      "1236_day35L failed iteration  90\n",
      "1236_day35L failed iteration  96\n",
      "1236_day35L failed iteration  97\n"
     ]
    },
    {
     "name": "stderr",
     "output_type": "stream",
     "text": [
      "\r",
      " 79%|████████████████████████████████████████████████████████████████▍                 | 11/14 [17:30<04:08, 82.71s/it]"
     ]
    },
    {
     "name": "stdout",
     "output_type": "stream",
     "text": [
      "1236_day35L failed iteration  98\n",
      "1236_day35L failed iteration  99\n",
      "1236_day5\n"
     ]
    },
    {
     "name": "stderr",
     "output_type": "stream",
     "text": [
      "\r",
      " 86%|██████████████████████████████████████████████████████████████████████▎           | 12/14 [18:32<02:32, 76.26s/it]"
     ]
    },
    {
     "name": "stdout",
     "output_type": "stream",
     "text": [
      "1236_day7\n"
     ]
    },
    {
     "name": "stderr",
     "output_type": "stream",
     "text": [
      "\r",
      " 93%|████████████████████████████████████████████████████████████████████████████▏     | 13/14 [19:12<01:05, 65.61s/it]"
     ]
    },
    {
     "name": "stdout",
     "output_type": "stream",
     "text": [
      "1236_day9\n"
     ]
    },
    {
     "name": "stderr",
     "output_type": "stream",
     "text": [
      "100%|██████████████████████████████████████████████████████████████████████████████████| 14/14 [20:58<00:00, 89.89s/it]\n",
      "  0%|                                                                                            | 0/3 [00:00<?, ?it/s]"
     ]
    },
    {
     "name": "stdout",
     "output_type": "stream",
     "text": [
      "cleaning up trace data\n",
      "cleaning up speed data\n",
      "1253_BaselineA\n"
     ]
    },
    {
     "name": "stderr",
     "output_type": "stream",
     "text": [
      "\r",
      " 33%|████████████████████████████                                                        | 1/3 [01:02<02:05, 62.67s/it]"
     ]
    },
    {
     "name": "stdout",
     "output_type": "stream",
     "text": [
      "1253_BaselineL\n"
     ]
    },
    {
     "name": "stderr",
     "output_type": "stream",
     "text": [
      "\r",
      " 67%|████████████████████████████████████████████████████████                            | 2/3 [02:26<01:09, 69.01s/it]"
     ]
    },
    {
     "name": "stdout",
     "output_type": "stream",
     "text": [
      "1253_BaselineS\n"
     ]
    },
    {
     "name": "stderr",
     "output_type": "stream",
     "text": [
      "100%|████████████████████████████████████████████████████████████████████████████████████| 3/3 [03:22<00:00, 67.38s/it]\n",
      "  0%|                                                                                           | 0/14 [00:00<?, ?it/s]"
     ]
    },
    {
     "name": "stdout",
     "output_type": "stream",
     "text": [
      "cleaning up trace data\n",
      "cleaning up speed data\n",
      "1793_BaselineA\n",
      "1793_BaselineA failed iteration  4\n",
      "1793_BaselineA failed iteration  9\n",
      "1793_BaselineA failed iteration  24\n",
      "1793_BaselineA failed iteration  38\n",
      "1793_BaselineA failed iteration  44\n",
      "1793_BaselineA failed iteration  56\n",
      "1793_BaselineA failed iteration  64\n",
      "1793_BaselineA failed iteration  75\n",
      "1793_BaselineA failed iteration  80\n",
      "1793_BaselineA failed iteration  81\n",
      "1793_BaselineA failed iteration  86\n",
      "1793_BaselineA failed iteration  90\n"
     ]
    },
    {
     "name": "stderr",
     "output_type": "stream",
     "text": [
      "\r",
      "  7%|█████▉                                                                             | 1/14 [01:32<19:58, 92.21s/it]"
     ]
    },
    {
     "name": "stdout",
     "output_type": "stream",
     "text": [
      "1793_BaselineL\n"
     ]
    },
    {
     "name": "stderr",
     "output_type": "stream",
     "text": [
      "\r",
      " 14%|███████████▊                                                                       | 2/14 [02:57<18:00, 90.07s/it]"
     ]
    },
    {
     "name": "stdout",
     "output_type": "stream",
     "text": [
      "1793_BaselineS\n"
     ]
    },
    {
     "name": "stderr",
     "output_type": "stream",
     "text": [
      "\r",
      " 21%|█████████████████▊                                                                 | 3/14 [04:05<15:18, 83.50s/it]"
     ]
    },
    {
     "name": "stdout",
     "output_type": "stream",
     "text": [
      "1793_day10\n",
      "1793_day10 failed iteration  34\n",
      "1793_day10 failed iteration  64\n",
      "1793_day10 failed iteration  73\n"
     ]
    },
    {
     "name": "stderr",
     "output_type": "stream",
     "text": [
      "\r",
      " 29%|███████████████████████▋                                                           | 4/14 [06:09<15:56, 95.65s/it]"
     ]
    },
    {
     "name": "stdout",
     "output_type": "stream",
     "text": [
      "1793_day12\n"
     ]
    },
    {
     "name": "stderr",
     "output_type": "stream",
     "text": [
      "\r",
      " 36%|█████████████████████████████▎                                                    | 5/14 [08:08<15:24, 102.73s/it]"
     ]
    },
    {
     "name": "stdout",
     "output_type": "stream",
     "text": [
      "1793_day14\n",
      "1793_day14 failed iteration  9\n",
      "1793_day14 failed iteration  17\n",
      "1793_day14 failed iteration  31\n",
      "1793_day14 failed iteration  36\n",
      "1793_day14 failed iteration  37\n",
      "1793_day14 failed iteration  49\n",
      "1793_day14 failed iteration  55\n",
      "1793_day14 failed iteration  58\n",
      "1793_day14 failed iteration  63\n",
      "1793_day14 failed iteration  69\n",
      "1793_day14 failed iteration  77\n",
      "1793_day14 failed iteration  79\n",
      "1793_day14 failed iteration  85\n",
      "1793_day14 failed iteration  89\n"
     ]
    },
    {
     "name": "stderr",
     "output_type": "stream",
     "text": [
      "\r",
      " 43%|███████████████████████████████████▏                                              | 6/14 [10:02<14:08, 106.02s/it]"
     ]
    },
    {
     "name": "stdout",
     "output_type": "stream",
     "text": [
      "1793_day15A\n",
      "1793_day15A failed iteration  2\n",
      "1793_day15A failed iteration  40\n",
      "1793_day15A failed iteration  57\n",
      "1793_day15A failed iteration  82\n"
     ]
    },
    {
     "name": "stderr",
     "output_type": "stream",
     "text": [
      "\r",
      " 50%|█████████████████████████████████████████                                         | 7/14 [12:06<12:59, 111.36s/it]"
     ]
    },
    {
     "name": "stdout",
     "output_type": "stream",
     "text": [
      "1793_day19L\n"
     ]
    },
    {
     "name": "stderr",
     "output_type": "stream",
     "text": [
      "\r",
      " 57%|██████████████████████████████████████████████▊                                   | 8/14 [13:26<10:12, 102.12s/it]"
     ]
    },
    {
     "name": "stdout",
     "output_type": "stream",
     "text": [
      "1793_day2\n"
     ]
    },
    {
     "name": "stderr",
     "output_type": "stream",
     "text": [
      "\r",
      " 64%|█████████████████████████████████████████████████████▎                             | 9/14 [14:14<07:09, 85.84s/it]"
     ]
    },
    {
     "name": "stdout",
     "output_type": "stream",
     "text": [
      "1793_day30A\n"
     ]
    },
    {
     "name": "stderr",
     "output_type": "stream",
     "text": [
      "\r",
      " 71%|██████████████████████████████████████████████████████████▌                       | 10/14 [15:59<06:06, 91.61s/it]"
     ]
    },
    {
     "name": "stdout",
     "output_type": "stream",
     "text": [
      "1793_day34L\n"
     ]
    },
    {
     "name": "stderr",
     "output_type": "stream",
     "text": [
      "\r",
      " 79%|████████████████████████████████████████████████████████████████▍                 | 11/14 [17:42<04:45, 95.07s/it]"
     ]
    },
    {
     "name": "stdout",
     "output_type": "stream",
     "text": [
      "1793_day4\n"
     ]
    },
    {
     "name": "stderr",
     "output_type": "stream",
     "text": [
      "\r",
      " 86%|██████████████████████████████████████████████████████████████████████▎           | 12/14 [19:14<03:07, 93.97s/it]"
     ]
    },
    {
     "name": "stdout",
     "output_type": "stream",
     "text": [
      "1793_day6\n"
     ]
    },
    {
     "name": "stderr",
     "output_type": "stream",
     "text": [
      "\r",
      " 93%|████████████████████████████████████████████████████████████████████████████▏     | 13/14 [20:46<01:33, 93.47s/it]"
     ]
    },
    {
     "name": "stdout",
     "output_type": "stream",
     "text": [
      "1793_day8\n"
     ]
    },
    {
     "name": "stderr",
     "output_type": "stream",
     "text": [
      "100%|██████████████████████████████████████████████████████████████████████████████████| 14/14 [22:33<00:00, 96.67s/it]\n",
      "  0%|                                                                                           | 0/14 [00:00<?, ?it/s]"
     ]
    },
    {
     "name": "stdout",
     "output_type": "stream",
     "text": [
      "cleaning up trace data\n",
      "cleaning up speed data\n",
      "2976_BaselineA\n"
     ]
    },
    {
     "name": "stderr",
     "output_type": "stream",
     "text": [
      "\r",
      "  7%|█████▉                                                                             | 1/14 [01:36<20:51, 96.28s/it]"
     ]
    },
    {
     "name": "stdout",
     "output_type": "stream",
     "text": [
      "2976_BaselineL\n"
     ]
    },
    {
     "name": "stderr",
     "output_type": "stream",
     "text": [
      "\r",
      " 14%|███████████▊                                                                       | 2/14 [02:31<16:47, 83.98s/it]"
     ]
    },
    {
     "name": "stdout",
     "output_type": "stream",
     "text": [
      "2976_BaselineS\n"
     ]
    },
    {
     "name": "stderr",
     "output_type": "stream",
     "text": [
      "\r",
      " 21%|█████████████████▊                                                                 | 3/14 [03:40<14:32, 79.34s/it]"
     ]
    },
    {
     "name": "stdout",
     "output_type": "stream",
     "text": [
      "2976_day10\n"
     ]
    },
    {
     "name": "stderr",
     "output_type": "stream",
     "text": [
      "\r",
      " 29%|███████████████████████▋                                                           | 4/14 [04:15<11:03, 66.32s/it]"
     ]
    },
    {
     "name": "stdout",
     "output_type": "stream",
     "text": [
      "2976_day12\n"
     ]
    },
    {
     "name": "stderr",
     "output_type": "stream",
     "text": [
      "\r",
      " 36%|█████████████████████████████▋                                                     | 5/14 [04:46<08:20, 55.63s/it]"
     ]
    },
    {
     "name": "stdout",
     "output_type": "stream",
     "text": [
      "2976_day14\n"
     ]
    },
    {
     "name": "stderr",
     "output_type": "stream",
     "text": [
      "\r",
      " 43%|███████████████████████████████████▌                                               | 6/14 [05:28<06:52, 51.54s/it]"
     ]
    },
    {
     "name": "stdout",
     "output_type": "stream",
     "text": [
      "2976_day15A\n"
     ]
    },
    {
     "name": "stderr",
     "output_type": "stream",
     "text": [
      "\r",
      " 50%|█████████████████████████████████████████▌                                         | 7/14 [06:05<05:30, 47.19s/it]"
     ]
    },
    {
     "name": "stdout",
     "output_type": "stream",
     "text": [
      "2976_day19L\n"
     ]
    },
    {
     "name": "stderr",
     "output_type": "stream",
     "text": [
      "\r",
      " 57%|███████████████████████████████████████████████▍                                   | 8/14 [06:43<04:25, 44.23s/it]"
     ]
    },
    {
     "name": "stdout",
     "output_type": "stream",
     "text": [
      "2976_day2\n",
      "2976_day2 failed iteration  4\n",
      "2976_day2 failed iteration  7\n",
      "2976_day2 failed iteration  20\n",
      "2976_day2 failed iteration  24\n",
      "2976_day2 failed iteration  53\n",
      "2976_day2 failed iteration  74\n",
      "2976_day2 failed iteration  80\n",
      "2976_day2 failed iteration  87\n",
      "2976_day2 failed iteration  88\n",
      "2976_day2 failed iteration  89\n",
      "2976_day2 failed iteration  93\n"
     ]
    },
    {
     "name": "stderr",
     "output_type": "stream",
     "text": [
      "\r",
      " 64%|█████████████████████████████████████████████████████▎                             | 9/14 [08:27<05:10, 62.17s/it]"
     ]
    },
    {
     "name": "stdout",
     "output_type": "stream",
     "text": [
      "2976_day30A\n"
     ]
    },
    {
     "name": "stderr",
     "output_type": "stream",
     "text": [
      "\r",
      " 71%|██████████████████████████████████████████████████████████▌                       | 10/14 [09:05<03:40, 55.02s/it]"
     ]
    },
    {
     "name": "stdout",
     "output_type": "stream",
     "text": [
      "2976_day35L\n"
     ]
    },
    {
     "name": "stderr",
     "output_type": "stream",
     "text": [
      "\r",
      " 79%|████████████████████████████████████████████████████████████████▍                 | 11/14 [09:48<02:33, 51.29s/it]"
     ]
    },
    {
     "name": "stdout",
     "output_type": "stream",
     "text": [
      "2976_day4\n"
     ]
    },
    {
     "name": "stderr",
     "output_type": "stream",
     "text": [
      "\r",
      " 86%|██████████████████████████████████████████████████████████████████████▎           | 12/14 [11:42<02:20, 70.29s/it]"
     ]
    },
    {
     "name": "stdout",
     "output_type": "stream",
     "text": [
      "2976_day6\n"
     ]
    },
    {
     "name": "stderr",
     "output_type": "stream",
     "text": [
      "\r",
      " 93%|████████████████████████████████████████████████████████████████████████████▏     | 13/14 [12:28<01:02, 62.82s/it]"
     ]
    },
    {
     "name": "stdout",
     "output_type": "stream",
     "text": [
      "2976_day8\n"
     ]
    },
    {
     "name": "stderr",
     "output_type": "stream",
     "text": [
      "100%|██████████████████████████████████████████████████████████████████████████████████| 14/14 [13:07<00:00, 56.28s/it]\n",
      "  0%|                                                                                           | 0/14 [00:00<?, ?it/s]"
     ]
    },
    {
     "name": "stdout",
     "output_type": "stream",
     "text": [
      "cleaning up trace data\n",
      "cleaning up speed data\n",
      "2980_BaselineA\n"
     ]
    },
    {
     "name": "stderr",
     "output_type": "stream",
     "text": [
      "\r",
      "  7%|█████▊                                                                            | 1/14 [02:04<26:58, 124.47s/it]"
     ]
    },
    {
     "name": "stdout",
     "output_type": "stream",
     "text": [
      "2980_BaselineL\n"
     ]
    },
    {
     "name": "stderr",
     "output_type": "stream",
     "text": [
      "\r",
      " 14%|███████████▋                                                                      | 2/14 [04:05<24:41, 123.46s/it]"
     ]
    },
    {
     "name": "stdout",
     "output_type": "stream",
     "text": [
      "2980_BaselineS\n"
     ]
    },
    {
     "name": "stderr",
     "output_type": "stream",
     "text": [
      "\r",
      " 21%|█████████████████▌                                                                | 3/14 [05:47<21:28, 117.13s/it]"
     ]
    },
    {
     "name": "stdout",
     "output_type": "stream",
     "text": [
      "2980_day10\n",
      "2980_day10 failed iteration  0\n",
      "2980_day10 failed iteration  1\n",
      "2980_day10 failed iteration  2\n",
      "2980_day10 failed iteration  3\n",
      "2980_day10 failed iteration  4\n",
      "2980_day10 failed iteration  5\n",
      "2980_day10 failed iteration  6\n",
      "2980_day10 failed iteration  7\n",
      "2980_day10 failed iteration  8\n",
      "2980_day10 failed iteration  9\n",
      "2980_day10 failed iteration  10\n",
      "2980_day10 failed iteration  11\n",
      "2980_day10 failed iteration  12\n",
      "2980_day10 failed iteration  13\n",
      "2980_day10 failed iteration  14\n",
      "2980_day10 failed iteration  15\n",
      "2980_day10 failed iteration  16\n",
      "2980_day10 failed iteration  17\n",
      "2980_day10 failed iteration  18\n",
      "2980_day10 failed iteration  19\n",
      "2980_day10 failed iteration  20\n",
      "2980_day10 failed iteration  21\n",
      "2980_day10 failed iteration  22\n",
      "2980_day10 failed iteration  23\n",
      "2980_day10 failed iteration  24\n",
      "2980_day10 failed iteration  25\n",
      "2980_day10 failed iteration  26\n",
      "2980_day10 failed iteration  27\n",
      "2980_day10 failed iteration  28\n",
      "2980_day10 failed iteration  29\n",
      "2980_day10 failed iteration  30\n",
      "2980_day10 failed iteration  31\n",
      "2980_day10 failed iteration  32\n",
      "2980_day10 failed iteration  33\n",
      "2980_day10 failed iteration  34\n",
      "2980_day10 failed iteration  35\n",
      "2980_day10 failed iteration  36\n",
      "2980_day10 failed iteration  37\n",
      "2980_day10 failed iteration  38\n",
      "2980_day10 failed iteration  39\n",
      "2980_day10 failed iteration  40\n",
      "2980_day10 failed iteration  41\n",
      "2980_day10 failed iteration  42\n",
      "2980_day10 failed iteration  43\n",
      "2980_day10 failed iteration  44\n",
      "2980_day10 failed iteration  45\n",
      "2980_day10 failed iteration  46\n",
      "2980_day10 failed iteration  47\n",
      "2980_day10 failed iteration  48\n",
      "2980_day10 failed iteration  49\n",
      "2980_day10 failed iteration  50\n",
      "2980_day10 failed iteration  51\n",
      "2980_day10 failed iteration  52\n",
      "2980_day10 failed iteration  53\n",
      "2980_day10 failed iteration  54\n",
      "2980_day10 failed iteration  55\n",
      "2980_day10 failed iteration  56\n",
      "2980_day10 failed iteration  57\n",
      "2980_day10 failed iteration  58\n",
      "2980_day10 failed iteration  59\n",
      "2980_day10 failed iteration  60\n",
      "2980_day10 failed iteration  61\n",
      "2980_day10 failed iteration  62\n",
      "2980_day10 failed iteration  63\n",
      "2980_day10 failed iteration  64\n",
      "2980_day10 failed iteration  65\n",
      "2980_day10 failed iteration  66\n",
      "2980_day10 failed iteration  67\n",
      "2980_day10 failed iteration  68\n",
      "2980_day10 failed iteration  69\n",
      "2980_day10 failed iteration  70\n",
      "2980_day10 failed iteration  71\n",
      "2980_day10 failed iteration  72\n",
      "2980_day10 failed iteration  73\n",
      "2980_day10 failed iteration  74\n",
      "2980_day10 failed iteration  75\n",
      "2980_day10 failed iteration  76\n",
      "2980_day10 failed iteration  77\n",
      "2980_day10 failed iteration  78\n",
      "2980_day10 failed iteration  79\n",
      "2980_day10 failed iteration  80\n",
      "2980_day10 failed iteration  81\n",
      "2980_day10 failed iteration  82\n",
      "2980_day10 failed iteration  83\n",
      "2980_day10 failed iteration  84\n",
      "2980_day10 failed iteration  85\n",
      "2980_day10 failed iteration  86\n",
      "2980_day10 failed iteration  87\n",
      "2980_day10 failed iteration  88\n",
      "2980_day10 failed iteration  89\n",
      "2980_day10 failed iteration  90\n",
      "2980_day10 failed iteration  91\n",
      "2980_day10 failed iteration  92\n",
      "2980_day10 failed iteration  93\n",
      "2980_day10 failed iteration  94\n",
      "2980_day10 failed iteration  95\n",
      "2980_day10 failed iteration  96\n",
      "2980_day10 failed iteration  97\n",
      "2980_day10 failed iteration  98\n"
     ]
    },
    {
     "name": "stderr",
     "output_type": "stream",
     "text": [
      "\r",
      " 29%|███████████████████████▋                                                           | 4/14 [06:13<14:58, 89.80s/it]"
     ]
    },
    {
     "name": "stdout",
     "output_type": "stream",
     "text": [
      "2980_day10 failed iteration  99\n",
      "2980_day12\n"
     ]
    },
    {
     "name": "stderr",
     "output_type": "stream",
     "text": [
      "\r",
      " 36%|█████████████████████████████▋                                                     | 5/14 [06:42<10:42, 71.38s/it]"
     ]
    },
    {
     "name": "stdout",
     "output_type": "stream",
     "text": [
      "2980_day14\n"
     ]
    },
    {
     "name": "stderr",
     "output_type": "stream",
     "text": [
      "\r",
      " 43%|███████████████████████████████████▌                                               | 6/14 [07:53<09:29, 71.16s/it]"
     ]
    },
    {
     "name": "stdout",
     "output_type": "stream",
     "text": [
      "2980_day15A\n",
      "2980_day15A failed iteration  90\n"
     ]
    },
    {
     "name": "stderr",
     "output_type": "stream",
     "text": [
      "\r",
      " 50%|█████████████████████████████████████████▌                                         | 7/14 [09:35<09:23, 80.43s/it]"
     ]
    },
    {
     "name": "stdout",
     "output_type": "stream",
     "text": [
      "2980_day19L\n"
     ]
    },
    {
     "name": "stderr",
     "output_type": "stream",
     "text": [
      "\r",
      " 57%|███████████████████████████████████████████████▍                                   | 8/14 [11:05<08:19, 83.33s/it]"
     ]
    },
    {
     "name": "stdout",
     "output_type": "stream",
     "text": [
      "2980_day2\n"
     ]
    },
    {
     "name": "stderr",
     "output_type": "stream",
     "text": [
      "\r",
      " 64%|█████████████████████████████████████████████████████▎                             | 9/14 [11:53<06:03, 72.69s/it]"
     ]
    },
    {
     "name": "stdout",
     "output_type": "stream",
     "text": [
      "2980_day30A\n"
     ]
    },
    {
     "name": "stderr",
     "output_type": "stream",
     "text": [
      "\r",
      " 71%|██████████████████████████████████████████████████████████▌                       | 10/14 [13:32<05:22, 80.60s/it]"
     ]
    },
    {
     "name": "stdout",
     "output_type": "stream",
     "text": [
      "2980_day35L\n"
     ]
    },
    {
     "name": "stderr",
     "output_type": "stream",
     "text": [
      "\r",
      " 79%|████████████████████████████████████████████████████████████████▍                 | 11/14 [15:07<04:14, 84.92s/it]"
     ]
    },
    {
     "name": "stdout",
     "output_type": "stream",
     "text": [
      "2980_day4\n"
     ]
    },
    {
     "name": "stderr",
     "output_type": "stream",
     "text": [
      "\r",
      " 86%|██████████████████████████████████████████████████████████████████████▎           | 12/14 [15:45<02:22, 71.08s/it]"
     ]
    },
    {
     "name": "stdout",
     "output_type": "stream",
     "text": [
      "2980_day6\n"
     ]
    },
    {
     "name": "stderr",
     "output_type": "stream",
     "text": [
      "\r",
      " 93%|████████████████████████████████████████████████████████████████████████████▏     | 13/14 [16:27<01:02, 62.11s/it]"
     ]
    },
    {
     "name": "stdout",
     "output_type": "stream",
     "text": [
      "2980_day8\n"
     ]
    },
    {
     "name": "stderr",
     "output_type": "stream",
     "text": [
      "100%|██████████████████████████████████████████████████████████████████████████████████| 14/14 [16:50<00:00, 72.14s/it]\n",
      "  0%|                                                                                           | 0/14 [00:00<?, ?it/s]"
     ]
    },
    {
     "name": "stdout",
     "output_type": "stream",
     "text": [
      "cleaning up trace data\n",
      "cleaning up speed data\n",
      "2981_BaselineA\n"
     ]
    },
    {
     "name": "stderr",
     "output_type": "stream",
     "text": [
      "\r",
      "  7%|█████▉                                                                             | 1/14 [01:21<17:42, 81.77s/it]"
     ]
    },
    {
     "name": "stdout",
     "output_type": "stream",
     "text": [
      "2981_BaselineL\n"
     ]
    },
    {
     "name": "stderr",
     "output_type": "stream",
     "text": [
      "\r",
      " 14%|███████████▊                                                                       | 2/14 [02:46<16:32, 82.69s/it]"
     ]
    },
    {
     "name": "stdout",
     "output_type": "stream",
     "text": [
      "2981_BaselineS\n"
     ]
    },
    {
     "name": "stderr",
     "output_type": "stream",
     "text": [
      "\r",
      " 21%|█████████████████▊                                                                 | 3/14 [04:26<16:07, 87.98s/it]"
     ]
    },
    {
     "name": "stdout",
     "output_type": "stream",
     "text": [
      "2981_day10\n"
     ]
    },
    {
     "name": "stderr",
     "output_type": "stream",
     "text": [
      "\r",
      " 29%|███████████████████████▋                                                           | 4/14 [05:00<11:57, 71.74s/it]"
     ]
    },
    {
     "name": "stdout",
     "output_type": "stream",
     "text": [
      "2981_day12\n"
     ]
    },
    {
     "name": "stderr",
     "output_type": "stream",
     "text": [
      "\r",
      " 36%|█████████████████████████████▋                                                     | 5/14 [05:56<10:01, 66.86s/it]"
     ]
    },
    {
     "name": "stdout",
     "output_type": "stream",
     "text": [
      "2981_day14\n"
     ]
    },
    {
     "name": "stderr",
     "output_type": "stream",
     "text": [
      "\r",
      " 43%|███████████████████████████████████▌                                               | 6/14 [06:56<08:39, 64.99s/it]"
     ]
    },
    {
     "name": "stdout",
     "output_type": "stream",
     "text": [
      "2981_day15A\n"
     ]
    },
    {
     "name": "stderr",
     "output_type": "stream",
     "text": [
      "\r",
      " 50%|█████████████████████████████████████████▌                                         | 7/14 [07:36<06:41, 57.42s/it]"
     ]
    },
    {
     "name": "stdout",
     "output_type": "stream",
     "text": [
      "2981_day19L\n"
     ]
    },
    {
     "name": "stderr",
     "output_type": "stream",
     "text": [
      "\r",
      " 57%|███████████████████████████████████████████████▍                                   | 8/14 [09:33<07:31, 75.21s/it]"
     ]
    },
    {
     "name": "stdout",
     "output_type": "stream",
     "text": [
      "2981_day2\n"
     ]
    },
    {
     "name": "stderr",
     "output_type": "stream",
     "text": [
      "\r",
      " 64%|█████████████████████████████████████████████████████▎                             | 9/14 [10:55<06:26, 77.28s/it]"
     ]
    },
    {
     "name": "stdout",
     "output_type": "stream",
     "text": [
      "2981_day30A\n"
     ]
    },
    {
     "name": "stderr",
     "output_type": "stream",
     "text": [
      "\r",
      " 71%|██████████████████████████████████████████████████████████▌                       | 10/14 [11:40<04:30, 67.53s/it]"
     ]
    },
    {
     "name": "stdout",
     "output_type": "stream",
     "text": [
      "2981_day35L\n"
     ]
    },
    {
     "name": "stderr",
     "output_type": "stream",
     "text": [
      "\r",
      " 79%|████████████████████████████████████████████████████████████████▍                 | 11/14 [12:48<03:23, 67.85s/it]"
     ]
    },
    {
     "name": "stdout",
     "output_type": "stream",
     "text": [
      "2981_day4\n"
     ]
    },
    {
     "name": "stderr",
     "output_type": "stream",
     "text": [
      "\r",
      " 86%|██████████████████████████████████████████████████████████████████████▎           | 12/14 [14:32<02:36, 78.44s/it]"
     ]
    },
    {
     "name": "stdout",
     "output_type": "stream",
     "text": [
      "2981_day6\n"
     ]
    },
    {
     "name": "stderr",
     "output_type": "stream",
     "text": [
      "\r",
      " 93%|████████████████████████████████████████████████████████████████████████████▏     | 13/14 [15:04<01:04, 64.63s/it]"
     ]
    },
    {
     "name": "stdout",
     "output_type": "stream",
     "text": [
      "2981_day8\n"
     ]
    },
    {
     "name": "stderr",
     "output_type": "stream",
     "text": [
      "100%|██████████████████████████████████████████████████████████████████████████████████| 14/14 [15:43<00:00, 67.38s/it]\n",
      "  0%|                                                                                           | 0/19 [00:00<?, ?it/s]"
     ]
    },
    {
     "name": "stdout",
     "output_type": "stream",
     "text": [
      "cleaning up trace data\n",
      "cleaning up speed data\n",
      "4539_Baseline2A\n"
     ]
    },
    {
     "name": "stderr",
     "output_type": "stream",
     "text": [
      "\r",
      "  5%|████▎                                                                              | 1/19 [00:42<12:46, 42.59s/it]"
     ]
    },
    {
     "name": "stdout",
     "output_type": "stream",
     "text": [
      "4539_BaselineA\n"
     ]
    },
    {
     "name": "stderr",
     "output_type": "stream",
     "text": [
      "\r",
      " 11%|████████▋                                                                          | 2/19 [01:12<11:01, 38.89s/it]"
     ]
    },
    {
     "name": "stdout",
     "output_type": "stream",
     "text": [
      "4539_day0\n"
     ]
    },
    {
     "name": "stderr",
     "output_type": "stream",
     "text": [
      "\r",
      " 16%|█████████████                                                                      | 3/19 [03:25<17:52, 67.05s/it]"
     ]
    },
    {
     "name": "stdout",
     "output_type": "stream",
     "text": [
      "4539_day1\n"
     ]
    },
    {
     "name": "stderr",
     "output_type": "stream",
     "text": [
      "\r",
      " 21%|█████████████████▍                                                                 | 4/19 [04:59<18:47, 75.14s/it]"
     ]
    },
    {
     "name": "stdout",
     "output_type": "stream",
     "text": [
      "4539_day10\n"
     ]
    },
    {
     "name": "stderr",
     "output_type": "stream",
     "text": [
      "\r",
      " 26%|█████████████████████▊                                                             | 5/19 [05:41<15:11, 65.13s/it]"
     ]
    },
    {
     "name": "stdout",
     "output_type": "stream",
     "text": [
      "4539_day11\n"
     ]
    },
    {
     "name": "stderr",
     "output_type": "stream",
     "text": [
      "\r",
      " 32%|██████████████████████████▏                                                        | 6/19 [06:43<13:56, 64.32s/it]"
     ]
    },
    {
     "name": "stdout",
     "output_type": "stream",
     "text": [
      "4539_day12\n"
     ]
    },
    {
     "name": "stderr",
     "output_type": "stream",
     "text": [
      "\r",
      " 37%|██████████████████████████████▌                                                    | 7/19 [07:55<13:18, 66.56s/it]"
     ]
    },
    {
     "name": "stdout",
     "output_type": "stream",
     "text": [
      "4539_day13\n"
     ]
    },
    {
     "name": "stderr",
     "output_type": "stream",
     "text": [
      "\r",
      " 42%|██████████████████████████████████▉                                                | 8/19 [08:49<11:28, 62.63s/it]"
     ]
    },
    {
     "name": "stdout",
     "output_type": "stream",
     "text": [
      "4539_day14\n"
     ]
    },
    {
     "name": "stderr",
     "output_type": "stream",
     "text": [
      "\r",
      " 47%|███████████████████████████████████████▎                                           | 9/19 [09:33<09:31, 57.13s/it]"
     ]
    },
    {
     "name": "stdout",
     "output_type": "stream",
     "text": [
      "4539_day15A\n"
     ]
    },
    {
     "name": "stderr",
     "output_type": "stream",
     "text": [
      "\r",
      " 53%|███████████████████████████████████████████▏                                      | 10/19 [11:12<10:26, 69.62s/it]"
     ]
    },
    {
     "name": "stdout",
     "output_type": "stream",
     "text": [
      "4539_day2\n"
     ]
    },
    {
     "name": "stderr",
     "output_type": "stream",
     "text": [
      "\r",
      " 58%|███████████████████████████████████████████████▍                                  | 11/19 [12:14<08:59, 67.44s/it]"
     ]
    },
    {
     "name": "stdout",
     "output_type": "stream",
     "text": [
      "4539_day3\n"
     ]
    },
    {
     "name": "stderr",
     "output_type": "stream",
     "text": [
      "\r",
      " 63%|███████████████████████████████████████████████████▊                              | 12/19 [12:24<05:50, 50.12s/it]"
     ]
    },
    {
     "name": "stdout",
     "output_type": "stream",
     "text": [
      "4539_day30A\n"
     ]
    },
    {
     "name": "stderr",
     "output_type": "stream",
     "text": [
      "\r",
      " 68%|████████████████████████████████████████████████████████                          | 13/19 [12:29<03:40, 36.72s/it]"
     ]
    },
    {
     "name": "stdout",
     "output_type": "stream",
     "text": [
      "4539_day4\n"
     ]
    },
    {
     "name": "stderr",
     "output_type": "stream",
     "text": [
      "\r",
      " 74%|████████████████████████████████████████████████████████████▍                     | 14/19 [12:59<02:53, 34.63s/it]"
     ]
    },
    {
     "name": "stdout",
     "output_type": "stream",
     "text": [
      "4539_day5\n"
     ]
    },
    {
     "name": "stderr",
     "output_type": "stream",
     "text": [
      "\r",
      " 79%|████████████████████████████████████████████████████████████████▋                 | 15/19 [13:09<01:49, 27.40s/it]"
     ]
    },
    {
     "name": "stdout",
     "output_type": "stream",
     "text": [
      "4539_day6\n"
     ]
    },
    {
     "name": "stderr",
     "output_type": "stream",
     "text": [
      "\r",
      " 84%|█████████████████████████████████████████████████████████████████████             | 16/19 [13:52<01:36, 32.04s/it]"
     ]
    },
    {
     "name": "stdout",
     "output_type": "stream",
     "text": [
      "4539_day7\n"
     ]
    },
    {
     "name": "stderr",
     "output_type": "stream",
     "text": [
      "\r",
      " 89%|█████████████████████████████████████████████████████████████████████████▎        | 17/19 [14:21<01:01, 30.89s/it]"
     ]
    },
    {
     "name": "stdout",
     "output_type": "stream",
     "text": [
      "4539_day8\n",
      "4539_day8 failed iteration  20\n",
      "4539_day8 failed iteration  35\n",
      "4539_day8 failed iteration  48\n",
      "4539_day8 failed iteration  64\n",
      "4539_day8 failed iteration  81\n",
      "4539_day8 failed iteration  82\n",
      "4539_day8 failed iteration  86\n",
      "4539_day8 failed iteration  87\n",
      "4539_day8 failed iteration  92\n",
      "4539_day8 failed iteration  94\n",
      "4539_day8 failed iteration  97\n"
     ]
    },
    {
     "name": "stderr",
     "output_type": "stream",
     "text": [
      "\r",
      " 95%|█████████████████████████████████████████████████████████████████████████████▋    | 18/19 [15:59<00:51, 51.03s/it]"
     ]
    },
    {
     "name": "stdout",
     "output_type": "stream",
     "text": [
      "4539_day8 failed iteration  99\n",
      "4539_day9\n"
     ]
    },
    {
     "name": "stderr",
     "output_type": "stream",
     "text": [
      "100%|██████████████████████████████████████████████████████████████████████████████████| 19/19 [19:49<00:00, 62.62s/it]\n",
      "  0%|                                                                                           | 0/17 [00:00<?, ?it/s]"
     ]
    },
    {
     "name": "stdout",
     "output_type": "stream",
     "text": [
      "cleaning up trace data\n",
      "cleaning up speed data\n",
      "7584_Baseline0\n"
     ]
    },
    {
     "name": "stderr",
     "output_type": "stream",
     "text": [
      "\r",
      "  6%|████▊                                                                             | 1/17 [01:42<27:26, 102.92s/it]"
     ]
    },
    {
     "name": "stdout",
     "output_type": "stream",
     "text": [
      "7584_BaselineA\n"
     ]
    },
    {
     "name": "stderr",
     "output_type": "stream",
     "text": [
      "\r",
      " 12%|█████████▊                                                                         | 2/17 [02:10<20:04, 80.30s/it]"
     ]
    },
    {
     "name": "stdout",
     "output_type": "stream",
     "text": [
      "7584_day0\n"
     ]
    },
    {
     "name": "stderr",
     "output_type": "stream",
     "text": [
      "\r",
      " 18%|██████████████▋                                                                    | 3/17 [02:58<16:29, 70.68s/it]"
     ]
    },
    {
     "name": "stdout",
     "output_type": "stream",
     "text": [
      "7584_day1\n"
     ]
    },
    {
     "name": "stderr",
     "output_type": "stream",
     "text": [
      "\r",
      " 24%|███████████████████▌                                                               | 4/17 [04:44<17:36, 81.30s/it]"
     ]
    },
    {
     "name": "stdout",
     "output_type": "stream",
     "text": [
      "7584_day10\n"
     ]
    },
    {
     "name": "stderr",
     "output_type": "stream",
     "text": [
      "\r",
      " 29%|████████████████████████▍                                                          | 5/17 [06:21<17:12, 86.07s/it]"
     ]
    },
    {
     "name": "stdout",
     "output_type": "stream",
     "text": [
      "7584_day11\n"
     ]
    },
    {
     "name": "stderr",
     "output_type": "stream",
     "text": [
      "\r",
      " 35%|█████████████████████████████▎                                                     | 6/17 [07:59<16:25, 89.61s/it]"
     ]
    },
    {
     "name": "stdout",
     "output_type": "stream",
     "text": [
      "7584_day12\n"
     ]
    },
    {
     "name": "stderr",
     "output_type": "stream",
     "text": [
      "\r",
      " 41%|██████████████████████████████████▏                                                | 7/17 [08:54<13:10, 79.01s/it]"
     ]
    },
    {
     "name": "stdout",
     "output_type": "stream",
     "text": [
      "7584_day15\n"
     ]
    },
    {
     "name": "stderr",
     "output_type": "stream",
     "text": [
      "\r",
      " 47%|███████████████████████████████████████                                            | 8/17 [10:37<12:57, 86.37s/it]"
     ]
    },
    {
     "name": "stdout",
     "output_type": "stream",
     "text": [
      "7584_day2\n"
     ]
    },
    {
     "name": "stderr",
     "output_type": "stream",
     "text": [
      "\r",
      " 53%|███████████████████████████████████████████▉                                       | 9/17 [12:27<12:26, 93.37s/it]"
     ]
    },
    {
     "name": "stdout",
     "output_type": "stream",
     "text": [
      "7584_day3\n"
     ]
    },
    {
     "name": "stderr",
     "output_type": "stream",
     "text": [
      "\r",
      " 59%|███████████████████████████████████████████████▋                                 | 10/17 [14:35<12:06, 103.84s/it]"
     ]
    },
    {
     "name": "stdout",
     "output_type": "stream",
     "text": [
      "7584_day30A\n"
     ]
    },
    {
     "name": "stderr",
     "output_type": "stream",
     "text": [
      "\r",
      " 65%|████████████████████████████████████████████████████▍                            | 11/17 [16:35<10:52, 108.69s/it]"
     ]
    },
    {
     "name": "stdout",
     "output_type": "stream",
     "text": [
      "7584_day4\n"
     ]
    },
    {
     "name": "stderr",
     "output_type": "stream",
     "text": [
      "\r",
      " 71%|█████████████████████████████████████████████████████████▏                       | 12/17 [18:10<08:42, 104.50s/it]"
     ]
    },
    {
     "name": "stdout",
     "output_type": "stream",
     "text": [
      "7584_day5\n"
     ]
    },
    {
     "name": "stderr",
     "output_type": "stream",
     "text": [
      "\r",
      " 76%|█████████████████████████████████████████████████████████████▉                   | 13/17 [19:49<06:52, 103.04s/it]"
     ]
    },
    {
     "name": "stdout",
     "output_type": "stream",
     "text": [
      "7584_day6\n"
     ]
    },
    {
     "name": "stderr",
     "output_type": "stream",
     "text": [
      "\r",
      " 82%|██████████████████████████████████████████████████████████████████▋              | 14/17 [21:25<05:02, 100.83s/it]"
     ]
    },
    {
     "name": "stdout",
     "output_type": "stream",
     "text": [
      "7584_day7\n"
     ]
    },
    {
     "name": "stderr",
     "output_type": "stream",
     "text": [
      "\r",
      " 88%|████████████████████████████████████████████████████████████████████████▎         | 15/17 [22:59<03:17, 98.65s/it]"
     ]
    },
    {
     "name": "stdout",
     "output_type": "stream",
     "text": [
      "7584_day8\n"
     ]
    },
    {
     "name": "stderr",
     "output_type": "stream",
     "text": [
      "\r",
      " 94%|█████████████████████████████████████████████████████████████████████████████▏    | 16/17 [23:55<01:25, 85.85s/it]"
     ]
    },
    {
     "name": "stdout",
     "output_type": "stream",
     "text": [
      "7584_day9\n"
     ]
    },
    {
     "name": "stderr",
     "output_type": "stream",
     "text": [
      "100%|██████████████████████████████████████████████████████████████████████████████████| 17/17 [25:21<00:00, 89.50s/it]\n",
      "  0%|                                                                                           | 0/19 [00:00<?, ?it/s]"
     ]
    },
    {
     "name": "stdout",
     "output_type": "stream",
     "text": [
      "cleaning up trace data\n",
      "cleaning up speed data\n",
      "7909_Baseline2A\n"
     ]
    },
    {
     "name": "stderr",
     "output_type": "stream",
     "text": [
      "\r",
      "  5%|████▎                                                                              | 1/19 [01:30<27:04, 90.26s/it]"
     ]
    },
    {
     "name": "stdout",
     "output_type": "stream",
     "text": [
      "7909_BaselineA\n"
     ]
    },
    {
     "name": "stderr",
     "output_type": "stream",
     "text": [
      "\r",
      " 11%|████████▋                                                                          | 2/19 [02:45<24:16, 85.65s/it]"
     ]
    },
    {
     "name": "stdout",
     "output_type": "stream",
     "text": [
      "7909_day0\n"
     ]
    },
    {
     "name": "stderr",
     "output_type": "stream",
     "text": [
      "\r",
      " 16%|█████████████                                                                      | 3/19 [04:14<23:10, 86.88s/it]"
     ]
    },
    {
     "name": "stdout",
     "output_type": "stream",
     "text": [
      "7909_day1\n"
     ]
    },
    {
     "name": "stderr",
     "output_type": "stream",
     "text": [
      "\r",
      " 21%|█████████████████▍                                                                 | 4/19 [04:47<17:38, 70.56s/it]"
     ]
    },
    {
     "name": "stdout",
     "output_type": "stream",
     "text": [
      "7909_day10\n"
     ]
    },
    {
     "name": "stderr",
     "output_type": "stream",
     "text": [
      "\r",
      " 26%|█████████████████████▊                                                             | 5/19 [06:12<17:27, 74.80s/it]"
     ]
    },
    {
     "name": "stdout",
     "output_type": "stream",
     "text": [
      "7909_day11\n"
     ]
    },
    {
     "name": "stderr",
     "output_type": "stream",
     "text": [
      "\r",
      " 32%|██████████████████████████▏                                                        | 6/19 [06:36<12:55, 59.62s/it]"
     ]
    },
    {
     "name": "stdout",
     "output_type": "stream",
     "text": [
      "7909_day12\n"
     ]
    },
    {
     "name": "stderr",
     "output_type": "stream",
     "text": [
      "\r",
      " 37%|██████████████████████████████▌                                                    | 7/19 [07:36<11:56, 59.67s/it]"
     ]
    },
    {
     "name": "stdout",
     "output_type": "stream",
     "text": [
      "7909_day13\n"
     ]
    },
    {
     "name": "stderr",
     "output_type": "stream",
     "text": [
      "\r",
      " 42%|██████████████████████████████████▉                                                | 8/19 [08:40<11:10, 60.95s/it]"
     ]
    },
    {
     "name": "stdout",
     "output_type": "stream",
     "text": [
      "7909_day14\n"
     ]
    },
    {
     "name": "stderr",
     "output_type": "stream",
     "text": [
      "\r",
      " 47%|███████████████████████████████████████▎                                           | 9/19 [09:45<10:22, 62.22s/it]"
     ]
    },
    {
     "name": "stdout",
     "output_type": "stream",
     "text": [
      "7909_day15A\n"
     ]
    },
    {
     "name": "stderr",
     "output_type": "stream",
     "text": [
      "\r",
      " 53%|███████████████████████████████████████████▏                                      | 10/19 [10:17<07:59, 53.26s/it]"
     ]
    },
    {
     "name": "stdout",
     "output_type": "stream",
     "text": [
      "7909_day2\n"
     ]
    },
    {
     "name": "stderr",
     "output_type": "stream",
     "text": [
      "\r",
      " 58%|██████████████████████████████████████████████▉                                  | 11/19 [15:11<16:44, 125.56s/it]"
     ]
    },
    {
     "name": "stdout",
     "output_type": "stream",
     "text": [
      "7909_day3\n"
     ]
    },
    {
     "name": "stderr",
     "output_type": "stream",
     "text": [
      "\r",
      " 63%|███████████████████████████████████████████████████▏                             | 12/19 [20:10<20:42, 177.50s/it]"
     ]
    },
    {
     "name": "stdout",
     "output_type": "stream",
     "text": [
      "7909_day30A\n"
     ]
    },
    {
     "name": "stderr",
     "output_type": "stream",
     "text": [
      "\r",
      " 68%|███████████████████████████████████████████████████████▍                         | 13/19 [20:24<12:51, 128.60s/it]"
     ]
    },
    {
     "name": "stdout",
     "output_type": "stream",
     "text": [
      "7909_day4\n"
     ]
    },
    {
     "name": "stderr",
     "output_type": "stream",
     "text": [
      "\r",
      " 74%|███████████████████████████████████████████████████████████▋                     | 14/19 [21:02<08:26, 101.35s/it]"
     ]
    },
    {
     "name": "stdout",
     "output_type": "stream",
     "text": [
      "7909_day5\n"
     ]
    },
    {
     "name": "stderr",
     "output_type": "stream",
     "text": [
      "\r",
      " 79%|████████████████████████████████████████████████████████████████▋                 | 15/19 [22:01<05:54, 88.53s/it]"
     ]
    },
    {
     "name": "stdout",
     "output_type": "stream",
     "text": [
      "7909_day6\n"
     ]
    },
    {
     "name": "stderr",
     "output_type": "stream",
     "text": [
      "\r",
      " 84%|█████████████████████████████████████████████████████████████████████             | 16/19 [23:47<04:41, 93.67s/it]"
     ]
    },
    {
     "name": "stdout",
     "output_type": "stream",
     "text": [
      "7909_day7\n"
     ]
    },
    {
     "name": "stderr",
     "output_type": "stream",
     "text": [
      "\r",
      " 89%|█████████████████████████████████████████████████████████████████████████▎        | 17/19 [24:28<02:35, 77.87s/it]"
     ]
    },
    {
     "name": "stdout",
     "output_type": "stream",
     "text": [
      "7909_day8\n"
     ]
    },
    {
     "name": "stderr",
     "output_type": "stream",
     "text": [
      "\r",
      " 95%|█████████████████████████████████████████████████████████████████████████████▋    | 18/19 [25:11<01:07, 67.63s/it]"
     ]
    },
    {
     "name": "stdout",
     "output_type": "stream",
     "text": [
      "7909_day9\n"
     ]
    },
    {
     "name": "stderr",
     "output_type": "stream",
     "text": [
      "100%|██████████████████████████████████████████████████████████████████████████████████| 19/19 [27:37<00:00, 87.25s/it]\n",
      "  0%|                                                                                           | 0/13 [00:00<?, ?it/s]"
     ]
    },
    {
     "name": "stdout",
     "output_type": "stream",
     "text": [
      "cleaning up trace data\n",
      "cleaning up speed data\n",
      "8430_BaselineA\n"
     ]
    },
    {
     "name": "stderr",
     "output_type": "stream",
     "text": [
      "\r",
      "  8%|██████▍                                                                            | 1/13 [00:35<07:03, 35.28s/it]"
     ]
    },
    {
     "name": "stdout",
     "output_type": "stream",
     "text": [
      "8430_BaselineL\n"
     ]
    },
    {
     "name": "stderr",
     "output_type": "stream",
     "text": [
      "\r",
      " 15%|████████████▊                                                                      | 2/13 [01:10<06:27, 35.26s/it]"
     ]
    },
    {
     "name": "stdout",
     "output_type": "stream",
     "text": [
      "8430_BaselineS\n"
     ]
    },
    {
     "name": "stderr",
     "output_type": "stream",
     "text": [
      "\r",
      " 23%|███████████████████▏                                                               | 3/13 [01:31<05:11, 31.12s/it]"
     ]
    },
    {
     "name": "stdout",
     "output_type": "stream",
     "text": [
      "8430_day1\n"
     ]
    },
    {
     "name": "stderr",
     "output_type": "stream",
     "text": [
      "\r",
      " 31%|█████████████████████████▌                                                         | 4/13 [01:43<03:46, 25.22s/it]"
     ]
    },
    {
     "name": "stdout",
     "output_type": "stream",
     "text": [
      "8430_day11\n"
     ]
    },
    {
     "name": "stderr",
     "output_type": "stream",
     "text": [
      "\r",
      " 38%|███████████████████████████████▉                                                   | 5/13 [02:13<03:32, 26.61s/it]"
     ]
    },
    {
     "name": "stdout",
     "output_type": "stream",
     "text": [
      "8430_day15A\n"
     ]
    },
    {
     "name": "stderr",
     "output_type": "stream",
     "text": [
      "\r",
      " 46%|██████████████████████████████████████▎                                            | 6/13 [03:14<04:19, 37.09s/it]"
     ]
    },
    {
     "name": "stdout",
     "output_type": "stream",
     "text": [
      "8430_day19L\n"
     ]
    },
    {
     "name": "stderr",
     "output_type": "stream",
     "text": [
      "\r",
      " 54%|████████████████████████████████████████████▋                                      | 7/13 [04:55<05:37, 56.19s/it]"
     ]
    },
    {
     "name": "stdout",
     "output_type": "stream",
     "text": [
      "8430_day3\n"
     ]
    },
    {
     "name": "stderr",
     "output_type": "stream",
     "text": [
      "\r",
      " 62%|███████████████████████████████████████████████████                                | 8/13 [05:38<04:20, 52.16s/it]"
     ]
    },
    {
     "name": "stdout",
     "output_type": "stream",
     "text": [
      "8430_day30A\n"
     ]
    },
    {
     "name": "stderr",
     "output_type": "stream",
     "text": [
      "\r",
      " 69%|█████████████████████████████████████████████████████████▍                         | 9/13 [06:12<03:07, 46.88s/it]"
     ]
    },
    {
     "name": "stdout",
     "output_type": "stream",
     "text": [
      "8430_day35L\n",
      "8430_day35L failed iteration  2\n",
      "8430_day35L failed iteration  7\n",
      "8430_day35L failed iteration  26\n"
     ]
    },
    {
     "name": "stderr",
     "output_type": "stream",
     "text": [
      "\r",
      " 77%|███████████████████████████████████████████████████████████████                   | 10/13 [08:00<03:15, 65.01s/it]"
     ]
    },
    {
     "name": "stdout",
     "output_type": "stream",
     "text": [
      "8430_day5\n"
     ]
    },
    {
     "name": "stderr",
     "output_type": "stream",
     "text": [
      "\r",
      " 85%|█████████████████████████████████████████████████████████████████████▍            | 11/13 [08:44<01:57, 58.93s/it]"
     ]
    },
    {
     "name": "stdout",
     "output_type": "stream",
     "text": [
      "8430_day7\n"
     ]
    },
    {
     "name": "stderr",
     "output_type": "stream",
     "text": [
      "\r",
      " 92%|███████████████████████████████████████████████████████████████████████████▋      | 12/13 [09:13<00:49, 49.81s/it]"
     ]
    },
    {
     "name": "stdout",
     "output_type": "stream",
     "text": [
      "8430_day9\n"
     ]
    },
    {
     "name": "stderr",
     "output_type": "stream",
     "text": [
      "100%|██████████████████████████████████████████████████████████████████████████████████| 13/13 [09:33<00:00, 44.08s/it]\n",
      "  0%|                                                                                           | 0/14 [00:00<?, ?it/s]"
     ]
    },
    {
     "name": "stdout",
     "output_type": "stream",
     "text": [
      "cleaning up trace data\n",
      "cleaning up speed data\n",
      "8803_BaselineA\n"
     ]
    },
    {
     "name": "stderr",
     "output_type": "stream",
     "text": [
      "\r",
      "  7%|█████▊                                                                            | 1/14 [01:43<22:23, 103.34s/it]"
     ]
    },
    {
     "name": "stdout",
     "output_type": "stream",
     "text": [
      "8803_BaselineL\n"
     ]
    },
    {
     "name": "stderr",
     "output_type": "stream",
     "text": [
      "\r",
      " 14%|███████████▋                                                                      | 2/14 [03:27<20:41, 103.49s/it]"
     ]
    },
    {
     "name": "stdout",
     "output_type": "stream",
     "text": [
      "8803_BaselineS\n"
     ]
    },
    {
     "name": "stderr",
     "output_type": "stream",
     "text": [
      "\r",
      " 21%|█████████████████▌                                                                | 3/14 [05:11<19:00, 103.68s/it]"
     ]
    },
    {
     "name": "stdout",
     "output_type": "stream",
     "text": [
      "8803_day10\n"
     ]
    },
    {
     "name": "stderr",
     "output_type": "stream",
     "text": [
      "\r",
      " 29%|███████████████████████▋                                                           | 4/14 [06:32<16:09, 96.95s/it]"
     ]
    },
    {
     "name": "stdout",
     "output_type": "stream",
     "text": [
      "8803_day12\n"
     ]
    },
    {
     "name": "stderr",
     "output_type": "stream",
     "text": [
      "\r",
      " 36%|█████████████████████████████▋                                                     | 5/14 [08:08<14:30, 96.71s/it]"
     ]
    },
    {
     "name": "stdout",
     "output_type": "stream",
     "text": [
      "8803_day14\n"
     ]
    },
    {
     "name": "stderr",
     "output_type": "stream",
     "text": [
      "\r",
      " 43%|███████████████████████████████████▌                                               | 6/14 [09:49<13:03, 97.91s/it]"
     ]
    },
    {
     "name": "stdout",
     "output_type": "stream",
     "text": [
      "8803_day19L\n"
     ]
    },
    {
     "name": "stderr",
     "output_type": "stream",
     "text": [
      "\r",
      " 50%|█████████████████████████████████████████                                         | 7/14 [11:38<11:49, 101.29s/it]"
     ]
    },
    {
     "name": "stdout",
     "output_type": "stream",
     "text": [
      "8803_day2\n"
     ]
    },
    {
     "name": "stderr",
     "output_type": "stream",
     "text": [
      "\r",
      " 57%|██████████████████████████████████████████████▊                                   | 8/14 [13:28<10:24, 104.00s/it]"
     ]
    },
    {
     "name": "stdout",
     "output_type": "stream",
     "text": [
      "8803_day30A\n"
     ]
    },
    {
     "name": "stderr",
     "output_type": "stream",
     "text": [
      "\r",
      " 64%|█████████████████████████████████████████████████████▎                             | 9/14 [14:35<07:43, 92.75s/it]"
     ]
    },
    {
     "name": "stdout",
     "output_type": "stream",
     "text": [
      "8803_day34L\n"
     ]
    },
    {
     "name": "stderr",
     "output_type": "stream",
     "text": [
      "\r",
      " 71%|██████████████████████████████████████████████████████████▌                       | 10/14 [16:15<06:19, 94.89s/it]"
     ]
    },
    {
     "name": "stdout",
     "output_type": "stream",
     "text": [
      "8803_day4\n"
     ]
    },
    {
     "name": "stderr",
     "output_type": "stream",
     "text": [
      "\r",
      " 79%|████████████████████████████████████████████████████████████████▍                 | 11/14 [18:05<04:58, 99.43s/it]"
     ]
    },
    {
     "name": "stdout",
     "output_type": "stream",
     "text": [
      "8803_day5\n"
     ]
    },
    {
     "name": "stderr",
     "output_type": "stream",
     "text": [
      "\r",
      " 86%|██████████████████████████████████████████████████████████████████████▎           | 12/14 [19:44<03:18, 99.39s/it]"
     ]
    },
    {
     "name": "stdout",
     "output_type": "stream",
     "text": [
      "8803_day6\n"
     ]
    },
    {
     "name": "stderr",
     "output_type": "stream",
     "text": [
      "\r",
      " 93%|████████████████████████████████████████████████████████████████████████████▏     | 13/14 [21:05<01:33, 93.86s/it]"
     ]
    },
    {
     "name": "stdout",
     "output_type": "stream",
     "text": [
      "8803_day8\n"
     ]
    },
    {
     "name": "stderr",
     "output_type": "stream",
     "text": [
      "100%|██████████████████████████████████████████████████████████████████████████████████| 14/14 [22:53<00:00, 98.11s/it]\n",
      "  0%|                                                                                           | 0/14 [00:00<?, ?it/s]"
     ]
    },
    {
     "name": "stdout",
     "output_type": "stream",
     "text": [
      "cleaning up trace data\n",
      "cleaning up speed data\n",
      "8815_BaselineA\n"
     ]
    },
    {
     "name": "stderr",
     "output_type": "stream",
     "text": [
      "\r",
      "  7%|█████▉                                                                             | 1/14 [01:33<20:11, 93.21s/it]"
     ]
    },
    {
     "name": "stdout",
     "output_type": "stream",
     "text": [
      "8815_BaselineL\n"
     ]
    },
    {
     "name": "stderr",
     "output_type": "stream",
     "text": [
      "\r",
      " 14%|███████████▊                                                                       | 2/14 [02:45<17:21, 86.79s/it]"
     ]
    },
    {
     "name": "stdout",
     "output_type": "stream",
     "text": [
      "8815_BaselineS\n"
     ]
    },
    {
     "name": "stderr",
     "output_type": "stream",
     "text": [
      "\r",
      " 21%|█████████████████▊                                                                 | 3/14 [03:48<14:36, 79.69s/it]"
     ]
    },
    {
     "name": "stdout",
     "output_type": "stream",
     "text": [
      "8815_day10\n",
      "8815_day10 failed iteration  23\n",
      "8815_day10 failed iteration  24\n",
      "8815_day10 failed iteration  38\n",
      "8815_day10 failed iteration  68\n",
      "8815_day10 failed iteration  71\n",
      "8815_day10 failed iteration  74\n",
      "8815_day10 failed iteration  83\n",
      "8815_day10 failed iteration  90\n"
     ]
    },
    {
     "name": "stderr",
     "output_type": "stream",
     "text": [
      "\r",
      " 29%|███████████████████████▋                                                           | 4/14 [05:24<14:08, 84.80s/it]"
     ]
    },
    {
     "name": "stdout",
     "output_type": "stream",
     "text": [
      "8815_day12\n",
      "8815_day12 failed iteration  0\n",
      "8815_day12 failed iteration  1\n",
      "8815_day12 failed iteration  2\n",
      "8815_day12 failed iteration  3\n",
      "8815_day12 failed iteration  4\n",
      "8815_day12 failed iteration  5\n",
      "8815_day12 failed iteration  6\n",
      "8815_day12 failed iteration  7\n",
      "8815_day12 failed iteration  8\n",
      "8815_day12 failed iteration  9\n",
      "8815_day12 failed iteration  10\n",
      "8815_day12 failed iteration  11\n",
      "8815_day12 failed iteration  12\n",
      "8815_day12 failed iteration  13\n",
      "8815_day12 failed iteration  14\n",
      "8815_day12 failed iteration  15\n",
      "8815_day12 failed iteration  16\n",
      "8815_day12 failed iteration  17\n",
      "8815_day12 failed iteration  18\n",
      "8815_day12 failed iteration  19\n",
      "8815_day12 failed iteration  20\n",
      "8815_day12 failed iteration  21\n",
      "8815_day12 failed iteration  22\n",
      "8815_day12 failed iteration  23\n",
      "8815_day12 failed iteration  24\n",
      "8815_day12 failed iteration  25\n",
      "8815_day12 failed iteration  26\n",
      "8815_day12 failed iteration  27\n",
      "8815_day12 failed iteration  28\n",
      "8815_day12 failed iteration  29\n",
      "8815_day12 failed iteration  30\n",
      "8815_day12 failed iteration  31\n",
      "8815_day12 failed iteration  32\n",
      "8815_day12 failed iteration  33\n",
      "8815_day12 failed iteration  34\n",
      "8815_day12 failed iteration  35\n",
      "8815_day12 failed iteration  36\n",
      "8815_day12 failed iteration  37\n",
      "8815_day12 failed iteration  38\n",
      "8815_day12 failed iteration  39\n",
      "8815_day12 failed iteration  40\n",
      "8815_day12 failed iteration  41\n",
      "8815_day12 failed iteration  42\n",
      "8815_day12 failed iteration  43\n",
      "8815_day12 failed iteration  44\n",
      "8815_day12 failed iteration  45\n",
      "8815_day12 failed iteration  46\n",
      "8815_day12 failed iteration  47\n",
      "8815_day12 failed iteration  48\n",
      "8815_day12 failed iteration  49\n",
      "8815_day12 failed iteration  50\n",
      "8815_day12 failed iteration  51\n",
      "8815_day12 failed iteration  52\n",
      "8815_day12 failed iteration  53\n",
      "8815_day12 failed iteration  54\n",
      "8815_day12 failed iteration  55\n",
      "8815_day12 failed iteration  56\n",
      "8815_day12 failed iteration  57\n",
      "8815_day12 failed iteration  58\n",
      "8815_day12 failed iteration  59\n",
      "8815_day12 failed iteration  60\n",
      "8815_day12 failed iteration  61\n",
      "8815_day12 failed iteration  62\n",
      "8815_day12 failed iteration  63\n",
      "8815_day12 failed iteration  64\n",
      "8815_day12 failed iteration  65\n",
      "8815_day12 failed iteration  66\n",
      "8815_day12 failed iteration  67\n",
      "8815_day12 failed iteration  68\n",
      "8815_day12 failed iteration  69\n",
      "8815_day12 failed iteration  70\n",
      "8815_day12 failed iteration  71\n",
      "8815_day12 failed iteration  72\n",
      "8815_day12 failed iteration  73\n",
      "8815_day12 failed iteration  74\n",
      "8815_day12 failed iteration  75\n",
      "8815_day12 failed iteration  76\n",
      "8815_day12 failed iteration  77\n",
      "8815_day12 failed iteration  78\n",
      "8815_day12 failed iteration  79\n",
      "8815_day12 failed iteration  80\n",
      "8815_day12 failed iteration  81\n",
      "8815_day12 failed iteration  82\n",
      "8815_day12 failed iteration  83\n",
      "8815_day12 failed iteration  84\n",
      "8815_day12 failed iteration  85\n",
      "8815_day12 failed iteration  86\n",
      "8815_day12 failed iteration  87\n",
      "8815_day12 failed iteration  88\n",
      "8815_day12 failed iteration  89\n",
      "8815_day12 failed iteration  90\n",
      "8815_day12 failed iteration  91\n",
      "8815_day12 failed iteration  92\n",
      "8815_day12 failed iteration  93\n",
      "8815_day12 failed iteration  94\n",
      "8815_day12 failed iteration  95\n",
      "8815_day12 failed iteration  96\n",
      "8815_day12 failed iteration  97\n",
      "8815_day12 failed iteration  98\n"
     ]
    },
    {
     "name": "stderr",
     "output_type": "stream",
     "text": [
      "\r",
      " 36%|█████████████████████████████▋                                                     | 5/14 [05:36<09:24, 62.76s/it]"
     ]
    },
    {
     "name": "stdout",
     "output_type": "stream",
     "text": [
      "8815_day12 failed iteration  99\n",
      "8815_day14\n",
      "8815_day14 failed iteration  3\n",
      "8815_day14 failed iteration  5\n",
      "8815_day14 failed iteration  14\n",
      "8815_day14 failed iteration  16\n",
      "8815_day14 failed iteration  17\n",
      "8815_day14 failed iteration  21\n",
      "8815_day14 failed iteration  22\n",
      "8815_day14 failed iteration  28\n",
      "8815_day14 failed iteration  32\n",
      "8815_day14 failed iteration  33\n",
      "8815_day14 failed iteration  40\n",
      "8815_day14 failed iteration  41\n",
      "8815_day14 failed iteration  55\n",
      "8815_day14 failed iteration  60\n",
      "8815_day14 failed iteration  64\n",
      "8815_day14 failed iteration  65\n",
      "8815_day14 failed iteration  71\n",
      "8815_day14 failed iteration  79\n",
      "8815_day14 failed iteration  88\n",
      "8815_day14 failed iteration  94\n",
      "8815_day14 failed iteration  96\n"
     ]
    },
    {
     "name": "stderr",
     "output_type": "stream",
     "text": [
      "\r",
      " 43%|███████████████████████████████████▌                                               | 6/14 [07:04<09:23, 70.48s/it]"
     ]
    },
    {
     "name": "stdout",
     "output_type": "stream",
     "text": [
      "8815_day14 failed iteration  99\n",
      "8815_day15A\n"
     ]
    },
    {
     "name": "stderr",
     "output_type": "stream",
     "text": [
      "\r",
      " 50%|█████████████████████████████████████████▌                                         | 7/14 [08:02<07:47, 66.81s/it]"
     ]
    },
    {
     "name": "stdout",
     "output_type": "stream",
     "text": [
      "8815_day19L\n"
     ]
    },
    {
     "name": "stderr",
     "output_type": "stream",
     "text": [
      "\r",
      " 57%|███████████████████████████████████████████████▍                                   | 8/14 [08:50<06:06, 61.02s/it]"
     ]
    },
    {
     "name": "stdout",
     "output_type": "stream",
     "text": [
      "8815_day2\n"
     ]
    },
    {
     "name": "stderr",
     "output_type": "stream",
     "text": [
      "\r",
      " 64%|█████████████████████████████████████████████████████▎                             | 9/14 [09:17<04:14, 50.81s/it]"
     ]
    },
    {
     "name": "stdout",
     "output_type": "stream",
     "text": [
      "8815_day30A\n"
     ]
    },
    {
     "name": "stderr",
     "output_type": "stream",
     "text": [
      "\r",
      " 71%|██████████████████████████████████████████████████████████▌                       | 10/14 [10:55<04:20, 65.03s/it]"
     ]
    },
    {
     "name": "stdout",
     "output_type": "stream",
     "text": [
      "8815_day34L\n"
     ]
    },
    {
     "name": "stderr",
     "output_type": "stream",
     "text": [
      "\r",
      " 79%|████████████████████████████████████████████████████████████████▍                 | 11/14 [12:18<03:31, 70.45s/it]"
     ]
    },
    {
     "name": "stdout",
     "output_type": "stream",
     "text": [
      "8815_day4\n"
     ]
    },
    {
     "name": "stderr",
     "output_type": "stream",
     "text": [
      "\r",
      " 86%|██████████████████████████████████████████████████████████████████████▎           | 12/14 [13:49<02:33, 76.68s/it]"
     ]
    },
    {
     "name": "stdout",
     "output_type": "stream",
     "text": [
      "8815_day6\n"
     ]
    },
    {
     "name": "stderr",
     "output_type": "stream",
     "text": [
      "\r",
      " 93%|████████████████████████████████████████████████████████████████████████████▏     | 13/14 [14:23<01:03, 63.76s/it]"
     ]
    },
    {
     "name": "stdout",
     "output_type": "stream",
     "text": [
      "8815_day8\n",
      "8815_day8 failed iteration  29\n",
      "8815_day8 failed iteration  41\n",
      "8815_day8 failed iteration  58\n",
      "8815_day8 failed iteration  88\n"
     ]
    },
    {
     "name": "stderr",
     "output_type": "stream",
     "text": [
      "100%|██████████████████████████████████████████████████████████████████████████████████| 14/14 [15:58<00:00, 68.47s/it]"
     ]
    },
    {
     "name": "stdout",
     "output_type": "stream",
     "text": [
      "8815_day8 failed iteration  99\n"
     ]
    },
    {
     "name": "stderr",
     "output_type": "stream",
     "text": [
      "\n"
     ]
    }
   ],
   "source": [
    "# use random 100 neurons for each session. \n",
    "# train on first half of trace, test on secound half\n",
    "# save resedials of both. \n",
    "for m in miceList:\n",
    "    data = getData(Files[1],['trace','speed'],period ='Pre', mice=m)\n",
    "    testRes = {'Healthy':{'bins':[],'weights':[]},'Acute':{'bins':[],'weights':[]},'Chronic':{'bins':[],'weights':[]}}\n",
    "    trainRes = {'Healthy':{'bins':[],'weights':[]},'Acute':{'bins':[],'weights':[]},'Chronic':{'bins':[],'weights':[]}}\n",
    "    binwidth = 1\n",
    "    for sess in tqdm(data.keys()):\n",
    "        if sess[5] == 'B':\n",
    "            day = 0\n",
    "        else:\n",
    "            day = int(re.findall(r'\\d+',sess[5:])[0])\n",
    "        period = periodCalc(day)\n",
    "        speed = data[sess]['speed']['speed']\n",
    "        nNeurons = data[sess]['trace']['dff'].shape[0]\n",
    "        print(sess)\n",
    "        for itr in range(100):\n",
    "            modelNeurons = np.random.permutation(nNeurons)\n",
    "            modelNeurons = modelNeurons[0:100]\n",
    "            dff = data[sess]['trace']['dff'][modelNeurons,:]\n",
    "            dff = dff +np.abs(np.min(np.min(dff)))+1\n",
    "\n",
    "            if np.max(dff.shape)>np.max(speed.shape):\n",
    "                    dff = dff[:,:len(speed.T)]\n",
    "\n",
    "            df2 = packData(dff[:,:6000],list(map(str, modelNeurons))) \n",
    "            try: \n",
    "                aic,model_results,b =trainModelSm(df2,speed[0,:6000],k=1,plot=False)\n",
    "            except: \n",
    "                print(sess, 'failed iteration ',itr)\n",
    "                continue\n",
    "            df3 = packData(dff[:,6001:],list(map(str, modelNeurons))) \n",
    "            l = model_results.predict(df3)-speed[0,6001:]\n",
    "            histW,bins = np.histogram(l,bins=np.unique(np.round(l)))\n",
    "            bins = bins[1:]\n",
    "            bins = bins[histW!=0]\n",
    "            histW[histW!=0]\n",
    "            for a, val in zip(bins, histW):\n",
    "                if a in testRes[period]['bins']:\n",
    "                    testRes[period]['weights'][testRes[period]['bins'].index(a)] = testRes[period]['weights'][testRes[period]['bins'].index(a)] + val\n",
    "                else:\n",
    "                    testRes[period]['weights'].append(val)\n",
    "                    testRes[period]['bins'].append(a)\n",
    "            l = model_results.resid_response\n",
    "    #         histW,bins = np.histogram(l,bins=np.arange(np.floor(np.min(l)),np.ceil(np.max(l)),binwidth))\n",
    "            histW,bins = np.histogram(l,bins=np.unique(np.round(l)))\n",
    "            bins = bins[1:]\n",
    "            bins = bins[histW!=0]\n",
    "            histW[histW!=0]\n",
    "            for a, val in zip(bins, histW):\n",
    "                if a in trainRes[period]['bins']:\n",
    "                    trainRes[period]['weights'][trainRes[period]['bins'].index(a)] = trainRes[period]['weights'][trainRes[period]['bins'].index(a)] + val\n",
    "                else:\n",
    "                    trainRes[period]['weights'].append(val)\n",
    "                    trainRes[period]['bins'].append(a)\n",
    "\n",
    "    for period in testRes.keys():\n",
    "        plt.hist(np.abs(testRes[period]['bins']),density = True,bins = range(-50,50),weights = testRes[period]['weights'],label=period,alpha = .3)\n",
    "    plt.legend()\n",
    "    plt.savefig('D:\\\\6OHDA\\\\GLMs\\\\test_'+m+'.png')\n",
    "    plt.close()\n",
    "    for period in trainRes.keys():\n",
    "        plt.hist(np.abs(trainRes[period]['bins']),density = True,bins = range(-50,50),weights = trainRes[period]['weights'],label=period,alpha = .3)\n",
    "    plt.legend()\n",
    "    plt.savefig('D:\\\\6OHDA\\\\GLMs\\\\train_'+m+'.png')\n",
    "    plt.close()\n",
    "\n"
   ]
  }
 ],
 "metadata": {
  "kernelspec": {
   "display_name": "Python 3",
   "language": "python",
   "name": "python3"
  },
  "language_info": {
   "codemirror_mode": {
    "name": "ipython",
    "version": 3
   },
   "file_extension": ".py",
   "mimetype": "text/x-python",
   "name": "python",
   "nbconvert_exporter": "python",
   "pygments_lexer": "ipython3",
   "version": "3.8.5"
  }
 },
 "nbformat": 4,
 "nbformat_minor": 5
}
