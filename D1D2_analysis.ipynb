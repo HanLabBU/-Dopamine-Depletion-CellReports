{
 "cells": [
  {
   "cell_type": "code",
   "execution_count": 1,
   "metadata": {},
   "outputs": [],
   "source": [
    "#since noteboke doesn't work in jupiterlabs    %matplotlib notebook \n",
    "%matplotlib notebook\n",
    "%load_ext autoreload\n",
    "%autoreload 2"
   ]
  },
  {
   "cell_type": "markdown",
   "metadata": {},
   "source": [
    "<h1> All code in this repo optimized for my linux computer. change the os.chdir path in all files to be dynamic befre posting code! </h1>"
   ]
  },
  {
   "cell_type": "code",
   "execution_count": 4,
   "metadata": {},
   "outputs": [
    {
     "ename": "FileNotFoundError",
     "evalue": "[WinError 3] The system cannot find the path specified: '/home/dana_z/ssd_2TB/6OHDA'",
     "output_type": "error",
     "traceback": [
      "\u001b[1;31m---------------------------------------------------------------------------\u001b[0m",
      "\u001b[1;31mFileNotFoundError\u001b[0m                         Traceback (most recent call last)",
      "\u001b[1;32m<ipython-input-4-f8598e46f995>\u001b[0m in \u001b[0;36m<module>\u001b[1;34m()\u001b[0m\n\u001b[0;32m     13\u001b[0m \u001b[1;32mimport\u001b[0m \u001b[0mh5py\u001b[0m\u001b[1;33m\u001b[0m\u001b[0m\n\u001b[0;32m     14\u001b[0m \u001b[1;32mfrom\u001b[0m \u001b[0mIO\u001b[0m \u001b[1;32mimport\u001b[0m \u001b[1;33m*\u001b[0m\u001b[1;33m\u001b[0m\u001b[0m\n\u001b[1;32m---> 15\u001b[1;33m \u001b[1;32mfrom\u001b[0m \u001b[0mutils\u001b[0m \u001b[1;32mimport\u001b[0m \u001b[1;33m*\u001b[0m\u001b[1;33m\u001b[0m\u001b[0m\n\u001b[0m\u001b[0;32m     16\u001b[0m \u001b[1;32mfrom\u001b[0m \u001b[0mplotUtils\u001b[0m \u001b[1;32mimport\u001b[0m \u001b[1;33m*\u001b[0m\u001b[1;33m\u001b[0m\u001b[0m\n\u001b[0;32m     17\u001b[0m \u001b[1;32mfrom\u001b[0m \u001b[0mColorSchems\u001b[0m \u001b[1;32mimport\u001b[0m \u001b[0mcolorPallet\u001b[0m \u001b[1;32mas\u001b[0m \u001b[0mCP\u001b[0m\u001b[1;33m\u001b[0m\u001b[0m\n",
      "\u001b[1;32m~\\Documents\\Reaserch\\6OHDA\\utils.py\u001b[0m in \u001b[0;36m<module>\u001b[1;34m()\u001b[0m\n\u001b[0;32m      8\u001b[0m \u001b[1;32mfrom\u001b[0m \u001b[0mscipy\u001b[0m \u001b[1;32mimport\u001b[0m \u001b[0minterpolate\u001b[0m\u001b[1;33m\u001b[0m\u001b[0m\n\u001b[0;32m      9\u001b[0m \u001b[1;32mfrom\u001b[0m \u001b[0mscipy\u001b[0m \u001b[1;32mimport\u001b[0m \u001b[0msignal\u001b[0m\u001b[1;33m\u001b[0m\u001b[0m\n\u001b[1;32m---> 10\u001b[1;33m \u001b[1;32mfrom\u001b[0m \u001b[0mchronux\u001b[0m \u001b[1;32mimport\u001b[0m \u001b[1;33m*\u001b[0m\u001b[1;33m\u001b[0m\u001b[0m\n\u001b[0m\u001b[0;32m     11\u001b[0m \u001b[1;32mfrom\u001b[0m \u001b[0mnumpy\u001b[0m\u001b[1;33m.\u001b[0m\u001b[0mlib\u001b[0m\u001b[1;33m.\u001b[0m\u001b[0mstride_tricks\u001b[0m \u001b[1;32mimport\u001b[0m \u001b[0mas_strided\u001b[0m\u001b[1;33m\u001b[0m\u001b[0m\n\u001b[0;32m     12\u001b[0m \u001b[1;32mimport\u001b[0m \u001b[0mpandas\u001b[0m \u001b[1;32mas\u001b[0m \u001b[0mpd\u001b[0m\u001b[1;33m\u001b[0m\u001b[0m\n",
      "\u001b[1;32m~\\Documents\\Reaserch\\6OHDA\\chronux.py\u001b[0m in \u001b[0;36m<module>\u001b[1;34m()\u001b[0m\n\u001b[0;32m      9\u001b[0m \"\"\"\n\u001b[0;32m     10\u001b[0m \u001b[1;32mimport\u001b[0m \u001b[0mos\u001b[0m\u001b[1;33m\u001b[0m\u001b[0m\n\u001b[1;32m---> 11\u001b[1;33m \u001b[0mos\u001b[0m\u001b[1;33m.\u001b[0m\u001b[0mchdir\u001b[0m\u001b[1;33m(\u001b[0m\u001b[1;34m'/home/dana_z/ssd_2TB/6OHDA'\u001b[0m\u001b[1;33m)\u001b[0m\u001b[1;33m\u001b[0m\u001b[0m\n\u001b[0m\u001b[0;32m     12\u001b[0m \u001b[1;31m#import mpld3\u001b[0m\u001b[1;33m\u001b[0m\u001b[1;33m\u001b[0m\u001b[0m\n\u001b[0;32m     13\u001b[0m \u001b[1;31m#mpld3.enable_notebook()\u001b[0m\u001b[1;33m\u001b[0m\u001b[1;33m\u001b[0m\u001b[0m\n",
      "\u001b[1;31mFileNotFoundError\u001b[0m: [WinError 3] The system cannot find the path specified: '/home/dana_z/ssd_2TB/6OHDA'"
     ]
    }
   ],
   "source": [
    "import os\n",
    "os.chdir('/home/dana_z/ssd_2TB/6OHDA')\n",
    "#import mpld3\n",
    "#mpld3.enable_notebook()\n",
    "import numpy as np\n",
    "import scipy as sci\n",
    "from scipy import signal\n",
    "from matplotlib import pyplot as plt\n",
    "from matplotlib import gridspec\n",
    "import matplotlib.colors as Mcolors\n",
    "import matplotlib.cm as cmx\n",
    "import sys\n",
    "import h5py\n",
    "from IO import *\n",
    "from utils import *\n",
    "from plotUtils import *\n",
    "from ColorSchems import colorPallet as CP\n",
    "import pptx\n",
    "from pptx import Presentation \n",
    "from pptx.util import Inches\n",
    "from io import BytesIO\n",
    "import re\n",
    "import warnings\n",
    "import pandas as pd\n",
    "import sqlalchemy as db\n",
    "import gc\n",
    "from tqdm import tqdm\n",
    "import seaborn as sns\n",
    "import pywt # wavelet package"
   ]
  },
  {
   "cell_type": "code",
   "execution_count": 5,
   "metadata": {},
   "outputs": [],
   "source": [
    "Files = ['FinalData_6OHDA.h5','FinalData_6OHDA_H.h5','FinalData_6OHDA_H_skip.h5','FinalData_6OHDA_skip.h5']\n",
    "miceList = getMiceList(Files[0])\n",
    "# data for Beta Mice - NOTICE: ONLY 1222 is CHI rest are PV\n",
    "betaMice = ['8430','4539','7584','7909','1222']"
   ]
  },
  {
   "cell_type": "code",
   "execution_count": null,
   "metadata": {},
   "outputs": [],
   "source": [
    "# data for all mice - homomorphic filter - Only Amphetamine sessions\n",
    "HfPVdataH = getData(Files[1],['speed','trace'],period ='Pre', cre='PV',red = True,day = lambda x: x==0,drug=b'Amphetamin')\n",
    "HfPVdataP = getData(Files[1],['speed','trace'],period ='Pre', cre='PV',red = True,day = lambda x: x>0,drug=b'Amphetamin')\n",
    "HfMSNdataH = getData(Files[1],['speed','trace'],period ='Pre',red = False,day = lambda x: x==0,drug=b'Amphetamin')\n",
    "HfMSNdataP = getData(Files[1],['speed','trace'],period ='Pre',red = False,day = lambda x: x>0,drug=b'Amphetamin')\n",
    "HfCHIdataH = getData(Files[1],['speed','trace'],period ='Pre', cre='CHI',red = True,day = lambda x: x==0,drug=b'Amphetamin')\n",
    "HfCHIdataP = getData(Files[1],['speed','trace'],period ='Pre', cre='CHI',red = True,day = lambda x: x>0,drug=b'Amphetamin')\n"
   ]
  },
  {
   "cell_type": "code",
   "execution_count": null,
   "metadata": {},
   "outputs": [],
   "source": [
    "def periodCalc(day):\n",
    "    if day== 0:\n",
    "        return 'Healthy'\n",
    "    elif day<5:\n",
    "        return 'Day 1-4'\n",
    "    elif day<13:\n",
    "        return 'Day 5-12'\n",
    "    elif day<21:\n",
    "        return 'Day 13-20'\n",
    "    else:\n",
    "        return 'One Month'"
   ]
  },
  {
   "cell_type": "markdown",
   "metadata": {},
   "source": [
    "Get pre and post firing rates into a df "
   ]
  },
  {
   "cell_type": "code",
   "execution_count": null,
   "metadata": {},
   "outputs": [],
   "source": [
    "#f = h5py.File('OnsetsAndPeriods.hdf5','r')\n",
    "col_names = ['Mouse','Sess','Day','Period','drugPeriod','start_high',\n",
    "             'start_med','start_low','All_','end_high','end_med',\n",
    "             'end_low','acc','dcc']\n",
    "df = pd.DataFrame(columns = col_names)\n",
    "cond = ['PVdataH','MSNdataH','CHIdataH','PVdataP','MSNdataP','CHIdataP']\n",
    "transWindow = np.ones((10,1))\n",
    "for c in cond:\n",
    "    data = eval(c)\n",
    "    for sess in data.keys():\n",
    "        try:\n",
    "            if sess[5] == 'B':\n",
    "                day = 0\n",
    "            else:\n",
    "                day = int(re.findall(r'\\d+',sess[5:])[0])\n",
    "            m = sess[0:4]\n",
    "            period = periodCalc(day)\n",
    "            \n",
    "            for drugPeriod in ['Pre','Post']:\n",
    "\n",
    "                Hp = getOnsetOrPeriod(m,sess,drugPeriod,'HighMvmtPeriods_vector')\n",
    "                Lp = getOnsetOrPeriod(m,sess,drugPeriod,'LowMvmtPeriods_vector')\n",
    "                Mp = ((Hp+Lp)==0)\n",
    "                Ca = getOnsetOrPeriod(m,sess,drugPeriod,'caOnset_Hf')\n",
    "                CaO = Ca[:,1:]-Ca[:,:-1]\n",
    "                if CaO.shape[1]<Hp.shape[0]:\n",
    "                     CaO = np.append(CaO,np.zeros((CaO.shape[0],1)),axis=1)\n",
    "                C_start = (CaO==1)*1\n",
    "                C_end = (CaO==-1)*1\n",
    "    #            Acc = np.append(np.convolve(np.diff(Lp*1+Mp*2+Hp*3)>0, transWindow[:,0], mode='same')>0,False)\n",
    "    #            Dcc = np.append(np.convolve(np.diff(Lp*1+Mp*2+Hp*3)<0, transWindow[:,0], mode='same')>0,False)\n",
    "                Acc = np.append(np.convolve(np.diff(Lp*1+Hp*2)>0, transWindow[:,0], mode='same')>0,False)\n",
    "                Dcc = np.append(np.convolve(np.diff(Lp*1+Hp*2)<0, transWindow[:,0], mode='same')>0,False)\n",
    "                a = np.asarray([np.sum(C_start[:,Hp],axis=1),np.sum(C_start[:,Mp],axis=1),\n",
    "                                np.sum(C_start[:,Lp],axis=1),np.sum(C_start,axis=1),\n",
    "                                np.sum(C_end[:,Hp],axis=1),np.sum(C_end[:,Mp],axis=1),np.sum(C_end[:,Lp],axis=1),\n",
    "                                np.sum(C_end[:,Acc],axis=1),np.sum(C_end[:,Dcc],axis=1)]).T\n",
    "                df2 = pd.DataFrame(a, columns = col_names[3:])\n",
    "                df2['totalTime'] = (Hp.shape[0]/1200)\n",
    "                df2['lowTime'] = np.sum(Lp/1200)\n",
    "                df2['medTime'] = np.sum(Mp/1200)\n",
    "                df2['highTime'] = np.sum(Hp/1200)\n",
    "    #            df2['accTrans'] = np.sum(np.diff(Lp*1+Mp*2+Hp*3)>0)\n",
    "    #            df2['dccTrans'] = np.sum(np.diff(Lp*1+Mp*2+Hp*3)<0)\n",
    "                df2['accTrans'] = np.sum(np.diff(Lp*1+Hp*2)>0)\n",
    "                df2['dccTrans'] = np.sum(np.diff(Lp*1+Hp*2)<0)\n",
    "                df2['Day'] = day\n",
    "                df2['Mouse'] = m\n",
    "                df2['Sess'] = sess\n",
    "                df2['CellType'] = c[:-5]\n",
    "                df2['drugPeriod'] = drugPeriod\n",
    "                df2['Beta'] = (m in betaMice) \n",
    "                df = pd.concat([df,df2],sort=True)\n",
    "        except:\n",
    "            print(sess)\n",
    "\n"
   ]
  },
  {
   "cell_type": "code",
   "execution_count": null,
   "metadata": {},
   "outputs": [],
   "source": [
    "df['High'] =  df.apply (lambda row: row.start_high/row.highTime if row.highTime != 0 else row.start_high, axis=1)\n",
    "df['Medium'] = df.apply (lambda row: row.start_med/row.medTime, axis=1)\n",
    "df['Low'] = df.apply (lambda row: row.start_low/row.lowTime , axis=1)\n",
    "df['All'] = df.apply (lambda row: row.All_/row.totalTime , axis=1)\n",
    "df['Acc'] = df.apply (lambda row: row.acc/row.accTrans , axis=1)\n",
    "df['Dcc'] = df.apply (lambda row: row.dcc/row.dccTrans , axis=1)\n",
    "df['Acc_'] = df.apply (lambda row: row.acc/row.All_ if row.All_ >0 else 0 , axis=1)\n",
    "df['Dcc_'] = df.apply (lambda row: row.dcc/row.All_ if row.All_ >0 else 0 , axis=1)\n",
    "\n",
    "df.to_csv('D1D2_Analysis')\n",
    "df.head()"
   ]
  }
 ],
 "metadata": {
  "kernelspec": {
   "display_name": "Python 3",
   "language": "python",
   "name": "python3"
  },
  "language_info": {
   "codemirror_mode": {
    "name": "ipython",
    "version": 3
   },
   "file_extension": ".py",
   "mimetype": "text/x-python",
   "name": "python",
   "nbconvert_exporter": "python",
   "pygments_lexer": "ipython3",
   "version": "3.6.3"
  }
 },
 "nbformat": 4,
 "nbformat_minor": 2
}
