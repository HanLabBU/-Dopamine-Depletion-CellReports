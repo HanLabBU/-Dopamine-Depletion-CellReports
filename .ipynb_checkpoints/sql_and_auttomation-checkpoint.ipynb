{
 "cells": [
  {
   "cell_type": "markdown",
   "metadata": {},
   "source": [
    "<h1> draft for database interface + automation </h1>"
   ]
  },
  {
   "cell_type": "code",
   "execution_count": 9,
   "metadata": {},
   "outputs": [
    {
     "name": "stdout",
     "output_type": "stream",
     "text": [
      "The autoreload extension is already loaded. To reload it, use:\n",
      "  %reload_ext autoreload\n"
     ]
    }
   ],
   "source": [
    "%matplotlib notebook \n",
    "%load_ext autoreload\n",
    "%autoreload 2\n",
    "\n",
    "import numpy as np\n",
    "\n",
    "import multiprocessing as mp\n",
    "import tifffile as tf \n",
    "from matplotlib import pyplot as plt\n",
    "import h5py\n",
    "from scipy.ndimage import median_filter, gaussian_filter, shift\n",
    "import sqlite3"
   ]
  },
  {
   "cell_type": "markdown",
   "metadata": {},
   "source": [
    "<h3> create the connection to the database and get a list of sessions: </h3>\n",
    "\n",
    "<UL>\n",
    "    <LH><b>TODO:</b> </LH>\n",
    "    <LI><s>see how to mount/unmount handata2 from script (might need to be in a bash file)</s></LI>\n",
    "    <LI>figure out where my db is actually saved and create </LI>\n",
    "    <LI>figure out how to connect to the db</LI>\n",
    "    <LI>look in handata2 - get a list of sessions</LI>\n",
    "    <LI>compare list with sql - if not in sql OR mc = 0 -> motion process</LI>\n",
    "    <LI>create a function that generates the max-min image</LI>\n",
    "    <LI>create the python equivalent of extract e-Phys</LI>\n",
    "    <LI>create the python equivalent of extract mvmt</LI>\n",
    "    <LI>create a function that loads matlab ROI into python </LI>\n",
    "    <LI>create python function to pick ROI</LI>\n",
    "    <LI>create python function to overlay ROIs</LI>\n",
    "    <LI></LI>\n",
    "    <LI>Continue looking for better processing options</LI>\n",
    "</UL>\n",
    " "
   ]
  },
  {
   "cell_type": "code",
   "execution_count": 2,
   "metadata": {},
   "outputs": [],
   "source": [
    "from PiplineScripts.pipelines import *\n",
    "from os import listdir\n",
    "from os.path import isfile, join"
   ]
  },
  {
   "cell_type": "code",
   "execution_count": null,
   "metadata": {
    "scrolled": true
   },
   "outputs": [
    {
     "name": "stdout",
     "output_type": "stream",
     "text": [
      "Opening parallel pool and preparing variables:\n",
      "start processing files for 0761_day1:\n",
      "loading file 1\n",
      "creating reference image and defining parameters:\n",
      "processing file 1\n",
      "saving files\n"
     ]
    }
   ],
   "source": [
    "mypath = '/home/dana_z/handata2/Dana/0761/091518_day1'\n",
    "fileNames = [join(mypath, f) for f in listdir(mypath) if isfile(join(mypath, f)) and f[-4:] == '.tif' and f.find('green')==-1]\n",
    "n_cores = 19\n",
    "pool = mp.Pool(processes=n_cores)\n",
    "#print(fileNames,suffix)\n",
    "MC_allSess(fileNames, '/home/dana_z/HD1/Processed_tifs', '0761_day1', '/home/dana_z/HD1/min_max', '/home/dana_z/HD1', pool)\n",
    "pool.close()"
   ]
  },
  {
   "cell_type": "code",
   "execution_count": null,
   "metadata": {},
   "outputs": [],
   "source": []
  },
  {
   "cell_type": "code",
   "execution_count": null,
   "metadata": {},
   "outputs": [],
   "source": [
    "# TEST THE h5PY FILE FOR ERRORS \n",
    "with h5py.File('/home/dana_z/HD1/Processed_tifs/shifts.hdf5','r') as hf:\n",
    "    print(list(hf['0761_day1']['0003'].keys()))\n",
    "    print(hf['0761_day1']['0003']['yshift'])"
   ]
  },
  {
   "cell_type": "markdown",
   "metadata": {},
   "source": []
  },
  {
   "cell_type": "code",
   "execution_count": 3,
   "metadata": {},
   "outputs": [],
   "source": []
  },
  {
   "cell_type": "code",
   "execution_count": null,
   "metadata": {},
   "outputs": [],
   "source": []
  },
  {
   "cell_type": "code",
   "execution_count": null,
   "metadata": {},
   "outputs": [],
   "source": []
  },
  {
   "cell_type": "code",
   "execution_count": null,
   "metadata": {},
   "outputs": [],
   "source": []
  },
  {
   "cell_type": "code",
   "execution_count": null,
   "metadata": {},
   "outputs": [],
   "source": []
  }
 ],
 "metadata": {
  "kernelspec": {
   "display_name": "Python 3",
   "language": "python",
   "name": "python3"
  },
  "language_info": {
   "codemirror_mode": {
    "name": "ipython",
    "version": 3
   },
   "file_extension": ".py",
   "mimetype": "text/x-python",
   "name": "python",
   "nbconvert_exporter": "python",
   "pygments_lexer": "ipython3",
   "version": "3.7.0"
  }
 },
 "nbformat": 4,
 "nbformat_minor": 2
}
