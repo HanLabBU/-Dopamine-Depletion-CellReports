{
 "cells": [
  {
   "cell_type": "code",
   "execution_count": 1,
   "id": "8e23d2ef",
   "metadata": {},
   "outputs": [],
   "source": [
    "#since noteboke doesn't work in jupiterlabs    %matplotlib notebook \n",
    "%matplotlib inline\n",
    "%load_ext autoreload\n",
    "%autoreload 2"
   ]
  },
  {
   "cell_type": "code",
   "execution_count": 2,
   "id": "f4dac374",
   "metadata": {},
   "outputs": [],
   "source": [
    "import os\n",
    "os.chdir('D:\\\\6OHDA\\\\')\n",
    "#import mpld3\n",
    "#mpld3.enable_notebook()\n",
    "import numpy as np\n",
    "import scipy as sci\n",
    "from scipy import signal\n",
    "from matplotlib import pyplot as plt\n",
    "from matplotlib import gridspec\n",
    "import matplotlib.colors as Mcolors\n",
    "import matplotlib.cm as cmx\n",
    "import sys\n",
    "import h5py\n",
    "from IO import *\n",
    "from utils import *\n",
    "from plotUtils import *\n",
    "from ColorSchems import colorPallet as CP\n",
    "import pptx\n",
    "from pptx import Presentation \n",
    "from pptx.util import Inches\n",
    "from io import BytesIO\n",
    "import re\n",
    "import warnings\n",
    "import pandas as pd\n",
    "import sqlalchemy as db\n",
    "import gc\n",
    "from tqdm import tqdm\n",
    "import seaborn as sns\n",
    "import pywt # wavelet package\n",
    "import matplotlib.cm as cm"
   ]
  },
  {
   "cell_type": "code",
   "execution_count": 3,
   "id": "fc5db262",
   "metadata": {},
   "outputs": [],
   "source": [
    "Files = ['FinalData_6OHDA.h5','FinalData_6OHDA_H.h5','FinalData_6OHDA_H_skip.h5','FinalData_6OHDA_skip.h5']\n",
    "miceList = getMiceList(Files[0])"
   ]
  },
  {
   "cell_type": "code",
   "execution_count": 4,
   "id": "d696ce70",
   "metadata": {},
   "outputs": [],
   "source": [
    "#path to folder where figures should be saved\n",
    "figFolder = 'D:\\\\6OHDA\\\\chapter2\\\\'"
   ]
  },
  {
   "cell_type": "code",
   "execution_count": 5,
   "id": "a44be83a",
   "metadata": {},
   "outputs": [],
   "source": [
    "def periodCalc(day):\n",
    "    if day== 0:\n",
    "        return 'Healthy'\n",
    "    elif day<13:\n",
    "        return 'Acute' #day 1-13\n",
    "    else:\n",
    "        return 'Chronic' #day 14-35"
   ]
  },
  {
   "cell_type": "code",
   "execution_count": 6,
   "id": "319582da",
   "metadata": {},
   "outputs": [
    {
     "data": {
      "image/png": "[encoded data removed]",
      "text/plain": [
       "<Figure size 216x72 with 1 Axes>"
      ]
     },
     "metadata": {
      "needs_background": "light"
     },
     "output_type": "display_data"
    }
   ],
   "source": [
    "# set color pallet:\n",
    "a3 = np.array(sns.color_palette(\"RdBu_r\", n_colors=7))\n",
    "# colorPallet3 =(a3[[2,6,5],:])\n",
    "colorPallet3 =(a3[[2,5,4],:])\n",
    "sns.palplot(sns.color_palette(colorPallet3))"
   ]
  },
  {
   "cell_type": "code",
   "execution_count": 7,
   "id": "68aebc1d",
   "metadata": {},
   "outputs": [],
   "source": [
    "# f = h5py.File('J:\\\\connactivityAnalysis\\\\connMapsMvmt.hdf5','a')\n",
    "connMaps = 'J:\\\\connactivityAnalysis\\\\connMapsMvmt.hdf5'"
   ]
  },
  {
   "cell_type": "markdown",
   "id": "3e3a198e",
   "metadata": {},
   "source": [
    "<h3> Check number of edges in high vs. low mvmt </h3>"
   ]
  },
  {
   "cell_type": "code",
   "execution_count": 14,
   "id": "481d9fc3",
   "metadata": {},
   "outputs": [
    {
     "name": "stderr",
     "output_type": "stream",
     "text": [
      "<ipython-input-14-ff13ebdd971a>:13: H5pyDeprecationWarning: dataset.value has been deprecated. Use dataset[()] instead.\n",
      "  c = f[m][sess]['Pre'][mvmt][cType].value\n",
      "<ipython-input-14-ff13ebdd971a>:16: H5pyDeprecationWarning: dataset.value has been deprecated. Use dataset[()] instead.\n",
      "  d = f[m][sess]['Pre'][mvmt][(cType+'_shuffle')].value\n",
      "<ipython-input-14-ff13ebdd971a>:36: RuntimeWarning: invalid value encountered in long_scalars\n",
      "  tempDict['sigPercent'] = np.nansum(nSig[numred:,:numred]==1)/np.nansum(np.isnan(c[numred:,:numred])==0)\n",
      "<ipython-input-14-ff13ebdd971a>:44: RuntimeWarning: invalid value encountered in long_scalars\n",
      "  tempDict['sigPercent'] = np.nansum(nSig[numred:,numred:]==1)/np.nansum(np.isnan(c[numred:,numred:])==0)\n",
      "<ipython-input-14-ff13ebdd971a>:29: RuntimeWarning: invalid value encountered in long_scalars\n",
      "  tempDict['PercentEdges'] = np.nansum(nSig[:numred,:numred]==1)/np.nansum(np.isnan(c[:numred,:numred])==0)\n"
     ]
    },
    {
     "name": "stdout",
     "output_type": "stream",
     "text": [
      "0761_day31A - highIpsi 14 ()\n",
      "0761_day35L - hiSpeed 14 ()\n",
      "0761_day35L - highIpsi 14 ()\n"
     ]
    },
    {
     "ename": "KeyboardInterrupt",
     "evalue": "",
     "output_type": "error",
     "traceback": [
      "\u001b[1;31m---------------------------------------------------------------------------\u001b[0m",
      "\u001b[1;31mKeyboardInterrupt\u001b[0m                         Traceback (most recent call last)",
      "\u001b[1;32m<ipython-input-14-ff13ebdd971a>\u001b[0m in \u001b[0;36m<module>\u001b[1;34m\u001b[0m\n\u001b[0;32m     15\u001b[0m \u001b[1;33m\u001b[0m\u001b[0m\n\u001b[0;32m     16\u001b[0m                     \u001b[0md\u001b[0m \u001b[1;33m=\u001b[0m \u001b[0mf\u001b[0m\u001b[1;33m[\u001b[0m\u001b[0mm\u001b[0m\u001b[1;33m]\u001b[0m\u001b[1;33m[\u001b[0m\u001b[0msess\u001b[0m\u001b[1;33m]\u001b[0m\u001b[1;33m[\u001b[0m\u001b[1;34m'Pre'\u001b[0m\u001b[1;33m]\u001b[0m\u001b[1;33m[\u001b[0m\u001b[0mmvmt\u001b[0m\u001b[1;33m]\u001b[0m\u001b[1;33m[\u001b[0m\u001b[1;33m(\u001b[0m\u001b[0mcType\u001b[0m\u001b[1;33m+\u001b[0m\u001b[1;34m'_shuffle'\u001b[0m\u001b[1;33m)\u001b[0m\u001b[1;33m]\u001b[0m\u001b[1;33m.\u001b[0m\u001b[0mvalue\u001b[0m\u001b[1;33m\u001b[0m\u001b[1;33m\u001b[0m\u001b[0m\n\u001b[1;32m---> 17\u001b[1;33m                     \u001b[0mb\u001b[0m \u001b[1;33m=\u001b[0m \u001b[0mnp\u001b[0m\u001b[1;33m.\u001b[0m\u001b[0mnanpercentile\u001b[0m\u001b[1;33m(\u001b[0m\u001b[0md\u001b[0m\u001b[1;33m,\u001b[0m\u001b[1;33m[\u001b[0m\u001b[1;36m97.5\u001b[0m\u001b[1;33m,\u001b[0m\u001b[1;36m2.5\u001b[0m\u001b[1;33m]\u001b[0m\u001b[1;33m,\u001b[0m\u001b[0maxis\u001b[0m\u001b[1;33m=\u001b[0m\u001b[1;36m2\u001b[0m\u001b[1;33m)\u001b[0m\u001b[1;33m\u001b[0m\u001b[1;33m\u001b[0m\u001b[0m\n\u001b[0m\u001b[0;32m     18\u001b[0m \u001b[1;33m\u001b[0m\u001b[0m\n\u001b[0;32m     19\u001b[0m                     \u001b[0mnSig\u001b[0m \u001b[1;33m=\u001b[0m \u001b[1;33m(\u001b[0m\u001b[0mc\u001b[0m\u001b[1;33m>\u001b[0m\u001b[0mb\u001b[0m\u001b[1;33m[\u001b[0m\u001b[1;36m0\u001b[0m\u001b[1;33m,\u001b[0m\u001b[1;33m:\u001b[0m\u001b[1;33m,\u001b[0m\u001b[1;33m:\u001b[0m\u001b[1;33m]\u001b[0m\u001b[1;33m)\u001b[0m\u001b[1;33m|\u001b[0m\u001b[1;33m(\u001b[0m\u001b[0mc\u001b[0m\u001b[1;33m<\u001b[0m\u001b[0mb\u001b[0m\u001b[1;33m[\u001b[0m\u001b[1;36m1\u001b[0m\u001b[1;33m,\u001b[0m\u001b[1;33m:\u001b[0m\u001b[1;33m,\u001b[0m\u001b[1;33m:\u001b[0m\u001b[1;33m]\u001b[0m\u001b[1;33m)\u001b[0m\u001b[1;33m\u001b[0m\u001b[1;33m\u001b[0m\u001b[0m\n",
      "\u001b[1;32m<__array_function__ internals>\u001b[0m in \u001b[0;36mnanpercentile\u001b[1;34m(*args, **kwargs)\u001b[0m\n",
      "\u001b[1;32m~\\Miniconda3\\lib\\site-packages\\numpy\\lib\\nanfunctions.py\u001b[0m in \u001b[0;36mnanpercentile\u001b[1;34m(a, q, axis, out, overwrite_input, interpolation, keepdims)\u001b[0m\n\u001b[0;32m   1241\u001b[0m     \u001b[1;32mif\u001b[0m \u001b[1;32mnot\u001b[0m \u001b[0mfunction_base\u001b[0m\u001b[1;33m.\u001b[0m\u001b[0m_quantile_is_valid\u001b[0m\u001b[1;33m(\u001b[0m\u001b[0mq\u001b[0m\u001b[1;33m)\u001b[0m\u001b[1;33m:\u001b[0m\u001b[1;33m\u001b[0m\u001b[1;33m\u001b[0m\u001b[0m\n\u001b[0;32m   1242\u001b[0m         \u001b[1;32mraise\u001b[0m \u001b[0mValueError\u001b[0m\u001b[1;33m(\u001b[0m\u001b[1;34m\"Percentiles must be in the range [0, 100]\"\u001b[0m\u001b[1;33m)\u001b[0m\u001b[1;33m\u001b[0m\u001b[1;33m\u001b[0m\u001b[0m\n\u001b[1;32m-> 1243\u001b[1;33m     return _nanquantile_unchecked(\n\u001b[0m\u001b[0;32m   1244\u001b[0m         a, q, axis, out, overwrite_input, interpolation, keepdims)\n\u001b[0;32m   1245\u001b[0m \u001b[1;33m\u001b[0m\u001b[0m\n",
      "\u001b[1;32m~\\Miniconda3\\lib\\site-packages\\numpy\\lib\\nanfunctions.py\u001b[0m in \u001b[0;36m_nanquantile_unchecked\u001b[1;34m(a, q, axis, out, overwrite_input, interpolation, keepdims)\u001b[0m\n\u001b[0;32m   1366\u001b[0m         \u001b[1;32mreturn\u001b[0m \u001b[0mnp\u001b[0m\u001b[1;33m.\u001b[0m\u001b[0mnanmean\u001b[0m\u001b[1;33m(\u001b[0m\u001b[0ma\u001b[0m\u001b[1;33m,\u001b[0m \u001b[0maxis\u001b[0m\u001b[1;33m,\u001b[0m \u001b[0mout\u001b[0m\u001b[1;33m=\u001b[0m\u001b[0mout\u001b[0m\u001b[1;33m,\u001b[0m \u001b[0mkeepdims\u001b[0m\u001b[1;33m=\u001b[0m\u001b[0mkeepdims\u001b[0m\u001b[1;33m)\u001b[0m\u001b[1;33m\u001b[0m\u001b[1;33m\u001b[0m\u001b[0m\n\u001b[0;32m   1367\u001b[0m \u001b[1;33m\u001b[0m\u001b[0m\n\u001b[1;32m-> 1368\u001b[1;33m     r, k = function_base._ureduce(\n\u001b[0m\u001b[0;32m   1369\u001b[0m         \u001b[0ma\u001b[0m\u001b[1;33m,\u001b[0m \u001b[0mfunc\u001b[0m\u001b[1;33m=\u001b[0m\u001b[0m_nanquantile_ureduce_func\u001b[0m\u001b[1;33m,\u001b[0m \u001b[0mq\u001b[0m\u001b[1;33m=\u001b[0m\u001b[0mq\u001b[0m\u001b[1;33m,\u001b[0m \u001b[0maxis\u001b[0m\u001b[1;33m=\u001b[0m\u001b[0maxis\u001b[0m\u001b[1;33m,\u001b[0m \u001b[0mout\u001b[0m\u001b[1;33m=\u001b[0m\u001b[0mout\u001b[0m\u001b[1;33m,\u001b[0m\u001b[1;33m\u001b[0m\u001b[1;33m\u001b[0m\u001b[0m\n\u001b[0;32m   1370\u001b[0m         \u001b[0moverwrite_input\u001b[0m\u001b[1;33m=\u001b[0m\u001b[0moverwrite_input\u001b[0m\u001b[1;33m,\u001b[0m \u001b[0minterpolation\u001b[0m\u001b[1;33m=\u001b[0m\u001b[0minterpolation\u001b[0m\u001b[1;33m\u001b[0m\u001b[1;33m\u001b[0m\u001b[0m\n",
      "\u001b[1;32m~\\Miniconda3\\lib\\site-packages\\numpy\\lib\\function_base.py\u001b[0m in \u001b[0;36m_ureduce\u001b[1;34m(a, func, **kwargs)\u001b[0m\n\u001b[0;32m   3427\u001b[0m         \u001b[0mkeepdim\u001b[0m \u001b[1;33m=\u001b[0m \u001b[1;33m(\u001b[0m\u001b[1;36m1\u001b[0m\u001b[1;33m,\u001b[0m\u001b[1;33m)\u001b[0m \u001b[1;33m*\u001b[0m \u001b[0ma\u001b[0m\u001b[1;33m.\u001b[0m\u001b[0mndim\u001b[0m\u001b[1;33m\u001b[0m\u001b[1;33m\u001b[0m\u001b[0m\n\u001b[0;32m   3428\u001b[0m \u001b[1;33m\u001b[0m\u001b[0m\n\u001b[1;32m-> 3429\u001b[1;33m     \u001b[0mr\u001b[0m \u001b[1;33m=\u001b[0m \u001b[0mfunc\u001b[0m\u001b[1;33m(\u001b[0m\u001b[0ma\u001b[0m\u001b[1;33m,\u001b[0m \u001b[1;33m**\u001b[0m\u001b[0mkwargs\u001b[0m\u001b[1;33m)\u001b[0m\u001b[1;33m\u001b[0m\u001b[1;33m\u001b[0m\u001b[0m\n\u001b[0m\u001b[0;32m   3430\u001b[0m     \u001b[1;32mreturn\u001b[0m \u001b[0mr\u001b[0m\u001b[1;33m,\u001b[0m \u001b[0mkeepdim\u001b[0m\u001b[1;33m\u001b[0m\u001b[1;33m\u001b[0m\u001b[0m\n\u001b[0;32m   3431\u001b[0m \u001b[1;33m\u001b[0m\u001b[0m\n",
      "\u001b[1;32m~\\Miniconda3\\lib\\site-packages\\numpy\\lib\\nanfunctions.py\u001b[0m in \u001b[0;36m_nanquantile_ureduce_func\u001b[1;34m(a, q, axis, out, overwrite_input, interpolation)\u001b[0m\n\u001b[0;32m   1387\u001b[0m         \u001b[0mresult\u001b[0m \u001b[1;33m=\u001b[0m \u001b[0m_nanquantile_1d\u001b[0m\u001b[1;33m(\u001b[0m\u001b[0mpart\u001b[0m\u001b[1;33m,\u001b[0m \u001b[0mq\u001b[0m\u001b[1;33m,\u001b[0m \u001b[0moverwrite_input\u001b[0m\u001b[1;33m,\u001b[0m \u001b[0minterpolation\u001b[0m\u001b[1;33m)\u001b[0m\u001b[1;33m\u001b[0m\u001b[1;33m\u001b[0m\u001b[0m\n\u001b[0;32m   1388\u001b[0m     \u001b[1;32melse\u001b[0m\u001b[1;33m:\u001b[0m\u001b[1;33m\u001b[0m\u001b[1;33m\u001b[0m\u001b[0m\n\u001b[1;32m-> 1389\u001b[1;33m         result = np.apply_along_axis(_nanquantile_1d, axis, a, q,\n\u001b[0m\u001b[0;32m   1390\u001b[0m                                      overwrite_input, interpolation)\n\u001b[0;32m   1391\u001b[0m         \u001b[1;31m# apply_along_axis fills in collapsed axis with results.\u001b[0m\u001b[1;33m\u001b[0m\u001b[1;33m\u001b[0m\u001b[1;33m\u001b[0m\u001b[0m\n",
      "\u001b[1;32m<__array_function__ internals>\u001b[0m in \u001b[0;36mapply_along_axis\u001b[1;34m(*args, **kwargs)\u001b[0m\n",
      "\u001b[1;32m~\\Miniconda3\\lib\\site-packages\\numpy\\lib\\shape_base.py\u001b[0m in \u001b[0;36mapply_along_axis\u001b[1;34m(func1d, axis, arr, *args, **kwargs)\u001b[0m\n\u001b[0;32m    400\u001b[0m     \u001b[0mbuff\u001b[0m\u001b[1;33m[\u001b[0m\u001b[0mind0\u001b[0m\u001b[1;33m]\u001b[0m \u001b[1;33m=\u001b[0m \u001b[0mres\u001b[0m\u001b[1;33m\u001b[0m\u001b[1;33m\u001b[0m\u001b[0m\n\u001b[0;32m    401\u001b[0m     \u001b[1;32mfor\u001b[0m \u001b[0mind\u001b[0m \u001b[1;32min\u001b[0m \u001b[0minds\u001b[0m\u001b[1;33m:\u001b[0m\u001b[1;33m\u001b[0m\u001b[1;33m\u001b[0m\u001b[0m\n\u001b[1;32m--> 402\u001b[1;33m         \u001b[0mbuff\u001b[0m\u001b[1;33m[\u001b[0m\u001b[0mind\u001b[0m\u001b[1;33m]\u001b[0m \u001b[1;33m=\u001b[0m \u001b[0masanyarray\u001b[0m\u001b[1;33m(\u001b[0m\u001b[0mfunc1d\u001b[0m\u001b[1;33m(\u001b[0m\u001b[0minarr_view\u001b[0m\u001b[1;33m[\u001b[0m\u001b[0mind\u001b[0m\u001b[1;33m]\u001b[0m\u001b[1;33m,\u001b[0m \u001b[1;33m*\u001b[0m\u001b[0margs\u001b[0m\u001b[1;33m,\u001b[0m \u001b[1;33m**\u001b[0m\u001b[0mkwargs\u001b[0m\u001b[1;33m)\u001b[0m\u001b[1;33m)\u001b[0m\u001b[1;33m\u001b[0m\u001b[1;33m\u001b[0m\u001b[0m\n\u001b[0m\u001b[0;32m    403\u001b[0m \u001b[1;33m\u001b[0m\u001b[0m\n\u001b[0;32m    404\u001b[0m     \u001b[1;32mif\u001b[0m \u001b[1;32mnot\u001b[0m \u001b[0misinstance\u001b[0m\u001b[1;33m(\u001b[0m\u001b[0mres\u001b[0m\u001b[1;33m,\u001b[0m \u001b[0mmatrix\u001b[0m\u001b[1;33m)\u001b[0m\u001b[1;33m:\u001b[0m\u001b[1;33m\u001b[0m\u001b[1;33m\u001b[0m\u001b[0m\n",
      "\u001b[1;32m~\\Miniconda3\\lib\\site-packages\\numpy\\lib\\nanfunctions.py\u001b[0m in \u001b[0;36m_nanquantile_1d\u001b[1;34m(arr1d, q, overwrite_input, interpolation)\u001b[0m\n\u001b[0;32m   1405\u001b[0m     \u001b[0mSee\u001b[0m \u001b[0mnanpercentile\u001b[0m \u001b[1;32mfor\u001b[0m \u001b[0mparameter\u001b[0m \u001b[0musage\u001b[0m\u001b[1;33m\u001b[0m\u001b[1;33m\u001b[0m\u001b[0m\n\u001b[0;32m   1406\u001b[0m     \"\"\"\n\u001b[1;32m-> 1407\u001b[1;33m     arr1d, overwrite_input = _remove_nan_1d(arr1d,\n\u001b[0m\u001b[0;32m   1408\u001b[0m         overwrite_input=overwrite_input)\n\u001b[0;32m   1409\u001b[0m     \u001b[1;32mif\u001b[0m \u001b[0marr1d\u001b[0m\u001b[1;33m.\u001b[0m\u001b[0msize\u001b[0m \u001b[1;33m==\u001b[0m \u001b[1;36m0\u001b[0m\u001b[1;33m:\u001b[0m\u001b[1;33m\u001b[0m\u001b[1;33m\u001b[0m\u001b[0m\n",
      "\u001b[1;32m~\\Miniconda3\\lib\\site-packages\\numpy\\lib\\nanfunctions.py\u001b[0m in \u001b[0;36m_remove_nan_1d\u001b[1;34m(arr1d, overwrite_input)\u001b[0m\n\u001b[0;32m    162\u001b[0m     \"\"\"\n\u001b[0;32m    163\u001b[0m \u001b[1;33m\u001b[0m\u001b[0m\n\u001b[1;32m--> 164\u001b[1;33m     \u001b[0mc\u001b[0m \u001b[1;33m=\u001b[0m \u001b[0mnp\u001b[0m\u001b[1;33m.\u001b[0m\u001b[0misnan\u001b[0m\u001b[1;33m(\u001b[0m\u001b[0marr1d\u001b[0m\u001b[1;33m)\u001b[0m\u001b[1;33m\u001b[0m\u001b[1;33m\u001b[0m\u001b[0m\n\u001b[0m\u001b[0;32m    165\u001b[0m     \u001b[0ms\u001b[0m \u001b[1;33m=\u001b[0m \u001b[0mnp\u001b[0m\u001b[1;33m.\u001b[0m\u001b[0mnonzero\u001b[0m\u001b[1;33m(\u001b[0m\u001b[0mc\u001b[0m\u001b[1;33m)\u001b[0m\u001b[1;33m[\u001b[0m\u001b[1;36m0\u001b[0m\u001b[1;33m]\u001b[0m\u001b[1;33m\u001b[0m\u001b[1;33m\u001b[0m\u001b[0m\n\u001b[0;32m    166\u001b[0m     \u001b[1;32mif\u001b[0m \u001b[0ms\u001b[0m\u001b[1;33m.\u001b[0m\u001b[0msize\u001b[0m \u001b[1;33m==\u001b[0m \u001b[0marr1d\u001b[0m\u001b[1;33m.\u001b[0m\u001b[0msize\u001b[0m\u001b[1;33m:\u001b[0m\u001b[1;33m\u001b[0m\u001b[1;33m\u001b[0m\u001b[0m\n",
      "\u001b[1;31mKeyboardInterrupt\u001b[0m: "
     ]
    }
   ],
   "source": [
    "f = h5py.File(connMaps,'r')\n",
    "col_names = ['Mouse','Sess','Day','numred','Period','population','mvmt','Property','corrType']\n",
    "df = pd.DataFrame(columns = col_names)\n",
    "for m in f.keys():\n",
    "    for sess in f[m].keys():\n",
    "        for mvmt in f[m][sess]['Pre'].keys():\n",
    "            try:\n",
    "                numred = f[m][sess].attrs['numRed']\n",
    "                cre = getCreType(Files[1],m)\n",
    "                tempDict = {'Mouse':m,'Sess':sess,'Day':f[m][sess].attrs['day'],\n",
    "                            'numred':numred,'Period':f[m][sess].attrs['period']}\n",
    "                for cType in ['pearson','pearsonF','aSymCorr']:\n",
    "                    c = f[m][sess]['Pre'][mvmt][cType].value \n",
    "                    c[np.tril(c,-1)==0] = np.nan\n",
    "\n",
    "                    d = f[m][sess]['Pre'][mvmt][(cType+'_shuffle')].value\n",
    "                    b = np.nanpercentile(d,[97.5,2.5],axis=2)\n",
    "\n",
    "                    nSig = (c>b[0,:,:])|(c<b[1,:,:])\n",
    "                    cSig = np.copy(c)\n",
    "                    cSig[nSig] = np.nan\n",
    "                    noSig = np.copy(c)\n",
    "                    noSig[~nSig] = np.nan\n",
    "\n",
    "                    if numred > 1:\n",
    "                        tempDict['population'] = cre+'-'+cre\n",
    "                        tempDict['corrType'] = cType\n",
    "                        tempDict['mvmt'] = mvmt\n",
    "                        tempDict['PercentEdges'] = np.nansum(nSig[:numred,:numred]==1)/np.nansum(np.isnan(c[:numred,:numred])==0)\n",
    "                        df2 = pd.DataFrame([tempDict])\n",
    "                        df = pd.concat([df,df2],sort=True)\n",
    "                    if numred > 0:\n",
    "                        tempDict['population'] = cre+'-'+cre\n",
    "                        tempDict['corrType'] = cType\n",
    "                        tempDict['mvmt'] = mvmt\n",
    "                        tempDict['sigPercent'] = np.nansum(nSig[numred:,:numred]==1)/np.nansum(np.isnan(c[numred:,:numred])==0)\n",
    "\n",
    "                        df2 = pd.DataFrame([tempDict])\n",
    "                        df = pd.concat([df,df2],sort=True)                    \n",
    "\n",
    "                    tempDict['population'] = cre+'-'+cre\n",
    "                    tempDict['corrType'] = cType\n",
    "                    tempDict['mvmt'] = mvmt\n",
    "                    tempDict['sigPercent'] = np.nansum(nSig[numred:,numred:]==1)/np.nansum(np.isnan(c[numred:,numred:])==0)\n",
    "                    df2 = pd.DataFrame([tempDict])\n",
    "                    df = pd.concat([df,df2],sort=True)    \n",
    "    # \n",
    "            except Exception as e:\n",
    "                exc_type, exc_obj, exc_tb = sys.exc_info()\n",
    "                print(sess,'-',mvmt,exc_tb.tb_lineno,c.shape)\n",
    "f.close()\n",
    "df.to_csv(figFolder+'mvmtNetWork.csv')"
   ]
  },
  {
   "cell_type": "code",
   "execution_count": 11,
   "id": "fe52000f",
   "metadata": {},
   "outputs": [
    {
     "data": {
      "text/plain": [
       "<KeysViewHDF5 ['aSymCorr', 'aSymCorr_shuffle', 'pearson', 'pearsonF', 'pearsonF_shuffle', 'pearson_shuffle']>"
      ]
     },
     "execution_count": 11,
     "metadata": {},
     "output_type": "execute_result"
    }
   ],
   "source": [
    "f[m][sess]['Pre'][mvmt].keys()"
   ]
  }
 ],
 "metadata": {
  "kernelspec": {
   "display_name": "Python 3",
   "language": "python",
   "name": "python3"
  },
  "language_info": {
   "codemirror_mode": {
    "name": "ipython",
    "version": 3
   },
   "file_extension": ".py",
   "mimetype": "text/x-python",
   "name": "python",
   "nbconvert_exporter": "python",
   "pygments_lexer": "ipython3",
   "version": "3.8.5"
  }
 },
 "nbformat": 4,
 "nbformat_minor": 5
}
